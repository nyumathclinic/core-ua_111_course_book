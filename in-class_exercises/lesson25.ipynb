{
 "cells": [
  {
   "cell_type": "markdown",
   "metadata": {},
   "source": [
    "(lesson25)=\n",
    "# Lesson 25 -  p-value simulations\n",
    "These exercises are to help you check your understanding during class. They will not be collected."
   ]
  },
  {
   "cell_type": "markdown",
   "metadata": {},
   "source": [
    "## Part 1: Find the distances"
   ]
  },
  {
   "cell_type": "markdown",
   "metadata": {
    "heading_collapsed": true
   },
   "source": [
    "### Exercise 0 - Set up\n",
    "* Save your own copy of this notebook by using the menu opetion File > Save As. \n",
    "* Now, **refresh the page**. The red icon in the upper right should no longer be visible. \n",
    "* Run the code in the cell below to set the notebook up for use"
   ]
  },
  {
   "cell_type": "code",
   "execution_count": 7,
   "metadata": {
    "hidden": true
   },
   "outputs": [],
   "source": [
    "# load the dypyr and ggplot2 packages\n",
    "library('dplyr')\n",
    "library('ggplot2')\n",
    "\n",
    "# Resizes all plots to 5 in by 4 in\n",
    "library(repr)\n",
    "options(repr.plot.width=5, repr.plot.height=4)"
   ]
  },
  {
   "cell_type": "markdown",
   "metadata": {},
   "source": [
    "### Exercise 1 - Gender demographics\n",
    "\n",
    "- Load the `berkeley73.csv` data set from the shared data folder. This data frame contains admissions information from UC Berkeley in 1973.\n",
    "- Add columns to the `berkeley` data frame that contain the total number of applicants and the total number of admitted students for each department. \n",
    "- Add columns to the `berkeley` data frame that contain the proportion of each department's applicant pool and admissions that were women and the proportion that were men. (This data assumes a gender binary. We acknowledge that this assumption is incorrect.)\n",
    "- Display the proportions for each department."
   ]
  },
  {
   "cell_type": "code",
   "execution_count": null,
   "metadata": {},
   "outputs": [],
   "source": []
  },
  {
   "cell_type": "markdown",
   "metadata": {},
   "source": [
    "### Exercise 2 - Distance\n",
    "Assume for the moment that all applicants are equally qualified. Under this assumption, we would expect the demographics of the admitted students to match those of the applicant pool. \n",
    "\n",
    "- Compute the distance of each department's admissions demographics from those of the applicant pool. \n",
    "- Which departments admissions demographics are closest to matching those of the applicant pool which are furthest?"
   ]
  },
  {
   "cell_type": "code",
   "execution_count": null,
   "metadata": {},
   "outputs": [],
   "source": []
  },
  {
   "cell_type": "markdown",
   "metadata": {},
   "source": [
    "## Par 2: Largest Distance"
   ]
  },
  {
   "cell_type": "markdown",
   "metadata": {},
   "source": [
    "### Exercise 3 - Simulate admission cycles\n",
    "\n",
    "- Execute the code in the cell below to create the `gender_binary` data frame. \n",
    "- Use `gender_binary` and `sample_n()` to simulate 1000 admissions cycles for department F where the applicant pool has the same demographics and the same number of students are admitted. "
   ]
  },
  {
   "cell_type": "code",
   "execution_count": null,
   "metadata": {},
   "outputs": [],
   "source": []
  },
  {
   "cell_type": "markdown",
   "metadata": {},
   "source": [
    "### Exercise 4 - Demographics of simulations\n",
    "- For each simulation, compute the proportion of admitted students that were women and the proportion that were men. "
   ]
  },
  {
   "cell_type": "code",
   "execution_count": null,
   "metadata": {},
   "outputs": [],
   "source": []
  },
  {
   "cell_type": "markdown",
   "metadata": {},
   "source": [
    "### Exercise 5 - p-value\n",
    "- For each of the simulations compute the distance between the demographics of the admitted students and those of the applicant pool. \n",
    "- Use the simulation to find the p-value for the admissions demographics for department F. "
   ]
  },
  {
   "cell_type": "code",
   "execution_count": null,
   "metadata": {},
   "outputs": [],
   "source": []
  }
 ],
 "metadata": {
  "kernelspec": {
   "display_name": "R",
   "language": "R",
   "name": "ir"
  },
  "language_info": {
   "codemirror_mode": "r",
   "file_extension": ".r",
   "mimetype": "text/x-r-source",
   "name": "R",
   "pygments_lexer": "r",
   "version": "4.0.5"
  }
 },
 "nbformat": 4,
 "nbformat_minor": 4
}
