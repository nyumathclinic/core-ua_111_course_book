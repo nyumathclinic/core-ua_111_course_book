{
 "cells": [
  {
   "cell_type": "markdown",
   "metadata": {},
   "source": [
    "# Lesson 2 Variables and Vectors\n",
    "These exercises are to help you check your understanding during class. They will not be collected.\n",
    "\n",
    "The content for this lesson is in the following subsections of the Base R section of the course book:\n",
    "- [Variables](base_r:variables)\n",
    "- [Data Types](base_r:data_types) \n",
    "- [Vectors](base_r:vectors) \n",
    "- [Numerical Vectors](base_r:numerical_vectors)"
   ]
  },
  {
   "cell_type": "markdown",
   "metadata": {},
   "source": [
    "## Useful links\n",
    "The following links are also in the Content tool on Brightspace.\n",
    "- [Course Book](https://nyumathclinic.github.io/core-ua_111_course_book/)\n",
    "- [Class notes](https://nyu0-my.sharepoint.com/:o:/g/personal/cc5948_nyu_edu/EthbeMeNnc5Cgs34RxBsLPMBHkNqPkzLwJCN7OM63sW1mg?e=cAb9oe)\n",
    "- [Poll Everywhere login](https://www.polleverywhere.com/auth/saml/nyu_main)\n",
    "- [Poll Everywhere respond](https://pollev.com/clarkson)"
   ]
  },
  {
   "cell_type": "markdown",
   "metadata": {},
   "source": [
    "## Part 1: Using variables"
   ]
  },
  {
   "cell_type": "markdown",
   "metadata": {},
   "source": [
    "### Exercise 0 - Open this notebook on the Jupyter Hub\n",
    "* Click on the rocket icon in the upper right of this page of the course book. \n",
    "* Click the JupyterHub link.\n",
    "* If prompted, log in to the Jupyter Hub with your NYU account.\n",
    "* If prompted to select a kernel, choose *R [conda env:FDTD]*."
   ]
  },
  {
   "cell_type": "markdown",
   "metadata": {},
   "source": [
    "### Exercise 1: Random number\n",
    "The code in the cell below generates a random number between 0 and 10 and stores it in the variable `random_number`.\n",
    "- Run the code in the cell below.\n",
    "- Use a different code cell to output the value of random_number.\n",
    "- Run the code in the cell below a second time.\n",
    "- Run your code a second time. The value of `random_number` should be different this time."
   ]
  },
  {
   "cell_type": "code",
   "execution_count": 1,
   "metadata": {
    "deletable": false,
    "editable": false
   },
   "outputs": [],
   "source": [
    "# You cannot edit this cell. \n",
    "# Notice that R gives no output when you assign values to variables.\n",
    "# You can see that the cell has been run if there is a number in the brackets: In [].\n",
    "\n",
    "random_number <- runif(1,0,10) # generates a random number between 0 and 10"
   ]
  },
  {
   "cell_type": "code",
   "execution_count": null,
   "metadata": {},
   "outputs": [],
   "source": []
  },
  {
   "cell_type": "markdown",
   "metadata": {},
   "source": [
    "### Exercise 2: Birth year\n",
    "Ainsley was born on January 1st 2015. \n",
    "- Store Ainsley's birth year in the variable `birth_year`.\n",
    "- Use `birth_year` to compute the year when Ainsley will turn 21.\n",
    "- Use `birth_year` to compute how old Ainsley will be in 2050.\n",
    "- Summarize your findings in a sentence or two in a markdown cell."
   ]
  },
  {
   "cell_type": "code",
   "execution_count": null,
   "metadata": {},
   "outputs": [],
   "source": []
  },
  {
   "cell_type": "markdown",
   "metadata": {},
   "source": []
  },
  {
   "cell_type": "markdown",
   "metadata": {},
   "source": [
    "## Part 2: Building Vectors"
   ]
  },
  {
   "cell_type": "markdown",
   "metadata": {},
   "source": [
    "### Exercise 3: Boroughs\n",
    "Create a vector that contains the names of the five boroughs of New York city:\n",
    "- Brooklyn\n",
    "- Bronx\n",
    "- Manhattan\n",
    "- Queens\n",
    "- Staten Island"
   ]
  },
  {
   "cell_type": "code",
   "execution_count": null,
   "metadata": {},
   "outputs": [],
   "source": []
  },
  {
   "cell_type": "markdown",
   "metadata": {},
   "source": [
    "### Exercise 4: Dollars and cents\n",
    "Create a vector that contains all the amounts of money that you can make with five quarters. Format the amounts using decimals and no dollar signs eg. write $5.75$ for five dollars and 75 cents."
   ]
  },
  {
   "cell_type": "code",
   "execution_count": null,
   "metadata": {},
   "outputs": [],
   "source": []
  },
  {
   "cell_type": "markdown",
   "metadata": {},
   "source": [
    "### Exercise 5: Count to 100\n",
    "Create a vector that contains the whole numbers from 1 to 100. "
   ]
  },
  {
   "cell_type": "code",
   "execution_count": null,
   "metadata": {},
   "outputs": [],
   "source": []
  },
  {
   "cell_type": "markdown",
   "metadata": {},
   "source": [
    "### Exercise 4: Check the type\n",
    "Use `typeof()` to check the data type of the entries in each of the vectors from this part."
   ]
  },
  {
   "cell_type": "code",
   "execution_count": null,
   "metadata": {},
   "outputs": [],
   "source": []
  },
  {
   "cell_type": "markdown",
   "metadata": {},
   "source": [
    "## Part 3: Working with vectors"
   ]
  },
  {
   "cell_type": "markdown",
   "metadata": {},
   "source": [
    "### Exercise 5: Counting by fives\n",
    "Without typing out the individual entries, create a vector whose entries are the following numbers:\n",
    "10 15 20 25 30 35 40 45 50 55."
   ]
  },
  {
   "cell_type": "code",
   "execution_count": null,
   "metadata": {},
   "outputs": [],
   "source": []
  },
  {
   "cell_type": "markdown",
   "metadata": {
    "slideshow": {
     "slide_type": "slide"
    }
   },
   "source": [
    "### Exercise 6: Ice cream sale!!!\n",
    "\n",
    "An ice cream truck sells many different types of ice cream. The prices of each type of ice cream are stored in a vector called `ice_cream_prices`in the code cell below. Today the ice cream is on sale! The amount that each item is discounted is stored in the vector called `discounts`. The order of the discounts corresponds to the order of the prices. \n",
    "\n",
    "- Run the code cell below to store the values of the ice cream prices and discounts in vectors.\n",
    "- Create a new vector with the sale prices of each item and store the vector in a variable called `sale_prices`.\n",
    "- Output the values in `sale_prices`."
   ]
  },
  {
   "cell_type": "code",
   "execution_count": 1,
   "metadata": {
    "deletable": false,
    "editable": false
   },
   "outputs": [],
   "source": [
    "# You cannot edit this cell. \n",
    "# Notice that R gives no output when you assign values to variables.\n",
    "# You can see that the cell has been exicuted if there is a number in the brackets: In [].\n",
    "\n",
    "ice_cream_prices <- c(1.25, 3, 5.99, 1.75, 6.75, 4.99, 7.09, 3.55, 2)\n",
    "discounts <- c(0.25, 1, 0.50, 0.5, 1, 0, 1, 0.25, 0)"
   ]
  },
  {
   "cell_type": "code",
   "execution_count": null,
   "metadata": {},
   "outputs": [],
   "source": []
  }
 ],
 "metadata": {
  "celltoolbar": "Edit Metadata",
  "kernelspec": {
   "display_name": "R",
   "language": "R",
   "name": "ir"
  },
  "language_info": {
   "codemirror_mode": "r",
   "file_extension": ".r",
   "mimetype": "text/x-r-source",
   "name": "R",
   "pygments_lexer": "r",
   "version": "4.0.5"
  }
 },
 "nbformat": 4,
 "nbformat_minor": 4
}
