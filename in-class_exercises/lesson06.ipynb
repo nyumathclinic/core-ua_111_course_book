{
 "cells": [
  {
   "cell_type": "markdown",
   "metadata": {},
   "source": [
    "(in-class_exercises:lesson06)=\n",
    "# Lesson 6 -  Group, summarize and visualize\n",
    "These exercises are to help you check your understanding during class. They will not be collected."
   ]
  },
  {
   "cell_type": "markdown",
   "metadata": {},
   "source": [
    "## Part 1 - Review and setup "
   ]
  },
  {
   "cell_type": "markdown",
   "metadata": {},
   "source": [
    "### Exercise 1 - Set up\n",
    "\n",
    "There is a CSV file called `NYC_Dog_Licensing.csv` in the `~/shared/data` folder. As the name indicates, this file contains information about New York City dog licenses. This data comes from the [NYC OpenData project](https://opendata.cityofnewyork.us/).\n",
    "\n",
    "- Import the NYC Dog Licenses data **from the shared folder** using the `read.csv()` function and store it in an R data frame called `nyc_dogs`.\n",
    "- In a separate code cell, load the dplyr package by running the ```library(dplyr)```command. You can ignore the warnings about masked objects.\n",
    "- In a separate code cell, use ```rename()``` to rename the `AnimalBirthMonth` column in `nyc_dogs` to `AnimalBirthYear`. If you run this command multiple times, you will get an error message, because on subsequent runs there will be no `AnimalBirthMonth` column to rename. \n",
    "- Use `names()` to verify that you succeeded in renaming the column. \n",
    "\n",
    "```rename(DATA_FRAME, NEW_COLUMN_NAME = OLD_COLUMN_NAME)```"
   ]
  },
  {
   "cell_type": "code",
   "execution_count": null,
   "metadata": {},
   "outputs": [],
   "source": []
  },
  {
   "cell_type": "code",
   "execution_count": null,
   "metadata": {},
   "outputs": [],
   "source": []
  },
  {
   "cell_type": "code",
   "execution_count": null,
   "metadata": {},
   "outputs": [],
   "source": []
  },
  {
   "cell_type": "markdown",
   "metadata": {},
   "source": [
    "### Exercise 2 - Most popular breeds\n",
    "\n",
    "Use the ```group_by()``` and ```summarize()``` functions to answer the following questions. \n",
    "\n",
    "- Create a summary table that contains the number dogs in each breed in the `nyc_dogs` data sets.\n",
    "- Sort the table so that the most popular breeds are at the top. \n",
    "- Use `head()` to extract the first five rose from the table. \n",
    "- Store the truncated summary table in a variable called `most_popular_breeds`\n",
    "- Answer the question below using the `most_popular_breeds` data frame.\n",
    "\n",
    "What is the most popular breed of dog in the nyc_dogs data set?"
   ]
  },
  {
   "cell_type": "code",
   "execution_count": null,
   "metadata": {},
   "outputs": [],
   "source": []
  },
  {
   "cell_type": "markdown",
   "metadata": {},
   "source": [
    "### Excercise 3 - Average age\n",
    "\n",
    "- Use ```mutate()``` to add a new column called `Age` to the data frame. This column should contain an approximation of each dog's age.\n",
    "- Use `ungroup()` to remove all groupings from nyc_dogs.\n",
    "- Create a summary table that shows the average age of both the female dogs and the male dogs in the nyc_dogs data frame. Name the average age column `AverageAge`.\n",
    "- Store the summary table in a variable called `avg_age_by_gender'.\n",
    "- Out put the summary table\n",
    "\n",
    "```ungroup(DATA_FRAME)```"
   ]
  },
  {
   "cell_type": "code",
   "execution_count": null,
   "metadata": {},
   "outputs": [],
   "source": []
  },
  {
   "cell_type": "markdown",
   "metadata": {},
   "source": [
    "## Part 2 - Bar charts"
   ]
  },
  {
   "cell_type": "markdown",
   "metadata": {},
   "source": [
    "### Exercise 4 - Meet the functions\n",
    "\n",
    " - Load the ```ggplot2``` package by excuting the ```library('ggplot2')``` command. You can ignore the warning about overwritten methods.\n",
    " - Look at the documentation for the ```aes()``` function. What term is \"aes\" a shorting of? Write your answer in a markdown cell."
   ]
  },
  {
   "cell_type": "code",
   "execution_count": null,
   "metadata": {},
   "outputs": [],
   "source": []
  },
  {
   "cell_type": "markdown",
   "metadata": {},
   "source": [
    "### Exercise 5 - Visualize popular breeds\n",
    "\n",
    "The goal of this exercise is to produce a visual representation of the information in the summarize table from exercise 2.\n",
    "\n",
    "- Execute the code in the first cell below to tell R to our preferred dimensions for plots.\n",
    "- Replace the words in all caps in the second cell below so that it produce a bar chart that shows the number of dogs in each of the five most popular breeds. \n",
    "\n",
    "```ggplot(DATA_FRAME, aes(x = COLUMN_NAME_1, y = COLUMN_NAME_2)) + geom_col()```"
   ]
  },
  {
   "cell_type": "code",
   "execution_count": 10,
   "metadata": {},
   "outputs": [],
   "source": [
    "# Resizes all plots to 5 in by 4 in\n",
    "library(repr)\n",
    "options(repr.plot.width=4, repr.plot.height=3)"
   ]
  },
  {
   "cell_type": "code",
   "execution_count": null,
   "metadata": {},
   "outputs": [],
   "source": [
    "ggplot(DATA_FRAME, aes(x = COLUMN_NAME_1, y = COLUMN_NAME_2)) + geom_col()"
   ]
  },
  {
   "cell_type": "markdown",
   "metadata": {},
   "source": [
    "### Exercise 6 - Reorder the bars\n",
    "\n",
    "The breed names in the bar chart in exercise 5 are ordered alphabetically. The chart would be more effective if the breeds were ordered according to popularity. This can be achieved using `reorder()` inside the aesthetic mapping. \n",
    "\n",
    "```reorder(AXIS_VALUES, SORTING_VALUES)```\n",
    "Putting a minus sign in front of the `SORTING_VALUES` column name reverses the sorting order. \n",
    "\n",
    "- Copy your code from exercise 5.\n",
    "- Replace  replace `BreedName` in the aesthetic mapping with `reorder(BreedName, Count)` or `reorder(BreedName, -Count)` depending on which order you want. "
   ]
  },
  {
   "cell_type": "code",
   "execution_count": null,
   "metadata": {},
   "outputs": [],
   "source": []
  },
  {
   "cell_type": "markdown",
   "metadata": {},
   "source": [
    "### Exercise 7 - Visualize average ages\n",
    "\n",
    "The goal of this exercise is to produce a visual representation of the information in the summarize table from exercise 3.\n",
    "\n",
    "- Create a bar chart that shows the average age of male and female dogs in the nyc_dots data set. "
   ]
  },
  {
   "cell_type": "markdown",
   "metadata": {},
   "source": [
    "<div class=\"admonition tip\">\n",
    "<div class=\"title\" style=\"background: lightyellow; padding: 10px\">Style Tip</div>\n",
    "<p>While using bar charts to represent averages is a common practice, other types of visualizations like box plots and histograms like do a much better job of representing how numerical values depend on categorical variables. </p>\n",
    "</div>"
   ]
  },
  {
   "cell_type": "code",
   "execution_count": null,
   "metadata": {},
   "outputs": [],
   "source": []
  }
 ],
 "metadata": {
  "kernelspec": {
   "display_name": "R",
   "language": "R",
   "name": "ir"
  },
  "language_info": {
   "codemirror_mode": "r",
   "file_extension": ".r",
   "mimetype": "text/x-r-source",
   "name": "R",
   "pygments_lexer": "r",
   "version": "4.0.5"
  }
 },
 "nbformat": 4,
 "nbformat_minor": 4
}
