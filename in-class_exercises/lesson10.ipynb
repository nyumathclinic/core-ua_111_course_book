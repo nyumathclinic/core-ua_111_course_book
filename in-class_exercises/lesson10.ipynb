{
 "cells": [
  {
   "cell_type": "markdown",
   "metadata": {},
   "source": [
    "(lab10)=\n",
    "# Lesson 10 -  Practice with conditionals\n",
    "These exercises are to help you check your understanding during class. They will not be collected."
   ]
  },
  {
   "cell_type": "markdown",
   "metadata": {},
   "source": [
    "## Useful links\n",
    "The following links are also in the Content tool on Brightspace.\n",
    "- [Course Book](https://nyumathclinic.github.io/core-ua_111_course_book/)\n",
    "- [Class notes](https://nyu0-my.sharepoint.com/:o:/g/personal/cc5948_nyu_edu/EthbeMeNnc5Cgs34RxBsLPMBHkNqPkzLwJCN7OM63sW1mg?e=cAb9oe)\n",
    "- [Poll Everywhere login](https://www.polleverywhere.com/auth/saml/nyu_main)\n",
    "- [Poll Everywhere respond](https://pollev.com/clarkson)"
   ]
  },
  {
   "cell_type": "markdown",
   "metadata": {},
   "source": [
    "## Part 1 - Models with two regions\n"
   ]
  },
  {
   "attachments": {},
   "cell_type": "markdown",
   "metadata": {},
   "source": [
    "### Exercise 1 - Model 1\n",
    "\n",
    "The following plot uses shading to inicate whcih points are special. The grid lines where the dark and light regions meet, are included in the light region.\n",
    "\n",
    "<img src='../img/L10_model_1_plot.png' alt='plot with two shaded regions' width=400>\n",
    "\n",
    "Your goal is to create code that can tell you whether or not any point in the plot is special You may assume that the x-coordinates satisfy the indequaltiy $$0\\le x \\le 10$$ and that the y-coordinates satisfy the indequality $$0\\le y\\le 2.5$$. Here is a step by step guide to doing that:\n",
    "- List three points that are special and three points that are not special. You will use these to test your code.\n",
    "- In plain English, describe how you can tell whether or not a point is special.\n",
    "- Sketch a decision tree that ends in 'Yes' if the point is special and 'No' if it is not special. \n",
    "- Implement your decision tree in the code cell below by filling in the blanks.\n",
    "- Test your code against your six points by uncommenting them one at a time. Does it work as expected?"
   ]
  },
  {
   "cell_type": "code",
   "execution_count": null,
   "metadata": {},
   "outputs": [],
   "source": [
    "## Use Ctrl + / to comment and uncomment blocks\n",
    "# Yes Points\n",
    "# # first\n",
    "# x <- \n",
    "# y <- \n",
    "\n",
    "# # second\n",
    "# x <- \n",
    "# y <- \n",
    "\n",
    "# # third\n",
    "# x <- \n",
    "# y <- \n",
    "\n",
    "# No Points\n",
    "# # first\n",
    "# x <- \n",
    "# y <- \n",
    "\n",
    "# # second\n",
    "# x <- \n",
    "# y <- \n",
    "\n",
    "# # third\n",
    "# x <- \n",
    "# y <- \n",
    "\n",
    "if ( ) { # write your Boolean expression between the parentheses\n",
    "    answer <-  # output if the Boolean expression is TRUE\n",
    "} else {\n",
    "    answer <-  # output if the Boolean expression is FALSE\n",
    "}\n",
    "answer # prints the value of answer"
   ]
  },
  {
   "attachments": {},
   "cell_type": "markdown",
   "metadata": {},
   "source": [
    "### Exercise 2- Model 2\n",
    "\n",
    "The following plot uses shading to inicate whcih points are special. The grid lines where the dark and light regions meet, are included in the light region. \n",
    "\n",
    "<img src='../img/L10_model_2_plot.png' alt='plot with two shaded regions' width=400>\n",
    "\n",
    "Your goal is to create code that can tell you whether or not any point in the plot is special You may assume that the x-coordinates satisfy the indequaltiy $$0\\le x \\le 10$$ and that the y-coordinates satisfy the indequality $$0\\le y\\le 2.5$$. Here is a step by step guide to doing that:\n",
    "- List three points that are special and three points that are not special. You will use these to test your code.\n",
    "- In plain English, describe how you can tell whether or not a point is special.\n",
    "- Sketch a decision tree that ends in 'Yes' if the point is special and 'No' if it is not special. \n",
    "- Implement your decision tree in the code cell using `if() {} else {}`.\n",
    "- Test your code against your six pointss by uncommenting them one at a time. Does it work as expected?"
   ]
  },
  {
   "cell_type": "code",
   "execution_count": null,
   "metadata": {},
   "outputs": [],
   "source": [
    "## Use Ctrl + / to comment and uncomment blocks\n",
    "# Yes Points\n",
    "# # first\n",
    "# x <- \n",
    "# y <- \n",
    "\n",
    "# # second\n",
    "# x <- \n",
    "# y <- \n",
    "\n",
    "# # third\n",
    "# x <- \n",
    "# y <- \n",
    "\n",
    "# No Points\n",
    "# # first\n",
    "# x <- \n",
    "# y <- \n",
    "\n",
    "# # second\n",
    "# x <- \n",
    "# y <- \n",
    "\n",
    "# # third\n",
    "# x <- \n",
    "# y <- \n",
    "\n",
    "if ( ) { # write your Boolean expression between the parentheses\n",
    "    answer <-  # output if the Boolean expression is TRUE\n",
    "} else {\n",
    "    answer <-  # output if the Boolean expression is FALSE\n",
    "}\n",
    "answer # prints the value of answer"
   ]
  },
  {
   "cell_type": "markdown",
   "metadata": {},
   "source": [
    "## Part 2 - Models with multiple regions"
   ]
  },
  {
   "attachments": {},
   "cell_type": "markdown",
   "metadata": {},
   "source": [
    "### Exercise 3 - Model 3\n",
    "\n",
    "The following plot uses shading to indicate which points are special. The grid lines where the dark and light regions meet, are included in the light region. \n",
    "\n",
    "<img src='../img/L10_model_3_plot.png' alt='plot with four shaded regions' width=400>\n",
    "\n",
    "Your goal is to create code that can tell you whether or not any point in the plot is special You may assume that the x-coordinates satisfy the inequality $$0\\le x \\le 10$$ and that the y-coordinates satisfy the inequality $$0\\le y\\le 2.5$$. Here is a step by step guide to doing that:\n",
    "- List three points that are special and three points that are not special. You will use these to test your code.\n",
    "- In plain English, describe how you can tell whether or not a point is special.\n",
    "- Sketch a decision tree that ends in 'Yes' if the point is special and 'No' if it is not special. \n",
    "- Implement your decision tree in the code cell using `if() {} else if () {} else {}`. \n",
    "- Test your code against your six pointss by uncommenting them one at a time. Does it work as expected?"
   ]
  },
  {
   "cell_type": "code",
   "execution_count": null,
   "metadata": {},
   "outputs": [],
   "source": [
    "## Use Ctrl + / to comment and uncomment blocks\n",
    "# Yes Points\n",
    "# # first\n",
    "# x <- \n",
    "# y <- \n",
    "\n",
    "# # second\n",
    "# x <- \n",
    "# y <- \n",
    "\n",
    "# # third\n",
    "# x <- \n",
    "# y <- \n",
    "\n",
    "# No Points\n",
    "# # first\n",
    "# x <- \n",
    "# y <- \n",
    "\n",
    "# # second\n",
    "# x <- \n",
    "# y <- \n",
    "\n",
    "# # third\n",
    "# x <- \n",
    "# y <- \n",
    "\n",
    "if (  ) { # write your first Boolean expression between the parentheses\n",
    "    answer <-  # output if the first Boolean expression is TRUE\n",
    "} else if( ) { # write your second Boolean expression between the parentheses\n",
    "    answer <-  # output if the first Boolean expression is FALSE and the second is TRUE\n",
    "} else {\n",
    "    answer <-  # output if both Boolean expressions are FALSE\n",
    "}\n",
    "answer # prints the value of answer"
   ]
  }
 ],
 "metadata": {
  "celltoolbar": "Attachments",
  "kernelspec": {
   "display_name": "R",
   "language": "R",
   "name": "ir"
  },
  "language_info": {
   "codemirror_mode": "r",
   "file_extension": ".r",
   "mimetype": "text/x-r-source",
   "name": "R",
   "pygments_lexer": "r",
   "version": "4.0.5"
  }
 },
 "nbformat": 4,
 "nbformat_minor": 4
}
