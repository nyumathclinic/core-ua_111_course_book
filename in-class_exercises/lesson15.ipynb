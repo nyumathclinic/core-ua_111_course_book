{
 "cells": [
  {
   "cell_type": "markdown",
   "metadata": {},
   "source": [
    "(lesson15)=\n",
    "# Lesson 15: Nearest neighbors\n",
    "These exercises are to help you check your understanding during class. They will not be collected."
   ]
  },
  {
   "cell_type": "markdown",
   "metadata": {},
   "source": [
    "## Part 1: knn classifier"
   ]
  },
  {
   "cell_type": "markdown",
   "metadata": {},
   "source": [
    "### Exercise 1 - Set up\n",
    "\n",
    " - Run the code in the first cell below to load the packages that that we will use today.\n",
    " - Run the code in the second cell below to load the cancer data and convert the Class variable into a factor.\n",
    " - Create a data frame called `training_data` with the first 400 observations from the cancer data. \n",
    " - Split the remaining observations from the cancer data set in two two data frames of approximately the same size called `test_knn` and `test_rect`."
   ]
  },
  {
   "cell_type": "code",
   "execution_count": 1,
   "metadata": {},
   "outputs": [
    {
     "name": "stderr",
     "output_type": "stream",
     "text": [
      "Warning message:\n",
      "“package ‘dplyr’ was built under R version 4.0.5”\n"
     ]
    }
   ],
   "source": [
    "# load the dypyr and ggplot2 packages\n",
    "library('dplyr' , warn.conflicts=FALSE)\n",
    "library('class')"
   ]
  },
  {
   "cell_type": "code",
   "execution_count": 2,
   "metadata": {},
   "outputs": [],
   "source": [
    "cancer <- read.csv('~/shared/data/cancer.csv')\n",
    "cancer$Class <- factor(cancer$Class,\n",
    "                           levels= c(0,1),\n",
    "                           labels=c('benign', 'cancer')\n",
    "                          )"
   ]
  },
  {
   "cell_type": "code",
   "execution_count": null,
   "metadata": {},
   "outputs": [],
   "source": []
  },
  {
   "cell_type": "markdown",
   "metadata": {},
   "source": [
    "### Exercise 2 - Five nearest neighbors\n",
    "- Create a data frame called `training_attributes` that contains only the Clump.Thickness and Marginal.Adhesion variables from `training_data`.\n",
    "- Create a variable called `training_lables` that contains the values of the Class column from `training_data`.\n",
    "- Create a data frame called `test_attributes` that contains only the Clump.Thickness and Marginal.Adhesion variables from `test_knn`.\n",
    "- Use `knn()` to find the predicted classes fro the test data based on each observations five nearest neighbors. Store the predicted classes as a column called `Prediction` in `test_knn`.\n",
    "- Use `head()` to look at the first four predicted classes.\n",
    "\n",
    "`knn(TRAININGATTRIBUTES, TESTATTREIBUTES, TRAININGLABELS, k = NUMBER)`"
   ]
  },
  {
   "cell_type": "code",
   "execution_count": null,
   "metadata": {},
   "outputs": [],
   "source": []
  },
  {
   "cell_type": "markdown",
   "metadata": {},
   "source": [
    "## Part 2: Compare effectiveness"
   ]
  },
  {
   "cell_type": "markdown",
   "metadata": {},
   "source": [
    "### Exercise 3 - Measure effectiveness\n",
    "\n",
    "- Compute the for measures of effectiveness for the knn predictions form Exercise 2.\n",
    "\n",
    "$$\\text{Accuracy} = \\frac{\\text{# correct predictions}}{\\text{# of observations}}$$\n",
    "\n",
    "$$\\text{Precision} = \\frac{\\text{# true positive predictions}}{\\text{# of positive predictions}}$$\n",
    "\n",
    "$$\\text{True positive rate} = \\frac{\\text{# true positive predictions}}{\\text{# positive cases}}$$\n",
    "\n",
    "$$\\text{True negative rate}  = \\frac{\\text{# true negative predictions}}{\\text{# negative cases}}$$"
   ]
  },
  {
   "cell_type": "code",
   "execution_count": null,
   "metadata": {},
   "outputs": [],
   "source": []
  },
  {
   "cell_type": "markdown",
   "metadata": {},
   "source": [
    "### Exercise 4 - Effectiveness of if-statement classifier\n",
    "\n",
    "We would like to compare the effectiveness of the if-statement classifier from Lesson 14 to that of the knn classifier from Exercise 2. We also want to avoid over fitting the classifiers to the test data. To do this, we will measure the effectiveness of each classifier on different halves of the test data. \n",
    "\n",
    "In Exercise 3, you measured the effectiveness of the knn classifier on one half of the test data, `test_knn`. In lesson 14, we measured the effectiveness of our if-statement classifier on all of the test data. \n",
    "\n",
    "- Alter the code from lesson 14 so that it measures the effectiveness of the if-statement classifier on the other half of the test data, `test_rect`.\n",
    "- Compare the effectiveness measures of these two classifiers. It what ways is the if-statement classifier stronger which what ways is the knn classifier stronger?"
   ]
  },
  {
   "cell_type": "code",
   "execution_count": 19,
   "metadata": {},
   "outputs": [],
   "source": [
    "# Code from Lesson 14\n",
    "\n",
    "# a is the marginal adhesion\n",
    "# t is the thickness\n",
    "\n",
    "classifier <- function (a, t){\n",
    "    if(a>4){\n",
    "        Class <- 'cancer' \n",
    "    } else if (t > 6){\n",
    "        Class <- 'cancer'\n",
    "    } else {\n",
    "        Class <- 'benign'\n",
    "    }\n",
    "    Class\n",
    "}\n",
    "classifier <- Vectorize(classifier)\n",
    "\n",
    "test <- mutate(test, Prediction = classifier(Marginal.Adhesion, Clump.Thickness))\n",
    "test <- select(test, Marginal.Adhesion, Clump.Thickness, Prediction, Class)"
   ]
  },
  {
   "cell_type": "code",
   "execution_count": 20,
   "metadata": {},
   "outputs": [
    {
     "data": {
      "text/html": [
       "0.957746478873239"
      ],
      "text/latex": [
       "0.957746478873239"
      ],
      "text/markdown": [
       "0.957746478873239"
      ],
      "text/plain": [
       "[1] 0.9577465"
      ]
     },
     "metadata": {},
     "output_type": "display_data"
    },
    {
     "data": {
      "text/html": [
       "0.939393939393939"
      ],
      "text/latex": [
       "0.939393939393939"
      ],
      "text/markdown": [
       "0.939393939393939"
      ],
      "text/plain": [
       "[1] 0.9393939"
      ]
     },
     "metadata": {},
     "output_type": "display_data"
    },
    {
     "data": {
      "text/html": [
       "0.885714285714286"
      ],
      "text/latex": [
       "0.885714285714286"
      ],
      "text/markdown": [
       "0.885714285714286"
      ],
      "text/plain": [
       "[1] 0.8857143"
      ]
     },
     "metadata": {},
     "output_type": "display_data"
    },
    {
     "data": {
      "text/html": [
       "0.981308411214953"
      ],
      "text/latex": [
       "0.981308411214953"
      ],
      "text/markdown": [
       "0.981308411214953"
      ],
      "text/plain": [
       "[1] 0.9813084"
      ]
     },
     "metadata": {},
     "output_type": "display_data"
    }
   ],
   "source": [
    "# Code from Lesson 14 cnt.\n",
    "class <- test$Class\n",
    "prediction <- test$Prediction\n",
    "\n",
    "fn <- sum(class != prediction & prediction == 'benign') ## false negative\n",
    "fp <- sum(class != prediction & prediction == 'cancer') ## false positive\n",
    "tn <- sum(class == prediction & prediction == 'benign') ## true negative\n",
    "tp <- sum(class == prediction & prediction == 'cancer') ## true posive\n",
    "\n",
    "# Accuracy \n",
    "(tp + tn)/ (tp + tn + fp + fn)\n",
    "\n",
    "# Precision\n",
    "tp / (tp + fp)\n",
    "\n",
    "# True positive rate\n",
    "tp / (tp + fn)\n",
    "\n",
    "# True negative rate\n",
    "tn / (tn + fp)"
   ]
  }
 ],
 "metadata": {
  "kernelspec": {
   "display_name": "R",
   "language": "R",
   "name": "ir"
  },
  "language_info": {
   "codemirror_mode": "r",
   "file_extension": ".r",
   "mimetype": "text/x-r-source",
   "name": "R",
   "pygments_lexer": "r",
   "version": "4.0.5"
  }
 },
 "nbformat": 4,
 "nbformat_minor": 4
}
