{
 "cells": [
  {
   "cell_type": "markdown",
   "metadata": {},
   "source": [
    "(lesson14)=\n",
    "# Lesson 14: Classifier metrics\n",
    "These exercises are to help you check your understanding during class. They will not be collected."
   ]
  },
  {
   "cell_type": "markdown",
   "metadata": {},
   "source": [
    "## Useful links\n",
    "The following links are also in the Content tool on Brightspace.\n",
    "- [Course Book](https://nyumathclinic.github.io/core-ua_111_course_book/)\n",
    "- [Class notes](https://nyu0-my.sharepoint.com/:o:/g/personal/cc5948_nyu_edu/EthbeMeNnc5Cgs34RxBsLPMBHkNqPkzLwJCN7OM63sW1mg?e=cAb9oe)\n",
    "- [Poll Everywhere login](https://www.polleverywhere.com/auth/saml/nyu_main)\n",
    "- [Poll Everywhere respond](https://pollev.com/clarkson)"
   ]
  },
  {
   "cell_type": "markdown",
   "metadata": {},
   "source": [
    "## Part 1: Count accuracy types"
   ]
  },
  {
   "cell_type": "markdown",
   "metadata": {},
   "source": [
    "### Exercise 1: Summarize accuracy types\n",
    "- Execute the code from Lesson 13 in the cell below to complete the following tasks:\n",
    "    - load the cancer data set\n",
    "    - split the data\n",
    "    - create a classifier function\n",
    "    - use the classifier to predict the class of the observations in the `test` data frame\n",
    "    - create an accuracy type function\n",
    "    - use the accuracy type function to label the predictions in `test`. \n",
    "- Create a summary table showing the number of predictions with each of the four accuracy types. "
   ]
  },
  {
   "cell_type": "code",
   "execution_count": 1,
   "metadata": {},
   "outputs": [
    {
     "name": "stderr",
     "output_type": "stream",
     "text": [
      "\n",
      "Attaching package: ‘dplyr’\n",
      "\n",
      "\n",
      "The following objects are masked from ‘package:stats’:\n",
      "\n",
      "    filter, lag\n",
      "\n",
      "\n",
      "The following objects are masked from ‘package:base’:\n",
      "\n",
      "    intersect, setdiff, setequal, union\n",
      "\n",
      "\n",
      "Warning message in file(file, \"rt\"):\n",
      "“cannot open file '/home/corrin/shared/data/cancer.csv': No such file or directory”\n"
     ]
    },
    {
     "ename": "ERROR",
     "evalue": "Error in file(file, \"rt\"): cannot open the connection\n",
     "output_type": "error",
     "traceback": [
      "Error in file(file, \"rt\"): cannot open the connection\nTraceback:\n",
      "1. read.csv(\"~/shared/data/cancer.csv\")",
      "2. read.table(file = file, header = header, sep = sep, quote = quote, \n .     dec = dec, fill = fill, comment.char = comment.char, ...)",
      "3. file(file, \"rt\")"
     ]
    }
   ],
   "source": [
    "library(dplyr)\n",
    "cancer <- read.csv('~/shared/data/cancer.csv')\n",
    "cancer <- mutate(cancer, Class = factor(\n",
    "                                    Class, \n",
    "                                    levels = c(0,1), \n",
    "                                    labels = c('benign', 'cancer')\n",
    "                                    )\n",
    "                 )\n",
    "\n",
    "### Split data\n",
    "training <- head(cancer,400)\n",
    "test <- tail(cancer, nrow(cancer)- 400)\n",
    "\n",
    "### Classifier function\n",
    "# a is the marginal adhesion\n",
    "# t is the thickness\n",
    "classifier <- function (a, t){\n",
    "    if(a>4){\n",
    "        Class <- 'cancer' \n",
    "    } else if (t > 6){\n",
    "        Class <- 'cancer'\n",
    "    } else {\n",
    "        Class <- 'benign'\n",
    "    }\n",
    "    Class\n",
    "}\n",
    "classifier <- Vectorize(classifier)\n",
    "\n",
    "### Make predictions\n",
    "test <- test %>%\n",
    "        mutate(\n",
    "            Prediction = classifier(\n",
    "                                    Marginal.Adhesion, \n",
    "                                    Clump.Thickness\n",
    "                                    )\n",
    "            ) %>%\n",
    "        select( \n",
    "               Marginal.Adhesion, \n",
    "               Clump.Thickness, \n",
    "               Prediction, \n",
    "               Class\n",
    "              )\n",
    "              \n",
    "### Accuracy type function\n",
    "# c is the class\n",
    "# p is the prediction\n",
    "accuracy_type <- function(c,p){\n",
    "    if (c == p){\n",
    "        tf <- 'true'\n",
    "    } else {\n",
    "        tf <- 'false'\n",
    "    }\n",
    "    \n",
    "    if (p == 'cancer'){\n",
    "        pn <- 'positive'\n",
    "    } else {\n",
    "        pn <- 'negative'\n",
    "    }\n",
    "    paste(tf,pn)\n",
    "}\n",
    "accuracy_type <- Vectorize(accuracy_type)\n",
    "\n",
    "\n",
    "### Label accuracy type\n",
    "test <- mutate(test, Accuracy = accuracy_type(Class, Prediction))\n",
    "\n",
    "head(test,3)"
   ]
  },
  {
   "cell_type": "code",
   "execution_count": null,
   "metadata": {},
   "outputs": [],
   "source": []
  },
  {
   "cell_type": "markdown",
   "metadata": {},
   "source": [
    "### Exercise 2: Count accuracy types with boolean expressions\n",
    "- Use sums of boolean expressions to find the number of predictions in `test` with each of the four accuracy types: true positive, true negative, false positive, false negative. \n",
    "- Store these values in variables with descriptive names. \n",
    "- Output the values and verify that they are the same as those in the summary table from the previous exercise."
   ]
  },
  {
   "cell_type": "code",
   "execution_count": null,
   "metadata": {},
   "outputs": [],
   "source": []
  },
  {
   "cell_type": "markdown",
   "metadata": {},
   "source": [
    "## Part 2: Classifier metrics"
   ]
  },
  {
   "cell_type": "markdown",
   "metadata": {},
   "source": [
    "### Exercise 3: Accuracy and Precision\n",
    "Find the accuracy and precision of the predictions made in Exercise 1.\n",
    "$$\\text{Accuracy} = \\frac{\\text{# correct predictions}}{\\text{# of observations}}$$"
   ]
  },
  {
   "cell_type": "code",
   "execution_count": null,
   "metadata": {},
   "outputs": [],
   "source": []
  },
  {
   "cell_type": "markdown",
   "metadata": {},
   "source": [
    "$$\\text{Precision} = \\frac{\\text{# true positive predictions}}{\\text{# of positive predictions}}$$"
   ]
  },
  {
   "cell_type": "code",
   "execution_count": null,
   "metadata": {},
   "outputs": [],
   "source": []
  },
  {
   "cell_type": "markdown",
   "metadata": {},
   "source": [
    "### Exercise 4: True positive / negative rate\n",
    "Find the true positive rate and true negative rate of the predictions made in Exercise 1.\n",
    "$$\\text{True positive rate} = \\frac{\\text{# true positive predictions}}{\\text{# positive cases}}$$"
   ]
  },
  {
   "cell_type": "code",
   "execution_count": null,
   "metadata": {},
   "outputs": [],
   "source": []
  },
  {
   "cell_type": "markdown",
   "metadata": {},
   "source": [
    "$$\\text{True negative rate}  = \\frac{\\text{# true negative predictions}}{\\text{# negative cases}}$$"
   ]
  },
  {
   "cell_type": "code",
   "execution_count": null,
   "metadata": {},
   "outputs": [],
   "source": []
  }
 ],
 "metadata": {
  "celltoolbar": "Attachments",
  "kernelspec": {
   "display_name": "R",
   "language": "R",
   "name": "ir"
  },
  "language_info": {
   "codemirror_mode": "r",
   "file_extension": ".r",
   "mimetype": "text/x-r-source",
   "name": "R",
   "pygments_lexer": "r",
   "version": "4.0.5"
  }
 },
 "nbformat": 4,
 "nbformat_minor": 4
}
