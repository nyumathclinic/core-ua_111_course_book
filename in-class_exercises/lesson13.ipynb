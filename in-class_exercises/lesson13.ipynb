{
 "cells": [
  {
   "cell_type": "markdown",
   "metadata": {},
   "source": [
    "(lesson13)=\n",
    "# Lesson 13: Evaluating a classifier\n",
    "These exercises are to help you check your understanding during class. They will not be collected."
   ]
  },
  {
   "cell_type": "markdown",
   "metadata": {},
   "source": []
  },
  {
   "cell_type": "markdown",
   "metadata": {},
   "source": [
    "## Part 1: Readable Predictions"
   ]
  },
  {
   "cell_type": "markdown",
   "metadata": {},
   "source": [
    "### Exercise 1: Load data and make it more readable\n",
    "- Load the data in the cancer.csv file in the shared data folder.\n",
    "- Use `factor()` to make the `Class` variable in the cancer data more human readable. Recall that lumps with Class 0 are benign and lumps with Class 1 are cancerous."
   ]
  },
  {
   "cell_type": "code",
   "execution_count": null,
   "metadata": {},
   "outputs": [],
   "source": []
  },
  {
   "cell_type": "markdown",
   "metadata": {},
   "source": [
    "### Exercise 2: Split data and Classify \n",
    "\n",
    "In lesson 12, you split the cancer data into a training data set and a test data set. Then, you created a classifier function and used it to predict the class of the observations in the test data set. In Exercise 1 above, you change the values in the Class variable of the cancer data set to be more human readable. \n",
    "\n",
    "- Copy the following code from lesson 12 into the code cell below. \n",
    "- Alter the code so that the Predictions column is also more human readable. You can do this by changing the classifier function or using `factor()`.\n",
    "\n",
    "<pre><code>training &lt;- head(cancer, 400)\n",
    "test &lt;- tail(nrow(cancer)-400)\n",
    "\n",
    "# a is the marginal adhesion\n",
    "# t is the thickness\n",
    "\n",
    "classifier &lt;- function (a, t){\n",
    "    if(a>4){\n",
    "        Class &lt;- 1\n",
    "    } else if (t &gt; 6){\n",
    "        Class &lt;- 1\n",
    "    } else {\n",
    "        Class &lt;- 0\n",
    "    }\n",
    "    Class\n",
    "}\n",
    "classifier &lt;- Vectorize(classifier)\n",
    "\n",
    "test &lt;- mutate(test, Prediction = classifier(Marginal.Adhesion, Clump.Thickness))\n",
    "test %&gt;% \n",
    "    select(Marginal.Adhesion, Clump.Thickness, Prediction, Class)\n",
    "    head()\n",
    "</pre></code>"
   ]
  },
  {
   "cell_type": "code",
   "execution_count": null,
   "metadata": {},
   "outputs": [],
   "source": []
  },
  {
   "cell_type": "markdown",
   "metadata": {},
   "source": [
    "## Part 2 Accuracy"
   ]
  },
  {
   "cell_type": "markdown",
   "metadata": {},
   "source": [
    "### Exercise 3: Accuracy type function\n",
    "- Create a function that gives the accuracy type (true / false positive / negative) of an observation based on the values of the Class and Prediction variables. \n",
    "- Test your function against the four possible pairs of Class and Prediction values.\n",
    "\n",
    "Hint: You may find the `paste()` function helpful, but it is not necessary. "
   ]
  },
  {
   "cell_type": "code",
   "execution_count": null,
   "metadata": {},
   "outputs": [],
   "source": []
  },
  {
   "cell_type": "markdown",
   "metadata": {},
   "source": [
    "### Exercise 4: Accuracy type column\n",
    "- Use your function from the previous exercise to fill in a column called `Accuracy` in the test data set. \n",
    "- Create a summary table with the count of each of the four accuracy types\n",
    "\n",
    "Hint: Don't forget to vectorize!"
   ]
  },
  {
   "cell_type": "code",
   "execution_count": null,
   "metadata": {},
   "outputs": [],
   "source": []
  }
 ],
 "metadata": {
  "celltoolbar": "Attachments",
  "kernelspec": {
   "display_name": "R",
   "language": "R",
   "name": "ir"
  },
  "language_info": {
   "codemirror_mode": "r",
   "file_extension": ".r",
   "mimetype": "text/x-r-source",
   "name": "R",
   "pygments_lexer": "r",
   "version": "4.0.5"
  }
 },
 "nbformat": 4,
 "nbformat_minor": 4
}
