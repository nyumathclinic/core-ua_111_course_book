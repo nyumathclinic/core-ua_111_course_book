{
 "cells": [
  {
   "cell_type": "markdown",
   "metadata": {},
   "source": [
    "(lesson22)=\n",
    "# Lesson 22:  Bootstrap sampling\n",
    "These exercises are to help you check your understanding during class. They will not be collected."
   ]
  },
  {
   "cell_type": "markdown",
   "metadata": {},
   "source": [
    "## Part 1: Bootstrap"
   ]
  },
  {
   "cell_type": "markdown",
   "metadata": {},
   "source": [
    "### Example 1: Preparing to Bootstrap\n",
    "- Load the `zoombinis` data set from the shared data folder. \n",
    "- Use `sample_n()` to create a data frame called `survey` that contains 500 randomly selected observations from the zoombinis data set. \n",
    "- Find the average age of the zoombinis in your survey and compare it with the average age of the whole zoombini population."
   ]
  },
  {
   "cell_type": "code",
   "execution_count": null,
   "metadata": {},
   "outputs": [],
   "source": []
  },
  {
   "cell_type": "markdown",
   "metadata": {},
   "source": [
    "### Exercise 2: How many trials? How many samples?\n",
    "\n",
    "It is recommended that your bootstrap simulation include $n^2$ trials where $n$ is the number of observations. However, the recommended number of trials can be impractically large, so sometimes we choose to run fewer trials. The number of trials in your your bootstrap simulation should be at least $n\\cdot \\log (n)$. \n",
    "\n",
    "- Store the number of observations in your survey in the variable `nobs`.\n",
    "- Compute the recommended number and minimum number of trials for a bootstrap simulation on your survey.\n",
    "- Choose the number of trials that you will perform and store the number in the `ntrials` variable. \n",
    "- Compute the total number of samples that you will need for all of the trials and store the number in the `total` variable."
   ]
  },
  {
   "cell_type": "markdown",
   "metadata": {},
   "source": [
    "### Exercise 3: Sample and sort into trials\n",
    "- Create a data frame called `all_samples` that contains `total` many observations randomly chosen from `survey` with replacement. You can reduce memory use by first selecting only the `age` column from survey.\n",
    "- Add a column called `trial` to `all_samples` that contains a number between 1 and `ntrials` indicating the trial to which observation belongs. Remember that every trial should have `nobs` many observations. "
   ]
  },
  {
   "cell_type": "code",
   "execution_count": null,
   "metadata": {},
   "outputs": [],
   "source": []
  },
  {
   "cell_type": "markdown",
   "metadata": {},
   "source": [
    "### Exercise 4: Summarize\n",
    "- Create a summary table called `bootstrap` that contains the following columns:\n",
    "    - `trial` the trial number\n",
    "    - `count` the number of observations in the trial\n",
    "    - `avg_age` the average age of the Zoombinis in the trial\n",
    "- Look at the first few rows of `bootstrap` to verify that each trial has `nobs` many observations and that the averages ages are close in value.\n",
    "-  Plot the distribution of the average ages and verify that the distribution looks normal."
   ]
  },
  {
   "cell_type": "code",
   "execution_count": null,
   "metadata": {},
   "outputs": [],
   "source": []
  }
 ],
 "metadata": {
  "kernelspec": {
   "display_name": "R",
   "language": "R",
   "name": "ir"
  },
  "language_info": {
   "codemirror_mode": "r",
   "file_extension": ".r",
   "mimetype": "text/x-r-source",
   "name": "R",
   "pygments_lexer": "r",
   "version": "4.0.5"
  }
 },
 "nbformat": 4,
 "nbformat_minor": 4
}
