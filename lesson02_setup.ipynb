{
 "cells": [
  {
   "cell_type": "markdown",
   "metadata": {},
   "source": [
    "# Lesson 2 Variables and Vectors\n",
    "These exercises are to help you check your understanding during class. They will not be collected.\n",
    "\n",
    "The content for this lesson is in the following subsections of the Base R section of the course book:\n",
    "- [Variables](base_r:variables)\n",
    "- [Data Types](base_r:data_types) \n",
    "- [Vectors](base_r:vectors) \n",
    "- [Numerical Vectors](base_r:numerical_vectors)"
   ]
  },
  {
   "cell_type": "markdown",
   "metadata": {},
   "source": [
    "## Useful links\n",
    "### Class notes\n",
    "Link on Brightspace or<br>\n",
    "Tiny URL: https://tinyurl.com/Fall21CORE111\n",
    "\n",
    "\n",
    "### Poll Everywhere\n",
    "The following links are also on NYU Classes<br>\n",
    "Login: https://www.polleverywhere.com/auth/saml/nyu_main<br>\n",
    "Respond: https://pollev.com/clarkson<br>"
   ]
  },
  {
   "cell_type": "markdown",
   "metadata": {},
   "source": [
    "## Part 1: Using variables"
   ]
  },
  {
   "cell_type": "markdown",
   "metadata": {},
   "source": [
    "### Exercise 0 - Access notebook and copy it\n",
    "* Save your own copy of this notebook by using the menu opetion File > Save As. \n",
    "* Now, **refresh the page**. The red icon in the upper right should no longer be visible. "
   ]
  },
  {
   "cell_type": "markdown",
   "metadata": {},
   "source": [
    "### Exercise 1: Random number\n",
    "The code in the cell below generates a random number between 0 and 10 and stores it in the variable `random_number`.\n",
    "- Execute the code in the cell below.\n",
    "- Use a different code cell to output the value of random_number.\n",
    "- Execute the code in the cell below a second time.\n",
    "- Execute your code a second time. The value of `random_number` should be different this time."
   ]
  },
  {
   "cell_type": "code",
   "execution_count": 12,
   "metadata": {
    "deletable": false,
    "editable": false
   },
   "outputs": [],
   "source": [
    "# You cannot edit this cell. \n",
    "# Notice that R gives no output when you assign values to variables.\n",
    "# You can see that the cell has been exicuted if there is a number in the brackets: In [].\n",
    "\n",
    "random_number <- runif(1,0,10) # generates a random number between 0 and 10"
   ]
  },
  {
   "cell_type": "code",
   "execution_count": 13,
   "metadata": {},
   "outputs": [
    {
     "data": {
      "text/html": [
       "4.57962623797357"
      ],
      "text/latex": [
       "4.57962623797357"
      ],
      "text/markdown": [
       "4.57962623797357"
      ],
      "text/plain": [
       "[1] 4.579626"
      ]
     },
     "metadata": {},
     "output_type": "display_data"
    }
   ],
   "source": [
    "random_number"
   ]
  },
  {
   "cell_type": "markdown",
   "metadata": {},
   "source": [
    "### Exercise 2: Birth year\n",
    "Ainsley was born on January 1st 2015. \n",
    "- Store Ainsley's birth year in the variable `birth_year`.\n",
    "- Use `birth_year` to compute the year when Ainsley will turn 21.\n",
    "- Use `birth_year` to compute how old Ainsley will be in 2050.\n",
    "- Summarize your findings in a sentence or two in a markdown cell."
   ]
  },
  {
   "cell_type": "code",
   "execution_count": null,
   "metadata": {},
   "outputs": [],
   "source": []
  },
  {
   "cell_type": "markdown",
   "metadata": {},
   "source": []
  },
  {
   "cell_type": "code",
   "execution_count": 8,
   "metadata": {},
   "outputs": [
    {
     "data": {
      "text/html": [
       "2036"
      ],
      "text/latex": [
       "2036"
      ],
      "text/markdown": [
       "2036"
      ],
      "text/plain": [
       "[1] 2036"
      ]
     },
     "metadata": {},
     "output_type": "display_data"
    },
    {
     "data": {
      "text/html": [
       "35"
      ],
      "text/latex": [
       "35"
      ],
      "text/markdown": [
       "35"
      ],
      "text/plain": [
       "[1] 35"
      ]
     },
     "metadata": {},
     "output_type": "display_data"
    }
   ],
   "source": [
    "birth_year <- 2015\n",
    "birth_year + 21\n",
    "2050 - birth_year "
   ]
  },
  {
   "cell_type": "markdown",
   "metadata": {},
   "source": [
    "Ainsley will turn 21 in 2036 and will be 35 in 2050. "
   ]
  },
  {
   "cell_type": "markdown",
   "metadata": {},
   "source": [
    "## Part 2: Building Vectors"
   ]
  },
  {
   "cell_type": "markdown",
   "metadata": {},
   "source": [
    "### Exercise 3: Boroughs\n",
    "Create a vector that contains the names of the five boroughs of New York city:\n",
    "- Brooklyn\n",
    "- Bronx\n",
    "- Manhattan\n",
    "- Queens\n",
    "- Staten Island"
   ]
  },
  {
   "cell_type": "code",
   "execution_count": 1,
   "metadata": {},
   "outputs": [
    {
     "data": {
      "text/html": [
       "<style>\n",
       ".list-inline {list-style: none; margin:0; padding: 0}\n",
       ".list-inline>li {display: inline-block}\n",
       ".list-inline>li:not(:last-child)::after {content: \"\\00b7\"; padding: 0 .5ex}\n",
       "</style>\n",
       "<ol class=list-inline><li>'Brooklyn'</li><li>'Bronx'</li><li>'Manhattan'</li><li>'Queens'</li><li>'Staten Island'</li></ol>\n"
      ],
      "text/latex": [
       "\\begin{enumerate*}\n",
       "\\item 'Brooklyn'\n",
       "\\item 'Bronx'\n",
       "\\item 'Manhattan'\n",
       "\\item 'Queens'\n",
       "\\item 'Staten Island'\n",
       "\\end{enumerate*}\n"
      ],
      "text/markdown": [
       "1. 'Brooklyn'\n",
       "2. 'Bronx'\n",
       "3. 'Manhattan'\n",
       "4. 'Queens'\n",
       "5. 'Staten Island'\n",
       "\n",
       "\n"
      ],
      "text/plain": [
       "[1] \"Brooklyn\"      \"Bronx\"         \"Manhattan\"     \"Queens\"       \n",
       "[5] \"Staten Island\""
      ]
     },
     "metadata": {},
     "output_type": "display_data"
    }
   ],
   "source": [
    "c('Brooklyn',\n",
    "'Bronx',\n",
    "'Manhattan',\n",
    "'Queens',\n",
    "'Staten Island')"
   ]
  },
  {
   "cell_type": "markdown",
   "metadata": {},
   "source": [
    "### Exercise 4: Dollars and cents\n",
    "Create a vector that contains all the amounts of money that you can make with five quarters. Format the amounts using decimals and no dollar signs eg. write $5.75$ for five dollars and 75 cents."
   ]
  },
  {
   "cell_type": "code",
   "execution_count": 3,
   "metadata": {},
   "outputs": [
    {
     "data": {
      "text/html": [
       "<style>\n",
       ".list-inline {list-style: none; margin:0; padding: 0}\n",
       ".list-inline>li {display: inline-block}\n",
       ".list-inline>li:not(:last-child)::after {content: \"\\00b7\"; padding: 0 .5ex}\n",
       "</style>\n",
       "<ol class=list-inline><li>0.25</li><li>0.5</li><li>0.75</li><li>1</li><li>1.25</li></ol>\n"
      ],
      "text/latex": [
       "\\begin{enumerate*}\n",
       "\\item 0.25\n",
       "\\item 0.5\n",
       "\\item 0.75\n",
       "\\item 1\n",
       "\\item 1.25\n",
       "\\end{enumerate*}\n"
      ],
      "text/markdown": [
       "1. 0.25\n",
       "2. 0.5\n",
       "3. 0.75\n",
       "4. 1\n",
       "5. 1.25\n",
       "\n",
       "\n"
      ],
      "text/plain": [
       "[1] 0.25 0.50 0.75 1.00 1.25"
      ]
     },
     "metadata": {},
     "output_type": "display_data"
    }
   ],
   "source": [
    "# Solution 1: type each value\n",
    "c(0.25,0.5,0.75,1,1.25)"
   ]
  },
  {
   "cell_type": "code",
   "execution_count": 4,
   "metadata": {},
   "outputs": [
    {
     "data": {
      "text/html": [
       "<style>\n",
       ".list-inline {list-style: none; margin:0; padding: 0}\n",
       ".list-inline>li {display: inline-block}\n",
       ".list-inline>li:not(:last-child)::after {content: \"\\00b7\"; padding: 0 .5ex}\n",
       "</style>\n",
       "<ol class=list-inline><li>0.25</li><li>0.5</li><li>0.75</li><li>1</li><li>1.25</li></ol>\n"
      ],
      "text/latex": [
       "\\begin{enumerate*}\n",
       "\\item 0.25\n",
       "\\item 0.5\n",
       "\\item 0.75\n",
       "\\item 1\n",
       "\\item 1.25\n",
       "\\end{enumerate*}\n"
      ],
      "text/markdown": [
       "1. 0.25\n",
       "2. 0.5\n",
       "3. 0.75\n",
       "4. 1\n",
       "5. 1.25\n",
       "\n",
       "\n"
      ],
      "text/plain": [
       "[1] 0.25 0.50 0.75 1.00 1.25"
      ]
     },
     "metadata": {},
     "output_type": "display_data"
    }
   ],
   "source": [
    "# Solution 2: multiply c(1,2,3,4,5) by 0.25\n",
    "1:5*0.25"
   ]
  },
  {
   "cell_type": "markdown",
   "metadata": {},
   "source": [
    "### Exercise 5: Count to 100\n",
    "Create a vector that contains the whole numbers from 1 to 100. "
   ]
  },
  {
   "cell_type": "code",
   "execution_count": null,
   "metadata": {},
   "outputs": [],
   "source": [
    "1:100"
   ]
  },
  {
   "cell_type": "markdown",
   "metadata": {},
   "source": [
    "### Exercise 4: Check the type\n",
    "Use `typeof()` to check the data type of the entries in each of the vectors from this part."
   ]
  },
  {
   "cell_type": "code",
   "execution_count": 5,
   "metadata": {},
   "outputs": [
    {
     "data": {
      "text/html": [
       "'character'"
      ],
      "text/latex": [
       "'character'"
      ],
      "text/markdown": [
       "'character'"
      ],
      "text/plain": [
       "[1] \"character\""
      ]
     },
     "metadata": {},
     "output_type": "display_data"
    },
    {
     "data": {
      "text/html": [
       "'double'"
      ],
      "text/latex": [
       "'double'"
      ],
      "text/markdown": [
       "'double'"
      ],
      "text/plain": [
       "[1] \"double\""
      ]
     },
     "metadata": {},
     "output_type": "display_data"
    },
    {
     "data": {
      "text/html": [
       "'integer'"
      ],
      "text/latex": [
       "'integer'"
      ],
      "text/markdown": [
       "'integer'"
      ],
      "text/plain": [
       "[1] \"integer\""
      ]
     },
     "metadata": {},
     "output_type": "display_data"
    }
   ],
   "source": [
    "typeof(c('Brooklyn', 'Bronx', 'Manhattan', 'Queens', 'Staten Island'))\n",
    "typeof(c(0.25,0.5,0.75,1,1.25))\n",
    "typeof(1:100)"
   ]
  },
  {
   "cell_type": "markdown",
   "metadata": {},
   "source": [
    "## Part 3: Working with vectors"
   ]
  },
  {
   "cell_type": "markdown",
   "metadata": {},
   "source": [
    "### Exercise 5: Counting by fives\n",
    "Without typing out the individual entries, create a list whose entries are the following numbers:\n",
    "10 15 20 25 30 35 40 45 50 55."
   ]
  },
  {
   "cell_type": "code",
   "execution_count": null,
   "metadata": {},
   "outputs": [],
   "source": []
  },
  {
   "cell_type": "code",
   "execution_count": null,
   "metadata": {},
   "outputs": [],
   "source": [
    "# multiply the whole numbers 2 to 11 by 5\n",
    "(2:11)*5"
   ]
  },
  {
   "cell_type": "markdown",
   "metadata": {
    "slideshow": {
     "slide_type": "slide"
    }
   },
   "source": [
    "### Exercise 6: Ice cream sale!!!\n",
    "\n",
    "An icecream truck sells many different types of ice cream. The prices of each type of ice cream are stored in a list called `ice_cream_prices`in the code cell below. Today the icecream is on sale! The amount that each item is discounted is stored in the list called `discounts`. The order of the discounts corresponds to the order of the prices. \n",
    "\n",
    "- Create a new list with the sale prices of each item and store the list in a variable called `sale_prices`.\n",
    "- Output the values in `sale_prices`."
   ]
  },
  {
   "cell_type": "code",
   "execution_count": 15,
   "metadata": {
    "deletable": false,
    "editable": false
   },
   "outputs": [],
   "source": [
    "# You cannot edit this cell. \n",
    "# Notice that R gives no output when you assign values to variables.\n",
    "# You can see that the cell has been exicuted if there is a number in the brackets: In [].\n",
    "\n",
    "ice_cream_prices <- c(1.25, 3, 5.99, 1.75, 6.75, 4.99, 7.09, 3.55, 2)\n",
    "discounts <- c(0.25, 1, 0.50, 0.5, 1, 0, 1, 0.25, 0)"
   ]
  },
  {
   "cell_type": "code",
   "execution_count": 16,
   "metadata": {},
   "outputs": [
    {
     "data": {
      "text/html": [
       "<style>\n",
       ".list-inline {list-style: none; margin:0; padding: 0}\n",
       ".list-inline>li {display: inline-block}\n",
       ".list-inline>li:not(:last-child)::after {content: \"\\00b7\"; padding: 0 .5ex}\n",
       "</style>\n",
       "<ol class=list-inline><li>1</li><li>2</li><li>5.49</li><li>1.25</li><li>5.75</li><li>4.99</li><li>6.09</li><li>3.3</li><li>2</li></ol>\n"
      ],
      "text/latex": [
       "\\begin{enumerate*}\n",
       "\\item 1\n",
       "\\item 2\n",
       "\\item 5.49\n",
       "\\item 1.25\n",
       "\\item 5.75\n",
       "\\item 4.99\n",
       "\\item 6.09\n",
       "\\item 3.3\n",
       "\\item 2\n",
       "\\end{enumerate*}\n"
      ],
      "text/markdown": [
       "1. 1\n",
       "2. 2\n",
       "3. 5.49\n",
       "4. 1.25\n",
       "5. 5.75\n",
       "6. 4.99\n",
       "7. 6.09\n",
       "8. 3.3\n",
       "9. 2\n",
       "\n",
       "\n"
      ],
      "text/plain": [
       "[1] 1.00 2.00 5.49 1.25 5.75 4.99 6.09 3.30 2.00"
      ]
     },
     "metadata": {},
     "output_type": "display_data"
    }
   ],
   "source": [
    "sale_prices <- ice_cream_prices - discounts\n",
    "sale_prices"
   ]
  },
  {
   "cell_type": "markdown",
   "metadata": {},
   "source": [
    "### Exercises 7: More ice cream \n",
    "Use `sale_prices` from the previous exercise and R functions to determine the answers to the following questions:\n",
    "* How many types of ice cream does the truck sell?\n",
    "* What is the cost of the most expensive frozen treat?\n",
    "* What is the cost of the cheapest ice cream option?\n",
    "* What is the average cost of an item from the truck rounded to the nearest cent?"
   ]
  },
  {
   "cell_type": "code",
   "execution_count": null,
   "metadata": {},
   "outputs": [],
   "source": []
  },
  {
   "cell_type": "code",
   "execution_count": null,
   "metadata": {},
   "outputs": [],
   "source": [
    "length(sale_prices) # number of types of ice cream\n",
    "max(sale_prices) # cost of most expensive\n",
    "min(sale_prices) # cheapest price\n",
    "mean(sale_prices) # average cost"
   ]
  }
 ],
 "metadata": {
  "celltoolbar": "Edit Metadata",
  "kernelspec": {
   "display_name": "R",
   "language": "R",
   "name": "ir"
  },
  "language_info": {
   "codemirror_mode": "r",
   "file_extension": ".r",
   "mimetype": "text/x-r-source",
   "name": "R",
   "pygments_lexer": "r",
   "version": "4.0.5"
  }
 },
 "nbformat": 4,
 "nbformat_minor": 4
}
