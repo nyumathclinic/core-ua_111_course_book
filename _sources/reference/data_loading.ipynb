{
 "cells": [
  {
   "cell_type": "markdown",
   "id": "826a16a5",
   "metadata": {},
   "source": [
    "(loading)=\n",
    "# Loading data"
   ]
  },
  {
   "cell_type": "markdown",
   "id": "3a378c6e",
   "metadata": {},
   "source": [
    "## Built-in data sets\n",
    "R contains a number of built-in data sets. You can learn more about these data sets by executing `?datasets` in a code cell. The built-in data sets are accessed using their names. One such data set is called in the `airquality`. It contains daily air quality measurements in New York City from May to September in 1973."
   ]
  },
  {
   "cell_type": "markdown",
   "id": "862d2b4d",
   "metadata": {},
   "source": [
    "(loading:from_file)=\n",
    "## Loading data from a file\n",
    "We can load data from a file on the Jupyter hub into R. To do this, we must first describe the file and its location to R."
   ]
  },
  {
   "cell_type": "markdown",
   "id": "fbb950a5",
   "metadata": {},
   "source": [
    "### File extensions\n",
    "The *file extension* is the part of the file name after the dot. It indicates the format of the file. The computer uses this information to determine what program to use when opening the file. In this class, we will mostly be working with two file types: Jupyter notebooks (`.ipynb`) and Comma Separated Values data files (`.csv`).  CSV files are text files containing data. They have one line for each row of the data and the entries in each row are separated by commas."
   ]
  },
  {
   "cell_type": "markdown",
   "id": "00f062bc",
   "metadata": {},
   "source": [
    "<div class=\"admonition warning\">\n",
    "<div class=\"title\" style=\"background: pink; padding: 10px\">Warning</div>\n",
    "    <p><b>File extensions are important.</b> If you were to rename <code>lesson01.ipynb</code> to <code>lesson01</code>, the Jupyter Hub would no longer know to treat it as a notebook.</p>\n",
    "</div>"
   ]
  },
  {
   "cell_type": "markdown",
   "id": "3e6177ba",
   "metadata": {
    "heading_collapsed": true
   },
   "source": [
    "### File paths\n",
    "*File paths* tell R where to locate a particular file. The symbol `~` is used to represent your home directory and `/` is used as a separator between folder names and/or file names. A typical file path looks like:\n",
    "\n",
    "``~/shared/data/berkeley73.csv``\n",
    "\n",
    "The code above points to a data file called `berkeley73.csv`. To locate this file, you start in your home directory, open the `shared` folder, open the `data` folder and then open `berkeley73.csv`."
   ]
  },
  {
   "cell_type": "markdown",
   "id": "d537c119",
   "metadata": {},
   "source": [
    "### Reading the data into R\n",
    "We use the `read.csv()` function to load data from a Comma Separated Values (CSV) file into R. \n",
    "\n",
    "```read.csv('FILE_PATH')```\n",
    "\n",
    "On the Jupyter hub, we could use the following code to display the data in `berkeley73.csv`.\n",
    "\n",
    "```read.csv('~/shared/data/berkeley73.csv')```"
   ]
  },
  {
   "cell_type": "markdown",
   "id": "ce8c3719",
   "metadata": {},
   "source": [
    "<div class=\"admonition note\">\n",
    "<div class=\"title\" style=\"background: lightblue; padding: 10px\">Note</div>\n",
    "    <p>The function <code>read.csv()</code> requires its input to be a character variable. This is why we must put the path inside quote marks.</p>\n",
    "</div>"
   ]
  },
  {
   "cell_type": "markdown",
   "id": "6340d6e2",
   "metadata": {},
   "source": [
    "## Loading data from the internet\n",
    "We can also use `read.csv()` to load data from the internet. We simply replace the file path with the URL (web address) of the CSV file. \n",
    "\n",
    "```read.csv('URL')```"
   ]
  },
  {
   "cell_type": "markdown",
   "id": "6817d73c",
   "metadata": {},
   "source": [
    "## Storing data\n",
    "Typically, we want to store the data in a variable, so that we can access it later. The syntax for this is the same a storing other values in variables,\n",
    "\n",
    "```VARIABLE_NAME <- read.csv('DATA_LOCATION')```"
   ]
  },
  {
   "cell_type": "markdown",
   "id": "309817e4",
   "metadata": {},
   "source": [
    "<div class=\"admonition tip\">\n",
    "<div class=\"title\" style=\"background: lightyellow; padding: 10px\">Style Tip</div>\n",
    "    <p>Chose a variable name that is descriptive. <code>us_census_2020</code> is better that <code>data</code></a>.</p>\n",
    "</div>"
   ]
  }
 ],
 "metadata": {
  "kernelspec": {
   "display_name": "Python 3 (ipykernel)",
   "language": "python",
   "name": "python3"
  },
  "language_info": {
   "codemirror_mode": {
    "name": "ipython",
    "version": 3
   },
   "file_extension": ".py",
   "mimetype": "text/x-python",
   "name": "python",
   "nbconvert_exporter": "python",
   "pygments_lexer": "ipython3",
   "version": "3.8.12"
  }
 },
 "nbformat": 4,
 "nbformat_minor": 5
}
