{
 "cells": [
  {
   "cell_type": "markdown",
   "id": "fa36dd56",
   "metadata": {},
   "source": [
    "(frames)=\n",
    "# Working with data frames\n",
    "\n",
    "Data frames are essentially tables of data. The rows are called *observations* and the columns are called *variables*."
   ]
  },
  {
   "cell_type": "markdown",
   "id": "6c02d7cd",
   "metadata": {},
   "source": [
    "<div class=\"admonition note\">\n",
    "<div class=\"title\" style=\"background: lightblue; padding: 10px\">Note</div>\n",
    "<p>The word \"variable\" has two different meanings. To reduce confusion, we will include a parenthetical note whenever referring to a column in a data frame  in this subsection. Elsewhere, the distinction should be made clear by context. </p>\n",
    "</div>"
   ]
  },
  {
   "cell_type": "markdown",
   "id": "f234ef19",
   "metadata": {
    "heading_collapsed": true
   },
   "source": [
    "## Outputting the data\n",
    "We can output the values in a data frame stored in a variable by running the variable name all by itself."
   ]
  },
  {
   "cell_type": "code",
   "execution_count": 9,
   "id": "a72e4937",
   "metadata": {
    "hidden": true,
    "tags": [
     "hide-output"
    ]
   },
   "outputs": [
    {
     "data": {
      "text/html": [
       "<table class=\"dataframe\">\n",
       "<caption>A data.frame: 153 × 6</caption>\n",
       "<thead>\n",
       "\t<tr><th scope=col>Ozone</th><th scope=col>Solar.R</th><th scope=col>Wind</th><th scope=col>Temp</th><th scope=col>Month</th><th scope=col>Day</th></tr>\n",
       "\t<tr><th scope=col>&lt;int&gt;</th><th scope=col>&lt;int&gt;</th><th scope=col>&lt;dbl&gt;</th><th scope=col>&lt;int&gt;</th><th scope=col>&lt;int&gt;</th><th scope=col>&lt;int&gt;</th></tr>\n",
       "</thead>\n",
       "<tbody>\n",
       "\t<tr><td> 41</td><td>190</td><td> 7.4</td><td>67</td><td>5</td><td> 1</td></tr>\n",
       "\t<tr><td> 36</td><td>118</td><td> 8.0</td><td>72</td><td>5</td><td> 2</td></tr>\n",
       "\t<tr><td> 12</td><td>149</td><td>12.6</td><td>74</td><td>5</td><td> 3</td></tr>\n",
       "\t<tr><td> 18</td><td>313</td><td>11.5</td><td>62</td><td>5</td><td> 4</td></tr>\n",
       "\t<tr><td> NA</td><td> NA</td><td>14.3</td><td>56</td><td>5</td><td> 5</td></tr>\n",
       "\t<tr><td> 28</td><td> NA</td><td>14.9</td><td>66</td><td>5</td><td> 6</td></tr>\n",
       "\t<tr><td> 23</td><td>299</td><td> 8.6</td><td>65</td><td>5</td><td> 7</td></tr>\n",
       "\t<tr><td> 19</td><td> 99</td><td>13.8</td><td>59</td><td>5</td><td> 8</td></tr>\n",
       "\t<tr><td>  8</td><td> 19</td><td>20.1</td><td>61</td><td>5</td><td> 9</td></tr>\n",
       "\t<tr><td> NA</td><td>194</td><td> 8.6</td><td>69</td><td>5</td><td>10</td></tr>\n",
       "\t<tr><td>  7</td><td> NA</td><td> 6.9</td><td>74</td><td>5</td><td>11</td></tr>\n",
       "\t<tr><td> 16</td><td>256</td><td> 9.7</td><td>69</td><td>5</td><td>12</td></tr>\n",
       "\t<tr><td> 11</td><td>290</td><td> 9.2</td><td>66</td><td>5</td><td>13</td></tr>\n",
       "\t<tr><td> 14</td><td>274</td><td>10.9</td><td>68</td><td>5</td><td>14</td></tr>\n",
       "\t<tr><td> 18</td><td> 65</td><td>13.2</td><td>58</td><td>5</td><td>15</td></tr>\n",
       "\t<tr><td> 14</td><td>334</td><td>11.5</td><td>64</td><td>5</td><td>16</td></tr>\n",
       "\t<tr><td> 34</td><td>307</td><td>12.0</td><td>66</td><td>5</td><td>17</td></tr>\n",
       "\t<tr><td>  6</td><td> 78</td><td>18.4</td><td>57</td><td>5</td><td>18</td></tr>\n",
       "\t<tr><td> 30</td><td>322</td><td>11.5</td><td>68</td><td>5</td><td>19</td></tr>\n",
       "\t<tr><td> 11</td><td> 44</td><td> 9.7</td><td>62</td><td>5</td><td>20</td></tr>\n",
       "\t<tr><td>  1</td><td>  8</td><td> 9.7</td><td>59</td><td>5</td><td>21</td></tr>\n",
       "\t<tr><td> 11</td><td>320</td><td>16.6</td><td>73</td><td>5</td><td>22</td></tr>\n",
       "\t<tr><td>  4</td><td> 25</td><td> 9.7</td><td>61</td><td>5</td><td>23</td></tr>\n",
       "\t<tr><td> 32</td><td> 92</td><td>12.0</td><td>61</td><td>5</td><td>24</td></tr>\n",
       "\t<tr><td> NA</td><td> 66</td><td>16.6</td><td>57</td><td>5</td><td>25</td></tr>\n",
       "\t<tr><td> NA</td><td>266</td><td>14.9</td><td>58</td><td>5</td><td>26</td></tr>\n",
       "\t<tr><td> NA</td><td> NA</td><td> 8.0</td><td>57</td><td>5</td><td>27</td></tr>\n",
       "\t<tr><td> 23</td><td> 13</td><td>12.0</td><td>67</td><td>5</td><td>28</td></tr>\n",
       "\t<tr><td> 45</td><td>252</td><td>14.9</td><td>81</td><td>5</td><td>29</td></tr>\n",
       "\t<tr><td>115</td><td>223</td><td> 5.7</td><td>79</td><td>5</td><td>30</td></tr>\n",
       "\t<tr><td>⋮</td><td>⋮</td><td>⋮</td><td>⋮</td><td>⋮</td><td>⋮</td></tr>\n",
       "\t<tr><td>96</td><td>167</td><td> 6.9</td><td>91</td><td>9</td><td> 1</td></tr>\n",
       "\t<tr><td>78</td><td>197</td><td> 5.1</td><td>92</td><td>9</td><td> 2</td></tr>\n",
       "\t<tr><td>73</td><td>183</td><td> 2.8</td><td>93</td><td>9</td><td> 3</td></tr>\n",
       "\t<tr><td>91</td><td>189</td><td> 4.6</td><td>93</td><td>9</td><td> 4</td></tr>\n",
       "\t<tr><td>47</td><td> 95</td><td> 7.4</td><td>87</td><td>9</td><td> 5</td></tr>\n",
       "\t<tr><td>32</td><td> 92</td><td>15.5</td><td>84</td><td>9</td><td> 6</td></tr>\n",
       "\t<tr><td>20</td><td>252</td><td>10.9</td><td>80</td><td>9</td><td> 7</td></tr>\n",
       "\t<tr><td>23</td><td>220</td><td>10.3</td><td>78</td><td>9</td><td> 8</td></tr>\n",
       "\t<tr><td>21</td><td>230</td><td>10.9</td><td>75</td><td>9</td><td> 9</td></tr>\n",
       "\t<tr><td>24</td><td>259</td><td> 9.7</td><td>73</td><td>9</td><td>10</td></tr>\n",
       "\t<tr><td>44</td><td>236</td><td>14.9</td><td>81</td><td>9</td><td>11</td></tr>\n",
       "\t<tr><td>21</td><td>259</td><td>15.5</td><td>76</td><td>9</td><td>12</td></tr>\n",
       "\t<tr><td>28</td><td>238</td><td> 6.3</td><td>77</td><td>9</td><td>13</td></tr>\n",
       "\t<tr><td> 9</td><td> 24</td><td>10.9</td><td>71</td><td>9</td><td>14</td></tr>\n",
       "\t<tr><td>13</td><td>112</td><td>11.5</td><td>71</td><td>9</td><td>15</td></tr>\n",
       "\t<tr><td>46</td><td>237</td><td> 6.9</td><td>78</td><td>9</td><td>16</td></tr>\n",
       "\t<tr><td>18</td><td>224</td><td>13.8</td><td>67</td><td>9</td><td>17</td></tr>\n",
       "\t<tr><td>13</td><td> 27</td><td>10.3</td><td>76</td><td>9</td><td>18</td></tr>\n",
       "\t<tr><td>24</td><td>238</td><td>10.3</td><td>68</td><td>9</td><td>19</td></tr>\n",
       "\t<tr><td>16</td><td>201</td><td> 8.0</td><td>82</td><td>9</td><td>20</td></tr>\n",
       "\t<tr><td>13</td><td>238</td><td>12.6</td><td>64</td><td>9</td><td>21</td></tr>\n",
       "\t<tr><td>23</td><td> 14</td><td> 9.2</td><td>71</td><td>9</td><td>22</td></tr>\n",
       "\t<tr><td>36</td><td>139</td><td>10.3</td><td>81</td><td>9</td><td>23</td></tr>\n",
       "\t<tr><td> 7</td><td> 49</td><td>10.3</td><td>69</td><td>9</td><td>24</td></tr>\n",
       "\t<tr><td>14</td><td> 20</td><td>16.6</td><td>63</td><td>9</td><td>25</td></tr>\n",
       "\t<tr><td>30</td><td>193</td><td> 6.9</td><td>70</td><td>9</td><td>26</td></tr>\n",
       "\t<tr><td>NA</td><td>145</td><td>13.2</td><td>77</td><td>9</td><td>27</td></tr>\n",
       "\t<tr><td>14</td><td>191</td><td>14.3</td><td>75</td><td>9</td><td>28</td></tr>\n",
       "\t<tr><td>18</td><td>131</td><td> 8.0</td><td>76</td><td>9</td><td>29</td></tr>\n",
       "\t<tr><td>20</td><td>223</td><td>11.5</td><td>68</td><td>9</td><td>30</td></tr>\n",
       "</tbody>\n",
       "</table>\n"
      ],
      "text/latex": [
       "A data.frame: 153 × 6\n",
       "\\begin{tabular}{llllll}\n",
       " Ozone & Solar.R & Wind & Temp & Month & Day\\\\\n",
       " <int> & <int> & <dbl> & <int> & <int> & <int>\\\\\n",
       "\\hline\n",
       "\t  41 & 190 &  7.4 & 67 & 5 &  1\\\\\n",
       "\t  36 & 118 &  8.0 & 72 & 5 &  2\\\\\n",
       "\t  12 & 149 & 12.6 & 74 & 5 &  3\\\\\n",
       "\t  18 & 313 & 11.5 & 62 & 5 &  4\\\\\n",
       "\t  NA &  NA & 14.3 & 56 & 5 &  5\\\\\n",
       "\t  28 &  NA & 14.9 & 66 & 5 &  6\\\\\n",
       "\t  23 & 299 &  8.6 & 65 & 5 &  7\\\\\n",
       "\t  19 &  99 & 13.8 & 59 & 5 &  8\\\\\n",
       "\t   8 &  19 & 20.1 & 61 & 5 &  9\\\\\n",
       "\t  NA & 194 &  8.6 & 69 & 5 & 10\\\\\n",
       "\t   7 &  NA &  6.9 & 74 & 5 & 11\\\\\n",
       "\t  16 & 256 &  9.7 & 69 & 5 & 12\\\\\n",
       "\t  11 & 290 &  9.2 & 66 & 5 & 13\\\\\n",
       "\t  14 & 274 & 10.9 & 68 & 5 & 14\\\\\n",
       "\t  18 &  65 & 13.2 & 58 & 5 & 15\\\\\n",
       "\t  14 & 334 & 11.5 & 64 & 5 & 16\\\\\n",
       "\t  34 & 307 & 12.0 & 66 & 5 & 17\\\\\n",
       "\t   6 &  78 & 18.4 & 57 & 5 & 18\\\\\n",
       "\t  30 & 322 & 11.5 & 68 & 5 & 19\\\\\n",
       "\t  11 &  44 &  9.7 & 62 & 5 & 20\\\\\n",
       "\t   1 &   8 &  9.7 & 59 & 5 & 21\\\\\n",
       "\t  11 & 320 & 16.6 & 73 & 5 & 22\\\\\n",
       "\t   4 &  25 &  9.7 & 61 & 5 & 23\\\\\n",
       "\t  32 &  92 & 12.0 & 61 & 5 & 24\\\\\n",
       "\t  NA &  66 & 16.6 & 57 & 5 & 25\\\\\n",
       "\t  NA & 266 & 14.9 & 58 & 5 & 26\\\\\n",
       "\t  NA &  NA &  8.0 & 57 & 5 & 27\\\\\n",
       "\t  23 &  13 & 12.0 & 67 & 5 & 28\\\\\n",
       "\t  45 & 252 & 14.9 & 81 & 5 & 29\\\\\n",
       "\t 115 & 223 &  5.7 & 79 & 5 & 30\\\\\n",
       "\t ⋮ & ⋮ & ⋮ & ⋮ & ⋮ & ⋮\\\\\n",
       "\t 96 & 167 &  6.9 & 91 & 9 &  1\\\\\n",
       "\t 78 & 197 &  5.1 & 92 & 9 &  2\\\\\n",
       "\t 73 & 183 &  2.8 & 93 & 9 &  3\\\\\n",
       "\t 91 & 189 &  4.6 & 93 & 9 &  4\\\\\n",
       "\t 47 &  95 &  7.4 & 87 & 9 &  5\\\\\n",
       "\t 32 &  92 & 15.5 & 84 & 9 &  6\\\\\n",
       "\t 20 & 252 & 10.9 & 80 & 9 &  7\\\\\n",
       "\t 23 & 220 & 10.3 & 78 & 9 &  8\\\\\n",
       "\t 21 & 230 & 10.9 & 75 & 9 &  9\\\\\n",
       "\t 24 & 259 &  9.7 & 73 & 9 & 10\\\\\n",
       "\t 44 & 236 & 14.9 & 81 & 9 & 11\\\\\n",
       "\t 21 & 259 & 15.5 & 76 & 9 & 12\\\\\n",
       "\t 28 & 238 &  6.3 & 77 & 9 & 13\\\\\n",
       "\t  9 &  24 & 10.9 & 71 & 9 & 14\\\\\n",
       "\t 13 & 112 & 11.5 & 71 & 9 & 15\\\\\n",
       "\t 46 & 237 &  6.9 & 78 & 9 & 16\\\\\n",
       "\t 18 & 224 & 13.8 & 67 & 9 & 17\\\\\n",
       "\t 13 &  27 & 10.3 & 76 & 9 & 18\\\\\n",
       "\t 24 & 238 & 10.3 & 68 & 9 & 19\\\\\n",
       "\t 16 & 201 &  8.0 & 82 & 9 & 20\\\\\n",
       "\t 13 & 238 & 12.6 & 64 & 9 & 21\\\\\n",
       "\t 23 &  14 &  9.2 & 71 & 9 & 22\\\\\n",
       "\t 36 & 139 & 10.3 & 81 & 9 & 23\\\\\n",
       "\t  7 &  49 & 10.3 & 69 & 9 & 24\\\\\n",
       "\t 14 &  20 & 16.6 & 63 & 9 & 25\\\\\n",
       "\t 30 & 193 &  6.9 & 70 & 9 & 26\\\\\n",
       "\t NA & 145 & 13.2 & 77 & 9 & 27\\\\\n",
       "\t 14 & 191 & 14.3 & 75 & 9 & 28\\\\\n",
       "\t 18 & 131 &  8.0 & 76 & 9 & 29\\\\\n",
       "\t 20 & 223 & 11.5 & 68 & 9 & 30\\\\\n",
       "\\end{tabular}\n"
      ],
      "text/markdown": [
       "\n",
       "A data.frame: 153 × 6\n",
       "\n",
       "| Ozone &lt;int&gt; | Solar.R &lt;int&gt; | Wind &lt;dbl&gt; | Temp &lt;int&gt; | Month &lt;int&gt; | Day &lt;int&gt; |\n",
       "|---|---|---|---|---|---|\n",
       "|  41 | 190 |  7.4 | 67 | 5 |  1 |\n",
       "|  36 | 118 |  8.0 | 72 | 5 |  2 |\n",
       "|  12 | 149 | 12.6 | 74 | 5 |  3 |\n",
       "|  18 | 313 | 11.5 | 62 | 5 |  4 |\n",
       "|  NA |  NA | 14.3 | 56 | 5 |  5 |\n",
       "|  28 |  NA | 14.9 | 66 | 5 |  6 |\n",
       "|  23 | 299 |  8.6 | 65 | 5 |  7 |\n",
       "|  19 |  99 | 13.8 | 59 | 5 |  8 |\n",
       "|   8 |  19 | 20.1 | 61 | 5 |  9 |\n",
       "|  NA | 194 |  8.6 | 69 | 5 | 10 |\n",
       "|   7 |  NA |  6.9 | 74 | 5 | 11 |\n",
       "|  16 | 256 |  9.7 | 69 | 5 | 12 |\n",
       "|  11 | 290 |  9.2 | 66 | 5 | 13 |\n",
       "|  14 | 274 | 10.9 | 68 | 5 | 14 |\n",
       "|  18 |  65 | 13.2 | 58 | 5 | 15 |\n",
       "|  14 | 334 | 11.5 | 64 | 5 | 16 |\n",
       "|  34 | 307 | 12.0 | 66 | 5 | 17 |\n",
       "|   6 |  78 | 18.4 | 57 | 5 | 18 |\n",
       "|  30 | 322 | 11.5 | 68 | 5 | 19 |\n",
       "|  11 |  44 |  9.7 | 62 | 5 | 20 |\n",
       "|   1 |   8 |  9.7 | 59 | 5 | 21 |\n",
       "|  11 | 320 | 16.6 | 73 | 5 | 22 |\n",
       "|   4 |  25 |  9.7 | 61 | 5 | 23 |\n",
       "|  32 |  92 | 12.0 | 61 | 5 | 24 |\n",
       "|  NA |  66 | 16.6 | 57 | 5 | 25 |\n",
       "|  NA | 266 | 14.9 | 58 | 5 | 26 |\n",
       "|  NA |  NA |  8.0 | 57 | 5 | 27 |\n",
       "|  23 |  13 | 12.0 | 67 | 5 | 28 |\n",
       "|  45 | 252 | 14.9 | 81 | 5 | 29 |\n",
       "| 115 | 223 |  5.7 | 79 | 5 | 30 |\n",
       "| ⋮ | ⋮ | ⋮ | ⋮ | ⋮ | ⋮ |\n",
       "| 96 | 167 |  6.9 | 91 | 9 |  1 |\n",
       "| 78 | 197 |  5.1 | 92 | 9 |  2 |\n",
       "| 73 | 183 |  2.8 | 93 | 9 |  3 |\n",
       "| 91 | 189 |  4.6 | 93 | 9 |  4 |\n",
       "| 47 |  95 |  7.4 | 87 | 9 |  5 |\n",
       "| 32 |  92 | 15.5 | 84 | 9 |  6 |\n",
       "| 20 | 252 | 10.9 | 80 | 9 |  7 |\n",
       "| 23 | 220 | 10.3 | 78 | 9 |  8 |\n",
       "| 21 | 230 | 10.9 | 75 | 9 |  9 |\n",
       "| 24 | 259 |  9.7 | 73 | 9 | 10 |\n",
       "| 44 | 236 | 14.9 | 81 | 9 | 11 |\n",
       "| 21 | 259 | 15.5 | 76 | 9 | 12 |\n",
       "| 28 | 238 |  6.3 | 77 | 9 | 13 |\n",
       "|  9 |  24 | 10.9 | 71 | 9 | 14 |\n",
       "| 13 | 112 | 11.5 | 71 | 9 | 15 |\n",
       "| 46 | 237 |  6.9 | 78 | 9 | 16 |\n",
       "| 18 | 224 | 13.8 | 67 | 9 | 17 |\n",
       "| 13 |  27 | 10.3 | 76 | 9 | 18 |\n",
       "| 24 | 238 | 10.3 | 68 | 9 | 19 |\n",
       "| 16 | 201 |  8.0 | 82 | 9 | 20 |\n",
       "| 13 | 238 | 12.6 | 64 | 9 | 21 |\n",
       "| 23 |  14 |  9.2 | 71 | 9 | 22 |\n",
       "| 36 | 139 | 10.3 | 81 | 9 | 23 |\n",
       "|  7 |  49 | 10.3 | 69 | 9 | 24 |\n",
       "| 14 |  20 | 16.6 | 63 | 9 | 25 |\n",
       "| 30 | 193 |  6.9 | 70 | 9 | 26 |\n",
       "| NA | 145 | 13.2 | 77 | 9 | 27 |\n",
       "| 14 | 191 | 14.3 | 75 | 9 | 28 |\n",
       "| 18 | 131 |  8.0 | 76 | 9 | 29 |\n",
       "| 20 | 223 | 11.5 | 68 | 9 | 30 |\n",
       "\n"
      ],
      "text/plain": [
       "    Ozone Solar.R Wind Temp Month Day\n",
       "1    41   190      7.4 67   5      1 \n",
       "2    36   118      8.0 72   5      2 \n",
       "3    12   149     12.6 74   5      3 \n",
       "4    18   313     11.5 62   5      4 \n",
       "5    NA    NA     14.3 56   5      5 \n",
       "6    28    NA     14.9 66   5      6 \n",
       "7    23   299      8.6 65   5      7 \n",
       "8    19    99     13.8 59   5      8 \n",
       "9     8    19     20.1 61   5      9 \n",
       "10   NA   194      8.6 69   5     10 \n",
       "11    7    NA      6.9 74   5     11 \n",
       "12   16   256      9.7 69   5     12 \n",
       "13   11   290      9.2 66   5     13 \n",
       "14   14   274     10.9 68   5     14 \n",
       "15   18    65     13.2 58   5     15 \n",
       "16   14   334     11.5 64   5     16 \n",
       "17   34   307     12.0 66   5     17 \n",
       "18    6    78     18.4 57   5     18 \n",
       "19   30   322     11.5 68   5     19 \n",
       "20   11    44      9.7 62   5     20 \n",
       "21    1     8      9.7 59   5     21 \n",
       "22   11   320     16.6 73   5     22 \n",
       "23    4    25      9.7 61   5     23 \n",
       "24   32    92     12.0 61   5     24 \n",
       "25   NA    66     16.6 57   5     25 \n",
       "26   NA   266     14.9 58   5     26 \n",
       "27   NA    NA      8.0 57   5     27 \n",
       "28   23    13     12.0 67   5     28 \n",
       "29   45   252     14.9 81   5     29 \n",
       "30  115   223      5.7 79   5     30 \n",
       "⋮   ⋮     ⋮       ⋮    ⋮    ⋮     ⋮  \n",
       "124 96    167      6.9 91   9      1 \n",
       "125 78    197      5.1 92   9      2 \n",
       "126 73    183      2.8 93   9      3 \n",
       "127 91    189      4.6 93   9      4 \n",
       "128 47     95      7.4 87   9      5 \n",
       "129 32     92     15.5 84   9      6 \n",
       "130 20    252     10.9 80   9      7 \n",
       "131 23    220     10.3 78   9      8 \n",
       "132 21    230     10.9 75   9      9 \n",
       "133 24    259      9.7 73   9     10 \n",
       "134 44    236     14.9 81   9     11 \n",
       "135 21    259     15.5 76   9     12 \n",
       "136 28    238      6.3 77   9     13 \n",
       "137  9     24     10.9 71   9     14 \n",
       "138 13    112     11.5 71   9     15 \n",
       "139 46    237      6.9 78   9     16 \n",
       "140 18    224     13.8 67   9     17 \n",
       "141 13     27     10.3 76   9     18 \n",
       "142 24    238     10.3 68   9     19 \n",
       "143 16    201      8.0 82   9     20 \n",
       "144 13    238     12.6 64   9     21 \n",
       "145 23     14      9.2 71   9     22 \n",
       "146 36    139     10.3 81   9     23 \n",
       "147  7     49     10.3 69   9     24 \n",
       "148 14     20     16.6 63   9     25 \n",
       "149 30    193      6.9 70   9     26 \n",
       "150 NA    145     13.2 77   9     27 \n",
       "151 14    191     14.3 75   9     28 \n",
       "152 18    131      8.0 76   9     29 \n",
       "153 20    223     11.5 68   9     30 "
      ]
     },
     "metadata": {},
     "output_type": "display_data"
    }
   ],
   "source": [
    "airquality"
   ]
  },
  {
   "cell_type": "markdown",
   "id": "7de85725",
   "metadata": {
    "hidden": true
   },
   "source": [
    "<div class=\"admonition warning\">\n",
    "<div class=\"title\" style=\"background: pink; padding: 10px\">Warning</div>\n",
    "    <p>If a data frame is large, <b>R may skip some of the middle observations (rows) and / or variables (columns)</b>. This is indicated by horizontal triple dots $\\cdots$ or vertical triple dots $\\vdots$.\n",
    "</div>"
   ]
  },
  {
   "cell_type": "markdown",
   "id": "18c43557",
   "metadata": {
    "hidden": true
   },
   "source": [
    "### Head\n",
    "The `head()` function can be used to display the first few observations (rows) of a data frame.\n",
    "\n",
    "```head(DATA_FRAME, NUM_OBSERVATIONS)```"
   ]
  },
  {
   "cell_type": "code",
   "execution_count": 4,
   "id": "8791c3e3",
   "metadata": {
    "hidden": true,
    "scrolled": true
   },
   "outputs": [
    {
     "data": {
      "text/html": [
       "<table class=\"dataframe\">\n",
       "<caption>A data.frame: 3 × 6</caption>\n",
       "<thead>\n",
       "\t<tr><th></th><th scope=col>Ozone</th><th scope=col>Solar.R</th><th scope=col>Wind</th><th scope=col>Temp</th><th scope=col>Month</th><th scope=col>Day</th></tr>\n",
       "\t<tr><th></th><th scope=col>&lt;int&gt;</th><th scope=col>&lt;int&gt;</th><th scope=col>&lt;dbl&gt;</th><th scope=col>&lt;int&gt;</th><th scope=col>&lt;int&gt;</th><th scope=col>&lt;int&gt;</th></tr>\n",
       "</thead>\n",
       "<tbody>\n",
       "\t<tr><th scope=row>1</th><td>41</td><td>190</td><td> 7.4</td><td>67</td><td>5</td><td>1</td></tr>\n",
       "\t<tr><th scope=row>2</th><td>36</td><td>118</td><td> 8.0</td><td>72</td><td>5</td><td>2</td></tr>\n",
       "\t<tr><th scope=row>3</th><td>12</td><td>149</td><td>12.6</td><td>74</td><td>5</td><td>3</td></tr>\n",
       "</tbody>\n",
       "</table>\n"
      ],
      "text/latex": [
       "A data.frame: 3 × 6\n",
       "\\begin{tabular}{r|llllll}\n",
       "  & Ozone & Solar.R & Wind & Temp & Month & Day\\\\\n",
       "  & <int> & <int> & <dbl> & <int> & <int> & <int>\\\\\n",
       "\\hline\n",
       "\t1 & 41 & 190 &  7.4 & 67 & 5 & 1\\\\\n",
       "\t2 & 36 & 118 &  8.0 & 72 & 5 & 2\\\\\n",
       "\t3 & 12 & 149 & 12.6 & 74 & 5 & 3\\\\\n",
       "\\end{tabular}\n"
      ],
      "text/markdown": [
       "\n",
       "A data.frame: 3 × 6\n",
       "\n",
       "| <!--/--> | Ozone &lt;int&gt; | Solar.R &lt;int&gt; | Wind &lt;dbl&gt; | Temp &lt;int&gt; | Month &lt;int&gt; | Day &lt;int&gt; |\n",
       "|---|---|---|---|---|---|---|\n",
       "| 1 | 41 | 190 |  7.4 | 67 | 5 | 1 |\n",
       "| 2 | 36 | 118 |  8.0 | 72 | 5 | 2 |\n",
       "| 3 | 12 | 149 | 12.6 | 74 | 5 | 3 |\n",
       "\n"
      ],
      "text/plain": [
       "  Ozone Solar.R Wind Temp Month Day\n",
       "1 41    190      7.4 67   5     1  \n",
       "2 36    118      8.0 72   5     2  \n",
       "3 12    149     12.6 74   5     3  "
      ]
     },
     "metadata": {},
     "output_type": "display_data"
    }
   ],
   "source": [
    "head(airquality,3)"
   ]
  },
  {
   "cell_type": "markdown",
   "id": "56d3969b",
   "metadata": {},
   "source": [
    "## Structure\n",
    "It is often helpful know the structural properties of a data frame. The `str()` function outputs the following properties of a data frame: \n",
    "- number of observations (rows)\n",
    "- number of variables (columns)\n",
    "- name of each variable (column)\n",
    "- type of data in each variable (column)\n",
    "- a few values from each variable (column)"
   ]
  },
  {
   "cell_type": "code",
   "execution_count": 1,
   "id": "586a0517",
   "metadata": {},
   "outputs": [
    {
     "name": "stdout",
     "output_type": "stream",
     "text": [
      "'data.frame':\t153 obs. of  6 variables:\n",
      " $ Ozone  : int  41 36 12 18 NA 28 23 19 8 NA ...\n",
      " $ Solar.R: int  190 118 149 313 NA NA 299 99 19 194 ...\n",
      " $ Wind   : num  7.4 8 12.6 11.5 14.3 14.9 8.6 13.8 20.1 8.6 ...\n",
      " $ Temp   : int  67 72 74 62 56 66 65 59 61 69 ...\n",
      " $ Month  : int  5 5 5 5 5 5 5 5 5 5 ...\n",
      " $ Day    : int  1 2 3 4 5 6 7 8 9 10 ...\n"
     ]
    }
   ],
   "source": [
    "str(airquality)"
   ]
  },
  {
   "cell_type": "markdown",
   "id": "b0e05ac2",
   "metadata": {},
   "source": [
    "Sometimes, we are only interested in a particular property of a data frame. The following functions give us access to specific properties. "
   ]
  },
  {
   "cell_type": "markdown",
   "id": "0ec3d00d",
   "metadata": {
    "heading_collapsed": true
   },
   "source": [
    "### Dimensions\n",
    "The `dim()` function outputs a vector containing the number of observations (rows) followed by the number of variables (columns).\n",
    "\n",
    "```dim(DATA_FRAME)```\n",
    "\n",
    "Output: `c(NUM_OBSERVATIONS, NUM_VARIABLES)`"
   ]
  },
  {
   "cell_type": "code",
   "execution_count": 5,
   "id": "b6d2377c",
   "metadata": {
    "hidden": true
   },
   "outputs": [
    {
     "data": {
      "text/html": [
       "<style>\n",
       ".list-inline {list-style: none; margin:0; padding: 0}\n",
       ".list-inline>li {display: inline-block}\n",
       ".list-inline>li:not(:last-child)::after {content: \"\\00b7\"; padding: 0 .5ex}\n",
       "</style>\n",
       "<ol class=list-inline><li>153</li><li>6</li></ol>\n"
      ],
      "text/latex": [
       "\\begin{enumerate*}\n",
       "\\item 153\n",
       "\\item 6\n",
       "\\end{enumerate*}\n"
      ],
      "text/markdown": [
       "1. 153\n",
       "2. 6\n",
       "\n",
       "\n"
      ],
      "text/plain": [
       "[1] 153   6"
      ]
     },
     "metadata": {},
     "output_type": "display_data"
    }
   ],
   "source": [
    "dim(airquality)"
   ]
  },
  {
   "cell_type": "markdown",
   "id": "55f9f145",
   "metadata": {
    "hidden": true
   },
   "source": [
    "The `nrow()` function outputs the number of observations (rows) in a data frame."
   ]
  },
  {
   "cell_type": "code",
   "execution_count": 6,
   "id": "eec6d4bf",
   "metadata": {
    "hidden": true
   },
   "outputs": [
    {
     "data": {
      "text/html": [
       "153"
      ],
      "text/latex": [
       "153"
      ],
      "text/markdown": [
       "153"
      ],
      "text/plain": [
       "[1] 153"
      ]
     },
     "metadata": {},
     "output_type": "display_data"
    }
   ],
   "source": [
    "nrow(airquality)"
   ]
  },
  {
   "cell_type": "markdown",
   "id": "13745539",
   "metadata": {},
   "source": [
    "### Variable names\n",
    "The `names()` function outputs the names of all of the variables (columns) in a data frame."
   ]
  },
  {
   "cell_type": "code",
   "execution_count": 7,
   "id": "18717d6a",
   "metadata": {},
   "outputs": [
    {
     "data": {
      "text/html": [
       "<style>\n",
       ".list-inline {list-style: none; margin:0; padding: 0}\n",
       ".list-inline>li {display: inline-block}\n",
       ".list-inline>li:not(:last-child)::after {content: \"\\00b7\"; padding: 0 .5ex}\n",
       "</style>\n",
       "<ol class=list-inline><li>'Ozone'</li><li>'Solar.R'</li><li>'Wind'</li><li>'Temp'</li><li>'Month'</li><li>'Day'</li></ol>\n"
      ],
      "text/latex": [
       "\\begin{enumerate*}\n",
       "\\item 'Ozone'\n",
       "\\item 'Solar.R'\n",
       "\\item 'Wind'\n",
       "\\item 'Temp'\n",
       "\\item 'Month'\n",
       "\\item 'Day'\n",
       "\\end{enumerate*}\n"
      ],
      "text/markdown": [
       "1. 'Ozone'\n",
       "2. 'Solar.R'\n",
       "3. 'Wind'\n",
       "4. 'Temp'\n",
       "5. 'Month'\n",
       "6. 'Day'\n",
       "\n",
       "\n"
      ],
      "text/plain": [
       "[1] \"Ozone\"   \"Solar.R\" \"Wind\"    \"Temp\"    \"Month\"   \"Day\"    "
      ]
     },
     "metadata": {},
     "output_type": "display_data"
    }
   ],
   "source": [
    "names(airquality)"
   ]
  },
  {
   "cell_type": "markdown",
   "id": "55ef7a0d",
   "metadata": {},
   "source": [
    "## Pieces of data\n"
   ]
  },
  {
   "cell_type": "markdown",
   "id": "6e24cd3a",
   "metadata": {},
   "source": [
    "### Variables\n",
    "Each variable (column) in a data frame is a vector. Use the following syntax reference a particular variable (column).\n",
    "\n",
    "```DATA_FRAME$VARIABLE_NAME```"
   ]
  },
  {
   "cell_type": "code",
   "execution_count": 10,
   "id": "37fb7969",
   "metadata": {},
   "outputs": [
    {
     "data": {
      "text/html": [
       "<style>\n",
       ".list-inline {list-style: none; margin:0; padding: 0}\n",
       ".list-inline>li {display: inline-block}\n",
       ".list-inline>li:not(:last-child)::after {content: \"\\00b7\"; padding: 0 .5ex}\n",
       "</style>\n",
       "<ol class=list-inline><li>67</li><li>72</li><li>74</li><li>62</li><li>56</li><li>66</li><li>65</li><li>59</li><li>61</li><li>69</li><li>74</li><li>69</li><li>66</li><li>68</li><li>58</li><li>64</li><li>66</li><li>57</li><li>68</li><li>62</li><li>59</li><li>73</li><li>61</li><li>61</li><li>57</li><li>58</li><li>57</li><li>67</li><li>81</li><li>79</li><li>76</li><li>78</li><li>74</li><li>67</li><li>84</li><li>85</li><li>79</li><li>82</li><li>87</li><li>90</li><li>87</li><li>93</li><li>92</li><li>82</li><li>80</li><li>79</li><li>77</li><li>72</li><li>65</li><li>73</li><li>76</li><li>77</li><li>76</li><li>76</li><li>76</li><li>75</li><li>78</li><li>73</li><li>80</li><li>77</li><li>83</li><li>84</li><li>85</li><li>81</li><li>84</li><li>83</li><li>83</li><li>88</li><li>92</li><li>92</li><li>89</li><li>82</li><li>73</li><li>81</li><li>91</li><li>80</li><li>81</li><li>82</li><li>84</li><li>87</li><li>85</li><li>74</li><li>81</li><li>82</li><li>86</li><li>85</li><li>82</li><li>86</li><li>88</li><li>86</li><li>83</li><li>81</li><li>81</li><li>81</li><li>82</li><li>86</li><li>85</li><li>87</li><li>89</li><li>90</li><li>90</li><li>92</li><li>86</li><li>86</li><li>82</li><li>80</li><li>79</li><li>77</li><li>79</li><li>76</li><li>78</li><li>78</li><li>77</li><li>72</li><li>75</li><li>79</li><li>81</li><li>86</li><li>88</li><li>97</li><li>94</li><li>96</li><li>94</li><li>91</li><li>92</li><li>93</li><li>93</li><li>87</li><li>84</li><li>80</li><li>78</li><li>75</li><li>73</li><li>81</li><li>76</li><li>77</li><li>71</li><li>71</li><li>78</li><li>67</li><li>76</li><li>68</li><li>82</li><li>64</li><li>71</li><li>81</li><li>69</li><li>63</li><li>70</li><li>77</li><li>75</li><li>76</li><li>68</li></ol>\n"
      ],
      "text/latex": [
       "\\begin{enumerate*}\n",
       "\\item 67\n",
       "\\item 72\n",
       "\\item 74\n",
       "\\item 62\n",
       "\\item 56\n",
       "\\item 66\n",
       "\\item 65\n",
       "\\item 59\n",
       "\\item 61\n",
       "\\item 69\n",
       "\\item 74\n",
       "\\item 69\n",
       "\\item 66\n",
       "\\item 68\n",
       "\\item 58\n",
       "\\item 64\n",
       "\\item 66\n",
       "\\item 57\n",
       "\\item 68\n",
       "\\item 62\n",
       "\\item 59\n",
       "\\item 73\n",
       "\\item 61\n",
       "\\item 61\n",
       "\\item 57\n",
       "\\item 58\n",
       "\\item 57\n",
       "\\item 67\n",
       "\\item 81\n",
       "\\item 79\n",
       "\\item 76\n",
       "\\item 78\n",
       "\\item 74\n",
       "\\item 67\n",
       "\\item 84\n",
       "\\item 85\n",
       "\\item 79\n",
       "\\item 82\n",
       "\\item 87\n",
       "\\item 90\n",
       "\\item 87\n",
       "\\item 93\n",
       "\\item 92\n",
       "\\item 82\n",
       "\\item 80\n",
       "\\item 79\n",
       "\\item 77\n",
       "\\item 72\n",
       "\\item 65\n",
       "\\item 73\n",
       "\\item 76\n",
       "\\item 77\n",
       "\\item 76\n",
       "\\item 76\n",
       "\\item 76\n",
       "\\item 75\n",
       "\\item 78\n",
       "\\item 73\n",
       "\\item 80\n",
       "\\item 77\n",
       "\\item 83\n",
       "\\item 84\n",
       "\\item 85\n",
       "\\item 81\n",
       "\\item 84\n",
       "\\item 83\n",
       "\\item 83\n",
       "\\item 88\n",
       "\\item 92\n",
       "\\item 92\n",
       "\\item 89\n",
       "\\item 82\n",
       "\\item 73\n",
       "\\item 81\n",
       "\\item 91\n",
       "\\item 80\n",
       "\\item 81\n",
       "\\item 82\n",
       "\\item 84\n",
       "\\item 87\n",
       "\\item 85\n",
       "\\item 74\n",
       "\\item 81\n",
       "\\item 82\n",
       "\\item 86\n",
       "\\item 85\n",
       "\\item 82\n",
       "\\item 86\n",
       "\\item 88\n",
       "\\item 86\n",
       "\\item 83\n",
       "\\item 81\n",
       "\\item 81\n",
       "\\item 81\n",
       "\\item 82\n",
       "\\item 86\n",
       "\\item 85\n",
       "\\item 87\n",
       "\\item 89\n",
       "\\item 90\n",
       "\\item 90\n",
       "\\item 92\n",
       "\\item 86\n",
       "\\item 86\n",
       "\\item 82\n",
       "\\item 80\n",
       "\\item 79\n",
       "\\item 77\n",
       "\\item 79\n",
       "\\item 76\n",
       "\\item 78\n",
       "\\item 78\n",
       "\\item 77\n",
       "\\item 72\n",
       "\\item 75\n",
       "\\item 79\n",
       "\\item 81\n",
       "\\item 86\n",
       "\\item 88\n",
       "\\item 97\n",
       "\\item 94\n",
       "\\item 96\n",
       "\\item 94\n",
       "\\item 91\n",
       "\\item 92\n",
       "\\item 93\n",
       "\\item 93\n",
       "\\item 87\n",
       "\\item 84\n",
       "\\item 80\n",
       "\\item 78\n",
       "\\item 75\n",
       "\\item 73\n",
       "\\item 81\n",
       "\\item 76\n",
       "\\item 77\n",
       "\\item 71\n",
       "\\item 71\n",
       "\\item 78\n",
       "\\item 67\n",
       "\\item 76\n",
       "\\item 68\n",
       "\\item 82\n",
       "\\item 64\n",
       "\\item 71\n",
       "\\item 81\n",
       "\\item 69\n",
       "\\item 63\n",
       "\\item 70\n",
       "\\item 77\n",
       "\\item 75\n",
       "\\item 76\n",
       "\\item 68\n",
       "\\end{enumerate*}\n"
      ],
      "text/markdown": [
       "1. 67\n",
       "2. 72\n",
       "3. 74\n",
       "4. 62\n",
       "5. 56\n",
       "6. 66\n",
       "7. 65\n",
       "8. 59\n",
       "9. 61\n",
       "10. 69\n",
       "11. 74\n",
       "12. 69\n",
       "13. 66\n",
       "14. 68\n",
       "15. 58\n",
       "16. 64\n",
       "17. 66\n",
       "18. 57\n",
       "19. 68\n",
       "20. 62\n",
       "21. 59\n",
       "22. 73\n",
       "23. 61\n",
       "24. 61\n",
       "25. 57\n",
       "26. 58\n",
       "27. 57\n",
       "28. 67\n",
       "29. 81\n",
       "30. 79\n",
       "31. 76\n",
       "32. 78\n",
       "33. 74\n",
       "34. 67\n",
       "35. 84\n",
       "36. 85\n",
       "37. 79\n",
       "38. 82\n",
       "39. 87\n",
       "40. 90\n",
       "41. 87\n",
       "42. 93\n",
       "43. 92\n",
       "44. 82\n",
       "45. 80\n",
       "46. 79\n",
       "47. 77\n",
       "48. 72\n",
       "49. 65\n",
       "50. 73\n",
       "51. 76\n",
       "52. 77\n",
       "53. 76\n",
       "54. 76\n",
       "55. 76\n",
       "56. 75\n",
       "57. 78\n",
       "58. 73\n",
       "59. 80\n",
       "60. 77\n",
       "61. 83\n",
       "62. 84\n",
       "63. 85\n",
       "64. 81\n",
       "65. 84\n",
       "66. 83\n",
       "67. 83\n",
       "68. 88\n",
       "69. 92\n",
       "70. 92\n",
       "71. 89\n",
       "72. 82\n",
       "73. 73\n",
       "74. 81\n",
       "75. 91\n",
       "76. 80\n",
       "77. 81\n",
       "78. 82\n",
       "79. 84\n",
       "80. 87\n",
       "81. 85\n",
       "82. 74\n",
       "83. 81\n",
       "84. 82\n",
       "85. 86\n",
       "86. 85\n",
       "87. 82\n",
       "88. 86\n",
       "89. 88\n",
       "90. 86\n",
       "91. 83\n",
       "92. 81\n",
       "93. 81\n",
       "94. 81\n",
       "95. 82\n",
       "96. 86\n",
       "97. 85\n",
       "98. 87\n",
       "99. 89\n",
       "100. 90\n",
       "101. 90\n",
       "102. 92\n",
       "103. 86\n",
       "104. 86\n",
       "105. 82\n",
       "106. 80\n",
       "107. 79\n",
       "108. 77\n",
       "109. 79\n",
       "110. 76\n",
       "111. 78\n",
       "112. 78\n",
       "113. 77\n",
       "114. 72\n",
       "115. 75\n",
       "116. 79\n",
       "117. 81\n",
       "118. 86\n",
       "119. 88\n",
       "120. 97\n",
       "121. 94\n",
       "122. 96\n",
       "123. 94\n",
       "124. 91\n",
       "125. 92\n",
       "126. 93\n",
       "127. 93\n",
       "128. 87\n",
       "129. 84\n",
       "130. 80\n",
       "131. 78\n",
       "132. 75\n",
       "133. 73\n",
       "134. 81\n",
       "135. 76\n",
       "136. 77\n",
       "137. 71\n",
       "138. 71\n",
       "139. 78\n",
       "140. 67\n",
       "141. 76\n",
       "142. 68\n",
       "143. 82\n",
       "144. 64\n",
       "145. 71\n",
       "146. 81\n",
       "147. 69\n",
       "148. 63\n",
       "149. 70\n",
       "150. 77\n",
       "151. 75\n",
       "152. 76\n",
       "153. 68\n",
       "\n",
       "\n"
      ],
      "text/plain": [
       "  [1] 67 72 74 62 56 66 65 59 61 69 74 69 66 68 58 64 66 57 68 62 59 73 61 61 57\n",
       " [26] 58 57 67 81 79 76 78 74 67 84 85 79 82 87 90 87 93 92 82 80 79 77 72 65 73\n",
       " [51] 76 77 76 76 76 75 78 73 80 77 83 84 85 81 84 83 83 88 92 92 89 82 73 81 91\n",
       " [76] 80 81 82 84 87 85 74 81 82 86 85 82 86 88 86 83 81 81 81 82 86 85 87 89 90\n",
       "[101] 90 92 86 86 82 80 79 77 79 76 78 78 77 72 75 79 81 86 88 97 94 96 94 91 92\n",
       "[126] 93 93 87 84 80 78 75 73 81 76 77 71 71 78 67 76 68 82 64 71 81 69 63 70 77\n",
       "[151] 75 76 68"
      ]
     },
     "metadata": {},
     "output_type": "display_data"
    }
   ],
   "source": [
    "airquality$Temp"
   ]
  },
  {
   "cell_type": "markdown",
   "id": "1b689980",
   "metadata": {},
   "source": [
    "### Specific entry\n",
    "We can access a specific entry in a data frame by specifying the variable (column) and observation (row) using the following syntax.\n",
    "\n",
    "```DATA_FRAME$VARIABLE_NAME[OBSERVATION_NUMBER]```"
   ]
  },
  {
   "cell_type": "code",
   "execution_count": 14,
   "id": "c61f0014",
   "metadata": {
    "scrolled": true
   },
   "outputs": [
    {
     "data": {
      "text/html": [
       "67"
      ],
      "text/latex": [
       "67"
      ],
      "text/markdown": [
       "67"
      ],
      "text/plain": [
       "[1] 67"
      ]
     },
     "metadata": {},
     "output_type": "display_data"
    }
   ],
   "source": [
    "airquality$Temp[1] # First observation (row) in the Temp variable (column)."
   ]
  },
  {
   "cell_type": "markdown",
   "id": "9e6deb48",
   "metadata": {},
   "source": [
    "<div class=\"admonition note\">\n",
    "<div class=\"title\" style=\"background: lightblue; padding: 10px\">Note</div>\n",
    "<p>R starts counting at one. Some other programing language start counting at zero.</p>\n",
    "</div>"
   ]
  }
 ],
 "metadata": {
  "celltoolbar": "Edit Metadata",
  "kernelspec": {
   "display_name": "R",
   "language": "R",
   "name": "ir"
  },
  "language_info": {
   "codemirror_mode": "r",
   "file_extension": ".r",
   "mimetype": "text/x-r-source",
   "name": "R",
   "pygments_lexer": "r",
   "version": "4.0.5"
  }
 },
 "nbformat": 4,
 "nbformat_minor": 5
}
