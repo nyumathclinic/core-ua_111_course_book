{
 "cells": [
  {
   "cell_type": "markdown",
   "id": "6eb8c795",
   "metadata": {},
   "source": [
    "(base_r:numerical_vectors)=\n",
    "# Numerical Vectors\n",
    "A numerical vector is simply a vector whose entries are numbers."
   ]
  },
  {
   "cell_type": "markdown",
   "id": "10103a1d",
   "metadata": {},
   "source": [
    "## Computing with vectors\n",
    "Arithmetic operations that combine a vector with a single number distributed to all entries in the vector. "
   ]
  },
  {
   "cell_type": "code",
   "execution_count": 7,
   "id": "19e4b98f",
   "metadata": {},
   "outputs": [
    {
     "data": {
      "text/html": [
       "<style>\n",
       ".list-inline {list-style: none; margin:0; padding: 0}\n",
       ".list-inline>li {display: inline-block}\n",
       ".list-inline>li:not(:last-child)::after {content: \"\\00b7\"; padding: 0 .5ex}\n",
       "</style>\n",
       "<ol class=list-inline><li>5</li><li>10</li><li>15</li></ol>\n"
      ],
      "text/latex": [
       "\\begin{enumerate*}\n",
       "\\item 5\n",
       "\\item 10\n",
       "\\item 15\n",
       "\\end{enumerate*}\n"
      ],
      "text/markdown": [
       "1. 5\n",
       "2. 10\n",
       "3. 15\n",
       "\n",
       "\n"
      ],
      "text/plain": [
       "[1]  5 10 15"
      ]
     },
     "metadata": {},
     "output_type": "display_data"
    }
   ],
   "source": [
    "c(1,2,3)*5 # Each entry is multiplied by five."
   ]
  },
  {
   "cell_type": "markdown",
   "id": "7b8e1f83",
   "metadata": {},
   "source": [
    "Arithmetic operations that combine multiple vectors are performed entry-by-entry."
   ]
  },
  {
   "cell_type": "code",
   "execution_count": 9,
   "id": "43c529a6",
   "metadata": {},
   "outputs": [
    {
     "data": {
      "text/html": [
       "<style>\n",
       ".list-inline {list-style: none; margin:0; padding: 0}\n",
       ".list-inline>li {display: inline-block}\n",
       ".list-inline>li:not(:last-child)::after {content: \"\\00b7\"; padding: 0 .5ex}\n",
       "</style>\n",
       "<ol class=list-inline><li>-5</li><li>-3</li><li>-1</li></ol>\n"
      ],
      "text/latex": [
       "\\begin{enumerate*}\n",
       "\\item -5\n",
       "\\item -3\n",
       "\\item -1\n",
       "\\end{enumerate*}\n"
      ],
      "text/markdown": [
       "1. -5\n",
       "2. -3\n",
       "3. -1\n",
       "\n",
       "\n"
      ],
      "text/plain": [
       "[1] -5 -3 -1"
      ]
     },
     "metadata": {},
     "output_type": "display_data"
    }
   ],
   "source": [
    "c(1,2,3) - c(6,5,4) # Same output as c(1-6, 2-5, 3-4)"
   ]
  },
  {
   "cell_type": "markdown",
   "id": "808513eb",
   "metadata": {},
   "source": [
    "## Useful functions\n",
    "For more information on these functions, execute `?FUNCTION_NAME` and read the documentation."
   ]
  },
  {
   "cell_type": "code",
   "execution_count": 2,
   "id": "cca1853e",
   "metadata": {},
   "outputs": [],
   "source": [
    "# Store ten random numbers in a the variable ten_numbers\n",
    "ten_numbers <- c(5.8, 3.52, 7.81, 0.4, 4.79, 3.04, 4.89, 5.23, 2.37, 4.32) "
   ]
  },
  {
   "cell_type": "markdown",
   "id": "086332c5",
   "metadata": {},
   "source": [
    "### Min and max\n",
    "The `min()` and `max()` functions return respectively the minimum and maximum value in a numerical vector."
   ]
  },
  {
   "cell_type": "code",
   "execution_count": 8,
   "id": "ec721aa0",
   "metadata": {},
   "outputs": [
    {
     "data": {
      "text/html": [
       "0.4"
      ],
      "text/latex": [
       "0.4"
      ],
      "text/markdown": [
       "0.4"
      ],
      "text/plain": [
       "[1] 0.4"
      ]
     },
     "metadata": {},
     "output_type": "display_data"
    }
   ],
   "source": [
    "min(ten_numbers)"
   ]
  },
  {
   "cell_type": "code",
   "execution_count": 9,
   "id": "9c7fc621",
   "metadata": {},
   "outputs": [
    {
     "data": {
      "text/html": [
       "7.81"
      ],
      "text/latex": [
       "7.81"
      ],
      "text/markdown": [
       "7.81"
      ],
      "text/plain": [
       "[1] 7.81"
      ]
     },
     "metadata": {},
     "output_type": "display_data"
    }
   ],
   "source": [
    "max(ten_numbers)"
   ]
  },
  {
   "cell_type": "markdown",
   "id": "8b9d10af",
   "metadata": {},
   "source": [
    "### Length\n",
    "The `length()` function returns the number of entries in a vector."
   ]
  },
  {
   "cell_type": "code",
   "execution_count": 4,
   "id": "5b283bff",
   "metadata": {},
   "outputs": [
    {
     "data": {
      "text/html": [
       "10"
      ],
      "text/latex": [
       "10"
      ],
      "text/markdown": [
       "10"
      ],
      "text/plain": [
       "[1] 10"
      ]
     },
     "metadata": {},
     "output_type": "display_data"
    }
   ],
   "source": [
    "length(ten_numbers)"
   ]
  },
  {
   "cell_type": "markdown",
   "id": "e84dadbf",
   "metadata": {},
   "source": [
    "### Sum\n",
    "The `sum()` function returns the sum of the entries in a numerical vector."
   ]
  },
  {
   "cell_type": "code",
   "execution_count": 5,
   "id": "fd74f782",
   "metadata": {},
   "outputs": [
    {
     "data": {
      "text/html": [
       "42.17"
      ],
      "text/latex": [
       "42.17"
      ],
      "text/markdown": [
       "42.17"
      ],
      "text/plain": [
       "[1] 42.17"
      ]
     },
     "metadata": {},
     "output_type": "display_data"
    }
   ],
   "source": [
    "sum(ten_numbers)"
   ]
  },
  {
   "cell_type": "markdown",
   "id": "05f84a9c",
   "metadata": {},
   "source": [
    "### Mean a.k.a. average\n",
    "The *average* of a collection of values is defined to be\n",
    "$$\\frac{\\text{sum of the values}}{\\text{number of values}}.$$\n",
    "\n",
    "We can perform this computation by combining the previous two functions"
   ]
  },
  {
   "cell_type": "code",
   "execution_count": 7,
   "id": "5bab2b82",
   "metadata": {},
   "outputs": [
    {
     "data": {
      "text/html": [
       "4.217"
      ],
      "text/latex": [
       "4.217"
      ],
      "text/markdown": [
       "4.217"
      ],
      "text/plain": [
       "[1] 4.217"
      ]
     },
     "metadata": {},
     "output_type": "display_data"
    }
   ],
   "source": [
    "sum(ten_numbers)/length(ten_numbers)"
   ]
  },
  {
   "cell_type": "markdown",
   "id": "9b327349",
   "metadata": {},
   "source": [
    "Alternatively, we can use the `mean()` which returns the average of the entries in a numerical vector."
   ]
  },
  {
   "cell_type": "code",
   "execution_count": 3,
   "id": "93654380",
   "metadata": {},
   "outputs": [
    {
     "data": {
      "text/html": [
       "4.217"
      ],
      "text/latex": [
       "4.217"
      ],
      "text/markdown": [
       "4.217"
      ],
      "text/plain": [
       "[1] 4.217"
      ]
     },
     "metadata": {},
     "output_type": "display_data"
    }
   ],
   "source": [
    "mean(ten_numbers)"
   ]
  }
 ],
 "metadata": {
  "kernelspec": {
   "display_name": "R",
   "language": "R",
   "name": "ir"
  },
  "language_info": {
   "codemirror_mode": "r",
   "file_extension": ".r",
   "mimetype": "text/x-r-source",
   "name": "R",
   "pygments_lexer": "r",
   "version": "4.0.5"
  }
 },
 "nbformat": 4,
 "nbformat_minor": 5
}
