{
 "cells": [
  {
   "cell_type": "markdown",
   "id": "b4eebb24",
   "metadata": {},
   "source": [
    "(classifier)=\n",
    "# Building a classifier"
   ]
  },
  {
   "cell_type": "markdown",
   "id": "016fb875",
   "metadata": {},
   "source": [
    "## The data set\n",
    "\n",
    "This breast cancer databases was obtained from the University of Wisconsin Hospitals, Madison from Dr. William H. Wolberg. For more information see the documentation on the [UCI Machine Learning Repository](https://archive.ics.uci.edu/ml/datasets/breast+cancer+wisconsin+(original))."
   ]
  },
  {
   "cell_type": "code",
   "execution_count": 6,
   "id": "d017225f",
   "metadata": {},
   "outputs": [],
   "source": [
    "library(dplyr)"
   ]
  },
  {
   "cell_type": "code",
   "execution_count": 56,
   "id": "5f57061a",
   "metadata": {},
   "outputs": [],
   "source": [
    "biopsies <- read.csv(\"https://archive.ics.uci.edu/ml/machine-learning-databases/breast-cancer-wisconsin/breast-cancer-wisconsin.data\",\n",
    "         header = FALSE\n",
    "        )\n",
    "\n",
    "names(biopsies) <- c('ID','Clump.Thickness','Uniformity.of.Cell.Size','Uniformity.of.Cell.Shape','Marginal.Adhesion',\n",
    "  'Single.Epithelial.Cell.Size','Bare.Nuclei','Bland.Chromatin','Normal.Nucleoli','Mitoses','Class')\n",
    "\n",
    "biopsies <- biopsies %>%\n",
    "    mutate(Class = factor( Class,\n",
    "        levels = c(2,4),\n",
    "        labels = c('benign', 'malignant')\n",
    "    ))"
   ]
  },
  {
   "cell_type": "markdown",
   "id": "46050634",
   "metadata": {},
   "source": [
    "### First look at the data"
   ]
  },
  {
   "cell_type": "code",
   "execution_count": 57,
   "id": "c90b5b5e",
   "metadata": {},
   "outputs": [
    {
     "data": {
      "text/html": [
       "<table class=\"dataframe\">\n",
       "<caption>A data.frame: 6 × 11</caption>\n",
       "<thead>\n",
       "\t<tr><th></th><th scope=col>ID</th><th scope=col>Clump.Thickness</th><th scope=col>Uniformity.of.Cell.Size</th><th scope=col>Uniformity.of.Cell.Shape</th><th scope=col>Marginal.Adhesion</th><th scope=col>Single.Epithelial.Cell.Size</th><th scope=col>Bare.Nuclei</th><th scope=col>Bland.Chromatin</th><th scope=col>Normal.Nucleoli</th><th scope=col>Mitoses</th><th scope=col>Class</th></tr>\n",
       "\t<tr><th></th><th scope=col>&lt;int&gt;</th><th scope=col>&lt;int&gt;</th><th scope=col>&lt;int&gt;</th><th scope=col>&lt;int&gt;</th><th scope=col>&lt;int&gt;</th><th scope=col>&lt;int&gt;</th><th scope=col>&lt;chr&gt;</th><th scope=col>&lt;int&gt;</th><th scope=col>&lt;int&gt;</th><th scope=col>&lt;int&gt;</th><th scope=col>&lt;fct&gt;</th></tr>\n",
       "</thead>\n",
       "<tbody>\n",
       "\t<tr><th scope=row>1</th><td>1000025</td><td>5</td><td> 1</td><td> 1</td><td>1</td><td>2</td><td>1 </td><td>3</td><td>1</td><td>1</td><td>benign   </td></tr>\n",
       "\t<tr><th scope=row>2</th><td>1002945</td><td>5</td><td> 4</td><td> 4</td><td>5</td><td>7</td><td>10</td><td>3</td><td>2</td><td>1</td><td>benign   </td></tr>\n",
       "\t<tr><th scope=row>3</th><td>1015425</td><td>3</td><td> 1</td><td> 1</td><td>1</td><td>2</td><td>2 </td><td>3</td><td>1</td><td>1</td><td>benign   </td></tr>\n",
       "\t<tr><th scope=row>4</th><td>1016277</td><td>6</td><td> 8</td><td> 8</td><td>1</td><td>3</td><td>4 </td><td>3</td><td>7</td><td>1</td><td>benign   </td></tr>\n",
       "\t<tr><th scope=row>5</th><td>1017023</td><td>4</td><td> 1</td><td> 1</td><td>3</td><td>2</td><td>1 </td><td>3</td><td>1</td><td>1</td><td>benign   </td></tr>\n",
       "\t<tr><th scope=row>6</th><td>1017122</td><td>8</td><td>10</td><td>10</td><td>8</td><td>7</td><td>10</td><td>9</td><td>7</td><td>1</td><td>malignant</td></tr>\n",
       "</tbody>\n",
       "</table>\n"
      ],
      "text/latex": [
       "A data.frame: 6 × 11\n",
       "\\begin{tabular}{r|lllllllllll}\n",
       "  & ID & Clump.Thickness & Uniformity.of.Cell.Size & Uniformity.of.Cell.Shape & Marginal.Adhesion & Single.Epithelial.Cell.Size & Bare.Nuclei & Bland.Chromatin & Normal.Nucleoli & Mitoses & Class\\\\\n",
       "  & <int> & <int> & <int> & <int> & <int> & <int> & <chr> & <int> & <int> & <int> & <fct>\\\\\n",
       "\\hline\n",
       "\t1 & 1000025 & 5 &  1 &  1 & 1 & 2 & 1  & 3 & 1 & 1 & benign   \\\\\n",
       "\t2 & 1002945 & 5 &  4 &  4 & 5 & 7 & 10 & 3 & 2 & 1 & benign   \\\\\n",
       "\t3 & 1015425 & 3 &  1 &  1 & 1 & 2 & 2  & 3 & 1 & 1 & benign   \\\\\n",
       "\t4 & 1016277 & 6 &  8 &  8 & 1 & 3 & 4  & 3 & 7 & 1 & benign   \\\\\n",
       "\t5 & 1017023 & 4 &  1 &  1 & 3 & 2 & 1  & 3 & 1 & 1 & benign   \\\\\n",
       "\t6 & 1017122 & 8 & 10 & 10 & 8 & 7 & 10 & 9 & 7 & 1 & malignant\\\\\n",
       "\\end{tabular}\n"
      ],
      "text/markdown": [
       "\n",
       "A data.frame: 6 × 11\n",
       "\n",
       "| <!--/--> | ID &lt;int&gt; | Clump.Thickness &lt;int&gt; | Uniformity.of.Cell.Size &lt;int&gt; | Uniformity.of.Cell.Shape &lt;int&gt; | Marginal.Adhesion &lt;int&gt; | Single.Epithelial.Cell.Size &lt;int&gt; | Bare.Nuclei &lt;chr&gt; | Bland.Chromatin &lt;int&gt; | Normal.Nucleoli &lt;int&gt; | Mitoses &lt;int&gt; | Class &lt;fct&gt; |\n",
       "|---|---|---|---|---|---|---|---|---|---|---|---|\n",
       "| 1 | 1000025 | 5 |  1 |  1 | 1 | 2 | 1  | 3 | 1 | 1 | benign    |\n",
       "| 2 | 1002945 | 5 |  4 |  4 | 5 | 7 | 10 | 3 | 2 | 1 | benign    |\n",
       "| 3 | 1015425 | 3 |  1 |  1 | 1 | 2 | 2  | 3 | 1 | 1 | benign    |\n",
       "| 4 | 1016277 | 6 |  8 |  8 | 1 | 3 | 4  | 3 | 7 | 1 | benign    |\n",
       "| 5 | 1017023 | 4 |  1 |  1 | 3 | 2 | 1  | 3 | 1 | 1 | benign    |\n",
       "| 6 | 1017122 | 8 | 10 | 10 | 8 | 7 | 10 | 9 | 7 | 1 | malignant |\n",
       "\n"
      ],
      "text/plain": [
       "  ID      Clump.Thickness Uniformity.of.Cell.Size Uniformity.of.Cell.Shape\n",
       "1 1000025 5                1                       1                      \n",
       "2 1002945 5                4                       4                      \n",
       "3 1015425 3                1                       1                      \n",
       "4 1016277 6                8                       8                      \n",
       "5 1017023 4                1                       1                      \n",
       "6 1017122 8               10                      10                      \n",
       "  Marginal.Adhesion Single.Epithelial.Cell.Size Bare.Nuclei Bland.Chromatin\n",
       "1 1                 2                           1           3              \n",
       "2 5                 7                           10          3              \n",
       "3 1                 2                           2           3              \n",
       "4 1                 3                           4           3              \n",
       "5 3                 2                           1           3              \n",
       "6 8                 7                           10          9              \n",
       "  Normal.Nucleoli Mitoses Class    \n",
       "1 1               1       benign   \n",
       "2 2               1       benign   \n",
       "3 1               1       benign   \n",
       "4 7               1       benign   \n",
       "5 1               1       benign   \n",
       "6 7               1       malignant"
      ]
     },
     "metadata": {},
     "output_type": "display_data"
    },
    {
     "name": "stdout",
     "output_type": "stream",
     "text": [
      "'data.frame':\t699 obs. of  11 variables:\n",
      " $ ID                         : int  1000025 1002945 1015425 1016277 1017023 1017122 1018099 1018561 1033078 1033078 ...\n",
      " $ Clump.Thickness            : int  5 5 3 6 4 8 1 2 2 4 ...\n",
      " $ Uniformity.of.Cell.Size    : int  1 4 1 8 1 10 1 1 1 2 ...\n",
      " $ Uniformity.of.Cell.Shape   : int  1 4 1 8 1 10 1 2 1 1 ...\n",
      " $ Marginal.Adhesion          : int  1 5 1 1 3 8 1 1 1 1 ...\n",
      " $ Single.Epithelial.Cell.Size: int  2 7 2 3 2 7 2 2 2 2 ...\n",
      " $ Bare.Nuclei                : chr  \"1\" \"10\" \"2\" \"4\" ...\n",
      " $ Bland.Chromatin            : int  3 3 3 3 3 9 3 3 1 2 ...\n",
      " $ Normal.Nucleoli            : int  1 2 1 7 1 7 1 1 1 1 ...\n",
      " $ Mitoses                    : int  1 1 1 1 1 1 1 1 5 1 ...\n",
      " $ Class                      : Factor w/ 2 levels \"benign\",\"malignant\": 1 1 1 1 1 2 1 1 1 1 ...\n"
     ]
    }
   ],
   "source": [
    "head(biopsies) \n",
    "str(biopsies)"
   ]
  },
  {
   "cell_type": "markdown",
   "id": "2b5430c5",
   "metadata": {},
   "source": [
    "### Split the data"
   ]
  },
  {
   "cell_type": "code",
   "execution_count": 27,
   "id": "fcb18693",
   "metadata": {},
   "outputs": [],
   "source": [
    "training <- head(biopsies, 400)\n",
    "test <- head(biopsies, nrow(biopsies) - 400)"
   ]
  },
  {
   "cell_type": "markdown",
   "id": "654d4318",
   "metadata": {},
   "source": [
    "## Visualization"
   ]
  },
  {
   "cell_type": "markdown",
   "id": "492f9a90",
   "metadata": {},
   "source": [
    "In practice, one looks at multiple pairs of variables before finding a pattern. For the sake of brevity, we only share the visualization that we will use for our classifier. "
   ]
  },
  {
   "cell_type": "code",
   "execution_count": 12,
   "id": "13d847e3",
   "metadata": {},
   "outputs": [],
   "source": [
    "library(ggplot2)"
   ]
  },
  {
   "cell_type": "code",
   "execution_count": 28,
   "id": "dfd3d40e",
   "metadata": {},
   "outputs": [
    {
     "data": {
      "image/png": "[encoded data removed]",
      "text/plain": [
       "plot without title"
      ]
     },
     "metadata": {
      "image/png": {
       "height": 420,
       "width": 420
      }
     },
     "output_type": "display_data"
    }
   ],
   "source": [
    "ggplot(training, aes(x = Clump.Thickness, y = Marginal.Adhesion, \n",
    "                     color = Class, shape = Class)\n",
    "      ) + \n",
    "    geom_rect(mapping=aes(xmin=0, xmax=6, ymin=0, ymax=4),\n",
    "              color = \"lightgrey\",\n",
    "              fill = \"lightgrey\"\n",
    "            )+\n",
    "    geom_jitter(size=3) + \n",
    "    scale_color_manual(values =c('blue', 'red')) +\n",
    "    labs(\n",
    "        title = \"Breast Biopsies\",\n",
    "        x = \"Clump Thickness\",\n",
    "        y = \"Marginal Adhesion\"\n",
    "    ) + \n",
    "    theme_bw(base_size = 18)"
   ]
  },
  {
   "cell_type": "markdown",
   "id": "d04d5804",
   "metadata": {},
   "source": [
    "Points in the gray shaded rectangle are almost all benign. Thus, we will build a classifier that predicts lumps with clump thickness greater than 6 or marginal adhesion greater than 4 are malignant."
   ]
  },
  {
   "cell_type": "markdown",
   "id": "a9c9c77d",
   "metadata": {},
   "source": [
    "## Decision tree"
   ]
  },
  {
   "cell_type": "markdown",
   "id": "9946b641",
   "metadata": {},
   "source": [
    "Before coding the classifier function, it is helpful to draw a decision tree to ensure that the logic is clear. \n",
    "\n",
    "![decision tree](../img/decision_tree_small.png)"
   ]
  },
  {
   "cell_type": "markdown",
   "id": "bb3638f9",
   "metadata": {},
   "source": [
    "## Classifier function"
   ]
  },
  {
   "cell_type": "markdown",
   "id": "30107e58",
   "metadata": {},
   "source": [
    "### Build function"
   ]
  },
  {
   "cell_type": "code",
   "execution_count": 58,
   "id": "cfcb5bb9",
   "metadata": {},
   "outputs": [
    {
     "data": {
      "text/html": [
       "'malignant'"
      ],
      "text/latex": [
       "'malignant'"
      ],
      "text/markdown": [
       "'malignant'"
      ],
      "text/plain": [
       "[1] \"malignant\""
      ]
     },
     "metadata": {},
     "output_type": "display_data"
    },
    {
     "data": {
      "text/html": [
       "'malignant'"
      ],
      "text/latex": [
       "'malignant'"
      ],
      "text/markdown": [
       "'malignant'"
      ],
      "text/plain": [
       "[1] \"malignant\""
      ]
     },
     "metadata": {},
     "output_type": "display_data"
    },
    {
     "data": {
      "text/html": [
       "'benign'"
      ],
      "text/latex": [
       "'benign'"
      ],
      "text/markdown": [
       "'benign'"
      ],
      "text/plain": [
       "[1] \"benign\""
      ]
     },
     "metadata": {},
     "output_type": "display_data"
    }
   ],
   "source": [
    "classifier <- function(thickness, adhesion){\n",
    "    if(thickness > 6) {\n",
    "        return('malignant')\n",
    "    } else if (adhesion > 4) {\n",
    "        return('malignant')\n",
    "    } else {\n",
    "        return('benign')\n",
    "    }\n",
    "}\n",
    "\n",
    "# test classifer function\n",
    "classifier(7,2)\n",
    "classifier(3,5)\n",
    "classifier(3,2)\n",
    "\n",
    "# Vectorize so that we can apply it to whole columns\n",
    "classifier <- Vectorize(classifier)"
   ]
  },
  {
   "cell_type": "markdown",
   "id": "9854ba92",
   "metadata": {},
   "source": [
    "### Classify test observations"
   ]
  },
  {
   "cell_type": "code",
   "execution_count": 67,
   "id": "9d25c328",
   "metadata": {},
   "outputs": [
    {
     "data": {
      "text/html": [
       "<table class=\"dataframe\">\n",
       "<caption>A data.frame: 4 × 4</caption>\n",
       "<thead>\n",
       "\t<tr><th></th><th scope=col>Clump.Thickness</th><th scope=col>Marginal.Adhesion</th><th scope=col>Class</th><th scope=col>Prediction</th></tr>\n",
       "\t<tr><th></th><th scope=col>&lt;int&gt;</th><th scope=col>&lt;int&gt;</th><th scope=col>&lt;fct&gt;</th><th scope=col>&lt;chr&gt;</th></tr>\n",
       "</thead>\n",
       "<tbody>\n",
       "\t<tr><th scope=row>1</th><td>5</td><td>1</td><td>benign</td><td>benign   </td></tr>\n",
       "\t<tr><th scope=row>2</th><td>5</td><td>5</td><td>benign</td><td>malignant</td></tr>\n",
       "\t<tr><th scope=row>3</th><td>3</td><td>1</td><td>benign</td><td>benign   </td></tr>\n",
       "\t<tr><th scope=row>4</th><td>6</td><td>1</td><td>benign</td><td>benign   </td></tr>\n",
       "</tbody>\n",
       "</table>\n"
      ],
      "text/latex": [
       "A data.frame: 4 × 4\n",
       "\\begin{tabular}{r|llll}\n",
       "  & Clump.Thickness & Marginal.Adhesion & Class & Prediction\\\\\n",
       "  & <int> & <int> & <fct> & <chr>\\\\\n",
       "\\hline\n",
       "\t1 & 5 & 1 & benign & benign   \\\\\n",
       "\t2 & 5 & 5 & benign & malignant\\\\\n",
       "\t3 & 3 & 1 & benign & benign   \\\\\n",
       "\t4 & 6 & 1 & benign & benign   \\\\\n",
       "\\end{tabular}\n"
      ],
      "text/markdown": [
       "\n",
       "A data.frame: 4 × 4\n",
       "\n",
       "| <!--/--> | Clump.Thickness &lt;int&gt; | Marginal.Adhesion &lt;int&gt; | Class &lt;fct&gt; | Prediction &lt;chr&gt; |\n",
       "|---|---|---|---|---|\n",
       "| 1 | 5 | 1 | benign | benign    |\n",
       "| 2 | 5 | 5 | benign | malignant |\n",
       "| 3 | 3 | 1 | benign | benign    |\n",
       "| 4 | 6 | 1 | benign | benign    |\n",
       "\n"
      ],
      "text/plain": [
       "  Clump.Thickness Marginal.Adhesion Class  Prediction\n",
       "1 5               1                 benign benign    \n",
       "2 5               5                 benign malignant \n",
       "3 3               1                 benign benign    \n",
       "4 6               1                 benign benign    "
      ]
     },
     "metadata": {},
     "output_type": "display_data"
    }
   ],
   "source": [
    "test <- mutate(test, \n",
    "              Prediction = classifier(Clump.Thickness, Marginal.Adhesion))\n",
    "\n",
    "test %>%\n",
    "    select(Clump.Thickness, Marginal.Adhesion, Class, Prediction) %>%\n",
    "    head(4)"
   ]
  },
  {
   "cell_type": "markdown",
   "id": "8e4d34fa",
   "metadata": {},
   "source": [
    "## Evaluate classifier"
   ]
  },
  {
   "cell_type": "markdown",
   "id": "41ea5207",
   "metadata": {},
   "source": [
    "### Accuracy type "
   ]
  },
  {
   "cell_type": "code",
   "execution_count": 59,
   "id": "a8d987ff",
   "metadata": {},
   "outputs": [
    {
     "data": {
      "text/html": [
       "'true positive'"
      ],
      "text/latex": [
       "'true positive'"
      ],
      "text/markdown": [
       "'true positive'"
      ],
      "text/plain": [
       "[1] \"true positive\""
      ]
     },
     "metadata": {},
     "output_type": "display_data"
    },
    {
     "data": {
      "text/html": [
       "'false positive'"
      ],
      "text/latex": [
       "'false positive'"
      ],
      "text/markdown": [
       "'false positive'"
      ],
      "text/plain": [
       "[1] \"false positive\""
      ]
     },
     "metadata": {},
     "output_type": "display_data"
    },
    {
     "data": {
      "text/html": [
       "'false negative'"
      ],
      "text/latex": [
       "'false negative'"
      ],
      "text/markdown": [
       "'false negative'"
      ],
      "text/plain": [
       "[1] \"false negative\""
      ]
     },
     "metadata": {},
     "output_type": "display_data"
    },
    {
     "data": {
      "text/html": [
       "'true negative'"
      ],
      "text/latex": [
       "'true negative'"
      ],
      "text/markdown": [
       "'true negative'"
      ],
      "text/plain": [
       "[1] \"true negative\""
      ]
     },
     "metadata": {},
     "output_type": "display_data"
    }
   ],
   "source": [
    "accuracy_type <- function(class, prediction){\n",
    "    if (class == prediction){\n",
    "        tf <- 'true'\n",
    "    } else {\n",
    "        tf <- 'false'\n",
    "    }\n",
    "    \n",
    "    if(prediction == 'malignant') {\n",
    "        pn <- 'positive'\n",
    "    } else {\n",
    "        pn <- 'negative'\n",
    "    }\n",
    "    \n",
    "    paste(tf, pn) \n",
    "}\n",
    "\n",
    "# Test accuracy_type function\n",
    "accuracy_type('malignant','malignant')\n",
    "accuracy_type('benign','malignant')\n",
    "accuracy_type('malignant','benign')\n",
    "accuracy_type('benign','benign')\n",
    "\n",
    "# Vectorize so that we can apply it to whole columns\n",
    "accuracy_type <- Vectorize(accuracy_type)"
   ]
  },
  {
   "cell_type": "code",
   "execution_count": 68,
   "id": "d6571662",
   "metadata": {
    "scrolled": true
   },
   "outputs": [
    {
     "data": {
      "text/html": [
       "<table class=\"dataframe\">\n",
       "<caption>A tibble: 4 × 2</caption>\n",
       "<thead>\n",
       "\t<tr><th scope=col>type</th><th scope=col>Count</th></tr>\n",
       "\t<tr><th scope=col>&lt;chr&gt;</th><th scope=col>&lt;int&gt;</th></tr>\n",
       "</thead>\n",
       "<tbody>\n",
       "\t<tr><td>false negative</td><td> 23</td></tr>\n",
       "\t<tr><td>false positive</td><td>  7</td></tr>\n",
       "\t<tr><td>true negative </td><td>156</td></tr>\n",
       "\t<tr><td>true positive </td><td>113</td></tr>\n",
       "</tbody>\n",
       "</table>\n"
      ],
      "text/latex": [
       "A tibble: 4 × 2\n",
       "\\begin{tabular}{ll}\n",
       " type & Count\\\\\n",
       " <chr> & <int>\\\\\n",
       "\\hline\n",
       "\t false negative &  23\\\\\n",
       "\t false positive &   7\\\\\n",
       "\t true negative  & 156\\\\\n",
       "\t true positive  & 113\\\\\n",
       "\\end{tabular}\n"
      ],
      "text/markdown": [
       "\n",
       "A tibble: 4 × 2\n",
       "\n",
       "| type &lt;chr&gt; | Count &lt;int&gt; |\n",
       "|---|---|\n",
       "| false negative |  23 |\n",
       "| false positive |   7 |\n",
       "| true negative  | 156 |\n",
       "| true positive  | 113 |\n",
       "\n"
      ],
      "text/plain": [
       "  type           Count\n",
       "1 false negative  23  \n",
       "2 false positive   7  \n",
       "3 true negative  156  \n",
       "4 true positive  113  "
      ]
     },
     "metadata": {},
     "output_type": "display_data"
    }
   ],
   "source": [
    "test <- mutate(test, type = accuracy_type(Class, Prediction))\n",
    "\n",
    "test %>% \n",
    "    group_by(type) %>%\n",
    "    summarize(Count = n())"
   ]
  },
  {
   "cell_type": "markdown",
   "id": "1e7d3e46",
   "metadata": {},
   "source": [
    "### Measures of effectiveness"
   ]
  },
  {
   "cell_type": "code",
   "execution_count": 65,
   "id": "747a5484",
   "metadata": {},
   "outputs": [],
   "source": [
    "# variables to help make formulas easier to read\n",
    "class <- test$Class\n",
    "prediction <- test$Prediction\n",
    "positive <- 'malignant'\n",
    "negative <- 'benign'"
   ]
  },
  {
   "cell_type": "markdown",
   "id": "ea6edb34",
   "metadata": {},
   "source": [
    "#### Accuracy\n",
    "\n",
    "$$\\text{Accuracy} = \\frac{\\text{(# correct predictions)}}{\\text{(# of observations)}}$$"
   ]
  },
  {
   "cell_type": "code",
   "execution_count": 50,
   "id": "6e9fca24",
   "metadata": {
    "scrolled": true
   },
   "outputs": [
    {
     "data": {
      "text/html": [
       "0.899665551839465"
      ],
      "text/latex": [
       "0.899665551839465"
      ],
      "text/markdown": [
       "0.899665551839465"
      ],
      "text/plain": [
       "[1] 0.8996656"
      ]
     },
     "metadata": {},
     "output_type": "display_data"
    }
   ],
   "source": [
    "sum(class == prediction) / nrow(test)"
   ]
  },
  {
   "cell_type": "markdown",
   "id": "fcf0c54e",
   "metadata": {},
   "source": [
    "#### Precision\n",
    "\n",
    "$$\\text{Precision} = \\frac{\\text{(# true positive predictions)}}{\\text{(# of positive predictions)}}$$"
   ]
  },
  {
   "cell_type": "code",
   "execution_count": 62,
   "id": "bbb021c5",
   "metadata": {},
   "outputs": [
    {
     "data": {
      "text/html": [
       "0.941666666666667"
      ],
      "text/latex": [
       "0.941666666666667"
      ],
      "text/markdown": [
       "0.941666666666667"
      ],
      "text/plain": [
       "[1] 0.9416667"
      ]
     },
     "metadata": {},
     "output_type": "display_data"
    }
   ],
   "source": [
    "sum((class == prediction) & (prediction == positive))/sum(prediction == positive)"
   ]
  },
  {
   "cell_type": "markdown",
   "id": "e4c4f1ae",
   "metadata": {},
   "source": [
    "#### True positive rate\n",
    "\n",
    "$$\\text{True positive rate} = \\frac{\\text{(# true positive predictions)}}{\\text{(# positive cases)}}$$"
   ]
  },
  {
   "cell_type": "code",
   "execution_count": 63,
   "id": "03817470",
   "metadata": {},
   "outputs": [
    {
     "data": {
      "text/html": [
       "0.830882352941177"
      ],
      "text/latex": [
       "0.830882352941177"
      ],
      "text/markdown": [
       "0.830882352941177"
      ],
      "text/plain": [
       "[1] 0.8308824"
      ]
     },
     "metadata": {},
     "output_type": "display_data"
    }
   ],
   "source": [
    "sum((class == prediction) & (prediction == positive))/sum(class == positive)"
   ]
  },
  {
   "cell_type": "markdown",
   "id": "83cb3deb",
   "metadata": {},
   "source": [
    "#### True negative rate\n",
    "\n",
    "$$\\text{True negative rate} = \\frac{\\text{(# true negative predictions)}}{\\text{(# negative cases)}}$$"
   ]
  },
  {
   "cell_type": "code",
   "execution_count": 64,
   "id": "d0ba3d23",
   "metadata": {},
   "outputs": [
    {
     "data": {
      "text/html": [
       "0.957055214723926"
      ],
      "text/latex": [
       "0.957055214723926"
      ],
      "text/markdown": [
       "0.957055214723926"
      ],
      "text/plain": [
       "[1] 0.9570552"
      ]
     },
     "metadata": {},
     "output_type": "display_data"
    }
   ],
   "source": [
    "sum((class == prediction) & (prediction == negative))/sum(class == negative)"
   ]
  },
  {
   "cell_type": "markdown",
   "id": "4aca7e40",
   "metadata": {},
   "source": [
    "The classifier is correct 90% of the time. When it is incorrect, it is most likely to classify a malignant lump as benign. This is reflected in the fact that the number of false negatives is three times as high as the number of false positives. It is also reflected in the fact that the true positive rate is lower than the true negative rate; the classifier is more likely to correctly classify a benign lump. "
   ]
  }
 ],
 "metadata": {
  "kernelspec": {
   "display_name": "R",
   "language": "R",
   "name": "ir"
  },
  "language_info": {
   "codemirror_mode": "r",
   "file_extension": ".r",
   "mimetype": "text/x-r-source",
   "name": "R",
   "pygments_lexer": "r",
   "version": "4.0.5"
  }
 },
 "nbformat": 4,
 "nbformat_minor": 5
}
