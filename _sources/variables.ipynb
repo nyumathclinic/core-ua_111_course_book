{
 "cells": [
  {
   "cell_type": "markdown",
   "id": "ba225117",
   "metadata": {},
   "source": [
    "# Variables\n",
    "A <i>variable</i> is a named piece of information in R. Variable names can be a single letter like `y`, a word `price` or something more complicated `tax_rate`. "
   ]
  },
  {
   "cell_type": "markdown",
   "id": "e3719851",
   "metadata": {},
   "source": [
    "<div class=\"admonition tip\" name=\"html-admonition\" >\n",
    "<div class=\"title\" style=\"background: lightyellow; padding: 10px\">Style Tip</div>\n",
    "<p>By convention, variable names start with a lower case letter.</p>\n",
    "</div>"
   ]
  },
  {
   "cell_type": "markdown",
   "id": "41abc931",
   "metadata": {},
   "source": [
    "<div class=\"admonition warning\" name=\"html-admonition\">\n",
    "<div class=\"title\" style=\"background: pink; padding: 10px\">Warning</div>\n",
    "    <p>Variable names cannot contain spaces. </p>    \n",
    "</div>"
   ]
  },
  {
   "cell_type": "markdown",
   "id": "8b2f8b7b",
   "metadata": {},
   "source": [
    "## Storing values\n",
    "The syntax for storing a value in a variable is\n",
    "`VARIABLE_NAME <- VALUE`. Here `VALUE` can be replaced with any code that outputs the desired value."
   ]
  },
  {
   "cell_type": "markdown",
   "id": "36489b2a",
   "metadata": {},
   "source": [
    "### Example: Discounted book"
   ]
  },
  {
   "cell_type": "markdown",
   "id": "0493d31a",
   "metadata": {},
   "source": [
    "Suppose a particular book originally cost $10.75 and now is 20\\% off. We can store that information in two variables with descriptive names."
   ]
  },
  {
   "cell_type": "code",
   "execution_count": 2,
   "id": "35a01bda",
   "metadata": {},
   "outputs": [],
   "source": [
    "original_price <- 10.75 \n",
    "discount <- 0.2"
   ]
  },
  {
   "cell_type": "markdown",
   "id": "8bf31b71",
   "metadata": {},
   "source": [
    "We can also compute the cost of the book after the discount and store that information in a third variable."
   ]
  },
  {
   "cell_type": "code",
   "execution_count": 3,
   "id": "1da4cc66",
   "metadata": {},
   "outputs": [],
   "source": [
    "sale_price <- 10.75 * (1 - 0.20)"
   ]
  },
  {
   "cell_type": "markdown",
   "id": "b3f1311a",
   "metadata": {},
   "source": [
    "Alternatively, we can use our first two variable to compute the sale price. The result is the same."
   ]
  },
  {
   "cell_type": "code",
   "execution_count": 3,
   "id": "3a00bdef",
   "metadata": {},
   "outputs": [],
   "source": [
    "sale_price <- original_price * (1 - discount)"
   ]
  },
  {
   "cell_type": "markdown",
   "id": "33d27017",
   "metadata": {},
   "source": [
    "<div class=\"admonition tip\" name=\"html-admonition\" >\n",
    "<div class=\"title\" style=\"background: lightyellow; padding: 10px\">Coding Tip</div>\n",
    "<p>Using variables to represent constants can make code easier to understand. It also makes it possible to change the value of the constants without rewriting every line of the code.</p>\n",
    "</div>"
   ]
  },
  {
   "cell_type": "markdown",
   "id": "a5ddac64",
   "metadata": {
    "heading_collapsed": true
   },
   "source": [
    "## Retrieving values\n",
    "To output the value of a particular variable, simply write that variable name as it's own line of code."
   ]
  },
  {
   "cell_type": "code",
   "execution_count": 6,
   "id": "fbfb2c7c",
   "metadata": {
    "hidden": true
   },
   "outputs": [
    {
     "data": {
      "text/html": [
       "10.75"
      ],
      "text/latex": [
       "10.75"
      ],
      "text/markdown": [
       "10.75"
      ],
      "text/plain": [
       "[1] 10.75"
      ]
     },
     "metadata": {},
     "output_type": "display_data"
    },
    {
     "data": {
      "text/html": [
       "0.2"
      ],
      "text/latex": [
       "0.2"
      ],
      "text/markdown": [
       "0.2"
      ],
      "text/plain": [
       "[1] 0.2"
      ]
     },
     "metadata": {},
     "output_type": "display_data"
    },
    {
     "data": {
      "text/html": [
       "8.6"
      ],
      "text/latex": [
       "8.6"
      ],
      "text/markdown": [
       "8.6"
      ],
      "text/plain": [
       "[1] 8.6"
      ]
     },
     "metadata": {},
     "output_type": "display_data"
    }
   ],
   "source": [
    "original_price\n",
    "discount\n",
    "sale_price"
   ]
  },
  {
   "cell_type": "markdown",
   "id": "acf6f0d7",
   "metadata": {
    "hidden": true
   },
   "source": [
    "<div class=\"admonition tip\" name=\"html-admonition\" >\n",
    "<div class=\"title\" style=\"background: lightyellow; padding: 10px\">Style Tip</div>\n",
    "<p>Outputting multiple variable values from the same input cell can lead to confusion. Consider splitting the code into multiple input cells.</p>\n",
    "</div>"
   ]
  },
  {
   "cell_type": "markdown",
   "id": "105272be",
   "metadata": {},
   "source": [
    "## Oder of execution\n",
    "\n",
    "The order in which the input cells were executed is indicated by the number in the square brackets on the left sided after In.\n"
   ]
  },
  {
   "cell_type": "markdown",
   "id": "2152bbc6",
   "metadata": {},
   "source": [
    "<div class=\"admonition warning\" name=\"html-admonition\">\n",
    "<div class=\"title\" style=\"background: pink; padding: 10px\">Warning</div>\n",
    "    <p><b>Cell execution order may not agree with cell display order.</b> Executing the following three inputs in the order ACB results in a different output than executing them in the order ABC. </p>\n",
    "<pre><code> x &#60;- 10 # Input A: stores the value 10 in the variable x \n",
    " x       # Input B: outputs the value of the variable x\n",
    " x &#60;- 5  # Input C: stores the value 5 in the variable x</code></pre>\n",
    "    \n",
    "<img src=\"./img/execultion_order.png\" alt=\"Six Jupyter notebook input cells\">\n",
    "    \n",
    "</div>"
   ]
  },
  {
   "cell_type": "code",
   "execution_count": null,
   "id": "c2c72b5f",
   "metadata": {},
   "outputs": [],
   "source": []
  }
 ],
 "metadata": {
  "kernelspec": {
   "display_name": "R",
   "language": "R",
   "name": "ir"
  },
  "language_info": {
   "codemirror_mode": "r",
   "file_extension": ".r",
   "mimetype": "text/x-r-source",
   "name": "R",
   "pygments_lexer": "r",
   "version": "4.0.5"
  }
 },
 "nbformat": 4,
 "nbformat_minor": 5
}
