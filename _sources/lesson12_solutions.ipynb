{
 "cells": [
  {
   "cell_type": "markdown",
   "metadata": {},
   "source": [
    "# Lesson 12 - Vectorization\n",
    "These exercises are to help you check your understanding during class. They will not be collected."
   ]
  },
  {
   "cell_type": "markdown",
   "metadata": {},
   "source": [
    "## Part 1 - Cancer Classifier"
   ]
  },
  {
   "cell_type": "markdown",
   "metadata": {},
   "source": [
    "### Exercise 1 - Load data and split it\n",
    "Load the data in the cancer.csv file in the shared data folder and split it into two data frames. One called training with the first 400 observations and one called test with the remaining observations."
   ]
  },
  {
   "cell_type": "code",
   "execution_count": 24,
   "metadata": {},
   "outputs": [],
   "source": [
    "cancer <- read.csv('~/shared/data/cancer.csv')\n",
    "\n",
    "training <- cancer[1:400,]\n",
    "test <- cancer[401:nrow(cancer),]"
   ]
  },
  {
   "cell_type": "markdown",
   "metadata": {},
   "source": [
    "### Exercise 2 - Classify \n",
    "The cell below contains the function that you build in lab based on the classification decision tree that we built together in lesson 9. Use this function to predict the class for all of the observations in the test data frame and store the predictions in a column called Prediction."
   ]
  },
  {
   "cell_type": "code",
   "execution_count": 32,
   "metadata": {},
   "outputs": [
    {
     "data": {
      "text/html": [
       "<table>\n",
       "<thead><tr><th scope=col>Marginal.Adhesion</th><th scope=col>Clump.Thickness</th><th scope=col>Prediction</th><th scope=col>Class</th></tr></thead>\n",
       "<tbody>\n",
       "\t<tr><td>6</td><td>3</td><td>1</td><td>0</td></tr>\n",
       "\t<tr><td>5</td><td>8</td><td>1</td><td>1</td></tr>\n",
       "\t<tr><td>1</td><td>1</td><td>0</td><td>0</td></tr>\n",
       "\t<tr><td>2</td><td>5</td><td>0</td><td>0</td></tr>\n",
       "\t<tr><td>1</td><td>2</td><td>0</td><td>0</td></tr>\n",
       "\t<tr><td>3</td><td>3</td><td>0</td><td>0</td></tr>\n",
       "</tbody>\n",
       "</table>\n"
      ],
      "text/latex": [
       "\\begin{tabular}{r|llll}\n",
       " Marginal.Adhesion & Clump.Thickness & Prediction & Class\\\\\n",
       "\\hline\n",
       "\t 6 & 3 & 1 & 0\\\\\n",
       "\t 5 & 8 & 1 & 1\\\\\n",
       "\t 1 & 1 & 0 & 0\\\\\n",
       "\t 2 & 5 & 0 & 0\\\\\n",
       "\t 1 & 2 & 0 & 0\\\\\n",
       "\t 3 & 3 & 0 & 0\\\\\n",
       "\\end{tabular}\n"
      ],
      "text/markdown": [
       "\n",
       "| Marginal.Adhesion | Clump.Thickness | Prediction | Class |\n",
       "|---|---|---|---|\n",
       "| 6 | 3 | 1 | 0 |\n",
       "| 5 | 8 | 1 | 1 |\n",
       "| 1 | 1 | 0 | 0 |\n",
       "| 2 | 5 | 0 | 0 |\n",
       "| 1 | 2 | 0 | 0 |\n",
       "| 3 | 3 | 0 | 0 |\n",
       "\n"
      ],
      "text/plain": [
       "  Marginal.Adhesion Clump.Thickness Prediction Class\n",
       "1 6                 3               1          0    \n",
       "2 5                 8               1          1    \n",
       "3 1                 1               0          0    \n",
       "4 2                 5               0          0    \n",
       "5 1                 2               0          0    \n",
       "6 3                 3               0          0    "
      ]
     },
     "metadata": {},
     "output_type": "display_data"
    }
   ],
   "source": [
    "# a is the marginal adhesion\n",
    "# t is the thickness\n",
    "\n",
    "classifier <- function (a, t){\n",
    "    if(a>4){\n",
    "        Class <- 1\n",
    "    } else if (t > 6){\n",
    "        Class <- 1\n",
    "    } else {\n",
    "        Class <- 0\n",
    "    }\n",
    "    Class\n",
    "}\n",
    "classifier <- Vectorize(classifier)\n",
    "\n",
    "test <- mutate(\n",
    "            test, \n",
    "            Prediction = classifier(Marginal.Adhesion, Clump.Thickness)\n",
    "        )\n",
    "test <- select(\n",
    "            test, \n",
    "            Marginal.Adhesion, Clump.Thickness, Prediction, Class\n",
    "        )\n",
    "head(test)"
   ]
  },
  {
   "cell_type": "markdown",
   "metadata": {},
   "source": [
    "## Examples from notes"
   ]
  },
  {
   "cell_type": "markdown",
   "metadata": {},
   "source": [
    "### Example 1 - Regions of the plain"
   ]
  },
  {
   "cell_type": "code",
   "execution_count": 3,
   "metadata": {},
   "outputs": [],
   "source": [
    "library(dplyr)"
   ]
  },
  {
   "cell_type": "code",
   "execution_count": 1,
   "metadata": {},
   "outputs": [
    {
     "data": {
      "text/html": [
       "<table>\n",
       "<thead><tr><th scope=col>x</th><th scope=col>y</th></tr></thead>\n",
       "<tbody>\n",
       "\t<tr><td> 0</td><td> 0</td></tr>\n",
       "\t<tr><td> 0</td><td> 5</td></tr>\n",
       "\t<tr><td> 3</td><td> 0</td></tr>\n",
       "\t<tr><td>-1</td><td> 1</td></tr>\n",
       "\t<tr><td>-2</td><td>-6</td></tr>\n",
       "\t<tr><td> 7</td><td>-9</td></tr>\n",
       "\t<tr><td>10</td><td>13</td></tr>\n",
       "</tbody>\n",
       "</table>\n"
      ],
      "text/latex": [
       "\\begin{tabular}{r|ll}\n",
       " x & y\\\\\n",
       "\\hline\n",
       "\t  0 &  0\\\\\n",
       "\t  0 &  5\\\\\n",
       "\t  3 &  0\\\\\n",
       "\t -1 &  1\\\\\n",
       "\t -2 & -6\\\\\n",
       "\t  7 & -9\\\\\n",
       "\t 10 & 13\\\\\n",
       "\\end{tabular}\n"
      ],
      "text/markdown": [
       "\n",
       "| x | y |\n",
       "|---|---|\n",
       "|  0 |  0 |\n",
       "|  0 |  5 |\n",
       "|  3 |  0 |\n",
       "| -1 |  1 |\n",
       "| -2 | -6 |\n",
       "|  7 | -9 |\n",
       "| 10 | 13 |\n",
       "\n"
      ],
      "text/plain": [
       "  x  y \n",
       "1  0  0\n",
       "2  0  5\n",
       "3  3  0\n",
       "4 -1  1\n",
       "5 -2 -6\n",
       "6  7 -9\n",
       "7 10 13"
      ]
     },
     "metadata": {},
     "output_type": "display_data"
    }
   ],
   "source": [
    "points <- data.frame(x = c(0,0,3,-1,-2,7,10), y = c(0,5,0,1,-6,-9,13))\n",
    "points"
   ]
  },
  {
   "cell_type": "code",
   "execution_count": 30,
   "metadata": {},
   "outputs": [
    {
     "data": {
      "text/html": [
       "<table>\n",
       "<thead><tr><th scope=col>x</th><th scope=col>y</th><th scope=col>Region</th></tr></thead>\n",
       "<tbody>\n",
       "\t<tr><td> 0             </td><td> 0             </td><td>origin         </td></tr>\n",
       "\t<tr><td> 0             </td><td> 5             </td><td>y-axis         </td></tr>\n",
       "\t<tr><td> 3             </td><td> 0             </td><td>x-axis         </td></tr>\n",
       "\t<tr><td>-1             </td><td> 1             </td><td>second quadrant</td></tr>\n",
       "\t<tr><td>-2             </td><td>-6             </td><td>third quadrant </td></tr>\n",
       "\t<tr><td> 7             </td><td>-9             </td><td>fourth quadrant</td></tr>\n",
       "\t<tr><td>10             </td><td>13             </td><td>first quadrant </td></tr>\n",
       "</tbody>\n",
       "</table>\n"
      ],
      "text/latex": [
       "\\begin{tabular}{r|lll}\n",
       " x & y & Region\\\\\n",
       "\\hline\n",
       "\t  0              &  0              & origin         \\\\\n",
       "\t  0              &  5              & y-axis         \\\\\n",
       "\t  3              &  0              & x-axis         \\\\\n",
       "\t -1              &  1              & second quadrant\\\\\n",
       "\t -2              & -6              & third quadrant \\\\\n",
       "\t  7              & -9              & fourth quadrant\\\\\n",
       "\t 10              & 13              & first quadrant \\\\\n",
       "\\end{tabular}\n"
      ],
      "text/markdown": [
       "\n",
       "| x | y | Region |\n",
       "|---|---|---|\n",
       "|  0              |  0              | origin          |\n",
       "|  0              |  5              | y-axis          |\n",
       "|  3              |  0              | x-axis          |\n",
       "| -1              |  1              | second quadrant |\n",
       "| -2              | -6              | third quadrant  |\n",
       "|  7              | -9              | fourth quadrant |\n",
       "| 10              | 13              | first quadrant  |\n",
       "\n"
      ],
      "text/plain": [
       "  x  y  Region         \n",
       "1  0  0 origin         \n",
       "2  0  5 y-axis         \n",
       "3  3  0 x-axis         \n",
       "4 -1  1 second quadrant\n",
       "5 -2 -6 third quadrant \n",
       "6  7 -9 fourth quadrant\n",
       "7 10 13 first quadrant "
      ]
     },
     "metadata": {},
     "output_type": "display_data"
    }
   ],
   "source": [
    "region <- function(x,y){\n",
    "    if(x== 0 & y==0){\n",
    "        r <- 'origin'\n",
    "    } else if(x==0){\n",
    "        r <- 'y-axis'\n",
    "    } else if(y==0){\n",
    "        r <- 'x-axis'\n",
    "    } else if(x>0 & y >0){\n",
    "        r <- \"first quadrant\"\n",
    "    } else if(y>0) {\n",
    "        r <- 'second quadrant'\n",
    "    } else if(x<0 & y <0) {\n",
    "        r <- 'third quadrant'\n",
    "    } else {\n",
    "        r <- 'fourth quadrant'\n",
    "    }\n",
    "    r\n",
    "}\n",
    "\n",
    "region <- Vectorize(region)  \n",
    "points <- mutate(points, Region = region(x, y)) # x and y here are the whole x and y columns; they are vectors\n",
    "points"
   ]
  },
  {
   "cell_type": "code",
   "execution_count": 28,
   "metadata": {},
   "outputs": [
    {
     "data": {
      "text/html": [
       "<ol class=list-inline>\n",
       "\t<li>'origin'</li>\n",
       "\t<li>'y-axis'</li>\n",
       "\t<li>'x-axis'</li>\n",
       "\t<li>'second quadrant'</li>\n",
       "\t<li>'third quadrant'</li>\n",
       "\t<li>'fourth quadrant'</li>\n",
       "\t<li>'first quadrant'</li>\n",
       "</ol>\n"
      ],
      "text/latex": [
       "\\begin{enumerate*}\n",
       "\\item 'origin'\n",
       "\\item 'y-axis'\n",
       "\\item 'x-axis'\n",
       "\\item 'second quadrant'\n",
       "\\item 'third quadrant'\n",
       "\\item 'fourth quadrant'\n",
       "\\item 'first quadrant'\n",
       "\\end{enumerate*}\n"
      ],
      "text/markdown": [
       "1. 'origin'\n",
       "2. 'y-axis'\n",
       "3. 'x-axis'\n",
       "4. 'second quadrant'\n",
       "5. 'third quadrant'\n",
       "6. 'fourth quadrant'\n",
       "7. 'first quadrant'\n",
       "\n",
       "\n"
      ],
      "text/plain": [
       "[1] \"origin\"          \"y-axis\"          \"x-axis\"          \"second quadrant\"\n",
       "[5] \"third quadrant\"  \"fourth quadrant\" \"first quadrant\" "
      ]
     },
     "metadata": {},
     "output_type": "display_data"
    }
   ],
   "source": [
    "# inside mutate we wrote region(x,y). This is shorthand for the following\n",
    "region(points$x, points$y)"
   ]
  },
  {
   "cell_type": "markdown",
   "metadata": {},
   "source": [
    "If we omit the vectorization step, then the region() function is only evaluated on the **first** observation and that output is used for **every** row. "
   ]
  },
  {
   "cell_type": "code",
   "execution_count": null,
   "metadata": {},
   "outputs": [],
   "source": []
  }
 ],
 "metadata": {
  "celltoolbar": "Attachments",
  "kernelspec": {
   "display_name": "R",
   "language": "R",
   "name": "ir"
  },
  "language_info": {
   "codemirror_mode": "r",
   "file_extension": ".r",
   "mimetype": "text/x-r-source",
   "name": "R",
   "pygments_lexer": "r",
   "version": "4.1.1"
  }
 },
 "nbformat": 4,
 "nbformat_minor": 4
}
