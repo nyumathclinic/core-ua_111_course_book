{
 "cells": [
  {
   "cell_type": "markdown",
   "id": "0b998980",
   "metadata": {},
   "source": [
    "(base_r:data_types)=\n",
    "# Data types\n",
    "All data in R has an associated type, the type refers to the format in which the data is stored. Use `typeof()` to determine the data type of an object.\n",
    "\n",
    "```typeof(VARIABLE_NAME)```"
   ]
  },
  {
   "cell_type": "code",
   "execution_count": 1,
   "id": "404ea549",
   "metadata": {},
   "outputs": [
    {
     "data": {
      "text/html": [
       "'character'"
      ],
      "text/latex": [
       "'character'"
      ],
      "text/markdown": [
       "'character'"
      ],
      "text/plain": [
       "[1] \"character\""
      ]
     },
     "metadata": {},
     "output_type": "display_data"
    }
   ],
   "source": [
    "typeof('Hello! How are you?')"
   ]
  },
  {
   "cell_type": "code",
   "execution_count": 2,
   "id": "2d7a0bc5",
   "metadata": {},
   "outputs": [
    {
     "data": {
      "text/html": [
       "'double'"
      ],
      "text/latex": [
       "'double'"
      ],
      "text/markdown": [
       "'double'"
      ],
      "text/plain": [
       "[1] \"double\""
      ]
     },
     "metadata": {},
     "output_type": "display_data"
    }
   ],
   "source": [
    "typeof(3.1415)"
   ]
  },
  {
   "cell_type": "code",
   "execution_count": 5,
   "id": "892f8f5a",
   "metadata": {},
   "outputs": [
    {
     "data": {
      "text/html": [
       "'logical'"
      ],
      "text/latex": [
       "'logical'"
      ],
      "text/markdown": [
       "'logical'"
      ],
      "text/plain": [
       "[1] \"logical\""
      ]
     },
     "metadata": {},
     "output_type": "display_data"
    }
   ],
   "source": [
    "typeof(TRUE)"
   ]
  },
  {
   "cell_type": "markdown",
   "id": "90509d16",
   "metadata": {},
   "source": [
    "## Numeric: integers and doubles\n",
    "Numeric data comes in two main types: integers and doubles. *Integers* are whole numbers like 1, 2, 0, -1000, and 54. *Doubles* are numbers that can be represented by fractions or decimals like 3.14159, 0.25, and 0.33. "
   ]
  },
  {
   "cell_type": "markdown",
   "id": "26638512",
   "metadata": {},
   "source": [
    "<div class=\"admonition note\" name=\"html-admonition\">\n",
    "<div class=\"title\" style=\"background: lightblue; padding: 10px\">Note</div>\n",
    "<p>Whole numbers are sometimes stored as doubles as they can also be represented as fractions or decimals\n",
    "    $$3 = \\frac{3}{1} = 3.0 $$\n",
    "    </p>\n",
    "</div>"
   ]
  },
  {
   "cell_type": "markdown",
   "id": "7b3c7d60",
   "metadata": {},
   "source": [
    "## Character\n",
    "Character data usually contain information like words, sentences and paragraphs. They are always surrounded by matching quote marks."
   ]
  },
  {
   "cell_type": "code",
   "execution_count": 7,
   "id": "1bbc2a1c",
   "metadata": {},
   "outputs": [
    {
     "data": {
      "text/html": [
       "'apple'"
      ],
      "text/latex": [
       "'apple'"
      ],
      "text/markdown": [
       "'apple'"
      ],
      "text/plain": [
       "[1] \"apple\""
      ]
     },
     "metadata": {},
     "output_type": "display_data"
    }
   ],
   "source": [
    "'apple'"
   ]
  },
  {
   "cell_type": "code",
   "execution_count": 8,
   "id": "3531ddb3",
   "metadata": {},
   "outputs": [
    {
     "data": {
      "text/html": [
       "'Yesturday, I went to the store.'"
      ],
      "text/latex": [
       "'Yesturday, I went to the store.'"
      ],
      "text/markdown": [
       "'Yesturday, I went to the store.'"
      ],
      "text/plain": [
       "[1] \"Yesturday, I went to the store.\""
      ]
     },
     "metadata": {},
     "output_type": "display_data"
    }
   ],
   "source": [
    "\"Yesturday, I went to the store.\""
   ]
  },
  {
   "cell_type": "markdown",
   "id": "f60c6ca9",
   "metadata": {},
   "source": [
    "<div class=\"admonition warning\" name=\"html-admonition\">\n",
    "<div class=\"title\" style=\"background: pink; padding: 10px\">Warning</div>\n",
    "    <p><b>Don't omit the quote marks.</b> <code>'smile'</code> is the word smile and <code>smile</code> is a variable named smile.</p>\n",
    "</div>"
   ]
  },
  {
   "cell_type": "code",
   "execution_count": 2,
   "id": "fcc14d1f",
   "metadata": {},
   "outputs": [
    {
     "data": {
      "text/html": [
       "'character'"
      ],
      "text/latex": [
       "'character'"
      ],
      "text/markdown": [
       "'character'"
      ],
      "text/plain": [
       "[1] \"character\""
      ]
     },
     "metadata": {},
     "output_type": "display_data"
    }
   ],
   "source": [
    "typeof('smile')"
   ]
  },
  {
   "cell_type": "code",
   "execution_count": 1,
   "id": "96c7ebef",
   "metadata": {},
   "outputs": [
    {
     "ename": "ERROR",
     "evalue": "Error in typeof(smile): object 'smile' not found\n",
     "output_type": "error",
     "traceback": [
      "Error in typeof(smile): object 'smile' not found\nTraceback:\n",
      "1. typeof(smile)"
     ]
    }
   ],
   "source": [
    "typeof(smile)"
   ]
  },
  {
   "cell_type": "markdown",
   "id": "2557596e",
   "metadata": {},
   "source": [
    "## Logical\n",
    "Logical data has two possible values: `TRUE` and `FALSE`. "
   ]
  },
  {
   "cell_type": "code",
   "execution_count": 6,
   "id": "7c0ed02c",
   "metadata": {},
   "outputs": [
    {
     "data": {
      "text/html": [
       "TRUE"
      ],
      "text/latex": [
       "TRUE"
      ],
      "text/markdown": [
       "TRUE"
      ],
      "text/plain": [
       "[1] TRUE"
      ]
     },
     "metadata": {},
     "output_type": "display_data"
    },
    {
     "data": {
      "text/html": [
       "FALSE"
      ],
      "text/latex": [
       "FALSE"
      ],
      "text/markdown": [
       "FALSE"
      ],
      "text/plain": [
       "[1] FALSE"
      ]
     },
     "metadata": {},
     "output_type": "display_data"
    }
   ],
   "source": [
    "TRUE\n",
    "FALSE"
   ]
  },
  {
   "cell_type": "markdown",
   "id": "975a1afb",
   "metadata": {},
   "source": [
    "<div class=\"admonition warning\" name=\"html-admonition\">\n",
    "<div class=\"title\" style=\"background: pink; padding: 10px\">Warning</div>\n",
    "    <p><b>Pay attention to capitalization.</b> <code>TRUE</code> and <code>FALSE</code> are logical data values, but <code>true</code> and <code>false</code> are just variables with confusing names.</p>\n",
    "</div>"
   ]
  },
  {
   "cell_type": "code",
   "execution_count": null,
   "id": "0e7060e0",
   "metadata": {},
   "outputs": [],
   "source": []
  }
 ],
 "metadata": {
  "kernelspec": {
   "display_name": "R",
   "language": "R",
   "name": "ir"
  },
  "language_info": {
   "codemirror_mode": "r",
   "file_extension": ".r",
   "mimetype": "text/x-r-source",
   "name": "R",
   "pygments_lexer": "r",
   "version": "4.0.5"
  }
 },
 "nbformat": 4,
 "nbformat_minor": 5
}
