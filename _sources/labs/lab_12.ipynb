{
 "cells": [
  {
   "cell_type": "markdown",
   "id": "3c7f42ee",
   "metadata": {},
   "source": [
    "(lab12)=\n",
    "# Lab 12 Worksheet"
   ]
  },
  {
   "cell_type": "markdown",
   "id": "ce4e5fff",
   "metadata": {},
   "source": [
    "## Name, NetID, Collaborators\n",
    "Please edit the markdown cell below for “Names & NetIDs” and enter:\n",
    "- Your name and NetID (eg. cc5948), and\n",
    "- The names and NetIDs of everyone with whom you have collaborated with (e.g., discussed\n",
    "questions with, provided help to, received help from, etc.).\n",
    "\n",
    "Our goal is to create an honest, collaborative, and positive learning environment. Keep\n",
    "in mind that while collaboration in lab and homework is strongly encouraged, the work\n",
    "you submitted must be your own (you typed them up yourself; you can explain what you\n",
    "submitted). Your goal is to use the help and support to eventually understand the ideas\n",
    "and the methods yourself"
   ]
  },
  {
   "cell_type": "markdown",
   "id": "b866713d",
   "metadata": {},
   "source": [
    "**Name and NetID:**\n",
    "\n",
    "\n",
    "**Collaborators:**"
   ]
  },
  {
   "cell_type": "markdown",
   "id": "77222ab9",
   "metadata": {},
   "source": [
    "## Part 1: Exercises\n",
    "\n",
    "All questions refer to the data described by the histogram in Part 2. This data consists of 1000 whole numbers between 1 and 16."
   ]
  },
  {
   "cell_type": "markdown",
   "id": "aec32d1f",
   "metadata": {},
   "source": [
    "### Exercise 1: Average\n",
    "Find the average of the data. Briefly explain your reasoning."
   ]
  },
  {
   "cell_type": "markdown",
   "id": "8341ac4d",
   "metadata": {},
   "source": []
  },
  {
   "cell_type": "markdown",
   "id": "126fffba",
   "metadata": {},
   "source": [
    "### Exercise 2: Median\n",
    "Find the median of the data. Briefly explain your reasoning."
   ]
  },
  {
   "cell_type": "markdown",
   "id": "dee714d1",
   "metadata": {},
   "source": []
  },
  {
   "cell_type": "markdown",
   "id": "621e254a",
   "metadata": {},
   "source": [
    "### Exercise 3: 5% quantile\n",
    "Find the cut off for the 5% quantile. Briefly explain your reasoning."
   ]
  },
  {
   "cell_type": "markdown",
   "id": "608bfb1b",
   "metadata": {},
   "source": []
  },
  {
   "cell_type": "markdown",
   "id": "3538ec10",
   "metadata": {},
   "source": [
    "### Exercise 4: 90% quantile\n",
    "Find the cut off for the 90% quantile. Briefly explain your reasoning."
   ]
  },
  {
   "cell_type": "markdown",
   "id": "33778f47",
   "metadata": {},
   "source": []
  },
  {
   "cell_type": "markdown",
   "id": "4002dc5b",
   "metadata": {},
   "source": [
    "### Exercise 5: 95% Confidence interval\n",
    "Find the 95% confidence interval. Briefly explain your reasoning."
   ]
  },
  {
   "cell_type": "markdown",
   "id": "9c0b32da",
   "metadata": {},
   "source": []
  },
  {
   "cell_type": "markdown",
   "id": "a089eb34",
   "metadata": {},
   "source": [
    "## Part 2: Histogram\n",
    "\n",
    "It may help to open the image in a new tab. \n",
    "\n",
    "![hand drawn histogram](../img/lab12_histogram.png)"
   ]
  },
  {
   "cell_type": "code",
   "execution_count": null,
   "id": "6522d04c",
   "metadata": {},
   "outputs": [],
   "source": []
  }
 ],
 "metadata": {
  "celltoolbar": "Edit Metadata",
  "kernelspec": {
   "display_name": "R",
   "language": "R",
   "name": "ir"
  },
  "language_info": {
   "codemirror_mode": "r",
   "file_extension": ".r",
   "mimetype": "text/x-r-source",
   "name": "R",
   "pygments_lexer": "r",
   "version": "4.0.5"
  }
 },
 "nbformat": 4,
 "nbformat_minor": 5
}
