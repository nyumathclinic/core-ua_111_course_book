{
 "cells": [
  {
   "cell_type": "markdown",
   "id": "3c7f42ee",
   "metadata": {},
   "source": [
    "(lab08)=\n",
    "# Lab 8 Worksheet"
   ]
  },
  {
   "cell_type": "markdown",
   "id": "ce4e5fff",
   "metadata": {},
   "source": [
    "## Name, NetID, Collaborators\n",
    "Please edit the markdown cell below for “Names & NetIDs” and enter:\n",
    "- Your name and NetID (eg. cc5948), and\n",
    "- The names and NetIDs of everyone with whom you have collaborated with (e.g., discussed\n",
    "questions with, provided help to, received help from, etc.).\n",
    "\n",
    "Our goal is to create an honest, collaborative, and positive learning environment. Keep\n",
    "in mind that while collaboration in lab and homework is strongly encouraged, the work\n",
    "you submitted must be your own (you typed them up yourself; you can explain what you\n",
    "submitted). Your goal is to use the help and support to eventually understand the ideas\n",
    "and the methods yourself"
   ]
  },
  {
   "cell_type": "markdown",
   "id": "b866713d",
   "metadata": {},
   "source": [
    "**Name and NetID:**\n",
    "\n",
    "\n",
    "**Collaborators:**"
   ]
  },
  {
   "cell_type": "markdown",
   "id": "77222ab9",
   "metadata": {},
   "source": [
    "## Part 1:  Cars again"
   ]
  },
  {
   "cell_type": "markdown",
   "id": "126fffba",
   "metadata": {},
   "source": [
    "### Exercise 1: Explore the data\n",
    "\n",
    "- Re-familarize yourself with the the built in `cars` data set by reading the documentation.\n",
    "    + When was the data collected?\n",
    "    + What are the units on the variables?\n",
    "- Create a scatter plot with speed on the x-axis and stopping distance on the y-axis.\n",
    "- Enhance your plot by adding a descriptive title, axis labels with units and an aesthetically pleasing theme. "
   ]
  },
  {
   "cell_type": "code",
   "execution_count": null,
   "id": "66a8fd1d",
   "metadata": {},
   "outputs": [],
   "source": []
  },
  {
   "cell_type": "markdown",
   "id": "621e254a",
   "metadata": {},
   "source": [
    "### Exercise 2: Add the best fit line\n",
    "\n",
    "- Add the best fit line to your plot from exercise 1. \n",
    "- Based on this what does the model predict as the stopping distance for a car traveling at 19.5 miles per hour?"
   ]
  },
  {
   "cell_type": "code",
   "execution_count": null,
   "id": "5a343326",
   "metadata": {},
   "outputs": [],
   "source": []
  },
  {
   "cell_type": "markdown",
   "id": "4002dc5b",
   "metadata": {},
   "source": [
    "### Exercise 3: Formula for the best fit line\n",
    "\n",
    "- Use `lm()` to find the formula for the best fit line. \n",
    "- Use this formula to create a function called `best_line` that takes in a speed and outputs the predicted stopping distance.\n",
    "- Use your function to predict the stop distance at 6 mph, 10.25 mph and 19.5 mph. Do the outputs agree with what you saw on the plot?"
   ]
  },
  {
   "cell_type": "code",
   "execution_count": null,
   "id": "f7d7be30",
   "metadata": {},
   "outputs": [],
   "source": []
  },
  {
   "cell_type": "markdown",
   "id": "981c75a9",
   "metadata": {},
   "source": [
    "### Exercise 4: Mean squared error two ways\n",
    "\n",
    "- Use the output of `lm()` to compute the mean squared error.\n",
    "- Then, use your function from the previous exercise to compute the mean squared error step by step:\n",
    "    + Find the predicted stopping distance for each observation in cars\n",
    "    + Find the residual associated to each prediction\n",
    "    + Use your computed residuals to find the mean squared error. \n",
    "- Did the two computations give the same result?"
   ]
  },
  {
   "cell_type": "code",
   "execution_count": null,
   "id": "7a285d6f",
   "metadata": {},
   "outputs": [],
   "source": []
  },
  {
   "cell_type": "markdown",
   "id": "65e9dad3",
   "metadata": {},
   "source": []
  },
  {
   "cell_type": "markdown",
   "id": "399102bf",
   "metadata": {},
   "source": [
    "### Exercise 5: Plot an exponential function\n",
    "\n",
    "In R, `exp()` is used to represent exponential functions as follows. The code `exp(A*x + C)` will give the value of $e^{Ax+C}$.\n",
    "\n",
    "- Add a column called `y_values` to the points data frame defined in the cell below so that contains the values that satisfy the following equation: $y = e^{0.25x - 1}$.\n",
    "- Plot the points."
   ]
  },
  {
   "cell_type": "code",
   "execution_count": 4,
   "id": "12e6c37b",
   "metadata": {},
   "outputs": [],
   "source": [
    "points <- data.frame(x_values = 0.5*(1:20))"
   ]
  },
  {
   "cell_type": "markdown",
   "id": "4b0b8e31",
   "metadata": {},
   "source": []
  }
 ],
 "metadata": {
  "celltoolbar": "Edit Metadata",
  "kernelspec": {
   "display_name": "R",
   "language": "R",
   "name": "ir"
  },
  "language_info": {
   "codemirror_mode": "r",
   "file_extension": ".r",
   "mimetype": "text/x-r-source",
   "name": "R",
   "pygments_lexer": "r",
   "version": "4.0.5"
  }
 },
 "nbformat": 4,
 "nbformat_minor": 5
}
