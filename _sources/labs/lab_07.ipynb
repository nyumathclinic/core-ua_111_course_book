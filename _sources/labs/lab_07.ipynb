{
 "cells": [
  {
   "cell_type": "markdown",
   "id": "3c7f42ee",
   "metadata": {},
   "source": [
    "(lab07)=\n",
    "# Lab 7 Worksheet"
   ]
  },
  {
   "cell_type": "markdown",
   "id": "ce4e5fff",
   "metadata": {},
   "source": [
    "## Name, NetID, Collaborators\n",
    "Please edit the markdown cell below for “Names & NetIDs” and enter:\n",
    "- Your name and NetID (eg. cc5948), and\n",
    "- The names and NetIDs of everyone with whom you have collaborated with (e.g., discussed\n",
    "questions with, provided help to, received help from, etc.).\n",
    "\n",
    "Our goal is to create an honest, collaborative, and positive learning environment. Keep\n",
    "in mind that while collaboration in lab and homework is strongly encouraged, the work\n",
    "you submitted must be your own (you typed them up yourself; you can explain what you\n",
    "submitted). Your goal is to use the help and support to eventually understand the ideas\n",
    "and the methods yourself"
   ]
  },
  {
   "cell_type": "markdown",
   "id": "b866713d",
   "metadata": {},
   "source": [
    "**Name and NetID:**\n",
    "\n",
    "\n",
    "**Collaborators:**"
   ]
  },
  {
   "cell_type": "markdown",
   "id": "77222ab9",
   "metadata": {},
   "source": [
    "## Part 1: Two models\n",
    "In Lesson 15, you used a knn model to predict the class of some observations in the `cancer` data set and then computed effectiveness measures for this model. In this lab, you will do that two more times and compare the results.  "
   ]
  },
  {
   "cell_type": "markdown",
   "id": "126fffba",
   "metadata": {},
   "source": [
    "### Exercise 1: Prepare the data\n",
    "\n",
    "- Load the `cancer.csv` data sets from the shared data folder.\n",
    "- Use factor to make the Class variable more human readable. \n",
    "- Split the data into three roughly equal pieces and name them: `training_data`, `test_model_1` and `test_model_2`. \n",
    "- Use `nrow()` to verify that each of the data sets has the expected number of rows. \n",
    "\n",
    "In class, we saw the following syntax: `DATA_FRAME[ START_ROW:END_ROW, ]` for extracting the rows of a data frame in a given range.  "
   ]
  },
  {
   "cell_type": "code",
   "execution_count": null,
   "id": "4ca7564c",
   "metadata": {},
   "outputs": [],
   "source": []
  },
  {
   "cell_type": "markdown",
   "id": "621e254a",
   "metadata": {},
   "source": [
    "### Exercise 2: Thirty neighbors\n",
    "- Use `knn()` to predict the Class of the observations in `test_model_1` based on the classes of their thirty nearest neighbors in `training_data`.\n",
    "- Store the predictions in a column called Predictions in `test_model_1`. "
   ]
  },
  {
   "cell_type": "code",
   "execution_count": null,
   "id": "5a343326",
   "metadata": {},
   "outputs": [],
   "source": []
  },
  {
   "cell_type": "markdown",
   "id": "4002dc5b",
   "metadata": {},
   "source": [
    "### Exercise 3: Three neighbors\n",
    "- Use knn() to predict the Class of the observations in test_model_2 based on the classes of their three nearest neighbors in training_data.\n",
    "- Store the predictions in a column called Predictions in test_model_2."
   ]
  },
  {
   "cell_type": "code",
   "execution_count": null,
   "id": "f7d7be30",
   "metadata": {},
   "outputs": [],
   "source": []
  },
  {
   "cell_type": "markdown",
   "id": "555ca108",
   "metadata": {},
   "source": [
    "## Part 2: Compare effectiveness"
   ]
  },
  {
   "cell_type": "markdown",
   "id": "981c75a9",
   "metadata": {},
   "source": [
    "### Exercise 4: Table of effectiveness measures\n",
    "- Replace the zeros in the `effectiveness_measures` data frame defined below with the values of each of the measures for both model 1 and model 2. You can do this by copying and pasting from elsewhere or with formulae.\n",
    "- Use R functions to round the values in `effectiveness_measures` to two decimal places. "
   ]
  },
  {
   "cell_type": "code",
   "execution_count": null,
   "id": "9a2efa24",
   "metadata": {},
   "outputs": [],
   "source": [
    "effectiveness_measures <- data.frame(\n",
    "    Measure = c('Accuracy', 'Precission', 'True positive rate', 'True negative rate'),\n",
    "    Model_1 = c(\n",
    "        0, # Accuracy\n",
    "        0, # Precission\n",
    "        0, # True postitive rate\n",
    "        0 # True negative rate\n",
    "        ),\n",
    "    Model_2 = c(\n",
    "        0, # Accuracy\n",
    "        0, # Precission\n",
    "        0, # True postitive rate\n",
    "        0 # True negative rate\n",
    "        )\n",
    "    )"
   ]
  },
  {
   "cell_type": "markdown",
   "id": "65e9dad3",
   "metadata": {},
   "source": []
  },
  {
   "cell_type": "markdown",
   "id": "399102bf",
   "metadata": {},
   "source": [
    "### Exercise 5: Differences\n",
    "- Add a column called Difference to the data frame showing the difference between the effectiveness measures. \n",
    "- Based on the effectiveness measures, which model is better? Explain your reasoning."
   ]
  },
  {
   "cell_type": "code",
   "execution_count": null,
   "id": "12e6c37b",
   "metadata": {},
   "outputs": [],
   "source": []
  },
  {
   "cell_type": "markdown",
   "id": "4b0b8e31",
   "metadata": {},
   "source": []
  }
 ],
 "metadata": {
  "celltoolbar": "Edit Metadata",
  "kernelspec": {
   "display_name": "R",
   "language": "R",
   "name": "ir"
  },
  "language_info": {
   "codemirror_mode": "r",
   "file_extension": ".r",
   "mimetype": "text/x-r-source",
   "name": "R",
   "pygments_lexer": "r",
   "version": "4.0.5"
  }
 },
 "nbformat": 4,
 "nbformat_minor": 5
}
