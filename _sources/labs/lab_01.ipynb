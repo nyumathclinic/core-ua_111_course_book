{
 "cells": [
  {
   "cell_type": "markdown",
   "id": "3c7f42ee",
   "metadata": {},
   "source": [
    "# Lab 1 Worksheet"
   ]
  },
  {
   "cell_type": "markdown",
   "id": "6fc4c6c2",
   "metadata": {},
   "source": [
    "## Part 0: Getting started"
   ]
  },
  {
   "cell_type": "markdown",
   "id": "459515d2",
   "metadata": {},
   "source": [
    "### Open this notebook on the Jupyter Hub\n",
    "* Click on the rocket icon in the upper right of this page of the course book. \n",
    "* Click the JupyterHub link.\n",
    "* If prompted, log in to the Jupyter Hub with your NYU account.\n",
    "* If prompted to select a kernel, choose *R [conda env:FDTD]*."
   ]
  },
  {
   "cell_type": "markdown",
   "id": "ce4e5fff",
   "metadata": {},
   "source": [
    "### Name, NetID, Collaborators\n",
    "Please edit the markdown cell below for “Names & NetIDs” and enter:\n",
    "- Your name and NetID (eg. cc5948), and\n",
    "- The names and NetIDs of everyone with whom you have collaborated with (e.g., discussed\n",
    "questions with, provided help to, received help from, etc.).\n",
    "\n",
    "Our goal is to create an honest, collaborative, and positive learning environment. Keep\n",
    "in mind that while collaboration in lab and homework is strongly encouraged, the work\n",
    "you submitted must be your own (you typed them up yourself; you can explain what you\n",
    "submitted). Your goal is to use the help and support to eventually understand the ideas\n",
    "and the methods yourself"
   ]
  },
  {
   "cell_type": "markdown",
   "id": "b866713d",
   "metadata": {},
   "source": [
    "**Name and NetID:**\n",
    "\n",
    "\n",
    "**Collaborators:**"
   ]
  },
  {
   "cell_type": "markdown",
   "id": "af9749a5",
   "metadata": {},
   "source": [
    "## Part 1: Bronx Population"
   ]
  },
  {
   "cell_type": "markdown",
   "id": "1a1c8840",
   "metadata": {},
   "source": [
    "### Exercise 1: Loading and storing the data\n",
    "Lehman College (part of the City University of New York system) hosts a portal for a variety\n",
    "of data sets about the Bronx: https://bronx.lehman.cuny.edu. In this part, we will explore a [population density data set](https://bronx.lehman.cuny.edu/Population/Bronx-Zip-Pop-Density/2q3n-mzjq) from this portal. \n",
    "\n",
    "- From the data set page linked above, click \"Export\", right click on \"CSV\", and choose \"Copy\n",
    "link address\".\n",
    "- Use this link to import this data as an R data frame:\n",
    "```read.csv( 'LINK')```\n",
    "- Store the data set in a variable called `bronx_pop_density`.\n",
    "- Use the head() function to preview the first 2 rows of this data frame. Notice that R truncates the data; it doesn't show some of the middle variables. "
   ]
  },
  {
   "cell_type": "code",
   "execution_count": null,
   "id": "420986b7",
   "metadata": {},
   "outputs": [],
   "source": []
  },
  {
   "cell_type": "markdown",
   "id": "0a895f88",
   "metadata": {},
   "source": [
    "### Exercise 2: Area and population density. \n",
    "- Determine which Bronx county has the largest area.\n",
    "- Determine which Bronx county has the lowest population density.\n",
    "- Summarize your findings in a markdown cell."
   ]
  },
  {
   "cell_type": "code",
   "execution_count": null,
   "id": "31e65fe8",
   "metadata": {},
   "outputs": [],
   "source": []
  },
  {
   "cell_type": "markdown",
   "id": "bc43e5dd",
   "metadata": {},
   "source": []
  },
  {
   "cell_type": "markdown",
   "id": "794406f0",
   "metadata": {},
   "source": [
    "### Exercise 3: Vacant units\n",
    "- Add a column called `vacant_units` to `bronx_pop_density` contains the number of vacant housing units in each zip code. Assume that each household occupies a single housing unit. \n",
    "- Find the average number of vacant units per zip code in the Bronx in 2010. \n",
    "- Summarize your findings in a markdown cell."
   ]
  },
  {
   "cell_type": "code",
   "execution_count": null,
   "id": "9cda331a",
   "metadata": {},
   "outputs": [],
   "source": []
  },
  {
   "cell_type": "markdown",
   "id": "b32aa6f7",
   "metadata": {},
   "source": []
  },
  {
   "cell_type": "markdown",
   "id": "7293efa8",
   "metadata": {},
   "source": [
    "## Part 2: Corner store"
   ]
  },
  {
   "cell_type": "markdown",
   "id": "52490add",
   "metadata": {},
   "source": [
    "### Exercise 4: Sort\n",
    "- Execute the data cell below to create that inventory data frame. \n",
    "- Output the inventory data frame.\n",
    "- Sort the inventory data frame so that the items with the highest tax are at the top and within each tax bracket the prices are increasing. "
   ]
  },
  {
   "cell_type": "code",
   "execution_count": 7,
   "id": "c5c0e719",
   "metadata": {},
   "outputs": [],
   "source": [
    "# You cannot edit this cell. \n",
    "# Notice that R gives no output when you assign values to variables.\n",
    "# You can see that the cell has been exicuted if there is a number in the brackets: In [].\n",
    "\n",
    "inventory <- data.frame(\n",
    "    item = c('paper towels','apple', 'banana', 'burrito'),\n",
    "    price =  c(1.29, 0.5, 8.99, 3.99 ), # in US dollars\n",
    "    tax = c(8.875, 0, 0, 8.875) # tax rate as percentage\n",
    ")"
   ]
  },
  {
   "cell_type": "code",
   "execution_count": 8,
   "id": "7ebeab86",
   "metadata": {},
   "outputs": [
    {
     "data": {
      "text/html": [
       "<table class=\"dataframe\">\n",
       "<caption>A data.frame: 4 × 3</caption>\n",
       "<thead>\n",
       "\t<tr><th scope=col>item</th><th scope=col>price</th><th scope=col>tax</th></tr>\n",
       "\t<tr><th scope=col>&lt;chr&gt;</th><th scope=col>&lt;dbl&gt;</th><th scope=col>&lt;dbl&gt;</th></tr>\n",
       "</thead>\n",
       "<tbody>\n",
       "\t<tr><td>paper towels</td><td>1.29</td><td>8.875</td></tr>\n",
       "\t<tr><td>apple       </td><td>0.50</td><td>0.000</td></tr>\n",
       "\t<tr><td>banana      </td><td>8.99</td><td>0.000</td></tr>\n",
       "\t<tr><td>burrito     </td><td>3.99</td><td>8.875</td></tr>\n",
       "</tbody>\n",
       "</table>\n"
      ],
      "text/latex": [
       "A data.frame: 4 × 3\n",
       "\\begin{tabular}{lll}\n",
       " item & price & tax\\\\\n",
       " <chr> & <dbl> & <dbl>\\\\\n",
       "\\hline\n",
       "\t paper towels & 1.29 & 8.875\\\\\n",
       "\t apple        & 0.50 & 0.000\\\\\n",
       "\t banana       & 8.99 & 0.000\\\\\n",
       "\t burrito      & 3.99 & 8.875\\\\\n",
       "\\end{tabular}\n"
      ],
      "text/markdown": [
       "\n",
       "A data.frame: 4 × 3\n",
       "\n",
       "| item &lt;chr&gt; | price &lt;dbl&gt; | tax &lt;dbl&gt; |\n",
       "|---|---|---|\n",
       "| paper towels | 1.29 | 8.875 |\n",
       "| apple        | 0.50 | 0.000 |\n",
       "| banana       | 8.99 | 0.000 |\n",
       "| burrito      | 3.99 | 8.875 |\n",
       "\n"
      ],
      "text/plain": [
       "  item         price tax  \n",
       "1 paper towels 1.29  8.875\n",
       "2 apple        0.50  0.000\n",
       "3 banana       8.99  0.000\n",
       "4 burrito      3.99  8.875"
      ]
     },
     "metadata": {},
     "output_type": "display_data"
    }
   ],
   "source": [
    "inventory"
   ]
  },
  {
   "cell_type": "markdown",
   "id": "408f268b",
   "metadata": {},
   "source": [
    "### Exercise 5: Total cost\n",
    "\n",
    "- Do the following with a sequenced of piped commands and store the result in the `inventory` data frame.\n",
    "- Add a column called `total_cost` containing the cost of each item including tax to the inventory data frame. \n",
    "- Sort the data frame by total cost."
   ]
  },
  {
   "cell_type": "code",
   "execution_count": null,
   "id": "49e34463",
   "metadata": {},
   "outputs": [],
   "source": []
  }
 ],
 "metadata": {
  "kernelspec": {
   "display_name": "R",
   "language": "R",
   "name": "ir"
  },
  "language_info": {
   "codemirror_mode": "r",
   "file_extension": ".r",
   "mimetype": "text/x-r-source",
   "name": "R",
   "pygments_lexer": "r",
   "version": "4.0.5"
  }
 },
 "nbformat": 4,
 "nbformat_minor": 5
}
