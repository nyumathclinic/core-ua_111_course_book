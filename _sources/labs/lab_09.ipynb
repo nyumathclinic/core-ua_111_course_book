{
 "cells": [
  {
   "cell_type": "markdown",
   "id": "3c7f42ee",
   "metadata": {},
   "source": [
    "(lab09)=\n",
    "# Lab 9 Worksheet"
   ]
  },
  {
   "cell_type": "markdown",
   "id": "ce4e5fff",
   "metadata": {},
   "source": [
    "## Name, NetID, Collaborators\n",
    "Please edit the markdown cell below for “Names & NetIDs” and enter:\n",
    "- Your name and NetID (eg. cc5948), and\n",
    "- The names and NetIDs of everyone with whom you have collaborated with (e.g., discussed\n",
    "questions with, provided help to, received help from, etc.).\n",
    "\n",
    "Our goal is to create an honest, collaborative, and positive learning environment. Keep\n",
    "in mind that while collaboration in lab and homework is strongly encouraged, the work\n",
    "you submitted must be your own (you typed them up yourself; you can explain what you\n",
    "submitted). Your goal is to use the help and support to eventually understand the ideas\n",
    "and the methods yourself"
   ]
  },
  {
   "cell_type": "markdown",
   "id": "b866713d",
   "metadata": {},
   "source": [
    "**Name and NetID:**\n",
    "\n",
    "\n",
    "**Collaborators:**"
   ]
  },
  {
   "cell_type": "markdown",
   "id": "77222ab9",
   "metadata": {},
   "source": [
    "## Part 1: Exponential data"
   ]
  },
  {
   "cell_type": "markdown",
   "id": "126fffba",
   "metadata": {},
   "source": [
    "### Exercise 1: Create the model\n",
    "\n",
    "- Load the `artificial_data.csv` from the shared data folder. \n",
    "- Find the best fit exponential model for group 8.\n",
    "- Create a function called `predict_8` that predicts the value of group 8 based on the value of x. \n",
    "- Use your function to create a column called `prediction_8` and with the predictions for each of the values in `x_values`. "
   ]
  },
  {
   "cell_type": "code",
   "execution_count": null,
   "id": "215e48c2",
   "metadata": {},
   "outputs": [],
   "source": []
  },
  {
   "cell_type": "markdown",
   "id": "621e254a",
   "metadata": {},
   "source": [
    "### Exercise 2:  Plot the predictions\n",
    "You can plot to different variables with different geometries as shown in the code snippet below. \n",
    "<pre><code>\n",
    "ggplot(DATAFRAME, aes(x = X_VARIABLE)) +\n",
    "    geom_point(mapping = aes(Y_VARIABLE_1)) + \n",
    "    geom_line(mapping = aes(Y_VARIABLE_2))\n",
    "</code></pre>\n",
    "\n",
    "- Create a plot shows the data in group 8 as points and uses `geom_line()` to draw a curve connecting the values in `prediction_8`.  See the [documentation for geom_line()](https://ggplot2.tidyverse.org/reference/geom_path.html) for more information about this function."
   ]
  },
  {
   "cell_type": "code",
   "execution_count": null,
   "id": "e4aa12f1",
   "metadata": {},
   "outputs": [],
   "source": []
  },
  {
   "cell_type": "markdown",
   "id": "4002dc5b",
   "metadata": {},
   "source": [
    "### Exercise 3: Mean squared error\n",
    "\n",
    "- Compute the mean squared error for your model using the values in `prediction_8`.\n",
    "- Compare this to the value that you get from taking the average of the residuals in the output of `lm()`.\n",
    "- Why aren't these numbers the same for exponential data?"
   ]
  },
  {
   "cell_type": "code",
   "execution_count": null,
   "id": "88db76e2",
   "metadata": {},
   "outputs": [],
   "source": []
  },
  {
   "cell_type": "markdown",
   "id": "b055300a",
   "metadata": {},
   "source": []
  },
  {
   "cell_type": "markdown",
   "id": "a0c14fd7",
   "metadata": {},
   "source": [
    "## Part 2: Quadratic data"
   ]
  },
  {
   "cell_type": "markdown",
   "id": "981c75a9",
   "metadata": {},
   "source": [
    "### Exercise 4: Build another model\n",
    "- Find the best fit quadratic model for group 11.\n",
    "- Create a function called `predict_11` that predicts the value of group 11 based on the value of x. \n",
    "- Use your function to create a column called `prediction_11` and with the predictions for each of the values in `x_values`. "
   ]
  },
  {
   "cell_type": "code",
   "execution_count": null,
   "id": "cfab91ad",
   "metadata": {},
   "outputs": [],
   "source": []
  },
  {
   "cell_type": "markdown",
   "id": "399102bf",
   "metadata": {},
   "source": [
    "### Exercise 5: Plot the data\n",
    "- Create a plot that shows the values of group 11 as points\n",
    "- Use `geom_smooth()` with `method = 'lm'` to plot the best fit quadratic model on this plot.\n",
    "- Verify that at least three of the predictions you made in the previous exercise agree with the plot. Write the points that you verified in a markdown cell. "
   ]
  },
  {
   "cell_type": "code",
   "execution_count": null,
   "id": "78062161",
   "metadata": {},
   "outputs": [],
   "source": []
  },
  {
   "cell_type": "markdown",
   "id": "4b0b8e31",
   "metadata": {},
   "source": []
  }
 ],
 "metadata": {
  "celltoolbar": "Edit Metadata",
  "kernelspec": {
   "display_name": "R",
   "language": "R",
   "name": "ir"
  },
  "language_info": {
   "codemirror_mode": "r",
   "file_extension": ".r",
   "mimetype": "text/x-r-source",
   "name": "R",
   "pygments_lexer": "r",
   "version": "4.0.5"
  }
 },
 "nbformat": 4,
 "nbformat_minor": 5
}
