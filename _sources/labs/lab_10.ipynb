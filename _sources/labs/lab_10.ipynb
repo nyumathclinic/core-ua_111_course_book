{
 "cells": [
  {
   "cell_type": "markdown",
   "id": "3c7f42ee",
   "metadata": {},
   "source": [
    "(lab10)=\n",
    "# Lab 10 Worksheet"
   ]
  },
  {
   "cell_type": "markdown",
   "id": "ce4e5fff",
   "metadata": {},
   "source": [
    "## Name, NetID, Collaborators\n",
    "Please edit the markdown cell below for “Names & NetIDs” and enter:\n",
    "- Your name and NetID (eg. cc5948), and\n",
    "- The names and NetIDs of everyone with whom you have collaborated with (e.g., discussed\n",
    "questions with, provided help to, received help from, etc.).\n",
    "\n",
    "Our goal is to create an honest, collaborative, and positive learning environment. Keep\n",
    "in mind that while collaboration in lab and homework is strongly encouraged, the work\n",
    "you submitted must be your own (you typed them up yourself; you can explain what you\n",
    "submitted). Your goal is to use the help and support to eventually understand the ideas\n",
    "and the methods yourself"
   ]
  },
  {
   "cell_type": "markdown",
   "id": "b866713d",
   "metadata": {},
   "source": [
    "**Name and NetID:**\n",
    "\n",
    "\n",
    "**Collaborators:**"
   ]
  },
  {
   "cell_type": "markdown",
   "id": "77222ab9",
   "metadata": {},
   "source": [
    "## Part 1: Covid-19 Data"
   ]
  },
  {
   "cell_type": "markdown",
   "id": "126fffba",
   "metadata": {},
   "source": [
    "### Exercise 1: COVID-19 Data exploration\n",
    "- Load the `coronavirus` library and explore both the `coronavirus` and the `covid19_vaccine` data sets. You may also want to read the [documentation for the coronavirus library](https://cran.r-project.org/web/packages/coronavirus/coronavirus.pdf).\n",
    "- For each data set, respond to the following prompts.\n",
    "    + In one sentence summarize, the information that is stored in the data set\n",
    "    + How many observations and how many variables does the data set have?"
   ]
  },
  {
   "cell_type": "code",
   "execution_count": null,
   "id": "af5e620f",
   "metadata": {},
   "outputs": [],
   "source": []
  },
  {
   "cell_type": "markdown",
   "id": "44128f47",
   "metadata": {},
   "source": []
  },
  {
   "cell_type": "markdown",
   "id": "621e254a",
   "metadata": {},
   "source": [
    "### Exercise 2: COVID-19 infection data visualization\n",
    "- Create one data visualization using the `coronavirus` data set.\n",
    "- What is one thing that you notice when looking at the visualization?\n",
    "- What is one thing that you wonder about the data in the visualization? State a question."
   ]
  },
  {
   "cell_type": "code",
   "execution_count": null,
   "id": "23cecf4f",
   "metadata": {},
   "outputs": [],
   "source": []
  },
  {
   "cell_type": "markdown",
   "id": "26be5b23",
   "metadata": {},
   "source": []
  },
  {
   "cell_type": "markdown",
   "id": "4002dc5b",
   "metadata": {},
   "source": [
    "### Exercise 3: COVID-19 vaccine data visualization\n",
    "- Create one data visualization using the `covid19_vaccine` data set.\n",
    "- What is one thing that you notice when looking at the visualization?\n",
    "- What is one thing that you wonder about the data in the visualization? State a question."
   ]
  },
  {
   "cell_type": "code",
   "execution_count": null,
   "id": "f64a988f",
   "metadata": {},
   "outputs": [],
   "source": []
  },
  {
   "cell_type": "markdown",
   "id": "d0b8e173",
   "metadata": {},
   "source": []
  },
  {
   "cell_type": "markdown",
   "id": "a0c14fd7",
   "metadata": {},
   "source": [
    "## Part 2: Movie data"
   ]
  },
  {
   "cell_type": "markdown",
   "id": "981c75a9",
   "metadata": {},
   "source": [
    "### Exercise 4: Movie data exploration\n",
    "- Load the movies.csv data set from the `~/shared/data/movies` folder. This is a simplified version of the data on this [website](https://www.cs.cornell.edu/~cristian/Cornell_Movie-Dialogs_Corpus.html) which was used to in this [paper](https://www.aclweb.org/anthology/W11-0609/).\n",
    "- In one sentence summarize, the information that is stored in the data set.\n",
    "- How many observations and how many variables does the data set have?"
   ]
  },
  {
   "cell_type": "code",
   "execution_count": null,
   "id": "e69bdf11",
   "metadata": {},
   "outputs": [],
   "source": []
  },
  {
   "cell_type": "markdown",
   "id": "abce3e4a",
   "metadata": {},
   "source": []
  },
  {
   "cell_type": "markdown",
   "id": "399102bf",
   "metadata": {},
   "source": [
    "### Exercise 5: Movie data visualization\n",
    "- Create one data visualization using one of the movies data. Then, respond to the following prompts:\n",
    "- What is one thing that you notice when looking at the visualization?\n",
    "- What is one thing that you wonder about the data in the visualization? State a question."
   ]
  },
  {
   "cell_type": "code",
   "execution_count": null,
   "id": "1260f1c9",
   "metadata": {},
   "outputs": [],
   "source": []
  },
  {
   "cell_type": "markdown",
   "id": "b768615f",
   "metadata": {},
   "source": []
  }
 ],
 "metadata": {
  "celltoolbar": "Edit Metadata",
  "kernelspec": {
   "display_name": "R",
   "language": "R",
   "name": "ir"
  },
  "language_info": {
   "codemirror_mode": "r",
   "file_extension": ".r",
   "mimetype": "text/x-r-source",
   "name": "R",
   "pygments_lexer": "r",
   "version": "4.0.5"
  }
 },
 "nbformat": 4,
 "nbformat_minor": 5
}
