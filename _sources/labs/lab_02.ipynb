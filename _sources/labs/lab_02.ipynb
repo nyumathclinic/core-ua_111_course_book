{
 "cells": [
  {
   "cell_type": "markdown",
   "id": "3c7f42ee",
   "metadata": {},
   "source": [
    "(lab02)=\n",
    "# Lab 2 Worksheet"
   ]
  },
  {
   "cell_type": "markdown",
   "id": "ce4e5fff",
   "metadata": {},
   "source": [
    "## Name, NetID, Collaborators\n",
    "Please edit the markdown cell below for “Names & NetIDs” and enter:\n",
    "- Your name and NetID (eg. cc5948), and\n",
    "- The names and NetIDs of everyone with whom you have collaborated with (e.g., discussed\n",
    "questions with, provided help to, received help from, etc.).\n",
    "\n",
    "Our goal is to create an honest, collaborative, and positive learning environment. Keep\n",
    "in mind that while collaboration in lab and homework is strongly encouraged, the work\n",
    "you submitted must be your own (you typed them up yourself; you can explain what you\n",
    "submitted). Your goal is to use the help and support to eventually understand the ideas\n",
    "and the methods yourself"
   ]
  },
  {
   "cell_type": "markdown",
   "id": "b866713d",
   "metadata": {},
   "source": [
    "**Name and NetID:**\n",
    "\n",
    "\n",
    "**Collaborators:**"
   ]
  },
  {
   "cell_type": "markdown",
   "id": "af9749a5",
   "metadata": {},
   "source": [
    "## Part 1 Sale!\n",
    "The questions in this section all refer to the `sale` data set described in the table below. The Discount column gives the percentage by which the price is reduced. Thus, the carrots marked down by 50%.\n",
    "\n",
    "The exercise should be completed **without using data frames or dplyr**. You may using R to do arithmetic, but everything else should be done by hand. You can also use this [Markdown Table Generator](https://www.tablesgenerator.com/markdown_tables) to create tables more easily. \n",
    "\n",
    "\n",
    "<table>\n",
    "<thead>\n",
    "  <tr>\n",
    "    <th>Type</th>\n",
    "    <th>Description</th>\n",
    "    <th>Discount</th>\n",
    "  </tr>\n",
    "</thead>\n",
    "<tbody>\n",
    "  <tr>\n",
    "    <td>fruit</td>\n",
    "    <td>apple</td>\n",
    "    <td>0</td>\n",
    "  </tr>\n",
    "  <tr>\n",
    "    <td>vegetable</td>\n",
    "    <td>spinach</td>\n",
    "    <td>25</td>\n",
    "  </tr>\n",
    "  <tr>\n",
    "    <td>vegetable</td>\n",
    "    <td>carrot</td>\n",
    "    <td>50</td>\n",
    "  </tr>\n",
    "  <tr>\n",
    "    <td>fruit</td>\n",
    "    <td>pear</td>\n",
    "    <td>25</td>\n",
    "  </tr>\n",
    "  <tr>\n",
    "    <td>grain</td>\n",
    "    <td>rice</td>\n",
    "    <td>50</td>\n",
    "  </tr>\n",
    "  <tr>\n",
    "    <td>grain</td>\n",
    "    <td>quinoa</td>\n",
    "    <td>0</td>\n",
    "  </tr>\n",
    "  <tr>\n",
    "    <td>fruit</td>\n",
    "    <td>banana</td>\n",
    "    <td>50</td>\n",
    "  </tr>\n",
    "  <tr>\n",
    "    <td>vegetable</td>\n",
    "    <td>celery</td>\n",
    "    <td>75</td>\n",
    "  </tr>\n",
    "  <tr>\n",
    "    <td>vegetable</td>\n",
    "    <td>onion</td>\n",
    "    <td>50</td>\n",
    "  </tr>\n",
    "</tbody>\n",
    "</table>\n"
   ]
  },
  {
   "cell_type": "markdown",
   "id": "bd672992",
   "metadata": {},
   "source": [
    "### Exercise 1: First summary table\n",
    "The following code defines a data frame called `table_1`. In the markdown cell below, use a markdown table to display `table_1`. Briefly explain your reasoning. \n",
    "\n",
    "<pre>\n",
    "<code>\n",
    "table_1 &lt;- sale %&gt;% \n",
    "    group_by(Type) %&gt;% \n",
    "    summarize(Average_Discount = mean(Discount)) %&gt;% \n",
    "    arrange(Type)                \n",
    "</code>\n",
    "</pre>"
   ]
  },
  {
   "cell_type": "markdown",
   "id": "bafcaffe",
   "metadata": {},
   "source": []
  },
  {
   "cell_type": "markdown",
   "id": "3d376231",
   "metadata": {},
   "source": [
    "### Exercise 2: Second summary table\n",
    "The following code defines a data frame called `table_2`. In the markdown cell below, use a markdown table to display `table_2`. Briefly explain your reasoning. \n",
    "\n",
    "<pre>\n",
    "<code>\n",
    "table_2 &lt;- sale %&gt;% \n",
    "    group_by(Discount) %&gt;% \n",
    "    summarize(Number = n()) %&gt;% \n",
    "    arrange(desc(Number))\n",
    "</code>\n",
    "</pre>"
   ]
  },
  {
   "cell_type": "markdown",
   "id": "ed55dc8f",
   "metadata": {},
   "source": []
  },
  {
   "cell_type": "markdown",
   "id": "7c00edc7",
   "metadata": {},
   "source": [
    "### Exercise 3: First summary table\n",
    "The following code defines a data frame called `table_3`. In the markdown cell below, use a markdown table to display `table_3`. Briefly explain your reasoning. \n",
    "\n",
    "<pre>\n",
    "<code>\n",
    "table_3 &lt;- sale %&gt;% \n",
    "    filter(Discount &gt;=30 &amp; Discount &lt;60) %&gt;% \n",
    "    select(-Discount)\n",
    "</code>\n",
    "</pre>"
   ]
  },
  {
   "cell_type": "markdown",
   "id": "c345705b",
   "metadata": {},
   "source": []
  },
  {
   "cell_type": "markdown",
   "id": "86a413bb",
   "metadata": {},
   "source": [
    "## Part 2: NYC Trees"
   ]
  },
  {
   "cell_type": "markdown",
   "id": "68440c1d",
   "metadata": {},
   "source": [
    "### Exercise 4: Custom order\n",
    "There is a CSV file called `NYC_Tree_Census_small.csv` in the `~/shared/data` folder. This file contains information an excerpt from the [2015 New York City Tree Census](https://data.cityofnewyork.us/Environment/2015-Street-Tree-Census-Tree-Data/uvpi-gqnh) shared by the [NYC OpenData project](https://data.cityofnewyork.us). \n",
    "\n",
    "- Import the NYC tree census data **from the local file** and store it as a data frame called `nyc_trees`.\n",
    "- Load the dplyr and gglot2 libraries. \n",
    "- Create a summary table that shows the number of trees in each borough and store it in `borough_count`.\n",
    "- Output `borough_count`.\n",
    "- Create a bar chart that visualizes the data in your summary table.\n"
   ]
  },
  {
   "cell_type": "code",
   "execution_count": null,
   "id": "a3c0fc76",
   "metadata": {},
   "outputs": [],
   "source": []
  },
  {
   "cell_type": "markdown",
   "id": "7e99f196",
   "metadata": {},
   "source": [
    "### Exercise 5: Custom order\n",
    "We can use `factor()` to tell R our preferred order for the values in a categorical variable. Consider the following example.\n",
    "\n",
    "A data set called `schools` contains a variable called `school_type` which indicates whether the given school is a 'kindergarten' (age 5), 'elementary school' (age 6 - 10), 'middle school' (age 11 - 13) or 'high school' (age 14 - 17). The following command will tell R that we prefer to sort `school_type` the the specified order rather than alphabetically.\n",
    "\n",
    "<pre>\n",
    "<code>\n",
    "schools &lt;- mutate(schools, school_type = \n",
    "                  factor(school_type, levels = c('kindergarten', 'elementary school', 'middle school', 'high school' ))\n",
    "                 )\n",
    "</code>\n",
    "</pre>\n",
    "\n",
    "Here is the general syntax for factor:\n",
    "\n",
    "```factor(VECTOR_OF_DATA, levels=VECTOR_OF_ORDERED_VALUES)```\n",
    "\n",
    "The output of factor is VECTOR_OF_DATA with the additional structure of a specified order to the values.\n",
    "\n",
    "- Use `mutate()` and `factor()` to specify an order for the boroughs that is **not alphabetical** and store the result in `nyc_trees_custom`. \n",
    "- Recreate the summary table and bar chart from Exercise 5 using `nyc_trees_custom` and verify that the boroughs are listed in your specified order."
   ]
  },
  {
   "cell_type": "code",
   "execution_count": null,
   "id": "ca3baf23",
   "metadata": {},
   "outputs": [],
   "source": []
  }
 ],
 "metadata": {
  "kernelspec": {
   "display_name": "R",
   "language": "R",
   "name": "ir"
  },
  "language_info": {
   "codemirror_mode": "r",
   "file_extension": ".r",
   "mimetype": "text/x-r-source",
   "name": "R",
   "pygments_lexer": "r",
   "version": "4.0.5"
  }
 },
 "nbformat": 4,
 "nbformat_minor": 5
}
