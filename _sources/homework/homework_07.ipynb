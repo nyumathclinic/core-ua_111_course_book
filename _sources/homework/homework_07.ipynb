{
 "cells": [
  {
   "cell_type": "markdown",
   "id": "5a20ca24",
   "metadata": {
    "deletable": false
   },
   "source": [
    "(homework07)= \n",
    "# Homework 7"
   ]
  },
  {
   "cell_type": "markdown",
   "id": "dd3d7c5c",
   "metadata": {},
   "source": [
    "## Name, NetID, Collaborators\n",
    "Please edit the markdown cell below for “Names & NetIDs” and enter:\n",
    "- Your name and NetID (eg. cc5948), and\n",
    "- The names and NetIDs of everyone with whom you have collaborated with (e.g., discussed\n",
    "questions with, provided help to, received help from, etc.).\n",
    "\n",
    "Our goal is to create an honest, collaborative, and positive learning environment. Keep\n",
    "in mind that while collaboration in lab and homework is strongly encouraged, the work\n",
    "you submitted must be your own (you typed them up yourself; you can explain what you\n",
    "submitted). Your goal is to use the help and support to eventually understand the ideas\n",
    "and the methods yourself"
   ]
  },
  {
   "cell_type": "markdown",
   "id": "93e21b9b",
   "metadata": {},
   "source": [
    "**Name and NetID:**\n",
    "\n",
    "\n",
    "**Collaborators:**"
   ]
  },
  {
   "cell_type": "markdown",
   "id": "a8b8b10c",
   "metadata": {
    "deletable": false
   },
   "source": [
    "## Part 1: Old Faithful\n",
    "\n",
    "For each of the questions below, please enter the R commands you use in the code cell.  Then, edit the markdown cell below it to write a text response to the given prompts. Feel free to insert additional code and markdown cells."
   ]
  },
  {
   "cell_type": "markdown",
   "id": "d4cf9937",
   "metadata": {},
   "source": [
    "### Question 1: Predict wait time\n",
    "- Load the built-in `faithful` data set and use `lm()` to find the best fist linear model that gives wait time as a function of eruption duration. \n",
    "- Use this model to create a function called `predicted_wait` that gives the predicted wait time for a given eruption duration. \n",
    "- Use your `predicted_wait` function to create a new column called predictions in faithful that contains the predicted wait time for each of the eruptions.\n"
   ]
  },
  {
   "cell_type": "code",
   "execution_count": null,
   "id": "ed2d0106",
   "metadata": {},
   "outputs": [],
   "source": []
  },
  {
   "cell_type": "markdown",
   "id": "382f436c",
   "metadata": {},
   "source": [
    "### Question 2: Visualize the model\n",
    "- Crete a scatter plot that shows how the wait time is related to the duration of the eruption. \n",
    "- Plot the predictions made by the linear model using `geom_smooth` with `method = lm`.\n",
    "- Verify that the line on the plot agrees with at least three of the predictions you made in the previous exercise. List the data points that you verified in a markdown cell. "
   ]
  },
  {
   "cell_type": "code",
   "execution_count": null,
   "id": "ac86aece",
   "metadata": {},
   "outputs": [],
   "source": []
  },
  {
   "cell_type": "markdown",
   "id": "0e1614c2",
   "metadata": {},
   "source": []
  },
  {
   "cell_type": "markdown",
   "id": "9975ad6e",
   "metadata": {},
   "source": [
    "### Question 3: Mean squared error\n",
    "\n",
    "Compute the mean squared error two ways:\n",
    "- First, use the residuals provided by the `lm` function. \n",
    "- Second, compute the residuals using your `predicted_wait` function. "
   ]
  },
  {
   "cell_type": "code",
   "execution_count": null,
   "id": "ff2ce5b6",
   "metadata": {},
   "outputs": [],
   "source": []
  },
  {
   "cell_type": "markdown",
   "id": "41dc6a51",
   "metadata": {},
   "source": [
    "## Part 2: Chikungunya outbreak\n",
    "In this part, you will analyze a data set from the [Pan American Health Organization](https://www3.paho.org/data/index.php/en/mnu-topics/chikv-en/550-chikv-weekly-en.html). The data set describes and outbreak of the [chikungunya virus](https://www.paho.org/en/topics/chikungunya) in Peru in 2016 and 2017. \n",
    "\n",
    "The exercises below will walk you through implementing a strategy for predicting the total number of cases that will occur in a single outbreak of an infectious disease. This strategy is described by Joceline Lega and Heidi E. Brown in their paper [Data-driven outbreak forecasting with a simple nonlinear growth model](https://www.ncbi.nlm.nih.gov/pmc/articles/PMC5159251/). Lega and Brown's disease model states that the number of cases per time unit will be a quadratic function of the cumulative number of cases. "
   ]
  },
  {
   "cell_type": "markdown",
   "id": "7c07bf1b",
   "metadata": {},
   "source": [
    "### Question 4: Load and plot the data\n",
    "- Load the `Peru2016.csv` data set from the shared data folder. In this data set, the `New_Cases` variable records the number of new cases in a particular month and the `Cum_Cases` variable records the cumulative number of cases since the beginning of the outbreak. \n",
    " \n",
    "- Crete a scatter plot that has the number of new cases on the vertical axis and the cumulative number of cases on the horizontal axis. Use `geom_smooth` with `method = lm` to plot the best fit quadratic model for this data. \n"
   ]
  },
  {
   "cell_type": "code",
   "execution_count": null,
   "id": "491f12b5",
   "metadata": {},
   "outputs": [],
   "source": []
  },
  {
   "cell_type": "markdown",
   "id": "e4a39708",
   "metadata": {},
   "source": [
    "### Question 5: Make predictions\n",
    "- Use `lm()` to find the best fist quadratic model that gives the number of new cases as a function of the commutative number of cases. \n",
    "- Use this model to create a function called `predicted_new` that gives the predicted number of new cases for a give total number of cases.   \n",
    "- Use the code below to create the `points` data frame. Then, add a column called `y_values` that contains the value `predicted_new` for each x value. \n",
    "\n",
    "``` points <- data.frame(x_values = 0:2000)```"
   ]
  },
  {
   "cell_type": "code",
   "execution_count": null,
   "id": "cd3a8cee",
   "metadata": {},
   "outputs": [],
   "source": []
  },
  {
   "cell_type": "markdown",
   "id": "46ef1613",
   "metadata": {},
   "source": [
    "### Question 6: Visualize your predictions\n",
    "- Plot the `points` from the previous exercise and connect them with a curve using `geom_line()`. See the [documentation for geom_line()](https://ggplot2.tidyverse.org/reference/geom_path.html) for more information about this function.\n",
    "\n",
    "- Use your plot to estimate the total number of cases when the number of new cases falls back down to zero. Verify that your estimate is reasonably accurate by plugging it into the `predicted_new` function and checking that the out put is close to zero. \n",
    "\n",
    "- The number you estimated is the total number of cases that resulted from this outbreak. Compare your estimate with the last data point in the `Peru2016` data frame. Is it close?"
   ]
  },
  {
   "cell_type": "code",
   "execution_count": null,
   "id": "0c4f4aa8",
   "metadata": {},
   "outputs": [],
   "source": []
  },
  {
   "cell_type": "markdown",
   "id": "61ac4498",
   "metadata": {},
   "source": []
  },
  {
   "cell_type": "markdown",
   "id": "80408b53",
   "metadata": {},
   "source": [
    "## Part 3: Gross Domestic Product\n",
    "\n",
    "In this part, you will analyze data sourced from [Gapminder](https://www.gapminder.org/data/documentation/gd001/). This data set shoes the per capita Gross Domestic Product (GDP) for the four different countries in international dollars. An international dollar is defined as the currency unit that has the same purchasing power over GNP as the US dollar in the United States. (from [WHO](https://www.who.int/data/gho/indicator-metadata-registry/imr-details/1145))"
   ]
  },
  {
   "cell_type": "markdown",
   "id": "7b04477e",
   "metadata": {},
   "source": [
    "### Question 7: Plot the GDPs\n",
    "- Load the `gdp.csv` data set from the shared data folder\n",
    "- Plot the GDP as a function of time and use shape and/or color to distinguish between the different countries. \n",
    "- In a separate plot, show how the logarithm of the GDPs have changed over time. \n",
    "- Use your plots to chose a country that is well suited to modeling GDP as an exponential function of time. Explain your reasoning. "
   ]
  },
  {
   "cell_type": "code",
   "execution_count": null,
   "id": "7383b0b0",
   "metadata": {},
   "outputs": [],
   "source": []
  },
  {
   "cell_type": "markdown",
   "id": "3cd30551",
   "metadata": {},
   "source": [
    "### Question 8: Predict the GDP\n",
    "- Use 'lm()' to find the best fist exponential model that gives the GDP of the country you chose as a function of time.\n",
    "- Use this model to create a function called `predicted_gdp` that gives the predicted GDP of the country in a given year. \n",
    "- Use your model to predict the GDP of the country in 2030. "
   ]
  },
  {
   "cell_type": "code",
   "execution_count": null,
   "id": "0c92ecc2",
   "metadata": {},
   "outputs": [],
   "source": []
  },
  {
   "cell_type": "markdown",
   "id": "1205dce9",
   "metadata": {},
   "source": []
  },
  {
   "cell_type": "markdown",
   "id": "42332ffd",
   "metadata": {},
   "source": [
    "## Part 4: A Quick Reflection\n",
    "Briefly answer the prompts below in the markdown cell provided. (1-2 sentences for each prompt\n",
    "is sufficient.)"
   ]
  },
  {
   "cell_type": "markdown",
   "id": "f524c5fc",
   "metadata": {
    "deletable": false,
    "editable": false
   },
   "source": [
    "### Exercise 9: What was helpful?\n",
    "Indicate one question/part in this assignment that you find helpful in helping you understand\n",
    "an idea or method introduced in class. This could be a question/task that you knew right\n",
    "away how to do; one for which you kept encountering bugs/errors; or one that you needed\n",
    "to think a while or discuss with others first to figure out.\n",
    "(State which question/part and how it helps you with which idea/method.)"
   ]
  },
  {
   "cell_type": "markdown",
   "id": "bae2b8a8",
   "metadata": {},
   "source": []
  },
  {
   "cell_type": "markdown",
   "id": "1033b86d",
   "metadata": {},
   "source": [
    "### Exercise 10: What was challenging / interesting?\n",
    "Write one thing that you find challenging or interesting in this assignment. Briefly elaborate on what made it challenging or interesting. "
   ]
  },
  {
   "cell_type": "markdown",
   "id": "d9803bc6",
   "metadata": {},
   "source": []
  },
  {
   "cell_type": "markdown",
   "id": "b6b57d90",
   "metadata": {},
   "source": [
    "## Part 5: Generate PDF file and submit\n",
    "\n",
    "### Print this notebook as PDF document\n",
    "Download a PDF version of this notebook using one of the following strategies.\n",
    "\n",
    "#### Strategy 1: Use print preview\n",
    "Use the menu option File > Print Preview to generate a printer friendly version of this notebook. Then use your browsers print dialogue to save as PDF.\n",
    "Use the following menu option to download a PDF version of this notebook.\n",
    "\n",
    "#### Strategy 2: Use LaTeX\n",
    "Use the menu option File > Download as > PDF via LaTeX (.pdf) generate a PDF file you can download. \n",
    "\n",
    "### Submit on Gradscope\n",
    "Submit the PDF document on Gradescope. Be sure to assign a page to each question even if your document is only one\n",
    "page, See the [Gradescope support page](https://help.gradescope.com/article/ccbpppziu9-student-submit-work#submitting_a_pdf) for detailed instructions. Assigning pages to questions greatly expedites the grading process."
   ]
  }
 ],
 "metadata": {
  "kernelspec": {
   "display_name": "R",
   "language": "R",
   "name": "ir"
  },
  "language_info": {
   "codemirror_mode": "r",
   "file_extension": ".r",
   "mimetype": "text/x-r-source",
   "name": "R",
   "pygments_lexer": "r",
   "version": "4.0.5"
  }
 },
 "nbformat": 4,
 "nbformat_minor": 5
}
