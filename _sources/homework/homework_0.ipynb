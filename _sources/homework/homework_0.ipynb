{
 "cells": [
  {
   "cell_type": "markdown",
   "id": "26660fca",
   "metadata": {},
   "source": [
    "# Homework 0\n",
    "\n",
    "This assignment has four parts. Many of the parts refer to the Web Services Guide which is linked from Web Services section of the Content tool on Brightspace.\n",
    "\n",
    "When you have finished this assignment, you can manually mark it as competed on Brightspace. This is completely optional, but will help you keep track of which assignments you have completed. "
   ]
  },
  {
   "cell_type": "markdown",
   "id": "6c1446ed",
   "metadata": {},
   "source": [
    "## Part 1: Jupyter Hub"
   ]
  },
  {
   "cell_type": "markdown",
   "id": "ec45d20f",
   "metadata": {},
   "source": [
    "### Open this notebook on the Jupyter Hub\n",
    "* Click on the rocket icon in the upper right of this page of the course book. \n",
    "* Click the JupyterHub link.\n",
    "* If prompted, log in to the Jupyter Hub with your NYU account.\n",
    "* If prompted to select a kernel, choose *R [conda env:FDTD]*."
   ]
  },
  {
   "cell_type": "markdown",
   "id": "9e0273f5",
   "metadata": {},
   "source": [
    "### Exercises\n",
    "Complete each of the following exercises."
   ]
  },
  {
   "cell_type": "markdown",
   "id": "c8119512",
   "metadata": {},
   "source": [
    "#### Exercise 1: Compute a value\n",
    "Insert a code cell below this cell and use it to compute the following value\n",
    "$$\\frac{3(7-5)}{2}$$"
   ]
  },
  {
   "cell_type": "markdown",
   "id": "f344067e",
   "metadata": {},
   "source": [
    "#### Exercise: 2 Favorite color\n",
    "Convert the input cell below to a markdown cell. Then, write your favorite color in bold in the cell. You can use double asterisks on both sides of the word to make it bold."
   ]
  },
  {
   "cell_type": "code",
   "execution_count": null,
   "id": "f437e14f",
   "metadata": {},
   "outputs": [],
   "source": []
  },
  {
   "cell_type": "markdown",
   "id": "2d4bc854",
   "metadata": {},
   "source": [
    "#### Exercise 3: Anything I should know?\n",
    "Is there anything you would like to tell Prof. Clarkson at this time? If so type it in the markdown cell below."
   ]
  },
  {
   "cell_type": "markdown",
   "id": "eaa925bb",
   "metadata": {},
   "source": []
  },
  {
   "cell_type": "markdown",
   "id": "0deadca2",
   "metadata": {},
   "source": [
    "### Print notebook as PDF document\n",
    "Download a PDF version of this notebook using one of the following strategies.\n",
    "\n",
    "#### Strategy 1: Use print preview\n",
    "Use the menu option File > Print Preview to generate a printer friendly version of this notebook. Then use your browsers print dialogue to save as PDF.\n",
    "Use the following menu option to download a PDF version of this notebook.\n",
    "\n",
    "#### Strategy 2: Use LaTeX\n",
    "Use the menu option File > Download as > PDF via LaTeX (.pdf) generate a PDF file you can download. "
   ]
  },
  {
   "cell_type": "markdown",
   "id": "666aa22a",
   "metadata": {},
   "source": [
    "## Part 2: Gradescope\n",
    "### Log in\n",
    "Follow the instructions in the Web Services Guide to create an account.\n",
    "\n",
    "### First submission\n",
    "Submit the PDF document that you downloaded in Part 1 to the Homework 0 assignment on Gradescope. Be sure to assign a page to each question even if your document is only one\n",
    "page, See the [Gradescope support page](https://help.gradescope.com/article/ccbpppziu9-student-submit-work#submitting_a_pdf) for detailed instructions. Assigning pages to questions greatly expedites the grading process."
   ]
  },
  {
   "cell_type": "markdown",
   "id": "e9b957ea",
   "metadata": {},
   "source": [
    "## Part 3: Campuswire\n",
    "### Create account\n",
    "Follow the instructions in the Web Services Guide to create an account.\n",
    "### Respond to the ice breaker\n",
    "Answer the question on Campuswire titled Homework 0: Ice Breaker.\n"
   ]
  },
  {
   "cell_type": "markdown",
   "id": "fc804c30",
   "metadata": {},
   "source": [
    "## Part 4. OneNote (optional)\n",
    "### Set up Class Notebook in OneNote app\n",
    "Click on the Class Notes link in the Web Services section of the Content tool on Brightspace. Follow the instructions to open the Class Notebook in the OneNote app on your computer or tablet.\n"
   ]
  },
  {
   "cell_type": "code",
   "execution_count": null,
   "id": "ab4dd312",
   "metadata": {},
   "outputs": [],
   "source": []
  }
 ],
 "metadata": {
  "kernelspec": {
   "display_name": "R",
   "language": "R",
   "name": "ir"
  },
  "language_info": {
   "codemirror_mode": "r",
   "file_extension": ".r",
   "mimetype": "text/x-r-source",
   "name": "R",
   "pygments_lexer": "r",
   "version": "4.0.5"
  }
 },
 "nbformat": 4,
 "nbformat_minor": 5
}
