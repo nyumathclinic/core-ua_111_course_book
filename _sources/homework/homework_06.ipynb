{
 "cells": [
  {
   "cell_type": "markdown",
   "id": "b75ccc8b",
   "metadata": {},
   "source": [
    "(homework06)=\n",
    "# Homework 6"
   ]
  },
  {
   "cell_type": "markdown",
   "id": "8a289655",
   "metadata": {},
   "source": [
    "## Name, NetID, Collaborators\n",
    "Please edit the markdown cell below for “Names & NetIDs” and enter:\n",
    "- Your name and NetID (eg. cc5948), and\n",
    "- The names and NetIDs of everyone with whom you have collaborated with (e.g., discussed\n",
    "questions with, provided help to, received help from, etc.).\n",
    "\n",
    "Our goal is to create an honest, collaborative, and positive learning environment. Keep\n",
    "in mind that while collaboration in lab and homework is strongly encouraged, the work\n",
    "you submitted must be your own (you typed them up yourself; you can explain what you\n",
    "submitted). Your goal is to use the help and support to eventually understand the ideas\n",
    "and the methods yourself"
   ]
  },
  {
   "cell_type": "markdown",
   "id": "9d435731",
   "metadata": {},
   "source": [
    "**Name and NetID:**\n",
    "\n",
    "\n",
    "**Collaborators:**"
   ]
  },
  {
   "cell_type": "markdown",
   "id": "6bc747d2",
   "metadata": {},
   "source": [
    "## Part 1: Horse classifier function continued\n",
    "In this part, you continue the process of building a classifier to determine whether or not a horse with colic requires surgery. See Homework 5 for the first part of this process."
   ]
  },
  {
   "cell_type": "markdown",
   "id": "58b286f4",
   "metadata": {},
   "source": [
    "### Exercise 1: Review\n",
    "We will again use the [Horses Colic Data](https://archive.ics.uci.edu/ml/datasets/Horse+Colic) set from the UCI Machine Learning Repository. \n",
    "\n",
    "- Load the `horses.csv` data set from our shared data folder. \n",
    "- Split the data set into two the **same** training and test data sets that you used on Homework 5. \n",
    "- Split the test data set roughly in half. Call one half  `test_manual` and and the other `test_knn`.\n",
    "- Based on the data explorations that you did in Homework 5, create a simple classifier function that uses **at least two if-statements**. Your classifier should predict the value of the `surgical.lesion` variable.\n",
    "- In the markdown cell below, briefly (1-2 sentences) describe how your classifier works. Your description should be detailed enough for someone to use it to predict whether or not a horse requires surgery"
   ]
  },
  {
   "cell_type": "code",
   "execution_count": null,
   "id": "58e75d70",
   "metadata": {},
   "outputs": [],
   "source": []
  },
  {
   "cell_type": "markdown",
   "id": "66275aed",
   "metadata": {},
   "source": []
  },
  {
   "cell_type": "markdown",
   "id": "06e6f1c2",
   "metadata": {},
   "source": [
    "### Exercise 2: Make predictions\n",
    "- Use your classifier function from the previous exercise to create a new column in the `test_manual` data set that contains your predictions for each of the horses.\n",
    "- Output the first five rows of the data set to verify that this worked as expected. "
   ]
  },
  {
   "cell_type": "code",
   "execution_count": null,
   "id": "ce0bb2c5",
   "metadata": {},
   "outputs": [],
   "source": []
  },
  {
   "cell_type": "markdown",
   "id": "f464b532",
   "metadata": {},
   "source": []
  },
  {
   "cell_type": "markdown",
   "id": "a86e5392",
   "metadata": {},
   "source": [
    "### Exercise 3: Measure model effectiveness\n",
    "- Compute the accuracy, precision, true positive rate and true negative rate of your predictions.\n",
    "- What can you conclude from these measurements?"
   ]
  },
  {
   "cell_type": "code",
   "execution_count": null,
   "id": "8010e8d4",
   "metadata": {},
   "outputs": [],
   "source": []
  },
  {
   "cell_type": "markdown",
   "id": "6c6f69e3",
   "metadata": {},
   "source": []
  },
  {
   "cell_type": "markdown",
   "id": "86419f09",
   "metadata": {},
   "source": [
    "### Exercise 4: Measure vet effectiveness\n",
    "- Compute the accuracy, precision, true positive rate and true negative rate of the decisions made by the veterinarians as recorded in the `surgical` variable in the **`training data`**.\n",
    "- How does your classifier measure up against the vets?"
   ]
  },
  {
   "cell_type": "code",
   "execution_count": null,
   "id": "5838c45e",
   "metadata": {},
   "outputs": [],
   "source": []
  },
  {
   "cell_type": "markdown",
   "id": "ff3766a5",
   "metadata": {},
   "source": []
  },
  {
   "cell_type": "markdown",
   "id": "a2231fc4",
   "metadata": {},
   "source": [
    "## Part 2: KNN Classifier"
   ]
  },
  {
   "cell_type": "markdown",
   "id": "67564899",
   "metadata": {},
   "source": [
    "### Exercise 5: Nearest neighbor prediction\n",
    "- Load the `class` library.\n",
    "- Use `knn()` with a $k$ value of your choice to predict the value of `surgical.lesion` in the `test_knn` data set based on the data in the `training` data set. \n",
    "- In the markdown cell below, briefly explain why you chose the value of $k$ that you ended up using."
   ]
  },
  {
   "cell_type": "code",
   "execution_count": null,
   "id": "040d61a8",
   "metadata": {},
   "outputs": [],
   "source": []
  },
  {
   "cell_type": "markdown",
   "id": "842d5b43",
   "metadata": {},
   "source": []
  },
  {
   "cell_type": "markdown",
   "id": "10773c1d",
   "metadata": {},
   "source": [
    "### Exercise 6: Measure knn effectiveness\n",
    "- Compute the accuracy, precision, true positive rate and true negative rate of your predictions.\n",
    "- How does the knn model compare to the vets and to the classifier from the previous part?"
   ]
  },
  {
   "cell_type": "code",
   "execution_count": null,
   "id": "8850a68a",
   "metadata": {},
   "outputs": [],
   "source": []
  },
  {
   "cell_type": "markdown",
   "id": "56824c27",
   "metadata": {},
   "source": []
  },
  {
   "cell_type": "markdown",
   "id": "fa8c9d36",
   "metadata": {},
   "source": [
    "## Part 3: A Quick Reflection\n",
    "Briefly answer the prompts below in the markdown cell provided. (1-2 sentences for each prompt\n",
    "is sufficient.)"
   ]
  },
  {
   "cell_type": "markdown",
   "id": "cfb76030",
   "metadata": {},
   "source": [
    "### Exercise 7: What was helpful?\n",
    "Indicate one question/part in this assignment that you find helpful in helping you understand\n",
    "an idea or method introduced in class. This could be a question/task that you knew right\n",
    "away how to do; one for which you kept encountering bugs/errors; or one that you needed\n",
    "to think a while or discuss with others first to figure out.\n",
    "(State which question/part and how it helps you with which idea/method.)"
   ]
  },
  {
   "cell_type": "markdown",
   "id": "1b588a5f",
   "metadata": {},
   "source": []
  },
  {
   "cell_type": "markdown",
   "id": "96ba36b2",
   "metadata": {},
   "source": [
    "### Exercise 8: What was challenging / interesting?\n",
    "Write one thing that you find challenging or interesting in this assignment. Briefly elaborate on what made it challenging or interesting. "
   ]
  },
  {
   "cell_type": "markdown",
   "id": "32e5d523",
   "metadata": {},
   "source": []
  },
  {
   "cell_type": "markdown",
   "id": "1c1d4966",
   "metadata": {},
   "source": [
    "## Part 4: Generate PDF file and submit\n",
    "\n",
    "### Print this notebook as PDF document\n",
    "Download a PDF version of this notebook using one of the following strategies.\n",
    "\n",
    "#### Strategy 1: Use print preview\n",
    "Use the menu option File > Print Preview to generate a printer friendly version of this notebook. Then use your browsers print dialogue to save as PDF.\n",
    "Use the following menu option to download a PDF version of this notebook.\n",
    "\n",
    "#### Strategy 2: Use LaTeX\n",
    "Use the menu option File > Download as > PDF via LaTeX (.pdf) generate a PDF file you can download. \n",
    "\n",
    "### Submit on Gradscope\n",
    "Submit the PDF document on Gradescope. Be sure to assign a page to each question even if your document is only one\n",
    "page, See the [Gradescope support page](https://help.gradescope.com/article/ccbpppziu9-student-submit-work#submitting_a_pdf) for detailed instructions. Assigning pages to questions greatly expedites the grading process."
   ]
  }
 ],
 "metadata": {
  "celltoolbar": "Edit Metadata",
  "kernelspec": {
   "display_name": "R",
   "language": "R",
   "name": "ir"
  },
  "language_info": {
   "codemirror_mode": "r",
   "file_extension": ".r",
   "mimetype": "text/x-r-source",
   "name": "R",
   "pygments_lexer": "r",
   "version": "4.0.5"
  }
 },
 "nbformat": 4,
 "nbformat_minor": 5
}
