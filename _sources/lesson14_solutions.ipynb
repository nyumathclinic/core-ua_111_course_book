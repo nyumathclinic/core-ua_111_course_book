{
 "cells": [
  {
   "cell_type": "markdown",
   "metadata": {},
   "source": [
    "# Lesson 14 - Solutions\n",
    "These exercises are to help you check your understanding during class. They will not be collected."
   ]
  },
  {
   "cell_type": "markdown",
   "metadata": {},
   "source": [
    "## Part 1 - Analysing Accuracy"
   ]
  },
  {
   "cell_type": "markdown",
   "metadata": {},
   "source": [
    "### Exercise 1 - Count the accuracy types\n",
    "- Execute the code from in the cell be low to load the cancer data set, split the data and predict the class of the observations in the `test`  data frame.\n",
    "- Find the number of predictions with each of the four accuracy types: true positive, true negative, false positive, false negative. Store these values in variables with descriptive names. "
   ]
  },
  {
   "cell_type": "code",
   "execution_count": 2,
   "metadata": {},
   "outputs": [
    {
     "data": {
      "text/html": [
       "<table class=\"dataframe\">\n",
       "<caption>A data.frame: 3 × 4</caption>\n",
       "<thead>\n",
       "\t<tr><th></th><th scope=col>Marginal.Adhesion</th><th scope=col>Clump.Thickness</th><th scope=col>Prediction</th><th scope=col>Class</th></tr>\n",
       "\t<tr><th></th><th scope=col>&lt;int&gt;</th><th scope=col>&lt;int&gt;</th><th scope=col>&lt;chr&gt;</th><th scope=col>&lt;fct&gt;</th></tr>\n",
       "</thead>\n",
       "<tbody>\n",
       "\t<tr><th scope=row>401</th><td>6</td><td>3</td><td>cancer</td><td>benign</td></tr>\n",
       "\t<tr><th scope=row>402</th><td>5</td><td>8</td><td>cancer</td><td>cancer</td></tr>\n",
       "\t<tr><th scope=row>403</th><td>1</td><td>1</td><td>benign</td><td>benign</td></tr>\n",
       "</tbody>\n",
       "</table>\n"
      ],
      "text/latex": [
       "A data.frame: 3 × 4\n",
       "\\begin{tabular}{r|llll}\n",
       "  & Marginal.Adhesion & Clump.Thickness & Prediction & Class\\\\\n",
       "  & <int> & <int> & <chr> & <fct>\\\\\n",
       "\\hline\n",
       "\t401 & 6 & 3 & cancer & benign\\\\\n",
       "\t402 & 5 & 8 & cancer & cancer\\\\\n",
       "\t403 & 1 & 1 & benign & benign\\\\\n",
       "\\end{tabular}\n"
      ],
      "text/markdown": [
       "\n",
       "A data.frame: 3 × 4\n",
       "\n",
       "| <!--/--> | Marginal.Adhesion &lt;int&gt; | Clump.Thickness &lt;int&gt; | Prediction &lt;chr&gt; | Class &lt;fct&gt; |\n",
       "|---|---|---|---|---|\n",
       "| 401 | 6 | 3 | cancer | benign |\n",
       "| 402 | 5 | 8 | cancer | cancer |\n",
       "| 403 | 1 | 1 | benign | benign |\n",
       "\n"
      ],
      "text/plain": [
       "    Marginal.Adhesion Clump.Thickness Prediction Class \n",
       "401 6                 3               cancer     benign\n",
       "402 5                 8               cancer     cancer\n",
       "403 1                 1               benign     benign"
      ]
     },
     "metadata": {},
     "output_type": "display_data"
    }
   ],
   "source": [
    "# Code from lesson 13\n",
    "# 'cancerous' was replaced with 'cancer'\n",
    "library(dplyr)\n",
    "cancer <- read.csv('~/shared/data/cancer.csv')\n",
    "cancer <- mutate(cancer, Class = factor(\n",
    "                                    Class, \n",
    "                                    levels = c(0,1), \n",
    "                                    labels = c('benign', 'cancer')\n",
    "                                    )\n",
    "                 )\n",
    "\n",
    "training <- cancer[1:400,]\n",
    "test <- cancer[401:nrow(cancer),]\n",
    "\n",
    "# a is the marginal adhesion\n",
    "# t is the thickness\n",
    "classifier <- function (a, t){\n",
    "    if(a>4){\n",
    "        Class <- 'cancer' \n",
    "    } else if (t > 6){\n",
    "        Class <- 'cancer'\n",
    "    } else {\n",
    "        Class <- 'benign'\n",
    "    }\n",
    "    Class\n",
    "}\n",
    "classifier <- Vectorize(classifier)\n",
    "\n",
    "test <- mutate(test, Prediction = classifier(Marginal.Adhesion, \n",
    "                                            Clump.Thickness\n",
    "                                            )\n",
    "              )\n",
    "test <- select(test, \n",
    "               Marginal.Adhesion, \n",
    "               Clump.Thickness, \n",
    "               Prediction, \n",
    "               Class\n",
    "              )\n",
    "head(test,3)"
   ]
  },
  {
   "cell_type": "code",
   "execution_count": 3,
   "metadata": {},
   "outputs": [
    {
     "data": {
      "text/html": [
       "<table>\n",
       "<thead><tr><th scope=col>Accuracy</th><th scope=col>Count</th></tr></thead>\n",
       "<tbody>\n",
       "\t<tr><td>false negative</td><td>  7           </td></tr>\n",
       "\t<tr><td>false positive</td><td>  6           </td></tr>\n",
       "\t<tr><td>true negative </td><td>210           </td></tr>\n",
       "\t<tr><td>true positive </td><td> 60           </td></tr>\n",
       "</tbody>\n",
       "</table>\n"
      ],
      "text/latex": [
       "\\begin{tabular}{r|ll}\n",
       " Accuracy & Count\\\\\n",
       "\\hline\n",
       "\t false negative &   7           \\\\\n",
       "\t false positive &   6           \\\\\n",
       "\t true negative  & 210           \\\\\n",
       "\t true positive  &  60           \\\\\n",
       "\\end{tabular}\n"
      ],
      "text/markdown": [
       "\n",
       "| Accuracy | Count |\n",
       "|---|---|\n",
       "| false negative |   7            |\n",
       "| false positive |   6            |\n",
       "| true negative  | 210            |\n",
       "| true positive  |  60            |\n",
       "\n"
      ],
      "text/plain": [
       "  Accuracy       Count\n",
       "1 false negative   7  \n",
       "2 false positive   6  \n",
       "3 true negative  210  \n",
       "4 true positive   60  "
      ]
     },
     "metadata": {},
     "output_type": "display_data"
    },
    {
     "data": {
      "text/html": [
       "7"
      ],
      "text/latex": [
       "7"
      ],
      "text/markdown": [
       "7"
      ],
      "text/plain": [
       "[1] 7"
      ]
     },
     "metadata": {},
     "output_type": "display_data"
    },
    {
     "data": {
      "text/html": [
       "6"
      ],
      "text/latex": [
       "6"
      ],
      "text/markdown": [
       "6"
      ],
      "text/plain": [
       "[1] 6"
      ]
     },
     "metadata": {},
     "output_type": "display_data"
    },
    {
     "data": {
      "text/html": [
       "210"
      ],
      "text/latex": [
       "210"
      ],
      "text/markdown": [
       "210"
      ],
      "text/plain": [
       "[1] 210"
      ]
     },
     "metadata": {},
     "output_type": "display_data"
    },
    {
     "data": {
      "text/html": [
       "60"
      ],
      "text/latex": [
       "60"
      ],
      "text/markdown": [
       "60"
      ],
      "text/plain": [
       "[1] 60"
      ]
     },
     "metadata": {},
     "output_type": "display_data"
    }
   ],
   "source": [
    "# Strategy 1 Summary Table (Lesson 13)\n",
    "\n",
    "# c is the class\n",
    "# p is the prediction\n",
    "accuracy_type <- function(c,p){\n",
    "    if (c == p){\n",
    "        tf <- 'true'\n",
    "    } else {\n",
    "        tf <- 'false'\n",
    "    }\n",
    "    \n",
    "    if (p == 'cancer'){\n",
    "        pn <-'positive'\n",
    "    } else {\n",
    "        pn <- 'negative'\n",
    "    }\n",
    "    paste(tf,pn)\n",
    "}\n",
    "accuracy_type <- Vectorize(accuracy_type)\n",
    "\n",
    "test <- mutate(test, Accuracy = accuracy_type(Class, Prediction))\n",
    "types <- summarize(group_by(test, Accuracy), Count = n())\n",
    "types\n",
    "\n",
    "### Use [[1]] to extract value from 1x1 data frame.\n",
    "fn <- types[1,2][[1]] ## false negative\n",
    "fp <- types[2,2][[1]] ## false positive\n",
    "tn <- types[3,2][[1]] ## true negative\n",
    "tp <- types[4,2][[1]] ## true posive\n",
    "\n",
    "fn\n",
    "fp\n",
    "tn\n",
    "tp"
   ]
  },
  {
   "cell_type": "code",
   "execution_count": 4,
   "metadata": {},
   "outputs": [
    {
     "data": {
      "text/html": [
       "<table>\n",
       "<thead><tr><th scope=col>Count</th></tr></thead>\n",
       "<tbody>\n",
       "\t<tr><td>7</td></tr>\n",
       "</tbody>\n",
       "</table>\n"
      ],
      "text/latex": [
       "\\begin{tabular}{r|l}\n",
       " Count\\\\\n",
       "\\hline\n",
       "\t 7\\\\\n",
       "\\end{tabular}\n"
      ],
      "text/markdown": [
       "\n",
       "| Count |\n",
       "|---|\n",
       "| 7 |\n",
       "\n"
      ],
      "text/plain": [
       "  Count\n",
       "1 7    "
      ]
     },
     "metadata": {},
     "output_type": "display_data"
    }
   ],
   "source": [
    "types[1,2]"
   ]
  },
  {
   "cell_type": "code",
   "execution_count": 5,
   "metadata": {},
   "outputs": [
    {
     "data": {
      "text/html": [
       "7"
      ],
      "text/latex": [
       "7"
      ],
      "text/markdown": [
       "7"
      ],
      "text/plain": [
       "[1] 7"
      ]
     },
     "metadata": {},
     "output_type": "display_data"
    },
    {
     "data": {
      "text/html": [
       "6"
      ],
      "text/latex": [
       "6"
      ],
      "text/markdown": [
       "6"
      ],
      "text/plain": [
       "[1] 6"
      ]
     },
     "metadata": {},
     "output_type": "display_data"
    },
    {
     "data": {
      "text/html": [
       "210"
      ],
      "text/latex": [
       "210"
      ],
      "text/markdown": [
       "210"
      ],
      "text/plain": [
       "[1] 210"
      ]
     },
     "metadata": {},
     "output_type": "display_data"
    },
    {
     "data": {
      "text/html": [
       "60"
      ],
      "text/latex": [
       "60"
      ],
      "text/markdown": [
       "60"
      ],
      "text/plain": [
       "[1] 60"
      ]
     },
     "metadata": {},
     "output_type": "display_data"
    }
   ],
   "source": [
    "# Strategy 2 Boolean expressions\n",
    "class <- test$Class\n",
    "prediction <- test$Prediction\n",
    "\n",
    "## false negative\n",
    "fn <- sum(class != prediction & prediction == 'benign')\n",
    "## false positive\n",
    "fp <- sum(class != prediction & prediction == 'cancer')\n",
    "## true negative\n",
    "tn <- sum(class == prediction & prediction == 'benign')\n",
    "## true posive\n",
    "tp <- sum(class == prediction & prediction == 'cancer') \n",
    "\n",
    "fn\n",
    "fp\n",
    "tn\n",
    "tp"
   ]
  },
  {
   "cell_type": "markdown",
   "metadata": {},
   "source": [
    "### Exercise 2 - Accuracy and Precision\n",
    "Find the accuracy and precision of the predictions made in Exercise 1.\n",
    "$$\\text{Accuracy} = \\frac{\\text{# correct predictions}}{\\text{# of observations}}$$"
   ]
  },
  {
   "cell_type": "code",
   "execution_count": 15,
   "metadata": {},
   "outputs": [
    {
     "data": {
      "text/html": [
       "0.954063604240283"
      ],
      "text/latex": [
       "0.954063604240283"
      ],
      "text/markdown": [
       "0.954063604240283"
      ],
      "text/plain": [
       "[1] 0.9540636"
      ]
     },
     "metadata": {},
     "output_type": "display_data"
    }
   ],
   "source": [
    "# Accuracy \n",
    "# Strategy 1: Only accuracy types\n",
    "(tp + tn) / (tp + tn + fp + fn)"
   ]
  },
  {
   "cell_type": "code",
   "execution_count": 16,
   "metadata": {},
   "outputs": [
    {
     "data": {
      "text/html": [
       "0.954063604240283"
      ],
      "text/latex": [
       "0.954063604240283"
      ],
      "text/markdown": [
       "0.954063604240283"
      ],
      "text/plain": [
       "[1] 0.9540636"
      ]
     },
     "metadata": {},
     "output_type": "display_data"
    }
   ],
   "source": [
    "# Accuracy \n",
    "# Strategy 2: Find numerator and denominator then divide\n",
    "correct <- sum(test$Class == test$Prediction)\n",
    "count <- nrow(test)\n",
    "\n",
    "correct / count"
   ]
  },
  {
   "cell_type": "markdown",
   "metadata": {},
   "source": [
    "$$\\text{Precision} = \\frac{\\text{# true positive predictions}}{\\text{# of positive predictions}}$$"
   ]
  },
  {
   "cell_type": "code",
   "execution_count": 19,
   "metadata": {},
   "outputs": [
    {
     "data": {
      "text/html": [
       "0.909090909090909"
      ],
      "text/latex": [
       "0.909090909090909"
      ],
      "text/markdown": [
       "0.909090909090909"
      ],
      "text/plain": [
       "[1] 0.9090909"
      ]
     },
     "metadata": {},
     "output_type": "display_data"
    }
   ],
   "source": [
    "# Precision\n",
    "# Strategy 1: Only accuracy types\n",
    "tp / (tp + fp)"
   ]
  },
  {
   "cell_type": "code",
   "execution_count": 17,
   "metadata": {},
   "outputs": [
    {
     "data": {
      "text/html": [
       "0.909090909090909"
      ],
      "text/latex": [
       "0.909090909090909"
      ],
      "text/markdown": [
       "0.909090909090909"
      ],
      "text/plain": [
       "[1] 0.9090909"
      ]
     },
     "metadata": {},
     "output_type": "display_data"
    }
   ],
   "source": [
    "# Precision\n",
    "# Strategy 2: Find numerator and denominator then divide\n",
    "pos_predictions <- sum(test$Prediction == 'cancer')\n",
    "\n",
    "tp / pos_predictions"
   ]
  },
  {
   "cell_type": "markdown",
   "metadata": {},
   "source": [
    "### Exercise 3 - True positive / negative rate\n",
    "Find the true positive rate and true negative rate of the predictions made in Exercise 1.\n",
    "$$\\text{True positive rate} = \\frac{\\text{# true positive predictions}}{\\text{# positive cases}}$$"
   ]
  },
  {
   "cell_type": "code",
   "execution_count": 23,
   "metadata": {},
   "outputs": [
    {
     "data": {
      "text/html": [
       "0.895522388059702"
      ],
      "text/latex": [
       "0.895522388059702"
      ],
      "text/markdown": [
       "0.895522388059702"
      ],
      "text/plain": [
       "[1] 0.8955224"
      ]
     },
     "metadata": {},
     "output_type": "display_data"
    }
   ],
   "source": [
    "# True positive rate\n",
    "# Strategy 1: Only accuracy types\n",
    "tp / (tp + fn)"
   ]
  },
  {
   "cell_type": "code",
   "execution_count": 22,
   "metadata": {},
   "outputs": [
    {
     "data": {
      "text/html": [
       "0.895522388059702"
      ],
      "text/latex": [
       "0.895522388059702"
      ],
      "text/markdown": [
       "0.895522388059702"
      ],
      "text/plain": [
       "[1] 0.8955224"
      ]
     },
     "metadata": {},
     "output_type": "display_data"
    }
   ],
   "source": [
    "# True positive rate\n",
    "# Strategy 2: Find numerator and denominator then divide\n",
    "pos_cases <- sum(test$Class == 'cancer')\n",
    "\n",
    "tp / pos_cases"
   ]
  },
  {
   "cell_type": "markdown",
   "metadata": {},
   "source": [
    "$$\\text{True negative rate}  = \\frac{\\text{# true negative predictions}}{\\text{# negative cases}}$$"
   ]
  },
  {
   "cell_type": "code",
   "execution_count": 21,
   "metadata": {},
   "outputs": [
    {
     "data": {
      "text/html": [
       "0.972222222222222"
      ],
      "text/latex": [
       "0.972222222222222"
      ],
      "text/markdown": [
       "0.972222222222222"
      ],
      "text/plain": [
       "[1] 0.9722222"
      ]
     },
     "metadata": {},
     "output_type": "display_data"
    }
   ],
   "source": [
    "# True negative rate\n",
    "# Strategy 1: Only accuracy types\n",
    "tn / (tn + fp)"
   ]
  },
  {
   "cell_type": "code",
   "execution_count": 20,
   "metadata": {},
   "outputs": [
    {
     "data": {
      "text/html": [
       "0.972222222222222"
      ],
      "text/latex": [
       "0.972222222222222"
      ],
      "text/markdown": [
       "0.972222222222222"
      ],
      "text/plain": [
       "[1] 0.9722222"
      ]
     },
     "metadata": {},
     "output_type": "display_data"
    }
   ],
   "source": [
    "# True negative rate\n",
    "# Strategy 2: Find numerator and denominator then divide\n",
    "neg_cases <- sum(test$Class == 'benign')\n",
    "\n",
    "tn / neg_cases"
   ]
  },
  {
   "cell_type": "markdown",
   "metadata": {},
   "source": [
    "## Part 2 - Manipulating Columns"
   ]
  },
  {
   "cell_type": "markdown",
   "metadata": {},
   "source": [
    "### Exercise 4 - Old Faithful\n",
    "- Re-familiarize yourself with the `faithful` data set by looking at its documentation.\n",
    "- Compute and estimate of the total time that Old Faithful was observed to collect this data. Is this an over estimate or an underestimate?\n",
    "- Assume that the eruption are listed in chronological order and that the first observation session lasted four hours. How many eruptions were recorded in this hypothetical observation session?"
   ]
  },
  {
   "cell_type": "code",
   "execution_count": null,
   "metadata": {},
   "outputs": [],
   "source": [
    "?faithful"
   ]
  },
  {
   "cell_type": "code",
   "execution_count": 29,
   "metadata": {},
   "outputs": [
    {
     "data": {
      "text/html": [
       "20232.677"
      ],
      "text/latex": [
       "20232.677"
      ],
      "text/markdown": [
       "20232.677"
      ],
      "text/plain": [
       "[1] 20232.68"
      ]
     },
     "metadata": {},
     "output_type": "display_data"
    }
   ],
   "source": [
    "faithful <- mutate(faithful, Obs_Time = eruptions + waiting)\n",
    "\n",
    "sum(faithful$Obs_Time)"
   ]
  },
  {
   "cell_type": "markdown",
   "metadata": {},
   "source": [
    "Old faithful was observed for around 20233 minutes. This is an **under estimate**, because it doesn't account for the time spent waiting for the first eruption in each observation session. "
   ]
  },
  {
   "cell_type": "code",
   "execution_count": 31,
   "metadata": {},
   "outputs": [],
   "source": [
    "# Create a column with a running total of the time spent observing. \n",
    "faithful <- mutate(faithful, Total_Time = cumsum(Obs_Time))"
   ]
  },
  {
   "cell_type": "code",
   "execution_count": 32,
   "metadata": {},
   "outputs": [
    {
     "data": {
      "text/html": [
       "3"
      ],
      "text/latex": [
       "3"
      ],
      "text/markdown": [
       "3"
      ],
      "text/plain": [
       "[1] 3"
      ]
     },
     "metadata": {},
     "output_type": "display_data"
    }
   ],
   "source": [
    "# Strategy 1: Filter and count\n",
    "nrow(filter(faithful, Total_Time <= 4*60))"
   ]
  },
  {
   "cell_type": "code",
   "execution_count": 33,
   "metadata": {},
   "outputs": [
    {
     "data": {
      "text/html": [
       "3"
      ],
      "text/latex": [
       "3"
      ],
      "text/markdown": [
       "3"
      ],
      "text/plain": [
       "[1] 3"
      ]
     },
     "metadata": {},
     "output_type": "display_data"
    }
   ],
   "source": [
    "# Strategy 2: Use Boolean expression\n",
    "sum(faithful$Total_Time <= 4*60)"
   ]
  },
  {
   "cell_type": "markdown",
   "metadata": {},
   "source": [
    "If the eruptions are listed in chronological order and the first observation session was four hours, then **three eruptions** were recorded in the first observation session. "
   ]
  },
  {
   "cell_type": "markdown",
   "metadata": {},
   "source": [
    "## Examples from notes"
   ]
  },
  {
   "cell_type": "code",
   "execution_count": 39,
   "metadata": {},
   "outputs": [],
   "source": [
    "library(dplyr)\n",
    "library(ggplot2)"
   ]
  },
  {
   "cell_type": "markdown",
   "metadata": {},
   "source": [
    "### Example 1 - Accuracy counts"
   ]
  },
  {
   "cell_type": "code",
   "execution_count": 42,
   "metadata": {},
   "outputs": [
    {
     "data": {
      "text/html": [
       "<table>\n",
       "<thead><tr><th scope=col>Class</th><th scope=col>Prediction</th></tr></thead>\n",
       "<tbody>\n",
       "\t<tr><td>cancer</td><td>benign</td></tr>\n",
       "\t<tr><td>cancer</td><td>cancer</td></tr>\n",
       "\t<tr><td>benign</td><td>cancer</td></tr>\n",
       "\t<tr><td>cancer</td><td>cancer</td></tr>\n",
       "\t<tr><td>benign</td><td>cancer</td></tr>\n",
       "\t<tr><td>benign</td><td>benign</td></tr>\n",
       "</tbody>\n",
       "</table>\n"
      ],
      "text/latex": [
       "\\begin{tabular}{r|ll}\n",
       " Class & Prediction\\\\\n",
       "\\hline\n",
       "\t cancer & benign\\\\\n",
       "\t cancer & cancer\\\\\n",
       "\t benign & cancer\\\\\n",
       "\t cancer & cancer\\\\\n",
       "\t benign & cancer\\\\\n",
       "\t benign & benign\\\\\n",
       "\\end{tabular}\n"
      ],
      "text/markdown": [
       "\n",
       "| Class | Prediction |\n",
       "|---|---|\n",
       "| cancer | benign |\n",
       "| cancer | cancer |\n",
       "| benign | cancer |\n",
       "| cancer | cancer |\n",
       "| benign | cancer |\n",
       "| benign | benign |\n",
       "\n"
      ],
      "text/plain": [
       "  Class  Prediction\n",
       "1 cancer benign    \n",
       "2 cancer cancer    \n",
       "3 benign cancer    \n",
       "4 cancer cancer    \n",
       "5 benign cancer    \n",
       "6 benign benign    "
      ]
     },
     "metadata": {},
     "output_type": "display_data"
    }
   ],
   "source": [
    "test_data <- data.frame(Class  = c(1,1,0,1,0,0), Prediction = c(0,1,1,1,1,0))\n",
    "test_data <- mutate(test_data, \n",
    "                   Class = factor(Class, levels = c(0,1), labels = c('benign','cancer')),\n",
    "                   Prediction = factor(Prediction, levels = c(0,1), labels = c('benign','cancer'))\n",
    "                   )\n",
    "test_data"
   ]
  },
  {
   "cell_type": "code",
   "execution_count": 43,
   "metadata": {},
   "outputs": [
    {
     "data": {
      "text/html": [
       "2"
      ],
      "text/latex": [
       "2"
      ],
      "text/markdown": [
       "2"
      ],
      "text/plain": [
       "[1] 2"
      ]
     },
     "metadata": {},
     "output_type": "display_data"
    }
   ],
   "source": [
    "sum(test_data$Class == test_data$Prediction &\n",
    "    test_data$Prediction == 'cancer')"
   ]
  },
  {
   "cell_type": "markdown",
   "metadata": {},
   "source": [
    "### Example 2 - Measure Prediction efficiency"
   ]
  },
  {
   "cell_type": "code",
   "execution_count": 37,
   "metadata": {},
   "outputs": [
    {
     "data": {
      "text/html": [
       "<table>\n",
       "<thead><tr><th scope=col>x_coord</th><th scope=col>y_coord</th><th scope=col>is_special</th></tr></thead>\n",
       "<tbody>\n",
       "\t<tr><td>9.07</td><td>1.56</td><td>1   </td></tr>\n",
       "\t<tr><td>7.60</td><td>1.35</td><td>1   </td></tr>\n",
       "\t<tr><td>6.14</td><td>2.21</td><td>0   </td></tr>\n",
       "\t<tr><td>6.01</td><td>1.81</td><td>1   </td></tr>\n",
       "\t<tr><td>6.95</td><td>0.38</td><td>0   </td></tr>\n",
       "\t<tr><td>5.66</td><td>2.32</td><td>1   </td></tr>\n",
       "</tbody>\n",
       "</table>\n"
      ],
      "text/latex": [
       "\\begin{tabular}{r|lll}\n",
       " x\\_coord & y\\_coord & is\\_special\\\\\n",
       "\\hline\n",
       "\t 9.07 & 1.56 & 1   \\\\\n",
       "\t 7.60 & 1.35 & 1   \\\\\n",
       "\t 6.14 & 2.21 & 0   \\\\\n",
       "\t 6.01 & 1.81 & 1   \\\\\n",
       "\t 6.95 & 0.38 & 0   \\\\\n",
       "\t 5.66 & 2.32 & 1   \\\\\n",
       "\\end{tabular}\n"
      ],
      "text/markdown": [
       "\n",
       "| x_coord | y_coord | is_special |\n",
       "|---|---|---|\n",
       "| 9.07 | 1.56 | 1    |\n",
       "| 7.60 | 1.35 | 1    |\n",
       "| 6.14 | 2.21 | 0    |\n",
       "| 6.01 | 1.81 | 1    |\n",
       "| 6.95 | 0.38 | 0    |\n",
       "| 5.66 | 2.32 | 1    |\n",
       "\n"
      ],
      "text/plain": [
       "  x_coord y_coord is_special\n",
       "1 9.07    1.56    1         \n",
       "2 7.60    1.35    1         \n",
       "3 6.14    2.21    0         \n",
       "4 6.01    1.81    1         \n",
       "5 6.95    0.38    0         \n",
       "6 5.66    2.32    1         "
      ]
     },
     "metadata": {},
     "output_type": "display_data"
    }
   ],
   "source": [
    "# Generate 500 random points\n",
    "random_points <- data.frame(\n",
    "    'x_coord' = round(runif(500, 0, 10),2),\n",
    "    'y_coord' = round(runif(500, 0, 2.5),2)\n",
    ")\n",
    "random_points <- mutate(random_points, \n",
    "                        is_special = ((runif(500,0,100)<=6) + \n",
    "                                      ((x_coord > 6)|(runif(500,0,100)<=6))) %% 2)\n",
    "\n",
    "head(random_points)"
   ]
  },
  {
   "cell_type": "code",
   "execution_count": 133,
   "metadata": {},
   "outputs": [
    {
     "data": {
      "text/html": [
       "<table>\n",
       "<thead><tr><th scope=col>x_coord</th><th scope=col>y_coord</th><th scope=col>is_special</th></tr></thead>\n",
       "<tbody>\n",
       "\t<tr><td>2.91</td><td>0.65</td><td>No  </td></tr>\n",
       "\t<tr><td>1.96</td><td>0.18</td><td>No  </td></tr>\n",
       "\t<tr><td>7.85</td><td>1.95</td><td>Yes </td></tr>\n",
       "\t<tr><td>8.50</td><td>2.09</td><td>Yes </td></tr>\n",
       "\t<tr><td>7.95</td><td>0.68</td><td>Yes </td></tr>\n",
       "\t<tr><td>7.18</td><td>0.28</td><td>Yes </td></tr>\n",
       "</tbody>\n",
       "</table>\n"
      ],
      "text/latex": [
       "\\begin{tabular}{r|lll}\n",
       " x\\_coord & y\\_coord & is\\_special\\\\\n",
       "\\hline\n",
       "\t 2.91 & 0.65 & No  \\\\\n",
       "\t 1.96 & 0.18 & No  \\\\\n",
       "\t 7.85 & 1.95 & Yes \\\\\n",
       "\t 8.50 & 2.09 & Yes \\\\\n",
       "\t 7.95 & 0.68 & Yes \\\\\n",
       "\t 7.18 & 0.28 & Yes \\\\\n",
       "\\end{tabular}\n"
      ],
      "text/markdown": [
       "\n",
       "| x_coord | y_coord | is_special |\n",
       "|---|---|---|\n",
       "| 2.91 | 0.65 | No   |\n",
       "| 1.96 | 0.18 | No   |\n",
       "| 7.85 | 1.95 | Yes  |\n",
       "| 8.50 | 2.09 | Yes  |\n",
       "| 7.95 | 0.68 | Yes  |\n",
       "| 7.18 | 0.28 | Yes  |\n",
       "\n"
      ],
      "text/plain": [
       "  x_coord y_coord is_special\n",
       "1 2.91    0.65    No        \n",
       "2 1.96    0.18    No        \n",
       "3 7.85    1.95    Yes       \n",
       "4 8.50    2.09    Yes       \n",
       "5 7.95    0.68    Yes       \n",
       "6 7.18    0.28    Yes       "
      ]
     },
     "metadata": {},
     "output_type": "display_data"
    }
   ],
   "source": [
    "### NEW ###\n",
    "# Make is_special column more readable\n",
    "random_points <- mutate(random_points, \n",
    "                        is_special =  factor(\n",
    "                            is_special,\n",
    "                            levels = c(0,1),\n",
    "                            labels = c(\"No\", \"Yes\")\n",
    "                        )\n",
    "                       )\n",
    "head(random_points)"
   ]
  },
  {
   "cell_type": "code",
   "execution_count": 134,
   "metadata": {},
   "outputs": [],
   "source": [
    "# Split data into training data and test data\n",
    "training <- random_points[1:300,]\n",
    "test <- random_points[301:nrow(random_points),]"
   ]
  },
  {
   "cell_type": "code",
   "execution_count": 135,
   "metadata": {},
   "outputs": [
    {
     "data": {
      "image/png": "[encoded data removed]",
      "text/plain": [
       "plot without title"
      ]
     },
     "metadata": {},
     "output_type": "display_data"
    }
   ],
   "source": [
    "# plot training data\n",
    "ggplot(training, aes(x=x_coord, y=y_coord, color = is_special, shape=is_special)) + \n",
    "    geom_point() +\n",
    "    scale_x_continuous(breaks = seq(1,10,2)) +\n",
    "    theme_bw()"
   ]
  },
  {
   "cell_type": "code",
   "execution_count": 136,
   "metadata": {},
   "outputs": [],
   "source": [
    "# Create classifier function and use it to make predictions \n",
    "# about the traing data\n",
    "points_classifier <- function(x,y){\n",
    "    if(x>6) {\n",
    "        'Yes'\n",
    "    } else {\n",
    "        'No'\n",
    "    }\n",
    "}\n",
    "points_classifier <- Vectorize(points_classifier)\n",
    "\n",
    "test <- mutate(test, prediction = points_classifier(x_coord, y_coord))"
   ]
  },
  {
   "cell_type": "code",
   "execution_count": 137,
   "metadata": {},
   "outputs": [
    {
     "data": {
      "text/html": [
       "<table>\n",
       "<thead><tr><th scope=col>accuracy</th><th scope=col>Count</th></tr></thead>\n",
       "<tbody>\n",
       "\t<tr><td>false negative</td><td> 13           </td></tr>\n",
       "\t<tr><td>false positive</td><td>  6           </td></tr>\n",
       "\t<tr><td>True negative </td><td>102           </td></tr>\n",
       "\t<tr><td>True positive </td><td> 79           </td></tr>\n",
       "</tbody>\n",
       "</table>\n"
      ],
      "text/latex": [
       "\\begin{tabular}{r|ll}\n",
       " accuracy & Count\\\\\n",
       "\\hline\n",
       "\t false negative &  13           \\\\\n",
       "\t false positive &   6           \\\\\n",
       "\t True negative  & 102           \\\\\n",
       "\t True positive  &  79           \\\\\n",
       "\\end{tabular}\n"
      ],
      "text/markdown": [
       "\n",
       "| accuracy | Count |\n",
       "|---|---|\n",
       "| false negative |  13            |\n",
       "| false positive |   6            |\n",
       "| True negative  | 102            |\n",
       "| True positive  |  79            |\n",
       "\n"
      ],
      "text/plain": [
       "  accuracy       Count\n",
       "1 false negative  13  \n",
       "2 false positive   6  \n",
       "3 True negative  102  \n",
       "4 True positive   79  "
      ]
     },
     "metadata": {},
     "output_type": "display_data"
    }
   ],
   "source": [
    "# s is the value of is_special\n",
    "# p is the prediction\n",
    "points_accuracy <- function(s,p){\n",
    "    if(s == p) {\n",
    "        if(s == 'Yes'){\n",
    "            'True positive'\n",
    "        } else {\n",
    "            'True negative'\n",
    "        }\n",
    "    } else if (p=='Yes') {\n",
    "        'false positive'\n",
    "    } else {\n",
    "        'false negative'\n",
    "    }\n",
    "}\n",
    "points_accuracy <- Vectorize(points_accuracy)\n",
    "\n",
    "test <- mutate(test, accuracy = points_accuracy(is_special, prediction))\n",
    "accuracy_count <- summarize(group_by(test, accuracy), Count = n())\n",
    "accuracy_count"
   ]
  },
  {
   "cell_type": "code",
   "execution_count": 139,
   "metadata": {},
   "outputs": [
    {
     "data": {
      "text/html": [
       "13"
      ],
      "text/latex": [
       "13"
      ],
      "text/markdown": [
       "13"
      ],
      "text/plain": [
       "[1] 13"
      ]
     },
     "metadata": {},
     "output_type": "display_data"
    },
    {
     "data": {
      "text/html": [
       "6"
      ],
      "text/latex": [
       "6"
      ],
      "text/markdown": [
       "6"
      ],
      "text/plain": [
       "[1] 6"
      ]
     },
     "metadata": {},
     "output_type": "display_data"
    },
    {
     "data": {
      "text/html": [
       "102"
      ],
      "text/latex": [
       "102"
      ],
      "text/markdown": [
       "102"
      ],
      "text/plain": [
       "[1] 102"
      ]
     },
     "metadata": {},
     "output_type": "display_data"
    },
    {
     "data": {
      "text/html": [
       "79"
      ],
      "text/latex": [
       "79"
      ],
      "text/markdown": [
       "79"
      ],
      "text/plain": [
       "[1] 79"
      ]
     },
     "metadata": {},
     "output_type": "display_data"
    }
   ],
   "source": [
    "# [[1]] extracts the actual number from the 1x1 dataframe. \n",
    "false_neg <- accuracy_count[1,2][[1]]\n",
    "false_pos <- accuracy_count[2,2][[1]]\n",
    "true_neg <- accuracy_count[3,2][[1]]\n",
    "true_pos <- accuracy_count[4,2][[1]]\n",
    "\n",
    "false_neg\n",
    "false_pos\n",
    "true_neg\n",
    "true_pos"
   ]
  },
  {
   "cell_type": "code",
   "execution_count": 141,
   "metadata": {},
   "outputs": [],
   "source": [
    "correct_count <- true_neg + true_pos\n",
    "obs_count <- nrow(test)\n",
    "pos_predictions <- true_pos + false_pos\n",
    "neg_predictions <- true_neg + false_neg\n",
    "pos_cases <- true_pos + false_neg\n",
    "neg_cases <- true_neg + false_pos\n",
    "\n",
    "# obs_count\n",
    "# correct_count \n",
    "# pos_predictions \n",
    "# neg_predictions\n",
    "# pos_cases\n",
    "# neg_cases"
   ]
  },
  {
   "cell_type": "markdown",
   "metadata": {},
   "source": [
    "$$\\text{Accuracy} = \\frac{\\text{# correct predictions}}{\\text{# of observations}}$$"
   ]
  },
  {
   "cell_type": "code",
   "execution_count": 142,
   "metadata": {},
   "outputs": [
    {
     "data": {
      "text/html": [
       "0.905"
      ],
      "text/latex": [
       "0.905"
      ],
      "text/markdown": [
       "0.905"
      ],
      "text/plain": [
       "[1] 0.905"
      ]
     },
     "metadata": {},
     "output_type": "display_data"
    }
   ],
   "source": [
    "# accuracy\n",
    "correct_count / obs_count"
   ]
  },
  {
   "cell_type": "markdown",
   "metadata": {},
   "source": [
    "$$\\text{Precision} = \\frac{\\text{# true positive predictions}}{\\text{# of positive predictions}}$$"
   ]
  },
  {
   "cell_type": "code",
   "execution_count": 143,
   "metadata": {},
   "outputs": [
    {
     "data": {
      "text/html": [
       "0.929411764705882"
      ],
      "text/latex": [
       "0.929411764705882"
      ],
      "text/markdown": [
       "0.929411764705882"
      ],
      "text/plain": [
       "[1] 0.9294118"
      ]
     },
     "metadata": {},
     "output_type": "display_data"
    }
   ],
   "source": [
    "# precision\n",
    "true_pos / pos_predictions\n",
    "                    "
   ]
  },
  {
   "cell_type": "markdown",
   "metadata": {},
   "source": [
    "$$\\text{True positive rate} = \\frac{\\text{# true positive predictions}}{\\text{# positive cases}}$$"
   ]
  },
  {
   "cell_type": "code",
   "execution_count": 144,
   "metadata": {},
   "outputs": [
    {
     "data": {
      "text/html": [
       "0.858695652173913"
      ],
      "text/latex": [
       "0.858695652173913"
      ],
      "text/markdown": [
       "0.858695652173913"
      ],
      "text/plain": [
       "[1] 0.8586957"
      ]
     },
     "metadata": {},
     "output_type": "display_data"
    }
   ],
   "source": [
    "# True positive rate\n",
    "true_pos / pos_cases"
   ]
  },
  {
   "cell_type": "markdown",
   "metadata": {},
   "source": [
    "$$\\text{True negative rate}  = \\frac{\\text{# true negative predictions}}{\\text{# negative cases}}$$"
   ]
  },
  {
   "cell_type": "code",
   "execution_count": 145,
   "metadata": {},
   "outputs": [
    {
     "data": {
      "text/html": [
       "0.944444444444444"
      ],
      "text/latex": [
       "0.944444444444444"
      ],
      "text/markdown": [
       "0.944444444444444"
      ],
      "text/plain": [
       "[1] 0.9444444"
      ]
     },
     "metadata": {},
     "output_type": "display_data"
    }
   ],
   "source": [
    "# True negative rate\n",
    "true_neg / neg_cases"
   ]
  }
 ],
 "metadata": {
  "celltoolbar": "Attachments",
  "kernelspec": {
   "display_name": "R",
   "language": "R",
   "name": "ir"
  },
  "language_info": {
   "codemirror_mode": "r",
   "file_extension": ".r",
   "mimetype": "text/x-r-source",
   "name": "R",
   "pygments_lexer": "r",
   "version": "4.1.1"
  }
 },
 "nbformat": 4,
 "nbformat_minor": 4
}
