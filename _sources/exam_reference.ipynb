{
 "cells": [
  {
   "cell_type": "markdown",
   "id": "530e7e68",
   "metadata": {},
   "source": [
    "# Exam Reference Page"
   ]
  },
  {
   "cell_type": "markdown",
   "id": "a5c0954e",
   "metadata": {},
   "source": [
    "## Basic Functions\n",
    "- `sqrt( NAME )` : to take the square root of the value stored in NAME\n",
    "- `abs( NAME )` : to take the absolute value of the value stored in NAME\n",
    "- `NUM1 %% NUM2` : the remainder when we divide NUM1 by NUM2\n",
    "- `exp( NUM )`: $e^{\\texttt{NUM}}$ the number $e$ raised to the power NUM\n",
    "- `log( NUM )` : The log base $e$ of NUM"
   ]
  },
  {
   "cell_type": "markdown",
   "id": "3208c042",
   "metadata": {},
   "source": [
    "## Functions on Vectors\n",
    "- `c( VALUE1, VALUE2, ... )` : to put values into one vector\n",
    "- `NUM1:NUM2` : to make a vector of whole numbers starting from NUM1 to NUM2\n",
    "- `length( NAME )` : to find the number of entries in the vector NAME\n",
    "- `max( NAME )` : to find the largest value in the vector NAME\n",
    "- `min( NAME )` : to find the smallest value in the vector NAME\n",
    "- `sum( NAME )` : to find the sum of values in the vector NAME\n",
    "- `mean( NAME )` : to find the average of values in the vector NAME"
   ]
  },
  {
   "cell_type": "markdown",
   "id": "81d47e12",
   "metadata": {},
   "source": [
    "## Loading Data Sets\n",
    "- `read.csv( 'FILENAME.csv')` : to \"read\" a csv file and import it as a data frame in R\n",
    "- `read.csv( 'http://webaddress.etc' )` : to \"read\" a csv file from a URL (web address) and import it as a data frame in R\n",
    "- `data.frame( COLUMNNAME1 = VECTOR1, COLUMNNAME2 = VECTOR2, ...)` : to create a new data frame with\n",
    "columns COLUMNNAME1 , COLUMNNAME2 (and possibly more or fewer columns), where the entries in\n",
    "COLUMNNAME1 are specified in VECTOR1 , the entries is COLUMNNAME2 are specified in VECTOR2 , etc."
   ]
  },
  {
   "cell_type": "markdown",
   "id": "bfdbe031",
   "metadata": {},
   "source": [
    "## Functions on Data Frames\n",
    "- `dim( DATAFRAMENAME )` : to find the number of rows and columns of the data frame DATAFRAMENAME\n",
    "- `names( DATAFRAMENAME )` : to find the column names of the data frame DATAFRAMENAME\n",
    "- `str( DATAFRAMENAME)` : for an overview of the structure of the data frame\n",
    "- `head( DATAFRAMENAME )` : to preview the first six rows of the data frame DATAFRAMENAME\n",
    "- `head( DATAFRAMENAME, NUMBER)` : to preview the first NUMBER rows of the data frame DATAFRAMENAME"
   ]
  },
  {
   "cell_type": "markdown",
   "id": "8ab4fa5d",
   "metadata": {},
   "source": [
    "## `dplyr` Functions\n",
    "- `mutate( DATAFRAMENAME, NEWCOLNAME = FORMULA )` : to create a new column called COLUMNNAME based on given instructions/formula\n",
    "- `arrange( DATAFRAMENAME, COLUMNNAME )` : to sort rows by values in the column called COLUMNNAME in ascending order\n",
    "- `arrange( DATAFRAMENAME , desc( COLUMNNAME ) )` : to sort rows by values in the column called COLUMNNAME in descending order\n",
    "- `filter( DATAFRAMENAME, CRITERIA)` : to produce a new data frame that contains only: rows in the data\n",
    "frame DATAFRAMENAME that satisfy the criteria specified in CRITERIA .\n",
    "- `group_by( DATAFRAMENAME, COLUMNNAME )` : to group rows of DATAFRAMENAME by their values in the\n",
    "column COLUMNNAME\n",
    "summarize( GROUPEDDATAFRAMENAME, NEWCOLUMN = FORMULA ) : to compute a summary quantity from\n",
    "grouped data GROUPEDDATAFRAMENAME (usuall the output of group_by() ), where the summary quantity is\n",
    "stored in a new column called NEWCOLUMN (this is up to you).\n"
   ]
  },
  {
   "cell_type": "markdown",
   "id": "cd6c390f",
   "metadata": {},
   "source": [
    "## `ggplot2` Functions\n",
    "- `ggplot( DATAFRAMENAME, aes( x = COLUMNNAME1, y = COLUMNNAME2 ) ) + geom_point()` : to\n",
    "create a scatterplot with data in DATAFRAMENAME, with COLUMNNAME1 on the x-axis and COLUMNNAME2 on\n",
    "the y-axis\n",
    "- `ggplot( DATAFRAMENAME, aes( x = COLUMNNAME ) ) + geom_bar()` : to create a bar chart with data in\n",
    "DATAFRAMENAME  with COLUMNNAME on the x-axis and the number of observations on the y-axis\n",
    "- `ggplot( DATAFRAMENAME, aes( x = COLUMNNAME) ) + geom_histogram()` : to create a historam of\n",
    "the data in column COLUMNNAME in the data frame DATAFRAMENAME; the default number of bins is 30\n",
    "- `ggplot( DATAFRAMENAME, aes( x = COLUMNNAME) ) + geom_histogram( bins = NUMBER )` : to\n",
    "create a historam of the data in column COLUMNNAME in the data frame DATAFRAMENAME, with the number\n",
    "of bins equal to NUMBER\n",
    "- `ggplot( DATAFRAMENAME, aes( x = COLUMNNAME) ) + geom_histogram( breaks = LIST )` : to\n",
    "create a historam of the data in column COLUMNNAME in the data frame DATAFRAMENAME, where the bins\n",
    "are specified by LIST\n",
    "- The aesthetic mapping for a particular geometry can be set by including `mapping = aes( ... )` inside the geom function."
   ]
  },
  {
   "cell_type": "markdown",
   "id": "b703b9cf",
   "metadata": {},
   "source": [
    "### Color in plots\n",
    "- `color = COLUMNNAME` inside `aes()` to make the color of points or border of rectangles depend on a\n",
    "variable.\n",
    "- `color = 'COLORNAME'` inside of `geom_PLOTTYPE()` to set the color of points or border of rectangles to\n",
    "the named color.\n",
    "- Substitute fill for color to change the color of the inside of rectangles."
   ]
  },
  {
   "cell_type": "markdown",
   "id": "5100a05b",
   "metadata": {},
   "source": [
    "## Boolean Expressions\n",
    "- `BOOLEAN1 & BOOLEAN2` \"and\" evaluates to TRUE when both BOOLEAN1 and BOOLEAN2 are TRUE.\n",
    "- `BOOLEAN1 | BOOLEAN2` \"or\" evaluates to FALSE when both BOOLEAN1 and BOOLEAN2 are FALSE.\n",
    "- `!` \"not\" "
   ]
  },
  {
   "cell_type": "markdown",
   "id": "670acd11",
   "metadata": {},
   "source": [
    "## Conditionals\n",
    "```\n",
    "if( CONDITION ){\n",
    " ( ... task to be completed if CONDITION is TRUE ... )\n",
    "} else {\n",
    " ( ... task to be completed if CONDITION is FALSE ... )\n",
    "}\n",
    "```\n",
    "- CONDITION is a boolean expression; it evaluates to either TRUE or FALSE"
   ]
  },
  {
   "cell_type": "markdown",
   "id": "616010b1",
   "metadata": {},
   "source": [
    "## Creating Functions\n",
    "```\n",
    "NEWFUNCTIONNAME <- function( INPUT1, INPUT2, ... ){\n",
    "    CODE\n",
    "    }\n",
    "```\n",
    "- NEWFUNCTIONNAME is the name of the new function\n",
    "- INPUT1, INPUT2, etc are the inputs of the function\n",
    "- CODE is the R code that is executed each time the function is called\n",
    "\n",
    "- `FUNCTIONNAME <- Vectorize(FUNCTIONNAME)` makes the function FUNCTIONNAME evaluate on each value in a vector individually. "
   ]
  },
  {
   "cell_type": "markdown",
   "id": "1b39d0f7",
   "metadata": {},
   "source": [
    "## Models\n",
    "- `knn( TRAININGDATAFRAME, TESTDATAFRAME, CLASSOFTRAININGDATA, k = NUMBER )`: to predict the class of each row of TESTDATAFRAME using the k-Nearest Neighbor classifier with k = NUMBER.\n",
    "- `ggplot( DATAFRAMENAME, aes( x = COLUMNNAME1, y = COLUMNNAME2) ) + geom_smooth( method = 'lm', formula = 'y~x' )` plots the best fit linear model for values in COLUMNNAME2 as a function of those in COLUMNNAME1\n",
    "- `lm( FORMULA , DATAFRAMENAME)` outputs the best fit model for the given formula and data\n",
    "- Use the formula `y ~ x` for a linear model, `y ~ x + I(x^2)` for a quadratic model and `log(y) ~ x` for an exponential model\n",
    "- `MODELNAME$coefficients[[ N ]]` to extract the Nth coefficient of the model MODELNAME\n",
    "- `MODELNAME$fitted.values` the outputs predicted by the model MODELNAME on the original set of inputs\n",
    "- `MODELNAME$residuals` the residuals for the model MODELNAME"
   ]
  }
 ],
 "metadata": {
  "kernelspec": {
   "display_name": "R",
   "language": "R",
   "name": "ir"
  },
  "language_info": {
   "codemirror_mode": "r",
   "file_extension": ".r",
   "mimetype": "text/x-r-source",
   "name": "R",
   "pygments_lexer": "r",
   "version": "4.0.5"
  }
 },
 "nbformat": 4,
 "nbformat_minor": 5
}
