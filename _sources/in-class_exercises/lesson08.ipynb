{
 "cells": [
  {
   "cell_type": "markdown",
   "metadata": {},
   "source": [
    "(in-class_exercises:lesson08)=\n",
    "# Lesson 8: Colors and histograms\n",
    "These exercises are to help you check your understanding during class. They will not be collected."
   ]
  },
  {
   "cell_type": "markdown",
   "metadata": {},
   "source": [
    "## Useful links\n",
    "The following links are also in the Content tool on Brightspace.\n",
    "- [Course Book](https://nyumathclinic.github.io/core-ua_111_course_book/)\n",
    "- [Class notes](https://nyu0-my.sharepoint.com/:o:/g/personal/cc5948_nyu_edu/EthbeMeNnc5Cgs34RxBsLPMBHkNqPkzLwJCN7OM63sW1mg?e=cAb9oe)\n",
    "- [Poll Everywhere login](https://www.polleverywhere.com/auth/saml/nyu_main)\n",
    "- [Poll Everywhere respond](https://pollev.com/clarkson)"
   ]
  },
  {
   "cell_type": "markdown",
   "metadata": {},
   "source": [
    "## Part 1: More trees"
   ]
  },
  {
   "cell_type": "markdown",
   "metadata": {},
   "source": [
    "### Exercise 1: Distribution of tree diameters\n",
    "The `NYC_Tree_Census_small.csv` data set in the shared data folder contains information an excerpt from the [2015 New York City Tree Census](https://data.cityofnewyork.us/Environment/2015-Street-Tree-Census-Tree-Data/uvpi-gqnh). \n",
    "\n",
    "- Import the NYC tree census data **from the local file** and store it as a data frame called `nyc_trees`.\n",
    "- In a new code cell, create a histogram of the diameters of the trees broken into four bins. You can think of these groups as small medium, large and extra large.\n",
    "- In a new code cell, generate a second histogram with the diameters of the living trees broken into 20 bins. \n",
    "\n",
    "``` ggplot( DATA_FRAME, aes(x = COLUMN)) + geom_histogram(bins = NUMBER)```\n",
    "\n",
    "Hint: The link above contains documentation for this data set."
   ]
  },
  {
   "cell_type": "code",
   "execution_count": null,
   "metadata": {},
   "outputs": [],
   "source": []
  },
  {
   "cell_type": "code",
   "execution_count": null,
   "metadata": {},
   "outputs": [],
   "source": []
  },
  {
   "cell_type": "code",
   "execution_count": null,
   "metadata": {},
   "outputs": [],
   "source": []
  },
  {
   "cell_type": "markdown",
   "metadata": {},
   "source": [
    "### Exercise 2: Add Title, labels and theme\n",
    "- Improve your histogram with 20 bis by adding the following features:\n",
    "    * Descriptive title\n",
    "    * Descriptive axis labels with units\n",
    "    * A built-in theme of your choice."
   ]
  },
  {
   "cell_type": "code",
   "execution_count": null,
   "metadata": {},
   "outputs": [],
   "source": []
  },
  {
   "cell_type": "markdown",
   "metadata": {},
   "source": [
    "## Part 2: Colorful trees"
   ]
  },
  {
   "cell_type": "markdown",
   "metadata": {},
   "source": [
    "### Exercise 3: Types of trees\n",
    "\n",
    "- Create a bar chart that shows the number of threes in `nyc_trees` from each species."
   ]
  },
  {
   "cell_type": "code",
   "execution_count": null,
   "metadata": {},
   "outputs": [],
   "source": []
  },
  {
   "cell_type": "markdown",
   "metadata": {},
   "source": [
    "### Exercise 4: Custom colors\n",
    "\n",
    "- The `colors()` function outputs a vector of all the named colors. How many are there?\n",
    "- Use named colors to set the color of the border and interior of the rectangles in your bar chart from the previous exercise. "
   ]
  },
  {
   "cell_type": "code",
   "execution_count": null,
   "metadata": {},
   "outputs": [],
   "source": []
  },
  {
   "cell_type": "markdown",
   "metadata": {},
   "source": [
    "### Exercise 5: Types of trees\n",
    " - Create a scatter plot that shows the location of each tree in `nyc_trees` and uses color to indicate the type of each tree.\n",
    " - Improve your plot by adding the following features:\n",
    "     * Descriptive title, axis and legend labels\n",
    "     * Use `scale_color_manual()` to specify colors from this [color-blind friendly pallet](https://siegal.bio.nyu.edu/color-palette/).\n",
    "     * A built-in theme with a grid background.\n",
    "     * Increased font size\n",
    "     \n",
    "```scale_PROPERTY_manual( name= \"LEGEND_TITLE\", values= VECTOR_OF_COLORS)```"
   ]
  },
  {
   "cell_type": "code",
   "execution_count": null,
   "metadata": {},
   "outputs": [],
   "source": []
  }
 ],
 "metadata": {
  "kernelspec": {
   "display_name": "R",
   "language": "R",
   "name": "ir"
  },
  "language_info": {
   "codemirror_mode": "r",
   "file_extension": ".r",
   "mimetype": "text/x-r-source",
   "name": "R",
   "pygments_lexer": "r",
   "version": "4.0.5"
  }
 },
 "nbformat": 4,
 "nbformat_minor": 4
}
