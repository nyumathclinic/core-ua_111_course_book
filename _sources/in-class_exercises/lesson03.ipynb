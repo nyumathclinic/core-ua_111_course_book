{
 "cells": [
  {
   "cell_type": "markdown",
   "metadata": {},
   "source": [
    "(in-class_exercises:lesson03)=\n",
    "# Lesson 3 Data sets and more vectors\n",
    "\n",
    "These exercises are to help you check your understanding during class. They will not be collected.\n",
    "\n",
    "The content for this lesson is in the following subsections of the course book:\n",
    "* Base R\n",
    "    - [Numerical Vectors](r_basics:numerical_vectors:functions)\n",
    "* Exploring Data\n",
    "    - [Loading data](loading)\n",
    "    - [Working with data frames](frames)"
   ]
  },
  {
   "cell_type": "markdown",
   "metadata": {},
   "source": [
    "## Useful links\n",
    "The following links are also in the Content tool on Brightspace.\n",
    "- [Course Book](https://nyumathclinic.github.io/core-ua_111_course_book/)\n",
    "- [Class notes](https://nyu0-my.sharepoint.com/:o:/g/personal/cc5948_nyu_edu/EthbeMeNnc5Cgs34RxBsLPMBHkNqPkzLwJCN7OM63sW1mg?e=cAb9oe)\n",
    "- [Poll Everywhere login](https://www.polleverywhere.com/auth/saml/nyu_main)\n",
    "- [Poll Everywhere respond](https://pollev.com/clarkson)"
   ]
  },
  {
   "cell_type": "markdown",
   "metadata": {},
   "source": [
    "## Part 1: Working with vectors"
   ]
  },
  {
   "cell_type": "markdown",
   "metadata": {},
   "source": [
    "### Exercise 0 - Open this notebook on the Jupyter Hub\n",
    "* Click on the rocket icon in the upper right of this page of the course book. \n",
    "* Click the JupyterHub link.\n",
    "* If prompted, log in to the Jupyter Hub with your NYU account.\n",
    "* If prompted to select a kernel, choose *R [conda env:FDTD]*."
   ]
  },
  {
   "cell_type": "markdown",
   "metadata": {
    "deletable": false
   },
   "source": [
    "### Exercises 1: More ice cream \n",
    "An ice cream truck sells many different types of ice cream. The prices of each type of ice cream are stored in a list called `ice_cream_prices`in the code cell below. Today the ice cream is on sale! The amount that each item is discounted is stored in the list called `discounts`. The order of the discounts corresponds to the order of the prices. \n",
    "\n",
    "- Run the code cell below to store the values of the ice cream prices and discounts in vectors.\n",
    "- Use the vectors and R functions to determine the answers to the following questions:\n",
    "1. How many types of ice cream does the truck sell?\n",
    "2. What is the largest discount available?\n",
    "3. What is the cost of the cheapest ice cream option before applying the discounts?\n",
    "- Summarize your findings in the markdown cell below. \n",
    "\n",
    "Tip: To typeset money values in a markdown cell follow this pattern: ```$\\$5.43$``` will produce $\\$5.43$."
   ]
  },
  {
   "cell_type": "code",
   "execution_count": 2,
   "metadata": {
    "deletable": false,
    "editable": false
   },
   "outputs": [],
   "source": [
    "# You cannot edit this cell. \n",
    "# Notice that R gives no output when you assign values to variables.\n",
    "# You can see that the cell has been exicuted if there is a number in the brackets: In [].\n",
    "\n",
    "ice_cream_prices <- c(1.25, 3, 5.99, 1.75, 6.75, 4.99, 7.09, 3.55, 2)\n",
    "discounts <- c(0.25, 1, 0.50, 0.5, 1, 0, 1, 0.25, 0)"
   ]
  },
  {
   "cell_type": "code",
   "execution_count": 1,
   "metadata": {},
   "outputs": [],
   "source": []
  },
  {
   "cell_type": "markdown",
   "metadata": {},
   "source": []
  },
  {
   "cell_type": "markdown",
   "metadata": {},
   "source": [
    "### Exercise 2: Average sale price\n",
    "- Use the code cell below to compute the average sale price of an item from the ice cream truck described in exercise 1.\n",
    "- Summarize your findings in the mark down cell below. "
   ]
  },
  {
   "cell_type": "code",
   "execution_count": null,
   "metadata": {},
   "outputs": [],
   "source": []
  },
  {
   "cell_type": "markdown",
   "metadata": {},
   "source": []
  },
  {
   "cell_type": "markdown",
   "metadata": {},
   "source": [
    "### Exercise 3: Add tax\n",
    "- Create a vector call `total_cost` which contains the cost of each type of ice cream after a 8.875% tax has been applied to the sale prices. \n",
    "- Round the values in `total_cost` to two decimal places.\n",
    "- Store the rounded values in the variable `total_cost`.\n",
    "- Verify that your code performed as expected by outputting the values in `total_cost`."
   ]
  },
  {
   "cell_type": "code",
   "execution_count": null,
   "metadata": {},
   "outputs": [],
   "source": []
  },
  {
   "cell_type": "markdown",
   "metadata": {},
   "source": [
    "## Part 2: Old faithful"
   ]
  },
  {
   "cell_type": "markdown",
   "metadata": {},
   "source": [
    "### Exercise 4: Old Failthful\n",
    "You can view the documentation of any built in object in R by running the name of the object proceeded by a question mark.\n",
    "\n",
    "```?OBJECT_NAME```\n",
    "\n",
    "- One of the data sets in the datasets package is called `faithful`. Use the documentation on this dataset to determine why  there reason to believe that this data includes errors introduced by humans.\n",
    "- Write your answer in the markdown cell below. \n",
    "- Use `head()` to view the first three rows of `faithful`.\n",
    "\n"
   ]
  },
  {
   "cell_type": "code",
   "execution_count": null,
   "metadata": {},
   "outputs": [],
   "source": []
  },
  {
   "cell_type": "code",
   "execution_count": null,
   "metadata": {},
   "outputs": [],
   "source": []
  },
  {
   "cell_type": "markdown",
   "metadata": {},
   "source": [
    "### Exercise 5: The last observation\n",
    "- Use the documentation, `str()` or `nrow()` to determine the number of observations in `faithful`. \n",
    "- Determine the duration of the last eruption in the `faithful` data set.\n",
    "- Write you answer in the markdown cell below. Don't forget units!"
   ]
  },
  {
   "cell_type": "code",
   "execution_count": null,
   "metadata": {},
   "outputs": [],
   "source": []
  },
  {
   "cell_type": "markdown",
   "metadata": {},
   "source": []
  },
  {
   "cell_type": "markdown",
   "metadata": {},
   "source": [
    "### Exercise 6: Longest, shortest and average\n",
    "- Use `names()` to remind yourself of the names of the variables in `faithful`.\n",
    "- Use a code cell to answer each of the following questions.\n",
    " 1. What was the duration of the longest eruption that was measured?\n",
    " 2. What was the shortest wait time that was measured?\n",
    " 3. What was the average wait time between eruptions?\n",
    "- Summarize your findings in the markdown cell below. Don't forget units!"
   ]
  },
  {
   "cell_type": "code",
   "execution_count": null,
   "metadata": {},
   "outputs": [],
   "source": []
  },
  {
   "cell_type": "code",
   "execution_count": null,
   "metadata": {},
   "outputs": [],
   "source": []
  },
  {
   "cell_type": "markdown",
   "metadata": {},
   "source": []
  },
  {
   "cell_type": "markdown",
   "metadata": {},
   "source": [
    "### Exercise 7: Total amount of time\n",
    "- Determine the total number of hours that were spent watching the Old Faithful geyser to gather the data in `faithful`.\n",
    "- Summarize your findings in a markdown cell. "
   ]
  }
 ],
 "metadata": {
  "celltoolbar": "Edit Metadata",
  "kernelspec": {
   "display_name": "R",
   "language": "R",
   "name": "ir"
  },
  "language_info": {
   "codemirror_mode": "r",
   "file_extension": ".r",
   "mimetype": "text/x-r-source",
   "name": "R",
   "pygments_lexer": "r",
   "version": "4.0.5"
  }
 },
 "nbformat": 4,
 "nbformat_minor": 4
}
