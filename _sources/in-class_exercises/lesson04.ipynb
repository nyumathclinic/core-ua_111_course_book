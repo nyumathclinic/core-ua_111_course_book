{
 "cells": [
  {
   "cell_type": "markdown",
   "metadata": {},
   "source": [
    "(in-class_exercises:lesson04)=\n",
    "# Lesson 4: Mutate, arrange, piping\n",
    "\n",
    "These exercises are to help you check your understanding during class. They will not be collected.\n",
    "\n",
    "The content for this lesson is in the following subsections of the course book:\n",
    "* Exploring Data\n",
    "    - [dplyr library mutate](mutate)\n",
    "    - [dplyr library arrange](arrange)\n",
    "    - [dplyr library piping](piping)"
   ]
  },
  {
   "cell_type": "markdown",
   "metadata": {},
   "source": [
    "## Useful links\n",
    "The following links are also in the Content tool on Brightspace.\n",
    "- [Course Book](https://nyumathclinic.github.io/core-ua_111_course_book/)\n",
    "- [Class notes](https://nyu0-my.sharepoint.com/:o:/g/personal/cc5948_nyu_edu/EthbeMeNnc5Cgs34RxBsLPMBHkNqPkzLwJCN7OM63sW1mg?e=cAb9oe)\n",
    "- [Poll Everywhere login](https://www.polleverywhere.com/auth/saml/nyu_main)\n",
    "- [Poll Everywhere respond](https://pollev.com/clarkson)"
   ]
  },
  {
   "cell_type": "markdown",
   "metadata": {},
   "source": [
    "## Part 1: Mutate"
   ]
  },
  {
   "cell_type": "markdown",
   "metadata": {},
   "source": [
    "### Exercise 0: Open this notebook on the Jupyter Hub\n",
    "* Click on the rocket icon in the upper right of this page of the course book. \n",
    "* Click the JupyterHub link.\n",
    "* If prompted, log in to the Jupyter Hub with your NYU account.\n",
    "* If prompted to select a kernel, choose *R [conda env:FDTD]*."
   ]
  },
  {
   "cell_type": "markdown",
   "metadata": {},
   "source": [
    "### Exercise 1: `floor()` function\n",
    "The `floor()` function takes a decimal and returns the whole number to the left of the decimal place **without** rounding.\n",
    "\n",
    "$$\\texttt{floor}(2.98) = 2 $$\n",
    "\n",
    "- Use the floor function to create an expression that will output the number of whole minutes the 17th eruption lasted."
   ]
  },
  {
   "cell_type": "code",
   "execution_count": null,
   "metadata": {},
   "outputs": [],
   "source": []
  },
  {
   "cell_type": "markdown",
   "metadata": {},
   "source": []
  },
  {
   "cell_type": "markdown",
   "metadata": {},
   "source": [
    "### Exercise 2: Load dplyr\n",
    "\n",
    "- Use the `library()` function to load the `dplyr` package. Don't worry about the warning message. If you run the command a second time, the warning messages will go away. \n",
    "- Verify that this was successful by using `?mutate` to open the documentation for the `mutate()` function.\n",
    "\n",
    "```library(PACKAGE_NAME)```"
   ]
  },
  {
   "cell_type": "code",
   "execution_count": null,
   "metadata": {},
   "outputs": [],
   "source": []
  },
  {
   "cell_type": "code",
   "execution_count": null,
   "metadata": {},
   "outputs": [],
   "source": []
  },
  {
   "cell_type": "markdown",
   "metadata": {
    "slideshow": {
     "slide_type": "slide"
    }
   },
   "source": [
    "### Exercise 3: Whole minutes\n",
    "The faithful data set gives the duration of the erruptions in minutes and fractions of a minute. It would be easer to understad the data if we converted the decimals to seconds. \n",
    "\n",
    "The `floor()` function is vectorized. This means that if you input a vector of decimal numbers, it will return a vector of floor of each entry. \n",
    "\n",
    "$$\\texttt{floor}(\\texttt{c}(1.2, 3.6, 4.01) ) = \\texttt{c}(1, 3, 4)$$\n",
    "\n",
    "- Use `mutate()` to add a column called `minutes` to the `faithful` data set that contains the number of whole minutes (ignoring the decimal) that the eruption lasted. \n",
    "- Verify that you were successful by using `head()` to display the first three rows of `faithful`.\n",
    "\n",
    "```mutate(DATA_FRAME, UPDATED_COLUMN = FORMULA)```"
   ]
  },
  {
   "cell_type": "code",
   "execution_count": null,
   "metadata": {},
   "outputs": [],
   "source": []
  },
  {
   "cell_type": "markdown",
   "metadata": {},
   "source": [
    "### Exercises 4: Seconds\n",
    "- Use `mutate()` to add a column called `seconds` to the `faithful` data set that contains the number of seconds that correspond to the decimal portion of the eruption duration. \n",
    "- In terms of minutes and seconds, how long was the 19th eruption? Summarize your answer in a markdown cell."
   ]
  },
  {
   "cell_type": "code",
   "execution_count": null,
   "metadata": {},
   "outputs": [],
   "source": []
  },
  {
   "cell_type": "code",
   "execution_count": null,
   "metadata": {},
   "outputs": [],
   "source": []
  },
  {
   "cell_type": "markdown",
   "metadata": {},
   "source": []
  },
  {
   "cell_type": "markdown",
   "metadata": {},
   "source": [
    "## Part 2: Sorting and piping"
   ]
  },
  {
   "cell_type": "markdown",
   "metadata": {},
   "source": [
    "### Exercise 5: Longest eruption\n",
    "- Use the `arrange()` function to find the duration of the longest eruption in the faithful dataset. "
   ]
  },
  {
   "cell_type": "code",
   "execution_count": null,
   "metadata": {},
   "outputs": [],
   "source": []
  },
  {
   "cell_type": "markdown",
   "metadata": {},
   "source": [
    "### Exercise 6: Shortest eruption\n",
    "- Use the minutes and seconds columns that you added to the faithful dataset to find the duration of the shortest eruption."
   ]
  },
  {
   "cell_type": "code",
   "execution_count": null,
   "metadata": {},
   "outputs": [],
   "source": []
  },
  {
   "cell_type": "markdown",
   "metadata": {},
   "source": [
    "### Exercise 7: Pipe\n",
    "In exercises 3 - 5, you wrote code that accomplished the following tasks:\n",
    "\n",
    "1. Add a column called minutes to the faithful data set that contains the number of whole minutes (ignoring the decimal) that the eruption lasted.\n",
    "2. Add a column called seconds to the faithful data set that contains the number of seconds that correspond to the decimal portion of the eruption duration.\n",
    "3. Find the duration of the longest eruption in the faithful dataset in minutes and seconds.\n",
    "\n",
    "- Run the code in the cell below to remove your previous edits from `faithful`.\n",
    "- Write new code that uses piping to accomplish these same four tasks. \n",
    "\n",
    "```INPUT_1 %>% FUNCTION(INPUT_2)```"
   ]
  },
  {
   "cell_type": "code",
   "execution_count": null,
   "metadata": {
    "deletable": false,
    "editable": false
   },
   "outputs": [],
   "source": [
    "# You can not edit this cell.\n",
    "# Run this code to remove all of your changes from the faithful dataset.\n",
    "\n",
    "rm(faithful)"
   ]
  },
  {
   "cell_type": "code",
   "execution_count": null,
   "metadata": {},
   "outputs": [],
   "source": []
  },
  {
   "cell_type": "code",
   "execution_count": null,
   "metadata": {},
   "outputs": [],
   "source": []
  }
 ],
 "metadata": {
  "celltoolbar": "Edit Metadata",
  "kernelspec": {
   "display_name": "R",
   "language": "R",
   "name": "ir"
  },
  "language_info": {
   "codemirror_mode": "r",
   "file_extension": ".r",
   "mimetype": "text/x-r-source",
   "name": "R",
   "pygments_lexer": "r",
   "version": "4.0.5"
  }
 },
 "nbformat": 4,
 "nbformat_minor": 4
}
