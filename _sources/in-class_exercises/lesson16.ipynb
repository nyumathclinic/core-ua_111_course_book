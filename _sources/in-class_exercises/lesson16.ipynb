{
 "cells": [
  {
   "cell_type": "markdown",
   "metadata": {},
   "source": [
    "(lesson16)=\n",
    "# Lesson 16: Linear Models\n",
    "These exercises are to help you check your understanding during class. They will not be collected."
   ]
  },
  {
   "cell_type": "markdown",
   "metadata": {},
   "source": [
    "## Useful links\n",
    "The following links are also in the Content tool on Brightspace.\n",
    "- [Course Book](https://nyumathclinic.github.io/core-ua_111_course_book/)\n",
    "- [Class notes](https://nyu0-my.sharepoint.com/:o:/g/personal/cc5948_nyu_edu/EthbeMeNnc5Cgs34RxBsLPMBHkNqPkzLwJCN7OM63sW1mg?e=cAb9oe)\n",
    "- [Poll Everywhere login](https://www.polleverywhere.com/auth/saml/nyu_main)\n",
    "- [Poll Everywhere respond](https://pollev.com/clarkson)"
   ]
  },
  {
   "cell_type": "markdown",
   "metadata": {},
   "source": [
    "## Part 1: Linear Function"
   ]
  },
  {
   "cell_type": "markdown",
   "metadata": {},
   "source": [
    "### Exercise 1: First line\n",
    "- Run the code in the cell below to create the `points` data frame. \n",
    "- Create a function called `my_line()` that corresponds to the line with slope 1/2 through the point (4,3).\n",
    "- Test the function `my_line()` by plugging in 4 and verifying that 3 is the output.\n",
    "- Test the function for the input values 5 and 6. Is the output what you expected?"
   ]
  },
  {
   "cell_type": "code",
   "execution_count": null,
   "metadata": {
    "deletable": false,
    "editable": false
   },
   "outputs": [],
   "source": [
    "# You can not edit this cell. \n",
    "# Create and store a data frame with one column containing the numbers 1 - 10\n",
    "points <- data.frame('x_values' = 1:10)"
   ]
  },
  {
   "cell_type": "code",
   "execution_count": null,
   "metadata": {},
   "outputs": [],
   "source": []
  },
  {
   "cell_type": "markdown",
   "metadata": {},
   "source": [
    "### Exercise 2: Make a table and plot\n",
    "- Use the `my_line()` function to add a column called `y_values` to the `points` data frame. \n",
    "- Plot the ten points that you just created."
   ]
  },
  {
   "cell_type": "code",
   "execution_count": null,
   "metadata": {},
   "outputs": [],
   "source": []
  },
  {
   "cell_type": "markdown",
   "metadata": {},
   "source": [
    "## Part 2: Manual Linear Model"
   ]
  },
  {
   "cell_type": "markdown",
   "metadata": {},
   "source": [
    "### Exercise 3: Birth weight manual linear model\n",
    "- Copy the code below into a code cell and run it to \n",
    "    + load the baby weight data\n",
    "    + extract the data for babies whose mothers smoked\n",
    "    + create a scatter plot of gestational time and birth weight\n",
    "- Create a function called `birth_weight()` that uses a linear model to predict the birth weight of a baby born to a mother who smokes based on the length of the gestation. \n",
    "\n",
    "<pre><code>\n",
    "library(dplyr)\n",
    "library(ggplot2)\n",
    "\n",
    "# load and filter the baby weight data\n",
    "babyweight_smoking &lt;- read.csv('~/shared/data/babyweight.csv') %&gt;%\n",
    "                        filter(Smoke =='yes')\n",
    "\n",
    "# create a scatter plot of getational time and birth weight\n",
    "ggplot(babyweight_smoking, aes(x=Gest, y=Wgt)) + \n",
    "    geom_point() + \n",
    "    scale_x_continuous(breaks = 32:42) +\n",
    "    scale_y_continuous(breaks = seq(2400, 3600, 100)) +\n",
    "    labs(\n",
    "        title = 'Babies born to mothers who smoked',\n",
    "        x = 'Length of Gestation (weeks)',\n",
    "        y = 'Birth Weight (g)'\n",
    "    ) +\n",
    "    theme_classic() +\n",
    "    theme(panel.grid.major = element_line(color = \"grey50\"))\n",
    "</code></pre>"
   ]
  },
  {
   "cell_type": "code",
   "execution_count": null,
   "metadata": {},
   "outputs": [],
   "source": []
  },
  {
   "cell_type": "code",
   "execution_count": null,
   "metadata": {},
   "outputs": [],
   "source": []
  },
  {
   "cell_type": "markdown",
   "metadata": {},
   "source": [
    "### Exercise 4: Birth weight Mean Squared Error\n",
    "- Use your `birth_wight()` function to add a column called `Pred` to the `babyweight_smoking` data frame. The column should contain your prediction of the birth weight based on the gestational period. \n",
    "\n",
    "- Add a column called `Residual` to the `babyweight_smoking` data frame. Using the definition of residual given below. \n",
    "\n",
    "$$\\text{Residual} = \\text{Observed value} – \\text{Predicted value} $$\n",
    "\n",
    "- Compute the mean squared error (mse) for your predictions using the definition given below.\n",
    "\n",
    "$$ \\text{mean squared error} = \\frac{\\text{ sum of the squares of the residuals}}{\\text{number of observations}}$$"
   ]
  },
  {
   "cell_type": "code",
   "execution_count": null,
   "metadata": {},
   "outputs": [],
   "source": []
  },
  {
   "cell_type": "markdown",
   "metadata": {},
   "source": [
    "## Part 3: Birth weight automatic linear model"
   ]
  },
  {
   "cell_type": "markdown",
   "metadata": {},
   "source": [
    "### Exercise 5: Plot the automatic model\n",
    "- Use `geom_smooth()` to plot the linear model generated by the `lm` method for the `babyweight_smoking` data set. \n",
    "\n",
    "```geom_smooth(method = lm, formula = 'y~x', se = FALSE)```"
   ]
  },
  {
   "cell_type": "code",
   "execution_count": null,
   "metadata": {},
   "outputs": [],
   "source": []
  },
  {
   "cell_type": "markdown",
   "metadata": {},
   "source": [
    "### Exercise 6: Prediction and MSE for automatic linear model\n",
    "- Use the `lm` function to automatically generate a linear model and store the result in a variable called `model`. \n",
    "- Extract the slope and y-intercept from the model.\n",
    "- Use the model to predict the birth weight of a baby with a mother that smoked and a gestation time of 40 weeks. Does the value agree with the value in the plot in Exercise 8?\n",
    "- Compute the mean squared error of the automatic model. How does it compare to that of your manual model?\n",
    "\n",
    "```lm(formula = YVARIABLE ~ XVARIABLE, data = DATAFRAME)```"
   ]
  },
  {
   "cell_type": "code",
   "execution_count": null,
   "metadata": {},
   "outputs": [],
   "source": []
  },
  {
   "cell_type": "markdown",
   "metadata": {},
   "source": [
    "### Exercise 7: Avoiding Over Fit\n",
    "- What is wrong with the approach we used in this notebook?"
   ]
  },
  {
   "cell_type": "markdown",
   "metadata": {},
   "source": []
  }
 ],
 "metadata": {
  "celltoolbar": "Edit Metadata",
  "kernelspec": {
   "display_name": "R",
   "language": "R",
   "name": "ir"
  },
  "language_info": {
   "codemirror_mode": "r",
   "file_extension": ".r",
   "mimetype": "text/x-r-source",
   "name": "R",
   "pygments_lexer": "r",
   "version": "4.0.5"
  }
 },
 "nbformat": 4,
 "nbformat_minor": 4
}
