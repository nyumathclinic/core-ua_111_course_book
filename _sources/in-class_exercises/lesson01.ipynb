{
 "cells": [
  {
   "cell_type": "markdown",
   "metadata": {},
   "source": [
    "(in-class_exercises:lesson01)=\n",
    "# Lesson 1: Introduction to R and JupyterHub\n",
    "These exercises are to help you check your understanding during class. They will not be collected.\n",
    "\n",
    "The content in for this lesson is in the [Arithmetic](r_basics:arithmetic) subsection of the Base R section of the Course Book. "
   ]
  },
  {
   "cell_type": "markdown",
   "metadata": {},
   "source": [
    "## Useful links\n",
    "The following links are also in the Content tool on Brightspace.\n",
    "- [Course Book](https://nyumathclinic.github.io/core-ua_111_course_book/)\n",
    "- [Class notes](https://nyu0-my.sharepoint.com/:o:/g/personal/cc5948_nyu_edu/EthbeMeNnc5Cgs34RxBsLPMBHkNqPkzLwJCN7OM63sW1mg?e=cAb9oe)\n",
    "- [Poll Everywhere login](https://www.polleverywhere.com/auth/saml/nyu_main)\n",
    "- [Poll Everywhere respond](https://pollev.com/clarkson)"
   ]
  },
  {
   "cell_type": "markdown",
   "metadata": {},
   "source": [
    "## Part 1: JupyterHub"
   ]
  },
  {
   "cell_type": "markdown",
   "metadata": {},
   "source": [
    "### Exercise 0: Open this notebook on the Jupyter Hub\n",
    "* Click on the rocket icon in the upper right of this page of the course book. \n",
    "* Click the JupyterHub link.\n",
    "* If prompted, log in to the Jupyter Hub with your NYU account.\n",
    "* If prompted to select a kernel, choose *R [conda env:FDTD]*."
   ]
  },
  {
   "cell_type": "markdown",
   "metadata": {},
   "source": [
    "### Exercise 1: Edit and save\n",
    "\n",
    "* Edit a markdown cell\n",
    "    + Double click on the cell below to start edititing. \n",
    "    + Replace the text with your name and then press SHIFT + ENTER to format the cell.\n",
    "* Save the notebook\n",
    "    + Use the menu option File > Save and Checkpoint to save the file."
   ]
  },
  {
   "cell_type": "markdown",
   "metadata": {},
   "source": [
    "YOUR_NAME"
   ]
  },
  {
   "cell_type": "markdown",
   "metadata": {},
   "source": [
    "### Exercise 2: Create a cell and compute a sum\n",
    "\n",
    "* Insert a cell\n",
    "    + Select this cell by clicking it once.\n",
    "    + Use the menu option Insert > Insert Cell Below to insert a cell below this one.\n",
    "* Compute a sum\n",
    "    + Double click on the new cell to edit it\n",
    "    + Type 12 + 7 in the new cell\n",
    "    + Press SHIFT + Enter to run the code or select the cell and click the Run button.\n"
   ]
  },
  {
   "cell_type": "markdown",
   "metadata": {},
   "source": [
    "### Exercise 3: Change cell type\n",
    "Empty markdown cells display the following text: Type *Markdown* and LaTeX: $\\alpha^2$\n",
    "\n",
    "* Change the markdown cell below to a code cell\n",
    "    + Select the cell below by clicking on it once.\n",
    "    + Use the menu option Cell > Cell Type > Code to make the cell a code cell. \n",
    "* Use the cell to compute the value of $5^7$.\n"
   ]
  },
  {
   "cell_type": "markdown",
   "metadata": {},
   "source": []
  },
  {
   "cell_type": "markdown",
   "metadata": {},
   "source": [
    "## Part 2: Compute"
   ]
  },
  {
   "cell_type": "markdown",
   "metadata": {},
   "source": [
    "### Exercise 4: Arithmetic\n",
    "* Verify the following equation by using the code cell below to compute the value of the left hand side.\n",
    "\n",
    "$$\\frac{3^2 - 4^2}{5} = -1.4$$"
   ]
  },
  {
   "cell_type": "code",
   "execution_count": null,
   "metadata": {},
   "outputs": [],
   "source": []
  },
  {
   "cell_type": "markdown",
   "metadata": {},
   "source": [
    "### Exercise 5: Debug\n",
    "There are 14 weeks of classes in the semester. This is a 4 credit hour course. This means that each week you are expected to spend 4 hours in class and 8 hours out of class on this course. \n",
    "\n",
    "The code in the cell below is supposed to compute the total number of hours this course will require this semester, but something is wrong with the code. \n",
    "\n",
    "* Fix the code so that the computation runs correctly.\n",
    "* Summarize the result in a sentence in the markdown cell below the code cell. "
   ]
  },
  {
   "cell_type": "code",
   "execution_count": 1,
   "metadata": {},
   "outputs": [
    {
     "ename": "ERROR",
     "evalue": "Error in eval(expr, envir, enclos): attempt to apply non-function\n",
     "output_type": "error",
     "traceback": [
      "Error in eval(expr, envir, enclos): attempt to apply non-function\nTraceback:\n"
     ]
    }
   ],
   "source": [
    "14(8 + 4)"
   ]
  },
  {
   "cell_type": "markdown",
   "metadata": {},
   "source": []
  },
  {
   "cell_type": "markdown",
   "metadata": {},
   "source": [
    "### Exercise 6: Percentage\n",
    "* Compute a percentage.\n",
    "    + Suppose that out of 60 students, 25 are living in Manhattan, 11 in Brooklyn, 9 in Queens, 9 in the Bronx, 3 in Staten Island, 2 in New Jersey, and 1 in Westchester. \n",
    "    + Insert a cell below and use it to compute the percent of of students who live in Brooklyn.\n",
    "* Summarize your findings.\n",
    "    + Insert a new cell below your code cell.\n",
    "    + Convert that cell to a markdown cell.\n",
    "    + Write a sentence summarizing the conclusion of your computation."
   ]
  }
 ],
 "metadata": {
  "kernelspec": {
   "display_name": "R",
   "language": "R",
   "name": "ir"
  },
  "language_info": {
   "codemirror_mode": "r",
   "file_extension": ".r",
   "mimetype": "text/x-r-source",
   "name": "R",
   "pygments_lexer": "r",
   "version": "4.0.5"
  }
 },
 "nbformat": 4,
 "nbformat_minor": 4
}
