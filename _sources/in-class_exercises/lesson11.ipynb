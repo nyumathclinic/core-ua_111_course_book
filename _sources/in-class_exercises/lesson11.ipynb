{
 "cells": [
  {
   "cell_type": "markdown",
   "metadata": {},
   "source": [
    "(lesson11)=\n",
    "# Lesson 11 - Functions\n",
    "These exercises are to help you check your understanding during class. They will not be collected."
   ]
  },
  {
   "cell_type": "markdown",
   "metadata": {},
   "source": [
    "## Useful links\n",
    "The following links are also in the Content tool on Brightspace.\n",
    "- [Course Book](https://nyumathclinic.github.io/core-ua_111_course_book/)\n",
    "- [Class notes](https://nyu0-my.sharepoint.com/:o:/g/personal/cc5948_nyu_edu/EthbeMeNnc5Cgs34RxBsLPMBHkNqPkzLwJCN7OM63sW1mg?e=cAb9oe)\n",
    "- [Poll Everywhere login](https://www.polleverywhere.com/auth/saml/nyu_main)\n",
    "- [Poll Everywhere respond](https://pollev.com/clarkson)"
   ]
  },
  {
   "cell_type": "markdown",
   "metadata": {},
   "source": [
    "## Part 0: Example"
   ]
  },
  {
   "cell_type": "markdown",
   "metadata": {},
   "source": [
    "### Example 1: Model 1\n",
    "\n",
    "The following plot uses shading to indicate which points are special. The grid lines where the dark and light regions meet, are included in the light region. \n",
    "\n",
    "<img src='../img/L10_model_1_plot.png' alt='plot with two shaded regions' width=400>\n",
    "\n",
    "In Lesson 10, you created an if-else statement that answered the question \"Is the point special?\" and tested your statement against 6 points. The code below does that more efficiently by storing the if statement in a function called `model_1`and applying the function to each of the points."
   ]
  },
  {
   "cell_type": "code",
   "execution_count": 1,
   "metadata": {},
   "outputs": [
    {
     "data": {
      "text/html": [
       "'Yes'"
      ],
      "text/latex": [
       "'Yes'"
      ],
      "text/markdown": [
       "'Yes'"
      ],
      "text/plain": [
       "[1] \"Yes\""
      ]
     },
     "metadata": {},
     "output_type": "display_data"
    },
    {
     "data": {
      "text/html": [
       "'Yes'"
      ],
      "text/latex": [
       "'Yes'"
      ],
      "text/markdown": [
       "'Yes'"
      ],
      "text/plain": [
       "[1] \"Yes\""
      ]
     },
     "metadata": {},
     "output_type": "display_data"
    },
    {
     "data": {
      "text/html": [
       "'Yes'"
      ],
      "text/latex": [
       "'Yes'"
      ],
      "text/markdown": [
       "'Yes'"
      ],
      "text/plain": [
       "[1] \"Yes\""
      ]
     },
     "metadata": {},
     "output_type": "display_data"
    },
    {
     "data": {
      "text/html": [
       "'No'"
      ],
      "text/latex": [
       "'No'"
      ],
      "text/markdown": [
       "'No'"
      ],
      "text/plain": [
       "[1] \"No\""
      ]
     },
     "metadata": {},
     "output_type": "display_data"
    },
    {
     "data": {
      "text/html": [
       "'No'"
      ],
      "text/latex": [
       "'No'"
      ],
      "text/markdown": [
       "'No'"
      ],
      "text/plain": [
       "[1] \"No\""
      ]
     },
     "metadata": {},
     "output_type": "display_data"
    },
    {
     "data": {
      "text/html": [
       "'No'"
      ],
      "text/latex": [
       "'No'"
      ],
      "text/markdown": [
       "'No'"
      ],
      "text/plain": [
       "[1] \"No\""
      ]
     },
     "metadata": {},
     "output_type": "display_data"
    }
   ],
   "source": [
    "model_1 <- function(x,y){ # model_1 takes two inputs x and y\n",
    "    if ( x > 6 ) { \n",
    "    answer <- 'Yes' \n",
    "    } else {\n",
    "    answer <- 'No' \n",
    "    }\n",
    "    answer # value that is returned.\n",
    "} # end of function\n",
    "\n",
    "# Yes Points\n",
    "model_1(8,1)\n",
    "model_1(6.5, 0)\n",
    "model_1(10,2)\n",
    "\n",
    "# No Points\n",
    "model_1(0,0)\n",
    "model_1(6,1.5)\n",
    "model_1(5,2)\n",
    "\n",
    "# Expected output is three Yes's followe by three No's."
   ]
  },
  {
   "cell_type": "markdown",
   "metadata": {},
   "source": [
    "## Part 1: Practice with functions"
   ]
  },
  {
   "attachments": {},
   "cell_type": "markdown",
   "metadata": {},
   "source": [
    "### Exercise 1- Model 2\n",
    "\n",
    "The following plot uses shading to indicate which points are special. The grid lines where the dark and light regions meet, are included in the light region. \n",
    "\n",
    "<img src='../img/L10_model_2_plot.png' alt='plot with two shaded regions' width=400>\n",
    "\n",
    "In Lesson 10, you created an if statement that answered the question \"Is the point special?\" and tested your statement against 6 points. Your goal is to do the same thing more efficiently by storing the if statement in a function called `model_2` and applying the function to each of your points."
   ]
  },
  {
   "cell_type": "code",
   "execution_count": null,
   "metadata": {},
   "outputs": [],
   "source": []
  },
  {
   "attachments": {},
   "cell_type": "markdown",
   "metadata": {},
   "source": [
    "### Exercise 2: Model 3\n",
    "\n",
    "The following plot uses shading to indicate which points are special. The grid lines where the dark and light regions meet, are included in the light region. \n",
    "\n",
    "<img src='../img/L10_model_3_plot.png' alt='plot with four shaded regions' width=400>\n",
    "\n",
    "In Lesson 10, you created an if statement that answered the question \"Is the point special?\" and tested your statement against 6 points. Your goal is to do the same thing more efficiently by storing the if statement in a function called `model_3` and applying the function to each of your points. "
   ]
  },
  {
   "cell_type": "code",
   "execution_count": null,
   "metadata": {},
   "outputs": [],
   "source": []
  }
 ],
 "metadata": {
  "celltoolbar": "Attachments",
  "kernelspec": {
   "display_name": "R",
   "language": "R",
   "name": "ir"
  },
  "language_info": {
   "codemirror_mode": "r",
   "file_extension": ".r",
   "mimetype": "text/x-r-source",
   "name": "R",
   "pygments_lexer": "r",
   "version": "4.0.5"
  }
 },
 "nbformat": 4,
 "nbformat_minor": 4
}
