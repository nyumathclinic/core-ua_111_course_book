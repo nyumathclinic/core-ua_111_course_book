{
 "cells": [
  {
   "cell_type": "markdown",
   "metadata": {},
   "source": [
    "(in-class_exercises:lesson05)=\n",
    "# Lesson 5: Select columns and filter rows\n",
    "These exercises are to help you check your understanding during class. They will not be collected."
   ]
  },
  {
   "cell_type": "markdown",
   "metadata": {},
   "source": [
    "## Part 1: Set up and sort"
   ]
  },
  {
   "cell_type": "markdown",
   "metadata": {},
   "source": [
    "### Exercise 1: Set up\n",
    "\n",
    "There is a CSV file called `NYC_Dog_Licensing.csv` in the `~/shared/data` folder. As the name indicates, this file contains information about New York City dog licenses. This data comes from the [NYC OpenData project](https://opendata.cityofnewyork.us/).\n",
    "\n",
    "- Import the NYC Dog Licenses data **from the shared folder** using the `read.csv()` function and store it in an R data frame called `nyc_dogs`.\n",
    "- In a separate code cell, load the dplyr package by running the ```library(dplyr)```command. You can ignore the warnings about masked objects.\n",
    "- In a separate code cell, use ```mutate()``` to add a new column called `Age` to the data frame. This column should contain an approximation of each dog's age. "
   ]
  },
  {
   "cell_type": "code",
   "execution_count": null,
   "metadata": {},
   "outputs": [],
   "source": []
  },
  {
   "cell_type": "code",
   "execution_count": null,
   "metadata": {},
   "outputs": [],
   "source": []
  },
  {
   "cell_type": "code",
   "execution_count": null,
   "metadata": {},
   "outputs": [],
   "source": []
  },
  {
   "cell_type": "markdown",
   "metadata": {},
   "source": [
    "### Exercise 2: Select Columns\n",
    "\n",
    "The `nyc_dogs` data frame has a lot of columns that we wont use today. Use `select()` to prune the columns in `nyc_dogs` as described below.\n",
    "\n",
    "Keep:\n",
    "- AnimalName\n",
    "- AnimalGender\n",
    "- BreedName\n",
    "- ZipCode\n",
    "- Age\n",
    "\n",
    "Remove:\n",
    "- X\n",
    "- RowNumber\n",
    "- AnimalBirthYear\n",
    "- Borough\n",
    "- LicenseIssuedDate\n",
    "- LicenseExpiredDate\n",
    "- Extract.Year\n",
    "\n",
    "Then, use the `names()` function to check that your code had the desired affect."
   ]
  },
  {
   "cell_type": "code",
   "execution_count": null,
   "metadata": {},
   "outputs": [],
   "source": []
  },
  {
   "cell_type": "markdown",
   "metadata": {},
   "source": [
    "### Exercise 3: Piping\n",
    "\n",
    "In Exercise 1 and 2, you completed the following tasks:\n",
    "1. Added a column called Age to `nyc_dogs`.\n",
    "2. Selected the columns `AnimalName`, `AnimalGender`, `BreedName`, `ZipCode` and `Age`.\n",
    "3. Stored the result in `my_dogs`. \n",
    "\n",
    "In this exercise, you will do this again using piping.\n",
    "\n",
    "- Rerun the code cell where you loaded the dog license data. This will undo the edits that you made. \n",
    "- Verify that this worked using `names()`.\n",
    "- Write code that uses piping to accomplish the task listed above in a single chain of commands. \n",
    "- Verify that your code worked, by using `head()` to view the first 3 rows of `nyc_dogs`."
   ]
  },
  {
   "cell_type": "code",
   "execution_count": null,
   "metadata": {},
   "outputs": [],
   "source": []
  },
  {
   "cell_type": "markdown",
   "metadata": {},
   "source": [
    "## Part 2: Filter"
   ]
  },
  {
   "cell_type": "markdown",
   "metadata": {},
   "source": [
    "### Exercise 4: Find the old Chihuahuas\n",
    "\n",
    "- Filter the nyc_dogs data frame to consist only of dogs are at least 10 years old and whose breed is 'Chihuahua'. \n",
    "- Store the filtered data in a new data frame called `old_chihuahuas`. \n",
    "- Use `head()` to check that your code had the desired affect. "
   ]
  },
  {
   "cell_type": "code",
   "execution_count": null,
   "metadata": {},
   "outputs": [],
   "source": []
  },
  {
   "cell_type": "markdown",
   "metadata": {},
   "source": [
    "### Exercise 5: How many old Chihuahuas are there?\n",
    "How many chihuahuas are there in the data set that are at least 10 years old? "
   ]
  },
  {
   "cell_type": "code",
   "execution_count": null,
   "metadata": {},
   "outputs": [],
   "source": []
  },
  {
   "cell_type": "markdown",
   "metadata": {},
   "source": [
    "### Exercise 6: Check your assumptions\n",
    "What assumptions are underlying your answer? Is your number likely larger than, equal to, or smaller than the actual number."
   ]
  },
  {
   "cell_type": "markdown",
   "metadata": {},
   "source": []
  }
 ],
 "metadata": {
  "kernelspec": {
   "display_name": "R",
   "language": "R",
   "name": "ir"
  },
  "language_info": {
   "codemirror_mode": "r",
   "file_extension": ".r",
   "mimetype": "text/x-r-source",
   "name": "R",
   "pygments_lexer": "r",
   "version": "4.0.5"
  }
 },
 "nbformat": 4,
 "nbformat_minor": 4
}
