{
 "cells": [
  {
   "cell_type": "markdown",
   "metadata": {},
   "source": [
    "# Lesson 5 -  Solutions\n",
    "These exercises are to help you check your understanding during class. They will not be collected."
   ]
  },
  {
   "cell_type": "markdown",
   "metadata": {},
   "source": [
    "## Part 1 - Set up and Sort"
   ]
  },
  {
   "cell_type": "markdown",
   "metadata": {},
   "source": [
    "### Exercise 1 - Set up\n",
    "\n",
    "There is a CSV file called `NYC_Dog_Licensing.csv` in the `~/shared/data` folder. As the name indicates, this file contains information about New York City dog licences. This data comes from the [NYC OpenData project](https://opendata.cityofnewyork.us/).\n",
    "\n",
    "- Import the NYC Dog Licenses data using the `read.csv()` function and store it in an R data frame called `nyc_dogs`.\n",
    "- Load the dplyr package by excuting the ```library('dplyr')```command. You can ignore the warnings about masked opbjects.\n",
    "- Use ```mutate()``` to add a new column called `Age` to the data frame. This column should contain an approximation of each dog's age. "
   ]
  },
  {
   "cell_type": "code",
   "execution_count": 24,
   "metadata": {
    "scrolled": false
   },
   "outputs": [
    {
     "data": {
      "text/html": [
       "<table class=\"dataframe\">\n",
       "<caption>A data.frame: 6 × 12</caption>\n",
       "<thead>\n",
       "\t<tr><th></th><th scope=col>X</th><th scope=col>RowNumber</th><th scope=col>AnimalName</th><th scope=col>AnimalGender</th><th scope=col>AnimalBirthYear</th><th scope=col>BreedName</th><th scope=col>Borough</th><th scope=col>ZipCode</th><th scope=col>LicenseIssuedDate</th><th scope=col>LicenseExpiredDate</th><th scope=col>Extract.Year</th><th scope=col>Age</th></tr>\n",
       "\t<tr><th></th><th scope=col>&lt;int&gt;</th><th scope=col>&lt;int&gt;</th><th scope=col>&lt;chr&gt;</th><th scope=col>&lt;chr&gt;</th><th scope=col>&lt;int&gt;</th><th scope=col>&lt;chr&gt;</th><th scope=col>&lt;lgl&gt;</th><th scope=col>&lt;int&gt;</th><th scope=col>&lt;chr&gt;</th><th scope=col>&lt;chr&gt;</th><th scope=col>&lt;int&gt;</th><th scope=col>&lt;dbl&gt;</th></tr>\n",
       "</thead>\n",
       "<tbody>\n",
       "\t<tr><th scope=row>1</th><td>1</td><td>34510</td><td>ESCO   </td><td>F</td><td>2015</td><td>Pekingese               </td><td>NA</td><td>10012</td><td>12/15/2015</td><td>2021-12-12</td><td>2016</td><td> 6</td></tr>\n",
       "\t<tr><th scope=row>2</th><td>2</td><td>37953</td><td>FLAX   </td><td>M</td><td>2011</td><td>Portuguese Water Dog    </td><td>NA</td><td>10012</td><td>01/13/2016</td><td>2021-03-05</td><td>2016</td><td>10</td></tr>\n",
       "\t<tr><th scope=row>3</th><td>3</td><td>43865</td><td>ZOE    </td><td>F</td><td>2013</td><td>Maltese                 </td><td>NA</td><td>10014</td><td>02/15/2016</td><td>2021-02-15</td><td>2016</td><td> 8</td></tr>\n",
       "\t<tr><th scope=row>4</th><td>4</td><td>46519</td><td>CHESBAR</td><td>M</td><td>2006</td><td>Chesapeake Bay Retriever</td><td>NA</td><td>10012</td><td>02/29/2016</td><td>2021-04-22</td><td>2016</td><td>15</td></tr>\n",
       "\t<tr><th scope=row>5</th><td>5</td><td>47651</td><td>LEICA  </td><td>F</td><td>2014</td><td>Old English Sheepdog    </td><td>NA</td><td>10012</td><td>03/05/2016</td><td>2021-04-06</td><td>2016</td><td> 7</td></tr>\n",
       "\t<tr><th scope=row>6</th><td>6</td><td>47720</td><td>TUCHA  </td><td>M</td><td>2014</td><td>Rat Terrier             </td><td>NA</td><td>10013</td><td>03/05/2016</td><td>2021-02-24</td><td>2016</td><td> 7</td></tr>\n",
       "</tbody>\n",
       "</table>\n"
      ],
      "text/latex": [
       "A data.frame: 6 × 12\n",
       "\\begin{tabular}{r|llllllllllll}\n",
       "  & X & RowNumber & AnimalName & AnimalGender & AnimalBirthYear & BreedName & Borough & ZipCode & LicenseIssuedDate & LicenseExpiredDate & Extract.Year & Age\\\\\n",
       "  & <int> & <int> & <chr> & <chr> & <int> & <chr> & <lgl> & <int> & <chr> & <chr> & <int> & <dbl>\\\\\n",
       "\\hline\n",
       "\t1 & 1 & 34510 & ESCO    & F & 2015 & Pekingese                & NA & 10012 & 12/15/2015 & 2021-12-12 & 2016 &  6\\\\\n",
       "\t2 & 2 & 37953 & FLAX    & M & 2011 & Portuguese Water Dog     & NA & 10012 & 01/13/2016 & 2021-03-05 & 2016 & 10\\\\\n",
       "\t3 & 3 & 43865 & ZOE     & F & 2013 & Maltese                  & NA & 10014 & 02/15/2016 & 2021-02-15 & 2016 &  8\\\\\n",
       "\t4 & 4 & 46519 & CHESBAR & M & 2006 & Chesapeake Bay Retriever & NA & 10012 & 02/29/2016 & 2021-04-22 & 2016 & 15\\\\\n",
       "\t5 & 5 & 47651 & LEICA   & F & 2014 & Old English Sheepdog     & NA & 10012 & 03/05/2016 & 2021-04-06 & 2016 &  7\\\\\n",
       "\t6 & 6 & 47720 & TUCHA   & M & 2014 & Rat Terrier              & NA & 10013 & 03/05/2016 & 2021-02-24 & 2016 &  7\\\\\n",
       "\\end{tabular}\n"
      ],
      "text/markdown": [
       "\n",
       "A data.frame: 6 × 12\n",
       "\n",
       "| <!--/--> | X &lt;int&gt; | RowNumber &lt;int&gt; | AnimalName &lt;chr&gt; | AnimalGender &lt;chr&gt; | AnimalBirthYear &lt;int&gt; | BreedName &lt;chr&gt; | Borough &lt;lgl&gt; | ZipCode &lt;int&gt; | LicenseIssuedDate &lt;chr&gt; | LicenseExpiredDate &lt;chr&gt; | Extract.Year &lt;int&gt; | Age &lt;dbl&gt; |\n",
       "|---|---|---|---|---|---|---|---|---|---|---|---|---|\n",
       "| 1 | 1 | 34510 | ESCO    | F | 2015 | Pekingese                | NA | 10012 | 12/15/2015 | 2021-12-12 | 2016 |  6 |\n",
       "| 2 | 2 | 37953 | FLAX    | M | 2011 | Portuguese Water Dog     | NA | 10012 | 01/13/2016 | 2021-03-05 | 2016 | 10 |\n",
       "| 3 | 3 | 43865 | ZOE     | F | 2013 | Maltese                  | NA | 10014 | 02/15/2016 | 2021-02-15 | 2016 |  8 |\n",
       "| 4 | 4 | 46519 | CHESBAR | M | 2006 | Chesapeake Bay Retriever | NA | 10012 | 02/29/2016 | 2021-04-22 | 2016 | 15 |\n",
       "| 5 | 5 | 47651 | LEICA   | F | 2014 | Old English Sheepdog     | NA | 10012 | 03/05/2016 | 2021-04-06 | 2016 |  7 |\n",
       "| 6 | 6 | 47720 | TUCHA   | M | 2014 | Rat Terrier              | NA | 10013 | 03/05/2016 | 2021-02-24 | 2016 |  7 |\n",
       "\n"
      ],
      "text/plain": [
       "  X RowNumber AnimalName AnimalGender AnimalBirthYear BreedName               \n",
       "1 1 34510     ESCO       F            2015            Pekingese               \n",
       "2 2 37953     FLAX       M            2011            Portuguese Water Dog    \n",
       "3 3 43865     ZOE        F            2013            Maltese                 \n",
       "4 4 46519     CHESBAR    M            2006            Chesapeake Bay Retriever\n",
       "5 5 47651     LEICA      F            2014            Old English Sheepdog    \n",
       "6 6 47720     TUCHA      M            2014            Rat Terrier             \n",
       "  Borough ZipCode LicenseIssuedDate LicenseExpiredDate Extract.Year Age\n",
       "1 NA      10012   12/15/2015        2021-12-12         2016          6 \n",
       "2 NA      10012   01/13/2016        2021-03-05         2016         10 \n",
       "3 NA      10014   02/15/2016        2021-02-15         2016          8 \n",
       "4 NA      10012   02/29/2016        2021-04-22         2016         15 \n",
       "5 NA      10012   03/05/2016        2021-04-06         2016          7 \n",
       "6 NA      10013   03/05/2016        2021-02-24         2016          7 "
      ]
     },
     "metadata": {},
     "output_type": "display_data"
    }
   ],
   "source": [
    "nyc_dogs <- read.csv('~/shared/data/NYC_Dog_Licensing.csv')  # add the final name and path in quotes\n",
    "library('dplyr') # load the dplyr package\n",
    "\n",
    "nyc_dogs <- mutate(nyc_dogs, Age = 2021 - AnimalBirthYear) # age is approximately current_year - birth_year\n",
    "head(nyc_dogs) # view the results"
   ]
  },
  {
   "cell_type": "markdown",
   "metadata": {},
   "source": [
    "### Exercise 2 - Select Columns\n",
    "\n",
    "The `nyc_dogs` data frame has a lot of columns that we wont use today. Use `select()` to prune the columns in `nyc_dogs` as described below.\n",
    "\n",
    "Keep:\n",
    "- AnimalName\n",
    "- AnimalGender\n",
    "- BreedName\n",
    "- ZipCode\n",
    "- Age\n",
    "\n",
    "Remove:\n",
    "- X\n",
    "- RowNumber\n",
    "- AnimalBirthYear\n",
    "- Borough\n",
    "- LicenseIssuedDate\n",
    "- LicenseExpiredDate\n",
    "- Extract.Year\n",
    "\n",
    "Then, use the `names()` function to check that your code had the desired affect."
   ]
  },
  {
   "cell_type": "code",
   "execution_count": 23,
   "metadata": {},
   "outputs": [
    {
     "data": {
      "text/html": [
       "<style>\n",
       ".list-inline {list-style: none; margin:0; padding: 0}\n",
       ".list-inline>li {display: inline-block}\n",
       ".list-inline>li:not(:last-child)::after {content: \"\\00b7\"; padding: 0 .5ex}\n",
       "</style>\n",
       "<ol class=list-inline><li>'AnimalName'</li><li>'AnimalGender'</li><li>'BreedName'</li><li>'ZipCode'</li><li>'Age'</li></ol>\n"
      ],
      "text/latex": [
       "\\begin{enumerate*}\n",
       "\\item 'AnimalName'\n",
       "\\item 'AnimalGender'\n",
       "\\item 'BreedName'\n",
       "\\item 'ZipCode'\n",
       "\\item 'Age'\n",
       "\\end{enumerate*}\n"
      ],
      "text/markdown": [
       "1. 'AnimalName'\n",
       "2. 'AnimalGender'\n",
       "3. 'BreedName'\n",
       "4. 'ZipCode'\n",
       "5. 'Age'\n",
       "\n",
       "\n"
      ],
      "text/plain": [
       "[1] \"AnimalName\"   \"AnimalGender\" \"BreedName\"    \"ZipCode\"      \"Age\"         "
      ]
     },
     "metadata": {},
     "output_type": "display_data"
    }
   ],
   "source": [
    "# Strategy 1\n",
    "nyc_dogs <- select(nyc_dogs, AnimalName, AnimalGender, BreedName, ZipCode, Age)\n",
    "names(nyc_dogs)"
   ]
  },
  {
   "cell_type": "code",
   "execution_count": 25,
   "metadata": {},
   "outputs": [
    {
     "data": {
      "text/html": [
       "<style>\n",
       ".list-inline {list-style: none; margin:0; padding: 0}\n",
       ".list-inline>li {display: inline-block}\n",
       ".list-inline>li:not(:last-child)::after {content: \"\\00b7\"; padding: 0 .5ex}\n",
       "</style>\n",
       "<ol class=list-inline><li>'AnimalName'</li><li>'AnimalGender'</li><li>'BreedName'</li><li>'ZipCode'</li><li>'Age'</li></ol>\n"
      ],
      "text/latex": [
       "\\begin{enumerate*}\n",
       "\\item 'AnimalName'\n",
       "\\item 'AnimalGender'\n",
       "\\item 'BreedName'\n",
       "\\item 'ZipCode'\n",
       "\\item 'Age'\n",
       "\\end{enumerate*}\n"
      ],
      "text/markdown": [
       "1. 'AnimalName'\n",
       "2. 'AnimalGender'\n",
       "3. 'BreedName'\n",
       "4. 'ZipCode'\n",
       "5. 'Age'\n",
       "\n",
       "\n"
      ],
      "text/plain": [
       "[1] \"AnimalName\"   \"AnimalGender\" \"BreedName\"    \"ZipCode\"      \"Age\"         "
      ]
     },
     "metadata": {},
     "output_type": "display_data"
    }
   ],
   "source": [
    "# Strategy 2\n",
    "nyc_dogs <- select( nyc_dogs,\n",
    "        -X, \n",
    "        -RowNumber,\n",
    "        -AnimalBirthYear,\n",
    "        -Borough,\n",
    "        -LicenseIssuedDate, \n",
    "        -LicenseExpiredDate,\n",
    "        -Extract.Year\n",
    "    )\n",
    "# Spreading code across multiple lines can make it easier to read and prevent it being cut off in the PDF.\n",
    "\n",
    "names(nyc_dogs)"
   ]
  },
  {
   "cell_type": "markdown",
   "metadata": {},
   "source": [
    "### Exercise 3 - Piping\n",
    "\n",
    "Do the exact same thing as you did in Exercise 2, but this time use a different syntax. If you used piping in Exercise 2, use regular R syntax for this exercise. Otherwise, using piping for this exercise."
   ]
  },
  {
   "cell_type": "code",
   "execution_count": 7,
   "metadata": {},
   "outputs": [],
   "source": [
    "nyc_dogs <- nyc_dogs %>%\n",
    "    select('AnimalName', 'AnimalGender', 'BreedName', 'ZipCode', 'Age')"
   ]
  },
  {
   "cell_type": "markdown",
   "metadata": {},
   "source": [
    "## Part 2 - Filter"
   ]
  },
  {
   "cell_type": "markdown",
   "metadata": {},
   "source": [
    "### Exercise 4 - Find the old Chihuahuas\n",
    "\n",
    "Filter the nyc_dogs data frame to consist only of dogs are at least 10 years old and whose breed is 'Chihuahua'. Store the filtered data in a new data frame called `old_chihuahuas`. Use `head()` to check that your code had the desired affect. "
   ]
  },
  {
   "cell_type": "code",
   "execution_count": 12,
   "metadata": {},
   "outputs": [
    {
     "data": {
      "text/html": [
       "<table class=\"dataframe\">\n",
       "<caption>A data.frame: 2 × 5</caption>\n",
       "<thead>\n",
       "\t<tr><th></th><th scope=col>AnimalName</th><th scope=col>AnimalGender</th><th scope=col>BreedName</th><th scope=col>ZipCode</th><th scope=col>Age</th></tr>\n",
       "\t<tr><th></th><th scope=col>&lt;chr&gt;</th><th scope=col>&lt;chr&gt;</th><th scope=col>&lt;chr&gt;</th><th scope=col>&lt;int&gt;</th><th scope=col>&lt;dbl&gt;</th></tr>\n",
       "</thead>\n",
       "<tbody>\n",
       "\t<tr><th scope=row>1</th><td>BAILEY </td><td>M</td><td>Chihuahua</td><td>10013</td><td>16</td></tr>\n",
       "\t<tr><th scope=row>2</th><td>RUSSELL</td><td>M</td><td>Chihuahua</td><td>10014</td><td>12</td></tr>\n",
       "</tbody>\n",
       "</table>\n"
      ],
      "text/latex": [
       "A data.frame: 2 × 5\n",
       "\\begin{tabular}{r|lllll}\n",
       "  & AnimalName & AnimalGender & BreedName & ZipCode & Age\\\\\n",
       "  & <chr> & <chr> & <chr> & <int> & <dbl>\\\\\n",
       "\\hline\n",
       "\t1 & BAILEY  & M & Chihuahua & 10013 & 16\\\\\n",
       "\t2 & RUSSELL & M & Chihuahua & 10014 & 12\\\\\n",
       "\\end{tabular}\n"
      ],
      "text/markdown": [
       "\n",
       "A data.frame: 2 × 5\n",
       "\n",
       "| <!--/--> | AnimalName &lt;chr&gt; | AnimalGender &lt;chr&gt; | BreedName &lt;chr&gt; | ZipCode &lt;int&gt; | Age &lt;dbl&gt; |\n",
       "|---|---|---|---|---|---|\n",
       "| 1 | BAILEY  | M | Chihuahua | 10013 | 16 |\n",
       "| 2 | RUSSELL | M | Chihuahua | 10014 | 12 |\n",
       "\n"
      ],
      "text/plain": [
       "  AnimalName AnimalGender BreedName ZipCode Age\n",
       "1 BAILEY     M            Chihuahua 10013   16 \n",
       "2 RUSSELL    M            Chihuahua 10014   12 "
      ]
     },
     "metadata": {},
     "output_type": "display_data"
    }
   ],
   "source": [
    "# Strategy 1\n",
    "old_chihuahuas <- filter(nyc_dogs, Age >=10 & BreedName == 'Chihuahua')\n",
    "head(old_chihuahuas,2)"
   ]
  },
  {
   "cell_type": "code",
   "execution_count": 9,
   "metadata": {},
   "outputs": [
    {
     "data": {
      "text/html": [
       "<table class=\"dataframe\">\n",
       "<caption>A data.frame: 2 × 5</caption>\n",
       "<thead>\n",
       "\t<tr><th></th><th scope=col>AnimalName</th><th scope=col>AnimalGender</th><th scope=col>BreedName</th><th scope=col>ZipCode</th><th scope=col>Age</th></tr>\n",
       "\t<tr><th></th><th scope=col>&lt;chr&gt;</th><th scope=col>&lt;chr&gt;</th><th scope=col>&lt;chr&gt;</th><th scope=col>&lt;int&gt;</th><th scope=col>&lt;dbl&gt;</th></tr>\n",
       "</thead>\n",
       "<tbody>\n",
       "\t<tr><th scope=row>1</th><td>BAILEY </td><td>M</td><td>Chihuahua</td><td>10013</td><td>16</td></tr>\n",
       "\t<tr><th scope=row>2</th><td>RUSSELL</td><td>M</td><td>Chihuahua</td><td>10014</td><td>12</td></tr>\n",
       "</tbody>\n",
       "</table>\n"
      ],
      "text/latex": [
       "A data.frame: 2 × 5\n",
       "\\begin{tabular}{r|lllll}\n",
       "  & AnimalName & AnimalGender & BreedName & ZipCode & Age\\\\\n",
       "  & <chr> & <chr> & <chr> & <int> & <dbl>\\\\\n",
       "\\hline\n",
       "\t1 & BAILEY  & M & Chihuahua & 10013 & 16\\\\\n",
       "\t2 & RUSSELL & M & Chihuahua & 10014 & 12\\\\\n",
       "\\end{tabular}\n"
      ],
      "text/markdown": [
       "\n",
       "A data.frame: 2 × 5\n",
       "\n",
       "| <!--/--> | AnimalName &lt;chr&gt; | AnimalGender &lt;chr&gt; | BreedName &lt;chr&gt; | ZipCode &lt;int&gt; | Age &lt;dbl&gt; |\n",
       "|---|---|---|---|---|---|\n",
       "| 1 | BAILEY  | M | Chihuahua | 10013 | 16 |\n",
       "| 2 | RUSSELL | M | Chihuahua | 10014 | 12 |\n",
       "\n"
      ],
      "text/plain": [
       "  AnimalName AnimalGender BreedName ZipCode Age\n",
       "1 BAILEY     M            Chihuahua 10013   16 \n",
       "2 RUSSELL    M            Chihuahua 10014   12 "
      ]
     },
     "metadata": {},
     "output_type": "display_data"
    }
   ],
   "source": [
    "# Strategy 2\n",
    "old_chihuahuas <- filter(nyc_dogs, BreedName == 'Chihuahua')\n",
    "old_chihuahuas <- filter(old_chihuahuas, Age >=10)\n",
    "head(old_chihuahuas,2)"
   ]
  },
  {
   "cell_type": "markdown",
   "metadata": {},
   "source": [
    "### Exercise 5 - How many old Chihuahuas are there?\n",
    "How many chihuahuas are there in the data set that are at least 10 years old? "
   ]
  },
  {
   "cell_type": "code",
   "execution_count": 13,
   "metadata": {
    "scrolled": true
   },
   "outputs": [
    {
     "data": {
      "text/html": [
       "7"
      ],
      "text/latex": [
       "7"
      ],
      "text/markdown": [
       "7"
      ],
      "text/plain": [
       "[1] 7"
      ]
     },
     "metadata": {},
     "output_type": "display_data"
    }
   ],
   "source": [
    "# Strategy 1\n",
    "nrow(old_chihuahuas) # nrow gives the number of rows in the dataframe"
   ]
  },
  {
   "cell_type": "code",
   "execution_count": 11,
   "metadata": {},
   "outputs": [
    {
     "data": {
      "text/html": [
       "7"
      ],
      "text/latex": [
       "7"
      ],
      "text/markdown": [
       "7"
      ],
      "text/plain": [
       "[1] 7"
      ]
     },
     "metadata": {},
     "output_type": "display_data"
    }
   ],
   "source": [
    "# Strategy 2 \n",
    "dim(old_chihuahuas)[1] # [1] after dim() pulls out the first entry in the result, the number of rows."
   ]
  },
  {
   "cell_type": "code",
   "execution_count": 28,
   "metadata": {},
   "outputs": [
    {
     "data": {
      "text/html": [
       "7"
      ],
      "text/latex": [
       "7"
      ],
      "text/markdown": [
       "7"
      ],
      "text/plain": [
       "[1] 7"
      ]
     },
     "metadata": {},
     "output_type": "display_data"
    }
   ],
   "source": [
    "# Strategy 3\n",
    "length(old_chihuahuas$Age)"
   ]
  },
  {
   "cell_type": "code",
   "execution_count": 29,
   "metadata": {},
   "outputs": [
    {
     "data": {
      "text/html": [
       "7"
      ],
      "text/latex": [
       "7"
      ],
      "text/markdown": [
       "7"
      ],
      "text/plain": [
       "[1] 7"
      ]
     },
     "metadata": {},
     "output_type": "display_data"
    }
   ],
   "source": [
    "# Strategy 4\n",
    "str(old_chihuahuas)"
   ]
  },
  {
   "cell_type": "markdown",
   "metadata": {},
   "source": [
    "There are 7 chihuahuas in the data set that are at least 10 years old."
   ]
  },
  {
   "cell_type": "markdown",
   "metadata": {},
   "source": [
    "### Exercise 6 - Check your assumptions\n",
    "What assumptions are underlying your answer? Is your number likely larger than, equal to, or smaller than the actual number."
   ]
  },
  {
   "cell_type": "markdown",
   "metadata": {},
   "source": [
    "This is assuming that all of the dogs in the data set are alive today. It is also assuming that all dogs born in 2011 are 10 years old. Both of these assumption will lead to an output that is **larger** than the actual number. "
   ]
  },
  {
   "cell_type": "markdown",
   "metadata": {},
   "source": [
    "## Part 3 - Group and Summarize"
   ]
  },
  {
   "cell_type": "markdown",
   "metadata": {},
   "source": [
    "### Exercise 7 - Where do the dogs live?\n",
    "\n",
    "Use the ```group_by()``` and ```summarize()``` functions to answer the following questions. You can ignore the warning message about `summarise()` ungrouping output.\n",
    "- How many of dogs in the nyc_dogs data set live in each zip code?"
   ]
  },
  {
   "cell_type": "code",
   "execution_count": 11,
   "metadata": {},
   "outputs": [
    {
     "data": {
      "text/html": [
       "<table>\n",
       "<thead><tr><th scope=col>ZipCode</th><th scope=col>Count</th></tr></thead>\n",
       "<tbody>\n",
       "\t<tr><td>10012</td><td>149  </td></tr>\n",
       "\t<tr><td>10013</td><td>149  </td></tr>\n",
       "\t<tr><td>10014</td><td>217  </td></tr>\n",
       "</tbody>\n",
       "</table>\n"
      ],
      "text/latex": [
       "\\begin{tabular}{r|ll}\n",
       " ZipCode & Count\\\\\n",
       "\\hline\n",
       "\t 10012 & 149  \\\\\n",
       "\t 10013 & 149  \\\\\n",
       "\t 10014 & 217  \\\\\n",
       "\\end{tabular}\n"
      ],
      "text/markdown": [
       "\n",
       "| ZipCode | Count |\n",
       "|---|---|\n",
       "| 10012 | 149   |\n",
       "| 10013 | 149   |\n",
       "| 10014 | 217   |\n",
       "\n"
      ],
      "text/plain": [
       "  ZipCode Count\n",
       "1 10012   149  \n",
       "2 10013   149  \n",
       "3 10014   217  "
      ]
     },
     "metadata": {},
     "output_type": "display_data"
    }
   ],
   "source": [
    "### Dogs per zipcode\n",
    "nyc_dogs <- ungroup(nyc_dogs) # Execute this command to remove any grouping that was applied in previous exercises.\n",
    "nyc_dogs <- group_by(nyc_dogs, ZipCode)\n",
    "head(summarize(nyc_dogs, Count=n())) # n() says count"
   ]
  },
  {
   "cell_type": "markdown",
   "metadata": {},
   "source": [
    "### Excercise 8 - Average age\n",
    "- Use the code in the cell below to remove all groupings from nyc_dogs\n",
    "- Find the average of both the female dogs and the male dogs in the nyc_dogs data frame. "
   ]
  },
  {
   "cell_type": "code",
   "execution_count": 12,
   "metadata": {},
   "outputs": [],
   "source": [
    "nyc_dogs <- ungroup(nyc_dogs) # Execute this command to remove any grouping that was applied in previous exercises."
   ]
  },
  {
   "cell_type": "code",
   "execution_count": 13,
   "metadata": {
    "scrolled": true
   },
   "outputs": [
    {
     "data": {
      "text/html": [
       "<table>\n",
       "<thead><tr><th scope=col>AnimalGender</th><th scope=col>AvgAge</th></tr></thead>\n",
       "<tbody>\n",
       "\t<tr><td>F       </td><td>6.473077</td></tr>\n",
       "\t<tr><td>M       </td><td>7.270588</td></tr>\n",
       "</tbody>\n",
       "</table>\n"
      ],
      "text/latex": [
       "\\begin{tabular}{r|ll}\n",
       " AnimalGender & AvgAge\\\\\n",
       "\\hline\n",
       "\t F        & 6.473077\\\\\n",
       "\t M        & 7.270588\\\\\n",
       "\\end{tabular}\n"
      ],
      "text/markdown": [
       "\n",
       "| AnimalGender | AvgAge |\n",
       "|---|---|\n",
       "| F        | 6.473077 |\n",
       "| M        | 7.270588 |\n",
       "\n"
      ],
      "text/plain": [
       "  AnimalGender AvgAge  \n",
       "1 F            6.473077\n",
       "2 M            7.270588"
      ]
     },
     "metadata": {},
     "output_type": "display_data"
    }
   ],
   "source": [
    "nyc_dogs <- group_by(nyc_dogs, AnimalGender)\n",
    "summarize(nyc_dogs, AvgAge = mean(Age))"
   ]
  },
  {
   "cell_type": "markdown",
   "metadata": {},
   "source": [
    "### Exercise 9 - Popular name\n",
    "- Find the most popular male dog name and the most popular female dog name in the nyc_dogs dataset."
   ]
  },
  {
   "cell_type": "code",
   "execution_count": 14,
   "metadata": {
    "scrolled": true
   },
   "outputs": [
    {
     "data": {
      "text/html": [
       "<table>\n",
       "<thead><tr><th scope=col>AnimalName</th><th scope=col>AnimalGender</th><th scope=col>Count</th></tr></thead>\n",
       "<tbody>\n",
       "\t<tr><td>BANDIT</td><td>M     </td><td>8     </td></tr>\n",
       "\t<tr><td>RUBY  </td><td>F     </td><td>7     </td></tr>\n",
       "\t<tr><td>STELLA</td><td>F     </td><td>7     </td></tr>\n",
       "\t<tr><td>GRETA </td><td>F     </td><td>6     </td></tr>\n",
       "\t<tr><td>LOLA  </td><td>F     </td><td>6     </td></tr>\n",
       "\t<tr><td>DAISY </td><td>F     </td><td>5     </td></tr>\n",
       "</tbody>\n",
       "</table>\n"
      ],
      "text/latex": [
       "\\begin{tabular}{r|lll}\n",
       " AnimalName & AnimalGender & Count\\\\\n",
       "\\hline\n",
       "\t BANDIT & M      & 8     \\\\\n",
       "\t RUBY   & F      & 7     \\\\\n",
       "\t STELLA & F      & 7     \\\\\n",
       "\t GRETA  & F      & 6     \\\\\n",
       "\t LOLA   & F      & 6     \\\\\n",
       "\t DAISY  & F      & 5     \\\\\n",
       "\\end{tabular}\n"
      ],
      "text/markdown": [
       "\n",
       "| AnimalName | AnimalGender | Count |\n",
       "|---|---|---|\n",
       "| BANDIT | M      | 8      |\n",
       "| RUBY   | F      | 7      |\n",
       "| STELLA | F      | 7      |\n",
       "| GRETA  | F      | 6      |\n",
       "| LOLA   | F      | 6      |\n",
       "| DAISY  | F      | 5      |\n",
       "\n"
      ],
      "text/plain": [
       "  AnimalName AnimalGender Count\n",
       "1 BANDIT     M            8    \n",
       "2 RUBY       F            7    \n",
       "3 STELLA     F            7    \n",
       "4 GRETA      F            6    \n",
       "5 LOLA       F            6    \n",
       "6 DAISY      F            5    "
      ]
     },
     "metadata": {},
     "output_type": "display_data"
    }
   ],
   "source": [
    "nyc_dogs <- ungroup(nyc_dogs) # Execute this command to remove any grouping that was applied in previous exercises.\n",
    "nyc_dogs <- group_by(nyc_dogs, AnimalName, AnimalGender)\n",
    "name_counts <- summarize(nyc_dogs, Count = n())\n",
    "name_counts <- arrange(name_counts, desc(Count))\n",
    "head(name_counts)"
   ]
  },
  {
   "cell_type": "markdown",
   "metadata": {},
   "source": [
    "The most popular male dog name is Bandit and the most popular female dog name is Ruby. "
   ]
  },
  {
   "cell_type": "markdown",
   "metadata": {},
   "source": [
    "## Examples"
   ]
  },
  {
   "cell_type": "markdown",
   "metadata": {},
   "source": [
    "### Example 1 - sort berkeley data"
   ]
  },
  {
   "cell_type": "code",
   "execution_count": 1,
   "metadata": {},
   "outputs": [
    {
     "ename": "ERROR",
     "evalue": "Error in arrange(berkeley, desc(Women_Admitted)): could not find function \"arrange\"\n",
     "output_type": "error",
     "traceback": [
      "Error in arrange(berkeley, desc(Women_Admitted)): could not find function \"arrange\"\nTraceback:\n"
     ]
    }
   ],
   "source": [
    "berkeley <- read.csv('~/shared/data/berkeley73.csv')\n",
    "arrange(berkeley, desc(Women_Admitted))\n",
    "rm(berkeley) # remove the variable so that it does just sit in memory."
   ]
  },
  {
   "cell_type": "markdown",
   "metadata": {},
   "source": [
    "### Example 2 - Longest lived breed\n",
    "\n",
    "Based on the data in nyc_dogs determine what breed has the longest lifespan. "
   ]
  },
  {
   "cell_type": "code",
   "execution_count": 113,
   "metadata": {},
   "outputs": [
    {
     "data": {
      "text/html": [
       "<table>\n",
       "<caption>A grouped_df: 6 × 12</caption>\n",
       "<thead>\n",
       "\t<tr><th scope=col>X</th><th scope=col>RowNumber</th><th scope=col>AnimalName</th><th scope=col>AnimalGender</th><th scope=col>AnimalBirthYear</th><th scope=col>BreedName</th><th scope=col>Borough</th><th scope=col>ZipCode</th><th scope=col>LicenseIssuedDate</th><th scope=col>LicenseExpiredDate</th><th scope=col>Extract.Year</th><th scope=col>Age</th></tr>\n",
       "\t<tr><th scope=col>&lt;int&gt;</th><th scope=col>&lt;int&gt;</th><th scope=col>&lt;fct&gt;</th><th scope=col>&lt;fct&gt;</th><th scope=col>&lt;int&gt;</th><th scope=col>&lt;fct&gt;</th><th scope=col>&lt;lgl&gt;</th><th scope=col>&lt;int&gt;</th><th scope=col>&lt;fct&gt;</th><th scope=col>&lt;fct&gt;</th><th scope=col>&lt;int&gt;</th><th scope=col>&lt;dbl&gt;</th></tr>\n",
       "</thead>\n",
       "<tbody>\n",
       "\t<tr><td>418</td><td>63866</td><td>AEON </td><td>F</td><td>2002</td><td>Labrador Retriever Crossbreed</td><td>NA</td><td>10012</td><td>04/03/2018</td><td>2021-04-03</td><td>2018</td><td>18</td></tr>\n",
       "\t<tr><td>422</td><td>65005</td><td>SCOUT</td><td>M</td><td>2003</td><td>Cavalier King Charles Spaniel</td><td>NA</td><td>10013</td><td>04/09/2018</td><td>2023-04-09</td><td>2018</td><td>17</td></tr>\n",
       "\t<tr><td> 23</td><td>64970</td><td>BOZ  </td><td>M</td><td>2004</td><td>Labradoodle                  </td><td>NA</td><td>10014</td><td>05/19/2016</td><td>2021-05-19</td><td>2016</td><td>16</td></tr>\n",
       "\t<tr><td> 29</td><td>72188</td><td>LOLA </td><td>F</td><td>2004</td><td>Labrador Retriever           </td><td>NA</td><td>10013</td><td>06/19/2016</td><td>2021-06-19</td><td>2016</td><td>16</td></tr>\n",
       "\t<tr><td> 99</td><td>18491</td><td>BOZ  </td><td>M</td><td>2004</td><td>Labradoodle                  </td><td>NA</td><td>10014</td><td>05/19/2016</td><td>2021-05-19</td><td>2017</td><td>16</td></tr>\n",
       "\t<tr><td>105</td><td>21371</td><td>LOLA </td><td>F</td><td>2004</td><td>Labrador Retriever           </td><td>NA</td><td>10013</td><td>06/19/2016</td><td>2021-06-19</td><td>2017</td><td>16</td></tr>\n",
       "</tbody>\n",
       "</table>\n"
      ],
      "text/latex": [
       "A grouped\\_df: 6 × 12\n",
       "\\begin{tabular}{llllllllllll}\n",
       " X & RowNumber & AnimalName & AnimalGender & AnimalBirthYear & BreedName & Borough & ZipCode & LicenseIssuedDate & LicenseExpiredDate & Extract.Year & Age\\\\\n",
       " <int> & <int> & <fct> & <fct> & <int> & <fct> & <lgl> & <int> & <fct> & <fct> & <int> & <dbl>\\\\\n",
       "\\hline\n",
       "\t 418 & 63866 & AEON  & F & 2002 & Labrador Retriever Crossbreed & NA & 10012 & 04/03/2018 & 2021-04-03 & 2018 & 18\\\\\n",
       "\t 422 & 65005 & SCOUT & M & 2003 & Cavalier King Charles Spaniel & NA & 10013 & 04/09/2018 & 2023-04-09 & 2018 & 17\\\\\n",
       "\t  23 & 64970 & BOZ   & M & 2004 & Labradoodle                   & NA & 10014 & 05/19/2016 & 2021-05-19 & 2016 & 16\\\\\n",
       "\t  29 & 72188 & LOLA  & F & 2004 & Labrador Retriever            & NA & 10013 & 06/19/2016 & 2021-06-19 & 2016 & 16\\\\\n",
       "\t  99 & 18491 & BOZ   & M & 2004 & Labradoodle                   & NA & 10014 & 05/19/2016 & 2021-05-19 & 2017 & 16\\\\\n",
       "\t 105 & 21371 & LOLA  & F & 2004 & Labrador Retriever            & NA & 10013 & 06/19/2016 & 2021-06-19 & 2017 & 16\\\\\n",
       "\\end{tabular}\n"
      ],
      "text/markdown": [
       "\n",
       "A grouped_df: 6 × 12\n",
       "\n",
       "| X &lt;int&gt; | RowNumber &lt;int&gt; | AnimalName &lt;fct&gt; | AnimalGender &lt;fct&gt; | AnimalBirthYear &lt;int&gt; | BreedName &lt;fct&gt; | Borough &lt;lgl&gt; | ZipCode &lt;int&gt; | LicenseIssuedDate &lt;fct&gt; | LicenseExpiredDate &lt;fct&gt; | Extract.Year &lt;int&gt; | Age &lt;dbl&gt; |\n",
       "|---|---|---|---|---|---|---|---|---|---|---|---|\n",
       "| 418 | 63866 | AEON  | F | 2002 | Labrador Retriever Crossbreed | NA | 10012 | 04/03/2018 | 2021-04-03 | 2018 | 18 |\n",
       "| 422 | 65005 | SCOUT | M | 2003 | Cavalier King Charles Spaniel | NA | 10013 | 04/09/2018 | 2023-04-09 | 2018 | 17 |\n",
       "|  23 | 64970 | BOZ   | M | 2004 | Labradoodle                   | NA | 10014 | 05/19/2016 | 2021-05-19 | 2016 | 16 |\n",
       "|  29 | 72188 | LOLA  | F | 2004 | Labrador Retriever            | NA | 10013 | 06/19/2016 | 2021-06-19 | 2016 | 16 |\n",
       "|  99 | 18491 | BOZ   | M | 2004 | Labradoodle                   | NA | 10014 | 05/19/2016 | 2021-05-19 | 2017 | 16 |\n",
       "| 105 | 21371 | LOLA  | F | 2004 | Labrador Retriever            | NA | 10013 | 06/19/2016 | 2021-06-19 | 2017 | 16 |\n",
       "\n"
      ],
      "text/plain": [
       "  X   RowNumber AnimalName AnimalGender AnimalBirthYear\n",
       "1 418 63866     AEON       F            2002           \n",
       "2 422 65005     SCOUT      M            2003           \n",
       "3  23 64970     BOZ        M            2004           \n",
       "4  29 72188     LOLA       F            2004           \n",
       "5  99 18491     BOZ        M            2004           \n",
       "6 105 21371     LOLA       F            2004           \n",
       "  BreedName                     Borough ZipCode LicenseIssuedDate\n",
       "1 Labrador Retriever Crossbreed NA      10012   04/03/2018       \n",
       "2 Cavalier King Charles Spaniel NA      10013   04/09/2018       \n",
       "3 Labradoodle                   NA      10014   05/19/2016       \n",
       "4 Labrador Retriever            NA      10013   06/19/2016       \n",
       "5 Labradoodle                   NA      10014   05/19/2016       \n",
       "6 Labrador Retriever            NA      10013   06/19/2016       \n",
       "  LicenseExpiredDate Extract.Year Age\n",
       "1 2021-04-03         2018         18 \n",
       "2 2023-04-09         2018         17 \n",
       "3 2021-05-19         2016         16 \n",
       "4 2021-06-19         2016         16 \n",
       "5 2021-05-19         2017         16 \n",
       "6 2021-06-19         2017         16 "
      ]
     },
     "metadata": {},
     "output_type": "display_data"
    }
   ],
   "source": [
    "head(arrange(nyc_dogs, desc(Age))) # Look at the data so that we know what to expect"
   ]
  },
  {
   "cell_type": "code",
   "execution_count": 114,
   "metadata": {},
   "outputs": [],
   "source": [
    "# Execute this command to remove any grouping that was applied in previous exercises.\n",
    "nyc_dogs <- ungroup(nyc_dogs) "
   ]
  },
  {
   "cell_type": "code",
   "execution_count": 37,
   "metadata": {},
   "outputs": [
    {
     "data": {
      "text/html": [
       "<table class=\"dataframe\">\n",
       "<caption>A tibble: 3 × 2</caption>\n",
       "<thead>\n",
       "\t<tr><th scope=col>BreedName</th><th scope=col>Max_Age</th></tr>\n",
       "\t<tr><th scope=col>&lt;chr&gt;</th><th scope=col>&lt;dbl&gt;</th></tr>\n",
       "</thead>\n",
       "<tbody>\n",
       "\t<tr><td>Labrador Retriever Crossbreed</td><td>19</td></tr>\n",
       "\t<tr><td>Cavalier King Charles Spaniel</td><td>18</td></tr>\n",
       "\t<tr><td>Beagle Crossbreed            </td><td>17</td></tr>\n",
       "</tbody>\n",
       "</table>\n"
      ],
      "text/latex": [
       "A tibble: 3 × 2\n",
       "\\begin{tabular}{ll}\n",
       " BreedName & Max\\_Age\\\\\n",
       " <chr> & <dbl>\\\\\n",
       "\\hline\n",
       "\t Labrador Retriever Crossbreed & 19\\\\\n",
       "\t Cavalier King Charles Spaniel & 18\\\\\n",
       "\t Beagle Crossbreed             & 17\\\\\n",
       "\\end{tabular}\n"
      ],
      "text/markdown": [
       "\n",
       "A tibble: 3 × 2\n",
       "\n",
       "| BreedName &lt;chr&gt; | Max_Age &lt;dbl&gt; |\n",
       "|---|---|\n",
       "| Labrador Retriever Crossbreed | 19 |\n",
       "| Cavalier King Charles Spaniel | 18 |\n",
       "| Beagle Crossbreed             | 17 |\n",
       "\n"
      ],
      "text/plain": [
       "  BreedName                     Max_Age\n",
       "1 Labrador Retriever Crossbreed 19     \n",
       "2 Cavalier King Charles Spaniel 18     \n",
       "3 Beagle Crossbreed             17     "
      ]
     },
     "metadata": {},
     "output_type": "display_data"
    }
   ],
   "source": [
    "# Strategy 1: summarize and sort\n",
    "nyc_dogs <- group_by(nyc_dogs, BreedName)\n",
    "breed_age <- summarize(nyc_dogs, Max_Age = max(Age))\n",
    "breed_age <- arrange(breed_age, desc(Max_Age))\n",
    "head(breed_age, 3)"
   ]
  },
  {
   "cell_type": "code",
   "execution_count": 38,
   "metadata": {},
   "outputs": [
    {
     "data": {
      "text/html": [
       "<table class=\"dataframe\">\n",
       "<caption>A tibble: 3 × 2</caption>\n",
       "<thead>\n",
       "\t<tr><th scope=col>BreedName</th><th scope=col>Max_Age</th></tr>\n",
       "\t<tr><th scope=col>&lt;chr&gt;</th><th scope=col>&lt;dbl&gt;</th></tr>\n",
       "</thead>\n",
       "<tbody>\n",
       "\t<tr><td>Labrador Retriever Crossbreed</td><td>19</td></tr>\n",
       "\t<tr><td>Cavalier King Charles Spaniel</td><td>18</td></tr>\n",
       "\t<tr><td>Beagle Crossbreed            </td><td>17</td></tr>\n",
       "</tbody>\n",
       "</table>\n"
      ],
      "text/latex": [
       "A tibble: 3 × 2\n",
       "\\begin{tabular}{ll}\n",
       " BreedName & Max\\_Age\\\\\n",
       " <chr> & <dbl>\\\\\n",
       "\\hline\n",
       "\t Labrador Retriever Crossbreed & 19\\\\\n",
       "\t Cavalier King Charles Spaniel & 18\\\\\n",
       "\t Beagle Crossbreed             & 17\\\\\n",
       "\\end{tabular}\n"
      ],
      "text/markdown": [
       "\n",
       "A tibble: 3 × 2\n",
       "\n",
       "| BreedName &lt;chr&gt; | Max_Age &lt;dbl&gt; |\n",
       "|---|---|\n",
       "| Labrador Retriever Crossbreed | 19 |\n",
       "| Cavalier King Charles Spaniel | 18 |\n",
       "| Beagle Crossbreed             | 17 |\n",
       "\n"
      ],
      "text/plain": [
       "  BreedName                     Max_Age\n",
       "1 Labrador Retriever Crossbreed 19     \n",
       "2 Cavalier King Charles Spaniel 18     \n",
       "3 Beagle Crossbreed             17     "
      ]
     },
     "metadata": {},
     "output_type": "display_data"
    }
   ],
   "source": [
    "# Strategy 1 with piping\n",
    "nyc_dogs %>% \n",
    "    group_by(BreedName) %>% \n",
    "    summarize(Max_Age = max(Age)) %>% \n",
    "    arrange(desc(Max_Age)) %>% \n",
    "    head(3)"
   ]
  },
  {
   "cell_type": "markdown",
   "metadata": {},
   "source": [
    "We conclude that Labrador Retriever Crossbreed\tis the longest lived of the breeds, because they can reach the maximum age of 18 years old. "
   ]
  },
  {
   "cell_type": "code",
   "execution_count": 35,
   "metadata": {
    "scrolled": true
   },
   "outputs": [
    {
     "data": {
      "text/html": [
       "<table class=\"dataframe\">\n",
       "<caption>A tibble: 3 × 2</caption>\n",
       "<thead>\n",
       "\t<tr><th scope=col>BreedName</th><th scope=col>Count</th></tr>\n",
       "\t<tr><th scope=col>&lt;chr&gt;</th><th scope=col>&lt;int&gt;</th></tr>\n",
       "</thead>\n",
       "<tbody>\n",
       "\t<tr><td>Pug                 </td><td>6</td></tr>\n",
       "\t<tr><td>Schnauzer, Miniature</td><td>6</td></tr>\n",
       "\t<tr><td>Schnauzer Crossbreed</td><td>5</td></tr>\n",
       "</tbody>\n",
       "</table>\n"
      ],
      "text/latex": [
       "A tibble: 3 × 2\n",
       "\\begin{tabular}{ll}\n",
       " BreedName & Count\\\\\n",
       " <chr> & <int>\\\\\n",
       "\\hline\n",
       "\t Pug                  & 6\\\\\n",
       "\t Schnauzer, Miniature & 6\\\\\n",
       "\t Schnauzer Crossbreed & 5\\\\\n",
       "\\end{tabular}\n"
      ],
      "text/markdown": [
       "\n",
       "A tibble: 3 × 2\n",
       "\n",
       "| BreedName &lt;chr&gt; | Count &lt;int&gt; |\n",
       "|---|---|\n",
       "| Pug                  | 6 |\n",
       "| Schnauzer, Miniature | 6 |\n",
       "| Schnauzer Crossbreed | 5 |\n",
       "\n"
      ],
      "text/plain": [
       "  BreedName            Count\n",
       "1 Pug                  6    \n",
       "2 Schnauzer, Miniature 6    \n",
       "3 Schnauzer Crossbreed 5    "
      ]
     },
     "metadata": {},
     "output_type": "display_data"
    }
   ],
   "source": [
    "# Strategy 2: Find max age then filster, summarize and sort\n",
    "old_dogs <- filter(nyc_dogs, Age == max(Age))\n",
    "old_dogs <- group_by(old_dogs, BreedName)\n",
    "old_breeds <- summarize(old_dogs, Count = n())\n",
    "old_breeds <- arrange(old_breeds, desc(Count))\n",
    "head(old_breeds, 3)\n",
    "rm(old_breeds)"
   ]
  },
  {
   "cell_type": "code",
   "execution_count": 33,
   "metadata": {},
   "outputs": [
    {
     "data": {
      "text/html": [
       "<table class=\"dataframe\">\n",
       "<caption>A tibble: 3 × 2</caption>\n",
       "<thead>\n",
       "\t<tr><th scope=col>BreedName</th><th scope=col>Count</th></tr>\n",
       "\t<tr><th scope=col>&lt;chr&gt;</th><th scope=col>&lt;int&gt;</th></tr>\n",
       "</thead>\n",
       "<tbody>\n",
       "\t<tr><td>Pug                 </td><td>6</td></tr>\n",
       "\t<tr><td>Schnauzer, Miniature</td><td>6</td></tr>\n",
       "\t<tr><td>Schnauzer Crossbreed</td><td>5</td></tr>\n",
       "</tbody>\n",
       "</table>\n"
      ],
      "text/latex": [
       "A tibble: 3 × 2\n",
       "\\begin{tabular}{ll}\n",
       " BreedName & Count\\\\\n",
       " <chr> & <int>\\\\\n",
       "\\hline\n",
       "\t Pug                  & 6\\\\\n",
       "\t Schnauzer, Miniature & 6\\\\\n",
       "\t Schnauzer Crossbreed & 5\\\\\n",
       "\\end{tabular}\n"
      ],
      "text/markdown": [
       "\n",
       "A tibble: 3 × 2\n",
       "\n",
       "| BreedName &lt;chr&gt; | Count &lt;int&gt; |\n",
       "|---|---|\n",
       "| Pug                  | 6 |\n",
       "| Schnauzer, Miniature | 6 |\n",
       "| Schnauzer Crossbreed | 5 |\n",
       "\n"
      ],
      "text/plain": [
       "  BreedName            Count\n",
       "1 Pug                  6    \n",
       "2 Schnauzer, Miniature 6    \n",
       "3 Schnauzer Crossbreed 5    "
      ]
     },
     "metadata": {},
     "output_type": "display_data"
    }
   ],
   "source": [
    "# Strategy 2 with piping\n",
    "nyc_dogs %>% \n",
    "    filter(Age == max(Age)) %>%\n",
    "    group_by(BreedName) %>%\n",
    "    summarize(Count = n()) %>%\n",
    "    arrange(desc(Count)) %>%\n",
    "    head(3)"
   ]
  },
  {
   "cell_type": "markdown",
   "metadata": {},
   "source": [
    "We conclude that Labrador Retriever Crossbreed\tis the longest lived of the breeds, because they can reach the maximum age of 18 years old. "
   ]
  },
  {
   "cell_type": "markdown",
   "metadata": {},
   "source": [
    "### Example 3: Dogs who live to be at least 10 years old"
   ]
  },
  {
   "cell_type": "markdown",
   "metadata": {},
   "source": [
    "It would be more accurage to look at the dogs who get old (say at least 10 years) rather than just those that reach the max age. "
   ]
  },
  {
   "cell_type": "code",
   "execution_count": 121,
   "metadata": {},
   "outputs": [],
   "source": [
    "nyc_dogs <- ungroup(nyc_dogs) # Execute this command to remove any grouping that was applied in previous exercises."
   ]
  },
  {
   "cell_type": "code",
   "execution_count": 50,
   "metadata": {},
   "outputs": [
    {
     "data": {
      "text/html": [
       "<table class=\"dataframe\">\n",
       "<caption>A tibble: 3 × 3</caption>\n",
       "<thead>\n",
       "\t<tr><th scope=col>BreedName</th><th scope=col>Total</th><th scope=col>Perc_Old</th></tr>\n",
       "\t<tr><th scope=col>&lt;chr&gt;</th><th scope=col>&lt;int&gt;</th><th scope=col>&lt;dbl&gt;</th></tr>\n",
       "</thead>\n",
       "<tbody>\n",
       "\t<tr><td>Labrador Retriever</td><td>34</td><td>0.5294118</td></tr>\n",
       "\t<tr><td>Shih Tzu          </td><td>20</td><td>0.2000000</td></tr>\n",
       "\t<tr><td>Labradoodle       </td><td>18</td><td>0.3888889</td></tr>\n",
       "</tbody>\n",
       "</table>\n"
      ],
      "text/latex": [
       "A tibble: 3 × 3\n",
       "\\begin{tabular}{lll}\n",
       " BreedName & Total & Perc\\_Old\\\\\n",
       " <chr> & <int> & <dbl>\\\\\n",
       "\\hline\n",
       "\t Labrador Retriever & 34 & 0.5294118\\\\\n",
       "\t Shih Tzu           & 20 & 0.2000000\\\\\n",
       "\t Labradoodle        & 18 & 0.3888889\\\\\n",
       "\\end{tabular}\n"
      ],
      "text/markdown": [
       "\n",
       "A tibble: 3 × 3\n",
       "\n",
       "| BreedName &lt;chr&gt; | Total &lt;int&gt; | Perc_Old &lt;dbl&gt; |\n",
       "|---|---|---|\n",
       "| Labrador Retriever | 34 | 0.5294118 |\n",
       "| Shih Tzu           | 20 | 0.2000000 |\n",
       "| Labradoodle        | 18 | 0.3888889 |\n",
       "\n"
      ],
      "text/plain": [
       "  BreedName          Total Perc_Old \n",
       "1 Labrador Retriever 34    0.5294118\n",
       "2 Shih Tzu           20    0.2000000\n",
       "3 Labradoodle        18    0.3888889"
      ]
     },
     "metadata": {},
     "output_type": "display_data"
    }
   ],
   "source": [
    "# Strategy 3 Highest percentage of old dogs, in knowns breeds with at least 100 representatives\n",
    "nyc_dogs <- mutate(nyc_dogs, is_old = Age >=10)\n",
    "nyc_dogs <- group_by(nyc_dogs, BreedName)\n",
    "breed_counts <- summarize(nyc_dogs, Total = n(), Perc_Old = sum(is_old) / Total)\n",
    "breed_counts <- arrange(breed_counts,desc(Total), desc(Perc_Old))\n",
    "head(breed_counts,3)"
   ]
  },
  {
   "cell_type": "code",
   "execution_count": 49,
   "metadata": {},
   "outputs": [
    {
     "data": {
      "text/html": [
       "<table class=\"dataframe\">\n",
       "<caption>A tibble: 3 × 3</caption>\n",
       "<thead>\n",
       "\t<tr><th scope=col>BreedName</th><th scope=col>Total</th><th scope=col>Perc_Old</th></tr>\n",
       "\t<tr><th scope=col>&lt;chr&gt;</th><th scope=col>&lt;int&gt;</th><th scope=col>&lt;dbl&gt;</th></tr>\n",
       "</thead>\n",
       "<tbody>\n",
       "\t<tr><td>Labrador Retriever</td><td>34</td><td>0.5294118</td></tr>\n",
       "\t<tr><td>Shih Tzu          </td><td>20</td><td>0.2000000</td></tr>\n",
       "\t<tr><td>Labradoodle       </td><td>18</td><td>0.3888889</td></tr>\n",
       "</tbody>\n",
       "</table>\n"
      ],
      "text/latex": [
       "A tibble: 3 × 3\n",
       "\\begin{tabular}{lll}\n",
       " BreedName & Total & Perc\\_Old\\\\\n",
       " <chr> & <int> & <dbl>\\\\\n",
       "\\hline\n",
       "\t Labrador Retriever & 34 & 0.5294118\\\\\n",
       "\t Shih Tzu           & 20 & 0.2000000\\\\\n",
       "\t Labradoodle        & 18 & 0.3888889\\\\\n",
       "\\end{tabular}\n"
      ],
      "text/markdown": [
       "\n",
       "A tibble: 3 × 3\n",
       "\n",
       "| BreedName &lt;chr&gt; | Total &lt;int&gt; | Perc_Old &lt;dbl&gt; |\n",
       "|---|---|---|\n",
       "| Labrador Retriever | 34 | 0.5294118 |\n",
       "| Shih Tzu           | 20 | 0.2000000 |\n",
       "| Labradoodle        | 18 | 0.3888889 |\n",
       "\n"
      ],
      "text/plain": [
       "  BreedName          Total Perc_Old \n",
       "1 Labrador Retriever 34    0.5294118\n",
       "2 Shih Tzu           20    0.2000000\n",
       "3 Labradoodle        18    0.3888889"
      ]
     },
     "metadata": {},
     "output_type": "display_data"
    }
   ],
   "source": [
    "# Strategy 3 with piping\n",
    "nyc_dogs %>% \n",
    "    mutate(is_old = Age >=10) %>%\n",
    "    group_by(BreedName) %>%\n",
    "    summarize(Total = n(), Perc_Old = sum(is_old) / Total) %>%\n",
    "    arrange(desc(Total), desc(Perc_Old)) %>%\n",
    "    head(3)"
   ]
  },
  {
   "cell_type": "markdown",
   "metadata": {},
   "source": [
    "We conclude that Labrador Retriever is most likely to live at least ten years. "
   ]
  }
 ],
 "metadata": {
  "kernelspec": {
   "display_name": "R",
   "language": "R",
   "name": "ir"
  },
  "language_info": {
   "codemirror_mode": "r",
   "file_extension": ".r",
   "mimetype": "text/x-r-source",
   "name": "R",
   "pygments_lexer": "r",
   "version": "4.1.1"
  }
 },
 "nbformat": 4,
 "nbformat_minor": 4
}
