{
 "cells": [
  {
   "cell_type": "markdown",
   "metadata": {},
   "source": [
    "# Lesson 10 -  Solutions\n",
    "These exercises are to help you check your understanding during class. They will not be collected."
   ]
  },
  {
   "cell_type": "markdown",
   "metadata": {},
   "source": [
    "## Part 1 - Models with two regions\n"
   ]
  },
  {
   "attachments": {
    "L10_model_1_plot.png": {
     "image/png": "[encoded data removed]"
    }
   },
   "cell_type": "markdown",
   "metadata": {},
   "source": [
    "### Exercise 1 - Model 1\n",
    "\n",
    "The following plot uses shading to inicate whcih points are special. The grid lines where the dark and light regions meet, are included in the light region. \n",
    "\n",
    "![L10_model_1_plot.png](attachment:L10_model_1_plot.png)\n",
    "\n",
    "Your goal is to create code that can tell you whether or not any point in the plot is special You may assume that the x-coordinates satisfy the indequaltiy $$0\\le x \\le 10$$ and that the y-coordinates satisfy the indequality $$0\\le y\\le 2.5$$. Here is a step by step guide to doing that:\n",
    "- List three points that are special and three points that are not special. You will use these to test your code.\n",
    "- In plain English, describe how you can tell whether or not a point is special.\n",
    "- Sketch a decision tree that ends in 'Yes' if the point is special and 'No' if it is not special. \n",
    "- Implement your decision tree in the code cell below by filling in the blanks.\n",
    "- Test your code against your six points by uncommenting them one at a time. Does it work as expected?"
   ]
  },
  {
   "cell_type": "code",
   "execution_count": 3,
   "metadata": {},
   "outputs": [
    {
     "data": {
      "text/html": [
       "'No'"
      ],
      "text/latex": [
       "'No'"
      ],
      "text/markdown": [
       "'No'"
      ],
      "text/plain": [
       "[1] \"No\""
      ]
     },
     "metadata": {},
     "output_type": "display_data"
    }
   ],
   "source": [
    "## Use (Ctrl or Cmd) + / to comment and uncomment blocks\n",
    "# Yes Points\n",
    "# # first\n",
    "# x <- 8\n",
    "# y <- 1\n",
    "# # second\n",
    "# x <- 6.5\n",
    "# y <- 0\n",
    "# # third\n",
    "# x <- 10\n",
    "# y <- 2\n",
    "\n",
    "# No Points\n",
    "# # first\n",
    "# x <- 0\n",
    "# y <- 0\n",
    "# # second\n",
    "x <- 6\n",
    "y <- 1.5\n",
    "# # third\n",
    "# x <- 5\n",
    "# y <- 2\n",
    "\n",
    "# Is the point special?\n",
    "if ( x > 6 ) { # write your Boolean expression between the parentheses\n",
    "    answer <- 'Yes' # output if the Boolean expression is TRUE\n",
    "} else {\n",
    "    answer <- 'No' # output if the Boolean expression is FALSE\n",
    "}\n",
    "answer # prints the value of answer"
   ]
  },
  {
   "attachments": {
    "L10_model_2_plot.png": {
     "image/png": "[encoded data removed]"
    }
   },
   "cell_type": "markdown",
   "metadata": {},
   "source": [
    "### Exercise 2- Model 2\n",
    "\n",
    "The following plot uses shading to inicate whcih points are special. The grid lines where the dark and light regions meet, are included in the light region. \n",
    "\n",
    "![L10_model_2_plot.png](attachment:L10_model_2_plot.png)\n",
    "\n",
    "Your goal is to create code that can tell you whether or not any point in the plot is special You may assume that the x-coordinates satisfy the indequaltiy $$0\\le x \\le 10$$ and that the y-coordinates satisfy the indequality $$0\\le y\\le 2.5$$. Here is a step by step guide to doing that:\n",
    "- List three points that are special and three points that are not special. You will use these to test your code.\n",
    "- In plain English, describe how you can tell whether or not a point is special.\n",
    "- Sketch a decision tree that ends in 'Yes' if the point is special and 'No' if it is not special. \n",
    "- Implement your decision tree in the code cell using `if() {} else {}`.\n",
    "- Test your code against your six pointss by uncommenting them one at a time. Does it work as expected?"
   ]
  },
  {
   "cell_type": "code",
   "execution_count": 5,
   "metadata": {},
   "outputs": [
    {
     "data": {
      "text/html": [
       "'No'"
      ],
      "text/latex": [
       "'No'"
      ],
      "text/markdown": [
       "'No'"
      ],
      "text/plain": [
       "[1] \"No\""
      ]
     },
     "metadata": {},
     "output_type": "display_data"
    }
   ],
   "source": [
    "## Use Ctrl + / to comment and uncomment blocks\n",
    "# Yes Points\n",
    "# # first\n",
    "# x <- 0\n",
    "# y <- 1\n",
    "# # second\n",
    "# x <- 6\n",
    "# y <- 0\n",
    "# # third\n",
    "# x <- 7\n",
    "# y <- 0.5\n",
    "\n",
    "# No Points\n",
    "# # first\n",
    "# x <- 0\n",
    "# y <- 2.5\n",
    "# # second\n",
    "# x <- 6\n",
    "# y <- 1.5\n",
    "# # third\n",
    "# x <- 7\n",
    "# y <- 2\n",
    "\n",
    "# is it special?\n",
    "if ( y < 1.5 ) { # write your Boolean expression between the parentheses\n",
    "    answer <- 'Yes' # output if the Boolean expression is TRUE\n",
    "} else {\n",
    "    answer <- 'No' # output if the Boolean expression is FALSE\n",
    "}\n",
    "answer # prints the value of answer"
   ]
  },
  {
   "cell_type": "markdown",
   "metadata": {},
   "source": [
    "## Part 2 - Models with multiple regions"
   ]
  },
  {
   "attachments": {
    "L10_model_3_plot.png": {
     "image/png": "[encoded data removed]"
    }
   },
   "cell_type": "markdown",
   "metadata": {},
   "source": [
    "### Exercise 3 - Model 3\n",
    "\n",
    "The following plot uses shading to inicate whcih points are special. The grid lines where the dark and light regions meet, are included in the light region. \n",
    "\n",
    "![L10_model_3_plot.png](attachment:L10_model_3_plot.png)\n",
    "\n",
    "Your goal is to create code that can tell you whether or not any point in the plot is special You may assume that the x-coordinates satisfy the indequaltiy $$0\\le x \\le 10$$ and that the y-coordinates satisfy the indequality $$0\\le y\\le 2.5$$. Here is a step by step guide to doing that:\n",
    "- List three points that are special and three points that are not special. You will use these to test your code.\n",
    "- In plain English, describe how you can tell whether or not a point is special.\n",
    "- Sketch a decision tree that ends in 'Yes' if the point is special and 'No' if it is not special. \n",
    "- Implement your decision tree in the code cell using `if() {} else if () {} else {}`. \n",
    "- Test your code against your six pointss by uncommenting them one at a time. Does it work as expected?"
   ]
  },
  {
   "cell_type": "code",
   "execution_count": 7,
   "metadata": {},
   "outputs": [
    {
     "data": {
      "text/html": [
       "'No'"
      ],
      "text/latex": [
       "'No'"
      ],
      "text/markdown": [
       "'No'"
      ],
      "text/plain": [
       "[1] \"No\""
      ]
     },
     "metadata": {},
     "output_type": "display_data"
    }
   ],
   "source": [
    "## Use Ctrl + / to comment and uncomment blocks\n",
    "# Yes Points\n",
    "# # first\n",
    "# x <- 0\n",
    "# y <- 2\n",
    "# # second\n",
    "# x <- 7\n",
    "# y <- 1\n",
    "# # third\n",
    "# x <- 6.5\n",
    "# y <- 0.5\n",
    "\n",
    "# No Points\n",
    "# # first\n",
    "# x <- 6\n",
    "# y <- 1.5\n",
    "# # second\n",
    "# x <- 1\n",
    "# y <- 2\n",
    "# # third\n",
    "x <- 7\n",
    "y <- 2\n",
    "\n",
    "if ( x < 6 & y > 1.5 ) { # write your first Boolean expression between the parentheses\n",
    "    answer <- 'Yes' # output if the first Boolean expression is TRUE\n",
    "} else if(x > 6 & y < 1.5) { # write your second Boolean expression between the parentheses\n",
    "    answer <- 'Yes' # output if the Boolean expression is FALSE and the second is TRUE\n",
    "} else {\n",
    "    answer <- 'No' # output if both the Boolean expressions are FALSE\n",
    "}\n",
    "answer # prints the value of answer"
   ]
  },
  {
   "cell_type": "code",
   "execution_count": null,
   "metadata": {},
   "outputs": [],
   "source": [
    "if((x < 6 & y > 1.5) | (x > 6 & y < 1.5)) {\n",
    "    answer <- 'Yes'\n",
    "} else {\n",
    "    answer <- 'No'\n",
    "}\n",
    "answer "
   ]
  },
  {
   "cell_type": "markdown",
   "metadata": {},
   "source": [
    "## Examples from notes"
   ]
  },
  {
   "cell_type": "code",
   "execution_count": 8,
   "metadata": {},
   "outputs": [
    {
     "name": "stderr",
     "output_type": "stream",
     "text": [
      "\n",
      "Attaching package: ‘dplyr’\n",
      "\n",
      "The following objects are masked from ‘package:stats’:\n",
      "\n",
      "    filter, lag\n",
      "\n",
      "The following objects are masked from ‘package:base’:\n",
      "\n",
      "    intersect, setdiff, setequal, union\n",
      "\n",
      "Registered S3 methods overwritten by 'ggplot2':\n",
      "  method         from \n",
      "  [.quosures     rlang\n",
      "  c.quosures     rlang\n",
      "  print.quosures rlang\n"
     ]
    }
   ],
   "source": [
    "# load the dypyr and ggplot2 packages\n",
    "library('dplyr')\n",
    "library('ggplot2')\n",
    "\n",
    "# Resizes all plots to 5 in by 4 in\n",
    "library(repr)\n",
    "options(repr.plot.width=5, repr.plot.height=4)"
   ]
  },
  {
   "cell_type": "markdown",
   "metadata": {},
   "source": [
    "#### Generate plot of models"
   ]
  },
  {
   "cell_type": "code",
   "execution_count": 5,
   "metadata": {},
   "outputs": [],
   "source": [
    "# Data frame with three models for tiling the xy-plane\n",
    "models <- data.frame(\n",
    "    model = factor(c(\n",
    "        rep(1,2),\n",
    "        rep(2,2),\n",
    "        rep(3,4)\n",
    "    )),\n",
    "    h = c(\n",
    "        rep(2.5,2),\n",
    "        c(1.5,1),\n",
    "        rep(c(1.5,1), each=2)\n",
    "    ), \n",
    "    w = c(\n",
    "        c(6,4),\n",
    "        rep(10, 2),\n",
    "        rep(c(6,4), 2)\n",
    "    ),\n",
    "    x = c(\n",
    "        c(3,8),\n",
    "        rep(6,2),\n",
    "        rep(c(3, 8), 2)\n",
    "    ),\n",
    "    y = c(\n",
    "        rep(1.25, 2),\n",
    "        c(0.75, 2),\n",
    "        rep(c(0.75, 2), each= 2)\n",
    "    ),\n",
    "    z = factor(c(\n",
    "        c(0,1),\n",
    "        c(1,0),\n",
    "        c(0,1,1,0)\n",
    "    ))\n",
    ")"
   ]
  },
  {
   "cell_type": "code",
   "execution_count": 29,
   "metadata": {},
   "outputs": [],
   "source": [
    "# function for gernating plots from model data\n",
    "plot_generator <- function(data_frame, df_name) {\n",
    "    cbPalette <- c('grey80', 'grey30')\n",
    "    \n",
    "    my_plot <- ggplot(data_frame, aes(x, y, width = w, height=h)) +\n",
    "        geom_tile(aes(fill = z), color='grey80') +\n",
    "        scale_fill_manual(\n",
    "            name = 'Special?',\n",
    "            values = cbPalette,\n",
    "            labels = c('No', 'Yes')\n",
    "        ) +\n",
    "        scale_x_continuous(breaks = seq(0, 10, by = 1)) +\n",
    "        scale_y_continuous(breaks = seq(0, 2.5, by = 0.5)) +\n",
    "        labs(title=paste('Visual representation of', df_name))+\n",
    "        theme_classic() +\n",
    "        theme(\n",
    "            panel.grid.major = element_line(color=\"grey80\"),\n",
    "            text = element_text(size = 4)\n",
    "        )\n",
    "    return(my_plot)\n",
    "}"
   ]
  },
  {
   "cell_type": "code",
   "execution_count": 35,
   "metadata": {},
   "outputs": [
    {
     "data": {
      "image/png": "[encoded data removed]",
      "text/plain": [
       "plot without title"
      ]
     },
     "metadata": {
      "image/png": {
       "height": 240,
       "width": 300
      }
     },
     "output_type": "display_data"
    }
   ],
   "source": [
    "plot_generator(\n",
    "        filter(models, model == 1), \n",
    "        paste('model', 1)\n",
    "    )\n",
    "\n",
    "\n"
   ]
  },
  {
   "cell_type": "code",
   "execution_count": 34,
   "metadata": {},
   "outputs": [],
   "source": [
    "for (i in 1:3) {\n",
    "    ggsave(\n",
    "        paste0(getwd(), '/images/L10_model_', i, '_plot.png'),\n",
    "        plot_generator(\n",
    "            filter(models, model == i), \n",
    "            paste('model', i)\n",
    "        ),\n",
    "        width=4,\n",
    "        height=3,\n",
    "        scale=0.4\n",
    "    )\n",
    "}"
   ]
  },
  {
   "cell_type": "code",
   "execution_count": 13,
   "metadata": {},
   "outputs": [],
   "source": [
    "?ggsave"
   ]
  },
  {
   "cell_type": "code",
   "execution_count": null,
   "metadata": {},
   "outputs": [],
   "source": []
  }
 ],
 "metadata": {
  "celltoolbar": "Attachments",
  "kernelspec": {
   "display_name": "R [conda env:FDTD]",
   "language": "R",
   "name": "conda-env-FDTD-r"
  },
  "language_info": {
   "codemirror_mode": "r",
   "file_extension": ".r",
   "mimetype": "text/x-r-source",
   "name": "R",
   "pygments_lexer": "r",
   "version": "4.0.3"
  }
 },
 "nbformat": 4,
 "nbformat_minor": 4
}
