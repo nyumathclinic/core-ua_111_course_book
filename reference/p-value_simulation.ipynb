{
 "cells": [
  {
   "cell_type": "markdown",
   "metadata": {},
   "source": [
    "(pvalue)=\n",
    "# p-value from simulation"
   ]
  },
  {
   "cell_type": "markdown",
   "metadata": {},
   "source": [
    "## New York City Jury Demographics"
   ]
  },
  {
   "cell_type": "markdown",
   "metadata": {},
   "source": [
    "The goal of the following simulation is to determine whether the difference between NYC jury demographics in 2007 and those recorded in the 2000 US could be due to randomness.\n",
    "\n",
    "Sources:\n",
    "+ https://ppefny.org/2007/06/racial-and-ethnic-disparity-in-manhattan-jury-pools-results-of-a-survey-and-suggestions-for-reform/474\n",
    "+ https://ppefny.org/wp-content/uploads/2007/06/200706RJJuryPoolStudy.pdf\n",
    "\n",
    "*Note:* The methodology of this survey has significant flaws:\n",
    "\"Our researchers simply noted the apparent race and apparent Hispanic status of each prospective juror in each jury assembly room and tallied the results.\"\n",
    "\n",
    "Other reading/references: https://www.nytimes.com/2007/06/27/nyregion/27jurors.html"
   ]
  },
  {
   "cell_type": "markdown",
   "metadata": {},
   "source": [
    "### Step 1 - Demographics Distance\n",
    "\n",
    "- Create a `demographics` data frame that contains the racial and ethnic demographics NYC as recorded by the 2000 US census and those of the NYC Juries as reported by the 2007 survey cited below. "
   ]
  },
  {
   "cell_type": "code",
   "execution_count": null,
   "metadata": {},
   "outputs": [],
   "source": [
    "library(ggplot2)\n",
    "library(dplyr)"
   ]
  },
  {
   "cell_type": "code",
   "execution_count": 14,
   "metadata": {},
   "outputs": [
    {
     "data": {
      "text/html": [
       "<table class=\"dataframe\">\n",
       "<caption>A data.frame: 4 × 3</caption>\n",
       "<thead>\n",
       "\t<tr><th scope=col>group</th><th scope=col>census</th><th scope=col>jury_pool</th></tr>\n",
       "\t<tr><th scope=col>&lt;chr&gt;</th><th scope=col>&lt;dbl&gt;</th><th scope=col>&lt;dbl&gt;</th></tr>\n",
       "</thead>\n",
       "<tbody>\n",
       "\t<tr><td>asian</td><td> 9.5</td><td> 6.5</td></tr>\n",
       "\t<tr><td>black</td><td>17.4</td><td>10.1</td></tr>\n",
       "\t<tr><td>other</td><td>18.8</td><td> 5.7</td></tr>\n",
       "\t<tr><td>white</td><td>54.4</td><td>77.7</td></tr>\n",
       "</tbody>\n",
       "</table>\n"
      ],
      "text/latex": [
       "A data.frame: 4 × 3\n",
       "\\begin{tabular}{lll}\n",
       " group & census & jury\\_pool\\\\\n",
       " <chr> & <dbl> & <dbl>\\\\\n",
       "\\hline\n",
       "\t asian &  9.5 &  6.5\\\\\n",
       "\t black & 17.4 & 10.1\\\\\n",
       "\t other & 18.8 &  5.7\\\\\n",
       "\t white & 54.4 & 77.7\\\\\n",
       "\\end{tabular}\n"
      ],
      "text/markdown": [
       "\n",
       "A data.frame: 4 × 3\n",
       "\n",
       "| group &lt;chr&gt; | census &lt;dbl&gt; | jury_pool &lt;dbl&gt; |\n",
       "|---|---|---|\n",
       "| asian |  9.5 |  6.5 |\n",
       "| black | 17.4 | 10.1 |\n",
       "| other | 18.8 |  5.7 |\n",
       "| white | 54.4 | 77.7 |\n",
       "\n"
      ],
      "text/plain": [
       "  group census jury_pool\n",
       "1 asian  9.5    6.5     \n",
       "2 black 17.4   10.1     \n",
       "3 other 18.8    5.7     \n",
       "4 white 54.4   77.7     "
      ]
     },
     "metadata": {},
     "output_type": "display_data"
    }
   ],
   "source": [
    "demographics <- data.frame(\n",
    "    group = c('white', 'black', 'asian', 'other'),\n",
    "    census = c(54.4, 17.4, 9.5, 18.8), \n",
    "    jury_pool = c(77.7, 10.1, 6.5, 5.7)\n",
    "    ) %>%\n",
    "    arrange(group)\n",
    "demographics"
   ]
  },
  {
   "cell_type": "markdown",
   "metadata": {},
   "source": [
    "## Step 2: Compute the observed distance\n",
    "\n",
    "- Compute the distance between the jury pool demographics and those recored in by the census. "
   ]
  },
  {
   "cell_type": "code",
   "execution_count": 27,
   "metadata": {},
   "outputs": [
    {
     "data": {
      "text/html": [
       "46.7"
      ],
      "text/latex": [
       "46.7"
      ],
      "text/markdown": [
       "46.7"
      ],
      "text/plain": [
       "[1] 46.7"
      ]
     },
     "metadata": {},
     "output_type": "display_data"
    }
   ],
   "source": [
    "# compute distances\n",
    "demographics <- mutate(demographics, difference = census - jury_pool)\n",
    "observed_distance <- sum(abs(demographics$difference))\n",
    "observed_distance"
   ]
  },
  {
   "cell_type": "markdown",
   "metadata": {},
   "source": [
    "The distance is not zero. The question is whether or not this is due to randomness."
   ]
  },
  {
   "cell_type": "markdown",
   "metadata": {},
   "source": [
    "## Step 3: Run simulation"
   ]
  },
  {
   "cell_type": "markdown",
   "metadata": {},
   "source": [
    " - Simulate randomly choosing 100 people for a jury pool 1000 times. "
   ]
  },
  {
   "cell_type": "code",
   "execution_count": 23,
   "metadata": {},
   "outputs": [
    {
     "data": {
      "text/html": [
       "100000"
      ],
      "text/latex": [
       "100000"
      ],
      "text/markdown": [
       "100000"
      ],
      "text/plain": [
       "[1] 100000"
      ]
     },
     "metadata": {},
     "output_type": "display_data"
    },
    {
     "data": {
      "text/html": [
       "1000"
      ],
      "text/latex": [
       "1000"
      ],
      "text/markdown": [
       "1000"
      ],
      "text/plain": [
       "[1] 1000"
      ]
     },
     "metadata": {},
     "output_type": "display_data"
    }
   ],
   "source": [
    "# simulation\n",
    "num_simulations <- 1000\n",
    "pool_size <-  100 # using \"pool\" instead of \"trial\" due to context\n",
    "total_samples <- num_simulations * pool_size\n",
    "\n",
    "all_samples <- demographics %>%\n",
    "    select(group) %>% # reduce memory use by selecting the relavant column\n",
    "    sample_n( \n",
    "                total_samples, \n",
    "                replace = TRUE,\n",
    "                weight = demographics$census/100 # proportions\n",
    "    ) %>%\n",
    "    mutate(\n",
    "        pool = rep(1:num_simulations, each = pool_size)\n",
    "    )\n",
    "    \n",
    "nrow(all_samples) # check that there are 100,000 samples\n",
    "max(all_samples$pool) # check that max pool number is 1000"
   ]
  },
  {
   "cell_type": "markdown",
   "metadata": {},
   "source": [
    "## Step 4: Analyze the simulation"
   ]
  },
  {
   "cell_type": "markdown",
   "metadata": {},
   "source": [
    "- Create a summary table that has a row for each pool in the simulation and shows the percentage of jurors in each pool that belong to each racial group. \n",
    "- Compute the distance between the demographics of each simulated jury pool and those of the census."
   ]
  },
  {
   "cell_type": "code",
   "execution_count": 47,
   "metadata": {},
   "outputs": [
    {
     "data": {
      "text/html": [
       "<style>\n",
       ".list-inline {list-style: none; margin:0; padding: 0}\n",
       ".list-inline>li {display: inline-block}\n",
       ".list-inline>li:not(:last-child)::after {content: \"\\00b7\"; padding: 0 .5ex}\n",
       "</style>\n",
       "<ol class=list-inline><li>'asian'</li><li>'black'</li><li>'other'</li><li>'white'</li></ol>\n"
      ],
      "text/latex": [
       "\\begin{enumerate*}\n",
       "\\item 'asian'\n",
       "\\item 'black'\n",
       "\\item 'other'\n",
       "\\item 'white'\n",
       "\\end{enumerate*}\n"
      ],
      "text/markdown": [
       "1. 'asian'\n",
       "2. 'black'\n",
       "3. 'other'\n",
       "4. 'white'\n",
       "\n",
       "\n"
      ],
      "text/plain": [
       "[1] \"asian\" \"black\" \"other\" \"white\""
      ]
     },
     "metadata": {},
     "output_type": "display_data"
    }
   ],
   "source": [
    "# Recall order of racial groups\n",
    "demographics$group"
   ]
  },
  {
   "cell_type": "code",
   "execution_count": 37,
   "metadata": {},
   "outputs": [
    {
     "data": {
      "text/html": [
       "<table class=\"dataframe\">\n",
       "<caption>A tibble: 3 × 6</caption>\n",
       "<thead>\n",
       "\t<tr><th scope=col>pool</th><th scope=col>perc_asian</th><th scope=col>perc_black</th><th scope=col>perc_other</th><th scope=col>perc_white</th><th scope=col>distance</th></tr>\n",
       "\t<tr><th scope=col>&lt;int&gt;</th><th scope=col>&lt;dbl&gt;</th><th scope=col>&lt;dbl&gt;</th><th scope=col>&lt;dbl&gt;</th><th scope=col>&lt;dbl&gt;</th><th scope=col>&lt;dbl&gt;</th></tr>\n",
       "</thead>\n",
       "<tbody>\n",
       "\t<tr><td>1</td><td>15</td><td>13</td><td>14</td><td>58</td><td>18.3</td></tr>\n",
       "\t<tr><td>2</td><td>10</td><td>10</td><td>21</td><td>59</td><td>14.7</td></tr>\n",
       "\t<tr><td>3</td><td>13</td><td>16</td><td>12</td><td>59</td><td>16.3</td></tr>\n",
       "</tbody>\n",
       "</table>\n"
      ],
      "text/latex": [
       "A tibble: 3 × 6\n",
       "\\begin{tabular}{llllll}\n",
       " pool & perc\\_asian & perc\\_black & perc\\_other & perc\\_white & distance\\\\\n",
       " <int> & <dbl> & <dbl> & <dbl> & <dbl> & <dbl>\\\\\n",
       "\\hline\n",
       "\t 1 & 15 & 13 & 14 & 58 & 18.3\\\\\n",
       "\t 2 & 10 & 10 & 21 & 59 & 14.7\\\\\n",
       "\t 3 & 13 & 16 & 12 & 59 & 16.3\\\\\n",
       "\\end{tabular}\n"
      ],
      "text/markdown": [
       "\n",
       "A tibble: 3 × 6\n",
       "\n",
       "| pool &lt;int&gt; | perc_asian &lt;dbl&gt; | perc_black &lt;dbl&gt; | perc_other &lt;dbl&gt; | perc_white &lt;dbl&gt; | distance &lt;dbl&gt; |\n",
       "|---|---|---|---|---|---|\n",
       "| 1 | 15 | 13 | 14 | 58 | 18.3 |\n",
       "| 2 | 10 | 10 | 21 | 59 | 14.7 |\n",
       "| 3 | 13 | 16 | 12 | 59 | 16.3 |\n",
       "\n"
      ],
      "text/plain": [
       "  pool perc_asian perc_black perc_other perc_white distance\n",
       "1 1    15         13         14         58         18.3    \n",
       "2 2    10         10         21         59         14.7    \n",
       "3 3    13         16         12         59         16.3    "
      ]
     },
     "metadata": {},
     "output_type": "display_data"
    }
   ],
   "source": [
    "# proportions\n",
    "proportions <- all_samples %>%\n",
    "    group_by(pool) %>%\n",
    "    summarize( # compute percentages for each pool\n",
    "        perc_asian = mean(group=='asian')*100,\n",
    "        perc_black = mean(group=='black')*100,\n",
    "        perc_other = mean(group=='other')*100,\n",
    "        perc_white = mean(group=='white')*100\n",
    "    ) %>%\n",
    "    mutate( # compute the distance between each pool and the census\n",
    "        distance =\n",
    "            abs(perc_asian - demographics$census[1]) +\n",
    "            abs(perc_black - demographics$census[2]) +\n",
    "            abs(perc_other - demographics$census[3]) +\n",
    "            abs(perc_white - demographics$census[4])\n",
    "    )\n",
    "\n",
    "head(proportions, 3)"
   ]
  },
  {
   "cell_type": "code",
   "execution_count": 39,
   "metadata": {},
   "outputs": [
    {
     "data": {
      "text/html": [
       "1.5"
      ],
      "text/latex": [
       "1.5"
      ],
      "text/markdown": [
       "1.5"
      ],
      "text/plain": [
       "[1] 1.5"
      ]
     },
     "metadata": {},
     "output_type": "display_data"
    },
    {
     "data": {
      "text/html": [
       "37.3"
      ],
      "text/latex": [
       "37.3"
      ],
      "text/markdown": [
       "37.3"
      ],
      "text/plain": [
       "[1] 37.3"
      ]
     },
     "metadata": {},
     "output_type": "display_data"
    }
   ],
   "source": [
    "# Range of differences\n",
    "min(proportions$distance)\n",
    "max(proportions$distance)"
   ]
  },
  {
   "cell_type": "markdown",
   "metadata": {},
   "source": [
    "Randomness leads to a variety of different distances."
   ]
  },
  {
   "cell_type": "markdown",
   "metadata": {},
   "source": [
    "## Step 5: Find the p-value"
   ]
  },
  {
   "cell_type": "markdown",
   "metadata": {},
   "source": [
    "The p-value is the proportion of simulations that are further from the hypothesis (census demographics) than the observed data. "
   ]
  },
  {
   "cell_type": "code",
   "execution_count": 48,
   "metadata": {
    "scrolled": true
   },
   "outputs": [
    {
     "data": {
      "text/html": [
       "0"
      ],
      "text/latex": [
       "0"
      ],
      "text/markdown": [
       "0"
      ],
      "text/plain": [
       "[1] 0"
      ]
     },
     "metadata": {},
     "output_type": "display_data"
    }
   ],
   "source": [
    "p_value <- mean(proportions$distance > observed_distance)\n",
    "p_value"
   ]
  },
  {
   "cell_type": "markdown",
   "metadata": {},
   "source": [
    "0% of the simulations have are further from the census data than the actual jury pools."
   ]
  },
  {
   "cell_type": "code",
   "execution_count": 49,
   "metadata": {},
   "outputs": [
    {
     "data": {
      "image/png": "[encoded data removed]",
      "text/plain": [
       "plot without title"
      ]
     },
     "metadata": {
      "image/png": {
       "height": 420,
       "width": 420
      }
     },
     "output_type": "display_data"
    }
   ],
   "source": [
    "height <- 160\n",
    "\n",
    "ggplot( proportions, aes( x = distance)) + \n",
    "    geom_histogram( bins = 15, color='white', fill='grey60') +\n",
    "    geom_vline(aes(xintercept=observed_distance), color=\"red\", linetype=\"dashed\", size=1) +\n",
    "    geom_text(aes(x=observed_distance, \n",
    "                  label=paste0('Distance between actual \\n data and simulation = ',round(observed_distance,2)), \n",
    "                  y=height), \n",
    "              color=\"red\", hjust = 1, vjust=1, size = 6) +\n",
    "    labs(title='1000 simulated jury pools',\n",
    "        x = 'Distance to census'\n",
    "        y = 'Number of simuulated jury pools'\n",
    "        ) +\n",
    "    theme_classic(base_size = 18)"
   ]
  },
  {
   "cell_type": "markdown",
   "metadata": {},
   "source": [
    "p-value is significantly less than 0.05, so we conclude that the difference been the jury demographics and the census demographics is **not due to randomness**."
   ]
  }
 ],
 "metadata": {
  "kernelspec": {
   "display_name": "R",
   "language": "R",
   "name": "ir"
  },
  "language_info": {
   "codemirror_mode": "r",
   "file_extension": ".r",
   "mimetype": "text/x-r-source",
   "name": "R",
   "pygments_lexer": "r",
   "version": "4.0.5"
  }
 },
 "nbformat": 4,
 "nbformat_minor": 4
}
