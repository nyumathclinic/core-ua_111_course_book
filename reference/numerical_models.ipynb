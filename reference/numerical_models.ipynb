{
 "cells": [
  {
   "cell_type": "markdown",
   "id": "26a7783b",
   "metadata": {},
   "source": [
    "# Numeric Models"
   ]
  },
  {
   "cell_type": "code",
   "execution_count": 44,
   "id": "9844dc21",
   "metadata": {},
   "outputs": [],
   "source": [
    "library(dplyr)\n",
    "library(ggplot2)\n",
    "library(tidyr) # you do not need to use this."
   ]
  },
  {
   "cell_type": "markdown",
   "id": "ba6690fe",
   "metadata": {},
   "source": [
    "### Scientific notation in R"
   ]
  },
  {
   "cell_type": "markdown",
   "id": "53115607",
   "metadata": {},
   "source": [
    "R uses scientific notation to denote both very large and very small numbers."
   ]
  },
  {
   "cell_type": "code",
   "execution_count": 4,
   "id": "988cde53",
   "metadata": {},
   "outputs": [
    {
     "data": {
      "text/html": [
       "1e+17"
      ],
      "text/latex": [
       "1e+17"
      ],
      "text/markdown": [
       "1e+17"
      ],
      "text/plain": [
       "[1] 1e+17"
      ]
     },
     "metadata": {},
     "output_type": "display_data"
    }
   ],
   "source": [
    "10^17"
   ]
  },
  {
   "cell_type": "code",
   "execution_count": 6,
   "id": "bcd2e8a3",
   "metadata": {},
   "outputs": [
    {
     "data": {
      "text/html": [
       "1e-17"
      ],
      "text/latex": [
       "1e-17"
      ],
      "text/markdown": [
       "1e-17"
      ],
      "text/plain": [
       "[1] 1e-17"
      ]
     },
     "metadata": {},
     "output_type": "display_data"
    }
   ],
   "source": [
    "1/10^17"
   ]
  },
  {
   "cell_type": "markdown",
   "id": "3ad294a6",
   "metadata": {},
   "source": [
    "<div class=\"admonition warning\" name=\"html-admonition\">\n",
    "<div class=\"title\" style=\"background: pink; padding: 10px\">Warning</div>\n",
    "    <p>The 'e' used <code>1e+17</code> is not $e$, the base of the natural logarithm. Rather, it indicates the start of the <i>exponent</i> that should be applied to the number 10. </p>\n",
    "</div>"
   ]
  },
  {
   "cell_type": "code",
   "execution_count": 7,
   "id": "7d848762",
   "metadata": {},
   "outputs": [
    {
     "data": {
      "text/html": [
       "0.03"
      ],
      "text/latex": [
       "0.03"
      ],
      "text/markdown": [
       "0.03"
      ],
      "text/plain": [
       "[1] 0.03"
      ]
     },
     "metadata": {},
     "output_type": "display_data"
    }
   ],
   "source": [
    "3e-2"
   ]
  },
  {
   "cell_type": "code",
   "execution_count": 8,
   "id": "320cde07",
   "metadata": {
    "scrolled": true
   },
   "outputs": [
    {
     "data": {
      "text/html": [
       "0.03"
      ],
      "text/latex": [
       "0.03"
      ],
      "text/markdown": [
       "0.03"
      ],
      "text/plain": [
       "[1] 0.03"
      ]
     },
     "metadata": {},
     "output_type": "display_data"
    }
   ],
   "source": [
    "3*10^(-2)"
   ]
  },
  {
   "cell_type": "markdown",
   "id": "bd08cba2",
   "metadata": {},
   "source": [
    "When we check our models against manual computations, we will get differences that are very close but not quite zero. Difference from zero is due to rounding errors. "
   ]
  },
  {
   "cell_type": "markdown",
   "id": "e17fc762",
   "metadata": {},
   "source": [
    "## Linear models"
   ]
  },
  {
   "cell_type": "code",
   "execution_count": 131,
   "id": "83f848b4",
   "metadata": {},
   "outputs": [
    {
     "data": {
      "image/png": "[encoded data removed]",
      "text/plain": [
       "plot without title"
      ]
     },
     "metadata": {
      "image/png": {
       "height": 420,
       "width": 420
      }
     },
     "output_type": "display_data"
    }
   ],
   "source": [
    "Diet4 <- filter(ChickWeight, Diet == 4)\n",
    "plot1 <- ggplot(Diet4, aes(x = Time, y = weight)) +\n",
    "    geom_point() + \n",
    "    labs(x = 'Time (days)', y= 'Weight (gm)')+\n",
    "    theme_bw() +\n",
    "    theme(text = element_text(size=20))\n",
    "plot1"
   ]
  },
  {
   "cell_type": "code",
   "execution_count": 132,
   "id": "572b5c5a",
   "metadata": {},
   "outputs": [
    {
     "data": {
      "text/plain": [
       "\n",
       "Call:\n",
       "lm(formula = weight ~ Time, data = Diet4)\n",
       "\n",
       "Coefficients:\n",
       "(Intercept)         Time  \n",
       "     30.792        9.714  \n"
      ]
     },
     "metadata": {},
     "output_type": "display_data"
    }
   ],
   "source": [
    "linear <- lm(formula = weight ~ Time, data = Diet4) # weight as linear func of time\n",
    "linear"
   ]
  },
  {
   "cell_type": "code",
   "execution_count": 133,
   "id": "ca7cee4f",
   "metadata": {},
   "outputs": [
    {
     "data": {
      "text/html": [
       "30.7921195068004"
      ],
      "text/latex": [
       "30.7921195068004"
      ],
      "text/markdown": [
       "30.7921195068004"
      ],
      "text/plain": [
       "[1] 30.79212"
      ]
     },
     "metadata": {},
     "output_type": "display_data"
    },
    {
     "data": {
      "text/html": [
       "9.71436556201541"
      ],
      "text/latex": [
       "9.71436556201541"
      ],
      "text/markdown": [
       "9.71436556201541"
      ],
      "text/plain": [
       "[1] 9.714366"
      ]
     },
     "metadata": {},
     "output_type": "display_data"
    }
   ],
   "source": [
    "C <- linear$coefficients[[1]] # intercept\n",
    "A <- linear$coefficients[[2]] # slope\n",
    "C\n",
    "A"
   ]
  },
  {
   "cell_type": "code",
   "execution_count": 134,
   "id": "f958f842",
   "metadata": {},
   "outputs": [
    {
     "data": {
      "text/html": [
       "TRUE"
      ],
      "text/latex": [
       "TRUE"
      ],
      "text/markdown": [
       "TRUE"
      ],
      "text/plain": [
       "[1] TRUE"
      ]
     },
     "metadata": {},
     "output_type": "display_data"
    },
    {
     "data": {
      "text/html": [
       "TRUE"
      ],
      "text/latex": [
       "TRUE"
      ],
      "text/markdown": [
       "TRUE"
      ],
      "text/plain": [
       "[1] TRUE"
      ]
     },
     "metadata": {},
     "output_type": "display_data"
    }
   ],
   "source": [
    "w <- function(t){\n",
    "   A*t + C\n",
    "}\n",
    "\n",
    "# test values\n",
    "w(0) == C\n",
    "w(1) == A + C\n",
    "\n",
    "# w(t) = predicted weight on day t"
   ]
  },
  {
   "cell_type": "code",
   "execution_count": 135,
   "id": "b92545d7",
   "metadata": {},
   "outputs": [
    {
     "data": {
      "text/html": [
       "<style>\n",
       ".dl-inline {width: auto; margin:0; padding: 0}\n",
       ".dl-inline>dt, .dl-inline>dd {float: none; width: auto; display: inline-block}\n",
       ".dl-inline>dt::after {content: \":\\0020\"; padding-right: .5ex}\n",
       ".dl-inline>dt:not(:first-of-type) {padding-left: .5ex}\n",
       "</style><dl class=dl-inline><dt>1</dt><dd>-5.82645043323282e-13</dd><dt>2</dt><dd>-1.84741111297626e-13</dd><dt>3</dt><dd>-4.2632564145606e-14</dd><dt>4</dt><dd>-4.2632564145606e-14</dd><dt>5</dt><dd>-2.8421709430404e-14</dd><dt>6</dt><dd>-4.2632564145606e-14</dd><dt>7</dt><dd>-2.8421709430404e-14</dd><dt>8</dt><dd>0</dd><dt>9</dt><dd>-2.8421709430404e-14</dd><dt>10</dt><dd>-2.8421709430404e-14</dd><dt>11</dt><dd>-2.8421709430404e-14</dd><dt>12</dt><dd>-2.8421709430404e-14</dd><dt>13</dt><dd>-4.2632564145606e-14</dd><dt>14</dt><dd>-2.8421709430404e-14</dd><dt>15</dt><dd>-2.8421709430404e-14</dd><dt>16</dt><dd>-4.2632564145606e-14</dd><dt>17</dt><dd>-2.8421709430404e-14</dd><dt>18</dt><dd>-4.2632564145606e-14</dd><dt>19</dt><dd>-2.8421709430404e-14</dd><dt>20</dt><dd>0</dd><dt>21</dt><dd>-2.8421709430404e-14</dd><dt>22</dt><dd>-2.8421709430404e-14</dd><dt>23</dt><dd>-2.8421709430404e-14</dd><dt>24</dt><dd>-2.8421709430404e-14</dd><dt>25</dt><dd>-4.2632564145606e-14</dd><dt>26</dt><dd>-2.8421709430404e-14</dd><dt>27</dt><dd>-4.2632564145606e-14</dd><dt>28</dt><dd>-4.2632564145606e-14</dd><dt>29</dt><dd>-2.8421709430404e-14</dd><dt>30</dt><dd>-4.2632564145606e-14</dd><dt>31</dt><dd>-2.8421709430404e-14</dd><dt>32</dt><dd>0</dd><dt>33</dt><dd>-2.8421709430404e-14</dd><dt>34</dt><dd>-2.8421709430404e-14</dd><dt>35</dt><dd>-2.8421709430404e-14</dd><dt>36</dt><dd>-2.8421709430404e-14</dd><dt>37</dt><dd>-4.2632564145606e-14</dd><dt>38</dt><dd>-2.8421709430404e-14</dd><dt>39</dt><dd>-4.2632564145606e-14</dd><dt>40</dt><dd>-4.2632564145606e-14</dd><dt>41</dt><dd>-2.8421709430404e-14</dd><dt>42</dt><dd>-4.2632564145606e-14</dd><dt>43</dt><dd>-2.8421709430404e-14</dd><dt>44</dt><dd>0</dd><dt>45</dt><dd>-2.8421709430404e-14</dd><dt>46</dt><dd>-2.8421709430404e-14</dd><dt>47</dt><dd>-4.2632564145606e-14</dd><dt>48</dt><dd>-2.8421709430404e-14</dd><dt>49</dt><dd>-2.8421709430404e-14</dd><dt>50</dt><dd>-4.2632564145606e-14</dd><dt>51</dt><dd>-2.8421709430404e-14</dd><dt>52</dt><dd>-4.2632564145606e-14</dd><dt>53</dt><dd>-2.8421709430404e-14</dd><dt>54</dt><dd>0</dd><dt>55</dt><dd>-2.8421709430404e-14</dd><dt>56</dt><dd>-2.8421709430404e-14</dd><dt>57</dt><dd>-2.8421709430404e-14</dd><dt>58</dt><dd>-2.8421709430404e-14</dd><dt>59</dt><dd>-4.2632564145606e-14</dd><dt>60</dt><dd>-2.8421709430404e-14</dd><dt>61</dt><dd>-2.8421709430404e-14</dd><dt>62</dt><dd>-4.2632564145606e-14</dd><dt>63</dt><dd>-2.8421709430404e-14</dd><dt>64</dt><dd>-4.2632564145606e-14</dd><dt>65</dt><dd>-2.8421709430404e-14</dd><dt>66</dt><dd>0</dd><dt>67</dt><dd>-2.8421709430404e-14</dd><dt>68</dt><dd>-2.8421709430404e-14</dd><dt>69</dt><dd>-2.8421709430404e-14</dd><dt>70</dt><dd>-2.8421709430404e-14</dd><dt>71</dt><dd>-4.2632564145606e-14</dd><dt>72</dt><dd>-2.8421709430404e-14</dd><dt>73</dt><dd>-4.2632564145606e-14</dd><dt>74</dt><dd>-4.2632564145606e-14</dd><dt>75</dt><dd>-2.8421709430404e-14</dd><dt>76</dt><dd>-4.2632564145606e-14</dd><dt>77</dt><dd>-2.8421709430404e-14</dd><dt>78</dt><dd>0</dd><dt>79</dt><dd>-2.8421709430404e-14</dd><dt>80</dt><dd>-2.8421709430404e-14</dd><dt>81</dt><dd>-2.8421709430404e-14</dd><dt>82</dt><dd>-2.8421709430404e-14</dd><dt>83</dt><dd>-4.2632564145606e-14</dd><dt>84</dt><dd>-2.8421709430404e-14</dd><dt>85</dt><dd>-2.8421709430404e-14</dd><dt>86</dt><dd>-4.2632564145606e-14</dd><dt>87</dt><dd>-2.8421709430404e-14</dd><dt>88</dt><dd>-4.2632564145606e-14</dd><dt>89</dt><dd>-2.8421709430404e-14</dd><dt>90</dt><dd>0</dd><dt>91</dt><dd>-2.8421709430404e-14</dd><dt>92</dt><dd>-2.8421709430404e-14</dd><dt>93</dt><dd>-2.8421709430404e-14</dd><dt>94</dt><dd>-2.8421709430404e-14</dd><dt>95</dt><dd>-4.2632564145606e-14</dd><dt>96</dt><dd>-2.8421709430404e-14</dd><dt>97</dt><dd>-4.2632564145606e-14</dd><dt>98</dt><dd>-4.2632564145606e-14</dd><dt>99</dt><dd>-2.8421709430404e-14</dd><dt>100</dt><dd>-4.2632564145606e-14</dd><dt>101</dt><dd>-2.8421709430404e-14</dd><dt>102</dt><dd>0</dd><dt>103</dt><dd>-2.8421709430404e-14</dd><dt>104</dt><dd>-2.8421709430404e-14</dd><dt>105</dt><dd>-2.8421709430404e-14</dd><dt>106</dt><dd>-2.8421709430404e-14</dd><dt>107</dt><dd>-4.2632564145606e-14</dd><dt>108</dt><dd>-2.8421709430404e-14</dd><dt>109</dt><dd>-4.2632564145606e-14</dd><dt>110</dt><dd>-4.2632564145606e-14</dd><dt>111</dt><dd>-2.8421709430404e-14</dd><dt>112</dt><dd>-4.2632564145606e-14</dd><dt>113</dt><dd>-2.8421709430404e-14</dd><dt>114</dt><dd>0</dd><dt>115</dt><dd>-2.8421709430404e-14</dd><dt>116</dt><dd>-2.8421709430404e-14</dd><dt>117</dt><dd>-2.8421709430404e-14</dd><dt>118</dt><dd>-2.8421709430404e-14</dd></dl>\n"
      ],
      "text/latex": [
       "\\begin{description*}\n",
       "\\item[1] -5.82645043323282e-13\n",
       "\\item[2] -1.84741111297626e-13\n",
       "\\item[3] -4.2632564145606e-14\n",
       "\\item[4] -4.2632564145606e-14\n",
       "\\item[5] -2.8421709430404e-14\n",
       "\\item[6] -4.2632564145606e-14\n",
       "\\item[7] -2.8421709430404e-14\n",
       "\\item[8] 0\n",
       "\\item[9] -2.8421709430404e-14\n",
       "\\item[10] -2.8421709430404e-14\n",
       "\\item[11] -2.8421709430404e-14\n",
       "\\item[12] -2.8421709430404e-14\n",
       "\\item[13] -4.2632564145606e-14\n",
       "\\item[14] -2.8421709430404e-14\n",
       "\\item[15] -2.8421709430404e-14\n",
       "\\item[16] -4.2632564145606e-14\n",
       "\\item[17] -2.8421709430404e-14\n",
       "\\item[18] -4.2632564145606e-14\n",
       "\\item[19] -2.8421709430404e-14\n",
       "\\item[20] 0\n",
       "\\item[21] -2.8421709430404e-14\n",
       "\\item[22] -2.8421709430404e-14\n",
       "\\item[23] -2.8421709430404e-14\n",
       "\\item[24] -2.8421709430404e-14\n",
       "\\item[25] -4.2632564145606e-14\n",
       "\\item[26] -2.8421709430404e-14\n",
       "\\item[27] -4.2632564145606e-14\n",
       "\\item[28] -4.2632564145606e-14\n",
       "\\item[29] -2.8421709430404e-14\n",
       "\\item[30] -4.2632564145606e-14\n",
       "\\item[31] -2.8421709430404e-14\n",
       "\\item[32] 0\n",
       "\\item[33] -2.8421709430404e-14\n",
       "\\item[34] -2.8421709430404e-14\n",
       "\\item[35] -2.8421709430404e-14\n",
       "\\item[36] -2.8421709430404e-14\n",
       "\\item[37] -4.2632564145606e-14\n",
       "\\item[38] -2.8421709430404e-14\n",
       "\\item[39] -4.2632564145606e-14\n",
       "\\item[40] -4.2632564145606e-14\n",
       "\\item[41] -2.8421709430404e-14\n",
       "\\item[42] -4.2632564145606e-14\n",
       "\\item[43] -2.8421709430404e-14\n",
       "\\item[44] 0\n",
       "\\item[45] -2.8421709430404e-14\n",
       "\\item[46] -2.8421709430404e-14\n",
       "\\item[47] -4.2632564145606e-14\n",
       "\\item[48] -2.8421709430404e-14\n",
       "\\item[49] -2.8421709430404e-14\n",
       "\\item[50] -4.2632564145606e-14\n",
       "\\item[51] -2.8421709430404e-14\n",
       "\\item[52] -4.2632564145606e-14\n",
       "\\item[53] -2.8421709430404e-14\n",
       "\\item[54] 0\n",
       "\\item[55] -2.8421709430404e-14\n",
       "\\item[56] -2.8421709430404e-14\n",
       "\\item[57] -2.8421709430404e-14\n",
       "\\item[58] -2.8421709430404e-14\n",
       "\\item[59] -4.2632564145606e-14\n",
       "\\item[60] -2.8421709430404e-14\n",
       "\\item[61] -2.8421709430404e-14\n",
       "\\item[62] -4.2632564145606e-14\n",
       "\\item[63] -2.8421709430404e-14\n",
       "\\item[64] -4.2632564145606e-14\n",
       "\\item[65] -2.8421709430404e-14\n",
       "\\item[66] 0\n",
       "\\item[67] -2.8421709430404e-14\n",
       "\\item[68] -2.8421709430404e-14\n",
       "\\item[69] -2.8421709430404e-14\n",
       "\\item[70] -2.8421709430404e-14\n",
       "\\item[71] -4.2632564145606e-14\n",
       "\\item[72] -2.8421709430404e-14\n",
       "\\item[73] -4.2632564145606e-14\n",
       "\\item[74] -4.2632564145606e-14\n",
       "\\item[75] -2.8421709430404e-14\n",
       "\\item[76] -4.2632564145606e-14\n",
       "\\item[77] -2.8421709430404e-14\n",
       "\\item[78] 0\n",
       "\\item[79] -2.8421709430404e-14\n",
       "\\item[80] -2.8421709430404e-14\n",
       "\\item[81] -2.8421709430404e-14\n",
       "\\item[82] -2.8421709430404e-14\n",
       "\\item[83] -4.2632564145606e-14\n",
       "\\item[84] -2.8421709430404e-14\n",
       "\\item[85] -2.8421709430404e-14\n",
       "\\item[86] -4.2632564145606e-14\n",
       "\\item[87] -2.8421709430404e-14\n",
       "\\item[88] -4.2632564145606e-14\n",
       "\\item[89] -2.8421709430404e-14\n",
       "\\item[90] 0\n",
       "\\item[91] -2.8421709430404e-14\n",
       "\\item[92] -2.8421709430404e-14\n",
       "\\item[93] -2.8421709430404e-14\n",
       "\\item[94] -2.8421709430404e-14\n",
       "\\item[95] -4.2632564145606e-14\n",
       "\\item[96] -2.8421709430404e-14\n",
       "\\item[97] -4.2632564145606e-14\n",
       "\\item[98] -4.2632564145606e-14\n",
       "\\item[99] -2.8421709430404e-14\n",
       "\\item[100] -4.2632564145606e-14\n",
       "\\item[101] -2.8421709430404e-14\n",
       "\\item[102] 0\n",
       "\\item[103] -2.8421709430404e-14\n",
       "\\item[104] -2.8421709430404e-14\n",
       "\\item[105] -2.8421709430404e-14\n",
       "\\item[106] -2.8421709430404e-14\n",
       "\\item[107] -4.2632564145606e-14\n",
       "\\item[108] -2.8421709430404e-14\n",
       "\\item[109] -4.2632564145606e-14\n",
       "\\item[110] -4.2632564145606e-14\n",
       "\\item[111] -2.8421709430404e-14\n",
       "\\item[112] -4.2632564145606e-14\n",
       "\\item[113] -2.8421709430404e-14\n",
       "\\item[114] 0\n",
       "\\item[115] -2.8421709430404e-14\n",
       "\\item[116] -2.8421709430404e-14\n",
       "\\item[117] -2.8421709430404e-14\n",
       "\\item[118] -2.8421709430404e-14\n",
       "\\end{description*}\n"
      ],
      "text/markdown": [
       "1\n",
       ":   -5.82645043323282e-132\n",
       ":   -1.84741111297626e-133\n",
       ":   -4.2632564145606e-144\n",
       ":   -4.2632564145606e-145\n",
       ":   -2.8421709430404e-146\n",
       ":   -4.2632564145606e-147\n",
       ":   -2.8421709430404e-148\n",
       ":   09\n",
       ":   -2.8421709430404e-1410\n",
       ":   -2.8421709430404e-1411\n",
       ":   -2.8421709430404e-1412\n",
       ":   -2.8421709430404e-1413\n",
       ":   -4.2632564145606e-1414\n",
       ":   -2.8421709430404e-1415\n",
       ":   -2.8421709430404e-1416\n",
       ":   -4.2632564145606e-1417\n",
       ":   -2.8421709430404e-1418\n",
       ":   -4.2632564145606e-1419\n",
       ":   -2.8421709430404e-1420\n",
       ":   021\n",
       ":   -2.8421709430404e-1422\n",
       ":   -2.8421709430404e-1423\n",
       ":   -2.8421709430404e-1424\n",
       ":   -2.8421709430404e-1425\n",
       ":   -4.2632564145606e-1426\n",
       ":   -2.8421709430404e-1427\n",
       ":   -4.2632564145606e-1428\n",
       ":   -4.2632564145606e-1429\n",
       ":   -2.8421709430404e-1430\n",
       ":   -4.2632564145606e-1431\n",
       ":   -2.8421709430404e-1432\n",
       ":   033\n",
       ":   -2.8421709430404e-1434\n",
       ":   -2.8421709430404e-1435\n",
       ":   -2.8421709430404e-1436\n",
       ":   -2.8421709430404e-1437\n",
       ":   -4.2632564145606e-1438\n",
       ":   -2.8421709430404e-1439\n",
       ":   -4.2632564145606e-1440\n",
       ":   -4.2632564145606e-1441\n",
       ":   -2.8421709430404e-1442\n",
       ":   -4.2632564145606e-1443\n",
       ":   -2.8421709430404e-1444\n",
       ":   045\n",
       ":   -2.8421709430404e-1446\n",
       ":   -2.8421709430404e-1447\n",
       ":   -4.2632564145606e-1448\n",
       ":   -2.8421709430404e-1449\n",
       ":   -2.8421709430404e-1450\n",
       ":   -4.2632564145606e-1451\n",
       ":   -2.8421709430404e-1452\n",
       ":   -4.2632564145606e-1453\n",
       ":   -2.8421709430404e-1454\n",
       ":   055\n",
       ":   -2.8421709430404e-1456\n",
       ":   -2.8421709430404e-1457\n",
       ":   -2.8421709430404e-1458\n",
       ":   -2.8421709430404e-1459\n",
       ":   -4.2632564145606e-1460\n",
       ":   -2.8421709430404e-1461\n",
       ":   -2.8421709430404e-1462\n",
       ":   -4.2632564145606e-1463\n",
       ":   -2.8421709430404e-1464\n",
       ":   -4.2632564145606e-1465\n",
       ":   -2.8421709430404e-1466\n",
       ":   067\n",
       ":   -2.8421709430404e-1468\n",
       ":   -2.8421709430404e-1469\n",
       ":   -2.8421709430404e-1470\n",
       ":   -2.8421709430404e-1471\n",
       ":   -4.2632564145606e-1472\n",
       ":   -2.8421709430404e-1473\n",
       ":   -4.2632564145606e-1474\n",
       ":   -4.2632564145606e-1475\n",
       ":   -2.8421709430404e-1476\n",
       ":   -4.2632564145606e-1477\n",
       ":   -2.8421709430404e-1478\n",
       ":   079\n",
       ":   -2.8421709430404e-1480\n",
       ":   -2.8421709430404e-1481\n",
       ":   -2.8421709430404e-1482\n",
       ":   -2.8421709430404e-1483\n",
       ":   -4.2632564145606e-1484\n",
       ":   -2.8421709430404e-1485\n",
       ":   -2.8421709430404e-1486\n",
       ":   -4.2632564145606e-1487\n",
       ":   -2.8421709430404e-1488\n",
       ":   -4.2632564145606e-1489\n",
       ":   -2.8421709430404e-1490\n",
       ":   091\n",
       ":   -2.8421709430404e-1492\n",
       ":   -2.8421709430404e-1493\n",
       ":   -2.8421709430404e-1494\n",
       ":   -2.8421709430404e-1495\n",
       ":   -4.2632564145606e-1496\n",
       ":   -2.8421709430404e-1497\n",
       ":   -4.2632564145606e-1498\n",
       ":   -4.2632564145606e-1499\n",
       ":   -2.8421709430404e-14100\n",
       ":   -4.2632564145606e-14101\n",
       ":   -2.8421709430404e-14102\n",
       ":   0103\n",
       ":   -2.8421709430404e-14104\n",
       ":   -2.8421709430404e-14105\n",
       ":   -2.8421709430404e-14106\n",
       ":   -2.8421709430404e-14107\n",
       ":   -4.2632564145606e-14108\n",
       ":   -2.8421709430404e-14109\n",
       ":   -4.2632564145606e-14110\n",
       ":   -4.2632564145606e-14111\n",
       ":   -2.8421709430404e-14112\n",
       ":   -4.2632564145606e-14113\n",
       ":   -2.8421709430404e-14114\n",
       ":   0115\n",
       ":   -2.8421709430404e-14116\n",
       ":   -2.8421709430404e-14117\n",
       ":   -2.8421709430404e-14118\n",
       ":   -2.8421709430404e-14\n",
       "\n"
      ],
      "text/plain": [
       "            1             2             3             4             5 \n",
       "-5.826450e-13 -1.847411e-13 -4.263256e-14 -4.263256e-14 -2.842171e-14 \n",
       "            6             7             8             9            10 \n",
       "-4.263256e-14 -2.842171e-14  0.000000e+00 -2.842171e-14 -2.842171e-14 \n",
       "           11            12            13            14            15 \n",
       "-2.842171e-14 -2.842171e-14 -4.263256e-14 -2.842171e-14 -2.842171e-14 \n",
       "           16            17            18            19            20 \n",
       "-4.263256e-14 -2.842171e-14 -4.263256e-14 -2.842171e-14  0.000000e+00 \n",
       "           21            22            23            24            25 \n",
       "-2.842171e-14 -2.842171e-14 -2.842171e-14 -2.842171e-14 -4.263256e-14 \n",
       "           26            27            28            29            30 \n",
       "-2.842171e-14 -4.263256e-14 -4.263256e-14 -2.842171e-14 -4.263256e-14 \n",
       "           31            32            33            34            35 \n",
       "-2.842171e-14  0.000000e+00 -2.842171e-14 -2.842171e-14 -2.842171e-14 \n",
       "           36            37            38            39            40 \n",
       "-2.842171e-14 -4.263256e-14 -2.842171e-14 -4.263256e-14 -4.263256e-14 \n",
       "           41            42            43            44            45 \n",
       "-2.842171e-14 -4.263256e-14 -2.842171e-14  0.000000e+00 -2.842171e-14 \n",
       "           46            47            48            49            50 \n",
       "-2.842171e-14 -4.263256e-14 -2.842171e-14 -2.842171e-14 -4.263256e-14 \n",
       "           51            52            53            54            55 \n",
       "-2.842171e-14 -4.263256e-14 -2.842171e-14  0.000000e+00 -2.842171e-14 \n",
       "           56            57            58            59            60 \n",
       "-2.842171e-14 -2.842171e-14 -2.842171e-14 -4.263256e-14 -2.842171e-14 \n",
       "           61            62            63            64            65 \n",
       "-2.842171e-14 -4.263256e-14 -2.842171e-14 -4.263256e-14 -2.842171e-14 \n",
       "           66            67            68            69            70 \n",
       " 0.000000e+00 -2.842171e-14 -2.842171e-14 -2.842171e-14 -2.842171e-14 \n",
       "           71            72            73            74            75 \n",
       "-4.263256e-14 -2.842171e-14 -4.263256e-14 -4.263256e-14 -2.842171e-14 \n",
       "           76            77            78            79            80 \n",
       "-4.263256e-14 -2.842171e-14  0.000000e+00 -2.842171e-14 -2.842171e-14 \n",
       "           81            82            83            84            85 \n",
       "-2.842171e-14 -2.842171e-14 -4.263256e-14 -2.842171e-14 -2.842171e-14 \n",
       "           86            87            88            89            90 \n",
       "-4.263256e-14 -2.842171e-14 -4.263256e-14 -2.842171e-14  0.000000e+00 \n",
       "           91            92            93            94            95 \n",
       "-2.842171e-14 -2.842171e-14 -2.842171e-14 -2.842171e-14 -4.263256e-14 \n",
       "           96            97            98            99           100 \n",
       "-2.842171e-14 -4.263256e-14 -4.263256e-14 -2.842171e-14 -4.263256e-14 \n",
       "          101           102           103           104           105 \n",
       "-2.842171e-14  0.000000e+00 -2.842171e-14 -2.842171e-14 -2.842171e-14 \n",
       "          106           107           108           109           110 \n",
       "-2.842171e-14 -4.263256e-14 -2.842171e-14 -4.263256e-14 -4.263256e-14 \n",
       "          111           112           113           114           115 \n",
       "-2.842171e-14 -4.263256e-14 -2.842171e-14  0.000000e+00 -2.842171e-14 \n",
       "          116           117           118 \n",
       "-2.842171e-14 -2.842171e-14 -2.842171e-14 "
      ]
     },
     "metadata": {},
     "output_type": "display_data"
    }
   ],
   "source": [
    "# fitted values are w(t)\n",
    "linear$fitted.values - w(Diet4$Time) # very small numbers!"
   ]
  },
  {
   "cell_type": "code",
   "execution_count": 35,
   "id": "89d6292d",
   "metadata": {},
   "outputs": [
    {
     "data": {
      "text/html": [
       "TRUE"
      ],
      "text/latex": [
       "TRUE"
      ],
      "text/markdown": [
       "TRUE"
      ],
      "text/plain": [
       "[1] TRUE"
      ]
     },
     "metadata": {},
     "output_type": "display_data"
    }
   ],
   "source": [
    "sum(abs(linear$fitted.values - w(Diet4$Time)) < 10^(-10)) == nrow(Diet4)"
   ]
  },
  {
   "cell_type": "markdown",
   "id": "430267c2",
   "metadata": {},
   "source": [
    "The fitted values provided by `lm()` are within $10^{-10}$ of those we compute using the coefficients provided by `lm()`."
   ]
  },
  {
   "cell_type": "code",
   "execution_count": 45,
   "id": "4d1f074f",
   "metadata": {},
   "outputs": [
    {
     "name": "stderr",
     "output_type": "stream",
     "text": [
      "`geom_smooth()` using method = 'loess' and formula 'y ~ x'\n",
      "\n"
     ]
    },
    {
     "data": {
      "image/png": "[encoded data removed]",
      "text/plain": [
       "plot without title"
      ]
     },
     "metadata": {
      "image/png": {
       "height": 420,
       "width": 420
      }
     },
     "output_type": "display_data"
    }
   ],
   "source": [
    "plot1 + geom_smooth(mapping = aes(x = Time, y = linear$fitted.values))"
   ]
  },
  {
   "cell_type": "markdown",
   "id": "8793307b",
   "metadata": {},
   "source": [
    "### Mean squared error"
   ]
  },
  {
   "cell_type": "code",
   "execution_count": 136,
   "id": "58b7845f",
   "metadata": {},
   "outputs": [
    {
     "data": {
      "text/html": [
       "<style>\n",
       ".dl-inline {width: auto; margin:0; padding: 0}\n",
       ".dl-inline>dt, .dl-inline>dd {float: none; width: auto; display: inline-block}\n",
       ".dl-inline>dt::after {content: \":\\0020\"; padding-right: .5ex}\n",
       ".dl-inline>dt:not(:first-of-type) {padding-left: .5ex}\n",
       "</style><dl class=dl-inline><dt>1</dt><dd>1.77635683940025e-15</dd><dt>2</dt><dd>-3.33066907387547e-15</dd><dt>3</dt><dd>-6.21724893790088e-15</dd><dt>4</dt><dd>4.44089209850063e-15</dd><dt>5</dt><dd>8.88178419700125e-16</dd><dt>6</dt><dd>-2.66453525910038e-15</dd><dt>7</dt><dd>-1.77635683940025e-15</dd><dt>8</dt><dd>1.4210854715202e-14</dd><dt>9</dt><dd>-3.5527136788005e-15</dd><dt>10</dt><dd>3.5527136788005e-15</dd><dt>11</dt><dd>-7.105427357601e-15</dd><dt>12</dt><dd>-3.5527136788005e-15</dd><dt>13</dt><dd>1.77635683940025e-15</dd><dt>14</dt><dd>1.99840144432528e-15</dd><dt>15</dt><dd>8.88178419700125e-16</dd><dt>16</dt><dd>4.44089209850063e-15</dd><dt>17</dt><dd>8.88178419700125e-16</dd><dt>18</dt><dd>-2.44249065417534e-15</dd><dt>19</dt><dd>-1.77635683940025e-15</dd><dt>20</dt><dd>1.33226762955019e-14</dd><dt>21</dt><dd>-1.06581410364015e-14</dd><dt>22</dt><dd>-3.5527136788005e-15</dd><dt>23</dt><dd>-7.105427357601e-15</dd><dt>24</dt><dd>0</dd><dt>25</dt><dd>1.77635683940025e-15</dd><dt>26</dt><dd>1.77635683940025e-15</dd><dt>27</dt><dd>-5.99520433297585e-15</dd><dt>28</dt><dd>4.44089209850063e-15</dd><dt>29</dt><dd>0</dd><dt>30</dt><dd>-3.5527136788005e-15</dd><dt>31</dt><dd>0</dd><dt>32</dt><dd>1.06581410364015e-14</dd><dt>33</dt><dd>-1.06581410364015e-14</dd><dt>34</dt><dd>-8.88178419700125e-16</dd><dt>35</dt><dd>-7.105427357601e-15</dd><dt>36</dt><dd>0</dd><dt>37</dt><dd>1.77635683940025e-15</dd><dt>38</dt><dd>2.1094237467878e-15</dd><dt>39</dt><dd>-6.21724893790088e-15</dd><dt>40</dt><dd>4.44089209850063e-15</dd><dt>41</dt><dd>8.88178419700125e-16</dd><dt>42</dt><dd>-3.5527136788005e-15</dd><dt>43</dt><dd>-3.5527136788005e-15</dd><dt>44</dt><dd>1.06581410364015e-14</dd><dt>45</dt><dd>0</dd><dt>46</dt><dd>7.105427357601e-15</dd><dt>47</dt><dd>1.77635683940025e-15</dd><dt>48</dt><dd>2.22044604925031e-15</dd><dt>49</dt><dd>1.77635683940025e-15</dd><dt>50</dt><dd>5.32907051820075e-15</dd><dt>51</dt><dd>1.77635683940025e-15</dd><dt>52</dt><dd>-3.5527136788005e-15</dd><dt>53</dt><dd>-3.5527136788005e-15</dd><dt>54</dt><dd>1.06581410364015e-14</dd><dt>55</dt><dd>0</dd><dt>56</dt><dd>3.5527136788005e-15</dd><dt>57</dt><dd>-7.105427357601e-15</dd><dt>58</dt><dd>0</dd><dt>59</dt><dd>1.77635683940025e-15</dd><dt>60</dt><dd>1.99840144432528e-15</dd><dt>61</dt><dd>8.88178419700125e-16</dd><dt>62</dt><dd>4.44089209850063e-15</dd><dt>63</dt><dd>8.88178419700125e-16</dd><dt>64</dt><dd>-4.44089209850063e-15</dd><dt>65</dt><dd>-1.77635683940025e-15</dd><dt>66</dt><dd>1.4210854715202e-14</dd><dt>67</dt><dd>-3.5527136788005e-15</dd><dt>68</dt><dd>-8.88178419700125e-16</dd><dt>69</dt><dd>-9.76996261670138e-15</dd><dt>70</dt><dd>-3.99680288865056e-15</dd><dt>71</dt><dd>1.77635683940025e-15</dd><dt>72</dt><dd>2.22044604925031e-15</dd><dt>73</dt><dd>-6.21724893790088e-15</dd><dt>74</dt><dd>5.32907051820075e-15</dd><dt>75</dt><dd>1.77635683940025e-15</dd><dt>76</dt><dd>-2.66453525910038e-15</dd><dt>77</dt><dd>-1.77635683940025e-15</dd><dt>78</dt><dd>1.4210854715202e-14</dd><dt>79</dt><dd>-3.5527136788005e-15</dd><dt>80</dt><dd>3.5527136788005e-15</dd><dt>81</dt><dd>-5.32907051820075e-15</dd><dt>82</dt><dd>-3.5527136788005e-15</dd><dt>83</dt><dd>1.77635683940025e-15</dd><dt>84</dt><dd>2.22044604925031e-15</dd><dt>85</dt><dd>8.88178419700125e-16</dd><dt>86</dt><dd>5.32907051820075e-15</dd><dt>87</dt><dd>8.88178419700125e-16</dd><dt>88</dt><dd>-2.66453525910038e-15</dd><dt>89</dt><dd>-1.77635683940025e-15</dd><dt>90</dt><dd>1.33226762955019e-14</dd><dt>91</dt><dd>-7.105427357601e-15</dd><dt>92</dt><dd>0</dd><dt>93</dt><dd>0</dd><dt>94</dt><dd>-1.4210854715202e-14</dd><dt>95</dt><dd>1.77635683940025e-15</dd><dt>96</dt><dd>2.22044604925031e-15</dd><dt>97</dt><dd>-6.21724893790088e-15</dd><dt>98</dt><dd>4.44089209850063e-15</dd><dt>99</dt><dd>6.66133814775094e-16</dd><dt>100</dt><dd>-2.67841304690819e-15</dd><dt>101</dt><dd>-1.77635683940025e-15</dd><dt>102</dt><dd>1.37667655053519e-14</dd><dt>103</dt><dd>-4.44089209850063e-15</dd><dt>104</dt><dd>-8.88178419700125e-16</dd><dt>105</dt><dd>-9.76996261670138e-15</dd><dt>106</dt><dd>-3.99680288865056e-15</dd><dt>107</dt><dd>1.77635683940025e-15</dd><dt>108</dt><dd>1.77635683940025e-15</dd><dt>109</dt><dd>-6.21724893790088e-15</dd><dt>110</dt><dd>4.44089209850063e-15</dd><dt>111</dt><dd>8.88178419700125e-16</dd><dt>112</dt><dd>-2.66453525910038e-15</dd><dt>113</dt><dd>-8.88178419700125e-15</dd><dt>114</dt><dd>8.88178419700125e-15</dd><dt>115</dt><dd>-1.06581410364015e-14</dd><dt>116</dt><dd>-3.5527136788005e-15</dd><dt>117</dt><dd>-7.105427357601e-15</dd><dt>118</dt><dd>-1.06581410364015e-14</dd></dl>\n"
      ],
      "text/latex": [
       "\\begin{description*}\n",
       "\\item[1] 1.77635683940025e-15\n",
       "\\item[2] -3.33066907387547e-15\n",
       "\\item[3] -6.21724893790088e-15\n",
       "\\item[4] 4.44089209850063e-15\n",
       "\\item[5] 8.88178419700125e-16\n",
       "\\item[6] -2.66453525910038e-15\n",
       "\\item[7] -1.77635683940025e-15\n",
       "\\item[8] 1.4210854715202e-14\n",
       "\\item[9] -3.5527136788005e-15\n",
       "\\item[10] 3.5527136788005e-15\n",
       "\\item[11] -7.105427357601e-15\n",
       "\\item[12] -3.5527136788005e-15\n",
       "\\item[13] 1.77635683940025e-15\n",
       "\\item[14] 1.99840144432528e-15\n",
       "\\item[15] 8.88178419700125e-16\n",
       "\\item[16] 4.44089209850063e-15\n",
       "\\item[17] 8.88178419700125e-16\n",
       "\\item[18] -2.44249065417534e-15\n",
       "\\item[19] -1.77635683940025e-15\n",
       "\\item[20] 1.33226762955019e-14\n",
       "\\item[21] -1.06581410364015e-14\n",
       "\\item[22] -3.5527136788005e-15\n",
       "\\item[23] -7.105427357601e-15\n",
       "\\item[24] 0\n",
       "\\item[25] 1.77635683940025e-15\n",
       "\\item[26] 1.77635683940025e-15\n",
       "\\item[27] -5.99520433297585e-15\n",
       "\\item[28] 4.44089209850063e-15\n",
       "\\item[29] 0\n",
       "\\item[30] -3.5527136788005e-15\n",
       "\\item[31] 0\n",
       "\\item[32] 1.06581410364015e-14\n",
       "\\item[33] -1.06581410364015e-14\n",
       "\\item[34] -8.88178419700125e-16\n",
       "\\item[35] -7.105427357601e-15\n",
       "\\item[36] 0\n",
       "\\item[37] 1.77635683940025e-15\n",
       "\\item[38] 2.1094237467878e-15\n",
       "\\item[39] -6.21724893790088e-15\n",
       "\\item[40] 4.44089209850063e-15\n",
       "\\item[41] 8.88178419700125e-16\n",
       "\\item[42] -3.5527136788005e-15\n",
       "\\item[43] -3.5527136788005e-15\n",
       "\\item[44] 1.06581410364015e-14\n",
       "\\item[45] 0\n",
       "\\item[46] 7.105427357601e-15\n",
       "\\item[47] 1.77635683940025e-15\n",
       "\\item[48] 2.22044604925031e-15\n",
       "\\item[49] 1.77635683940025e-15\n",
       "\\item[50] 5.32907051820075e-15\n",
       "\\item[51] 1.77635683940025e-15\n",
       "\\item[52] -3.5527136788005e-15\n",
       "\\item[53] -3.5527136788005e-15\n",
       "\\item[54] 1.06581410364015e-14\n",
       "\\item[55] 0\n",
       "\\item[56] 3.5527136788005e-15\n",
       "\\item[57] -7.105427357601e-15\n",
       "\\item[58] 0\n",
       "\\item[59] 1.77635683940025e-15\n",
       "\\item[60] 1.99840144432528e-15\n",
       "\\item[61] 8.88178419700125e-16\n",
       "\\item[62] 4.44089209850063e-15\n",
       "\\item[63] 8.88178419700125e-16\n",
       "\\item[64] -4.44089209850063e-15\n",
       "\\item[65] -1.77635683940025e-15\n",
       "\\item[66] 1.4210854715202e-14\n",
       "\\item[67] -3.5527136788005e-15\n",
       "\\item[68] -8.88178419700125e-16\n",
       "\\item[69] -9.76996261670138e-15\n",
       "\\item[70] -3.99680288865056e-15\n",
       "\\item[71] 1.77635683940025e-15\n",
       "\\item[72] 2.22044604925031e-15\n",
       "\\item[73] -6.21724893790088e-15\n",
       "\\item[74] 5.32907051820075e-15\n",
       "\\item[75] 1.77635683940025e-15\n",
       "\\item[76] -2.66453525910038e-15\n",
       "\\item[77] -1.77635683940025e-15\n",
       "\\item[78] 1.4210854715202e-14\n",
       "\\item[79] -3.5527136788005e-15\n",
       "\\item[80] 3.5527136788005e-15\n",
       "\\item[81] -5.32907051820075e-15\n",
       "\\item[82] -3.5527136788005e-15\n",
       "\\item[83] 1.77635683940025e-15\n",
       "\\item[84] 2.22044604925031e-15\n",
       "\\item[85] 8.88178419700125e-16\n",
       "\\item[86] 5.32907051820075e-15\n",
       "\\item[87] 8.88178419700125e-16\n",
       "\\item[88] -2.66453525910038e-15\n",
       "\\item[89] -1.77635683940025e-15\n",
       "\\item[90] 1.33226762955019e-14\n",
       "\\item[91] -7.105427357601e-15\n",
       "\\item[92] 0\n",
       "\\item[93] 0\n",
       "\\item[94] -1.4210854715202e-14\n",
       "\\item[95] 1.77635683940025e-15\n",
       "\\item[96] 2.22044604925031e-15\n",
       "\\item[97] -6.21724893790088e-15\n",
       "\\item[98] 4.44089209850063e-15\n",
       "\\item[99] 6.66133814775094e-16\n",
       "\\item[100] -2.67841304690819e-15\n",
       "\\item[101] -1.77635683940025e-15\n",
       "\\item[102] 1.37667655053519e-14\n",
       "\\item[103] -4.44089209850063e-15\n",
       "\\item[104] -8.88178419700125e-16\n",
       "\\item[105] -9.76996261670138e-15\n",
       "\\item[106] -3.99680288865056e-15\n",
       "\\item[107] 1.77635683940025e-15\n",
       "\\item[108] 1.77635683940025e-15\n",
       "\\item[109] -6.21724893790088e-15\n",
       "\\item[110] 4.44089209850063e-15\n",
       "\\item[111] 8.88178419700125e-16\n",
       "\\item[112] -2.66453525910038e-15\n",
       "\\item[113] -8.88178419700125e-15\n",
       "\\item[114] 8.88178419700125e-15\n",
       "\\item[115] -1.06581410364015e-14\n",
       "\\item[116] -3.5527136788005e-15\n",
       "\\item[117] -7.105427357601e-15\n",
       "\\item[118] -1.06581410364015e-14\n",
       "\\end{description*}\n"
      ],
      "text/markdown": [
       "1\n",
       ":   1.77635683940025e-152\n",
       ":   -3.33066907387547e-153\n",
       ":   -6.21724893790088e-154\n",
       ":   4.44089209850063e-155\n",
       ":   8.88178419700125e-166\n",
       ":   -2.66453525910038e-157\n",
       ":   -1.77635683940025e-158\n",
       ":   1.4210854715202e-149\n",
       ":   -3.5527136788005e-1510\n",
       ":   3.5527136788005e-1511\n",
       ":   -7.105427357601e-1512\n",
       ":   -3.5527136788005e-1513\n",
       ":   1.77635683940025e-1514\n",
       ":   1.99840144432528e-1515\n",
       ":   8.88178419700125e-1616\n",
       ":   4.44089209850063e-1517\n",
       ":   8.88178419700125e-1618\n",
       ":   -2.44249065417534e-1519\n",
       ":   -1.77635683940025e-1520\n",
       ":   1.33226762955019e-1421\n",
       ":   -1.06581410364015e-1422\n",
       ":   -3.5527136788005e-1523\n",
       ":   -7.105427357601e-1524\n",
       ":   025\n",
       ":   1.77635683940025e-1526\n",
       ":   1.77635683940025e-1527\n",
       ":   -5.99520433297585e-1528\n",
       ":   4.44089209850063e-1529\n",
       ":   030\n",
       ":   -3.5527136788005e-1531\n",
       ":   032\n",
       ":   1.06581410364015e-1433\n",
       ":   -1.06581410364015e-1434\n",
       ":   -8.88178419700125e-1635\n",
       ":   -7.105427357601e-1536\n",
       ":   037\n",
       ":   1.77635683940025e-1538\n",
       ":   2.1094237467878e-1539\n",
       ":   -6.21724893790088e-1540\n",
       ":   4.44089209850063e-1541\n",
       ":   8.88178419700125e-1642\n",
       ":   -3.5527136788005e-1543\n",
       ":   -3.5527136788005e-1544\n",
       ":   1.06581410364015e-1445\n",
       ":   046\n",
       ":   7.105427357601e-1547\n",
       ":   1.77635683940025e-1548\n",
       ":   2.22044604925031e-1549\n",
       ":   1.77635683940025e-1550\n",
       ":   5.32907051820075e-1551\n",
       ":   1.77635683940025e-1552\n",
       ":   -3.5527136788005e-1553\n",
       ":   -3.5527136788005e-1554\n",
       ":   1.06581410364015e-1455\n",
       ":   056\n",
       ":   3.5527136788005e-1557\n",
       ":   -7.105427357601e-1558\n",
       ":   059\n",
       ":   1.77635683940025e-1560\n",
       ":   1.99840144432528e-1561\n",
       ":   8.88178419700125e-1662\n",
       ":   4.44089209850063e-1563\n",
       ":   8.88178419700125e-1664\n",
       ":   -4.44089209850063e-1565\n",
       ":   -1.77635683940025e-1566\n",
       ":   1.4210854715202e-1467\n",
       ":   -3.5527136788005e-1568\n",
       ":   -8.88178419700125e-1669\n",
       ":   -9.76996261670138e-1570\n",
       ":   -3.99680288865056e-1571\n",
       ":   1.77635683940025e-1572\n",
       ":   2.22044604925031e-1573\n",
       ":   -6.21724893790088e-1574\n",
       ":   5.32907051820075e-1575\n",
       ":   1.77635683940025e-1576\n",
       ":   -2.66453525910038e-1577\n",
       ":   -1.77635683940025e-1578\n",
       ":   1.4210854715202e-1479\n",
       ":   -3.5527136788005e-1580\n",
       ":   3.5527136788005e-1581\n",
       ":   -5.32907051820075e-1582\n",
       ":   -3.5527136788005e-1583\n",
       ":   1.77635683940025e-1584\n",
       ":   2.22044604925031e-1585\n",
       ":   8.88178419700125e-1686\n",
       ":   5.32907051820075e-1587\n",
       ":   8.88178419700125e-1688\n",
       ":   -2.66453525910038e-1589\n",
       ":   -1.77635683940025e-1590\n",
       ":   1.33226762955019e-1491\n",
       ":   -7.105427357601e-1592\n",
       ":   093\n",
       ":   094\n",
       ":   -1.4210854715202e-1495\n",
       ":   1.77635683940025e-1596\n",
       ":   2.22044604925031e-1597\n",
       ":   -6.21724893790088e-1598\n",
       ":   4.44089209850063e-1599\n",
       ":   6.66133814775094e-16100\n",
       ":   -2.67841304690819e-15101\n",
       ":   -1.77635683940025e-15102\n",
       ":   1.37667655053519e-14103\n",
       ":   -4.44089209850063e-15104\n",
       ":   -8.88178419700125e-16105\n",
       ":   -9.76996261670138e-15106\n",
       ":   -3.99680288865056e-15107\n",
       ":   1.77635683940025e-15108\n",
       ":   1.77635683940025e-15109\n",
       ":   -6.21724893790088e-15110\n",
       ":   4.44089209850063e-15111\n",
       ":   8.88178419700125e-16112\n",
       ":   -2.66453525910038e-15113\n",
       ":   -8.88178419700125e-15114\n",
       ":   8.88178419700125e-15115\n",
       ":   -1.06581410364015e-14116\n",
       ":   -3.5527136788005e-15117\n",
       ":   -7.105427357601e-15118\n",
       ":   -1.06581410364015e-14\n",
       "\n"
      ],
      "text/plain": [
       "            1             2             3             4             5 \n",
       " 1.776357e-15 -3.330669e-15 -6.217249e-15  4.440892e-15  8.881784e-16 \n",
       "            6             7             8             9            10 \n",
       "-2.664535e-15 -1.776357e-15  1.421085e-14 -3.552714e-15  3.552714e-15 \n",
       "           11            12            13            14            15 \n",
       "-7.105427e-15 -3.552714e-15  1.776357e-15  1.998401e-15  8.881784e-16 \n",
       "           16            17            18            19            20 \n",
       " 4.440892e-15  8.881784e-16 -2.442491e-15 -1.776357e-15  1.332268e-14 \n",
       "           21            22            23            24            25 \n",
       "-1.065814e-14 -3.552714e-15 -7.105427e-15  0.000000e+00  1.776357e-15 \n",
       "           26            27            28            29            30 \n",
       " 1.776357e-15 -5.995204e-15  4.440892e-15  0.000000e+00 -3.552714e-15 \n",
       "           31            32            33            34            35 \n",
       " 0.000000e+00  1.065814e-14 -1.065814e-14 -8.881784e-16 -7.105427e-15 \n",
       "           36            37            38            39            40 \n",
       " 0.000000e+00  1.776357e-15  2.109424e-15 -6.217249e-15  4.440892e-15 \n",
       "           41            42            43            44            45 \n",
       " 8.881784e-16 -3.552714e-15 -3.552714e-15  1.065814e-14  0.000000e+00 \n",
       "           46            47            48            49            50 \n",
       " 7.105427e-15  1.776357e-15  2.220446e-15  1.776357e-15  5.329071e-15 \n",
       "           51            52            53            54            55 \n",
       " 1.776357e-15 -3.552714e-15 -3.552714e-15  1.065814e-14  0.000000e+00 \n",
       "           56            57            58            59            60 \n",
       " 3.552714e-15 -7.105427e-15  0.000000e+00  1.776357e-15  1.998401e-15 \n",
       "           61            62            63            64            65 \n",
       " 8.881784e-16  4.440892e-15  8.881784e-16 -4.440892e-15 -1.776357e-15 \n",
       "           66            67            68            69            70 \n",
       " 1.421085e-14 -3.552714e-15 -8.881784e-16 -9.769963e-15 -3.996803e-15 \n",
       "           71            72            73            74            75 \n",
       " 1.776357e-15  2.220446e-15 -6.217249e-15  5.329071e-15  1.776357e-15 \n",
       "           76            77            78            79            80 \n",
       "-2.664535e-15 -1.776357e-15  1.421085e-14 -3.552714e-15  3.552714e-15 \n",
       "           81            82            83            84            85 \n",
       "-5.329071e-15 -3.552714e-15  1.776357e-15  2.220446e-15  8.881784e-16 \n",
       "           86            87            88            89            90 \n",
       " 5.329071e-15  8.881784e-16 -2.664535e-15 -1.776357e-15  1.332268e-14 \n",
       "           91            92            93            94            95 \n",
       "-7.105427e-15  0.000000e+00  0.000000e+00 -1.421085e-14  1.776357e-15 \n",
       "           96            97            98            99           100 \n",
       " 2.220446e-15 -6.217249e-15  4.440892e-15  6.661338e-16 -2.678413e-15 \n",
       "          101           102           103           104           105 \n",
       "-1.776357e-15  1.376677e-14 -4.440892e-15 -8.881784e-16 -9.769963e-15 \n",
       "          106           107           108           109           110 \n",
       "-3.996803e-15  1.776357e-15  1.776357e-15 -6.217249e-15  4.440892e-15 \n",
       "          111           112           113           114           115 \n",
       " 8.881784e-16 -2.664535e-15 -8.881784e-15  8.881784e-15 -1.065814e-14 \n",
       "          116           117           118 \n",
       "-3.552714e-15 -7.105427e-15 -1.065814e-14 "
      ]
     },
     "metadata": {},
     "output_type": "display_data"
    }
   ],
   "source": [
    "# (Diet4$weight - linear$fitted.values) manually comput the residuals; actual - pred\n",
    "linear$residuals - (Diet4$weight - linear$fitted.values) # VERY small"
   ]
  },
  {
   "cell_type": "code",
   "execution_count": 53,
   "id": "ffef4824",
   "metadata": {
    "scrolled": true
   },
   "outputs": [
    {
     "data": {
      "text/html": [
       "TRUE"
      ],
      "text/latex": [
       "TRUE"
      ],
      "text/markdown": [
       "TRUE"
      ],
      "text/plain": [
       "[1] TRUE"
      ]
     },
     "metadata": {},
     "output_type": "display_data"
    },
    {
     "data": {
      "text/html": [
       "TRUE"
      ],
      "text/latex": [
       "TRUE"
      ],
      "text/markdown": [
       "TRUE"
      ],
      "text/plain": [
       "[1] TRUE"
      ]
     },
     "metadata": {},
     "output_type": "display_data"
    }
   ],
   "source": [
    "sum(abs(linear$residuals - (Diet4$weight - linear$fitted.values))<10^(-10)) == nrow(Diet4)\n",
    "sum(abs(linear$residuals - (Diet4$weight - w(Diet4$Time))<10^(-10))) == nrow(Diet4)"
   ]
  },
  {
   "cell_type": "markdown",
   "id": "51bcfd6f",
   "metadata": {},
   "source": [
    "The residuals given by `lm()` are within $10^{-10}$ of the residuals we compute. "
   ]
  },
  {
   "cell_type": "code",
   "execution_count": 46,
   "id": "04be9704",
   "metadata": {
    "scrolled": true
   },
   "outputs": [
    {
     "data": {
      "text/html": [
       "441.148943834774"
      ],
      "text/latex": [
       "441.148943834774"
      ],
      "text/markdown": [
       "441.148943834774"
      ],
      "text/plain": [
       "[1] 441.1489"
      ]
     },
     "metadata": {},
     "output_type": "display_data"
    }
   ],
   "source": [
    "mean(linear$residuals^2)"
   ]
  },
  {
   "cell_type": "code",
   "execution_count": 47,
   "id": "2de50cc5",
   "metadata": {},
   "outputs": [
    {
     "data": {
      "text/html": [
       "14.1778752941327"
      ],
      "text/latex": [
       "14.1778752941327"
      ],
      "text/markdown": [
       "14.1778752941327"
      ],
      "text/plain": [
       "[1] 14.17788"
      ]
     },
     "metadata": {},
     "output_type": "display_data"
    }
   ],
   "source": [
    "mean(abs(linear$residuals))"
   ]
  },
  {
   "cell_type": "markdown",
   "id": "6473a4cd",
   "metadata": {},
   "source": [
    "## Quadratic models"
   ]
  },
  {
   "cell_type": "code",
   "execution_count": 138,
   "id": "5d34e789",
   "metadata": {},
   "outputs": [
    {
     "data": {
      "text/plain": [
       "\n",
       "Call:\n",
       "lm(formula = weight ~ Time + I(Time^2), data = Diet4)\n",
       "\n",
       "Coefficients:\n",
       "(Intercept)         Time    I(Time^2)  \n",
       "   37.06515      7.75821      0.09184  \n"
      ]
     },
     "metadata": {},
     "output_type": "display_data"
    }
   ],
   "source": [
    "quadratic <- lm(formula = weight ~ Time + I(Time^2), data = Diet4)\n",
    "# weight is a linear function of both time and time^2\n",
    "quadratic"
   ]
  },
  {
   "cell_type": "code",
   "execution_count": 139,
   "id": "7d856659",
   "metadata": {},
   "outputs": [
    {
     "data": {
      "text/html": [
       "37.0651492788793"
      ],
      "text/latex": [
       "37.0651492788793"
      ],
      "text/markdown": [
       "37.0651492788793"
      ],
      "text/plain": [
       "[1] 37.06515"
      ]
     },
     "metadata": {},
     "output_type": "display_data"
    },
    {
     "data": {
      "text/html": [
       "7.75821425662362"
      ],
      "text/latex": [
       "7.75821425662362"
      ],
      "text/markdown": [
       "7.75821425662362"
      ],
      "text/plain": [
       "[1] 7.758214"
      ]
     },
     "metadata": {},
     "output_type": "display_data"
    },
    {
     "data": {
      "text/html": [
       "0.0918413460613043"
      ],
      "text/latex": [
       "0.0918413460613043"
      ],
      "text/markdown": [
       "0.0918413460613043"
      ],
      "text/plain": [
       "[1] 0.09184135"
      ]
     },
     "metadata": {},
     "output_type": "display_data"
    }
   ],
   "source": [
    "C <- quadratic$coefficients[[1]]\n",
    "B <- quadratic$coefficients[[2]]\n",
    "A <- quadratic$coefficients[[3]]\n",
    "C\n",
    "B\n",
    "A"
   ]
  },
  {
   "cell_type": "code",
   "execution_count": 142,
   "id": "07ca6fbe",
   "metadata": {},
   "outputs": [
    {
     "data": {
      "text/html": [
       "37.0651492788793"
      ],
      "text/latex": [
       "37.0651492788793"
      ],
      "text/markdown": [
       "37.0651492788793"
      ],
      "text/plain": [
       "[1] 37.06515"
      ]
     },
     "metadata": {},
     "output_type": "display_data"
    },
    {
     "data": {
      "text/html": [
       "61.1663641633019"
      ],
      "text/latex": [
       "61.1663641633019"
      ],
      "text/markdown": [
       "61.1663641633019"
      ],
      "text/plain": [
       "[1] 61.16636"
      ]
     },
     "metadata": {},
     "output_type": "display_data"
    }
   ],
   "source": [
    "# weight as a linear function of both time and time^2\n",
    "quad_model <- function(t){\n",
    "    C + B*t + A*t^2 # = predicted weight\n",
    "}\n",
    "\n",
    "quad_model(0)\n",
    "quad_model(3) # predicted weight on day three"
   ]
  },
  {
   "cell_type": "code",
   "execution_count": 143,
   "id": "d6c39911",
   "metadata": {},
   "outputs": [
    {
     "data": {
      "text/html": [
       "<style>\n",
       ".dl-inline {width: auto; margin:0; padding: 0}\n",
       ".dl-inline>dt, .dl-inline>dd {float: none; width: auto; display: inline-block}\n",
       ".dl-inline>dt::after {content: \":\\0020\"; padding-right: .5ex}\n",
       ".dl-inline>dt:not(:first-of-type) {padding-left: .5ex}\n",
       "</style><dl class=dl-inline><dt>1</dt><dd>-6.11066752753686e-13</dd><dt>2</dt><dd>-1.4210854715202e-13</dd><dt>3</dt><dd>-5.6843418860808e-14</dd><dt>4</dt><dd>-4.2632564145606e-14</dd><dt>5</dt><dd>-5.6843418860808e-14</dd><dt>6</dt><dd>-4.2632564145606e-14</dd><dt>7</dt><dd>-2.8421709430404e-14</dd><dt>8</dt><dd>-2.8421709430404e-14</dd><dt>9</dt><dd>-2.8421709430404e-14</dd><dt>10</dt><dd>-2.8421709430404e-14</dd><dt>11</dt><dd>-5.6843418860808e-14</dd><dt>12</dt><dd>-5.6843418860808e-14</dd><dt>13</dt><dd>-4.2632564145606e-14</dd><dt>14</dt><dd>-2.8421709430404e-14</dd><dt>15</dt><dd>-4.2632564145606e-14</dd><dt>16</dt><dd>-4.2632564145606e-14</dd><dt>17</dt><dd>-5.6843418860808e-14</dd><dt>18</dt><dd>-4.2632564145606e-14</dd><dt>19</dt><dd>-2.8421709430404e-14</dd><dt>20</dt><dd>-2.8421709430404e-14</dd><dt>21</dt><dd>-2.8421709430404e-14</dd><dt>22</dt><dd>-2.8421709430404e-14</dd><dt>23</dt><dd>-5.6843418860808e-14</dd><dt>24</dt><dd>-5.6843418860808e-14</dd><dt>25</dt><dd>-4.2632564145606e-14</dd><dt>26</dt><dd>-2.8421709430404e-14</dd><dt>27</dt><dd>-4.2632564145606e-14</dd><dt>28</dt><dd>-4.2632564145606e-14</dd><dt>29</dt><dd>-5.6843418860808e-14</dd><dt>30</dt><dd>-5.6843418860808e-14</dd><dt>31</dt><dd>-5.6843418860808e-14</dd><dt>32</dt><dd>-2.8421709430404e-14</dd><dt>33</dt><dd>-2.8421709430404e-14</dd><dt>34</dt><dd>-2.8421709430404e-14</dd><dt>35</dt><dd>-5.6843418860808e-14</dd><dt>36</dt><dd>-5.6843418860808e-14</dd><dt>37</dt><dd>-4.2632564145606e-14</dd><dt>38</dt><dd>-2.8421709430404e-14</dd><dt>39</dt><dd>-4.2632564145606e-14</dd><dt>40</dt><dd>-4.2632564145606e-14</dd><dt>41</dt><dd>-5.6843418860808e-14</dd><dt>42</dt><dd>-4.2632564145606e-14</dd><dt>43</dt><dd>-2.8421709430404e-14</dd><dt>44</dt><dd>-2.8421709430404e-14</dd><dt>45</dt><dd>-2.8421709430404e-14</dd><dt>46</dt><dd>-2.8421709430404e-14</dd><dt>47</dt><dd>-4.2632564145606e-14</dd><dt>48</dt><dd>-2.8421709430404e-14</dd><dt>49</dt><dd>-4.2632564145606e-14</dd><dt>50</dt><dd>-4.2632564145606e-14</dd><dt>51</dt><dd>-4.2632564145606e-14</dd><dt>52</dt><dd>-4.2632564145606e-14</dd><dt>53</dt><dd>-2.8421709430404e-14</dd><dt>54</dt><dd>-2.8421709430404e-14</dd><dt>55</dt><dd>-2.8421709430404e-14</dd><dt>56</dt><dd>-2.8421709430404e-14</dd><dt>57</dt><dd>-5.6843418860808e-14</dd><dt>58</dt><dd>-5.6843418860808e-14</dd><dt>59</dt><dd>-4.2632564145606e-14</dd><dt>60</dt><dd>-2.8421709430404e-14</dd><dt>61</dt><dd>-4.2632564145606e-14</dd><dt>62</dt><dd>-4.2632564145606e-14</dd><dt>63</dt><dd>-4.2632564145606e-14</dd><dt>64</dt><dd>-4.2632564145606e-14</dd><dt>65</dt><dd>-2.8421709430404e-14</dd><dt>66</dt><dd>-2.8421709430404e-14</dd><dt>67</dt><dd>-2.8421709430404e-14</dd><dt>68</dt><dd>-2.8421709430404e-14</dd><dt>69</dt><dd>-5.6843418860808e-14</dd><dt>70</dt><dd>-5.6843418860808e-14</dd><dt>71</dt><dd>-4.2632564145606e-14</dd><dt>72</dt><dd>-2.8421709430404e-14</dd><dt>73</dt><dd>-4.2632564145606e-14</dd><dt>74</dt><dd>-4.2632564145606e-14</dd><dt>75</dt><dd>-4.2632564145606e-14</dd><dt>76</dt><dd>-4.2632564145606e-14</dd><dt>77</dt><dd>-2.8421709430404e-14</dd><dt>78</dt><dd>-2.8421709430404e-14</dd><dt>79</dt><dd>-2.8421709430404e-14</dd><dt>80</dt><dd>-2.8421709430404e-14</dd><dt>81</dt><dd>-5.6843418860808e-14</dd><dt>82</dt><dd>-5.6843418860808e-14</dd><dt>83</dt><dd>-4.2632564145606e-14</dd><dt>84</dt><dd>-2.8421709430404e-14</dd><dt>85</dt><dd>-4.2632564145606e-14</dd><dt>86</dt><dd>-4.2632564145606e-14</dd><dt>87</dt><dd>-4.2632564145606e-14</dd><dt>88</dt><dd>-4.2632564145606e-14</dd><dt>89</dt><dd>-2.8421709430404e-14</dd><dt>90</dt><dd>-2.8421709430404e-14</dd><dt>91</dt><dd>-2.8421709430404e-14</dd><dt>92</dt><dd>-2.8421709430404e-14</dd><dt>93</dt><dd>-5.6843418860808e-14</dd><dt>94</dt><dd>-5.6843418860808e-14</dd><dt>95</dt><dd>-4.2632564145606e-14</dd><dt>96</dt><dd>-2.8421709430404e-14</dd><dt>97</dt><dd>-4.2632564145606e-14</dd><dt>98</dt><dd>-4.2632564145606e-14</dd><dt>99</dt><dd>-4.2632564145606e-14</dd><dt>100</dt><dd>-4.2632564145606e-14</dd><dt>101</dt><dd>-2.8421709430404e-14</dd><dt>102</dt><dd>-2.8421709430404e-14</dd><dt>103</dt><dd>-2.8421709430404e-14</dd><dt>104</dt><dd>-2.8421709430404e-14</dd><dt>105</dt><dd>-5.6843418860808e-14</dd><dt>106</dt><dd>-5.6843418860808e-14</dd><dt>107</dt><dd>-4.2632564145606e-14</dd><dt>108</dt><dd>-2.8421709430404e-14</dd><dt>109</dt><dd>-4.2632564145606e-14</dd><dt>110</dt><dd>-4.2632564145606e-14</dd><dt>111</dt><dd>-4.2632564145606e-14</dd><dt>112</dt><dd>-4.2632564145606e-14</dd><dt>113</dt><dd>-2.8421709430404e-14</dd><dt>114</dt><dd>-2.8421709430404e-14</dd><dt>115</dt><dd>-2.8421709430404e-14</dd><dt>116</dt><dd>-2.8421709430404e-14</dd><dt>117</dt><dd>-5.6843418860808e-14</dd><dt>118</dt><dd>-5.6843418860808e-14</dd></dl>\n"
      ],
      "text/latex": [
       "\\begin{description*}\n",
       "\\item[1] -6.11066752753686e-13\n",
       "\\item[2] -1.4210854715202e-13\n",
       "\\item[3] -5.6843418860808e-14\n",
       "\\item[4] -4.2632564145606e-14\n",
       "\\item[5] -5.6843418860808e-14\n",
       "\\item[6] -4.2632564145606e-14\n",
       "\\item[7] -2.8421709430404e-14\n",
       "\\item[8] -2.8421709430404e-14\n",
       "\\item[9] -2.8421709430404e-14\n",
       "\\item[10] -2.8421709430404e-14\n",
       "\\item[11] -5.6843418860808e-14\n",
       "\\item[12] -5.6843418860808e-14\n",
       "\\item[13] -4.2632564145606e-14\n",
       "\\item[14] -2.8421709430404e-14\n",
       "\\item[15] -4.2632564145606e-14\n",
       "\\item[16] -4.2632564145606e-14\n",
       "\\item[17] -5.6843418860808e-14\n",
       "\\item[18] -4.2632564145606e-14\n",
       "\\item[19] -2.8421709430404e-14\n",
       "\\item[20] -2.8421709430404e-14\n",
       "\\item[21] -2.8421709430404e-14\n",
       "\\item[22] -2.8421709430404e-14\n",
       "\\item[23] -5.6843418860808e-14\n",
       "\\item[24] -5.6843418860808e-14\n",
       "\\item[25] -4.2632564145606e-14\n",
       "\\item[26] -2.8421709430404e-14\n",
       "\\item[27] -4.2632564145606e-14\n",
       "\\item[28] -4.2632564145606e-14\n",
       "\\item[29] -5.6843418860808e-14\n",
       "\\item[30] -5.6843418860808e-14\n",
       "\\item[31] -5.6843418860808e-14\n",
       "\\item[32] -2.8421709430404e-14\n",
       "\\item[33] -2.8421709430404e-14\n",
       "\\item[34] -2.8421709430404e-14\n",
       "\\item[35] -5.6843418860808e-14\n",
       "\\item[36] -5.6843418860808e-14\n",
       "\\item[37] -4.2632564145606e-14\n",
       "\\item[38] -2.8421709430404e-14\n",
       "\\item[39] -4.2632564145606e-14\n",
       "\\item[40] -4.2632564145606e-14\n",
       "\\item[41] -5.6843418860808e-14\n",
       "\\item[42] -4.2632564145606e-14\n",
       "\\item[43] -2.8421709430404e-14\n",
       "\\item[44] -2.8421709430404e-14\n",
       "\\item[45] -2.8421709430404e-14\n",
       "\\item[46] -2.8421709430404e-14\n",
       "\\item[47] -4.2632564145606e-14\n",
       "\\item[48] -2.8421709430404e-14\n",
       "\\item[49] -4.2632564145606e-14\n",
       "\\item[50] -4.2632564145606e-14\n",
       "\\item[51] -4.2632564145606e-14\n",
       "\\item[52] -4.2632564145606e-14\n",
       "\\item[53] -2.8421709430404e-14\n",
       "\\item[54] -2.8421709430404e-14\n",
       "\\item[55] -2.8421709430404e-14\n",
       "\\item[56] -2.8421709430404e-14\n",
       "\\item[57] -5.6843418860808e-14\n",
       "\\item[58] -5.6843418860808e-14\n",
       "\\item[59] -4.2632564145606e-14\n",
       "\\item[60] -2.8421709430404e-14\n",
       "\\item[61] -4.2632564145606e-14\n",
       "\\item[62] -4.2632564145606e-14\n",
       "\\item[63] -4.2632564145606e-14\n",
       "\\item[64] -4.2632564145606e-14\n",
       "\\item[65] -2.8421709430404e-14\n",
       "\\item[66] -2.8421709430404e-14\n",
       "\\item[67] -2.8421709430404e-14\n",
       "\\item[68] -2.8421709430404e-14\n",
       "\\item[69] -5.6843418860808e-14\n",
       "\\item[70] -5.6843418860808e-14\n",
       "\\item[71] -4.2632564145606e-14\n",
       "\\item[72] -2.8421709430404e-14\n",
       "\\item[73] -4.2632564145606e-14\n",
       "\\item[74] -4.2632564145606e-14\n",
       "\\item[75] -4.2632564145606e-14\n",
       "\\item[76] -4.2632564145606e-14\n",
       "\\item[77] -2.8421709430404e-14\n",
       "\\item[78] -2.8421709430404e-14\n",
       "\\item[79] -2.8421709430404e-14\n",
       "\\item[80] -2.8421709430404e-14\n",
       "\\item[81] -5.6843418860808e-14\n",
       "\\item[82] -5.6843418860808e-14\n",
       "\\item[83] -4.2632564145606e-14\n",
       "\\item[84] -2.8421709430404e-14\n",
       "\\item[85] -4.2632564145606e-14\n",
       "\\item[86] -4.2632564145606e-14\n",
       "\\item[87] -4.2632564145606e-14\n",
       "\\item[88] -4.2632564145606e-14\n",
       "\\item[89] -2.8421709430404e-14\n",
       "\\item[90] -2.8421709430404e-14\n",
       "\\item[91] -2.8421709430404e-14\n",
       "\\item[92] -2.8421709430404e-14\n",
       "\\item[93] -5.6843418860808e-14\n",
       "\\item[94] -5.6843418860808e-14\n",
       "\\item[95] -4.2632564145606e-14\n",
       "\\item[96] -2.8421709430404e-14\n",
       "\\item[97] -4.2632564145606e-14\n",
       "\\item[98] -4.2632564145606e-14\n",
       "\\item[99] -4.2632564145606e-14\n",
       "\\item[100] -4.2632564145606e-14\n",
       "\\item[101] -2.8421709430404e-14\n",
       "\\item[102] -2.8421709430404e-14\n",
       "\\item[103] -2.8421709430404e-14\n",
       "\\item[104] -2.8421709430404e-14\n",
       "\\item[105] -5.6843418860808e-14\n",
       "\\item[106] -5.6843418860808e-14\n",
       "\\item[107] -4.2632564145606e-14\n",
       "\\item[108] -2.8421709430404e-14\n",
       "\\item[109] -4.2632564145606e-14\n",
       "\\item[110] -4.2632564145606e-14\n",
       "\\item[111] -4.2632564145606e-14\n",
       "\\item[112] -4.2632564145606e-14\n",
       "\\item[113] -2.8421709430404e-14\n",
       "\\item[114] -2.8421709430404e-14\n",
       "\\item[115] -2.8421709430404e-14\n",
       "\\item[116] -2.8421709430404e-14\n",
       "\\item[117] -5.6843418860808e-14\n",
       "\\item[118] -5.6843418860808e-14\n",
       "\\end{description*}\n"
      ],
      "text/markdown": [
       "1\n",
       ":   -6.11066752753686e-132\n",
       ":   -1.4210854715202e-133\n",
       ":   -5.6843418860808e-144\n",
       ":   -4.2632564145606e-145\n",
       ":   -5.6843418860808e-146\n",
       ":   -4.2632564145606e-147\n",
       ":   -2.8421709430404e-148\n",
       ":   -2.8421709430404e-149\n",
       ":   -2.8421709430404e-1410\n",
       ":   -2.8421709430404e-1411\n",
       ":   -5.6843418860808e-1412\n",
       ":   -5.6843418860808e-1413\n",
       ":   -4.2632564145606e-1414\n",
       ":   -2.8421709430404e-1415\n",
       ":   -4.2632564145606e-1416\n",
       ":   -4.2632564145606e-1417\n",
       ":   -5.6843418860808e-1418\n",
       ":   -4.2632564145606e-1419\n",
       ":   -2.8421709430404e-1420\n",
       ":   -2.8421709430404e-1421\n",
       ":   -2.8421709430404e-1422\n",
       ":   -2.8421709430404e-1423\n",
       ":   -5.6843418860808e-1424\n",
       ":   -5.6843418860808e-1425\n",
       ":   -4.2632564145606e-1426\n",
       ":   -2.8421709430404e-1427\n",
       ":   -4.2632564145606e-1428\n",
       ":   -4.2632564145606e-1429\n",
       ":   -5.6843418860808e-1430\n",
       ":   -5.6843418860808e-1431\n",
       ":   -5.6843418860808e-1432\n",
       ":   -2.8421709430404e-1433\n",
       ":   -2.8421709430404e-1434\n",
       ":   -2.8421709430404e-1435\n",
       ":   -5.6843418860808e-1436\n",
       ":   -5.6843418860808e-1437\n",
       ":   -4.2632564145606e-1438\n",
       ":   -2.8421709430404e-1439\n",
       ":   -4.2632564145606e-1440\n",
       ":   -4.2632564145606e-1441\n",
       ":   -5.6843418860808e-1442\n",
       ":   -4.2632564145606e-1443\n",
       ":   -2.8421709430404e-1444\n",
       ":   -2.8421709430404e-1445\n",
       ":   -2.8421709430404e-1446\n",
       ":   -2.8421709430404e-1447\n",
       ":   -4.2632564145606e-1448\n",
       ":   -2.8421709430404e-1449\n",
       ":   -4.2632564145606e-1450\n",
       ":   -4.2632564145606e-1451\n",
       ":   -4.2632564145606e-1452\n",
       ":   -4.2632564145606e-1453\n",
       ":   -2.8421709430404e-1454\n",
       ":   -2.8421709430404e-1455\n",
       ":   -2.8421709430404e-1456\n",
       ":   -2.8421709430404e-1457\n",
       ":   -5.6843418860808e-1458\n",
       ":   -5.6843418860808e-1459\n",
       ":   -4.2632564145606e-1460\n",
       ":   -2.8421709430404e-1461\n",
       ":   -4.2632564145606e-1462\n",
       ":   -4.2632564145606e-1463\n",
       ":   -4.2632564145606e-1464\n",
       ":   -4.2632564145606e-1465\n",
       ":   -2.8421709430404e-1466\n",
       ":   -2.8421709430404e-1467\n",
       ":   -2.8421709430404e-1468\n",
       ":   -2.8421709430404e-1469\n",
       ":   -5.6843418860808e-1470\n",
       ":   -5.6843418860808e-1471\n",
       ":   -4.2632564145606e-1472\n",
       ":   -2.8421709430404e-1473\n",
       ":   -4.2632564145606e-1474\n",
       ":   -4.2632564145606e-1475\n",
       ":   -4.2632564145606e-1476\n",
       ":   -4.2632564145606e-1477\n",
       ":   -2.8421709430404e-1478\n",
       ":   -2.8421709430404e-1479\n",
       ":   -2.8421709430404e-1480\n",
       ":   -2.8421709430404e-1481\n",
       ":   -5.6843418860808e-1482\n",
       ":   -5.6843418860808e-1483\n",
       ":   -4.2632564145606e-1484\n",
       ":   -2.8421709430404e-1485\n",
       ":   -4.2632564145606e-1486\n",
       ":   -4.2632564145606e-1487\n",
       ":   -4.2632564145606e-1488\n",
       ":   -4.2632564145606e-1489\n",
       ":   -2.8421709430404e-1490\n",
       ":   -2.8421709430404e-1491\n",
       ":   -2.8421709430404e-1492\n",
       ":   -2.8421709430404e-1493\n",
       ":   -5.6843418860808e-1494\n",
       ":   -5.6843418860808e-1495\n",
       ":   -4.2632564145606e-1496\n",
       ":   -2.8421709430404e-1497\n",
       ":   -4.2632564145606e-1498\n",
       ":   -4.2632564145606e-1499\n",
       ":   -4.2632564145606e-14100\n",
       ":   -4.2632564145606e-14101\n",
       ":   -2.8421709430404e-14102\n",
       ":   -2.8421709430404e-14103\n",
       ":   -2.8421709430404e-14104\n",
       ":   -2.8421709430404e-14105\n",
       ":   -5.6843418860808e-14106\n",
       ":   -5.6843418860808e-14107\n",
       ":   -4.2632564145606e-14108\n",
       ":   -2.8421709430404e-14109\n",
       ":   -4.2632564145606e-14110\n",
       ":   -4.2632564145606e-14111\n",
       ":   -4.2632564145606e-14112\n",
       ":   -4.2632564145606e-14113\n",
       ":   -2.8421709430404e-14114\n",
       ":   -2.8421709430404e-14115\n",
       ":   -2.8421709430404e-14116\n",
       ":   -2.8421709430404e-14117\n",
       ":   -5.6843418860808e-14118\n",
       ":   -5.6843418860808e-14\n",
       "\n"
      ],
      "text/plain": [
       "            1             2             3             4             5 \n",
       "-6.110668e-13 -1.421085e-13 -5.684342e-14 -4.263256e-14 -5.684342e-14 \n",
       "            6             7             8             9            10 \n",
       "-4.263256e-14 -2.842171e-14 -2.842171e-14 -2.842171e-14 -2.842171e-14 \n",
       "           11            12            13            14            15 \n",
       "-5.684342e-14 -5.684342e-14 -4.263256e-14 -2.842171e-14 -4.263256e-14 \n",
       "           16            17            18            19            20 \n",
       "-4.263256e-14 -5.684342e-14 -4.263256e-14 -2.842171e-14 -2.842171e-14 \n",
       "           21            22            23            24            25 \n",
       "-2.842171e-14 -2.842171e-14 -5.684342e-14 -5.684342e-14 -4.263256e-14 \n",
       "           26            27            28            29            30 \n",
       "-2.842171e-14 -4.263256e-14 -4.263256e-14 -5.684342e-14 -5.684342e-14 \n",
       "           31            32            33            34            35 \n",
       "-5.684342e-14 -2.842171e-14 -2.842171e-14 -2.842171e-14 -5.684342e-14 \n",
       "           36            37            38            39            40 \n",
       "-5.684342e-14 -4.263256e-14 -2.842171e-14 -4.263256e-14 -4.263256e-14 \n",
       "           41            42            43            44            45 \n",
       "-5.684342e-14 -4.263256e-14 -2.842171e-14 -2.842171e-14 -2.842171e-14 \n",
       "           46            47            48            49            50 \n",
       "-2.842171e-14 -4.263256e-14 -2.842171e-14 -4.263256e-14 -4.263256e-14 \n",
       "           51            52            53            54            55 \n",
       "-4.263256e-14 -4.263256e-14 -2.842171e-14 -2.842171e-14 -2.842171e-14 \n",
       "           56            57            58            59            60 \n",
       "-2.842171e-14 -5.684342e-14 -5.684342e-14 -4.263256e-14 -2.842171e-14 \n",
       "           61            62            63            64            65 \n",
       "-4.263256e-14 -4.263256e-14 -4.263256e-14 -4.263256e-14 -2.842171e-14 \n",
       "           66            67            68            69            70 \n",
       "-2.842171e-14 -2.842171e-14 -2.842171e-14 -5.684342e-14 -5.684342e-14 \n",
       "           71            72            73            74            75 \n",
       "-4.263256e-14 -2.842171e-14 -4.263256e-14 -4.263256e-14 -4.263256e-14 \n",
       "           76            77            78            79            80 \n",
       "-4.263256e-14 -2.842171e-14 -2.842171e-14 -2.842171e-14 -2.842171e-14 \n",
       "           81            82            83            84            85 \n",
       "-5.684342e-14 -5.684342e-14 -4.263256e-14 -2.842171e-14 -4.263256e-14 \n",
       "           86            87            88            89            90 \n",
       "-4.263256e-14 -4.263256e-14 -4.263256e-14 -2.842171e-14 -2.842171e-14 \n",
       "           91            92            93            94            95 \n",
       "-2.842171e-14 -2.842171e-14 -5.684342e-14 -5.684342e-14 -4.263256e-14 \n",
       "           96            97            98            99           100 \n",
       "-2.842171e-14 -4.263256e-14 -4.263256e-14 -4.263256e-14 -4.263256e-14 \n",
       "          101           102           103           104           105 \n",
       "-2.842171e-14 -2.842171e-14 -2.842171e-14 -2.842171e-14 -5.684342e-14 \n",
       "          106           107           108           109           110 \n",
       "-5.684342e-14 -4.263256e-14 -2.842171e-14 -4.263256e-14 -4.263256e-14 \n",
       "          111           112           113           114           115 \n",
       "-4.263256e-14 -4.263256e-14 -2.842171e-14 -2.842171e-14 -2.842171e-14 \n",
       "          116           117           118 \n",
       "-2.842171e-14 -5.684342e-14 -5.684342e-14 "
      ]
     },
     "metadata": {},
     "output_type": "display_data"
    }
   ],
   "source": [
    "quadratic$fitted.values - quad_model(Diet4$Time)"
   ]
  },
  {
   "cell_type": "code",
   "execution_count": 141,
   "id": "9d294c96",
   "metadata": {},
   "outputs": [
    {
     "name": "stderr",
     "output_type": "stream",
     "text": [
      "`geom_smooth()` using method = 'loess' and formula 'y ~ x'\n",
      "\n"
     ]
    },
    {
     "data": {
      "image/png": "[encoded data removed]",
      "text/plain": [
       "plot without title"
      ]
     },
     "metadata": {
      "image/png": {
       "height": 420,
       "width": 420
      }
     },
     "output_type": "display_data"
    }
   ],
   "source": [
    "plot1 + geom_smooth(mapping = aes(x = Time, y = quadratic$fitted.values))"
   ]
  },
  {
   "cell_type": "markdown",
   "id": "73881c59",
   "metadata": {},
   "source": [
    "## Exponential models"
   ]
  },
  {
   "cell_type": "markdown",
   "id": "ee6450ff",
   "metadata": {},
   "source": [
    "### Exponentials and logarithms in R"
   ]
  },
  {
   "cell_type": "markdown",
   "id": "84bf15d7",
   "metadata": {},
   "source": [
    "#### Exponential function"
   ]
  },
  {
   "cell_type": "markdown",
   "id": "cceb7908",
   "metadata": {},
   "source": [
    "In R, we use `exp(x)` to compute $e^x$."
   ]
  },
  {
   "cell_type": "code",
   "execution_count": 9,
   "id": "315d3c4c",
   "metadata": {},
   "outputs": [
    {
     "data": {
      "text/html": [
       "1"
      ],
      "text/latex": [
       "1"
      ],
      "text/markdown": [
       "1"
      ],
      "text/plain": [
       "[1] 1"
      ]
     },
     "metadata": {},
     "output_type": "display_data"
    }
   ],
   "source": [
    "exp(0) # e^0 = 1"
   ]
  },
  {
   "cell_type": "code",
   "execution_count": 10,
   "id": "0c9dd09d",
   "metadata": {},
   "outputs": [
    {
     "data": {
      "text/html": [
       "2.71828182845905"
      ],
      "text/latex": [
       "2.71828182845905"
      ],
      "text/markdown": [
       "2.71828182845905"
      ],
      "text/plain": [
       "[1] 2.718282"
      ]
     },
     "metadata": {},
     "output_type": "display_data"
    }
   ],
   "source": [
    "exp(1) # e^1 = e"
   ]
  },
  {
   "cell_type": "markdown",
   "id": "ed0f0589",
   "metadata": {},
   "source": [
    "#### Logarithm function"
   ]
  },
  {
   "cell_type": "markdown",
   "id": "5dd679b1",
   "metadata": {},
   "source": [
    "<div class=\"admonition warning\" name=\"html-admonition\">\n",
    "<div class=\"title\" style=\"background: pink; padding: 10px\">Warning</div>\n",
    "    <p>In R, <b><code>log()</code> is the natural logarithm</b> which is sometimes denoted by $\\ln()$ or $\\log_e()$. For consistency, we will also use $\\log()$ to refer to the natural logarithm. </p>\n",
    "</div>"
   ]
  },
  {
   "cell_type": "code",
   "execution_count": 13,
   "id": "dab57af3",
   "metadata": {},
   "outputs": [
    {
     "data": {
      "text/html": [
       "0"
      ],
      "text/latex": [
       "0"
      ],
      "text/markdown": [
       "0"
      ],
      "text/plain": [
       "[1] 0"
      ]
     },
     "metadata": {},
     "output_type": "display_data"
    }
   ],
   "source": [
    "log(1) # what exponent do I raise e to to get 1?"
   ]
  },
  {
   "cell_type": "code",
   "execution_count": 12,
   "id": "dcf24654",
   "metadata": {},
   "outputs": [
    {
     "data": {
      "text/html": [
       "1"
      ],
      "text/latex": [
       "1"
      ],
      "text/markdown": [
       "1"
      ],
      "text/plain": [
       "[1] 1"
      ]
     },
     "metadata": {},
     "output_type": "display_data"
    }
   ],
   "source": [
    "log(2.71828182845905) # what exponent do I raise e to to get e?"
   ]
  },
  {
   "cell_type": "markdown",
   "id": "b31b66a4",
   "metadata": {},
   "source": [
    "### Mathematical background"
   ]
  },
  {
   "cell_type": "markdown",
   "id": "872bb9b6",
   "metadata": {},
   "source": [
    "By the definition of the natural logarithm, we have that\n",
    "$\\log(e^{x}) = x$.\n",
    "It follows that\n",
    "$$\\log \\left(e^{Ax + C}\\right) = Ax + C.$$"
   ]
  },
  {
   "cell_type": "markdown",
   "id": "2bf9e65d",
   "metadata": {},
   "source": [
    "<div class=\"admonition note\" name=\"html-admonition\">\n",
    "<div class=\"title\" style=\"background: lightblue; padding: 10px\">Note</div>\n",
    "    <p>Applying <code>log()</code> to the outputs of an exponential function transforms it into a linear function.</p>\n",
    "</div>"
   ]
  },
  {
   "cell_type": "code",
   "execution_count": null,
   "id": "09f58803",
   "metadata": {},
   "outputs": [],
   "source": [
    "# create data for the function e^(x/3 + 7)\n",
    "exp_example <- data.frame(x_values = 1:30) %>%\n",
    "    mutate(y_values = exp((1/3)*x_values + 7), # y = e^(x/3 + 7)\n",
    "           log_y = log(y_values), # log(y)\n",
    "           line = (1/3)*x_values + 7 # x/3 + 7\n",
    "          )"
   ]
  },
  {
   "cell_type": "code",
   "execution_count": 110,
   "id": "7ffd8904",
   "metadata": {},
   "outputs": [
    {
     "data": {
      "image/png": "[encoded data removed]",
      "text/plain": [
       "plot without title"
      ]
     },
     "metadata": {
      "image/png": {
       "height": 420,
       "width": 420
      }
     },
     "output_type": "display_data"
    }
   ],
   "source": [
    "# plot data\n",
    "ggplot(exp_example, aes(x=x_values, y=y_values)) +\n",
    "    geom_point() + \n",
    "    labs(title = 'exp(x/3 + 7)')+\n",
    "    theme_bw() +\n",
    "    theme(text = element_text(size=20))"
   ]
  },
  {
   "cell_type": "code",
   "execution_count": 145,
   "id": "40357002",
   "metadata": {},
   "outputs": [
    {
     "data": {
      "image/png": "[encoded data removed]",
      "text/plain": [
       "plot without title"
      ]
     },
     "metadata": {
      "image/png": {
       "height": 420,
       "width": 420
      }
     },
     "output_type": "display_data"
    }
   ],
   "source": [
    "# check that this is exponential by applying log to the outputs\n",
    "ggplot(exp_example, aes(x=x_values, y=log(y_values))) + # <- change\n",
    "    geom_point() + \n",
    "    labs(title = 'log(exp(x/3 + 7))')+\n",
    "    theme_bw() +\n",
    "    theme(text = element_text(size=20))"
   ]
  },
  {
   "cell_type": "code",
   "execution_count": 118,
   "id": "4a0b40b3",
   "metadata": {},
   "outputs": [
    {
     "data": {
      "image/png": "[encoded data removed]",
      "text/plain": [
       "plot without title"
      ]
     },
     "metadata": {
      "image/png": {
       "height": 420,
       "width": 420
      }
     },
     "output_type": "display_data"
    }
   ],
   "source": [
    "# plot line and log of the outputs\n",
    "exp_example %>%\n",
    "    pivot_longer(-x_values, 'formula')  %>%\n",
    "    filter(formula %in% c('log_y', 'line')) %>%\n",
    "    ggplot(aes(x=x_values, y = value, \n",
    "                fill = formula, size = formula\n",
    "              ),\n",
    "          ) +\n",
    "        geom_point(shape = 21, color = 'black') + \n",
    "        scale_fill_manual(values = c('black', 'grey')) + \n",
    "        scale_size_manual(name = 'Formula', \n",
    "                            values = c(2,7),\n",
    "                          labels = c('x/3+7', 'log(y)')\n",
    "                         ) +\n",
    "        labs(title = 'Log(y) = x/3 + 7') +\n",
    "        guides(fill = 'none') +\n",
    "        theme_bw() +\n",
    "        theme(text = element_text(size=20))"
   ]
  },
  {
   "cell_type": "markdown",
   "id": "0219fa53",
   "metadata": {},
   "source": [
    "### Using `lm()` to find an exponential model"
   ]
  },
  {
   "cell_type": "code",
   "execution_count": 112,
   "id": "063ae23e",
   "metadata": {},
   "outputs": [
    {
     "data": {
      "text/plain": [
       "\n",
       "Call:\n",
       "lm(formula = log(y_values) ~ x_values, data = exp_example)\n",
       "\n",
       "Coefficients:\n",
       "(Intercept)     x_values  \n",
       "     7.0000       0.3333  \n"
      ]
     },
     "metadata": {},
     "output_type": "display_data"
    }
   ],
   "source": [
    "exp_model <- lm(formula = log(y_values) ~ x_values,\n",
    "                # log(y) is a linear function of x\n",
    "                data = exp_example\n",
    "               )\n",
    "exp_model"
   ]
  },
  {
   "cell_type": "markdown",
   "id": "b086e8e3",
   "metadata": {},
   "source": [
    "As expected the slope is 1/3 and the intercept is 7. Line is given by $$y = x/3 + 7$$."
   ]
  },
  {
   "cell_type": "markdown",
   "id": "473d2f8a",
   "metadata": {},
   "source": [
    "<div class=\"admonition warning\" name=\"html-admonition\">\n",
    "<div class=\"title\" style=\"background: pink; padding: 10px\">Warning</div>\n",
    "    <p>When using a formula of the from <code>log(y) ~ x</code>, the fitted values are predictions of $log(y)$ rather than $y$. <b>To plot the predicted $y$-values, apply <code>exp()</code> to the fitted values.</b></p>\n",
    "<p>        <code> exp(log(y)) = y </code></p>\n",
    "</div>"
   ]
  },
  {
   "cell_type": "code",
   "execution_count": 117,
   "id": "295bbacf",
   "metadata": {},
   "outputs": [
    {
     "data": {
      "image/png": "[encoded data removed]",
      "text/plain": [
       "plot without title"
      ]
     },
     "metadata": {
      "image/png": {
       "height": 420,
       "width": 420
      }
     },
     "output_type": "display_data"
    }
   ],
   "source": [
    "# Plot to show y = exp (fitted values)\n",
    "exp_example %>%\n",
    "    mutate(predictions = exp(exp_model$fitted.values)) %>%\n",
    "    pivot_longer(-x_values, 'formula')  %>%\n",
    "    filter(formula %in% c('y_values', 'predictions')) %>%\n",
    "    ggplot(aes(x=x_values, y = value, \n",
    "                fill = formula, size = formula\n",
    "              ),\n",
    "          ) +\n",
    "        geom_point(shape = 21, color = 'black') + \n",
    "        scale_fill_manual(values = c('black', 'grey')) + \n",
    "        scale_size_manual(name = 'Formula', \n",
    "                            values = c(2,7),\n",
    "                          labels = c('exp(fitted values)', \n",
    "                              'original y-values'\n",
    "                         )\n",
    "                         ) +\n",
    "        labs(title = 'y = exp(fitted values)') +\n",
    "        guides(fill = 'none') +\n",
    "        theme_bw() +\n",
    "        theme(text = element_text(size=20))"
   ]
  },
  {
   "cell_type": "code",
   "execution_count": 146,
   "id": "c1e3c91a",
   "metadata": {},
   "outputs": [
    {
     "name": "stderr",
     "output_type": "stream",
     "text": [
      "`geom_smooth()` using method = 'loess' and formula 'y ~ x'\n",
      "\n"
     ]
    },
    {
     "data": {
      "image/png": "[encoded data removed]",
      "text/plain": [
       "plot without title"
      ]
     },
     "metadata": {
      "image/png": {
       "height": 420,
       "width": 420
      }
     },
     "output_type": "display_data"
    }
   ],
   "source": [
    "# Plot original values and model curve\n",
    "ggplot(exp_example, aes(x = x_values)) + \n",
    "    geom_point(mapping= aes(y=y_values)) +\n",
    "    geom_smooth(mapping = aes(\n",
    "                y= exp(exp_model$fitted.values) #<- fitted vals are log(y)\n",
    "        # different from linear and quadraditc\n",
    "                ), \n",
    "                se = FALSE) +\n",
    "    labs(title = 'Model curve') +\n",
    "    theme_bw() +\n",
    "    theme(text = element_text(size=20))"
   ]
  },
  {
   "cell_type": "markdown",
   "id": "6c6a5354",
   "metadata": {},
   "source": [
    "### Mean squared error"
   ]
  },
  {
   "cell_type": "markdown",
   "id": "0bb2cbbb",
   "metadata": {},
   "source": [
    "<div class=\"admonition warning\" name=\"html-admonition\">\n",
    "<div class=\"title\" style=\"background: pink; padding: 10px\">Warning</div>\n",
    "    <p>The residuals are measuring the difference between log(y) and the predicted value of log(y). We want the difference between y and predicted y. </p>\n",
    "</div>"
   ]
  },
  {
   "cell_type": "code",
   "execution_count": 148,
   "id": "8eb9c619",
   "metadata": {},
   "outputs": [
    {
     "data": {
      "text/html": [
       "<style>\n",
       ".dl-inline {width: auto; margin:0; padding: 0}\n",
       ".dl-inline>dt, .dl-inline>dd {float: none; width: auto; display: inline-block}\n",
       ".dl-inline>dt::after {content: \":\\0020\"; padding-right: .5ex}\n",
       ".dl-inline>dt:not(:first-of-type) {padding-left: .5ex}\n",
       "</style><dl class=dl-inline><dt>1</dt><dd>-6.82121026329696e-12</dd><dt>2</dt><dd>1.13686837721616e-11</dd><dt>3</dt><dd>0</dd><dt>4</dt><dd>7.27595761418343e-12</dd><dt>5</dt><dd>0</dd><dt>6</dt><dd>0</dd><dt>7</dt><dd>0</dd><dt>8</dt><dd>0</dd><dt>9</dt><dd>0</dd><dt>10</dt><dd>-5.45696821063757e-11</dd><dt>11</dt><dd>0</dd><dt>12</dt><dd>0</dd><dt>13</dt><dd>0</dd><dt>14</dt><dd>0</dd><dt>15</dt><dd>0</dd><dt>16</dt><dd>0</dd><dt>17</dt><dd>0</dd><dt>18</dt><dd>0</dd><dt>19</dt><dd>0</dd><dt>20</dt><dd>0</dd><dt>21</dt><dd>0</dd><dt>22</dt><dd>0</dd><dt>23</dt><dd>0</dd><dt>24</dt><dd>0</dd><dt>25</dt><dd>0</dd><dt>26</dt><dd>0</dd><dt>27</dt><dd>1.49011611938477e-08</dd><dt>28</dt><dd>0</dd><dt>29</dt><dd>0</dd><dt>30</dt><dd>0</dd></dl>\n"
      ],
      "text/latex": [
       "\\begin{description*}\n",
       "\\item[1] -6.82121026329696e-12\n",
       "\\item[2] 1.13686837721616e-11\n",
       "\\item[3] 0\n",
       "\\item[4] 7.27595761418343e-12\n",
       "\\item[5] 0\n",
       "\\item[6] 0\n",
       "\\item[7] 0\n",
       "\\item[8] 0\n",
       "\\item[9] 0\n",
       "\\item[10] -5.45696821063757e-11\n",
       "\\item[11] 0\n",
       "\\item[12] 0\n",
       "\\item[13] 0\n",
       "\\item[14] 0\n",
       "\\item[15] 0\n",
       "\\item[16] 0\n",
       "\\item[17] 0\n",
       "\\item[18] 0\n",
       "\\item[19] 0\n",
       "\\item[20] 0\n",
       "\\item[21] 0\n",
       "\\item[22] 0\n",
       "\\item[23] 0\n",
       "\\item[24] 0\n",
       "\\item[25] 0\n",
       "\\item[26] 0\n",
       "\\item[27] 1.49011611938477e-08\n",
       "\\item[28] 0\n",
       "\\item[29] 0\n",
       "\\item[30] 0\n",
       "\\end{description*}\n"
      ],
      "text/markdown": [
       "1\n",
       ":   -6.82121026329696e-122\n",
       ":   1.13686837721616e-113\n",
       ":   04\n",
       ":   7.27595761418343e-125\n",
       ":   06\n",
       ":   07\n",
       ":   08\n",
       ":   09\n",
       ":   010\n",
       ":   -5.45696821063757e-1111\n",
       ":   012\n",
       ":   013\n",
       ":   014\n",
       ":   015\n",
       ":   016\n",
       ":   017\n",
       ":   018\n",
       ":   019\n",
       ":   020\n",
       ":   021\n",
       ":   022\n",
       ":   023\n",
       ":   024\n",
       ":   025\n",
       ":   026\n",
       ":   027\n",
       ":   1.49011611938477e-0828\n",
       ":   029\n",
       ":   030\n",
       ":   0\n",
       "\n"
      ],
      "text/plain": [
       "            1             2             3             4             5 \n",
       "-6.821210e-12  1.136868e-11  0.000000e+00  7.275958e-12  0.000000e+00 \n",
       "            6             7             8             9            10 \n",
       " 0.000000e+00  0.000000e+00  0.000000e+00  0.000000e+00 -5.456968e-11 \n",
       "           11            12            13            14            15 \n",
       " 0.000000e+00  0.000000e+00  0.000000e+00  0.000000e+00  0.000000e+00 \n",
       "           16            17            18            19            20 \n",
       " 0.000000e+00  0.000000e+00  0.000000e+00  0.000000e+00  0.000000e+00 \n",
       "           21            22            23            24            25 \n",
       " 0.000000e+00  0.000000e+00  0.000000e+00  0.000000e+00  0.000000e+00 \n",
       "           26            27            28            29            30 \n",
       " 0.000000e+00  1.490116e-08  0.000000e+00  0.000000e+00  0.000000e+00 "
      ]
     },
     "metadata": {},
     "output_type": "display_data"
    }
   ],
   "source": [
    "# predicted y values use exp(exp_model$fitted.values)\n",
    "# actual residuals are\n",
    "exp_example$y_values - exp(exp_model$fitted.values)\n",
    "# small as expected"
   ]
  },
  {
   "cell_type": "code",
   "execution_count": null,
   "id": "26114ea4",
   "metadata": {},
   "outputs": [],
   "source": []
  },
  {
   "cell_type": "code",
   "execution_count": null,
   "id": "7d17ce5e",
   "metadata": {},
   "outputs": [],
   "source": []
  },
  {
   "cell_type": "code",
   "execution_count": null,
   "id": "1545978b",
   "metadata": {},
   "outputs": [],
   "source": []
  },
  {
   "cell_type": "code",
   "execution_count": null,
   "id": "6ba5082a",
   "metadata": {},
   "outputs": [],
   "source": []
  },
  {
   "cell_type": "code",
   "execution_count": null,
   "id": "e7977410",
   "metadata": {},
   "outputs": [],
   "source": []
  }
 ],
 "metadata": {
  "kernelspec": {
   "display_name": "R",
   "language": "R",
   "name": "ir"
  },
  "language_info": {
   "codemirror_mode": "r",
   "file_extension": ".r",
   "mimetype": "text/x-r-source",
   "name": "R",
   "pygments_lexer": "r",
   "version": "4.1.1"
  }
 },
 "nbformat": 4,
 "nbformat_minor": 5
}
