{
 "cells": [
  {
   "cell_type": "markdown",
   "id": "45d185c1",
   "metadata": {},
   "source": [
    "# If-else statements\n",
    "\n",
    "<pre><code>\n",
    "if (BOOLEAN_EXPRESSION) {\n",
    "    ACTION_IF_EXPRESSOIN_IS_TRUE\n",
    "} else {\n",
    "    ACTION_IF_EXPRESSOIN_IS_FALSE\n",
    "}\n",
    "</code></pre>"
   ]
  },
  {
   "cell_type": "code",
   "execution_count": 11,
   "id": "414d41ec",
   "metadata": {},
   "outputs": [
    {
     "data": {
      "text/html": [
       "FALSE"
      ],
      "text/latex": [
       "FALSE"
      ],
      "text/markdown": [
       "FALSE"
      ],
      "text/plain": [
       "[1] FALSE"
      ]
     },
     "metadata": {},
     "output_type": "display_data"
    }
   ],
   "source": [
    "'happy' != 'sad' # not equal"
   ]
  },
  {
   "cell_type": "code",
   "execution_count": 12,
   "id": "0dfe5d69",
   "metadata": {},
   "outputs": [
    {
     "data": {
      "text/html": [
       "FALSE"
      ],
      "text/latex": [
       "FALSE"
      ],
      "text/markdown": [
       "FALSE"
      ],
      "text/plain": [
       "[1] FALSE"
      ]
     },
     "metadata": {},
     "output_type": "display_data"
    }
   ],
   "source": [
    "'happy' == 'HAPPY'"
   ]
  },
  {
   "cell_type": "code",
   "execution_count": 14,
   "id": "5b242a68",
   "metadata": {
    "scrolled": true
   },
   "outputs": [
    {
     "data": {
      "text/html": [
       "TRUE"
      ],
      "text/latex": [
       "TRUE"
      ],
      "text/markdown": [
       "TRUE"
      ],
      "text/plain": [
       "[1] TRUE"
      ]
     },
     "metadata": {},
     "output_type": "display_data"
    }
   ],
   "source": [
    "1 + 1 == 2"
   ]
  },
  {
   "cell_type": "code",
   "execution_count": 16,
   "id": "95218199",
   "metadata": {},
   "outputs": [
    {
     "data": {
      "text/html": [
       "TRUE"
      ],
      "text/latex": [
       "TRUE"
      ],
      "text/markdown": [
       "TRUE"
      ],
      "text/plain": [
       "[1] TRUE"
      ]
     },
     "metadata": {},
     "output_type": "display_data"
    }
   ],
   "source": [
    "2*3 <= 6 # less than or equal"
   ]
  },
  {
   "cell_type": "code",
   "execution_count": 2,
   "id": "40e1a01c",
   "metadata": {},
   "outputs": [],
   "source": [
    "library(dplyr)"
   ]
  },
  {
   "cell_type": "code",
   "execution_count": 9,
   "id": "a0079a19",
   "metadata": {},
   "outputs": [
    {
     "data": {
      "text/html": [
       "<table class=\"dataframe\">\n",
       "<caption>A data.frame: 2 × 2</caption>\n",
       "<thead>\n",
       "\t<tr><th></th><th scope=col>b</th><th scope=col>not_b</th></tr>\n",
       "\t<tr><th></th><th scope=col>&lt;lgl&gt;</th><th scope=col>&lt;lgl&gt;</th></tr>\n",
       "</thead>\n",
       "<tbody>\n",
       "\t<tr><th scope=row>1</th><td> TRUE</td><td>FALSE</td></tr>\n",
       "\t<tr><th scope=row>2</th><td>FALSE</td><td> TRUE</td></tr>\n",
       "</tbody>\n",
       "</table>\n"
      ],
      "text/latex": [
       "A data.frame: 2 × 2\n",
       "\\begin{tabular}{r|ll}\n",
       "  & b & not\\_b\\\\\n",
       "  & <lgl> & <lgl>\\\\\n",
       "\\hline\n",
       "\t1 &  TRUE & FALSE\\\\\n",
       "\t2 & FALSE &  TRUE\\\\\n",
       "\\end{tabular}\n"
      ],
      "text/markdown": [
       "\n",
       "A data.frame: 2 × 2\n",
       "\n",
       "| <!--/--> | b &lt;lgl&gt; | not_b &lt;lgl&gt; |\n",
       "|---|---|---|\n",
       "| 1 |  TRUE | FALSE |\n",
       "| 2 | FALSE |  TRUE |\n",
       "\n"
      ],
      "text/plain": [
       "  b     not_b\n",
       "1  TRUE FALSE\n",
       "2 FALSE  TRUE"
      ]
     },
     "metadata": {},
     "output_type": "display_data"
    },
    {
     "data": {
      "text/html": [
       "<table class=\"dataframe\">\n",
       "<caption>A data.frame: 4 × 3</caption>\n",
       "<thead>\n",
       "\t<tr><th scope=col>a</th><th scope=col>b</th><th scope=col>a_and_b</th></tr>\n",
       "\t<tr><th scope=col>&lt;lgl&gt;</th><th scope=col>&lt;lgl&gt;</th><th scope=col>&lt;lgl&gt;</th></tr>\n",
       "</thead>\n",
       "<tbody>\n",
       "\t<tr><td> TRUE</td><td> TRUE</td><td> TRUE</td></tr>\n",
       "\t<tr><td> TRUE</td><td>FALSE</td><td>FALSE</td></tr>\n",
       "\t<tr><td>FALSE</td><td> TRUE</td><td>FALSE</td></tr>\n",
       "\t<tr><td>FALSE</td><td>FALSE</td><td>FALSE</td></tr>\n",
       "</tbody>\n",
       "</table>\n"
      ],
      "text/latex": [
       "A data.frame: 4 × 3\n",
       "\\begin{tabular}{lll}\n",
       " a & b & a\\_and\\_b\\\\\n",
       " <lgl> & <lgl> & <lgl>\\\\\n",
       "\\hline\n",
       "\t  TRUE &  TRUE &  TRUE\\\\\n",
       "\t  TRUE & FALSE & FALSE\\\\\n",
       "\t FALSE &  TRUE & FALSE\\\\\n",
       "\t FALSE & FALSE & FALSE\\\\\n",
       "\\end{tabular}\n"
      ],
      "text/markdown": [
       "\n",
       "A data.frame: 4 × 3\n",
       "\n",
       "| a &lt;lgl&gt; | b &lt;lgl&gt; | a_and_b &lt;lgl&gt; |\n",
       "|---|---|---|\n",
       "|  TRUE |  TRUE |  TRUE |\n",
       "|  TRUE | FALSE | FALSE |\n",
       "| FALSE |  TRUE | FALSE |\n",
       "| FALSE | FALSE | FALSE |\n",
       "\n"
      ],
      "text/plain": [
       "  a     b     a_and_b\n",
       "1  TRUE  TRUE  TRUE  \n",
       "2  TRUE FALSE FALSE  \n",
       "3 FALSE  TRUE FALSE  \n",
       "4 FALSE FALSE FALSE  "
      ]
     },
     "metadata": {},
     "output_type": "display_data"
    },
    {
     "data": {
      "text/html": [
       "<table class=\"dataframe\">\n",
       "<caption>A data.frame: 4 × 3</caption>\n",
       "<thead>\n",
       "\t<tr><th scope=col>a</th><th scope=col>b</th><th scope=col>a_or_b</th></tr>\n",
       "\t<tr><th scope=col>&lt;lgl&gt;</th><th scope=col>&lt;lgl&gt;</th><th scope=col>&lt;lgl&gt;</th></tr>\n",
       "</thead>\n",
       "<tbody>\n",
       "\t<tr><td> TRUE</td><td> TRUE</td><td> TRUE</td></tr>\n",
       "\t<tr><td> TRUE</td><td>FALSE</td><td> TRUE</td></tr>\n",
       "\t<tr><td>FALSE</td><td> TRUE</td><td> TRUE</td></tr>\n",
       "\t<tr><td>FALSE</td><td>FALSE</td><td>FALSE</td></tr>\n",
       "</tbody>\n",
       "</table>\n"
      ],
      "text/latex": [
       "A data.frame: 4 × 3\n",
       "\\begin{tabular}{lll}\n",
       " a & b & a\\_or\\_b\\\\\n",
       " <lgl> & <lgl> & <lgl>\\\\\n",
       "\\hline\n",
       "\t  TRUE &  TRUE &  TRUE\\\\\n",
       "\t  TRUE & FALSE &  TRUE\\\\\n",
       "\t FALSE &  TRUE &  TRUE\\\\\n",
       "\t FALSE & FALSE & FALSE\\\\\n",
       "\\end{tabular}\n"
      ],
      "text/markdown": [
       "\n",
       "A data.frame: 4 × 3\n",
       "\n",
       "| a &lt;lgl&gt; | b &lt;lgl&gt; | a_or_b &lt;lgl&gt; |\n",
       "|---|---|---|\n",
       "|  TRUE |  TRUE |  TRUE |\n",
       "|  TRUE | FALSE |  TRUE |\n",
       "| FALSE |  TRUE |  TRUE |\n",
       "| FALSE | FALSE | FALSE |\n",
       "\n"
      ],
      "text/plain": [
       "  a     b     a_or_b\n",
       "1  TRUE  TRUE  TRUE \n",
       "2  TRUE FALSE  TRUE \n",
       "3 FALSE  TRUE  TRUE \n",
       "4 FALSE FALSE FALSE "
      ]
     },
     "metadata": {},
     "output_type": "display_data"
    }
   ],
   "source": [
    "two_boolean_variables <- data.frame(\n",
    "    a = c(TRUE, TRUE, FALSE, FALSE),\n",
    "    b = c(TRUE, FALSE, TRUE, FALSE)\n",
    ")\n",
    "\n",
    "two_boolean_variables %>% select(-a) %>% mutate(not_b = !b) %>% head(2)\n",
    "two_boolean_variables %>% mutate(a_and_b = a & b)\n",
    "two_boolean_variables %>% mutate(a_or_b = a | b)"
   ]
  },
  {
   "cell_type": "markdown",
   "id": "cd1047fe",
   "metadata": {},
   "source": [
    "<pre><code>\n",
    "if ( BOOLEAN_EXPRESSION_1 ) {\n",
    "    ACTION_IF_EXPRESSOIN_1_IS_TRUE\n",
    "} else if ( BOOLEAN_EXPRESSION_2 ) {\n",
    "    ACTION_IF_EXPRESSOIN_2_IS_TRUE # and expressoin 1 is false\n",
    "} else {\n",
    "    ACTION_IF_BOTH_EXPRESSOINS_ARE_FALSE\n",
    "}\n",
    "</code></pre>"
   ]
  },
  {
   "cell_type": "code",
   "execution_count": null,
   "id": "a688c6c3",
   "metadata": {},
   "outputs": [],
   "source": []
  }
 ],
 "metadata": {
  "kernelspec": {
   "display_name": "R",
   "language": "R",
   "name": "ir"
  },
  "language_info": {
   "codemirror_mode": "r",
   "file_extension": ".r",
   "mimetype": "text/x-r-source",
   "name": "R",
   "pygments_lexer": "r",
   "version": "4.0.5"
  }
 },
 "nbformat": 4,
 "nbformat_minor": 5
}
