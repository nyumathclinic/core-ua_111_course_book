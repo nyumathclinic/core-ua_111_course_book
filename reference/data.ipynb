{
 "cells": [
  {
   "cell_type": "markdown",
   "id": "a445508b",
   "metadata": {},
   "source": [
    "(data)=\n",
    "# Exploring Data\n",
    "\n",
    "In this section, we will learn how to work with data sets.\n",
    "```{tableofcontents}\n",
    "```"
   ]
  }
 ],
 "metadata": {
  "kernelspec": {
   "display_name": "R",
   "language": "R",
   "name": "ir"
  },
  "language_info": {
   "codemirror_mode": "r",
   "file_extension": ".r",
   "mimetype": "text/x-r-source",
   "name": "R",
   "pygments_lexer": "r",
   "version": "4.0.5"
  }
 },
 "nbformat": 4,
 "nbformat_minor": 5
}
