{
 "cells": [
  {
   "cell_type": "markdown",
   "metadata": {},
   "source": [
    "(r_basics)=\n",
    "# R basics\n",
    "\n",
    "R is a free statistical computing tool. You can learn more about it on [R project website](https://www.r-project.org/). "
   ]
  },
  {
   "cell_type": "markdown",
   "metadata": {},
   "source": [
    "## Comments"
   ]
  },
  {
   "cell_type": "markdown",
   "metadata": {},
   "source": [
    "Comments are ignored by R. Their purpose is to make the code more readable. Comments are proceeded by `#` pound signs."
   ]
  },
  {
   "cell_type": "code",
   "execution_count": 1,
   "metadata": {},
   "outputs": [],
   "source": [
    "# R ignores this."
   ]
  },
  {
   "cell_type": "markdown",
   "metadata": {},
   "source": [
    "## Documentation\n",
    "To view the documentation of any built-in object in R, write a question mark in front of the name of the object and execute the code.\n",
    "\n",
    "?OBJECT_NAME\n",
    "\n",
    "For example, executing `?sum` opens a pop up with information about the `sum()` function."
   ]
  },
  {
   "cell_type": "markdown",
   "metadata": {},
   "source": [
    "## More R basics\n",
    "For more information on base R functionality, see these sections: \n",
    "```{tableofcontents}\n",
    "```"
   ]
  }
 ],
 "metadata": {
  "kernelspec": {
   "display_name": "R",
   "language": "R",
   "name": "ir"
  },
  "language_info": {
   "codemirror_mode": "r",
   "file_extension": ".r",
   "mimetype": "text/x-r-source",
   "name": "R",
   "pygments_lexer": "r",
   "version": "4.0.5"
  }
 },
 "nbformat": 4,
 "nbformat_minor": 4
}
