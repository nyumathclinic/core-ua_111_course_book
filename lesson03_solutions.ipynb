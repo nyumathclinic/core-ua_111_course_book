{
 "cells": [
  {
   "cell_type": "markdown",
   "metadata": {},
   "source": [
    "# Lesson 3 Variables and dataframes\n",
    "\n",
    "These exercises are to help you check your understanding during class. They will not be collected."
   ]
  },
  {
   "cell_type": "markdown",
   "metadata": {},
   "source": [
    "## Useful links\n",
    "### Class notes\n",
    "Link on Brightspace or<br>\n",
    "Tiny URL: https://tinyurl.com/Fall21CORE111\n",
    "\n",
    "\n",
    "### Poll Everywhere\n",
    "The following links are also on NYU Classes<br>\n",
    "Login: https://www.polleverywhere.com/auth/saml/nyu_main<br>\n",
    "Respond: https://pollev.com/clarkson<br>"
   ]
  },
  {
   "cell_type": "markdown",
   "metadata": {},
   "source": [
    "## Part 1: Lists"
   ]
  },
  {
   "cell_type": "markdown",
   "metadata": {},
   "source": [
    "### Exercise 0 - Access notebook and copy it\n",
    "* Save your own copy of this notebook by using the menu opetion File > Save As. \n",
    "* Now, **refresh the page**. The red icon in the upper right should no longer be visible. "
   ]
  },
  {
   "cell_type": "markdown",
   "metadata": {},
   "source": [
    "### Exercise 1 - Review of lists\n",
    "\n",
    "Last class, we learned to make lists using both c() and number : number. We also learned to do perform arithemtic with lists.\n",
    "\n",
    "Without using Copy & Paste create a list whose entries are the following numbers:\n",
    "10 15 20 25 30 35 40 45 50 55."
   ]
  },
  {
   "cell_type": "code",
   "execution_count": null,
   "metadata": {},
   "outputs": [],
   "source": [
    "(2:11)*5"
   ]
  },
  {
   "cell_type": "markdown",
   "metadata": {
    "slideshow": {
     "slide_type": "slide"
    }
   },
   "source": [
    "### Exercise 2 - Ice cream sale!!!\n",
    "\n",
    "An icecream truck sells many different types of ice cream. The prices of each type of ice cream are stored in a list called `ice_cream_prices`in the code cell below. Today the icecream is on sale! The amount that each item is discounted is stored in the list called `discounts`. The order of the discounts corresponds to the order of the prices. \n",
    "\n",
    "Create a new list with the sale prices of each item and store the list in a variable called `sale_prices`."
   ]
  },
  {
   "cell_type": "code",
   "execution_count": 1,
   "metadata": {},
   "outputs": [],
   "source": [
    "ice_cream_prices <- c(1.25, 3, 5.99, 1.75, 6.75, 4.99, 7.09, 3.55, 2)\n",
    "discounts <- c(0.25, 1, 0.50, 0.5, 1, 0, 1, 0.25, 0)\n",
    "# notice that R gives no output when you assign values to variables\n",
    "# you can see that the cell has been exicuted if there is a number in the brackets: In []"
   ]
  },
  {
   "cell_type": "code",
   "execution_count": null,
   "metadata": {},
   "outputs": [],
   "source": [
    "# if we want to check tha thte values are in a variable, we can exicute just the variable name\n",
    "discounts"
   ]
  },
  {
   "cell_type": "code",
   "execution_count": null,
   "metadata": {},
   "outputs": [],
   "source": [
    "sale_prices <- ice_cream_prices - discounts\n",
    "sale_prices"
   ]
  },
  {
   "cell_type": "markdown",
   "metadata": {},
   "source": [
    "### Exercises 3 - More ice cream \n",
    "Use `sale_prices` from excercise 2 and R functions to determine the ansers to the following questions:\n",
    "* How many types of ice cream does the truck sell?\n",
    "* What is the cost of the most exspensive frozen treat?\n",
    "* What is the cost of the cheapest ice cream option?\n",
    "* What is the average cost of an item from the truck rounded to the nearest cent?"
   ]
  },
  {
   "cell_type": "code",
   "execution_count": null,
   "metadata": {},
   "outputs": [],
   "source": [
    "length(sale_prices) # number of types of ice cream\n",
    "max(sale_prices) # cost of most expensive\n",
    "min(sale_prices) # cheapest price\n",
    "mean(sale_prices) # average cost"
   ]
  },
  {
   "cell_type": "markdown",
   "metadata": {},
   "source": [
    "## Part 2: Old faithful"
   ]
  },
  {
   "cell_type": "markdown",
   "metadata": {},
   "source": [
    "### Exercise 4 - Old Failthful\n",
    "\n",
    "One of the data sets in the datasets package is called `faithful`. Use the documentation on this dataset to answer the following question. Wrtie your answer in the markdown cell below. \n",
    "\n",
    "Why is there reason to believe that this data includes errors introduced by humans?"
   ]
  },
  {
   "cell_type": "code",
   "execution_count": 10,
   "metadata": {},
   "outputs": [
    {
     "name": "stderr",
     "output_type": "stream",
     "text": [
      "Warning message in seq_len(head.end.idx):\n",
      "“first element used of 'length.out' argument”\n",
      "ERROR while rich displaying an object: Error in seq_len(head.end.idx): argument must be coercible to non-negative integer\n",
      "\n",
      "Traceback:\n",
      "1. FUN(X[[i]], ...)\n",
      "2. tryCatch(withCallingHandlers({\n",
      " .     if (!mime %in% names(repr::mime2repr)) \n",
      " .         stop(\"No repr_* for mimetype \", mime, \" in repr::mime2repr\")\n",
      " .     rpr <- repr::mime2repr[[mime]](obj)\n",
      " .     if (is.null(rpr)) \n",
      " .         return(NULL)\n",
      " .     prepare_content(is.raw(rpr), rpr)\n",
      " . }, error = error_handler), error = outer_handler)\n",
      "3. tryCatchList(expr, classes, parentenv, handlers)\n",
      "4. tryCatchOne(expr, names, parentenv, handlers[[1L]])\n",
      "5. doTryCatch(return(expr), name, parentenv, handler)\n",
      "6. withCallingHandlers({\n",
      " .     if (!mime %in% names(repr::mime2repr)) \n",
      " .         stop(\"No repr_* for mimetype \", mime, \" in repr::mime2repr\")\n",
      " .     rpr <- repr::mime2repr[[mime]](obj)\n",
      " .     if (is.null(rpr)) \n",
      " .         return(NULL)\n",
      " .     prepare_content(is.raw(rpr), rpr)\n",
      " . }, error = error_handler)\n",
      "7. repr::mime2repr[[mime]](obj)\n",
      "8. repr_html.help_files_with_topic(obj)\n",
      "9. repr_help_files_with_topic_generic(obj, Rd2HTML)\n"
     ]
    }
   ],
   "source": [
    "?faithful"
   ]
  },
  {
   "cell_type": "markdown",
   "metadata": {},
   "source": [
    "### Exercise 5 - The last observation\n",
    "\n",
    "How long was the last erruption recorded in the fialthful data set? Write you answer in the markdown cell below. Don't forget units!"
   ]
  },
  {
   "cell_type": "code",
   "execution_count": 11,
   "metadata": {},
   "outputs": [
    {
     "data": {
      "text/html": [
       "<table class=\"dataframe\">\n",
       "<caption>A data.frame: 272 × 2</caption>\n",
       "<thead>\n",
       "\t<tr><th></th><th scope=col>eruptions</th><th scope=col>waiting</th></tr>\n",
       "\t<tr><th></th><th scope=col>&lt;dbl&gt;</th><th scope=col>&lt;dbl&gt;</th></tr>\n",
       "</thead>\n",
       "<tbody>\n",
       "\t<tr><th scope=row>1</th><td>3.600</td><td>79</td></tr>\n",
       "\t<tr><th scope=row>2</th><td>1.800</td><td>54</td></tr>\n",
       "\t<tr><th scope=row>3</th><td>3.333</td><td>74</td></tr>\n",
       "\t<tr><th scope=row>4</th><td>2.283</td><td>62</td></tr>\n",
       "\t<tr><th scope=row>5</th><td>4.533</td><td>85</td></tr>\n",
       "\t<tr><th scope=row>6</th><td>2.883</td><td>55</td></tr>\n",
       "\t<tr><th scope=row>7</th><td>4.700</td><td>88</td></tr>\n",
       "\t<tr><th scope=row>8</th><td>3.600</td><td>85</td></tr>\n",
       "\t<tr><th scope=row>9</th><td>1.950</td><td>51</td></tr>\n",
       "\t<tr><th scope=row>10</th><td>4.350</td><td>85</td></tr>\n",
       "\t<tr><th scope=row>11</th><td>1.833</td><td>54</td></tr>\n",
       "\t<tr><th scope=row>12</th><td>3.917</td><td>84</td></tr>\n",
       "\t<tr><th scope=row>13</th><td>4.200</td><td>78</td></tr>\n",
       "\t<tr><th scope=row>14</th><td>1.750</td><td>47</td></tr>\n",
       "\t<tr><th scope=row>15</th><td>4.700</td><td>83</td></tr>\n",
       "\t<tr><th scope=row>16</th><td>2.167</td><td>52</td></tr>\n",
       "\t<tr><th scope=row>17</th><td>1.750</td><td>62</td></tr>\n",
       "\t<tr><th scope=row>18</th><td>4.800</td><td>84</td></tr>\n",
       "\t<tr><th scope=row>19</th><td>1.600</td><td>52</td></tr>\n",
       "\t<tr><th scope=row>20</th><td>4.250</td><td>79</td></tr>\n",
       "\t<tr><th scope=row>21</th><td>1.800</td><td>51</td></tr>\n",
       "\t<tr><th scope=row>22</th><td>1.750</td><td>47</td></tr>\n",
       "\t<tr><th scope=row>23</th><td>3.450</td><td>78</td></tr>\n",
       "\t<tr><th scope=row>24</th><td>3.067</td><td>69</td></tr>\n",
       "\t<tr><th scope=row>25</th><td>4.533</td><td>74</td></tr>\n",
       "\t<tr><th scope=row>26</th><td>3.600</td><td>83</td></tr>\n",
       "\t<tr><th scope=row>27</th><td>1.967</td><td>55</td></tr>\n",
       "\t<tr><th scope=row>28</th><td>4.083</td><td>76</td></tr>\n",
       "\t<tr><th scope=row>29</th><td>3.850</td><td>78</td></tr>\n",
       "\t<tr><th scope=row>30</th><td>4.433</td><td>79</td></tr>\n",
       "\t<tr><th scope=row>⋮</th><td>⋮</td><td>⋮</td></tr>\n",
       "\t<tr><th scope=row>243</th><td>4.933</td><td>86</td></tr>\n",
       "\t<tr><th scope=row>244</th><td>2.900</td><td>63</td></tr>\n",
       "\t<tr><th scope=row>245</th><td>4.583</td><td>85</td></tr>\n",
       "\t<tr><th scope=row>246</th><td>3.833</td><td>82</td></tr>\n",
       "\t<tr><th scope=row>247</th><td>2.083</td><td>57</td></tr>\n",
       "\t<tr><th scope=row>248</th><td>4.367</td><td>82</td></tr>\n",
       "\t<tr><th scope=row>249</th><td>2.133</td><td>67</td></tr>\n",
       "\t<tr><th scope=row>250</th><td>4.350</td><td>74</td></tr>\n",
       "\t<tr><th scope=row>251</th><td>2.200</td><td>54</td></tr>\n",
       "\t<tr><th scope=row>252</th><td>4.450</td><td>83</td></tr>\n",
       "\t<tr><th scope=row>253</th><td>3.567</td><td>73</td></tr>\n",
       "\t<tr><th scope=row>254</th><td>4.500</td><td>73</td></tr>\n",
       "\t<tr><th scope=row>255</th><td>4.150</td><td>88</td></tr>\n",
       "\t<tr><th scope=row>256</th><td>3.817</td><td>80</td></tr>\n",
       "\t<tr><th scope=row>257</th><td>3.917</td><td>71</td></tr>\n",
       "\t<tr><th scope=row>258</th><td>4.450</td><td>83</td></tr>\n",
       "\t<tr><th scope=row>259</th><td>2.000</td><td>56</td></tr>\n",
       "\t<tr><th scope=row>260</th><td>4.283</td><td>79</td></tr>\n",
       "\t<tr><th scope=row>261</th><td>4.767</td><td>78</td></tr>\n",
       "\t<tr><th scope=row>262</th><td>4.533</td><td>84</td></tr>\n",
       "\t<tr><th scope=row>263</th><td>1.850</td><td>58</td></tr>\n",
       "\t<tr><th scope=row>264</th><td>4.250</td><td>83</td></tr>\n",
       "\t<tr><th scope=row>265</th><td>1.983</td><td>43</td></tr>\n",
       "\t<tr><th scope=row>266</th><td>2.250</td><td>60</td></tr>\n",
       "\t<tr><th scope=row>267</th><td>4.750</td><td>75</td></tr>\n",
       "\t<tr><th scope=row>268</th><td>4.117</td><td>81</td></tr>\n",
       "\t<tr><th scope=row>269</th><td>2.150</td><td>46</td></tr>\n",
       "\t<tr><th scope=row>270</th><td>4.417</td><td>90</td></tr>\n",
       "\t<tr><th scope=row>271</th><td>1.817</td><td>46</td></tr>\n",
       "\t<tr><th scope=row>272</th><td>4.467</td><td>74</td></tr>\n",
       "</tbody>\n",
       "</table>\n"
      ],
      "text/latex": [
       "A data.frame: 272 × 2\n",
       "\\begin{tabular}{r|ll}\n",
       "  & eruptions & waiting\\\\\n",
       "  & <dbl> & <dbl>\\\\\n",
       "\\hline\n",
       "\t1 & 3.600 & 79\\\\\n",
       "\t2 & 1.800 & 54\\\\\n",
       "\t3 & 3.333 & 74\\\\\n",
       "\t4 & 2.283 & 62\\\\\n",
       "\t5 & 4.533 & 85\\\\\n",
       "\t6 & 2.883 & 55\\\\\n",
       "\t7 & 4.700 & 88\\\\\n",
       "\t8 & 3.600 & 85\\\\\n",
       "\t9 & 1.950 & 51\\\\\n",
       "\t10 & 4.350 & 85\\\\\n",
       "\t11 & 1.833 & 54\\\\\n",
       "\t12 & 3.917 & 84\\\\\n",
       "\t13 & 4.200 & 78\\\\\n",
       "\t14 & 1.750 & 47\\\\\n",
       "\t15 & 4.700 & 83\\\\\n",
       "\t16 & 2.167 & 52\\\\\n",
       "\t17 & 1.750 & 62\\\\\n",
       "\t18 & 4.800 & 84\\\\\n",
       "\t19 & 1.600 & 52\\\\\n",
       "\t20 & 4.250 & 79\\\\\n",
       "\t21 & 1.800 & 51\\\\\n",
       "\t22 & 1.750 & 47\\\\\n",
       "\t23 & 3.450 & 78\\\\\n",
       "\t24 & 3.067 & 69\\\\\n",
       "\t25 & 4.533 & 74\\\\\n",
       "\t26 & 3.600 & 83\\\\\n",
       "\t27 & 1.967 & 55\\\\\n",
       "\t28 & 4.083 & 76\\\\\n",
       "\t29 & 3.850 & 78\\\\\n",
       "\t30 & 4.433 & 79\\\\\n",
       "\t⋮ & ⋮ & ⋮\\\\\n",
       "\t243 & 4.933 & 86\\\\\n",
       "\t244 & 2.900 & 63\\\\\n",
       "\t245 & 4.583 & 85\\\\\n",
       "\t246 & 3.833 & 82\\\\\n",
       "\t247 & 2.083 & 57\\\\\n",
       "\t248 & 4.367 & 82\\\\\n",
       "\t249 & 2.133 & 67\\\\\n",
       "\t250 & 4.350 & 74\\\\\n",
       "\t251 & 2.200 & 54\\\\\n",
       "\t252 & 4.450 & 83\\\\\n",
       "\t253 & 3.567 & 73\\\\\n",
       "\t254 & 4.500 & 73\\\\\n",
       "\t255 & 4.150 & 88\\\\\n",
       "\t256 & 3.817 & 80\\\\\n",
       "\t257 & 3.917 & 71\\\\\n",
       "\t258 & 4.450 & 83\\\\\n",
       "\t259 & 2.000 & 56\\\\\n",
       "\t260 & 4.283 & 79\\\\\n",
       "\t261 & 4.767 & 78\\\\\n",
       "\t262 & 4.533 & 84\\\\\n",
       "\t263 & 1.850 & 58\\\\\n",
       "\t264 & 4.250 & 83\\\\\n",
       "\t265 & 1.983 & 43\\\\\n",
       "\t266 & 2.250 & 60\\\\\n",
       "\t267 & 4.750 & 75\\\\\n",
       "\t268 & 4.117 & 81\\\\\n",
       "\t269 & 2.150 & 46\\\\\n",
       "\t270 & 4.417 & 90\\\\\n",
       "\t271 & 1.817 & 46\\\\\n",
       "\t272 & 4.467 & 74\\\\\n",
       "\\end{tabular}\n"
      ],
      "text/markdown": [
       "\n",
       "A data.frame: 272 × 2\n",
       "\n",
       "| <!--/--> | eruptions &lt;dbl&gt; | waiting &lt;dbl&gt; |\n",
       "|---|---|---|\n",
       "| 1 | 3.600 | 79 |\n",
       "| 2 | 1.800 | 54 |\n",
       "| 3 | 3.333 | 74 |\n",
       "| 4 | 2.283 | 62 |\n",
       "| 5 | 4.533 | 85 |\n",
       "| 6 | 2.883 | 55 |\n",
       "| 7 | 4.700 | 88 |\n",
       "| 8 | 3.600 | 85 |\n",
       "| 9 | 1.950 | 51 |\n",
       "| 10 | 4.350 | 85 |\n",
       "| 11 | 1.833 | 54 |\n",
       "| 12 | 3.917 | 84 |\n",
       "| 13 | 4.200 | 78 |\n",
       "| 14 | 1.750 | 47 |\n",
       "| 15 | 4.700 | 83 |\n",
       "| 16 | 2.167 | 52 |\n",
       "| 17 | 1.750 | 62 |\n",
       "| 18 | 4.800 | 84 |\n",
       "| 19 | 1.600 | 52 |\n",
       "| 20 | 4.250 | 79 |\n",
       "| 21 | 1.800 | 51 |\n",
       "| 22 | 1.750 | 47 |\n",
       "| 23 | 3.450 | 78 |\n",
       "| 24 | 3.067 | 69 |\n",
       "| 25 | 4.533 | 74 |\n",
       "| 26 | 3.600 | 83 |\n",
       "| 27 | 1.967 | 55 |\n",
       "| 28 | 4.083 | 76 |\n",
       "| 29 | 3.850 | 78 |\n",
       "| 30 | 4.433 | 79 |\n",
       "| ⋮ | ⋮ | ⋮ |\n",
       "| 243 | 4.933 | 86 |\n",
       "| 244 | 2.900 | 63 |\n",
       "| 245 | 4.583 | 85 |\n",
       "| 246 | 3.833 | 82 |\n",
       "| 247 | 2.083 | 57 |\n",
       "| 248 | 4.367 | 82 |\n",
       "| 249 | 2.133 | 67 |\n",
       "| 250 | 4.350 | 74 |\n",
       "| 251 | 2.200 | 54 |\n",
       "| 252 | 4.450 | 83 |\n",
       "| 253 | 3.567 | 73 |\n",
       "| 254 | 4.500 | 73 |\n",
       "| 255 | 4.150 | 88 |\n",
       "| 256 | 3.817 | 80 |\n",
       "| 257 | 3.917 | 71 |\n",
       "| 258 | 4.450 | 83 |\n",
       "| 259 | 2.000 | 56 |\n",
       "| 260 | 4.283 | 79 |\n",
       "| 261 | 4.767 | 78 |\n",
       "| 262 | 4.533 | 84 |\n",
       "| 263 | 1.850 | 58 |\n",
       "| 264 | 4.250 | 83 |\n",
       "| 265 | 1.983 | 43 |\n",
       "| 266 | 2.250 | 60 |\n",
       "| 267 | 4.750 | 75 |\n",
       "| 268 | 4.117 | 81 |\n",
       "| 269 | 2.150 | 46 |\n",
       "| 270 | 4.417 | 90 |\n",
       "| 271 | 1.817 | 46 |\n",
       "| 272 | 4.467 | 74 |\n",
       "\n"
      ],
      "text/plain": [
       "    eruptions waiting\n",
       "1   3.600     79     \n",
       "2   1.800     54     \n",
       "3   3.333     74     \n",
       "4   2.283     62     \n",
       "5   4.533     85     \n",
       "6   2.883     55     \n",
       "7   4.700     88     \n",
       "8   3.600     85     \n",
       "9   1.950     51     \n",
       "10  4.350     85     \n",
       "11  1.833     54     \n",
       "12  3.917     84     \n",
       "13  4.200     78     \n",
       "14  1.750     47     \n",
       "15  4.700     83     \n",
       "16  2.167     52     \n",
       "17  1.750     62     \n",
       "18  4.800     84     \n",
       "19  1.600     52     \n",
       "20  4.250     79     \n",
       "21  1.800     51     \n",
       "22  1.750     47     \n",
       "23  3.450     78     \n",
       "24  3.067     69     \n",
       "25  4.533     74     \n",
       "26  3.600     83     \n",
       "27  1.967     55     \n",
       "28  4.083     76     \n",
       "29  3.850     78     \n",
       "30  4.433     79     \n",
       "⋮   ⋮         ⋮      \n",
       "243 4.933     86     \n",
       "244 2.900     63     \n",
       "245 4.583     85     \n",
       "246 3.833     82     \n",
       "247 2.083     57     \n",
       "248 4.367     82     \n",
       "249 2.133     67     \n",
       "250 4.350     74     \n",
       "251 2.200     54     \n",
       "252 4.450     83     \n",
       "253 3.567     73     \n",
       "254 4.500     73     \n",
       "255 4.150     88     \n",
       "256 3.817     80     \n",
       "257 3.917     71     \n",
       "258 4.450     83     \n",
       "259 2.000     56     \n",
       "260 4.283     79     \n",
       "261 4.767     78     \n",
       "262 4.533     84     \n",
       "263 1.850     58     \n",
       "264 4.250     83     \n",
       "265 1.983     43     \n",
       "266 2.250     60     \n",
       "267 4.750     75     \n",
       "268 4.117     81     \n",
       "269 2.150     46     \n",
       "270 4.417     90     \n",
       "271 1.817     46     \n",
       "272 4.467     74     "
      ]
     },
     "metadata": {},
     "output_type": "display_data"
    }
   ],
   "source": [
    "faithful"
   ]
  },
  {
   "cell_type": "markdown",
   "metadata": {},
   "source": [
    "The last eruption was 4.467 minutes."
   ]
  },
  {
   "cell_type": "code",
   "execution_count": 12,
   "metadata": {},
   "outputs": [
    {
     "name": "stdout",
     "output_type": "stream",
     "text": [
      "'data.frame':\t272 obs. of  2 variables:\n",
      " $ eruptions: num  3.6 1.8 3.33 2.28 4.53 ...\n",
      " $ waiting  : num  79 54 74 62 85 55 88 85 51 85 ...\n"
     ]
    }
   ],
   "source": [
    "str(faithful)"
   ]
  },
  {
   "cell_type": "code",
   "execution_count": 13,
   "metadata": {},
   "outputs": [
    {
     "data": {
      "text/html": [
       "4.467"
      ],
      "text/latex": [
       "4.467"
      ],
      "text/markdown": [
       "4.467"
      ],
      "text/plain": [
       "[1] 4.467"
      ]
     },
     "metadata": {},
     "output_type": "display_data"
    }
   ],
   "source": [
    "faithful$eruptions[272]"
   ]
  },
  {
   "cell_type": "markdown",
   "metadata": {},
   "source": [
    "### Exercise 6 - Change the units\n",
    "\n",
    "The faithful data set gives the duration of the erruptions in minutes and fractions of a minute. It would be easer to understad the data if we converted the decimals to seconds. Demonstrate that this could be done by finding the duration of the 13th recorded eruption in therms of minuts and seconds. "
   ]
  },
  {
   "cell_type": "code",
   "execution_count": 14,
   "metadata": {},
   "outputs": [
    {
     "data": {
      "text/html": [
       "4.2"
      ],
      "text/latex": [
       "4.2"
      ],
      "text/markdown": [
       "4.2"
      ],
      "text/plain": [
       "[1] 4.2"
      ]
     },
     "metadata": {},
     "output_type": "display_data"
    }
   ],
   "source": [
    "faithful$eruptions[13]"
   ]
  },
  {
   "cell_type": "code",
   "execution_count": 16,
   "metadata": {},
   "outputs": [
    {
     "data": {
      "text/html": [
       "12"
      ],
      "text/latex": [
       "12"
      ],
      "text/markdown": [
       "12"
      ],
      "text/plain": [
       "[1] 12"
      ]
     },
     "metadata": {},
     "output_type": "display_data"
    }
   ],
   "source": [
    "#0.2  minutes to seconds\n",
    "# 60 seconds in a minute\n",
    "0.2*60"
   ]
  },
  {
   "cell_type": "markdown",
   "metadata": {},
   "source": [
    "The 13th eruption lasted 4 minutes and 12 seconds."
   ]
  },
  {
   "cell_type": "markdown",
   "metadata": {},
   "source": [
    "## Part 3: UC Berkeley"
   ]
  },
  {
   "cell_type": "markdown",
   "metadata": {},
   "source": [
    "### Exercise 7 - Load Berkeley addmissions data\n",
    "\n",
    "Execute the command in the code cell below to load the Berkeley admisions data. Then varify that it loaded correctly by excuting a command that displays all or part of the data. "
   ]
  },
  {
   "cell_type": "code",
   "execution_count": 19,
   "metadata": {
    "scrolled": true
   },
   "outputs": [],
   "source": [
    "berkeley <- read.csv('~/shared/data/berkeley73.csv')"
   ]
  },
  {
   "cell_type": "markdown",
   "metadata": {},
   "source": [
    "### Exercise 8 - Admissons rates\n",
    "\n",
    "Add two new columns to the berkeley data frame. One that contains the percentage of men who were admitted by each department and a second that contains the percentage of women that were admitted by each department. "
   ]
  },
  {
   "cell_type": "code",
   "execution_count": null,
   "metadata": {},
   "outputs": [],
   "source": []
  },
  {
   "cell_type": "markdown",
   "metadata": {},
   "source": [
    "## Examples"
   ]
  },
  {
   "cell_type": "markdown",
   "metadata": {},
   "source": [
    "### Example 1: Variables and list fucntions"
   ]
  },
  {
   "cell_type": "code",
   "execution_count": null,
   "metadata": {
    "scrolled": false
   },
   "outputs": [],
   "source": [
    "numbers <- c(5.8, 3.52, 7.81, 0.4, 4.79, 3.04, 4.89, 5.23, 2.37, 4.32) \n",
    "# generated using a random number generator\n",
    "mean(numbers)"
   ]
  },
  {
   "cell_type": "code",
   "execution_count": 35,
   "metadata": {},
   "outputs": [
    {
     "data": {
      "text/html": [
       "7.81"
      ],
      "text/latex": [
       "7.81"
      ],
      "text/markdown": [
       "7.81"
      ],
      "text/plain": [
       "[1] 7.81"
      ]
     },
     "metadata": {},
     "output_type": "display_data"
    }
   ],
   "source": [
    "max(numbers)"
   ]
  },
  {
   "cell_type": "markdown",
   "metadata": {},
   "source": [
    "### Example: Airquality data set"
   ]
  },
  {
   "cell_type": "code",
   "execution_count": 8,
   "metadata": {},
   "outputs": [],
   "source": [
    "library(help = \"datasets\")"
   ]
  },
  {
   "cell_type": "code",
   "execution_count": 17,
   "metadata": {},
   "outputs": [],
   "source": [
    "?airquality"
   ]
  },
  {
   "cell_type": "code",
   "execution_count": 18,
   "metadata": {},
   "outputs": [
    {
     "data": {
      "text/html": [
       "<table class=\"dataframe\">\n",
       "<caption>A data.frame: 3 × 6</caption>\n",
       "<thead>\n",
       "\t<tr><th></th><th scope=col>Ozone</th><th scope=col>Solar.R</th><th scope=col>Wind</th><th scope=col>Temp</th><th scope=col>Month</th><th scope=col>Day</th></tr>\n",
       "\t<tr><th></th><th scope=col>&lt;int&gt;</th><th scope=col>&lt;int&gt;</th><th scope=col>&lt;dbl&gt;</th><th scope=col>&lt;int&gt;</th><th scope=col>&lt;int&gt;</th><th scope=col>&lt;int&gt;</th></tr>\n",
       "</thead>\n",
       "<tbody>\n",
       "\t<tr><th scope=row>1</th><td>41</td><td>190</td><td> 7.4</td><td>67</td><td>5</td><td>1</td></tr>\n",
       "\t<tr><th scope=row>2</th><td>36</td><td>118</td><td> 8.0</td><td>72</td><td>5</td><td>2</td></tr>\n",
       "\t<tr><th scope=row>3</th><td>12</td><td>149</td><td>12.6</td><td>74</td><td>5</td><td>3</td></tr>\n",
       "</tbody>\n",
       "</table>\n"
      ],
      "text/latex": [
       "A data.frame: 3 × 6\n",
       "\\begin{tabular}{r|llllll}\n",
       "  & Ozone & Solar.R & Wind & Temp & Month & Day\\\\\n",
       "  & <int> & <int> & <dbl> & <int> & <int> & <int>\\\\\n",
       "\\hline\n",
       "\t1 & 41 & 190 &  7.4 & 67 & 5 & 1\\\\\n",
       "\t2 & 36 & 118 &  8.0 & 72 & 5 & 2\\\\\n",
       "\t3 & 12 & 149 & 12.6 & 74 & 5 & 3\\\\\n",
       "\\end{tabular}\n"
      ],
      "text/markdown": [
       "\n",
       "A data.frame: 3 × 6\n",
       "\n",
       "| <!--/--> | Ozone &lt;int&gt; | Solar.R &lt;int&gt; | Wind &lt;dbl&gt; | Temp &lt;int&gt; | Month &lt;int&gt; | Day &lt;int&gt; |\n",
       "|---|---|---|---|---|---|---|\n",
       "| 1 | 41 | 190 |  7.4 | 67 | 5 | 1 |\n",
       "| 2 | 36 | 118 |  8.0 | 72 | 5 | 2 |\n",
       "| 3 | 12 | 149 | 12.6 | 74 | 5 | 3 |\n",
       "\n"
      ],
      "text/plain": [
       "  Ozone Solar.R Wind Temp Month Day\n",
       "1 41    190      7.4 67   5     1  \n",
       "2 36    118      8.0 72   5     2  \n",
       "3 12    149     12.6 74   5     3  "
      ]
     },
     "metadata": {},
     "output_type": "display_data"
    }
   ],
   "source": [
    "head(airquality,3) # gives the first few rows of a data frame"
   ]
  },
  {
   "cell_type": "code",
   "execution_count": 14,
   "metadata": {},
   "outputs": [
    {
     "name": "stderr",
     "output_type": "stream",
     "text": [
      "Warning message in mean.default(airquality$temp):\n",
      "“argument is not numeric or logical: returning NA”"
     ]
    },
    {
     "data": {
      "text/html": [
       "&lt;NA&gt;"
      ],
      "text/latex": [
       "<NA>"
      ],
      "text/markdown": [
       "&lt;NA&gt;"
      ],
      "text/plain": [
       "[1] NA"
      ]
     },
     "metadata": {},
     "output_type": "display_data"
    }
   ],
   "source": [
    "mean(airquality$temp) # Note that R is sensitice to campialization"
   ]
  },
  {
   "cell_type": "code",
   "execution_count": 15,
   "metadata": {},
   "outputs": [
    {
     "data": {
      "text/html": [
       "77.8823529411765"
      ],
      "text/latex": [
       "77.8823529411765"
      ],
      "text/markdown": [
       "77.8823529411765"
      ],
      "text/plain": [
       "[1] 77.88235"
      ]
     },
     "metadata": {},
     "output_type": "display_data"
    }
   ],
   "source": [
    "mean(airquality$Temp)"
   ]
  },
  {
   "cell_type": "markdown",
   "metadata": {},
   "source": [
    "The average high temperature in NYC from May to Septemerin 1973 was $77.9^\\circ$ F."
   ]
  },
  {
   "cell_type": "code",
   "execution_count": 18,
   "metadata": {},
   "outputs": [
    {
     "data": {
      "text/html": [
       "97"
      ],
      "text/latex": [
       "97"
      ],
      "text/markdown": [
       "97"
      ],
      "text/plain": [
       "[1] 97"
      ]
     },
     "metadata": {},
     "output_type": "display_data"
    }
   ],
   "source": [
    "max(airquality$Temp)"
   ]
  },
  {
   "cell_type": "markdown",
   "metadata": {},
   "source": [
    "The hottest day was $97^\\circ$ F."
   ]
  },
  {
   "cell_type": "markdown",
   "metadata": {},
   "source": [
    "### Example 3: Change the units\n",
    "\n",
    "We can use the formula below to convert a temperature $f$ in degrees Fahrenheit to the equivalent temperature $c$ in degrees Celcius\n",
    "$$(f − 32) \\cdot \\frac{5}{9} = c$$"
   ]
  },
  {
   "cell_type": "code",
   "execution_count": 19,
   "metadata": {},
   "outputs": [
    {
     "data": {
      "text/html": [
       "36.1111111111111"
      ],
      "text/latex": [
       "36.1111111111111"
      ],
      "text/markdown": [
       "36.1111111111111"
      ],
      "text/plain": [
       "[1] 36.11111"
      ]
     },
     "metadata": {},
     "output_type": "display_data"
    }
   ],
   "source": [
    "f <- 97\n",
    "(f-32)*5/9"
   ]
  },
  {
   "cell_type": "markdown",
   "metadata": {},
   "source": [
    "The hottest day was $36.1^\\circ$ C."
   ]
  },
  {
   "cell_type": "code",
   "execution_count": 23,
   "metadata": {},
   "outputs": [
    {
     "data": {
      "text/html": [
       "<table>\n",
       "<thead><tr><th scope=col>Ozone</th><th scope=col>Solar.R</th><th scope=col>Wind</th><th scope=col>Temp</th><th scope=col>Month</th><th scope=col>Day</th><th scope=col>Celcius</th></tr></thead>\n",
       "<tbody>\n",
       "\t<tr><td>41      </td><td>190     </td><td> 7.4    </td><td>67      </td><td>5       </td><td>1       </td><td>19.44444</td></tr>\n",
       "\t<tr><td>36      </td><td>118     </td><td> 8.0    </td><td>72      </td><td>5       </td><td>2       </td><td>22.22222</td></tr>\n",
       "\t<tr><td>12      </td><td>149     </td><td>12.6    </td><td>74      </td><td>5       </td><td>3       </td><td>23.33333</td></tr>\n",
       "\t<tr><td>18      </td><td>313     </td><td>11.5    </td><td>62      </td><td>5       </td><td>4       </td><td>16.66667</td></tr>\n",
       "\t<tr><td>NA      </td><td> NA     </td><td>14.3    </td><td>56      </td><td>5       </td><td>5       </td><td>13.33333</td></tr>\n",
       "\t<tr><td>28      </td><td> NA     </td><td>14.9    </td><td>66      </td><td>5       </td><td>6       </td><td>18.88889</td></tr>\n",
       "</tbody>\n",
       "</table>\n"
      ],
      "text/latex": [
       "\\begin{tabular}{r|lllllll}\n",
       " Ozone & Solar.R & Wind & Temp & Month & Day & Celcius\\\\\n",
       "\\hline\n",
       "\t 41       & 190      &  7.4     & 67       & 5        & 1        & 19.44444\\\\\n",
       "\t 36       & 118      &  8.0     & 72       & 5        & 2        & 22.22222\\\\\n",
       "\t 12       & 149      & 12.6     & 74       & 5        & 3        & 23.33333\\\\\n",
       "\t 18       & 313      & 11.5     & 62       & 5        & 4        & 16.66667\\\\\n",
       "\t NA       &  NA      & 14.3     & 56       & 5        & 5        & 13.33333\\\\\n",
       "\t 28       &  NA      & 14.9     & 66       & 5        & 6        & 18.88889\\\\\n",
       "\\end{tabular}\n"
      ],
      "text/markdown": [
       "\n",
       "| Ozone | Solar.R | Wind | Temp | Month | Day | Celcius |\n",
       "|---|---|---|---|---|---|---|\n",
       "| 41       | 190      |  7.4     | 67       | 5        | 1        | 19.44444 |\n",
       "| 36       | 118      |  8.0     | 72       | 5        | 2        | 22.22222 |\n",
       "| 12       | 149      | 12.6     | 74       | 5        | 3        | 23.33333 |\n",
       "| 18       | 313      | 11.5     | 62       | 5        | 4        | 16.66667 |\n",
       "| NA       |  NA      | 14.3     | 56       | 5        | 5        | 13.33333 |\n",
       "| 28       |  NA      | 14.9     | 66       | 5        | 6        | 18.88889 |\n",
       "\n"
      ],
      "text/plain": [
       "  Ozone Solar.R Wind Temp Month Day Celcius \n",
       "1 41    190      7.4 67   5     1   19.44444\n",
       "2 36    118      8.0 72   5     2   22.22222\n",
       "3 12    149     12.6 74   5     3   23.33333\n",
       "4 18    313     11.5 62   5     4   16.66667\n",
       "5 NA     NA     14.3 56   5     5   13.33333\n",
       "6 28     NA     14.9 66   5     6   18.88889"
      ]
     },
     "metadata": {},
     "output_type": "display_data"
    }
   ],
   "source": [
    "airquality$Celcius <- (airquality$Temp - 32)*5/9\n",
    "head(airquality)"
   ]
  },
  {
   "cell_type": "code",
   "execution_count": null,
   "metadata": {},
   "outputs": [],
   "source": []
  }
 ],
 "metadata": {
  "kernelspec": {
   "display_name": "R [conda env:FDTD]",
   "language": "R",
   "name": "conda-env-FDTD-r"
  },
  "language_info": {
   "codemirror_mode": "r",
   "file_extension": ".r",
   "mimetype": "text/x-r-source",
   "name": "R",
   "pygments_lexer": "r",
   "version": "4.0.3"
  }
 },
 "nbformat": 4,
 "nbformat_minor": 4
}
