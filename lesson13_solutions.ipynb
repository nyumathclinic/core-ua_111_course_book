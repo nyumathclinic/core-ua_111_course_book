{
 "cells": [
  {
   "cell_type": "markdown",
   "metadata": {},
   "source": [
    "# Lesson 13 - Evaluating a classifier\n",
    "These exercises are to help you check your understanding during class. They will not be collected."
   ]
  },
  {
   "cell_type": "markdown",
   "metadata": {},
   "source": [
    "## Part 1 - Readable Predictions"
   ]
  },
  {
   "cell_type": "markdown",
   "metadata": {},
   "source": [
    "### Exercise 1 - Load data and make it more readable\n",
    "- Load the data in the cancer.csv file in the shared data folder.\n",
    "- Use `factor()` to make the `Class` variable in the cancer data more human readable. Recall that lumps with Class 0 are benign and lumps with Class 1 are cancerous."
   ]
  },
  {
   "cell_type": "code",
   "execution_count": 2,
   "metadata": {},
   "outputs": [
    {
     "data": {
      "text/html": [
       "<table class=\"dataframe\">\n",
       "<caption>A data.frame: 6 × 11</caption>\n",
       "<thead>\n",
       "\t<tr><th></th><th scope=col>ID</th><th scope=col>Clump.Thickness</th><th scope=col>Uniformity.of.Cell.Size</th><th scope=col>Uniformity.of.Cell.Shape</th><th scope=col>Marginal.Adhesion</th><th scope=col>Single.Epithelial.Cell.Size</th><th scope=col>Bare.Nuclei</th><th scope=col>Bland.Chromatin</th><th scope=col>Normal.Nucleoli</th><th scope=col>Mitoses</th><th scope=col>Class</th></tr>\n",
       "\t<tr><th></th><th scope=col>&lt;int&gt;</th><th scope=col>&lt;int&gt;</th><th scope=col>&lt;int&gt;</th><th scope=col>&lt;int&gt;</th><th scope=col>&lt;int&gt;</th><th scope=col>&lt;int&gt;</th><th scope=col>&lt;int&gt;</th><th scope=col>&lt;int&gt;</th><th scope=col>&lt;int&gt;</th><th scope=col>&lt;int&gt;</th><th scope=col>&lt;fct&gt;</th></tr>\n",
       "</thead>\n",
       "<tbody>\n",
       "\t<tr><th scope=row>1</th><td>1000025</td><td>5</td><td> 1</td><td> 1</td><td>1</td><td>2</td><td> 1</td><td>3</td><td>1</td><td>1</td><td>benign   </td></tr>\n",
       "\t<tr><th scope=row>2</th><td>1002945</td><td>5</td><td> 4</td><td> 4</td><td>5</td><td>7</td><td>10</td><td>3</td><td>2</td><td>1</td><td>benign   </td></tr>\n",
       "\t<tr><th scope=row>3</th><td>1015425</td><td>3</td><td> 1</td><td> 1</td><td>1</td><td>2</td><td> 2</td><td>3</td><td>1</td><td>1</td><td>benign   </td></tr>\n",
       "\t<tr><th scope=row>4</th><td>1016277</td><td>6</td><td> 8</td><td> 8</td><td>1</td><td>3</td><td> 4</td><td>3</td><td>7</td><td>1</td><td>benign   </td></tr>\n",
       "\t<tr><th scope=row>5</th><td>1017023</td><td>4</td><td> 1</td><td> 1</td><td>3</td><td>2</td><td> 1</td><td>3</td><td>1</td><td>1</td><td>benign   </td></tr>\n",
       "\t<tr><th scope=row>6</th><td>1017122</td><td>8</td><td>10</td><td>10</td><td>8</td><td>7</td><td>10</td><td>9</td><td>7</td><td>1</td><td>cancerous</td></tr>\n",
       "</tbody>\n",
       "</table>\n"
      ],
      "text/latex": [
       "A data.frame: 6 × 11\n",
       "\\begin{tabular}{r|lllllllllll}\n",
       "  & ID & Clump.Thickness & Uniformity.of.Cell.Size & Uniformity.of.Cell.Shape & Marginal.Adhesion & Single.Epithelial.Cell.Size & Bare.Nuclei & Bland.Chromatin & Normal.Nucleoli & Mitoses & Class\\\\\n",
       "  & <int> & <int> & <int> & <int> & <int> & <int> & <int> & <int> & <int> & <int> & <fct>\\\\\n",
       "\\hline\n",
       "\t1 & 1000025 & 5 &  1 &  1 & 1 & 2 &  1 & 3 & 1 & 1 & benign   \\\\\n",
       "\t2 & 1002945 & 5 &  4 &  4 & 5 & 7 & 10 & 3 & 2 & 1 & benign   \\\\\n",
       "\t3 & 1015425 & 3 &  1 &  1 & 1 & 2 &  2 & 3 & 1 & 1 & benign   \\\\\n",
       "\t4 & 1016277 & 6 &  8 &  8 & 1 & 3 &  4 & 3 & 7 & 1 & benign   \\\\\n",
       "\t5 & 1017023 & 4 &  1 &  1 & 3 & 2 &  1 & 3 & 1 & 1 & benign   \\\\\n",
       "\t6 & 1017122 & 8 & 10 & 10 & 8 & 7 & 10 & 9 & 7 & 1 & cancerous\\\\\n",
       "\\end{tabular}\n"
      ],
      "text/markdown": [
       "\n",
       "A data.frame: 6 × 11\n",
       "\n",
       "| <!--/--> | ID &lt;int&gt; | Clump.Thickness &lt;int&gt; | Uniformity.of.Cell.Size &lt;int&gt; | Uniformity.of.Cell.Shape &lt;int&gt; | Marginal.Adhesion &lt;int&gt; | Single.Epithelial.Cell.Size &lt;int&gt; | Bare.Nuclei &lt;int&gt; | Bland.Chromatin &lt;int&gt; | Normal.Nucleoli &lt;int&gt; | Mitoses &lt;int&gt; | Class &lt;fct&gt; |\n",
       "|---|---|---|---|---|---|---|---|---|---|---|---|\n",
       "| 1 | 1000025 | 5 |  1 |  1 | 1 | 2 |  1 | 3 | 1 | 1 | benign    |\n",
       "| 2 | 1002945 | 5 |  4 |  4 | 5 | 7 | 10 | 3 | 2 | 1 | benign    |\n",
       "| 3 | 1015425 | 3 |  1 |  1 | 1 | 2 |  2 | 3 | 1 | 1 | benign    |\n",
       "| 4 | 1016277 | 6 |  8 |  8 | 1 | 3 |  4 | 3 | 7 | 1 | benign    |\n",
       "| 5 | 1017023 | 4 |  1 |  1 | 3 | 2 |  1 | 3 | 1 | 1 | benign    |\n",
       "| 6 | 1017122 | 8 | 10 | 10 | 8 | 7 | 10 | 9 | 7 | 1 | cancerous |\n",
       "\n"
      ],
      "text/plain": [
       "  ID      Clump.Thickness Uniformity.of.Cell.Size Uniformity.of.Cell.Shape\n",
       "1 1000025 5                1                       1                      \n",
       "2 1002945 5                4                       4                      \n",
       "3 1015425 3                1                       1                      \n",
       "4 1016277 6                8                       8                      \n",
       "5 1017023 4                1                       1                      \n",
       "6 1017122 8               10                      10                      \n",
       "  Marginal.Adhesion Single.Epithelial.Cell.Size Bare.Nuclei Bland.Chromatin\n",
       "1 1                 2                            1          3              \n",
       "2 5                 7                           10          3              \n",
       "3 1                 2                            2          3              \n",
       "4 1                 3                            4          3              \n",
       "5 3                 2                            1          3              \n",
       "6 8                 7                           10          9              \n",
       "  Normal.Nucleoli Mitoses Class    \n",
       "1 1               1       benign   \n",
       "2 2               1       benign   \n",
       "3 1               1       benign   \n",
       "4 7               1       benign   \n",
       "5 1               1       benign   \n",
       "6 7               1       cancerous"
      ]
     },
     "metadata": {},
     "output_type": "display_data"
    }
   ],
   "source": [
    "cancer <- read.csv('~/shared/data/cancer.csv')\n",
    "\n",
    "cancer$Class <- factor(cancer$Class, \n",
    "                       levels = c(0,1), \n",
    "                       labels = c('benign', 'cancerous')\n",
    "                      )\n",
    "#cancer <- mutate(cancer, Class = factor(Class, \n",
    "#.                                       levels = c(0,1), \n",
    "#                                        labels = c('benign', 'cancerous')\n",
    "#.                                        )\n",
    "#.               )\n",
    "head(cancer)"
   ]
  },
  {
   "cell_type": "markdown",
   "metadata": {},
   "source": [
    "### Exercise 2 - Split data and Classify \n",
    "\n",
    "In lesson 13, you split the cancer data into a training data set and a test data set. Then, you created a classifier function and used it to predict the class of the observations in the test data set. In Exercise 1 above, you change the values in the Class variable of the cancer data set to be more human readable. \n",
    "\n",
    "Alter the code from lesson 12 so that the Predictions column is also more human readable. You can do this by changing the classifier function or using `factor()`."
   ]
  },
  {
   "cell_type": "code",
   "execution_count": 3,
   "metadata": {},
   "outputs": [
    {
     "name": "stderr",
     "output_type": "stream",
     "text": [
      "Warning message:\n",
      "“package ‘dplyr’ was built under R version 4.0.5”\n",
      "\n",
      "Attaching package: ‘dplyr’\n",
      "\n",
      "\n",
      "The following objects are masked from ‘package:stats’:\n",
      "\n",
      "    filter, lag\n",
      "\n",
      "\n",
      "The following objects are masked from ‘package:base’:\n",
      "\n",
      "    intersect, setdiff, setequal, union\n",
      "\n",
      "\n"
     ]
    }
   ],
   "source": [
    "library(dplyr)"
   ]
  },
  {
   "cell_type": "code",
   "execution_count": 4,
   "metadata": {},
   "outputs": [
    {
     "data": {
      "text/html": [
       "<table class=\"dataframe\">\n",
       "<caption>A data.frame: 6 × 4</caption>\n",
       "<thead>\n",
       "\t<tr><th></th><th scope=col>Marginal.Adhesion</th><th scope=col>Clump.Thickness</th><th scope=col>Prediction</th><th scope=col>Class</th></tr>\n",
       "\t<tr><th></th><th scope=col>&lt;int&gt;</th><th scope=col>&lt;int&gt;</th><th scope=col>&lt;chr&gt;</th><th scope=col>&lt;fct&gt;</th></tr>\n",
       "</thead>\n",
       "<tbody>\n",
       "\t<tr><th scope=row>401</th><td>6</td><td>3</td><td>cancerous</td><td>benign   </td></tr>\n",
       "\t<tr><th scope=row>402</th><td>5</td><td>8</td><td>cancerous</td><td>cancerous</td></tr>\n",
       "\t<tr><th scope=row>403</th><td>1</td><td>1</td><td>benign   </td><td>benign   </td></tr>\n",
       "\t<tr><th scope=row>404</th><td>2</td><td>5</td><td>benign   </td><td>benign   </td></tr>\n",
       "\t<tr><th scope=row>405</th><td>1</td><td>2</td><td>benign   </td><td>benign   </td></tr>\n",
       "\t<tr><th scope=row>406</th><td>3</td><td>3</td><td>benign   </td><td>benign   </td></tr>\n",
       "</tbody>\n",
       "</table>\n"
      ],
      "text/latex": [
       "A data.frame: 6 × 4\n",
       "\\begin{tabular}{r|llll}\n",
       "  & Marginal.Adhesion & Clump.Thickness & Prediction & Class\\\\\n",
       "  & <int> & <int> & <chr> & <fct>\\\\\n",
       "\\hline\n",
       "\t401 & 6 & 3 & cancerous & benign   \\\\\n",
       "\t402 & 5 & 8 & cancerous & cancerous\\\\\n",
       "\t403 & 1 & 1 & benign    & benign   \\\\\n",
       "\t404 & 2 & 5 & benign    & benign   \\\\\n",
       "\t405 & 1 & 2 & benign    & benign   \\\\\n",
       "\t406 & 3 & 3 & benign    & benign   \\\\\n",
       "\\end{tabular}\n"
      ],
      "text/markdown": [
       "\n",
       "A data.frame: 6 × 4\n",
       "\n",
       "| <!--/--> | Marginal.Adhesion &lt;int&gt; | Clump.Thickness &lt;int&gt; | Prediction &lt;chr&gt; | Class &lt;fct&gt; |\n",
       "|---|---|---|---|---|\n",
       "| 401 | 6 | 3 | cancerous | benign    |\n",
       "| 402 | 5 | 8 | cancerous | cancerous |\n",
       "| 403 | 1 | 1 | benign    | benign    |\n",
       "| 404 | 2 | 5 | benign    | benign    |\n",
       "| 405 | 1 | 2 | benign    | benign    |\n",
       "| 406 | 3 | 3 | benign    | benign    |\n",
       "\n"
      ],
      "text/plain": [
       "    Marginal.Adhesion Clump.Thickness Prediction Class    \n",
       "401 6                 3               cancerous  benign   \n",
       "402 5                 8               cancerous  cancerous\n",
       "403 1                 1               benign     benign   \n",
       "404 2                 5               benign     benign   \n",
       "405 1                 2               benign     benign   \n",
       "406 3                 3               benign     benign   "
      ]
     },
     "metadata": {},
     "output_type": "display_data"
    }
   ],
   "source": [
    "## Lesson 13 Solution\n",
    "## Version 1\n",
    "\n",
    "training <- cancer[1:400,]\n",
    "test <- cancer[401:nrow(cancer),]\n",
    "\n",
    "# a is the marginal adhesion\n",
    "# t is the thickness\n",
    "\n",
    "classifier <- function (a, t){\n",
    "    if(a>4){\n",
    "        Class <- 'cancerous' ### NEW ###\n",
    "    } else if (t > 6){\n",
    "        Class <- 'cancerous' ### NEW ###\n",
    "    } else {\n",
    "        Class <- 'benign' ### NEW ###\n",
    "    }\n",
    "    Class\n",
    "}\n",
    "classifier <- Vectorize(classifier)\n",
    "\n",
    "test <- mutate(test, Prediction = classifier(\n",
    "                                    Marginal.Adhesion, \n",
    "                                    Clump.Thickness\n",
    "                                )\n",
    "            )\n",
    "test <- select(test, Marginal.Adhesion, Clump.Thickness, Prediction, Class)\n",
    "head(test)"
   ]
  },
  {
   "cell_type": "code",
   "execution_count": 5,
   "metadata": {},
   "outputs": [
    {
     "data": {
      "text/html": [
       "<table class=\"dataframe\">\n",
       "<caption>A data.frame: 6 × 4</caption>\n",
       "<thead>\n",
       "\t<tr><th></th><th scope=col>Marginal.Adhesion</th><th scope=col>Clump.Thickness</th><th scope=col>Prediction</th><th scope=col>Class</th></tr>\n",
       "\t<tr><th></th><th scope=col>&lt;int&gt;</th><th scope=col>&lt;int&gt;</th><th scope=col>&lt;fct&gt;</th><th scope=col>&lt;fct&gt;</th></tr>\n",
       "</thead>\n",
       "<tbody>\n",
       "\t<tr><th scope=row>401</th><td>6</td><td>3</td><td>cancerous</td><td>benign   </td></tr>\n",
       "\t<tr><th scope=row>402</th><td>5</td><td>8</td><td>cancerous</td><td>cancerous</td></tr>\n",
       "\t<tr><th scope=row>403</th><td>1</td><td>1</td><td>benign   </td><td>benign   </td></tr>\n",
       "\t<tr><th scope=row>404</th><td>2</td><td>5</td><td>benign   </td><td>benign   </td></tr>\n",
       "\t<tr><th scope=row>405</th><td>1</td><td>2</td><td>benign   </td><td>benign   </td></tr>\n",
       "\t<tr><th scope=row>406</th><td>3</td><td>3</td><td>benign   </td><td>benign   </td></tr>\n",
       "</tbody>\n",
       "</table>\n"
      ],
      "text/latex": [
       "A data.frame: 6 × 4\n",
       "\\begin{tabular}{r|llll}\n",
       "  & Marginal.Adhesion & Clump.Thickness & Prediction & Class\\\\\n",
       "  & <int> & <int> & <fct> & <fct>\\\\\n",
       "\\hline\n",
       "\t401 & 6 & 3 & cancerous & benign   \\\\\n",
       "\t402 & 5 & 8 & cancerous & cancerous\\\\\n",
       "\t403 & 1 & 1 & benign    & benign   \\\\\n",
       "\t404 & 2 & 5 & benign    & benign   \\\\\n",
       "\t405 & 1 & 2 & benign    & benign   \\\\\n",
       "\t406 & 3 & 3 & benign    & benign   \\\\\n",
       "\\end{tabular}\n"
      ],
      "text/markdown": [
       "\n",
       "A data.frame: 6 × 4\n",
       "\n",
       "| <!--/--> | Marginal.Adhesion &lt;int&gt; | Clump.Thickness &lt;int&gt; | Prediction &lt;fct&gt; | Class &lt;fct&gt; |\n",
       "|---|---|---|---|---|\n",
       "| 401 | 6 | 3 | cancerous | benign    |\n",
       "| 402 | 5 | 8 | cancerous | cancerous |\n",
       "| 403 | 1 | 1 | benign    | benign    |\n",
       "| 404 | 2 | 5 | benign    | benign    |\n",
       "| 405 | 1 | 2 | benign    | benign    |\n",
       "| 406 | 3 | 3 | benign    | benign    |\n",
       "\n"
      ],
      "text/plain": [
       "    Marginal.Adhesion Clump.Thickness Prediction Class    \n",
       "401 6                 3               cancerous  benign   \n",
       "402 5                 8               cancerous  cancerous\n",
       "403 1                 1               benign     benign   \n",
       "404 2                 5               benign     benign   \n",
       "405 1                 2               benign     benign   \n",
       "406 3                 3               benign     benign   "
      ]
     },
     "metadata": {},
     "output_type": "display_data"
    }
   ],
   "source": [
    "## Lesson 13 Solution\n",
    "## Version 2\n",
    "\n",
    "training <- cancer[1:400,]\n",
    "test <- cancer[401:nrow(cancer),]\n",
    "\n",
    "# a is the marginal adhesion\n",
    "# t is the thickness\n",
    "\n",
    "classifier <- function (a, t){\n",
    "    if(a>4){\n",
    "        Class <- 1\n",
    "    } else if (t > 6){\n",
    "        Class <- 1\n",
    "    } else {\n",
    "        Class <- 0\n",
    "    }\n",
    "    Class\n",
    "}\n",
    "classifier <- Vectorize(classifier)\n",
    "\n",
    "test <- mutate(\n",
    "            test, \n",
    "            Prediction = classifier(Marginal.Adhesion, Clump.Thickness)\n",
    "        )\n",
    "test <- mutate(\n",
    "            test, \n",
    "            Prediction = factor(\n",
    "                            Prediction, \n",
    "                            levels = c(0,1), \n",
    "                            labels = c('benign', 'cancerous')\n",
    "                        )\n",
    "            ) ### NEW ###\n",
    "test <- select(\n",
    "            test, \n",
    "            Marginal.Adhesion, \n",
    "            Clump.Thickness,\n",
    "            Prediction, \n",
    "            Class\n",
    "        )\n",
    "head(test)"
   ]
  },
  {
   "cell_type": "markdown",
   "metadata": {},
   "source": [
    "## Part 2 Accuracy"
   ]
  },
  {
   "cell_type": "markdown",
   "metadata": {},
   "source": [
    "### Exercise 3 - Accuracy type function\n",
    "- Create a function that gives the accuracy type (true / false positive / negative) of an observation based on the values of the Class and Prediction variables. \n",
    "- Test your function against the four possible pairs of Class and Prediction values.\n",
    "\n",
    "Hint: You may find the `paste()` function helpful, but it is not necessary. "
   ]
  },
  {
   "cell_type": "code",
   "execution_count": 6,
   "metadata": {},
   "outputs": [
    {
     "data": {
      "text/html": [
       "'true negative'"
      ],
      "text/latex": [
       "'true negative'"
      ],
      "text/markdown": [
       "'true negative'"
      ],
      "text/plain": [
       "[1] \"true negative\""
      ]
     },
     "metadata": {},
     "output_type": "display_data"
    },
    {
     "data": {
      "text/html": [
       "'false negative'"
      ],
      "text/latex": [
       "'false negative'"
      ],
      "text/markdown": [
       "'false negative'"
      ],
      "text/plain": [
       "[1] \"false negative\""
      ]
     },
     "metadata": {},
     "output_type": "display_data"
    },
    {
     "data": {
      "text/html": [
       "'true positive'"
      ],
      "text/latex": [
       "'true positive'"
      ],
      "text/markdown": [
       "'true positive'"
      ],
      "text/plain": [
       "[1] \"true positive\""
      ]
     },
     "metadata": {},
     "output_type": "display_data"
    },
    {
     "data": {
      "text/html": [
       "'false positive'"
      ],
      "text/latex": [
       "'false positive'"
      ],
      "text/markdown": [
       "'false positive'"
      ],
      "text/plain": [
       "[1] \"false positive\""
      ]
     },
     "metadata": {},
     "output_type": "display_data"
    }
   ],
   "source": [
    "## Expected solution\n",
    "\n",
    "# c is the class\n",
    "# p is the prediction\n",
    "accuracy_type <- function(c,p){\n",
    "    if (c == p){\n",
    "        if (p == 'cancerous'){\n",
    "            'true positive'\n",
    "        } else {\n",
    "            'true negative'\n",
    "        }\n",
    "    } else {\n",
    "        if (p == 'cancerous'){\n",
    "            'false positive'\n",
    "        } else {\n",
    "            'false negative'\n",
    "        }\n",
    "    }\n",
    "}\n",
    "\n",
    "accuracy_type('benign', 'benign')\n",
    "accuracy_type('cancerous', 'benign')\n",
    "\n",
    "accuracy_type('cancerous', 'cancerous')\n",
    "accuracy_type('benign', 'cancerous')"
   ]
  },
  {
   "cell_type": "code",
   "execution_count": 7,
   "metadata": {},
   "outputs": [],
   "source": [
    "?paste"
   ]
  },
  {
   "cell_type": "code",
   "execution_count": 8,
   "metadata": {},
   "outputs": [
    {
     "data": {
      "text/html": [
       "'true negative'"
      ],
      "text/latex": [
       "'true negative'"
      ],
      "text/markdown": [
       "'true negative'"
      ],
      "text/plain": [
       "[1] \"true negative\""
      ]
     },
     "metadata": {},
     "output_type": "display_data"
    },
    {
     "data": {
      "text/html": [
       "'false negative'"
      ],
      "text/latex": [
       "'false negative'"
      ],
      "text/markdown": [
       "'false negative'"
      ],
      "text/plain": [
       "[1] \"false negative\""
      ]
     },
     "metadata": {},
     "output_type": "display_data"
    },
    {
     "data": {
      "text/html": [
       "'true positive'"
      ],
      "text/latex": [
       "'true positive'"
      ],
      "text/markdown": [
       "'true positive'"
      ],
      "text/plain": [
       "[1] \"true positive\""
      ]
     },
     "metadata": {},
     "output_type": "display_data"
    },
    {
     "data": {
      "text/html": [
       "'false positive'"
      ],
      "text/latex": [
       "'false positive'"
      ],
      "text/markdown": [
       "'false positive'"
      ],
      "text/plain": [
       "[1] \"false positive\""
      ]
     },
     "metadata": {},
     "output_type": "display_data"
    }
   ],
   "source": [
    "## Alternative solution\n",
    "# c is the class\n",
    "# p is the prediction\n",
    "accuracy_type <- function(c,p){\n",
    "    if (c == p){\n",
    "        tf <- 'true'\n",
    "    } else {\n",
    "        tf <- 'false'\n",
    "    }\n",
    "    \n",
    "    if (p == 'cancerous'){\n",
    "        pn <-'positive'\n",
    "    } else {\n",
    "        pn <- 'negative'\n",
    "    }\n",
    "    paste(tf,pn)\n",
    "}\n",
    "\n",
    "accuracy_type('benign', 'benign')\n",
    "accuracy_type('cancerous', 'benign')\n",
    "\n",
    "accuracy_type('cancerous', 'cancerous')\n",
    "accuracy_type('benign', 'cancerous')"
   ]
  },
  {
   "cell_type": "markdown",
   "metadata": {},
   "source": [
    "### Exercise 4 - Accuracy type column\n",
    "- Use your function from the previous exercise to fill in a column called `Accuracy` in the test data set. \n",
    "- Create a summary table with the count of each of the four accuracy types\n",
    "\n",
    "Hint: Don't forget to vectorize!"
   ]
  },
  {
   "cell_type": "code",
   "execution_count": 9,
   "metadata": {},
   "outputs": [
    {
     "data": {
      "text/html": [
       "<table class=\"dataframe\">\n",
       "<caption>A tibble: 4 × 2</caption>\n",
       "<thead>\n",
       "\t<tr><th scope=col>Accuracy</th><th scope=col>Count</th></tr>\n",
       "\t<tr><th scope=col>&lt;chr&gt;</th><th scope=col>&lt;int&gt;</th></tr>\n",
       "</thead>\n",
       "<tbody>\n",
       "\t<tr><td>false negative</td><td>  7</td></tr>\n",
       "\t<tr><td>false positive</td><td>  6</td></tr>\n",
       "\t<tr><td>true negative </td><td>210</td></tr>\n",
       "\t<tr><td>true positive </td><td> 60</td></tr>\n",
       "</tbody>\n",
       "</table>\n"
      ],
      "text/latex": [
       "A tibble: 4 × 2\n",
       "\\begin{tabular}{ll}\n",
       " Accuracy & Count\\\\\n",
       " <chr> & <int>\\\\\n",
       "\\hline\n",
       "\t false negative &   7\\\\\n",
       "\t false positive &   6\\\\\n",
       "\t true negative  & 210\\\\\n",
       "\t true positive  &  60\\\\\n",
       "\\end{tabular}\n"
      ],
      "text/markdown": [
       "\n",
       "A tibble: 4 × 2\n",
       "\n",
       "| Accuracy &lt;chr&gt; | Count &lt;int&gt; |\n",
       "|---|---|\n",
       "| false negative |   7 |\n",
       "| false positive |   6 |\n",
       "| true negative  | 210 |\n",
       "| true positive  |  60 |\n",
       "\n"
      ],
      "text/plain": [
       "  Accuracy       Count\n",
       "1 false negative   7  \n",
       "2 false positive   6  \n",
       "3 true negative  210  \n",
       "4 true positive   60  "
      ]
     },
     "metadata": {},
     "output_type": "display_data"
    }
   ],
   "source": [
    "accuracy_type <- Vectorize(accuracy_type)\n",
    "\n",
    "test <- mutate(test, Accuracy = accuracy_type(Class, Prediction))\n",
    "\n",
    "summarize( group_by(test, Accuracy), Count = n())"
   ]
  },
  {
   "cell_type": "code",
   "execution_count": null,
   "metadata": {},
   "outputs": [],
   "source": []
  },
  {
   "cell_type": "markdown",
   "metadata": {},
   "source": [
    "## Examples from notes"
   ]
  },
  {
   "cell_type": "markdown",
   "metadata": {},
   "source": [
    "### Example 1 - Random data"
   ]
  },
  {
   "cell_type": "code",
   "execution_count": 10,
   "metadata": {},
   "outputs": [
    {
     "name": "stderr",
     "output_type": "stream",
     "text": [
      "Warning message:\n",
      "“package ‘ggplot2’ was built under R version 4.0.5”\n"
     ]
    }
   ],
   "source": [
    "library(dplyr)\n",
    "library(ggplot2)"
   ]
  },
  {
   "cell_type": "code",
   "execution_count": 11,
   "metadata": {},
   "outputs": [
    {
     "data": {
      "text/html": [
       "<table class=\"dataframe\">\n",
       "<caption>A data.frame: 6 × 3</caption>\n",
       "<thead>\n",
       "\t<tr><th></th><th scope=col>x_coord</th><th scope=col>y_coord</th><th scope=col>is_special</th></tr>\n",
       "\t<tr><th></th><th scope=col>&lt;dbl&gt;</th><th scope=col>&lt;dbl&gt;</th><th scope=col>&lt;dbl&gt;</th></tr>\n",
       "</thead>\n",
       "<tbody>\n",
       "\t<tr><th scope=row>1</th><td>0.80</td><td>0.62</td><td>0</td></tr>\n",
       "\t<tr><th scope=row>2</th><td>0.38</td><td>1.45</td><td>0</td></tr>\n",
       "\t<tr><th scope=row>3</th><td>3.11</td><td>1.65</td><td>0</td></tr>\n",
       "\t<tr><th scope=row>4</th><td>9.15</td><td>0.73</td><td>1</td></tr>\n",
       "\t<tr><th scope=row>5</th><td>5.90</td><td>0.85</td><td>0</td></tr>\n",
       "\t<tr><th scope=row>6</th><td>2.40</td><td>1.17</td><td>0</td></tr>\n",
       "</tbody>\n",
       "</table>\n"
      ],
      "text/latex": [
       "A data.frame: 6 × 3\n",
       "\\begin{tabular}{r|lll}\n",
       "  & x\\_coord & y\\_coord & is\\_special\\\\\n",
       "  & <dbl> & <dbl> & <dbl>\\\\\n",
       "\\hline\n",
       "\t1 & 0.80 & 0.62 & 0\\\\\n",
       "\t2 & 0.38 & 1.45 & 0\\\\\n",
       "\t3 & 3.11 & 1.65 & 0\\\\\n",
       "\t4 & 9.15 & 0.73 & 1\\\\\n",
       "\t5 & 5.90 & 0.85 & 0\\\\\n",
       "\t6 & 2.40 & 1.17 & 0\\\\\n",
       "\\end{tabular}\n"
      ],
      "text/markdown": [
       "\n",
       "A data.frame: 6 × 3\n",
       "\n",
       "| <!--/--> | x_coord &lt;dbl&gt; | y_coord &lt;dbl&gt; | is_special &lt;dbl&gt; |\n",
       "|---|---|---|---|\n",
       "| 1 | 0.80 | 0.62 | 0 |\n",
       "| 2 | 0.38 | 1.45 | 0 |\n",
       "| 3 | 3.11 | 1.65 | 0 |\n",
       "| 4 | 9.15 | 0.73 | 1 |\n",
       "| 5 | 5.90 | 0.85 | 0 |\n",
       "| 6 | 2.40 | 1.17 | 0 |\n",
       "\n"
      ],
      "text/plain": [
       "  x_coord y_coord is_special\n",
       "1 0.80    0.62    0         \n",
       "2 0.38    1.45    0         \n",
       "3 3.11    1.65    0         \n",
       "4 9.15    0.73    1         \n",
       "5 5.90    0.85    0         \n",
       "6 2.40    1.17    0         "
      ]
     },
     "metadata": {},
     "output_type": "display_data"
    }
   ],
   "source": [
    "# Generate 500 random points\n",
    "random_points <- data.frame(\n",
    "    'x_coord' = round(runif(500, 0, 10),2),\n",
    "    'y_coord' = round(runif(500, 0, 2.5),2)\n",
    ")\n",
    "random_points <- mutate(random_points, is_special = ((runif(500,0,100)<=6) + ((x_coord > 6)|(runif(500,0,100)<=6))) %% 2)\n",
    "\n",
    "head(random_points)"
   ]
  },
  {
   "cell_type": "code",
   "execution_count": 12,
   "metadata": {},
   "outputs": [
    {
     "data": {
      "text/html": [
       "<table class=\"dataframe\">\n",
       "<caption>A data.frame: 6 × 3</caption>\n",
       "<thead>\n",
       "\t<tr><th></th><th scope=col>x_coord</th><th scope=col>y_coord</th><th scope=col>is_special</th></tr>\n",
       "\t<tr><th></th><th scope=col>&lt;dbl&gt;</th><th scope=col>&lt;dbl&gt;</th><th scope=col>&lt;fct&gt;</th></tr>\n",
       "</thead>\n",
       "<tbody>\n",
       "\t<tr><th scope=row>1</th><td>0.80</td><td>0.62</td><td>No </td></tr>\n",
       "\t<tr><th scope=row>2</th><td>0.38</td><td>1.45</td><td>No </td></tr>\n",
       "\t<tr><th scope=row>3</th><td>3.11</td><td>1.65</td><td>No </td></tr>\n",
       "\t<tr><th scope=row>4</th><td>9.15</td><td>0.73</td><td>Yes</td></tr>\n",
       "\t<tr><th scope=row>5</th><td>5.90</td><td>0.85</td><td>No </td></tr>\n",
       "\t<tr><th scope=row>6</th><td>2.40</td><td>1.17</td><td>No </td></tr>\n",
       "</tbody>\n",
       "</table>\n"
      ],
      "text/latex": [
       "A data.frame: 6 × 3\n",
       "\\begin{tabular}{r|lll}\n",
       "  & x\\_coord & y\\_coord & is\\_special\\\\\n",
       "  & <dbl> & <dbl> & <fct>\\\\\n",
       "\\hline\n",
       "\t1 & 0.80 & 0.62 & No \\\\\n",
       "\t2 & 0.38 & 1.45 & No \\\\\n",
       "\t3 & 3.11 & 1.65 & No \\\\\n",
       "\t4 & 9.15 & 0.73 & Yes\\\\\n",
       "\t5 & 5.90 & 0.85 & No \\\\\n",
       "\t6 & 2.40 & 1.17 & No \\\\\n",
       "\\end{tabular}\n"
      ],
      "text/markdown": [
       "\n",
       "A data.frame: 6 × 3\n",
       "\n",
       "| <!--/--> | x_coord &lt;dbl&gt; | y_coord &lt;dbl&gt; | is_special &lt;fct&gt; |\n",
       "|---|---|---|---|\n",
       "| 1 | 0.80 | 0.62 | No  |\n",
       "| 2 | 0.38 | 1.45 | No  |\n",
       "| 3 | 3.11 | 1.65 | No  |\n",
       "| 4 | 9.15 | 0.73 | Yes |\n",
       "| 5 | 5.90 | 0.85 | No  |\n",
       "| 6 | 2.40 | 1.17 | No  |\n",
       "\n"
      ],
      "text/plain": [
       "  x_coord y_coord is_special\n",
       "1 0.80    0.62    No        \n",
       "2 0.38    1.45    No        \n",
       "3 3.11    1.65    No        \n",
       "4 9.15    0.73    Yes       \n",
       "5 5.90    0.85    No        \n",
       "6 2.40    1.17    No        "
      ]
     },
     "metadata": {},
     "output_type": "display_data"
    }
   ],
   "source": [
    "### NEW ###\n",
    "# Make is_special column more readable\n",
    "random_points <- mutate(random_points, \n",
    "                        is_special =  factor(\n",
    "                            is_special,\n",
    "                            levels = c(0,1),\n",
    "                            labels = c(\"No\", \"Yes\")\n",
    "                        )\n",
    "                       )\n",
    "head(random_points)"
   ]
  },
  {
   "cell_type": "code",
   "execution_count": 13,
   "metadata": {},
   "outputs": [],
   "source": [
    "# Split data into training data and test data\n",
    "training <- random_points[1:300,]\n",
    "test <- random_points[301:nrow(random_points),]"
   ]
  },
  {
   "cell_type": "code",
   "execution_count": 14,
   "metadata": {},
   "outputs": [
    {
     "data": {
      "image/png": "[encoded data removed]",
      "text/plain": [
       "plot without title"
      ]
     },
     "metadata": {
      "image/png": {
       "height": 420,
       "width": 420
      }
     },
     "output_type": "display_data"
    }
   ],
   "source": [
    "# plot training data\n",
    "ggplot(training, aes(x=x_coord, y=y_coord, color = is_special, shape=is_special)) + \n",
    "    geom_point() +\n",
    "    scale_x_continuous(breaks = seq(1,10,2)) +\n",
    "    theme_bw()"
   ]
  },
  {
   "cell_type": "code",
   "execution_count": 15,
   "metadata": {},
   "outputs": [
    {
     "data": {
      "text/html": [
       "<table class=\"dataframe\">\n",
       "<caption>A data.frame: 10 × 4</caption>\n",
       "<thead>\n",
       "\t<tr><th></th><th scope=col>x_coord</th><th scope=col>y_coord</th><th scope=col>is_special</th><th scope=col>prediction</th></tr>\n",
       "\t<tr><th></th><th scope=col>&lt;dbl&gt;</th><th scope=col>&lt;dbl&gt;</th><th scope=col>&lt;fct&gt;</th><th scope=col>&lt;chr&gt;</th></tr>\n",
       "</thead>\n",
       "<tbody>\n",
       "\t<tr><th scope=row>301</th><td>3.66</td><td>1.74</td><td>No </td><td>No </td></tr>\n",
       "\t<tr><th scope=row>302</th><td>4.66</td><td>0.77</td><td>No </td><td>No </td></tr>\n",
       "\t<tr><th scope=row>303</th><td>4.66</td><td>0.47</td><td>No </td><td>No </td></tr>\n",
       "\t<tr><th scope=row>304</th><td>7.17</td><td>0.93</td><td>Yes</td><td>Yes</td></tr>\n",
       "\t<tr><th scope=row>305</th><td>4.40</td><td>1.61</td><td>No </td><td>No </td></tr>\n",
       "\t<tr><th scope=row>306</th><td>7.33</td><td>0.31</td><td>Yes</td><td>Yes</td></tr>\n",
       "\t<tr><th scope=row>307</th><td>9.93</td><td>0.18</td><td>Yes</td><td>Yes</td></tr>\n",
       "\t<tr><th scope=row>308</th><td>6.79</td><td>0.99</td><td>Yes</td><td>Yes</td></tr>\n",
       "\t<tr><th scope=row>309</th><td>8.84</td><td>1.40</td><td>Yes</td><td>Yes</td></tr>\n",
       "\t<tr><th scope=row>310</th><td>7.52</td><td>2.02</td><td>No </td><td>Yes</td></tr>\n",
       "</tbody>\n",
       "</table>\n"
      ],
      "text/latex": [
       "A data.frame: 10 × 4\n",
       "\\begin{tabular}{r|llll}\n",
       "  & x\\_coord & y\\_coord & is\\_special & prediction\\\\\n",
       "  & <dbl> & <dbl> & <fct> & <chr>\\\\\n",
       "\\hline\n",
       "\t301 & 3.66 & 1.74 & No  & No \\\\\n",
       "\t302 & 4.66 & 0.77 & No  & No \\\\\n",
       "\t303 & 4.66 & 0.47 & No  & No \\\\\n",
       "\t304 & 7.17 & 0.93 & Yes & Yes\\\\\n",
       "\t305 & 4.40 & 1.61 & No  & No \\\\\n",
       "\t306 & 7.33 & 0.31 & Yes & Yes\\\\\n",
       "\t307 & 9.93 & 0.18 & Yes & Yes\\\\\n",
       "\t308 & 6.79 & 0.99 & Yes & Yes\\\\\n",
       "\t309 & 8.84 & 1.40 & Yes & Yes\\\\\n",
       "\t310 & 7.52 & 2.02 & No  & Yes\\\\\n",
       "\\end{tabular}\n"
      ],
      "text/markdown": [
       "\n",
       "A data.frame: 10 × 4\n",
       "\n",
       "| <!--/--> | x_coord &lt;dbl&gt; | y_coord &lt;dbl&gt; | is_special &lt;fct&gt; | prediction &lt;chr&gt; |\n",
       "|---|---|---|---|---|\n",
       "| 301 | 3.66 | 1.74 | No  | No  |\n",
       "| 302 | 4.66 | 0.77 | No  | No  |\n",
       "| 303 | 4.66 | 0.47 | No  | No  |\n",
       "| 304 | 7.17 | 0.93 | Yes | Yes |\n",
       "| 305 | 4.40 | 1.61 | No  | No  |\n",
       "| 306 | 7.33 | 0.31 | Yes | Yes |\n",
       "| 307 | 9.93 | 0.18 | Yes | Yes |\n",
       "| 308 | 6.79 | 0.99 | Yes | Yes |\n",
       "| 309 | 8.84 | 1.40 | Yes | Yes |\n",
       "| 310 | 7.52 | 2.02 | No  | Yes |\n",
       "\n"
      ],
      "text/plain": [
       "    x_coord y_coord is_special prediction\n",
       "301 3.66    1.74    No         No        \n",
       "302 4.66    0.77    No         No        \n",
       "303 4.66    0.47    No         No        \n",
       "304 7.17    0.93    Yes        Yes       \n",
       "305 4.40    1.61    No         No        \n",
       "306 7.33    0.31    Yes        Yes       \n",
       "307 9.93    0.18    Yes        Yes       \n",
       "308 6.79    0.99    Yes        Yes       \n",
       "309 8.84    1.40    Yes        Yes       \n",
       "310 7.52    2.02    No         Yes       "
      ]
     },
     "metadata": {},
     "output_type": "display_data"
    }
   ],
   "source": [
    "# Create classifier function and use it to make predictions about the traing data\n",
    "points_classifier <- function(x,y){\n",
    "    if(x>6) {\n",
    "        'Yes'\n",
    "    } else {\n",
    "        'No'\n",
    "    }\n",
    "}\n",
    "points_classifier <- Vectorize(points_classifier)\n",
    "\n",
    "test <- mutate(test, prediction = points_classifier(x_coord, y_coord))\n",
    "head(test, 10)"
   ]
  },
  {
   "cell_type": "code",
   "execution_count": 16,
   "metadata": {},
   "outputs": [
    {
     "data": {
      "text/html": [
       "<table class=\"dataframe\">\n",
       "<caption>A data.frame: 6 × 5</caption>\n",
       "<thead>\n",
       "\t<tr><th></th><th scope=col>x_coord</th><th scope=col>y_coord</th><th scope=col>is_special</th><th scope=col>prediction</th><th scope=col>accuracy</th></tr>\n",
       "\t<tr><th></th><th scope=col>&lt;dbl&gt;</th><th scope=col>&lt;dbl&gt;</th><th scope=col>&lt;fct&gt;</th><th scope=col>&lt;chr&gt;</th><th scope=col>&lt;chr&gt;</th></tr>\n",
       "</thead>\n",
       "<tbody>\n",
       "\t<tr><th scope=row>301</th><td>3.66</td><td>1.74</td><td>No </td><td>No </td><td>True negative</td></tr>\n",
       "\t<tr><th scope=row>302</th><td>4.66</td><td>0.77</td><td>No </td><td>No </td><td>True negative</td></tr>\n",
       "\t<tr><th scope=row>303</th><td>4.66</td><td>0.47</td><td>No </td><td>No </td><td>True negative</td></tr>\n",
       "\t<tr><th scope=row>304</th><td>7.17</td><td>0.93</td><td>Yes</td><td>Yes</td><td>True positive</td></tr>\n",
       "\t<tr><th scope=row>305</th><td>4.40</td><td>1.61</td><td>No </td><td>No </td><td>True negative</td></tr>\n",
       "\t<tr><th scope=row>306</th><td>7.33</td><td>0.31</td><td>Yes</td><td>Yes</td><td>True positive</td></tr>\n",
       "</tbody>\n",
       "</table>\n"
      ],
      "text/latex": [
       "A data.frame: 6 × 5\n",
       "\\begin{tabular}{r|lllll}\n",
       "  & x\\_coord & y\\_coord & is\\_special & prediction & accuracy\\\\\n",
       "  & <dbl> & <dbl> & <fct> & <chr> & <chr>\\\\\n",
       "\\hline\n",
       "\t301 & 3.66 & 1.74 & No  & No  & True negative\\\\\n",
       "\t302 & 4.66 & 0.77 & No  & No  & True negative\\\\\n",
       "\t303 & 4.66 & 0.47 & No  & No  & True negative\\\\\n",
       "\t304 & 7.17 & 0.93 & Yes & Yes & True positive\\\\\n",
       "\t305 & 4.40 & 1.61 & No  & No  & True negative\\\\\n",
       "\t306 & 7.33 & 0.31 & Yes & Yes & True positive\\\\\n",
       "\\end{tabular}\n"
      ],
      "text/markdown": [
       "\n",
       "A data.frame: 6 × 5\n",
       "\n",
       "| <!--/--> | x_coord &lt;dbl&gt; | y_coord &lt;dbl&gt; | is_special &lt;fct&gt; | prediction &lt;chr&gt; | accuracy &lt;chr&gt; |\n",
       "|---|---|---|---|---|---|\n",
       "| 301 | 3.66 | 1.74 | No  | No  | True negative |\n",
       "| 302 | 4.66 | 0.77 | No  | No  | True negative |\n",
       "| 303 | 4.66 | 0.47 | No  | No  | True negative |\n",
       "| 304 | 7.17 | 0.93 | Yes | Yes | True positive |\n",
       "| 305 | 4.40 | 1.61 | No  | No  | True negative |\n",
       "| 306 | 7.33 | 0.31 | Yes | Yes | True positive |\n",
       "\n"
      ],
      "text/plain": [
       "    x_coord y_coord is_special prediction accuracy     \n",
       "301 3.66    1.74    No         No         True negative\n",
       "302 4.66    0.77    No         No         True negative\n",
       "303 4.66    0.47    No         No         True negative\n",
       "304 7.17    0.93    Yes        Yes        True positive\n",
       "305 4.40    1.61    No         No         True negative\n",
       "306 7.33    0.31    Yes        Yes        True positive"
      ]
     },
     "metadata": {},
     "output_type": "display_data"
    },
    {
     "data": {
      "text/html": [
       "<table class=\"dataframe\">\n",
       "<caption>A tibble: 4 × 2</caption>\n",
       "<thead>\n",
       "\t<tr><th scope=col>accuracy</th><th scope=col>Count</th></tr>\n",
       "\t<tr><th scope=col>&lt;chr&gt;</th><th scope=col>&lt;int&gt;</th></tr>\n",
       "</thead>\n",
       "<tbody>\n",
       "\t<tr><td>false negative</td><td> 13</td></tr>\n",
       "\t<tr><td>false positive</td><td>  3</td></tr>\n",
       "\t<tr><td>True negative </td><td>107</td></tr>\n",
       "\t<tr><td>True positive </td><td> 77</td></tr>\n",
       "</tbody>\n",
       "</table>\n"
      ],
      "text/latex": [
       "A tibble: 4 × 2\n",
       "\\begin{tabular}{ll}\n",
       " accuracy & Count\\\\\n",
       " <chr> & <int>\\\\\n",
       "\\hline\n",
       "\t false negative &  13\\\\\n",
       "\t false positive &   3\\\\\n",
       "\t True negative  & 107\\\\\n",
       "\t True positive  &  77\\\\\n",
       "\\end{tabular}\n"
      ],
      "text/markdown": [
       "\n",
       "A tibble: 4 × 2\n",
       "\n",
       "| accuracy &lt;chr&gt; | Count &lt;int&gt; |\n",
       "|---|---|\n",
       "| false negative |  13 |\n",
       "| false positive |   3 |\n",
       "| True negative  | 107 |\n",
       "| True positive  |  77 |\n",
       "\n"
      ],
      "text/plain": [
       "  accuracy       Count\n",
       "1 false negative  13  \n",
       "2 false positive   3  \n",
       "3 True negative  107  \n",
       "4 True positive   77  "
      ]
     },
     "metadata": {},
     "output_type": "display_data"
    }
   ],
   "source": [
    "# s is the value of is_special\n",
    "# p is the prediction\n",
    "points_accuracy <- function(s,p){\n",
    "    if(s == p) {\n",
    "        if(s == 'Yes'){\n",
    "            'True positive'\n",
    "        } else {\n",
    "            'True negative'\n",
    "        }\n",
    "    } else if (p =='Yes') {\n",
    "        'false positive'\n",
    "    } else {\n",
    "        'false negative'\n",
    "    }\n",
    "}\n",
    "points_accuracy <- Vectorize(points_accuracy)\n",
    "\n",
    "test <- mutate(test, accuracy = points_accuracy(is_special, prediction))\n",
    "head(test)\n",
    "\n",
    "accuracy_count <- summarize(group_by(test, accuracy), Count = n())\n",
    "accuracy_count"
   ]
  },
  {
   "cell_type": "code",
   "execution_count": 17,
   "metadata": {},
   "outputs": [
    {
     "data": {
      "text/html": [
       "13"
      ],
      "text/latex": [
       "13"
      ],
      "text/markdown": [
       "13"
      ],
      "text/plain": [
       "[1] 13"
      ]
     },
     "metadata": {},
     "output_type": "display_data"
    },
    {
     "data": {
      "text/html": [
       "3"
      ],
      "text/latex": [
       "3"
      ],
      "text/markdown": [
       "3"
      ],
      "text/plain": [
       "[1] 3"
      ]
     },
     "metadata": {},
     "output_type": "display_data"
    },
    {
     "data": {
      "text/html": [
       "107"
      ],
      "text/latex": [
       "107"
      ],
      "text/markdown": [
       "107"
      ],
      "text/plain": [
       "[1] 107"
      ]
     },
     "metadata": {},
     "output_type": "display_data"
    },
    {
     "data": {
      "text/html": [
       "77"
      ],
      "text/latex": [
       "77"
      ],
      "text/markdown": [
       "77"
      ],
      "text/plain": [
       "[1] 77"
      ]
     },
     "metadata": {},
     "output_type": "display_data"
    }
   ],
   "source": [
    "# [[1]] extracts the actual number from the 1x1 dataframe. \n",
    "false_neg <- accuracy_count[1,2][[1]]\n",
    "false_pos <- accuracy_count[2,2][[1]]\n",
    "true_neg <- accuracy_count[3,2][[1]]\n",
    "true_pos <- accuracy_count[4,2][[1]]\n",
    "\n",
    "false_neg\n",
    "false_pos\n",
    "true_neg\n",
    "true_pos"
   ]
  },
  {
   "cell_type": "code",
   "execution_count": 18,
   "metadata": {},
   "outputs": [],
   "source": [
    "correct_count <- true_neg + true_pos\n",
    "obs_count <- nrow(test)\n",
    "pos_predictions <- true_pos + false_pos\n",
    "neg_predictions <- true_neg + false_neg\n",
    "pos_cases <- true_pos + false_neg\n",
    "neg_cases <- true_neg + false_pos\n",
    "\n",
    "# obs_count\n",
    "# correct_count \n",
    "# pos_predictions \n",
    "# neg_predictions\n",
    "# pos_cases\n",
    "# neg_cases"
   ]
  },
  {
   "cell_type": "markdown",
   "metadata": {},
   "source": [
    "$$\\text{Accuracy} = \\frac{\\text{# correct predictions}}{\\text{# of observations}}$$"
   ]
  },
  {
   "cell_type": "code",
   "execution_count": 19,
   "metadata": {},
   "outputs": [
    {
     "data": {
      "text/html": [
       "0.92"
      ],
      "text/latex": [
       "0.92"
      ],
      "text/markdown": [
       "0.92"
      ],
      "text/plain": [
       "[1] 0.92"
      ]
     },
     "metadata": {},
     "output_type": "display_data"
    }
   ],
   "source": [
    "# accuracy\n",
    "correct_count / obs_count"
   ]
  },
  {
   "cell_type": "markdown",
   "metadata": {},
   "source": [
    "$$\\text{Precision} = \\frac{\\text{# true positive predictions}}{\\text{# of positive predictions}}$$"
   ]
  },
  {
   "cell_type": "code",
   "execution_count": 20,
   "metadata": {},
   "outputs": [
    {
     "data": {
      "text/html": [
       "0.9625"
      ],
      "text/latex": [
       "0.9625"
      ],
      "text/markdown": [
       "0.9625"
      ],
      "text/plain": [
       "[1] 0.9625"
      ]
     },
     "metadata": {},
     "output_type": "display_data"
    }
   ],
   "source": [
    "# precision\n",
    "true_pos / pos_predictions\n",
    "                    "
   ]
  },
  {
   "cell_type": "markdown",
   "metadata": {},
   "source": [
    "$$\\text{True positive rate} = \\frac{\\text{# true positive predictions}}{\\text{# positive cases}}$$"
   ]
  },
  {
   "cell_type": "code",
   "execution_count": 21,
   "metadata": {},
   "outputs": [
    {
     "data": {
      "text/html": [
       "0.855555555555556"
      ],
      "text/latex": [
       "0.855555555555556"
      ],
      "text/markdown": [
       "0.855555555555556"
      ],
      "text/plain": [
       "[1] 0.8555556"
      ]
     },
     "metadata": {},
     "output_type": "display_data"
    }
   ],
   "source": [
    "# True positive rate\n",
    "true_pos / pos_cases"
   ]
  },
  {
   "cell_type": "markdown",
   "metadata": {},
   "source": [
    "$$\\text{True negative rate}  = \\frac{\\text{# true negative predictions}}{\\text{# negative cases}}$$"
   ]
  },
  {
   "cell_type": "code",
   "execution_count": 22,
   "metadata": {},
   "outputs": [
    {
     "data": {
      "text/html": [
       "0.972727272727273"
      ],
      "text/latex": [
       "0.972727272727273"
      ],
      "text/markdown": [
       "0.972727272727273"
      ],
      "text/plain": [
       "[1] 0.9727273"
      ]
     },
     "metadata": {},
     "output_type": "display_data"
    }
   ],
   "source": [
    "# True negative rate\n",
    "true_neg / neg_cases"
   ]
  }
 ],
 "metadata": {
  "celltoolbar": "Attachments",
  "kernelspec": {
   "display_name": "R",
   "language": "R",
   "name": "ir"
  },
  "language_info": {
   "codemirror_mode": "r",
   "file_extension": ".r",
   "mimetype": "text/x-r-source",
   "name": "R",
   "pygments_lexer": "r",
   "version": "4.1.1"
  }
 },
 "nbformat": 4,
 "nbformat_minor": 4
}
