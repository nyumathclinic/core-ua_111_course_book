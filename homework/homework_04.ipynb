{
 "cells": [
  {
   "cell_type": "markdown",
   "id": "b75ccc8b",
   "metadata": {},
   "source": [
    "(homework04)=\n",
    "# Homework 4"
   ]
  },
  {
   "cell_type": "markdown",
   "id": "8a289655",
   "metadata": {},
   "source": [
    "## Name, NetID, Collaborators\n",
    "Please edit the markdown cell below for “Names & NetIDs” and enter:\n",
    "- Your name and NetID (eg. cc5948), and\n",
    "- The names and NetIDs of everyone with whom you have collaborated with (e.g., discussed\n",
    "questions with, provided help to, received help from, etc.).\n",
    "\n",
    "Our goal is to create an honest, collaborative, and positive learning environment. Keep\n",
    "in mind that while collaboration in lab and homework is strongly encouraged, the work\n",
    "you submitted must be your own (you typed them up yourself; you can explain what you\n",
    "submitted). Your goal is to use the help and support to eventually understand the ideas\n",
    "and the methods yourself"
   ]
  },
  {
   "cell_type": "markdown",
   "id": "9d435731",
   "metadata": {},
   "source": [
    "**Name and NetID:**\n",
    "\n",
    "\n",
    "**Collaborators:**"
   ]
  },
  {
   "cell_type": "markdown",
   "id": "6bc747d2",
   "metadata": {},
   "source": [
    "## Part 1: Boolean expressions"
   ]
  },
  {
   "cell_type": "markdown",
   "id": "58b286f4",
   "metadata": {},
   "source": [
    "### Exercise 1: Truth table\n",
    "\n",
    "- Run the code cell below to create the the `truth_table` data frame that corresponds to the table below. The `NA` entries correspond to blanks. \n",
    "- Use `mutate()` and boolean expressions to fill in the entries in all of the blank columns. \n",
    "- Output the updated version of `truth_table`. Do the machine generated entries agree with your manually generated entries on Lab 4?\n",
    "\n",
    "\n",
    "|   a   |   b   | a & b | !(a & b) | !a | !b | (!a) \\| (!b) |\n",
    "|:-----:|:-----:|:-----:|:--------:|:--:|:--:|:------------:|\n",
    "|  TRUE |  TRUE |       |          |    |    |              |\n",
    "|  TRUE | FALSE |       |          |    |    |              |\n",
    "| FALSE |  TRUE |       |          |    |    |              |\n",
    "| FALSE | FALSE |       |          |    |    |              |"
   ]
  },
  {
   "cell_type": "code",
   "execution_count": 5,
   "id": "95414dd5",
   "metadata": {
    "deletable": false,
    "editable": false
   },
   "outputs": [
    {
     "data": {
      "text/html": [
       "<table class=\"dataframe\">\n",
       "<caption>A data.frame: 4 × 7</caption>\n",
       "<thead>\n",
       "\t<tr><th scope=col>a</th><th scope=col>b</th><th scope=col>a_and_b</th><th scope=col>not__a_and_b</th><th scope=col>not_a</th><th scope=col>not_b</th><th scope=col>not_a__or__not_b</th></tr>\n",
       "\t<tr><th scope=col>&lt;lgl&gt;</th><th scope=col>&lt;lgl&gt;</th><th scope=col>&lt;lgl&gt;</th><th scope=col>&lt;lgl&gt;</th><th scope=col>&lt;lgl&gt;</th><th scope=col>&lt;lgl&gt;</th><th scope=col>&lt;lgl&gt;</th></tr>\n",
       "</thead>\n",
       "<tbody>\n",
       "\t<tr><td> TRUE</td><td> TRUE</td><td>NA</td><td>NA</td><td>NA</td><td>NA</td><td>NA</td></tr>\n",
       "\t<tr><td> TRUE</td><td>FALSE</td><td>NA</td><td>NA</td><td>NA</td><td>NA</td><td>NA</td></tr>\n",
       "\t<tr><td>FALSE</td><td> TRUE</td><td>NA</td><td>NA</td><td>NA</td><td>NA</td><td>NA</td></tr>\n",
       "\t<tr><td>FALSE</td><td>FALSE</td><td>NA</td><td>NA</td><td>NA</td><td>NA</td><td>NA</td></tr>\n",
       "</tbody>\n",
       "</table>\n"
      ],
      "text/latex": [
       "A data.frame: 4 × 7\n",
       "\\begin{tabular}{lllllll}\n",
       " a & b & a\\_and\\_b & not\\_\\_a\\_and\\_b & not\\_a & not\\_b & not\\_a\\_\\_or\\_\\_not\\_b\\\\\n",
       " <lgl> & <lgl> & <lgl> & <lgl> & <lgl> & <lgl> & <lgl>\\\\\n",
       "\\hline\n",
       "\t  TRUE &  TRUE & NA & NA & NA & NA & NA\\\\\n",
       "\t  TRUE & FALSE & NA & NA & NA & NA & NA\\\\\n",
       "\t FALSE &  TRUE & NA & NA & NA & NA & NA\\\\\n",
       "\t FALSE & FALSE & NA & NA & NA & NA & NA\\\\\n",
       "\\end{tabular}\n"
      ],
      "text/markdown": [
       "\n",
       "A data.frame: 4 × 7\n",
       "\n",
       "| a &lt;lgl&gt; | b &lt;lgl&gt; | a_and_b &lt;lgl&gt; | not__a_and_b &lt;lgl&gt; | not_a &lt;lgl&gt; | not_b &lt;lgl&gt; | not_a__or__not_b &lt;lgl&gt; |\n",
       "|---|---|---|---|---|---|---|\n",
       "|  TRUE |  TRUE | NA | NA | NA | NA | NA |\n",
       "|  TRUE | FALSE | NA | NA | NA | NA | NA |\n",
       "| FALSE |  TRUE | NA | NA | NA | NA | NA |\n",
       "| FALSE | FALSE | NA | NA | NA | NA | NA |\n",
       "\n"
      ],
      "text/plain": [
       "  a     b     a_and_b not__a_and_b not_a not_b not_a__or__not_b\n",
       "1  TRUE  TRUE NA      NA           NA    NA    NA              \n",
       "2  TRUE FALSE NA      NA           NA    NA    NA              \n",
       "3 FALSE  TRUE NA      NA           NA    NA    NA              \n",
       "4 FALSE FALSE NA      NA           NA    NA    NA              "
      ]
     },
     "metadata": {},
     "output_type": "display_data"
    }
   ],
   "source": [
    "# Your cannot edit this cell\n",
    "truth_table <- data.frame(\n",
    "    a = c(TRUE, TRUE, FALSE, FALSE),\n",
    "    b = c(TRUE, FALSE, TRUE, FALSE),\n",
    "    a_and_b = rep(NA, 4),\n",
    "    not__a_and_b = rep(NA, 4),\n",
    "    not_a = rep(NA, 4),\n",
    "    not_b = rep(NA, 4),\n",
    "    not_a__or__not_b = rep(NA, 4)\n",
    ")"
   ]
  },
  {
   "cell_type": "code",
   "execution_count": null,
   "id": "80819bb8",
   "metadata": {},
   "outputs": [],
   "source": []
  },
  {
   "cell_type": "markdown",
   "id": "5a219fe1",
   "metadata": {},
   "source": []
  },
  {
   "cell_type": "markdown",
   "id": "06e6f1c2",
   "metadata": {},
   "source": [
    "### Exercise 2: Car rental\n",
    "Let `age` be a numerical variable encoding a person’s age in years and `has_drivers_license` be a boolean variable encoding whether or not that person has a drivers license. We will define two new boolean variables as follows:\n",
    "\n",
    "`is_above_25` is `TRUE` if the person is 25 years old or older and `FALSE` if they are younger than 25. \n",
    "\n",
    "`can_rent_a_car` is `TRUE` only when `is_above_25` and `has_drivers_license` are both `TRUE` otherwise it is `FALSE`.\n",
    "\n",
    "- Run the code cell below to generate the `car_rental` data frame that corresponds to the table below. The `NA` entries correspond to blanks. \n",
    "- Use `mutate()` and boolean expressions to fill in the last two columns of the data frame with the appropriate values. \n",
    "- Output the updated version of `car_rental`. Do the machine generated entries agree with your manually generated entries on Lab 4?\n",
    "\n",
    "| age | has_drivers_license | is_above_25 | can_rent_a_car |\n",
    "|-----|---------------------|-------------|----------------|\n",
    "| 45  | TRUE                |             |                |\n",
    "| 18  | TRUE                |             |                |\n",
    "| 80  | FALSE               |             |                |\n",
    "| 14  | FALSE               |             |                |"
   ]
  },
  {
   "cell_type": "code",
   "execution_count": 12,
   "id": "6b5880f6",
   "metadata": {
    "deletable": false,
    "editable": false
   },
   "outputs": [],
   "source": [
    "# You cannot edit this cell.\n",
    "car_rental <- data.frame(\n",
    "    age = c(45, 18, 80, 14),\n",
    "    has_drivers_license = c(TRUE, TRUE, FALSE, FALSE),\n",
    "    is_above_25 = rep(NA, 4),\n",
    "    can_rent_a_car = rep(NA, 4)\n",
    ")"
   ]
  },
  {
   "cell_type": "code",
   "execution_count": null,
   "id": "ce0bb2c5",
   "metadata": {},
   "outputs": [],
   "source": []
  },
  {
   "cell_type": "markdown",
   "id": "f464b532",
   "metadata": {},
   "source": []
  },
  {
   "cell_type": "markdown",
   "id": "2824fe22",
   "metadata": {},
   "source": [
    "## Part 2: Project 1 warm up"
   ]
  },
  {
   "cell_type": "markdown",
   "id": "549cd6fc",
   "metadata": {},
   "source": [
    "### Exercise 3: Election data set\n",
    "\n",
    "- Run the code in the cell below to load the `us_president_1976_2020` data sets. The `sep = '\\t'` option is necessary, because the data sets is separated by tabs rather than commas. \n",
    "- Use the JupyterHub file tree to navigate to the shared project 1 folder and read the code book for this data set. \n",
    "- Explore this data set and answer the following questions about it:\n",
    "    * How many observations are there?  How many variables?\n",
    "    * What does each observation correspond to?\n",
    "    * What variables might be interesting to explore?  What are the types of these variables?\n",
    "- Use (at least) one of the following `dplyr` functions to further explore this dataset: `mutate()`, `arrange()`, `filter()`, `group_by()`, `summarize()`.\n",
    "- Create (at least) one data visualization from this data set."
   ]
  },
  {
   "cell_type": "code",
   "execution_count": 17,
   "id": "7b329bca",
   "metadata": {
    "deletable": false,
    "editable": false
   },
   "outputs": [],
   "source": [
    "# You cannot edit this cell.\n",
    "us_president_1976_2020 <- read.csv('https://dataverse.harvard.edu/api/access/datafile/4299753', sep = '\\t')"
   ]
  },
  {
   "cell_type": "code",
   "execution_count": null,
   "id": "1a49267b",
   "metadata": {},
   "outputs": [],
   "source": []
  },
  {
   "cell_type": "markdown",
   "id": "cc4b5f47",
   "metadata": {},
   "source": []
  },
  {
   "cell_type": "markdown",
   "id": "a86e5392",
   "metadata": {},
   "source": [
    "### Exercise 4: AirBnB\n",
    "\n",
    "- Run the code in the cell below to load the `airbnb_listings` data sets.  \n",
    "- Explore this data set and answer the following questions about it:\n",
    "    * How many observations are there?  How many variables?\n",
    "    * What does each observation correspond to?\n",
    "    * What variables might be interesting to explore?  What are the types of these variables?\n",
    "- Use (at least) one of the following `dplyr` functions to further explore this dataset: `mutate()`, `arrange()`, `filter()`, `group_by()`, `summarize()`.\n",
    "- Create (at least) one data visualization from this data set."
   ]
  },
  {
   "cell_type": "code",
   "execution_count": null,
   "id": "867b3cd1",
   "metadata": {
    "deletable": false,
    "editable": false
   },
   "outputs": [],
   "source": [
    "# You cannot edit this cell.\n",
    "airbnb_listings <- read.csv('http://data.insideairbnb.com/united-states/ny/new-york-city/2021-12-04/visualisations/listings.csv')"
   ]
  },
  {
   "cell_type": "code",
   "execution_count": null,
   "id": "8010e8d4",
   "metadata": {},
   "outputs": [],
   "source": []
  },
  {
   "cell_type": "markdown",
   "id": "6c6f69e3",
   "metadata": {},
   "source": []
  },
  {
   "cell_type": "markdown",
   "id": "fa8c9d36",
   "metadata": {},
   "source": [
    "## Part 3: A Quick Reflection\n",
    "Briefly answer the prompts below in the markdown cell provided. (1-2 sentences for each prompt\n",
    "is sufficient.)"
   ]
  },
  {
   "cell_type": "markdown",
   "id": "cfb76030",
   "metadata": {},
   "source": [
    "### Exercise 5: What was helpful?\n",
    "Indicate one question/part in this assignment that you find helpful in helping you understand\n",
    "an idea or method introduced in class. This could be a question/task that you knew right\n",
    "away how to do; one for which you kept encountering bugs/errors; or one that you needed\n",
    "to think a while or discuss with others first to figure out.\n",
    "(State which question/part and how it helps you with which idea/method.)"
   ]
  },
  {
   "cell_type": "markdown",
   "id": "1b588a5f",
   "metadata": {},
   "source": []
  },
  {
   "cell_type": "markdown",
   "id": "96ba36b2",
   "metadata": {},
   "source": [
    "### Exercise 6: What was challenging / interesting?\n",
    "Write one thing that you find challenging or interesting in this assignment. Briefly elaborate on what made it challenging or interesting. "
   ]
  },
  {
   "cell_type": "markdown",
   "id": "32e5d523",
   "metadata": {},
   "source": []
  },
  {
   "cell_type": "markdown",
   "id": "1c1d4966",
   "metadata": {},
   "source": [
    "## Part 4: Generate PDF file and submit\n",
    "\n",
    "### Print this notebook as PDF document\n",
    "Download a PDF version of this notebook using one of the following strategies.\n",
    "\n",
    "#### Strategy 1: Use print preview\n",
    "Use the menu option File > Print Preview to generate a printer friendly version of this notebook. Then use your browsers print dialogue to save as PDF.\n",
    "Use the following menu option to download a PDF version of this notebook.\n",
    "\n",
    "#### Strategy 2: Use LaTeX\n",
    "Use the menu option File > Download as > PDF via LaTeX (.pdf) generate a PDF file you can download. \n",
    "\n",
    "### Submit on Gradscope\n",
    "Submit the PDF document on Gradescope. Be sure to assign a page to each question even if your document is only one\n",
    "page, See the [Gradescope support page](https://help.gradescope.com/article/ccbpppziu9-student-submit-work#submitting_a_pdf) for detailed instructions. Assigning pages to questions greatly expedites the grading process."
   ]
  }
 ],
 "metadata": {
  "celltoolbar": "Edit Metadata",
  "kernelspec": {
   "display_name": "R",
   "language": "R",
   "name": "ir"
  },
  "language_info": {
   "codemirror_mode": "r",
   "file_extension": ".r",
   "mimetype": "text/x-r-source",
   "name": "R",
   "pygments_lexer": "r",
   "version": "4.0.5"
  }
 },
 "nbformat": 4,
 "nbformat_minor": 5
}
