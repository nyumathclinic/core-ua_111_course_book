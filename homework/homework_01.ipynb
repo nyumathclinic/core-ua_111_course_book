{
 "cells": [
  {
   "cell_type": "markdown",
   "id": "b75ccc8b",
   "metadata": {},
   "source": [
    "(homework01)=\n",
    "# Homework 1"
   ]
  },
  {
   "cell_type": "markdown",
   "id": "c07cdc1d",
   "metadata": {},
   "source": [
    "## Part 0: Getting started"
   ]
  },
  {
   "cell_type": "markdown",
   "id": "2a5fea27",
   "metadata": {},
   "source": [
    "### Open this notebook on the Jupyter Hub\n",
    "* Click on the rocket icon in the upper right of this page of the course book. \n",
    "* Click the JupyterHub link.\n",
    "* If prompted, log in to the Jupyter Hub with your NYU account.\n",
    "* If prompted to select a kernel, choose *R [conda env:FDTD]*."
   ]
  },
  {
   "cell_type": "markdown",
   "id": "8a289655",
   "metadata": {},
   "source": [
    "### Name, NetID, Collaborators\n",
    "Please edit the markdown cell below for “Names & NetIDs” and enter:\n",
    "- Your name and NetID (eg. cc5948), and\n",
    "- The names and NetIDs of everyone with whom you have collaborated with (e.g., discussed\n",
    "questions with, provided help to, received help from, etc.).\n",
    "\n",
    "Our goal is to create an honest, collaborative, and positive learning environment. Keep\n",
    "in mind that while collaboration in lab and homework is strongly encouraged, the work\n",
    "you submitted must be your own (you typed them up yourself; you can explain what you\n",
    "submitted). Your goal is to use the help and support to eventually understand the ideas\n",
    "and the methods yourself"
   ]
  },
  {
   "cell_type": "markdown",
   "id": "9d435731",
   "metadata": {},
   "source": [
    "**Name and NetID:**\n",
    "\n",
    "\n",
    "**Collaborators:**"
   ]
  },
  {
   "cell_type": "markdown",
   "id": "42509c76",
   "metadata": {},
   "source": [
    "## Part 1: Arithmetic, variables and vectors"
   ]
  },
  {
   "cell_type": "markdown",
   "id": "e2fdd24c",
   "metadata": {},
   "source": [
    "### Exercise 1: Tax and tip\n",
    "Ali and Sam went to a restaurant and together purchased a $\\$11.48$ beef enchilada and a\n",
    "$\\$9.62$ quesadilla. Sales tax in restaurants in New York City is 8.875%.\n",
    "\n",
    "- How much is their total bill, including this tax (but not including tip)?\n",
    "- Suppose that they added a $\\$3.15$ tip at the end, how much are Ali and Sam paying?\n",
    "\n",
    "Use R for your computations and summarize your result in a markdown cell. "
   ]
  },
  {
   "cell_type": "code",
   "execution_count": null,
   "id": "d5b145cb",
   "metadata": {},
   "outputs": [],
   "source": []
  },
  {
   "cell_type": "markdown",
   "id": "d8d58e2c",
   "metadata": {},
   "source": []
  },
  {
   "cell_type": "markdown",
   "id": "1e6c4de6",
   "metadata": {},
   "source": [
    "### Exercise 2: Even numbers\n",
    "- Without typing out each number, create a vector that contains the even numbers from -10 to 32 (including -10 and 32)."
   ]
  },
  {
   "cell_type": "code",
   "execution_count": null,
   "id": "5a77fd85",
   "metadata": {},
   "outputs": [],
   "source": []
  },
  {
   "cell_type": "markdown",
   "id": "eb1247f8",
   "metadata": {},
   "source": [
    "### Exercise 3: Odd numbers\n",
    "- Without typing out each number, create a vector that contains all odd numbers from -11 to 31 (including -11 and 31)."
   ]
  },
  {
   "cell_type": "code",
   "execution_count": null,
   "id": "d3b12cb2",
   "metadata": {},
   "outputs": [],
   "source": []
  },
  {
   "cell_type": "markdown",
   "id": "9a025370",
   "metadata": {},
   "source": [
    "### Exercise 4: Temperature conversion\n",
    "We can use the formula below to convert a temperature $f$ in degrees Fahrenheit to the equivalent temperature $c$ in degrees Celsius\n",
    "\n",
    "$$(f − 32) \\cdot \\frac{5}{9} = c$$\n",
    "\n",
    "- Convert the values in the `temperatures` vector defined in the cell below from Fahrenheit to Celsius.\n",
    "- Store the converted values in the `temperatures` variable.\n",
    "- Output the values in `temperatures` to verify that your code had the desired effect. The first and last values should both be close to 22. "
   ]
  },
  {
   "cell_type": "code",
   "execution_count": 13,
   "id": "c0bfbbf8",
   "metadata": {
    "deletable": false,
    "editable": false
   },
   "outputs": [],
   "source": [
    "# You cannot edit this cell. \n",
    "# Notice that R gives no output when you assign values to variables.\n",
    "# You can see that the cell has been run if there is a number in the brackets: In [].\n",
    "\n",
    "temperatures <- c(71, 85, 79, 82, 87, 90, 87, 93, 92, 82, 80, 79, 77, 72, 65, 73, 76, 77, 76, 76, 72)"
   ]
  },
  {
   "cell_type": "code",
   "execution_count": null,
   "id": "99871ce0",
   "metadata": {},
   "outputs": [],
   "source": []
  },
  {
   "cell_type": "markdown",
   "id": "b65e7975",
   "metadata": {},
   "source": [
    "### Exercise 5: Fruits and vegetables \n",
    "\n",
    "- Create a vector called  `fruits` containing the following names of fruits:\n",
    "apple banana orange pear\n",
    "- Create a vector called `vegetables` containing the following names of vegetables:\n",
    "broccoli carrot kale spinach\n",
    "- Using `fruits` and `vegetables`, create a vector called `food` containing all of the food names listed above.\n",
    "- Output the value of `food` to verify that it contains the expected values."
   ]
  },
  {
   "cell_type": "code",
   "execution_count": null,
   "id": "b728fb60",
   "metadata": {},
   "outputs": [],
   "source": []
  },
  {
   "cell_type": "markdown",
   "id": "4ffaba42",
   "metadata": {},
   "source": [
    "### Exercise 6: Check the type\n",
    "\n",
    "- Use R to check the data type of the entries in both the `fruits` and the `temperatures` vectors from the previous exercises."
   ]
  },
  {
   "cell_type": "code",
   "execution_count": null,
   "id": "611c941a",
   "metadata": {},
   "outputs": [],
   "source": []
  },
  {
   "cell_type": "markdown",
   "id": "fa8c9d36",
   "metadata": {},
   "source": [
    "## Part 2: A Quick Reflection\n",
    "Briefly answer the prompts below in the markdown cell provided. (1-2 sentences for each prompt\n",
    "is sufficient.)"
   ]
  },
  {
   "cell_type": "markdown",
   "id": "cfb76030",
   "metadata": {},
   "source": [
    "### Exercise 7: What was helpful?\n",
    "Indicate one question/part in this assignment that you find helpful in helping you understand\n",
    "an idea or method introduced in class. This could be a question/task that you knew right\n",
    "away how to do; one for which you kept encountering bugs/errors; or one that you needed\n",
    "to think a while or discuss with others first to figure out.\n",
    "(State which question/part and how it helps you with which idea/method.)"
   ]
  },
  {
   "cell_type": "markdown",
   "id": "1b588a5f",
   "metadata": {},
   "source": []
  },
  {
   "cell_type": "markdown",
   "id": "96ba36b2",
   "metadata": {},
   "source": [
    "### Exercise 8: What was challenging / interesting?\n",
    "Write one thing that you find challenging or interesting in this assignment. Briefly elaborate on what made it challenging or interesting. "
   ]
  },
  {
   "cell_type": "markdown",
   "id": "32e5d523",
   "metadata": {},
   "source": []
  },
  {
   "cell_type": "markdown",
   "id": "1c1d4966",
   "metadata": {},
   "source": [
    "## Part 4: Generate PDF file and submit\n",
    "\n",
    "### Print this notebook as PDF document\n",
    "Download a PDF version of this notebook using one of the following strategies.\n",
    "\n",
    "#### Strategy 1: Use print preview\n",
    "Use the menu option File > Print Preview to generate a printer friendly version of this notebook. Then use your browsers print dialogue to save as PDF.\n",
    "Use the following menu option to download a PDF version of this notebook.\n",
    "\n",
    "#### Strategy 2: Use LaTeX\n",
    "Use the menu option File > Download as > PDF via LaTeX (.pdf) generate a PDF file you can download. \n",
    "\n",
    "### Submit on Gradscope\n",
    "Submit the PDF document on Gradescope. Be sure to assign a page to each question even if your document is only one\n",
    "page, See the [Gradescope support page](https://help.gradescope.com/article/ccbpppziu9-student-submit-work#submitting_a_pdf) for detailed instructions. Assigning pages to questions greatly expedites the grading process."
   ]
  }
 ],
 "metadata": {
  "celltoolbar": "Edit Metadata",
  "kernelspec": {
   "display_name": "R",
   "language": "R",
   "name": "ir"
  },
  "language_info": {
   "codemirror_mode": "r",
   "file_extension": ".r",
   "mimetype": "text/x-r-source",
   "name": "R",
   "pygments_lexer": "r",
   "version": "4.0.5"
  }
 },
 "nbformat": 4,
 "nbformat_minor": 5
}
