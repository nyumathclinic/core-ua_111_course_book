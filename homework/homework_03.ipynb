{
 "cells": [
  {
   "cell_type": "markdown",
   "id": "b75ccc8b",
   "metadata": {},
   "source": [
    "(homework03)=\n",
    "# Homework 3"
   ]
  },
  {
   "cell_type": "markdown",
   "id": "8a289655",
   "metadata": {},
   "source": [
    "### Name, NetID, Collaborators\n",
    "Please edit the markdown cell below for “Names & NetIDs” and enter:\n",
    "- Your name and NetID (eg. cc5948), and\n",
    "- The names and NetIDs of everyone with whom you have collaborated with (e.g., discussed\n",
    "questions with, provided help to, received help from, etc.).\n",
    "\n",
    "Our goal is to create an honest, collaborative, and positive learning environment. Keep\n",
    "in mind that while collaboration in lab and homework is strongly encouraged, the work\n",
    "you submitted must be your own (you typed them up yourself; you can explain what you\n",
    "submitted). Your goal is to use the help and support to eventually understand the ideas\n",
    "and the methods yourself"
   ]
  },
  {
   "cell_type": "markdown",
   "id": "9d435731",
   "metadata": {},
   "source": [
    "**Name and NetID:**\n",
    "\n",
    "\n",
    "**Collaborators:**"
   ]
  },
  {
   "cell_type": "markdown",
   "id": "6bc747d2",
   "metadata": {},
   "source": [
    "## Part 1: NYC tees"
   ]
  },
  {
   "cell_type": "markdown",
   "id": "58b286f4",
   "metadata": {},
   "source": [
    "### Exercise 1 - Load and explore tree data\n",
    "\n",
    "There is a CSV file called `NYC_Tree_Census_small.csv` in the `~/shared/data` folder. This file contains information an excerpt from the [2015 New York City Tree Census](https://data.cityofnewyork.us/Environment/2015-Street-Tree-Census-Tree-Data/uvpi-gqnh) shared by the [NYC OpenData project](https://data.cityofnewyork.us). \n",
    "\n",
    "- Import the NYC tree census data **from the local file** and store it as a data frame called `nyc_trees`.\n",
    "- Look at the first three rows of `nyc_trees` to verify that it imported successfully and to get a sense of the data. \n",
    "- Look at the documentation of the data set on the website linked above. \n",
    "- In a markdown cell answer the following questions:\n",
    "    * How many variables and observation are `nyc_trees`?\n",
    "    * What does each observation represent?\n",
    "    * What information is recorded in the `health` variable? What is the data type of this information?\n",
    "    * What information is recorded in the `tree_dbh` variable? What are the units?"
   ]
  },
  {
   "cell_type": "code",
   "execution_count": null,
   "id": "95414dd5",
   "metadata": {},
   "outputs": [],
   "source": []
  },
  {
   "cell_type": "markdown",
   "id": "4a9b8b04",
   "metadata": {},
   "source": []
  },
  {
   "cell_type": "code",
   "execution_count": 2,
   "id": "f0f90af2",
   "metadata": {
    "scrolled": true
   },
   "outputs": [
    {
     "data": {
      "text/html": [
       "<table class=\"dataframe\">\n",
       "<caption>A data.frame: 3 × 12</caption>\n",
       "<thead>\n",
       "\t<tr><th></th><th scope=col>X</th><th scope=col>tree_id</th><th scope=col>tree_dbh</th><th scope=col>stump_diam</th><th scope=col>status</th><th scope=col>health</th><th scope=col>spc_latin</th><th scope=col>spc_common</th><th scope=col>postcode</th><th scope=col>borough</th><th scope=col>latitude</th><th scope=col>longitude</th></tr>\n",
       "\t<tr><th></th><th scope=col>&lt;int&gt;</th><th scope=col>&lt;int&gt;</th><th scope=col>&lt;int&gt;</th><th scope=col>&lt;int&gt;</th><th scope=col>&lt;chr&gt;</th><th scope=col>&lt;chr&gt;</th><th scope=col>&lt;chr&gt;</th><th scope=col>&lt;chr&gt;</th><th scope=col>&lt;int&gt;</th><th scope=col>&lt;chr&gt;</th><th scope=col>&lt;dbl&gt;</th><th scope=col>&lt;dbl&gt;</th></tr>\n",
       "</thead>\n",
       "<tbody>\n",
       "\t<tr><th scope=row>1</th><td>1</td><td> 21525</td><td>27</td><td>0</td><td>Alive</td><td>Good</td><td>Platanus x acerifolia</td><td>London planetree</td><td>11369</td><td>Queens       </td><td>40.76482</td><td>-73.87812</td></tr>\n",
       "\t<tr><th scope=row>2</th><td>2</td><td>588901</td><td> 6</td><td>0</td><td>Alive</td><td>Good</td><td>Pyrus calleryana     </td><td>Callery pear    </td><td>11367</td><td>Queens       </td><td>40.73043</td><td>-73.83008</td></tr>\n",
       "\t<tr><th scope=row>3</th><td>3</td><td>512877</td><td> 8</td><td>0</td><td>Alive</td><td>Good</td><td>Pyrus calleryana     </td><td>Callery pear    </td><td>10308</td><td>Staten Island</td><td>40.54974</td><td>-74.14891</td></tr>\n",
       "</tbody>\n",
       "</table>\n"
      ],
      "text/latex": [
       "A data.frame: 3 × 12\n",
       "\\begin{tabular}{r|llllllllllll}\n",
       "  & X & tree\\_id & tree\\_dbh & stump\\_diam & status & health & spc\\_latin & spc\\_common & postcode & borough & latitude & longitude\\\\\n",
       "  & <int> & <int> & <int> & <int> & <chr> & <chr> & <chr> & <chr> & <int> & <chr> & <dbl> & <dbl>\\\\\n",
       "\\hline\n",
       "\t1 & 1 &  21525 & 27 & 0 & Alive & Good & Platanus x acerifolia & London planetree & 11369 & Queens        & 40.76482 & -73.87812\\\\\n",
       "\t2 & 2 & 588901 &  6 & 0 & Alive & Good & Pyrus calleryana      & Callery pear     & 11367 & Queens        & 40.73043 & -73.83008\\\\\n",
       "\t3 & 3 & 512877 &  8 & 0 & Alive & Good & Pyrus calleryana      & Callery pear     & 10308 & Staten Island & 40.54974 & -74.14891\\\\\n",
       "\\end{tabular}\n"
      ],
      "text/markdown": [
       "\n",
       "A data.frame: 3 × 12\n",
       "\n",
       "| <!--/--> | X &lt;int&gt; | tree_id &lt;int&gt; | tree_dbh &lt;int&gt; | stump_diam &lt;int&gt; | status &lt;chr&gt; | health &lt;chr&gt; | spc_latin &lt;chr&gt; | spc_common &lt;chr&gt; | postcode &lt;int&gt; | borough &lt;chr&gt; | latitude &lt;dbl&gt; | longitude &lt;dbl&gt; |\n",
       "|---|---|---|---|---|---|---|---|---|---|---|---|---|\n",
       "| 1 | 1 |  21525 | 27 | 0 | Alive | Good | Platanus x acerifolia | London planetree | 11369 | Queens        | 40.76482 | -73.87812 |\n",
       "| 2 | 2 | 588901 |  6 | 0 | Alive | Good | Pyrus calleryana      | Callery pear     | 11367 | Queens        | 40.73043 | -73.83008 |\n",
       "| 3 | 3 | 512877 |  8 | 0 | Alive | Good | Pyrus calleryana      | Callery pear     | 10308 | Staten Island | 40.54974 | -74.14891 |\n",
       "\n"
      ],
      "text/plain": [
       "  X tree_id tree_dbh stump_diam status health spc_latin            \n",
       "1 1  21525  27       0          Alive  Good   Platanus x acerifolia\n",
       "2 2 588901   6       0          Alive  Good   Pyrus calleryana     \n",
       "3 3 512877   8       0          Alive  Good   Pyrus calleryana     \n",
       "  spc_common       postcode borough       latitude longitude\n",
       "1 London planetree 11369    Queens        40.76482 -73.87812\n",
       "2 Callery pear     11367    Queens        40.73043 -73.83008\n",
       "3 Callery pear     10308    Staten Island 40.54974 -74.14891"
      ]
     },
     "metadata": {},
     "output_type": "display_data"
    }
   ],
   "source": [
    "# import the data\n",
    "nyc_trees <- read.csv('~/shared/data/NYC_Tree_Census_small.csv')\n",
    "\n",
    "# load the dplyr package\n",
    "library(dplyr)\n",
    "\n",
    "head(nyc_trees, 3)"
   ]
  },
  {
   "cell_type": "code",
   "execution_count": 38,
   "id": "4088b268",
   "metadata": {},
   "outputs": [
    {
     "data": {
      "text/html": [
       "<style>\n",
       ".list-inline {list-style: none; margin:0; padding: 0}\n",
       ".list-inline>li {display: inline-block}\n",
       ".list-inline>li:not(:last-child)::after {content: \"\\00b7\"; padding: 0 .5ex}\n",
       "</style>\n",
       "<ol class=list-inline><li>5000</li><li>12</li></ol>\n"
      ],
      "text/latex": [
       "\\begin{enumerate*}\n",
       "\\item 5000\n",
       "\\item 12\n",
       "\\end{enumerate*}\n"
      ],
      "text/markdown": [
       "1. 5000\n",
       "2. 12\n",
       "\n",
       "\n"
      ],
      "text/plain": [
       "[1] 5000   12"
      ]
     },
     "metadata": {},
     "output_type": "display_data"
    },
    {
     "data": {
      "text/html": [
       "'character'"
      ],
      "text/latex": [
       "'character'"
      ],
      "text/markdown": [
       "'character'"
      ],
      "text/plain": [
       "[1] \"character\""
      ]
     },
     "metadata": {},
     "output_type": "display_data"
    }
   ],
   "source": [
    "dim(nyc_trees)\n",
    "typeof(nyc_trees$health)"
   ]
  },
  {
   "cell_type": "markdown",
   "id": "89c58fdf",
   "metadata": {},
   "source": [
    "There are 5,000 observations and 12 variables in nyc_trees. Each observation corresponds to a tree. \n",
    "\n",
    "The status variable indicates the health of the tree. It is a character variable. \n",
    "\n",
    "The tree_dbh variable indicates the trees diameter at breast height in inches."
   ]
  },
  {
   "cell_type": "markdown",
   "id": "06e6f1c2",
   "metadata": {},
   "source": [
    "### Exercise 2 - Number of trees in Manhattan\n",
    "\n",
    "- Determine the number of trees in nyc_trees that are located in Manhattan.\n",
    "- Summarize your findings in a markdown cell."
   ]
  },
  {
   "cell_type": "code",
   "execution_count": null,
   "id": "ce0bb2c5",
   "metadata": {},
   "outputs": [],
   "source": []
  },
  {
   "cell_type": "markdown",
   "id": "f464b532",
   "metadata": {},
   "source": []
  },
  {
   "cell_type": "code",
   "execution_count": 15,
   "id": "9e788640",
   "metadata": {},
   "outputs": [
    {
     "data": {
      "text/html": [
       "506"
      ],
      "text/latex": [
       "506"
      ],
      "text/markdown": [
       "506"
      ],
      "text/plain": [
       "[1] 506"
      ]
     },
     "metadata": {},
     "output_type": "display_data"
    }
   ],
   "source": [
    "nyc_trees %>% filter(borough == 'Manhattan') %>% nrow()"
   ]
  },
  {
   "cell_type": "markdown",
   "id": "7306d177",
   "metadata": {},
   "source": [
    "There are 506 trees located on Manhattan in the data set. "
   ]
  },
  {
   "cell_type": "markdown",
   "id": "3560a7e1",
   "metadata": {},
   "source": [
    "### Exercise 3 - Manhattan trees\n",
    "\n",
    "The `unique()` function outputs a vector where each value in the inputed vector is listed exactly once. See the cell below for an example.\n",
    "\n",
    "```unique(VECTOR)```\n",
    "\n",
    "- Use `unique()` to view the values in the status column of nyc_trees. Notice that all observations have the same value. \n",
    "- Use `filter()` and `select()` to create a data frame called `manhattan_trees` that contains all the variables in nyc_trees except status and borough and only contains trees on Manhattan. \n",
    "- Verify that this worked using `dim()` to verify that manhattan_trees has the expected number of variables and observations.\n",
    "- Answer the following questions in a markdown cell. Don't forget units.\n",
    "    * What is the maximum diameter of a tree on Manhattan? \n",
    "    * What is the minimum diameter of a tree on Manhattan?\n",
    "\n",
    "\n"
   ]
  },
  {
   "cell_type": "code",
   "execution_count": 6,
   "id": "a0155322",
   "metadata": {},
   "outputs": [
    {
     "data": {
      "text/html": [
       "<style>\n",
       ".list-inline {list-style: none; margin:0; padding: 0}\n",
       ".list-inline>li {display: inline-block}\n",
       ".list-inline>li:not(:last-child)::after {content: \"\\00b7\"; padding: 0 .5ex}\n",
       "</style>\n",
       "<ol class=list-inline><li>1</li><li>2</li><li>3</li></ol>\n"
      ],
      "text/latex": [
       "\\begin{enumerate*}\n",
       "\\item 1\n",
       "\\item 2\n",
       "\\item 3\n",
       "\\end{enumerate*}\n"
      ],
      "text/markdown": [
       "1. 1\n",
       "2. 2\n",
       "3. 3\n",
       "\n",
       "\n"
      ],
      "text/plain": [
       "[1] 1 2 3"
      ]
     },
     "metadata": {},
     "output_type": "display_data"
    }
   ],
   "source": [
    "unique(c(1,1,1,2,2,3))"
   ]
  },
  {
   "cell_type": "code",
   "execution_count": null,
   "id": "0d365b76",
   "metadata": {},
   "outputs": [],
   "source": []
  },
  {
   "cell_type": "markdown",
   "id": "52dcb739",
   "metadata": {},
   "source": []
  },
  {
   "cell_type": "code",
   "execution_count": 16,
   "id": "680559ab",
   "metadata": {},
   "outputs": [
    {
     "data": {
      "text/html": [
       "'Alive'"
      ],
      "text/latex": [
       "'Alive'"
      ],
      "text/markdown": [
       "'Alive'"
      ],
      "text/plain": [
       "[1] \"Alive\""
      ]
     },
     "metadata": {},
     "output_type": "display_data"
    }
   ],
   "source": [
    "unique(nyc_trees$status)"
   ]
  },
  {
   "cell_type": "code",
   "execution_count": 19,
   "id": "280fd4cb",
   "metadata": {},
   "outputs": [
    {
     "data": {
      "text/html": [
       "<style>\n",
       ".list-inline {list-style: none; margin:0; padding: 0}\n",
       ".list-inline>li {display: inline-block}\n",
       ".list-inline>li:not(:last-child)::after {content: \"\\00b7\"; padding: 0 .5ex}\n",
       "</style>\n",
       "<ol class=list-inline><li>506</li><li>10</li></ol>\n"
      ],
      "text/latex": [
       "\\begin{enumerate*}\n",
       "\\item 506\n",
       "\\item 10\n",
       "\\end{enumerate*}\n"
      ],
      "text/markdown": [
       "1. 506\n",
       "2. 10\n",
       "\n",
       "\n"
      ],
      "text/plain": [
       "[1] 506  10"
      ]
     },
     "metadata": {},
     "output_type": "display_data"
    }
   ],
   "source": [
    "manhattan_trees <- nyc_trees %>%\n",
    "    filter(borough == 'Manhattan') %>%\n",
    "    select(-status, -borough)\n",
    "\n",
    "dim(manhattan_trees)"
   ]
  },
  {
   "cell_type": "code",
   "execution_count": 20,
   "id": "bf636e1f",
   "metadata": {},
   "outputs": [
    {
     "data": {
      "text/html": [
       "38"
      ],
      "text/latex": [
       "38"
      ],
      "text/markdown": [
       "38"
      ],
      "text/plain": [
       "[1] 38"
      ]
     },
     "metadata": {},
     "output_type": "display_data"
    },
    {
     "data": {
      "text/html": [
       "1"
      ],
      "text/latex": [
       "1"
      ],
      "text/markdown": [
       "1"
      ],
      "text/plain": [
       "[1] 1"
      ]
     },
     "metadata": {},
     "output_type": "display_data"
    }
   ],
   "source": [
    "max(manhattan_trees$tree_dbh)\n",
    "min(manhattan_trees$tree_dbh)"
   ]
  },
  {
   "cell_type": "markdown",
   "id": "dbb427b5",
   "metadata": {},
   "source": [
    "The maximum diameter of a tree in Manhattan is 36 inches and the minimum diameter is 1 inch. "
   ]
  },
  {
   "cell_type": "markdown",
   "id": "1e1e5ed6",
   "metadata": {},
   "source": [
    "### Exercise 4 - Tree health numbers\n",
    "\n",
    "- Use the ```group_by()``` and ```summarize()``` functions to determine how many of the trees in nyc_trees were recorded with each level of health."
   ]
  },
  {
   "cell_type": "code",
   "execution_count": null,
   "id": "04f09bce",
   "metadata": {},
   "outputs": [],
   "source": []
  },
  {
   "cell_type": "code",
   "execution_count": 9,
   "id": "f5215e0c",
   "metadata": {},
   "outputs": [
    {
     "data": {
      "text/html": [
       "<table class=\"dataframe\">\n",
       "<caption>A tibble: 3 × 2</caption>\n",
       "<thead>\n",
       "\t<tr><th scope=col>health</th><th scope=col>Count</th></tr>\n",
       "\t<tr><th scope=col>&lt;chr&gt;</th><th scope=col>&lt;int&gt;</th></tr>\n",
       "</thead>\n",
       "<tbody>\n",
       "\t<tr><td>Fair</td><td> 730</td></tr>\n",
       "\t<tr><td>Good</td><td>4091</td></tr>\n",
       "\t<tr><td>Poor</td><td> 179</td></tr>\n",
       "</tbody>\n",
       "</table>\n"
      ],
      "text/latex": [
       "A tibble: 3 × 2\n",
       "\\begin{tabular}{ll}\n",
       " health & Count\\\\\n",
       " <chr> & <int>\\\\\n",
       "\\hline\n",
       "\t Fair &  730\\\\\n",
       "\t Good & 4091\\\\\n",
       "\t Poor &  179\\\\\n",
       "\\end{tabular}\n"
      ],
      "text/markdown": [
       "\n",
       "A tibble: 3 × 2\n",
       "\n",
       "| health &lt;chr&gt; | Count &lt;int&gt; |\n",
       "|---|---|\n",
       "| Fair |  730 |\n",
       "| Good | 4091 |\n",
       "| Poor |  179 |\n",
       "\n"
      ],
      "text/plain": [
       "  health Count\n",
       "1 Fair    730 \n",
       "2 Good   4091 \n",
       "3 Poor    179 "
      ]
     },
     "metadata": {},
     "output_type": "display_data"
    }
   ],
   "source": [
    "nyc_trees %>%\n",
    "    group_by(health) %>%\n",
    "    summarize(Count = n())"
   ]
  },
  {
   "cell_type": "markdown",
   "id": "429cf750",
   "metadata": {},
   "source": [
    "### Exercise 5 - Custom order\n",
    "\n",
    "We can use `factor()` to tell R our preferred order for the values in a categorical variable. Consider the following example.\n",
    "\n",
    "A data set called `schools` contains a variable called `school_type` which indicates whether the given school is a 'kindergarten' (age 5), 'elementary school' (age 6 - 10), 'middle school' (age 11 - 13) or 'high school' (age 14 - 17). The following command will tell R that we prefer to sort `school_type` the the specified order rather than alphabetically.\n",
    "\n",
    "``` schools <- mutate(schools, school_type = \n",
    "                factor(school_type, levels = c('kindergarten', 'elementary school', 'middle school', 'high school' ))\n",
    "                )```\n",
    "\n",
    "Here is the general syntax for factor:\n",
    "\n",
    "```factor(VECTOR_OF_DATA, levels=VECTOR_OF_ORDERED_VALUES)```\n",
    "\n",
    "The output of factor is VECTOR_OF_DATA with the additional structure of a specified order to the values.\n",
    "\n",
    "- Use `factor()` to specify a more natural order for the health variable in nyc_trees\n",
    "- Recreate the the summary table from the previous exercise and verify that the rows are now in your specified order.\n",
    "- Store your summary table in a variable called `tree_health_count`.\n",
    "- Output `tree_health_count`"
   ]
  },
  {
   "cell_type": "code",
   "execution_count": null,
   "id": "341fc04d",
   "metadata": {},
   "outputs": [],
   "source": []
  },
  {
   "cell_type": "code",
   "execution_count": 39,
   "id": "4d053916",
   "metadata": {
    "scrolled": true
   },
   "outputs": [],
   "source": [
    "tree_health_count <- nyc_trees %>%\n",
    "    mutate(health = factor(health, levels=c(\"Good\", \"Fair\", \"Poor\"))) %>%\n",
    "    group_by(health) %>%\n",
    "    summarize(Count = n())"
   ]
  },
  {
   "cell_type": "markdown",
   "id": "58ff12cd",
   "metadata": {},
   "source": [
    "### Exercise 6 - Visualize tree health\n",
    "\n",
    "- Create a bar chart that shoes the number of trees with each level of health. "
   ]
  },
  {
   "cell_type": "code",
   "execution_count": null,
   "id": "0a8971eb",
   "metadata": {},
   "outputs": [],
   "source": []
  },
  {
   "cell_type": "code",
   "execution_count": 11,
   "id": "b7cfc2aa",
   "metadata": {},
   "outputs": [
    {
     "name": "stderr",
     "output_type": "stream",
     "text": [
      "Warning message:\n",
      "“package ‘ggplot2’ was built under R version 4.0.5”\n"
     ]
    }
   ],
   "source": [
    "library(ggplot2)"
   ]
  },
  {
   "cell_type": "code",
   "execution_count": 40,
   "id": "5a13b150",
   "metadata": {},
   "outputs": [
    {
     "data": {
      "image/png": "[encoded data removed]",
      "text/plain": [
       "plot without title"
      ]
     },
     "metadata": {
      "image/png": {
       "height": 420,
       "width": 420
      }
     },
     "output_type": "display_data"
    }
   ],
   "source": [
    "ggplot(tree_health_count, aes(x= Count, y= health)) + geom_col() # OK to swap x and y axes"
   ]
  },
  {
   "cell_type": "markdown",
   "id": "2824fe22",
   "metadata": {},
   "source": [
    "## Part 2: City payroll"
   ]
  },
  {
   "cell_type": "markdown",
   "id": "549cd6fc",
   "metadata": {},
   "source": [
    "### Exercise 7 - Load and explore payroll data\n",
    "\n",
    "There is a CSV file called `NYC_Payroll_small.csv` in the shared data folder. This file contains an excerpt from the [2021 New York City Payroll](https://data.cityofnewyork.us/City-Government/Citywide-Payroll-Data-Fiscal-Year-/k397-673e) shared by the [NYC OpenData project](https://data.cityofnewyork.us). \n",
    "\n",
    "- Import the NYC tree census data **from the local file** and store it as a data frame called `nyc_payroll`.\n",
    "- Look at the first three rows of `nyc_payroll` to verify that it imported successfully and to get a sense of the data. \n",
    "- Add a column called `Total_Wages` to nyc_payroll that contains the total amount of money that was payed to each employee. "
   ]
  },
  {
   "cell_type": "code",
   "execution_count": null,
   "id": "7b329bca",
   "metadata": {},
   "outputs": [],
   "source": []
  },
  {
   "cell_type": "code",
   "execution_count": 43,
   "id": "c076905e",
   "metadata": {},
   "outputs": [
    {
     "data": {
      "text/html": [
       "<table class=\"dataframe\">\n",
       "<caption>A data.frame: 3 × 16</caption>\n",
       "<thead>\n",
       "\t<tr><th></th><th scope=col>Fiscal.Year</th><th scope=col>Payroll.Number</th><th scope=col>Agency.Name</th><th scope=col>Last.Name</th><th scope=col>First.Name</th><th scope=col>Agency.Start.Date</th><th scope=col>Work.Location.Borough</th><th scope=col>Title.Description</th><th scope=col>Leave.Status.as.of.June.30</th><th scope=col>Base.Salary</th><th scope=col>Pay.Basis</th><th scope=col>Regular.Hours</th><th scope=col>Regular.Gross.Paid</th><th scope=col>OT.Hours</th><th scope=col>Total.OT.Paid</th><th scope=col>Total.Other.Pay</th></tr>\n",
       "\t<tr><th></th><th scope=col>&lt;int&gt;</th><th scope=col>&lt;int&gt;</th><th scope=col>&lt;chr&gt;</th><th scope=col>&lt;chr&gt;</th><th scope=col>&lt;chr&gt;</th><th scope=col>&lt;chr&gt;</th><th scope=col>&lt;chr&gt;</th><th scope=col>&lt;chr&gt;</th><th scope=col>&lt;chr&gt;</th><th scope=col>&lt;dbl&gt;</th><th scope=col>&lt;chr&gt;</th><th scope=col>&lt;dbl&gt;</th><th scope=col>&lt;dbl&gt;</th><th scope=col>&lt;dbl&gt;</th><th scope=col>&lt;dbl&gt;</th><th scope=col>&lt;dbl&gt;</th></tr>\n",
       "</thead>\n",
       "<tbody>\n",
       "\t<tr><th scope=row>1</th><td>2019</td><td>300</td><td>BOARD OF ELECTION POLL WORKERS</td><td>WORKMAN </td><td>EULENE </td><td>07/25/2013</td><td>MANHATTAN</td><td>ELECTION WORKER        </td><td>ACTIVE</td><td>    1.00</td><td>per Hour </td><td>   0</td><td> 1450.00</td><td> 0.00</td><td>   0.0</td><td>  0.0</td></tr>\n",
       "\t<tr><th scope=row>2</th><td>2019</td><td>466</td><td>COMMUNITY COLLEGE (MANHATTAN) </td><td>GEORGE  </td><td>MICHAEL</td><td>02/01/2004</td><td>MANHATTAN</td><td>NON-TEACHING ADJUNCT IV</td><td>ACTIVE</td><td>   58.26</td><td>per Hour </td><td>   6</td><td>  349.56</td><td> 0.00</td><td>   0.0</td><td>  0.0</td></tr>\n",
       "\t<tr><th scope=row>3</th><td>2019</td><td>740</td><td>DEPARTMENT OF EDUCATION ADMIN </td><td>MITCHELL</td><td>SHARON </td><td>09/19/2016</td><td>MANHATTAN</td><td>COMMUNITY ASSOCIATE    </td><td>ACTIVE</td><td>48945.00</td><td>per Annum</td><td>1825</td><td>49231.13</td><td>44.25</td><td>1791.8</td><td>313.5</td></tr>\n",
       "</tbody>\n",
       "</table>\n"
      ],
      "text/latex": [
       "A data.frame: 3 × 16\n",
       "\\begin{tabular}{r|llllllllllllllll}\n",
       "  & Fiscal.Year & Payroll.Number & Agency.Name & Last.Name & First.Name & Agency.Start.Date & Work.Location.Borough & Title.Description & Leave.Status.as.of.June.30 & Base.Salary & Pay.Basis & Regular.Hours & Regular.Gross.Paid & OT.Hours & Total.OT.Paid & Total.Other.Pay\\\\\n",
       "  & <int> & <int> & <chr> & <chr> & <chr> & <chr> & <chr> & <chr> & <chr> & <dbl> & <chr> & <dbl> & <dbl> & <dbl> & <dbl> & <dbl>\\\\\n",
       "\\hline\n",
       "\t1 & 2019 & 300 & BOARD OF ELECTION POLL WORKERS & WORKMAN  & EULENE  & 07/25/2013 & MANHATTAN & ELECTION WORKER         & ACTIVE &     1.00 & per Hour  &    0 &  1450.00 &  0.00 &    0.0 &   0.0\\\\\n",
       "\t2 & 2019 & 466 & COMMUNITY COLLEGE (MANHATTAN)  & GEORGE   & MICHAEL & 02/01/2004 & MANHATTAN & NON-TEACHING ADJUNCT IV & ACTIVE &    58.26 & per Hour  &    6 &   349.56 &  0.00 &    0.0 &   0.0\\\\\n",
       "\t3 & 2019 & 740 & DEPARTMENT OF EDUCATION ADMIN  & MITCHELL & SHARON  & 09/19/2016 & MANHATTAN & COMMUNITY ASSOCIATE     & ACTIVE & 48945.00 & per Annum & 1825 & 49231.13 & 44.25 & 1791.8 & 313.5\\\\\n",
       "\\end{tabular}\n"
      ],
      "text/markdown": [
       "\n",
       "A data.frame: 3 × 16\n",
       "\n",
       "| <!--/--> | Fiscal.Year &lt;int&gt; | Payroll.Number &lt;int&gt; | Agency.Name &lt;chr&gt; | Last.Name &lt;chr&gt; | First.Name &lt;chr&gt; | Agency.Start.Date &lt;chr&gt; | Work.Location.Borough &lt;chr&gt; | Title.Description &lt;chr&gt; | Leave.Status.as.of.June.30 &lt;chr&gt; | Base.Salary &lt;dbl&gt; | Pay.Basis &lt;chr&gt; | Regular.Hours &lt;dbl&gt; | Regular.Gross.Paid &lt;dbl&gt; | OT.Hours &lt;dbl&gt; | Total.OT.Paid &lt;dbl&gt; | Total.Other.Pay &lt;dbl&gt; |\n",
       "|---|---|---|---|---|---|---|---|---|---|---|---|---|---|---|---|---|\n",
       "| 1 | 2019 | 300 | BOARD OF ELECTION POLL WORKERS | WORKMAN  | EULENE  | 07/25/2013 | MANHATTAN | ELECTION WORKER         | ACTIVE |     1.00 | per Hour  |    0 |  1450.00 |  0.00 |    0.0 |   0.0 |\n",
       "| 2 | 2019 | 466 | COMMUNITY COLLEGE (MANHATTAN)  | GEORGE   | MICHAEL | 02/01/2004 | MANHATTAN | NON-TEACHING ADJUNCT IV | ACTIVE |    58.26 | per Hour  |    6 |   349.56 |  0.00 |    0.0 |   0.0 |\n",
       "| 3 | 2019 | 740 | DEPARTMENT OF EDUCATION ADMIN  | MITCHELL | SHARON  | 09/19/2016 | MANHATTAN | COMMUNITY ASSOCIATE     | ACTIVE | 48945.00 | per Annum | 1825 | 49231.13 | 44.25 | 1791.8 | 313.5 |\n",
       "\n"
      ],
      "text/plain": [
       "  Fiscal.Year Payroll.Number Agency.Name                    Last.Name\n",
       "1 2019        300            BOARD OF ELECTION POLL WORKERS WORKMAN  \n",
       "2 2019        466            COMMUNITY COLLEGE (MANHATTAN)  GEORGE   \n",
       "3 2019        740            DEPARTMENT OF EDUCATION ADMIN  MITCHELL \n",
       "  First.Name Agency.Start.Date Work.Location.Borough Title.Description      \n",
       "1 EULENE     07/25/2013        MANHATTAN             ELECTION WORKER        \n",
       "2 MICHAEL    02/01/2004        MANHATTAN             NON-TEACHING ADJUNCT IV\n",
       "3 SHARON     09/19/2016        MANHATTAN             COMMUNITY ASSOCIATE    \n",
       "  Leave.Status.as.of.June.30 Base.Salary Pay.Basis Regular.Hours\n",
       "1 ACTIVE                         1.00    per Hour     0         \n",
       "2 ACTIVE                        58.26    per Hour     6         \n",
       "3 ACTIVE                     48945.00    per Annum 1825         \n",
       "  Regular.Gross.Paid OT.Hours Total.OT.Paid Total.Other.Pay\n",
       "1  1450.00            0.00       0.0          0.0          \n",
       "2   349.56            0.00       0.0          0.0          \n",
       "3 49231.13           44.25    1791.8        313.5          "
      ]
     },
     "metadata": {},
     "output_type": "display_data"
    }
   ],
   "source": [
    "nyc_payroll <- read.csv('~/shared/data/NYC_Payroll_small.csv')\n",
    "head(nyc_payroll,3)"
   ]
  },
  {
   "cell_type": "code",
   "execution_count": 45,
   "id": "fb361ef8",
   "metadata": {},
   "outputs": [],
   "source": [
    "nyc_payroll <- mutate(nyc_payroll, Total_Wages = Regular.Gross.Paid + Total.OT.Paid + Total.Other.Pay)"
   ]
  },
  {
   "cell_type": "markdown",
   "id": "a86e5392",
   "metadata": {},
   "source": [
    "### Exercise 8 - Large payroll agencies\n",
    "\n",
    "- Create a summary table called `large_payroll_agencies` that shows the total pay roll expenses in millions of dollars rounded to two decimal places for the ten agencies with the highest payroll expenses. \n",
    "- Output `large_payroll_agencies`."
   ]
  },
  {
   "cell_type": "code",
   "execution_count": null,
   "id": "867b3cd1",
   "metadata": {},
   "outputs": [],
   "source": []
  },
  {
   "cell_type": "code",
   "execution_count": 46,
   "id": "8b26e0af",
   "metadata": {},
   "outputs": [
    {
     "data": {
      "text/html": [
       "<table class=\"dataframe\">\n",
       "<caption>A tibble: 10 × 2</caption>\n",
       "<thead>\n",
       "\t<tr><th scope=col>Agency.Name</th><th scope=col>Total_Payroll</th></tr>\n",
       "\t<tr><th scope=col>&lt;chr&gt;</th><th scope=col>&lt;dbl&gt;</th></tr>\n",
       "</thead>\n",
       "<tbody>\n",
       "\t<tr><td>DEPARTMENT OF CORRECTION      </td><td>34.28</td></tr>\n",
       "\t<tr><td>DEPARTMENT OF SANITATION      </td><td>25.84</td></tr>\n",
       "\t<tr><td>DEPARTMENT OF EDUCATION ADMIN </td><td>25.22</td></tr>\n",
       "\t<tr><td>ADMIN FOR CHILDREN'S SVCS     </td><td>17.09</td></tr>\n",
       "\t<tr><td>DEPARTMENT OF TRANSPORTATION  </td><td>15.09</td></tr>\n",
       "\t<tr><td>DEPT OF ED HRLY SUPPORT STAFF </td><td>13.09</td></tr>\n",
       "\t<tr><td>DEPT OF CITYWIDE ADMIN SVCS   </td><td> 6.44</td></tr>\n",
       "\t<tr><td>COMMUNITY COLLEGE (MANHATTAN) </td><td> 5.65</td></tr>\n",
       "\t<tr><td>DEPARTMENT OF BUILDINGS       </td><td> 4.29</td></tr>\n",
       "\t<tr><td>DEPT. OF DESIGN &amp; CONSTRUCTION</td><td> 3.66</td></tr>\n",
       "</tbody>\n",
       "</table>\n"
      ],
      "text/latex": [
       "A tibble: 10 × 2\n",
       "\\begin{tabular}{ll}\n",
       " Agency.Name & Total\\_Payroll\\\\\n",
       " <chr> & <dbl>\\\\\n",
       "\\hline\n",
       "\t DEPARTMENT OF CORRECTION       & 34.28\\\\\n",
       "\t DEPARTMENT OF SANITATION       & 25.84\\\\\n",
       "\t DEPARTMENT OF EDUCATION ADMIN  & 25.22\\\\\n",
       "\t ADMIN FOR CHILDREN'S SVCS      & 17.09\\\\\n",
       "\t DEPARTMENT OF TRANSPORTATION   & 15.09\\\\\n",
       "\t DEPT OF ED HRLY SUPPORT STAFF  & 13.09\\\\\n",
       "\t DEPT OF CITYWIDE ADMIN SVCS    &  6.44\\\\\n",
       "\t COMMUNITY COLLEGE (MANHATTAN)  &  5.65\\\\\n",
       "\t DEPARTMENT OF BUILDINGS        &  4.29\\\\\n",
       "\t DEPT. OF DESIGN \\& CONSTRUCTION &  3.66\\\\\n",
       "\\end{tabular}\n"
      ],
      "text/markdown": [
       "\n",
       "A tibble: 10 × 2\n",
       "\n",
       "| Agency.Name &lt;chr&gt; | Total_Payroll &lt;dbl&gt; |\n",
       "|---|---|\n",
       "| DEPARTMENT OF CORRECTION       | 34.28 |\n",
       "| DEPARTMENT OF SANITATION       | 25.84 |\n",
       "| DEPARTMENT OF EDUCATION ADMIN  | 25.22 |\n",
       "| ADMIN FOR CHILDREN'S SVCS      | 17.09 |\n",
       "| DEPARTMENT OF TRANSPORTATION   | 15.09 |\n",
       "| DEPT OF ED HRLY SUPPORT STAFF  | 13.09 |\n",
       "| DEPT OF CITYWIDE ADMIN SVCS    |  6.44 |\n",
       "| COMMUNITY COLLEGE (MANHATTAN)  |  5.65 |\n",
       "| DEPARTMENT OF BUILDINGS        |  4.29 |\n",
       "| DEPT. OF DESIGN &amp; CONSTRUCTION |  3.66 |\n",
       "\n"
      ],
      "text/plain": [
       "   Agency.Name                    Total_Payroll\n",
       "1  DEPARTMENT OF CORRECTION       34.28        \n",
       "2  DEPARTMENT OF SANITATION       25.84        \n",
       "3  DEPARTMENT OF EDUCATION ADMIN  25.22        \n",
       "4  ADMIN FOR CHILDREN'S SVCS      17.09        \n",
       "5  DEPARTMENT OF TRANSPORTATION   15.09        \n",
       "6  DEPT OF ED HRLY SUPPORT STAFF  13.09        \n",
       "7  DEPT OF CITYWIDE ADMIN SVCS     6.44        \n",
       "8  COMMUNITY COLLEGE (MANHATTAN)   5.65        \n",
       "9  DEPARTMENT OF BUILDINGS         4.29        \n",
       "10 DEPT. OF DESIGN & CONSTRUCTION  3.66        "
      ]
     },
     "metadata": {},
     "output_type": "display_data"
    }
   ],
   "source": [
    "large_payroll_agencies <- nyc_payroll %>%\n",
    "    group_by(Agency.Name) %>%\n",
    "    summarize(Total_Payroll = round(sum(Total_Wages)/10^6,2)) %>%\n",
    "    arrange(desc(Total_Payroll)) %>%\n",
    "    head(10)\n",
    "large_payroll_agencies"
   ]
  },
  {
   "cell_type": "markdown",
   "id": "47df4f9e",
   "metadata": {},
   "source": [
    "### Exercise 9 - Visualize large payroll agencies\n",
    "\n",
    "- Create a bar chart that shows the data in `large_payroll_agencies`. Order the agencies based on their total payroll. "
   ]
  },
  {
   "cell_type": "code",
   "execution_count": null,
   "id": "528b90cd",
   "metadata": {},
   "outputs": [],
   "source": []
  },
  {
   "cell_type": "code",
   "execution_count": 34,
   "id": "61ac23a1",
   "metadata": {},
   "outputs": [
    {
     "data": {
      "image/png": "[encoded data removed]",
      "text/plain": [
       "plot without title"
      ]
     },
     "metadata": {
      "image/png": {
       "height": 420,
       "width": 420
      }
     },
     "output_type": "display_data"
    }
   ],
   "source": [
    "ggplot(large_payroll_agencies, aes(x = Total_Payroll, y = reorder(Agency.Name, Total_Payroll))) + geom_col()\n",
    "    "
   ]
  },
  {
   "cell_type": "markdown",
   "id": "fa8c9d36",
   "metadata": {},
   "source": [
    "## Part 3: A Quick Reflection\n",
    "Briefly answer the prompts below in the markdown cell provided. (1-2 sentences for each prompt\n",
    "is sufficient.)"
   ]
  },
  {
   "cell_type": "markdown",
   "id": "cfb76030",
   "metadata": {},
   "source": [
    "### Exercise 10: What was helpful?\n",
    "Indicate one question/part in this assignment that you find helpful in helping you understand\n",
    "an idea or method introduced in class. This could be a question/task that you knew right\n",
    "away how to do; one for which you kept encountering bugs/errors; or one that you needed\n",
    "to think a while or discuss with others first to figure out.\n",
    "(State which question/part and how it helps you with which idea/method.)"
   ]
  },
  {
   "cell_type": "markdown",
   "id": "1b588a5f",
   "metadata": {},
   "source": []
  },
  {
   "cell_type": "markdown",
   "id": "96ba36b2",
   "metadata": {},
   "source": [
    "### Exercise 11: What was challenging / interesting?\n",
    "Write one thing that you find challenging or interesting in this assignment. Briefly elaborate on what made it challenging or interesting. "
   ]
  },
  {
   "cell_type": "markdown",
   "id": "32e5d523",
   "metadata": {},
   "source": []
  },
  {
   "cell_type": "markdown",
   "id": "1c1d4966",
   "metadata": {},
   "source": [
    "## Part 4: Generate PDF file and submit\n",
    "\n",
    "### Print this notebook as PDF document\n",
    "Download a PDF version of this notebook using one of the following strategies.\n",
    "\n",
    "#### Strategy 1: Use print preview\n",
    "Use the menu option File > Print Preview to generate a printer friendly version of this notebook. Then use your browsers print dialogue to save as PDF.\n",
    "Use the following menu option to download a PDF version of this notebook.\n",
    "\n",
    "#### Strategy 2: Use LaTeX\n",
    "Use the menu option File > Download as > PDF via LaTeX (.pdf) generate a PDF file you can download. \n",
    "\n",
    "### Submit on Gradscope\n",
    "Submit the PDF document on Gradescope. Be sure to assign a page to each question even if your document is only one\n",
    "page, See the [Gradescope support page](https://help.gradescope.com/article/ccbpppziu9-student-submit-work#submitting_a_pdf) for detailed instructions. Assigning pages to questions greatly expedites the grading process."
   ]
  }
 ],
 "metadata": {
  "celltoolbar": "Edit Metadata",
  "kernelspec": {
   "display_name": "R",
   "language": "R",
   "name": "ir"
  },
  "language_info": {
   "codemirror_mode": "r",
   "file_extension": ".r",
   "mimetype": "text/x-r-source",
   "name": "R",
   "pygments_lexer": "r",
   "version": "4.0.5"
  }
 },
 "nbformat": 4,
 "nbformat_minor": 5
}
