{
 "cells": [
  {
   "cell_type": "markdown",
   "id": "b75ccc8b",
   "metadata": {},
   "source": [
    "(homework03)=\n",
    "# Homework 3"
   ]
  },
  {
   "cell_type": "markdown",
   "id": "8a289655",
   "metadata": {},
   "source": [
    "## Name, NetID, Collaborators\n",
    "Please edit the markdown cell below for “Names & NetIDs” and enter:\n",
    "- Your name and NetID (eg. cc5948), and\n",
    "- The names and NetIDs of everyone with whom you have collaborated with (e.g., discussed\n",
    "questions with, provided help to, received help from, etc.).\n",
    "\n",
    "Our goal is to create an honest, collaborative, and positive learning environment. Keep\n",
    "in mind that while collaboration in lab and homework is strongly encouraged, the work\n",
    "you submitted must be your own (you typed them up yourself; you can explain what you\n",
    "submitted). Your goal is to use the help and support to eventually understand the ideas\n",
    "and the methods yourself"
   ]
  },
  {
   "cell_type": "markdown",
   "id": "9d435731",
   "metadata": {},
   "source": [
    "**Name and NetID:**\n",
    "\n",
    "\n",
    "**Collaborators:**"
   ]
  },
  {
   "cell_type": "markdown",
   "id": "6bc747d2",
   "metadata": {},
   "source": [
    "## Part 1: NYC tees"
   ]
  },
  {
   "cell_type": "markdown",
   "id": "58b286f4",
   "metadata": {},
   "source": [
    "### Exercise 1 - Load and explore tree data\n",
    "\n",
    "There is a CSV file called `NYC_Tree_Census_small.csv` in the `~/shared/data` folder. This file contains information an excerpt from the [2015 New York City Tree Census](https://data.cityofnewyork.us/Environment/2015-Street-Tree-Census-Tree-Data/uvpi-gqnh) shared by the [NYC OpenData project](https://data.cityofnewyork.us). \n",
    "\n",
    "- Import the NYC tree census data **from the local file** and store it as a data frame called `nyc_trees`.\n",
    "- Look at the first three rows of `nyc_trees` to verify that it imported successfully and to get a sense of the data. \n",
    "- Look at the documentation of the data set on the website linked above. \n",
    "- In a markdown cell answer the following questions:\n",
    "    * How many variables and observation are `nyc_trees`?\n",
    "    * What does each observation represent?\n",
    "    * What information is recorded in the `health` variable? What is the data type of this information?\n",
    "    * What information is recorded in the `tree_dbh` variable? What are the units?"
   ]
  },
  {
   "cell_type": "code",
   "execution_count": null,
   "id": "95414dd5",
   "metadata": {},
   "outputs": [],
   "source": []
  },
  {
   "cell_type": "markdown",
   "id": "4a9b8b04",
   "metadata": {},
   "source": []
  },
  {
   "cell_type": "markdown",
   "id": "06e6f1c2",
   "metadata": {},
   "source": [
    "### Exercise 2 - Number of trees in Manhattan\n",
    "\n",
    "- Determine the number of trees in nyc_trees that are located in Manhattan.\n",
    "- Summarize your findings in a markdown cell."
   ]
  },
  {
   "cell_type": "code",
   "execution_count": null,
   "id": "ce0bb2c5",
   "metadata": {},
   "outputs": [],
   "source": []
  },
  {
   "cell_type": "markdown",
   "id": "f464b532",
   "metadata": {},
   "source": []
  },
  {
   "cell_type": "markdown",
   "id": "3560a7e1",
   "metadata": {},
   "source": [
    "### Exercise 3 - Manhattan trees\n",
    "\n",
    "The `unique()` function outputs a vector where each value in the inputed vector is listed exactly once. See the cell below for an example.\n",
    "\n",
    "```unique(VECTOR)```\n",
    "\n",
    "- Use `unique()` to view the values in the status column of nyc_trees. Notice that all observations have the same value. \n",
    "- Use `filter()` and `select()` to create a data frame called `manhattan_trees` that contains all the variables in nyc_trees except status and borough and only contains trees on Manhattan. \n",
    "- Verify that this worked using `dim()` to verify that manhattan_trees has the expected number of variables and observations.\n",
    "- Answer the following questions in a markdown cell. Don't forget units.\n",
    "    * What is the maximum diameter of a tree on Manhattan? \n",
    "    * What is the minimum diameter of a tree on Manhattan?\n",
    "\n",
    "\n"
   ]
  },
  {
   "cell_type": "code",
   "execution_count": 6,
   "id": "a0155322",
   "metadata": {},
   "outputs": [
    {
     "data": {
      "text/html": [
       "<style>\n",
       ".list-inline {list-style: none; margin:0; padding: 0}\n",
       ".list-inline>li {display: inline-block}\n",
       ".list-inline>li:not(:last-child)::after {content: \"\\00b7\"; padding: 0 .5ex}\n",
       "</style>\n",
       "<ol class=list-inline><li>1</li><li>2</li><li>3</li></ol>\n"
      ],
      "text/latex": [
       "\\begin{enumerate*}\n",
       "\\item 1\n",
       "\\item 2\n",
       "\\item 3\n",
       "\\end{enumerate*}\n"
      ],
      "text/markdown": [
       "1. 1\n",
       "2. 2\n",
       "3. 3\n",
       "\n",
       "\n"
      ],
      "text/plain": [
       "[1] 1 2 3"
      ]
     },
     "metadata": {},
     "output_type": "display_data"
    }
   ],
   "source": [
    "unique(c(1,1,1,2,2,3))"
   ]
  },
  {
   "cell_type": "code",
   "execution_count": null,
   "id": "0d365b76",
   "metadata": {},
   "outputs": [],
   "source": []
  },
  {
   "cell_type": "markdown",
   "id": "52dcb739",
   "metadata": {},
   "source": []
  },
  {
   "cell_type": "markdown",
   "id": "1e1e5ed6",
   "metadata": {},
   "source": [
    "### Exercise 4 - Tree health numbers\n",
    "\n",
    "- Use the ```group_by()``` and ```summarize()``` functions to determine how many of the trees in nyc_trees were recorded with each level of health."
   ]
  },
  {
   "cell_type": "code",
   "execution_count": null,
   "id": "04f09bce",
   "metadata": {},
   "outputs": [],
   "source": []
  },
  {
   "cell_type": "markdown",
   "id": "429cf750",
   "metadata": {},
   "source": [
    "### Exercise 5 - Custom order\n",
    "\n",
    "We can use `factor()` to tell R our preferred order for the values in a categorical variable. Consider the following example.\n",
    "\n",
    "A data set called `schools` contains a variable called `school_type` which indicates whether the given school is a 'kindergarten' (age 5), 'elementary school' (age 6 - 10), 'middle school' (age 11 - 13) or 'high school' (age 14 - 17). The following command will tell R that we prefer to sort `school_type` the the specified order rather than alphabetically.\n",
    "\n",
    "<pre>\n",
    "<code>\n",
    "schools &lt;- mutate(schools, school_type = \n",
    "                factor(school_type, levels = c('kindergarten', 'elementary school', 'middle school', 'high school' ))\n",
    "                )\n",
    "</code>\n",
    "</pre>\n",
    "\n",
    "Here is the general syntax for factor:\n",
    "\n",
    "```factor(VECTOR_OF_DATA, levels=VECTOR_OF_ORDERED_VALUES)```\n",
    "\n",
    "The output of factor is VECTOR_OF_DATA with the additional structure of a specified order to the values.\n",
    "\n",
    "- Use `factor()` to specify a more natural order for the health variable in nyc_trees\n",
    "- Recreate the the summary table from the previous exercise and verify that the rows are now in your specified order.\n",
    "- Store your summary table in a variable called `tree_health_count`.\n",
    "- Output `tree_health_count`"
   ]
  },
  {
   "cell_type": "code",
   "execution_count": null,
   "id": "341fc04d",
   "metadata": {},
   "outputs": [],
   "source": []
  },
  {
   "cell_type": "markdown",
   "id": "58ff12cd",
   "metadata": {},
   "source": [
    "### Exercise 6 - Visualize tree health\n",
    "\n",
    "- Create a bar chart that shoes the number of trees with each level of health. "
   ]
  },
  {
   "cell_type": "code",
   "execution_count": null,
   "id": "0a8971eb",
   "metadata": {},
   "outputs": [],
   "source": []
  },
  {
   "cell_type": "markdown",
   "id": "2824fe22",
   "metadata": {},
   "source": [
    "## Part 2: City payroll"
   ]
  },
  {
   "cell_type": "markdown",
   "id": "549cd6fc",
   "metadata": {},
   "source": [
    "### Exercise 7 - Load and explore payroll data\n",
    "\n",
    "There is a CSV file called `NYC_Payroll_small.csv` in the shared data folder. This file contains an excerpt from the [2021 New York City Payroll](https://data.cityofnewyork.us/City-Government/Citywide-Payroll-Data-Fiscal-Year-/k397-673e) shared by the [NYC OpenData project](https://data.cityofnewyork.us). \n",
    "\n",
    "- Import the NYC tree census data **from the local file** and store it as a data frame called `nyc_payroll`.\n",
    "- Look at the first three rows of `nyc_payroll` to verify that it imported successfully and to get a sense of the data. \n",
    "- Add a column called `Total_Wages` to nyc_payroll that contains the total amount of money that was payed to each employee. "
   ]
  },
  {
   "cell_type": "code",
   "execution_count": null,
   "id": "7b329bca",
   "metadata": {},
   "outputs": [],
   "source": []
  },
  {
   "cell_type": "markdown",
   "id": "a86e5392",
   "metadata": {},
   "source": [
    "### Exercise 8 - Large payroll agencies\n",
    "\n",
    "- Create a summary table called `large_payroll_agencies` that shows the total pay roll expenses in millions of dollars rounded to two decimal places for the ten agencies with the highest payroll expenses. \n",
    "- Output `large_payroll_agencies`."
   ]
  },
  {
   "cell_type": "code",
   "execution_count": null,
   "id": "867b3cd1",
   "metadata": {},
   "outputs": [],
   "source": []
  },
  {
   "cell_type": "markdown",
   "id": "47df4f9e",
   "metadata": {},
   "source": [
    "### Exercise 9 - Visualize large payroll agencies\n",
    "\n",
    "- Create a bar chart that shows the data in `large_payroll_agencies`. Order the agencies based on their total payroll. "
   ]
  },
  {
   "cell_type": "code",
   "execution_count": null,
   "id": "528b90cd",
   "metadata": {},
   "outputs": [],
   "source": []
  },
  {
   "cell_type": "markdown",
   "id": "fa8c9d36",
   "metadata": {},
   "source": [
    "## Part 3: A Quick Reflection\n",
    "Briefly answer the prompts below in the markdown cell provided. (1-2 sentences for each prompt\n",
    "is sufficient.)"
   ]
  },
  {
   "cell_type": "markdown",
   "id": "cfb76030",
   "metadata": {},
   "source": [
    "### Exercise 10: What was helpful?\n",
    "Indicate one question/part in this assignment that you find helpful in helping you understand\n",
    "an idea or method introduced in class. This could be a question/task that you knew right\n",
    "away how to do; one for which you kept encountering bugs/errors; or one that you needed\n",
    "to think a while or discuss with others first to figure out.\n",
    "(State which question/part and how it helps you with which idea/method.)"
   ]
  },
  {
   "cell_type": "markdown",
   "id": "1b588a5f",
   "metadata": {},
   "source": []
  },
  {
   "cell_type": "markdown",
   "id": "96ba36b2",
   "metadata": {},
   "source": [
    "### Exercise 11: What was challenging / interesting?\n",
    "Write one thing that you find challenging or interesting in this assignment. Briefly elaborate on what made it challenging or interesting. "
   ]
  },
  {
   "cell_type": "markdown",
   "id": "32e5d523",
   "metadata": {},
   "source": []
  },
  {
   "cell_type": "markdown",
   "id": "1c1d4966",
   "metadata": {},
   "source": [
    "## Part 4: Generate PDF file and submit\n",
    "\n",
    "### Print this notebook as PDF document\n",
    "Download a PDF version of this notebook using one of the following strategies.\n",
    "\n",
    "#### Strategy 1: Use print preview\n",
    "Use the menu option File > Print Preview to generate a printer friendly version of this notebook. Then use your browsers print dialogue to save as PDF.\n",
    "Use the following menu option to download a PDF version of this notebook.\n",
    "\n",
    "#### Strategy 2: Use LaTeX\n",
    "Use the menu option File > Download as > PDF via LaTeX (.pdf) generate a PDF file you can download. \n",
    "\n",
    "### Submit on Gradscope\n",
    "Submit the PDF document on Gradescope. Be sure to assign a page to each question even if your document is only one\n",
    "page, See the [Gradescope support page](https://help.gradescope.com/article/ccbpppziu9-student-submit-work#submitting_a_pdf) for detailed instructions. Assigning pages to questions greatly expedites the grading process."
   ]
  }
 ],
 "metadata": {
  "celltoolbar": "Edit Metadata",
  "kernelspec": {
   "display_name": "R",
   "language": "R",
   "name": "ir"
  },
  "language_info": {
   "codemirror_mode": "r",
   "file_extension": ".r",
   "mimetype": "text/x-r-source",
   "name": "R",
   "pygments_lexer": "r",
   "version": "4.0.5"
  }
 },
 "nbformat": 4,
 "nbformat_minor": 5
}
