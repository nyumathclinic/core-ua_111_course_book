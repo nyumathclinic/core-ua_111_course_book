{
 "cells": [
  {
   "cell_type": "markdown",
   "id": "b75ccc8b",
   "metadata": {},
   "source": [
    "(homework05)=\n",
    "# Homework 5"
   ]
  },
  {
   "cell_type": "markdown",
   "id": "8a289655",
   "metadata": {},
   "source": [
    "## Name, NetID, Collaborators\n",
    "Please edit the markdown cell below for “Names & NetIDs” and enter:\n",
    "- Your name and NetID (eg. cc5948), and\n",
    "- The names and NetIDs of everyone with whom you have collaborated with (e.g., discussed\n",
    "questions with, provided help to, received help from, etc.).\n",
    "\n",
    "Our goal is to create an honest, collaborative, and positive learning environment. Keep\n",
    "in mind that while collaboration in lab and homework is strongly encouraged, the work\n",
    "you submitted must be your own (you typed them up yourself; you can explain what you\n",
    "submitted). Your goal is to use the help and support to eventually understand the ideas\n",
    "and the methods yourself"
   ]
  },
  {
   "cell_type": "markdown",
   "id": "9d435731",
   "metadata": {},
   "source": [
    "**Name and NetID:**\n",
    "\n",
    "\n",
    "**Collaborators:**"
   ]
  },
  {
   "cell_type": "markdown",
   "id": "6bc747d2",
   "metadata": {},
   "source": [
    "## Part 1: Horse classifier function\n",
    "In this part, you will begin the process of building a classifier to determine whether or not a horse with colic requires surgery. "
   ]
  },
  {
   "cell_type": "markdown",
   "id": "58b286f4",
   "metadata": {},
   "source": [
    "### Exercise 1: Understand the data\n",
    "We will use the [Horses Colic Data](https://archive.ics.uci.edu/ml/datasets/Horse+Colic) set from the UCI Machine Learning Repository. Familiarize yourself with the data set by reading the attribute information on the website. \n",
    "\n",
    "- Based on the documentation what is the normal range for the pulse of an adult horse?\n",
    "- Using any reliably source, determine what it means for a horse to have colic. Write your answer and source in the markdown cell. "
   ]
  },
  {
   "cell_type": "markdown",
   "id": "9d23bcea",
   "metadata": {},
   "source": []
  },
  {
   "cell_type": "markdown",
   "id": "a3895a03",
   "metadata": {},
   "source": []
  },
  {
   "cell_type": "markdown",
   "id": "06e6f1c2",
   "metadata": {},
   "source": [
    "### Exercise 2: Load,  reformat and split the data\n",
    "\n",
    "- Load the `horses.csv` data set from our shared data folder. \n",
    "- View the first few rows of the data frame to verify that the reformatting was successful. \n",
    "- Split the data set into two pieces: one training and one test data sets."
   ]
  },
  {
   "cell_type": "code",
   "execution_count": null,
   "id": "ce0bb2c5",
   "metadata": {},
   "outputs": [],
   "source": []
  },
  {
   "cell_type": "markdown",
   "id": "f464b532",
   "metadata": {},
   "source": []
  },
  {
   "cell_type": "markdown",
   "id": "a86e5392",
   "metadata": {},
   "source": [
    "### Exercise 3: Explore the data\n",
    "\n",
    "- Create (at least) two data visualizations or summary tables **using the training data**. Your goal is to identify variables that will be useful for determining whether or not a given horse requires surgery. \n",
    "    \n",
    "You may find it useful to use `geom_count()` ([documentation](https://ggplot2.tidyverse.org/reference/geom_count.html)) in place of `geom_point()`. It will scale the size of the dots based on the number of observations that have those values. Alternatively, you can use `geom_jitter()` ([documentation](https://ggplot2.tidyverse.org/reference/position_jitter.html)) in place of `geom_point()` this will wiggle the coordinates of each point a little bit in a random direction. Both will prevent repetitions from being obscured by overlapping dots. \n",
    "    \n",
    "**You may NOT use the following variables:** `surgery`, `outcome`, because neither of these contain information that would be able to a vet examining the horse. \n",
    "    \n",
    "- In a markdown cell, please write a brief (2-4 sentence summary of your observations."
   ]
  },
  {
   "cell_type": "code",
   "execution_count": null,
   "id": "8010e8d4",
   "metadata": {},
   "outputs": [],
   "source": []
  },
  {
   "cell_type": "code",
   "execution_count": null,
   "id": "33e04d2e",
   "metadata": {},
   "outputs": [],
   "source": []
  },
  {
   "cell_type": "markdown",
   "id": "6c6f69e3",
   "metadata": {},
   "source": []
  },
  {
   "cell_type": "markdown",
   "id": "86419f09",
   "metadata": {},
   "source": [
    "### Exercise 4: Classifier function\n",
    "\n",
    "- Based on your exploration and visualization in the previous exercise, create a simple classifier function that uses **at least two if-statements**. Your classifier should predict the value of the `surgical.lesion` variable. \n",
    "- Test your classifier on at least three different sets of input. Are the results what you expected?\n",
    "    \n",
    "It is a good idea to sketch out your decision tree on scratch paper to help outline your classifier.  If you would like to include an image of your decision tree in a markdown cell, you can (however, you are not required to do this). Note that in order for your classifier to use a sequence of at least two if-statements, your decision  tree must have at least two \"levels\"."
   ]
  },
  {
   "cell_type": "markdown",
   "id": "fa8c9d36",
   "metadata": {},
   "source": [
    "## Part 3: A Quick Reflection\n",
    "Briefly answer the prompts below in the markdown cell provided. (1-2 sentences for each prompt\n",
    "is sufficient.)"
   ]
  },
  {
   "cell_type": "markdown",
   "id": "cfb76030",
   "metadata": {},
   "source": [
    "### Exercise 5: What was helpful?\n",
    "Indicate one question/part in this assignment that you find helpful in helping you understand\n",
    "an idea or method introduced in class. This could be a question/task that you knew right\n",
    "away how to do; one for which you kept encountering bugs/errors; or one that you needed\n",
    "to think a while or discuss with others first to figure out.\n",
    "(State which question/part and how it helps you with which idea/method.)"
   ]
  },
  {
   "cell_type": "markdown",
   "id": "1b588a5f",
   "metadata": {},
   "source": []
  },
  {
   "cell_type": "markdown",
   "id": "96ba36b2",
   "metadata": {},
   "source": [
    "### Exercise 6: What was challenging / interesting?\n",
    "Write one thing that you find challenging or interesting in this assignment. Briefly elaborate on what made it challenging or interesting. "
   ]
  },
  {
   "cell_type": "markdown",
   "id": "32e5d523",
   "metadata": {},
   "source": []
  },
  {
   "cell_type": "markdown",
   "id": "1c1d4966",
   "metadata": {},
   "source": [
    "## Part 4: Generate PDF file and submit\n",
    "\n",
    "### Print this notebook as PDF document\n",
    "Download a PDF version of this notebook using one of the following strategies.\n",
    "\n",
    "#### Strategy 1: Use print preview\n",
    "Use the menu option File > Print Preview to generate a printer friendly version of this notebook. Then use your browsers print dialogue to save as PDF.\n",
    "Use the following menu option to download a PDF version of this notebook.\n",
    "\n",
    "#### Strategy 2: Use LaTeX\n",
    "Use the menu option File > Download as > PDF via LaTeX (.pdf) generate a PDF file you can download. \n",
    "\n",
    "### Submit on Gradscope\n",
    "Submit the PDF document on Gradescope. Be sure to assign a page to each question even if your document is only one\n",
    "page, See the [Gradescope support page](https://help.gradescope.com/article/ccbpppziu9-student-submit-work#submitting_a_pdf) for detailed instructions. Assigning pages to questions greatly expedites the grading process."
   ]
  }
 ],
 "metadata": {
  "celltoolbar": "Edit Metadata",
  "kernelspec": {
   "display_name": "R",
   "language": "R",
   "name": "ir"
  },
  "language_info": {
   "codemirror_mode": "r",
   "file_extension": ".r",
   "mimetype": "text/x-r-source",
   "name": "R",
   "pygments_lexer": "r",
   "version": "4.0.5"
  }
 },
 "nbformat": 4,
 "nbformat_minor": 5
}
