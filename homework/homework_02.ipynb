{
 "cells": [
  {
   "cell_type": "markdown",
   "id": "b75ccc8b",
   "metadata": {},
   "source": [
    "(homework02)=\n",
    "# Homework 2"
   ]
  },
  {
   "cell_type": "markdown",
   "id": "c07cdc1d",
   "metadata": {},
   "source": [
    "## Part 0: Getting started"
   ]
  },
  {
   "cell_type": "markdown",
   "id": "2a5fea27",
   "metadata": {},
   "source": [
    "### Open this notebook on the Jupyter Hub\n",
    "* Click on the rocket icon in the upper right of this page of the course book. \n",
    "* Click the JupyterHub link.\n",
    "* If prompted, log in to the Jupyter Hub with your NYU account.\n",
    "* If prompted to select a kernel, choose *R [conda env:FDTD]*."
   ]
  },
  {
   "cell_type": "markdown",
   "id": "8a289655",
   "metadata": {},
   "source": [
    "### Name, NetID, Collaborators\n",
    "Please edit the markdown cell below for “Names & NetIDs” and enter:\n",
    "- Your name and NetID (eg. cc5948), and\n",
    "- The names and NetIDs of everyone with whom you have collaborated with (e.g., discussed\n",
    "questions with, provided help to, received help from, etc.).\n",
    "\n",
    "Our goal is to create an honest, collaborative, and positive learning environment. Keep\n",
    "in mind that while collaboration in lab and homework is strongly encouraged, the work\n",
    "you submitted must be your own (you typed them up yourself; you can explain what you\n",
    "submitted). Your goal is to use the help and support to eventually understand the ideas\n",
    "and the methods yourself"
   ]
  },
  {
   "cell_type": "markdown",
   "id": "9d435731",
   "metadata": {},
   "source": [
    "**Name and NetID:**\n",
    "\n",
    "\n",
    "**Collaborators:**"
   ]
  },
  {
   "cell_type": "markdown",
   "id": "42509c76",
   "metadata": {},
   "source": [
    "## Part 1: Built in data sets"
   ]
  },
  {
   "cell_type": "markdown",
   "id": "1e6c4de6",
   "metadata": {},
   "source": [
    "### Exercise 1: Cars\n",
    "One of the data sets included in R is called `cars`. \n",
    "\n",
    "- Use the code cell below to access the documentation of the cars data set.\n",
    "- Briefly describe what the cars data set is about."
   ]
  },
  {
   "cell_type": "code",
   "execution_count": null,
   "id": "5a77fd85",
   "metadata": {},
   "outputs": [],
   "source": []
  },
  {
   "cell_type": "markdown",
   "id": "786692c2",
   "metadata": {},
   "source": []
  },
  {
   "cell_type": "markdown",
   "id": "eb1247f8",
   "metadata": {},
   "source": [
    "### Exercise 2: Fastest and shortest\n",
    "- Use an R function to find the maximum speed recorded in `cars`.\n",
    "- Use an R function to find the shortest stopping distance recorded in `cars`.\n",
    "- Summarize your findings in the markdown cell below. Don't forget to include units. "
   ]
  },
  {
   "cell_type": "code",
   "execution_count": null,
   "id": "2cf32157",
   "metadata": {},
   "outputs": [],
   "source": []
  },
  {
   "cell_type": "markdown",
   "id": "f01ed35d",
   "metadata": {},
   "source": []
  },
  {
   "cell_type": "markdown",
   "id": "9a025370",
   "metadata": {},
   "source": [
    "### Exercise 3: Average\n",
    "- Use R to find the average stopping distance recorded in `cars`.\n",
    "- Summarize your findings in a sentence. Don't forget to include units."
   ]
  },
  {
   "cell_type": "code",
   "execution_count": null,
   "id": "99871ce0",
   "metadata": {},
   "outputs": [],
   "source": []
  },
  {
   "cell_type": "markdown",
   "id": "a155e64d",
   "metadata": {},
   "source": []
  },
  {
   "cell_type": "markdown",
   "id": "ecd1d5e4",
   "metadata": {},
   "source": [
    "## Part 2: Bronx Population"
   ]
  },
  {
   "cell_type": "markdown",
   "id": "b65e7975",
   "metadata": {},
   "source": [
    "### Exercise 4: Loading and storing the data\n",
    "Lehman College (part of the City University of New York system) hosts a portal for a variety\n",
    "of data sets about the Bronx: https://bronx.lehman.cuny.edu. In this part, we will explore a [population density data set](https://bronx.lehman.cuny.edu/Population/Bronx-Zip-Pop-Density/2q3n-mzjq) from this portal. \n",
    "\n",
    "- From the data set page linked above, click \"Export\", right click on \"CSV\", and choose \"Copy\n",
    "link address\".\n",
    "- Use this link to import this data as an R data frame:\n",
    "```read.csv( 'LINK')```\n",
    "- Store the data set in a variable called `bronx_pop_density`.\n",
    "- Use the head() function to preview the first 4 rows of this data frame. Notice that R truncates the data; it doesn't show some of the middle variables. "
   ]
  },
  {
   "cell_type": "code",
   "execution_count": 3,
   "id": "b728fb60",
   "metadata": {},
   "outputs": [],
   "source": []
  },
  {
   "cell_type": "markdown",
   "id": "4ffaba42",
   "metadata": {},
   "source": [
    "### Exercise 5: Variables and observations\n",
    "- Use R to determine the number of variables and observations in `bronx_pop_density`. \n",
    "- Summarize your findings. "
   ]
  },
  {
   "cell_type": "code",
   "execution_count": null,
   "id": "847be4ff",
   "metadata": {},
   "outputs": [],
   "source": []
  },
  {
   "cell_type": "markdown",
   "id": "b858b05a",
   "metadata": {},
   "source": []
  },
  {
   "cell_type": "markdown",
   "id": "ce62dc3b",
   "metadata": {},
   "source": [
    "### Exercise 6: Variable data types\n",
    "`bronx_pop_density` has many variables (columns). \n",
    "\n",
    "- Use the `names()` function to list the names of all of the variables.\n",
    "- Use `typeof()` to determine the data type of three of the variables.\n",
    "\n",
    "The same information can be gathered from `str()` it just requires more scrolling. "
   ]
  },
  {
   "cell_type": "code",
   "execution_count": null,
   "id": "cbe00236",
   "metadata": {},
   "outputs": [],
   "source": []
  },
  {
   "cell_type": "code",
   "execution_count": null,
   "id": "58e4e2fc",
   "metadata": {},
   "outputs": [],
   "source": []
  },
  {
   "cell_type": "markdown",
   "id": "9bbbc748",
   "metadata": {},
   "source": [
    "### Exercise 7: Percentage under 18\n",
    "`bronx_pop_density` contains population data in the various ZIP codes in the Bronx in 2010.\n",
    "One column of this data set tells us the total population in each ZIP code; another column\n",
    "tells us the population under 18 in each ZIP code.\n",
    "\n",
    "Suppose that we are interested in measuring how young each ZIP code is by determining\n",
    "percentage of residents under 18.\n",
    "\n",
    "- Load the `dplyr` package.\n",
    "- Create a new column called `percentage_under18`, which contains the percentage of each ZIP code's population who are under 18.\n",
    "- Verify that the percentages are between 0 and 100."
   ]
  },
  {
   "cell_type": "code",
   "execution_count": null,
   "id": "ea341b25",
   "metadata": {},
   "outputs": [],
   "source": []
  },
  {
   "cell_type": "markdown",
   "id": "feac3050",
   "metadata": {},
   "source": [
    "### Exercise 8: Sort\n",
    "- Sort the rows of `bronx_pop_density` by the percentage of the population under 18, in descending order.\n",
    "- Which zip code has the highest percentage of the population under 18? Which one has the least?\n",
    "- Summarize your findings."
   ]
  },
  {
   "cell_type": "code",
   "execution_count": null,
   "id": "d6ff6c39",
   "metadata": {},
   "outputs": [],
   "source": []
  },
  {
   "cell_type": "markdown",
   "id": "ca51ce5d",
   "metadata": {},
   "source": []
  },
  {
   "cell_type": "markdown",
   "id": "fa8c9d36",
   "metadata": {},
   "source": [
    "## Part 3: A Quick Reflection\n",
    "Briefly answer the prompts below in the markdown cell provided. (1-2 sentences for each prompt\n",
    "is sufficient.)"
   ]
  },
  {
   "cell_type": "markdown",
   "id": "cfb76030",
   "metadata": {},
   "source": [
    "### Exercise 9: What was helpful?\n",
    "Indicate one question/part in this assignment that you find helpful in helping you understand\n",
    "an idea or method introduced in class. This could be a question/task that you knew right\n",
    "away how to do; one for which you kept encountering bugs/errors; or one that you needed\n",
    "to think a while or discuss with others first to figure out.\n",
    "(State which question/part and how it helps you with which idea/method.)"
   ]
  },
  {
   "cell_type": "markdown",
   "id": "1b588a5f",
   "metadata": {},
   "source": []
  },
  {
   "cell_type": "markdown",
   "id": "96ba36b2",
   "metadata": {},
   "source": [
    "### Exercise 10: What was challenging / interesting?\n",
    "Write one thing that you find challenging or interesting in this assignment. Briefly elaborate on what made it challenging or interesting. "
   ]
  },
  {
   "cell_type": "markdown",
   "id": "32e5d523",
   "metadata": {},
   "source": []
  },
  {
   "cell_type": "markdown",
   "id": "1c1d4966",
   "metadata": {},
   "source": [
    "## Part 4: Generate PDF file and submit\n",
    "\n",
    "### Print this notebook as PDF document\n",
    "Download a PDF version of this notebook using one of the following strategies.\n",
    "\n",
    "#### Strategy 1: Use print preview\n",
    "Use the menu option File > Print Preview to generate a printer friendly version of this notebook. Then use your browsers print dialogue to save as PDF.\n",
    "Use the following menu option to download a PDF version of this notebook.\n",
    "\n",
    "#### Strategy 2: Use LaTeX\n",
    "Use the menu option File > Download as > PDF via LaTeX (.pdf) generate a PDF file you can download. \n",
    "\n",
    "### Submit on Gradscope\n",
    "Submit the PDF document on Gradescope. Be sure to assign a page to each question even if your document is only one\n",
    "page, See the [Gradescope support page](https://help.gradescope.com/article/ccbpppziu9-student-submit-work#submitting_a_pdf) for detailed instructions. Assigning pages to questions greatly expedites the grading process."
   ]
  }
 ],
 "metadata": {
  "celltoolbar": "Edit Metadata",
  "kernelspec": {
   "display_name": "R",
   "language": "R",
   "name": "ir"
  },
  "language_info": {
   "codemirror_mode": "r",
   "file_extension": ".r",
   "mimetype": "text/x-r-source",
   "name": "R",
   "pygments_lexer": "r",
   "version": "4.0.5"
  }
 },
 "nbformat": 4,
 "nbformat_minor": 5
}
