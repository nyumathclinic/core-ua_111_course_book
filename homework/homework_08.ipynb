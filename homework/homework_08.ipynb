{
 "cells": [
  {
   "cell_type": "markdown",
   "id": "5a20ca24",
   "metadata": {
    "deletable": false
   },
   "source": [
    "(homework08)= \n",
    "# Homework 8"
   ]
  },
  {
   "cell_type": "markdown",
   "id": "dd3d7c5c",
   "metadata": {},
   "source": [
    "## Name, NetID, Collaborators\n",
    "Please edit the markdown cell below for “Names & NetIDs” and enter:\n",
    "- Your name and NetID (eg. cc5948), and\n",
    "- The names and NetIDs of everyone with whom you have collaborated with (e.g., discussed\n",
    "questions with, provided help to, received help from, etc.).\n",
    "\n",
    "Our goal is to create an honest, collaborative, and positive learning environment. Keep\n",
    "in mind that while collaboration in lab and homework is strongly encouraged, the work\n",
    "you submitted must be your own (you typed them up yourself; you can explain what you\n",
    "submitted). Your goal is to use the help and support to eventually understand the ideas\n",
    "and the methods yourself"
   ]
  },
  {
   "cell_type": "markdown",
   "id": "93e21b9b",
   "metadata": {},
   "source": [
    "**Name and NetID:**\n",
    "\n",
    "\n",
    "**Collaborators:**"
   ]
  },
  {
   "cell_type": "markdown",
   "id": "642ade6b",
   "metadata": {},
   "source": [
    "For each of the questions below, please enter the R commands you use in the code cell.  Then, edit the markdown cell below it to write a text response to the given prompts. Feel free to insert additional code and markdown cells."
   ]
  },
  {
   "cell_type": "markdown",
   "id": "a8b8b10c",
   "metadata": {
    "deletable": false
   },
   "source": [
    "## Part 1: Penguins!\n",
    "In this section, we will test the (arbitrary) hypothesis that Chinstrap penguins have an average bill length of 50 mm. We will do this by using bootstrapping to compute the confidence interval for the average bill length"
   ]
  },
  {
   "cell_type": "markdown",
   "id": "d4cf9937",
   "metadata": {},
   "source": [
    "### Question 1: Initial exploration\n",
    "Load the `palmerpenguins`library and filter the `penguins` data frame to create a data frame called `Chinstrap` that only contains the data on Chinstrap penguins. \n",
    "\n",
    "- How many observations are in the Chinstrap data frame?\n",
    "- What is the average bill length of the penguins in the study?"
   ]
  },
  {
   "cell_type": "code",
   "execution_count": null,
   "id": "ed2d0106",
   "metadata": {},
   "outputs": [],
   "source": []
  },
  {
   "cell_type": "markdown",
   "id": "c85f40ae",
   "metadata": {},
   "source": []
  },
  {
   "cell_type": "markdown",
   "id": "382f436c",
   "metadata": {},
   "source": [
    "### Question 2: Total number of samples\n",
    "Prepare for bootstrapping by computing both the recommended and minimal number of bootstrap trials. Then, choose the number of trials that you will perform and store it in a variable called `ntrials`. Next, compute the total number of samples that you will need for all the trials combined. Store this number in a variable called `total`."
   ]
  },
  {
   "cell_type": "code",
   "execution_count": null,
   "id": "ac86aece",
   "metadata": {},
   "outputs": [],
   "source": []
  },
  {
   "cell_type": "markdown",
   "id": "265e541a",
   "metadata": {},
   "source": []
  },
  {
   "cell_type": "markdown",
   "id": "9975ad6e",
   "metadata": {},
   "source": [
    "### Question 3: Run Trials\n",
    "Create a data frame called `all_samples` by randomly sampling `total` observations from the `Chinstrap` data frame. Then, create a column called `trial` and assign a trial number to each of the observations. \n",
    "\n",
    "Verify that the number of observations in `all_samples` is actually `total`, that the maximum value in the trial column is `ntrials` and the the minimum value in the trial column is 1. \n"
   ]
  },
  {
   "cell_type": "code",
   "execution_count": null,
   "id": "ff2ce5b6",
   "metadata": {},
   "outputs": [],
   "source": []
  },
  {
   "cell_type": "markdown",
   "id": "7c07bf1b",
   "metadata": {},
   "source": [
    "### Question 4: Bootstrap\n",
    "Create a data frame called `bootstrap` that shows the number of observations and the average bill length for each trial. View the first few rows of `bootstrap` and verify that all the trials have the same number of observations."
   ]
  },
  {
   "cell_type": "code",
   "execution_count": null,
   "id": "491f12b5",
   "metadata": {},
   "outputs": [],
   "source": []
  },
  {
   "cell_type": "markdown",
   "id": "e4a39708",
   "metadata": {},
   "source": [
    "### Question 5: Histogram\n",
    "Create a histogram showing the distribution of the average bill lengths in `bootstrap`. You should see a normal distribution bell curve.\n"
   ]
  },
  {
   "cell_type": "code",
   "execution_count": null,
   "id": "cd3a8cee",
   "metadata": {},
   "outputs": [],
   "source": []
  },
  {
   "cell_type": "markdown",
   "id": "46ef1613",
   "metadata": {},
   "source": [
    "### Question 6: Confidence interval\n",
    "Use `quantile()` to find the 95% confidence interval for the average bill length. Do you accept or reject the hypothesis that the average bill length of Chinstrap penguins is 50 mm? Explain your reasoning. "
   ]
  },
  {
   "cell_type": "code",
   "execution_count": null,
   "id": "0c4f4aa8",
   "metadata": {},
   "outputs": [],
   "source": []
  },
  {
   "cell_type": "markdown",
   "id": "42332ffd",
   "metadata": {},
   "source": [
    "## Part 2: A Quick Reflection\n",
    "Briefly answer the prompts below in the markdown cell provided. (1-2 sentences for each prompt\n",
    "is sufficient.)"
   ]
  },
  {
   "cell_type": "markdown",
   "id": "f524c5fc",
   "metadata": {},
   "source": [
    "### Exercise 7: What was helpful?\n",
    "Indicate one question/part in this assignment that you find helpful in helping you understand\n",
    "an idea or method introduced in class. This could be a question/task that you knew right\n",
    "away how to do; one for which you kept encountering bugs/errors; or one that you needed\n",
    "to think a while or discuss with others first to figure out.\n",
    "(State which question/part and how it helps you with which idea/method.)"
   ]
  },
  {
   "cell_type": "markdown",
   "id": "bae2b8a8",
   "metadata": {},
   "source": []
  },
  {
   "cell_type": "markdown",
   "id": "1033b86d",
   "metadata": {},
   "source": [
    "### Exercise 8: What was challenging / interesting?\n",
    "Write one thing that you find challenging or interesting in this assignment. Briefly elaborate on what made it challenging or interesting. "
   ]
  },
  {
   "cell_type": "markdown",
   "id": "d9803bc6",
   "metadata": {},
   "source": []
  },
  {
   "cell_type": "markdown",
   "id": "b6b57d90",
   "metadata": {},
   "source": [
    "## Generate PDF file and submit\n",
    "\n",
    "### Print this notebook as PDF document\n",
    "Download a PDF version of this notebook using one of the following strategies.\n",
    "\n",
    "#### Strategy 1: Use print preview\n",
    "Use the menu option File > Print Preview to generate a printer friendly version of this notebook. Then use your browsers print dialogue to save as PDF.\n",
    "Use the following menu option to download a PDF version of this notebook.\n",
    "\n",
    "#### Strategy 2: Use LaTeX\n",
    "Use the menu option File > Download as > PDF via LaTeX (.pdf) generate a PDF file you can download. \n",
    "\n",
    "### Submit on Gradscope\n",
    "Submit the PDF document on Gradescope. Be sure to assign a page to each question even if your document is only one\n",
    "page, See the [Gradescope support page](https://help.gradescope.com/article/ccbpppziu9-student-submit-work#submitting_a_pdf) for detailed instructions. Assigning pages to questions greatly expedites the grading process."
   ]
  }
 ],
 "metadata": {
  "celltoolbar": "Edit Metadata",
  "kernelspec": {
   "display_name": "R",
   "language": "R",
   "name": "ir"
  },
  "language_info": {
   "codemirror_mode": "r",
   "file_extension": ".r",
   "mimetype": "text/x-r-source",
   "name": "R",
   "pygments_lexer": "r",
   "version": "4.0.5"
  }
 },
 "nbformat": 4,
 "nbformat_minor": 5
}
