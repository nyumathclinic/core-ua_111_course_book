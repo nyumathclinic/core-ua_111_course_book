{
 "cells": [
  {
   "cell_type": "markdown",
   "id": "5a20ca24",
   "metadata": {
    "deletable": false
   },
   "source": [
    "(homework09)= \n",
    "# Homework 9"
   ]
  },
  {
   "cell_type": "markdown",
   "id": "dd3d7c5c",
   "metadata": {},
   "source": [
    "## Name, NetID, Collaborators\n",
    "Please edit the markdown cell below for “Names & NetIDs” and enter:\n",
    "- Your name and NetID (eg. cc5948), and\n",
    "- The names and NetIDs of everyone with whom you have collaborated with (e.g., discussed\n",
    "questions with, provided help to, received help from, etc.).\n",
    "\n",
    "Our goal is to create an honest, collaborative, and positive learning environment. Keep\n",
    "in mind that while collaboration in lab and homework is strongly encouraged, the work\n",
    "you submitted must be your own (you typed them up yourself; you can explain what you\n",
    "submitted). Your goal is to use the help and support to eventually understand the ideas\n",
    "and the methods yourself"
   ]
  },
  {
   "cell_type": "markdown",
   "id": "93e21b9b",
   "metadata": {},
   "source": [
    "**Name and NetID:**\n",
    "\n",
    "\n",
    "**Collaborators:**"
   ]
  },
  {
   "cell_type": "markdown",
   "id": "642ade6b",
   "metadata": {},
   "source": [
    "For each of the questions below, please enter the R commands you use in the code cell.  Then, edit the markdown cell below it to write a text response to the given prompts. Feel free to insert additional code and markdown cells."
   ]
  },
  {
   "cell_type": "markdown",
   "id": "a8b8b10c",
   "metadata": {
    "deletable": false
   },
   "source": [
    "## Part 1: Trick Coin?\n",
    "My brother claims to have a trick coin that comes up heads 60% of the time and comes up tails 40% of the time. I flipped the coin 100 times and got heads 50 times and tails 50 times. Do the results of my coin flips disprove my brother's claim about the odds or is the difference between my results and his claim simply due to randomness? In this section, we will use p-values to answer this question. "
   ]
  },
  {
   "cell_type": "markdown",
   "id": "d4cf9937",
   "metadata": {},
   "source": [
    "### Question 1: Measured distance\n",
    "Compute the distance between the odds that my brother claims and the odds that I observed when flipping the coin. Store this number in the variable `measured_distance`."
   ]
  },
  {
   "cell_type": "code",
   "execution_count": null,
   "id": "ed2d0106",
   "metadata": {},
   "outputs": [],
   "source": []
  },
  {
   "cell_type": "markdown",
   "id": "c85f40ae",
   "metadata": {},
   "source": []
  },
  {
   "cell_type": "markdown",
   "id": "382f436c",
   "metadata": {},
   "source": [
    "### Question 2: Simulate coin flips\n",
    "Simulate running 5000 trials of flipping the a trick coin like my brother described 100 times. For each trial, compute the proportion of the flips that came up heads, the proportion that came up tails and the distance between the odds observed in the trial and the odds described by my brother. Be careful to use the same method for measuring distance that you used in exercise 1."
   ]
  },
  {
   "cell_type": "code",
   "execution_count": null,
   "id": "ac86aece",
   "metadata": {},
   "outputs": [],
   "source": []
  },
  {
   "cell_type": "markdown",
   "id": "265e541a",
   "metadata": {},
   "source": []
  },
  {
   "cell_type": "markdown",
   "id": "9975ad6e",
   "metadata": {},
   "source": [
    "### Question 3: Find the p-value\n",
    "Use the summarized data from the previous exercise to compute the p-value for the distance measured in exercise \\ref{dist}. What do you concluded based on the p-value? Is the difference between my coin flips and my brothers description due to randomness or something else?"
   ]
  },
  {
   "cell_type": "code",
   "execution_count": null,
   "id": "ff2ce5b6",
   "metadata": {},
   "outputs": [],
   "source": []
  },
  {
   "cell_type": "markdown",
   "id": "7c07bf1b",
   "metadata": {},
   "source": [
    "### Question 4: Visualization\n",
    "Create a histogram showing the distribution of the distances in the summarized data from exercise 2. Use `geom_vline(xintercept = NUMBER)` to include a line showing the distance you computed in exercise 1. Notice whether most of the simulated data is to the left or right of the vertical line. Does this observation agree with the p-value that you computed?"
   ]
  },
  {
   "cell_type": "code",
   "execution_count": null,
   "id": "491f12b5",
   "metadata": {},
   "outputs": [],
   "source": []
  },
  {
   "cell_type": "markdown",
   "id": "42332ffd",
   "metadata": {},
   "source": [
    "## Part 2: A Quick Reflection\n",
    "Briefly answer the prompts below in the markdown cell provided. (1-2 sentences for each prompt\n",
    "is sufficient.)"
   ]
  },
  {
   "cell_type": "markdown",
   "id": "20556cb0",
   "metadata": {},
   "source": []
  },
  {
   "cell_type": "markdown",
   "id": "f524c5fc",
   "metadata": {},
   "source": [
    "### Exercise 5: What was helpful?\n",
    "Indicate one question/part in this assignment that you find helpful in helping you understand\n",
    "an idea or method introduced in class. This could be a question/task that you knew right\n",
    "away how to do; one for which you kept encountering bugs/errors; or one that you needed\n",
    "to think a while or discuss with others first to figure out.\n",
    "(State which question/part and how it helps you with which idea/method.)"
   ]
  },
  {
   "cell_type": "markdown",
   "id": "bae2b8a8",
   "metadata": {},
   "source": []
  },
  {
   "cell_type": "markdown",
   "id": "1033b86d",
   "metadata": {},
   "source": [
    "### Exercise 6: What was challenging / interesting?\n",
    "Write one thing that you find challenging or interesting in this assignment. Briefly elaborate on what made it challenging or interesting. "
   ]
  },
  {
   "cell_type": "markdown",
   "id": "d9803bc6",
   "metadata": {},
   "source": []
  },
  {
   "cell_type": "markdown",
   "id": "b6b57d90",
   "metadata": {},
   "source": [
    "## Generate PDF file and submit\n",
    "\n",
    "### Print this notebook as PDF document\n",
    "Download a PDF version of this notebook using one of the following strategies.\n",
    "\n",
    "#### Strategy 1: Use print preview\n",
    "Use the menu option File > Print Preview to generate a printer friendly version of this notebook. Then use your browsers print dialogue to save as PDF.\n",
    "Use the following menu option to download a PDF version of this notebook.\n",
    "\n",
    "#### Strategy 2: Use LaTeX\n",
    "Use the menu option File > Download as > PDF via LaTeX (.pdf) generate a PDF file you can download. \n",
    "\n",
    "### Submit on Gradscope\n",
    "Submit the PDF document on Gradescope. Be sure to assign a page to each question even if your document is only one\n",
    "page, See the [Gradescope support page](https://help.gradescope.com/article/ccbpppziu9-student-submit-work#submitting_a_pdf) for detailed instructions. Assigning pages to questions greatly expedites the grading process."
   ]
  }
 ],
 "metadata": {
  "celltoolbar": "Edit Metadata",
  "kernelspec": {
   "display_name": "R",
   "language": "R",
   "name": "conda-env-fdtd-r"
  },
  "language_info": {
   "codemirror_mode": "r",
   "file_extension": ".r",
   "mimetype": "text/x-r-source",
   "name": "R",
   "pygments_lexer": "r",
   "version": "4.0.3"
  }
 },
 "nbformat": 4,
 "nbformat_minor": 5
}
