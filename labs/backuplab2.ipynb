{
 "cells": [
  {
   "cell_type": "markdown",
   "id": "3c7f42ee",
   "metadata": {},
   "source": [
    "(lab02)=\n",
    "# Lab 2 Worksheet"
   ]
  },
  {
   "cell_type": "markdown",
   "id": "ce4e5fff",
   "metadata": {},
   "source": [
    "## Name, NetID, Collaborators\n",
    "Please edit the markdown cell below for “Names & NetIDs” and enter:\n",
    "- Your name and NetID (eg. cc5948), and\n",
    "- The names and NetIDs of everyone with whom you have collaborated with (e.g., discussed\n",
    "questions with, provided help to, received help from, etc.).\n",
    "\n",
    "Our goal is to create an honest, collaborative, and positive learning environment. Keep\n",
    "in mind that while collaboration in lab and homework is strongly encouraged, the work\n",
    "you submitted must be your own (you typed them up yourself; you can explain what you\n",
    "submitted). Your goal is to use the help and support to eventually understand the ideas\n",
    "and the methods yourself"
   ]
  },
  {
   "cell_type": "markdown",
   "id": "b866713d",
   "metadata": {},
   "source": [
    "**Name and NetID:**\n",
    "\n",
    "\n",
    "**Collaborators:**"
   ]
  },
  {
   "cell_type": "markdown",
   "id": "cb11a5ba",
   "metadata": {},
   "source": [
    "## Part 1 Sale!\n",
    "The questions in this section all refer to the `sale` data set described in the table below. The Discount column gives the percentage by which the price is reduced. Thus, the carrots marked down by 50%.\n",
    "\n",
    "The exercise should be completed **without using data frames or dplyr**. You may using R to do arithmetic, but everything else should be done by hand. You can also use this [Markdown Table Generator](https://www.tablesgenerator.com/markdown_tables) to create tables more easily. \n",
    "\n",
    "\n",
    "<table class=\"tg\">\n",
    "<thead>\n",
    "  <tr>\n",
    "    <th class=\"tg-0pky\">Type</th>\n",
    "    <th class=\"tg-0pky\">Description</th>\n",
    "    <th class=\"tg-0pky\">Discount</th>\n",
    "  </tr>\n",
    "</thead>\n",
    "<tbody>\n",
    "  <tr>\n",
    "    <td class=\"tg-0pky\">fruit</td>\n",
    "    <td class=\"tg-0pky\">apple</td>\n",
    "    <td class=\"tg-0pky\">0</td>\n",
    "  </tr>\n",
    "  <tr>\n",
    "    <td class=\"tg-0pky\">vegetable</td>\n",
    "    <td class=\"tg-0pky\">spinach</td>\n",
    "    <td class=\"tg-0pky\">25</td>\n",
    "  </tr>\n",
    "  <tr>\n",
    "    <td class=\"tg-0pky\">vegetable</td>\n",
    "    <td class=\"tg-0pky\">carrot</td>\n",
    "    <td class=\"tg-0pky\">50</td>\n",
    "  </tr>\n",
    "  <tr>\n",
    "    <td class=\"tg-0pky\">fruit</td>\n",
    "    <td class=\"tg-0pky\">pear</td>\n",
    "    <td class=\"tg-0pky\">25</td>\n",
    "  </tr>\n",
    "  <tr>\n",
    "    <td class=\"tg-0pky\">grain</td>\n",
    "    <td class=\"tg-0pky\">rice</td>\n",
    "    <td class=\"tg-0pky\">50</td>\n",
    "  </tr>\n",
    "  <tr>\n",
    "    <td class=\"tg-0pky\">grain</td>\n",
    "    <td class=\"tg-0pky\">quinoa</td>\n",
    "    <td class=\"tg-0pky\">0</td>\n",
    "  </tr>\n",
    "  <tr>\n",
    "    <td class=\"tg-0pky\">fruit</td>\n",
    "    <td class=\"tg-0pky\">banana</td>\n",
    "    <td class=\"tg-0pky\">50</td>\n",
    "  </tr>\n",
    "  <tr>\n",
    "    <td class=\"tg-0pky\">vegetable</td>\n",
    "    <td class=\"tg-0pky\">celery</td>\n",
    "    <td class=\"tg-0pky\">75</td>\n",
    "  </tr>\n",
    "  <tr>\n",
    "    <td class=\"tg-0pky\">vegetable</td>\n",
    "    <td class=\"tg-0pky\">onion</td>\n",
    "    <td class=\"tg-0pky\">50</td>\n",
    "  </tr>\n",
    "</tbody>\n",
    "</table>\n"
   ]
  },
  {
   "cell_type": "markdown",
   "id": "bafcaffe",
   "metadata": {},
   "source": []
  },
  {
   "cell_type": "markdown",
   "id": "ed55dc8f",
   "metadata": {},
   "source": []
  },
  {
   "cell_type": "markdown",
   "id": "c345705b",
   "metadata": {},
   "source": []
  },
  {
   "cell_type": "markdown",
   "id": "86a413bb",
   "metadata": {},
   "source": [
    "## Part 2: NYC Trees"
   ]
  },
  {
   "cell_type": "markdown",
   "id": "68440c1d",
   "metadata": {},
   "source": [
    "### Exercise 4: Custom order\n",
    "There is a CSV file called `NYC_Tree_Census_small.csv` in the `~/shared/data` folder. This file contains information an excerpt from the [2015 New York City Tree Census](https://data.cityofnewyork.us/Environment/2015-Street-Tree-Census-Tree-Data/uvpi-gqnh) shared by the [NYC OpenData project](https://data.cityofnewyork.us). \n",
    "\n",
    "- Import the NYC tree census data **from the local file** and store it as a data frame called `nyc_trees`.\n",
    "- Load the dplyr and gglot2 libraries. \n",
    "- Create a summary table that shows the number of trees in each borough and store it in `borough_count`.\n",
    "- Output `borough_count`.\n",
    "- Create a bar chart that visualizes the data in your summary table.\n"
   ]
  },
  {
   "cell_type": "code",
   "execution_count": null,
   "id": "a3c0fc76",
   "metadata": {},
   "outputs": [],
   "source": []
  },
  {
   "cell_type": "code",
   "execution_count": null,
   "id": "ca3baf23",
   "metadata": {},
   "outputs": [],
   "source": []
  }
 ],
 "metadata": {
  "kernelspec": {
   "display_name": "R",
   "language": "R",
   "name": "ir"
  },
  "language_info": {
   "codemirror_mode": "r",
   "file_extension": ".r",
   "mimetype": "text/x-r-source",
   "name": "R",
   "pygments_lexer": "r",
   "version": "4.0.5"
  }
 },
 "nbformat": 4,
 "nbformat_minor": 5
}
