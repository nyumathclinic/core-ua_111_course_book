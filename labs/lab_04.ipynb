{
 "cells": [
  {
   "cell_type": "markdown",
   "id": "3c7f42ee",
   "metadata": {},
   "source": [
    "(lab04)=\n",
    "# Lab 4 Worksheet"
   ]
  },
  {
   "cell_type": "markdown",
   "id": "ce4e5fff",
   "metadata": {},
   "source": [
    "## Name, NetID, Collaborators\n",
    "Please edit the markdown cell below for “Names & NetIDs” and enter:\n",
    "- Your name and NetID (eg. cc5948), and\n",
    "- The names and NetIDs of everyone with whom you have collaborated with (e.g., discussed\n",
    "questions with, provided help to, received help from, etc.).\n",
    "\n",
    "Our goal is to create an honest, collaborative, and positive learning environment. Keep\n",
    "in mind that while collaboration in lab and homework is strongly encouraged, the work\n",
    "you submitted must be your own (you typed them up yourself; you can explain what you\n",
    "submitted). Your goal is to use the help and support to eventually understand the ideas\n",
    "and the methods yourself"
   ]
  },
  {
   "cell_type": "markdown",
   "id": "b866713d",
   "metadata": {},
   "source": [
    "**Name and NetID:**\n",
    "\n",
    "\n",
    "**Collaborators:**"
   ]
  },
  {
   "cell_type": "markdown",
   "id": "af9749a5",
   "metadata": {},
   "source": [
    "## Part 1: Boolean expressions"
   ]
  },
  {
   "cell_type": "markdown",
   "id": "4002dc5b",
   "metadata": {},
   "source": [
    "### Exercise 1: Not a or Not b\n",
    "Suppose that a  and b are Boolean variables.  We would like to know whether there is any relationship between the expressions\n",
    "!(a & b) and (!a) | (!b).\n",
    "\n",
    "Please complete the following truth table by hand (**no R**). Then, briefly write down your conclusion about the Boolean expressions !(a & b) and (!a) | (!b)."
   ]
  },
  {
   "cell_type": "markdown",
   "id": "9a087f7e",
   "metadata": {},
   "source": [
    "|   a   |   b   | a & b | !(a & b) | !a | !b | (!a) \\| (!b) |\n",
    "|:-----:|:-----:|:-----:|:--------:|:--:|:--:|:------------:|\n",
    "|  TRUE |  TRUE |       |          |    |    |              |\n",
    "|  TRUE | FALSE |       |          |    |    |              |\n",
    "| FALSE |  TRUE |       |          |    |    |              |\n",
    "| FALSE | FALSE |       |          |    |    |              |"
   ]
  },
  {
   "cell_type": "markdown",
   "id": "1190964b",
   "metadata": {},
   "source": [
    "### Exercise 2: Rent a car\n",
    "Let `age` be a numerical variable encoding a person’s age in years and `has_drivers_license` be a boolean variable encoding whether or not that person has a drivers license. We will define two new boolean variables as follows:\n",
    "\n",
    "`is_above_25` is `TRUE` if the person is 25 years old or older and `FALSE` if they are younger than 25. \n",
    "\n",
    "`can_rent _a_car` is `TRUE` only when `is_above_25` and `has_drivers_license` are both `TRUE` otherwise it is `FALSE`.\n",
    "\n",
    "Please complete the following “truth table” by hand (**no R**). For the age column you may choose any values that are plausible and are consistent with the rest of the table. "
   ]
  },
  {
   "cell_type": "markdown",
   "id": "a29b3426",
   "metadata": {},
   "source": [
    "| age | has_drivers_license | is_above_25 | can_rent_a_car |\n",
    "|-----|---------------------|-------------|----------------|\n",
    "|     | TRUE                | TRUE        |                |\n",
    "|     | TRUE                | FALSE       |                |\n",
    "|     | FALSE               | TRUE        |                |\n",
    "|     | FALSE               | FALSE       |                |"
   ]
  },
  {
   "cell_type": "markdown",
   "id": "399102bf",
   "metadata": {},
   "source": [
    "### Exercise 3: Check eligibility\n",
    "- Write a Boolean expression using the variable `age` that outputs the value of `is_above_25`\n",
    "- Write a Boolean expression using the variables `is_above_25` and `has_drivers_license` that outputs the value of `can_rent_a_car`."
   ]
  },
  {
   "cell_type": "code",
   "execution_count": null,
   "id": "0f8e8614",
   "metadata": {},
   "outputs": [],
   "source": []
  },
  {
   "cell_type": "markdown",
   "id": "60f98070",
   "metadata": {},
   "source": [
    "### Exercise 4: Flag ineligible people\n",
    "- Write a Boolean expression using the variables `is_above_25` and `has_drivers_license` that will evaluate to `TRUE` exactly when a person is ineligible to rent a car.\n",
    "- Write a different Boolean expression using the variables `is_above_25` and `has_drivers_license` that will evaluate to `TRUE` exactly when a person is ineligible to rent a car."
   ]
  },
  {
   "cell_type": "code",
   "execution_count": null,
   "id": "cac46218",
   "metadata": {},
   "outputs": [],
   "source": []
  },
  {
   "cell_type": "markdown",
   "id": "86a413bb",
   "metadata": {},
   "source": [
    "## Part 2: Look how far you've come"
   ]
  },
  {
   "cell_type": "markdown",
   "id": "df54f6c3",
   "metadata": {},
   "source": [
    "### Exercise 5: Black Lives Matter, Racism, and Data\n",
    "- Read the quoted text below to learn about Jiejie Wang’s project. \n",
    "- Open the workbook that is linked from the text and look at the code. **You are not expected to understand all of the code.**\n",
    "- Find three things in the code that are familiar to you. Copy the segments of code and briefly explain what you understand that piece of the code to be doing. \n",
    "\n",
    "<quote>\n",
    "Jiejie Wang, a Data Services student employee studying Applied Statistics for Social Science Research at Steinhardt, was interested in using natural language processing to analyze over 60,000 Twitter posts under the hashtag #BLM from June 2020 to August 2020. These tweets covered a lot of discussion about George Floyd, Black Lives Matter, protests, 2020 political candidates, and other related issues. This process of “sentiment analysis” enabled Wang to quantitatively analyze the reaction to George Floyd’s death, visualize the progression of how positive/negative language and vocal support for political candidates changed. The data and the analysis has been <a href=\"https://rpubs.com/jiejie/674009\">made available</a> as an R Markdown workbook.</quote>\n",
    "\n",
    "[Allison, Keith “Black Lives Matter, Racism, and Data” NYU IT Download Nov 16, 2020](https://wp.nyu.edu/connect/2020/11/16/black-lives-matter-racism-and-data/?utm_source=newsletter&utm_medium=email&utm_content=thedownload&utm_campaign=thedownload)\n"
   ]
  },
  {
   "cell_type": "markdown",
   "id": "36f98681",
   "metadata": {},
   "source": []
  },
  {
   "cell_type": "markdown",
   "id": "236b5239",
   "metadata": {},
   "source": []
  },
  {
   "cell_type": "markdown",
   "id": "d576bc36",
   "metadata": {},
   "source": []
  }
 ],
 "metadata": {
  "kernelspec": {
   "display_name": "R",
   "language": "R",
   "name": "ir"
  },
  "language_info": {
   "codemirror_mode": "r",
   "file_extension": ".r",
   "mimetype": "text/x-r-source",
   "name": "R",
   "pygments_lexer": "r",
   "version": "4.0.5"
  }
 },
 "nbformat": 4,
 "nbformat_minor": 5
}
