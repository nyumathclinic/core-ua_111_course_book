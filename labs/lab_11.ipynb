{
 "cells": [
  {
   "cell_type": "markdown",
   "id": "3c7f42ee",
   "metadata": {},
   "source": [
    "(lab11)=\n",
    "# Lab 11 Worksheet"
   ]
  },
  {
   "cell_type": "markdown",
   "id": "ce4e5fff",
   "metadata": {},
   "source": [
    "## Name, NetID, Collaborators\n",
    "Please edit the markdown cell below for “Names & NetIDs” and enter:\n",
    "- Your name and NetID (eg. cc5948), and\n",
    "- The names and NetIDs of everyone with whom you have collaborated with (e.g., discussed\n",
    "questions with, provided help to, received help from, etc.).\n",
    "\n",
    "Our goal is to create an honest, collaborative, and positive learning environment. Keep\n",
    "in mind that while collaboration in lab and homework is strongly encouraged, the work\n",
    "you submitted must be your own (you typed them up yourself; you can explain what you\n",
    "submitted). Your goal is to use the help and support to eventually understand the ideas\n",
    "and the methods yourself"
   ]
  },
  {
   "cell_type": "markdown",
   "id": "b866713d",
   "metadata": {},
   "source": [
    "**Name and NetID:**\n",
    "\n",
    "\n",
    "**Collaborators:**"
   ]
  },
  {
   "cell_type": "markdown",
   "id": "77222ab9",
   "metadata": {},
   "source": [
    "## Part 1: Bootstrap practice"
   ]
  },
  {
   "cell_type": "markdown",
   "id": "126fffba",
   "metadata": {},
   "source": [
    "### Exercise 1: Zoombinis again\n",
    "- Load the `zoombinis.csv` data set from the shared data folder. For the purposes of this worksheet, this data set contains **all** the Zoombinis in the universe. \n",
    "- Use `unique()` to list the different nose colors that occur in the zoombini population\n",
    "- Use `sample_n()` to create a data frame called `survey` that contains 500 randomly selected observations from the zoombinis data set."
   ]
  },
  {
   "cell_type": "code",
   "execution_count": null,
   "id": "af5e620f",
   "metadata": {},
   "outputs": [],
   "source": []
  },
  {
   "cell_type": "markdown",
   "id": "621e254a",
   "metadata": {},
   "source": [
    "### Exercise 2: Green noses\n",
    "- Find the proportion of the zoombinis with green noses in your survey and compare it with that of the whole zoombini population."
   ]
  },
  {
   "cell_type": "code",
   "execution_count": null,
   "id": "5c5ffa39",
   "metadata": {},
   "outputs": [],
   "source": []
  },
  {
   "cell_type": "markdown",
   "id": "4002dc5b",
   "metadata": {},
   "source": [
    "### Exercise 3: Bootstrapped data\n",
    "- Compute the total number of observations that will result from running 5000 bootstrap trials on your survey data. Store the value in a variable called `total`.\n",
    "- Select only the nose column from the survey data.\n",
    "- Use `sample_n` to randomly choose all of the observations for 5000 bootstrap trials on the selected survey data. Store the data in a single data frame called `all_samples`. \n",
    "- Create a column called `trial` in `all_samples` that labels each observation with a trial number. \n",
    "- Verify that `all_samples` contains the expected information by viewing the first 3 rows and checking that the maximum value in the trial column is 5000."
   ]
  },
  {
   "cell_type": "code",
   "execution_count": null,
   "id": "5944d52b",
   "metadata": {},
   "outputs": [],
   "source": []
  },
  {
   "cell_type": "markdown",
   "id": "981c75a9",
   "metadata": {},
   "source": [
    "### Exercise 4: Summary table\n",
    "- Create a summary table from the `all_samples` data frame that contains the following columns:\n",
    "    - `trial` the trial number\n",
    "    - `count` the number of observations in the trial\n",
    "    - `prop_green` the proportion of the Zoombinis in the trial with green noses\n",
    "- Store the summary table in a variable called `bootstrap`.\n",
    "- Look at the first three rows of the summary table to verify that it contains the expected data.\n",
    "- Use `unique()` to verify that all of the trials contain 500 observations"
   ]
  },
  {
   "cell_type": "code",
   "execution_count": null,
   "id": "e69bdf11",
   "metadata": {},
   "outputs": [],
   "source": []
  },
  {
   "cell_type": "markdown",
   "id": "399102bf",
   "metadata": {},
   "source": [
    "### Exercise 5: Visualize the distribution averages\n",
    "- Create a histogram with 25 bins that shows the distribution of the proportions of green noses in `bootstrap`.\n",
    "- Verify that the distribution looks normal.\n",
    "- Make your plot aesthetically pleasing by adding \n",
    "    + a title\n",
    "    + axis labels\n",
    "    + a theme\n",
    "    + making the borders of the rectangle white"
   ]
  },
  {
   "cell_type": "code",
   "execution_count": null,
   "id": "cca3b792",
   "metadata": {},
   "outputs": [],
   "source": []
  }
 ],
 "metadata": {
  "celltoolbar": "Edit Metadata",
  "kernelspec": {
   "display_name": "R",
   "language": "R",
   "name": "ir"
  },
  "language_info": {
   "codemirror_mode": "r",
   "file_extension": ".r",
   "mimetype": "text/x-r-source",
   "name": "R",
   "pygments_lexer": "r",
   "version": "4.0.5"
  }
 },
 "nbformat": 4,
 "nbformat_minor": 5
}
