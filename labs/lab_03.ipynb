{
 "cells": [
  {
   "cell_type": "markdown",
   "id": "3c7f42ee",
   "metadata": {},
   "source": [
    "(lab03)=\n",
    "# Lab 3 Worksheet"
   ]
  },
  {
   "cell_type": "markdown",
   "id": "ce4e5fff",
   "metadata": {},
   "source": [
    "## Name, NetID, Collaborators\n",
    "Please edit the markdown cell below for “Names & NetIDs” and enter:\n",
    "- Your name and NetID (eg. cc5948), and\n",
    "- The names and NetIDs of everyone with whom you have collaborated with (e.g., discussed\n",
    "questions with, provided help to, received help from, etc.).\n",
    "\n",
    "Our goal is to create an honest, collaborative, and positive learning environment. Keep\n",
    "in mind that while collaboration in lab and homework is strongly encouraged, the work\n",
    "you submitted must be your own (you typed them up yourself; you can explain what you\n",
    "submitted). Your goal is to use the help and support to eventually understand the ideas\n",
    "and the methods yourself"
   ]
  },
  {
   "cell_type": "markdown",
   "id": "b866713d",
   "metadata": {},
   "source": [
    "**Name and NetID:**\n",
    "\n",
    "\n",
    "**Collaborators:**"
   ]
  },
  {
   "cell_type": "markdown",
   "id": "af9749a5",
   "metadata": {},
   "source": [
    "## Part 1: Manhattan restaurant inspections\n",
    "The New York City Department of Health regularly inspects restaurants. Each restaurant is given a score and the scores are converted to letter grades in the following way:\n",
    "- A score of less than 14 points results in an “A” grade.\n",
    "- A score of 14-27 points means a restaurant receives a “B” grade.\n",
    "- A score of 28 or more points means a restaurant receives a “C” grade.\n",
    "\n",
    "Restaurants are required to display their letter grade using one of these color coded signs:\n",
    "\n",
    "<img src='../img/NYC_restaurant_grades.jpeg' alt='blue A, green B, gold C' width=400>"
   ]
  },
  {
   "cell_type": "markdown",
   "id": "4002dc5b",
   "metadata": {},
   "source": [
    "### Exercise 1: Load and clean data\n",
    "\n",
    "The `Manhattan_restaurant_inspections.csv` data set in the shared data folder contains an excerpt of the [NYC Restaurant Inspection Results](https://data.cityofnewyork.us/Health/DOHMH-New-York-City-Restaurant-Inspection-Results/43nn-pn8j). As the name indicates, all restaurants in this data set are on Manhattan.\n",
    "\n",
    "- Import the Manhattan restaurant inspection data **from the local file** and store it as a data frame called `restaurants`.\n",
    "- Use `unique()` to view all the different inspection scores in the data set. Notice that NA is in this list; NA indicates that a value is 'Not Available' meaning there is no entry in that position in the data frame.\n",
    "- Use the following pattern to remove the observations with no score. Store the result in `restaurants`. \n",
    "\n",
    "``` filter( DATA_FRAME, !is.na( COLUMN ) )```\n",
    "\n",
    "- In a markdown cell, explain why this pattern works.\n",
    "\n",
    "Hint: `is.na()` is a new function; try reading its documentation. The examples at the end of the documentation are particularly helpful.\n"
   ]
  },
  {
   "cell_type": "code",
   "execution_count": null,
   "id": "2dce1209",
   "metadata": {},
   "outputs": [],
   "source": []
  },
  {
   "cell_type": "markdown",
   "id": "6a74b0ec",
   "metadata": {},
   "source": []
  },
  {
   "cell_type": "markdown",
   "id": "1190964b",
   "metadata": {},
   "source": [
    "### Exercise 2: Distribution of scores\n",
    "\n",
    "- Create a histogram showing the distribution of inspection scores in `restaurants`. \n",
    "- Add layers and options to your plot so that it has each of the following features:\n",
    "    * Histogram has 25 bins.\n",
    "    * Border of the rectangles is white so that you can see where one starts and the next begins.\n",
    "    * Color on the inside of the rectangles corresponds to that of the letter grade sign.\n",
    "    * The plot has a descriptive title.\n",
    "    * Both axes have descriptive labels.\n",
    "    * The legend for the colors has a descriptive label.\n",
    "    * The plot has a classic theme.\n",
    "    * The font sizes are 3 points larger than the default."
   ]
  },
  {
   "cell_type": "code",
   "execution_count": null,
   "id": "493e358e",
   "metadata": {},
   "outputs": [],
   "source": []
  },
  {
   "cell_type": "markdown",
   "id": "4b3cf3a6",
   "metadata": {},
   "source": [
    "### Exercise 3: Notice and wonder\n",
    "\n",
    "Consider the plot from the previous exercise. \n",
    "\n",
    "- Answer the following questions in a markdown cell.\n",
    "    * What does the plot make you notice about the data?\n",
    "    * What does the plot make you wonder about the data?\n"
   ]
  },
  {
   "cell_type": "markdown",
   "id": "9f8b6e8e",
   "metadata": {},
   "source": []
  },
  {
   "cell_type": "markdown",
   "id": "86a413bb",
   "metadata": {},
   "source": [
    "## Part 2: Favorite restaurant type"
   ]
  },
  {
   "cell_type": "markdown",
   "id": "df54f6c3",
   "metadata": {},
   "source": [
    "### Exercise 4: Mark your favorite\n",
    "\n",
    "- Choose your favorite of the cuisine types in `restaurants`. \n",
    "- Create a new column called `is_favorite` in the values should be `TRUE` for restaurants of your favorite type and `FALSE` for other types. \n",
    "- Sort `restaurants` so that your favorite cuisine type is at the end. \n",
    "- Use `tail()` to view the last few rows of the data frame and verify that they are all of your favorite type."
   ]
  },
  {
   "cell_type": "code",
   "execution_count": null,
   "id": "c04afe58",
   "metadata": {},
   "outputs": [],
   "source": []
  },
  {
   "cell_type": "markdown",
   "id": "513e7612",
   "metadata": {},
   "source": [
    "### Exercise 5: Visualize the locations\n",
    "\n",
    "- Create a plot that shows the location of all of the restaurants.\n",
    "- Use color to indicate whether or not each restaurant is of your favorite type.\n",
    "- Improve your plot by adding the following features:\n",
    "     * Descriptive title, axis and legend labels\n",
    "     * A built-in theme with a grid background.\n",
    "     * Increased font size"
   ]
  },
  {
   "cell_type": "code",
   "execution_count": null,
   "id": "008c5a32",
   "metadata": {},
   "outputs": [],
   "source": []
  }
 ],
 "metadata": {
  "kernelspec": {
   "display_name": "R",
   "language": "R",
   "name": "ir"
  },
  "language_info": {
   "codemirror_mode": "r",
   "file_extension": ".r",
   "mimetype": "text/x-r-source",
   "name": "R",
   "pygments_lexer": "r",
   "version": "4.0.5"
  }
 },
 "nbformat": 4,
 "nbformat_minor": 5
}
