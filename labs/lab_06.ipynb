{
 "cells": [
  {
   "cell_type": "markdown",
   "id": "3c7f42ee",
   "metadata": {},
   "source": [
    "(lab06)=\n",
    "# Lab 6 Worksheet"
   ]
  },
  {
   "cell_type": "markdown",
   "id": "ce4e5fff",
   "metadata": {},
   "source": [
    "## Name, NetID, Collaborators\n",
    "Please edit the markdown cell below for “Names & NetIDs” and enter:\n",
    "- Your name and NetID (eg. cc5948), and\n",
    "- The names and NetIDs of everyone with whom you have collaborated with (e.g., discussed\n",
    "questions with, provided help to, received help from, etc.).\n",
    "\n",
    "Our goal is to create an honest, collaborative, and positive learning environment. Keep\n",
    "in mind that while collaboration in lab and homework is strongly encouraged, the work\n",
    "you submitted must be your own (you typed them up yourself; you can explain what you\n",
    "submitted). Your goal is to use the help and support to eventually understand the ideas\n",
    "and the methods yourself"
   ]
  },
  {
   "cell_type": "markdown",
   "id": "b866713d",
   "metadata": {},
   "source": [
    "**Name and NetID:**\n",
    "\n",
    "\n",
    "**Collaborators:**"
   ]
  },
  {
   "cell_type": "markdown",
   "id": "77222ab9",
   "metadata": {},
   "source": [
    "## Part 1: Work by hand"
   ]
  },
  {
   "cell_type": "markdown",
   "id": "126fffba",
   "metadata": {},
   "source": [
    "### Exercise 1: Accuracy Type\n",
    "Complete the table by hand. "
   ]
  },
  {
   "cell_type": "markdown",
   "id": "ca4d6fd1",
   "metadata": {},
   "source": [
    "| Actual Status | Predicted Status | Accuracy Type |\n",
    "|---------------|-----------------|--------------|\n",
    "| infected      | infected        |              |\n",
    "| not infected  | not infected    |              |\n",
    "| not infected  | infected        |              |\n",
    "| not infected  | not infected    |              |\n",
    "| not infected  | infected        |              |\n",
    "| infected      | not infected    |              |\n",
    "| infected      | not infected    |              |\n",
    "| not infected  | infected        |              |\n",
    "| not infected  | not infected    |              |\n",
    "| not infected  | not infected    |              |"
   ]
  },
  {
   "cell_type": "markdown",
   "id": "621e254a",
   "metadata": {},
   "source": [
    "### Exercise 2: Metrics\n",
    "Based on the completed table, compute the following values\n",
    "- Accuracy = (# correct predictions) / (# of observations)\n",
    "- Precision = (# true positive predictions) / (# of positive predictions)\n",
    "- True positive rate = (# true positive predictions) / (# positive cases)\n",
    "- True negative rate  = (# true negative predictions) / (# negative cases)\n"
   ]
  },
  {
   "cell_type": "markdown",
   "id": "abfb4819",
   "metadata": {},
   "source": []
  },
  {
   "cell_type": "markdown",
   "id": "af9749a5",
   "metadata": {},
   "source": [
    "## Part 2: Use R"
   ]
  },
  {
   "cell_type": "markdown",
   "id": "4002dc5b",
   "metadata": {},
   "source": [
    "### Exercise 3: Make the data more human readable\n",
    "In the `covid_tests` data sets below zeros represent individuals who do not have an active infection and ones represent individuals who do. \n",
    "\n",
    "- Execute the cell below create the `covid_tests` data set. \n",
    "- Use `factor()` to make both of the variables easier to read. "
   ]
  },
  {
   "cell_type": "code",
   "execution_count": 5,
   "id": "dac3c8a8",
   "metadata": {
    "deletable": false,
    "editable": false
   },
   "outputs": [],
   "source": [
    "# You can not edit this cell\n",
    "covid_tests <- data.frame(\n",
    "    Actual_Status = c(1,0,1,0,0,0,0,0,0,1,1,1,0,0,0),\n",
    "    Predicted_Status = c(1,1,0,1,1,1,0,1,0,1,0,0,0,0,0)\n",
    ")"
   ]
  },
  {
   "cell_type": "code",
   "execution_count": null,
   "id": "28b6722b",
   "metadata": {},
   "outputs": [],
   "source": []
  },
  {
   "cell_type": "markdown",
   "id": "1190964b",
   "metadata": {},
   "source": [
    "### Exercise 4: Accuracy type with a function\n",
    "\n",
    "- Create a function that determines the accuracy type of an observation in the `covid_tests`.\n",
    "- Verify that your function has the expected output for all four accuracy types."
   ]
  },
  {
   "cell_type": "code",
   "execution_count": null,
   "id": "17041c8a",
   "metadata": {},
   "outputs": [],
   "source": []
  },
  {
   "cell_type": "markdown",
   "id": "399102bf",
   "metadata": {},
   "source": [
    "### Exercise 5: Accuracy type column\n",
    "- Use your function from the previous exercise, to add a column called `Accuracy_Type` to `covid_test`.\n",
    "- Output the updated data frame and verify that your code had the expected result."
   ]
  },
  {
   "cell_type": "code",
   "execution_count": null,
   "id": "0f8e8614",
   "metadata": {},
   "outputs": [],
   "source": []
  }
 ],
 "metadata": {
  "celltoolbar": "Edit Metadata",
  "kernelspec": {
   "display_name": "R",
   "language": "R",
   "name": "ir"
  },
  "language_info": {
   "codemirror_mode": "r",
   "file_extension": ".r",
   "mimetype": "text/x-r-source",
   "name": "R",
   "pygments_lexer": "r",
   "version": "4.0.5"
  }
 },
 "nbformat": 4,
 "nbformat_minor": 5
}
