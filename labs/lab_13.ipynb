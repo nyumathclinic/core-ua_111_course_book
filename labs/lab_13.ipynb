{
 "cells": [
  {
   "cell_type": "markdown",
   "id": "3c7f42ee",
   "metadata": {},
   "source": [
    "(lab13)=\n",
    "# Lab 13 Worksheet"
   ]
  },
  {
   "cell_type": "markdown",
   "id": "ce4e5fff",
   "metadata": {},
   "source": [
    "## Name, NetID, Collaborators\n",
    "Please edit the markdown cell below for “Names & NetIDs” and enter:\n",
    "- Your name and NetID (eg. cc5948), and\n",
    "- The names and NetIDs of everyone with whom you have collaborated with (e.g., discussed\n",
    "questions with, provided help to, received help from, etc.).\n",
    "\n",
    "Our goal is to create an honest, collaborative, and positive learning environment. Keep\n",
    "in mind that while collaboration in lab and homework is strongly encouraged, the work\n",
    "you submitted must be your own (you typed them up yourself; you can explain what you\n",
    "submitted). Your goal is to use the help and support to eventually understand the ideas\n",
    "and the methods yourself"
   ]
  },
  {
   "cell_type": "markdown",
   "id": "b866713d",
   "metadata": {},
   "source": [
    "**Name and NetID:**\n",
    "\n",
    "\n",
    "**Collaborators:**"
   ]
  },
  {
   "cell_type": "markdown",
   "id": "77222ab9",
   "metadata": {},
   "source": [
    "## Part 1: p-values"
   ]
  },
  {
   "cell_type": "markdown",
   "id": "aec32d1f",
   "metadata": {},
   "source": [
    "### Exercise 1: Explain\n",
    "Explain in your own words why a small p-value indicates that the difference between the experimental data and the hypothesis is not due to randomness."
   ]
  },
  {
   "cell_type": "markdown",
   "id": "0eee9739",
   "metadata": {},
   "source": []
  },
  {
   "cell_type": "markdown",
   "id": "126fffba",
   "metadata": {},
   "source": [
    "### Exercise 2: Speculate\n",
    "The p-value computed in the [example in the course book](pvalue) indicates that the difference in racial demographics between NYC jury pools and NYC census data are not due to randomness. List three reasons that such a difference might exist.\n"
   ]
  },
  {
   "cell_type": "markdown",
   "id": "e73b8ae4",
   "metadata": {},
   "source": []
  },
  {
   "cell_type": "markdown",
   "id": "52aede3c",
   "metadata": {},
   "source": [
    "## Part 2: Simulations"
   ]
  },
  {
   "cell_type": "markdown",
   "id": "621e254a",
   "metadata": {},
   "source": [
    "### Exercise 3: Primary colors\n",
    "- Create a data frame called `primary_colors` that contains one column called `color` with the values `red`, `blue` and `yellow`.\n",
    "- Use sample_n() to randomly select two different colors. Do this at least three times so that you can see the randomness."
   ]
  },
  {
   "cell_type": "markdown",
   "id": "3538ec10",
   "metadata": {},
   "source": [
    "### Exercise 4:  Fair coin flip\n",
    "- Create a data frame called `coin` that contains a single column called `side` with the values `heads` and `tails`. \n",
    "- Use sample_n() to simulate flipping the coin 100 times.\n",
    "- What percentage of your coin flips were heads?"
   ]
  },
  {
   "cell_type": "code",
   "execution_count": null,
   "id": "d9b89c48",
   "metadata": {},
   "outputs": [],
   "source": []
  },
  {
   "cell_type": "markdown",
   "id": "28efbf86",
   "metadata": {},
   "source": []
  },
  {
   "cell_type": "markdown",
   "id": "4002dc5b",
   "metadata": {},
   "source": [
    "### Exercise 5: Unfair coin flip\n",
    "- Use `sample_n()` and `coin` to simulated 100 flips of an unfair coin that comes up heads 25% of the time and tails 75% of the time. \n",
    "- What percentage of your coin flips were heads?"
   ]
  },
  {
   "cell_type": "code",
   "execution_count": null,
   "id": "82867382",
   "metadata": {},
   "outputs": [],
   "source": []
  },
  {
   "cell_type": "markdown",
   "id": "dd6506de",
   "metadata": {},
   "source": []
  }
 ],
 "metadata": {
  "celltoolbar": "Edit Metadata",
  "kernelspec": {
   "display_name": "R",
   "language": "R",
   "name": "ir"
  },
  "language_info": {
   "codemirror_mode": "r",
   "file_extension": ".r",
   "mimetype": "text/x-r-source",
   "name": "R",
   "pygments_lexer": "r",
   "version": "4.0.5"
  }
 },
 "nbformat": 4,
 "nbformat_minor": 5
}
