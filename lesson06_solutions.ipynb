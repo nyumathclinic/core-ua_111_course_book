{
 "cells": [
  {
   "cell_type": "markdown",
   "metadata": {},
   "source": [
    "# Lesson 6 -  Solutions\n",
    "These exercises are to help you check your understanding during class. They will not be collected."
   ]
  },
  {
   "cell_type": "markdown",
   "metadata": {},
   "source": [
    "## Part 1 - Review and setup "
   ]
  },
  {
   "cell_type": "markdown",
   "metadata": {},
   "source": [
    "### Exercise 1 - Review\n",
    "\n",
    "There is a CSV file called `NYC_Tree_Census_small.csv` in the `~/shared/data` folder. This file contains information about the trees in New York City in 2015. This data comes from the [NYC OpenData project](https://opendata.cityofnewyork.us/).\n",
    "\n",
    "One of the variables in the tree census data is health. This is a categorical variaple that indicates how healthy the tree is. \n",
    "\n",
    "- Load the dplyr package.\n",
    "- Import the NYC tree census data and store it as a data frame called nyc_trees.\n",
    "- Look at the first three rows of `nyc_trees` to verify that it imported successfully and to get a sense of the data. "
   ]
  },
  {
   "cell_type": "code",
   "execution_count": 2,
   "metadata": {},
   "outputs": [
    {
     "name": "stderr",
     "output_type": "stream",
     "text": [
      "Warning message in file(file, \"rt\"):\n",
      "“cannot open file '/home/instructor/shared/data/NYC_Tree_Census_small.csv': No such file or directory”\n"
     ]
    },
    {
     "ename": "ERROR",
     "evalue": "Error in file(file, \"rt\"): cannot open the connection\n",
     "output_type": "error",
     "traceback": [
      "Error in file(file, \"rt\"): cannot open the connection\nTraceback:\n",
      "1. read.csv(\"~/shared/data/NYC_Tree_Census_small.csv\")",
      "2. read.table(file = file, header = header, sep = sep, quote = quote, \n .     dec = dec, fill = fill, comment.char = comment.char, ...)",
      "3. file(file, \"rt\")"
     ]
    }
   ],
   "source": [
    "# import the data\n",
    "nyc_trees <- read.csv('~/shared/data/NYC_Tree_Census_small.csv')\n",
    "\n",
    "# load the dplyr package\n",
    "library(dplyr)\n",
    "\n",
    "head(nyc_trees, 3)"
   ]
  },
  {
   "cell_type": "markdown",
   "metadata": {},
   "source": [
    "## Exercise 2 - Tree diameters\n",
    "According to the [NYC Tree Census documentation](https://data.cityofnewyork.us/api/views/pi5s-9p35/files/2e1e0292-20b4-4678-bea5-6936180074b3?download=true&filename=StreetTreeCensus2015TreesDataDictionary20161102.pdf), 'status' variable has three possible values: `\"Alive\"`, `\"Dead\"` and `\"Stump\"`. The `tree_dbh` variable contains the diameter of the living trees measured at approximately 54 inches above the ground. The diameters are rounded to the nearest whole inch. \n",
    "\n",
    "- Use `filter()` to extract just the living trees from the data frame. Store the extracted data in a data frame called `live_trees`.\n",
    "- What is the maximum diameter of a living tree? What is the minimum diameter of a living tree?"
   ]
  },
  {
   "cell_type": "code",
   "execution_count": 15,
   "metadata": {},
   "outputs": [
    {
     "data": {
      "text/html": [
       "64"
      ],
      "text/latex": [
       "64"
      ],
      "text/markdown": [
       "64"
      ],
      "text/plain": [
       "[1] 64"
      ]
     },
     "metadata": {},
     "output_type": "display_data"
    },
    {
     "data": {
      "text/html": [
       "0"
      ],
      "text/latex": [
       "0"
      ],
      "text/markdown": [
       "0"
      ],
      "text/plain": [
       "[1] 0"
      ]
     },
     "metadata": {},
     "output_type": "display_data"
    }
   ],
   "source": [
    "# Filter data\n",
    "live_trees <- filter(nyc_trees, status == \"Alive\")\n",
    "\n",
    "# Find maximum and minimum diameters\n",
    "max(live_trees$tree_dbh)\n",
    "min(live_trees$tree_dbh)"
   ]
  },
  {
   "cell_type": "markdown",
   "metadata": {},
   "source": [
    "The maximum diameter of a living tree is 64 inches. The minimum diameter is 0 inches. This is possible if the diameter was measured at under half an inch and then rounded down or if the tree was less than 54 inches tall."
   ]
  },
  {
   "cell_type": "markdown",
   "metadata": {},
   "source": [
    "### Exercise 3 - Tree health numbers\n",
    "The `health` variable has four possible values: `\"Good\"`, `\"Fair\"`, `\"Poor\"`, and `\"\"`, The blank entries correspond to stumps and dead trees. \n",
    "\n",
    "- Use the ```group_by()``` and ```summarize()``` functions to determine how many of the living trees were recorded with each level of health."
   ]
  },
  {
   "cell_type": "code",
   "execution_count": 7,
   "metadata": {},
   "outputs": [
    {
     "data": {
      "text/html": [
       "<table>\n",
       "<thead><tr><th scope=col>health</th><th scope=col>Number_of_Trees</th></tr></thead>\n",
       "<tbody>\n",
       "\t<tr><td>Good</td><td>7778</td></tr>\n",
       "\t<tr><td>Fair</td><td>1413</td></tr>\n",
       "\t<tr><td>Poor</td><td> 373</td></tr>\n",
       "</tbody>\n",
       "</table>\n"
      ],
      "text/latex": [
       "\\begin{tabular}{r|ll}\n",
       " health & Number\\_of\\_Trees\\\\\n",
       "\\hline\n",
       "\t Good & 7778\\\\\n",
       "\t Fair & 1413\\\\\n",
       "\t Poor &  373\\\\\n",
       "\\end{tabular}\n"
      ],
      "text/markdown": [
       "\n",
       "| health | Number_of_Trees |\n",
       "|---|---|\n",
       "| Good | 7778 |\n",
       "| Fair | 1413 |\n",
       "| Poor |  373 |\n",
       "\n"
      ],
      "text/plain": [
       "  health Number_of_Trees\n",
       "1 Good   7778           \n",
       "2 Fair   1413           \n",
       "3 Poor    373           "
      ]
     },
     "metadata": {},
     "output_type": "display_data"
    }
   ],
   "source": [
    "# Group and summarize\n",
    "live_trees <- group_by(live_trees, health)\n",
    "summarize(live_trees, Number_of_Trees = n()) # n() count number of obs in group"
   ]
  },
  {
   "cell_type": "code",
   "execution_count": 5,
   "metadata": {},
   "outputs": [],
   "source": [
    "# Extra. This command tells R how to order the three possible values in the health column. \n",
    "live_trees <- ungroup(live_trees)\n",
    "live_trees <- mutate(live_trees, health = factor(health, levels=c(\"Good\", \"Fair\", \"Poor\")))"
   ]
  },
  {
   "cell_type": "markdown",
   "metadata": {},
   "source": [
    "## Part 2 - Bar charts"
   ]
  },
  {
   "cell_type": "markdown",
   "metadata": {},
   "source": [
    "### Exercise 4 - Meet the functions\n",
    "\n",
    " - Load the ```ggplot2``` package by excuting the ```library('ggplot2')``` command. You can ignore the warning about overwritten methods.\n",
    " - Look at the documentation for the ```ggplot()``` function. What is the first argument (a.k.a input) that this functions take?\n",
    " - Look at the documentation for the ```aes()``` function. What term is \"aes\" a shorting of?"
   ]
  },
  {
   "cell_type": "code",
   "execution_count": 9,
   "metadata": {
    "scrolled": true
   },
   "outputs": [
    {
     "name": "stderr",
     "output_type": "stream",
     "text": [
      "Registered S3 methods overwritten by 'ggplot2':\n",
      "  method         from \n",
      "  [.quosures     rlang\n",
      "  c.quosures     rlang\n",
      "  print.quosures rlang\n"
     ]
    }
   ],
   "source": [
    "# Load ggplot\n",
    "library('ggplot2')"
   ]
  },
  {
   "cell_type": "code",
   "execution_count": null,
   "metadata": {},
   "outputs": [],
   "source": [
    "# View documentation for ggplot\n",
    "?ggplot"
   ]
  },
  {
   "cell_type": "markdown",
   "metadata": {},
   "source": [
    "The first argument is the data frame."
   ]
  },
  {
   "cell_type": "code",
   "execution_count": 6,
   "metadata": {},
   "outputs": [],
   "source": [
    " # view documentation for aes\n",
    "?aes"
   ]
  },
  {
   "cell_type": "markdown",
   "metadata": {},
   "source": [
    "\"aes\" is short for aesthetic mapping"
   ]
  },
  {
   "cell_type": "markdown",
   "metadata": {},
   "source": [
    "### Exercise 5 - Health Bars\n",
    "\n",
    "The goal of this exercise is to produce a visual representation of the information in the summarize table from exercise 3.\n",
    "\n",
    "- Execute the code in the first cell below to tell R to our prefered dimmensions for plots.\n",
    "- Replace the words in all caps in the second cell below so that it produce a bar chart that shows the number of trees with each level of health. "
   ]
  },
  {
   "cell_type": "code",
   "execution_count": 10,
   "metadata": {},
   "outputs": [],
   "source": [
    "# Resizes all plots to 5 in by 4 in\n",
    "library(repr)\n",
    "options(repr.plot.width=4, repr.plot.height=3)"
   ]
  },
  {
   "cell_type": "code",
   "execution_count": 11,
   "metadata": {
    "scrolled": true
   },
   "outputs": [
    {
     "data": {
      "image/png": "[encoded data removed]",
      "text/plain": [
       "plot without title"
      ]
     },
     "metadata": {},
     "output_type": "display_data"
    }
   ],
   "source": [
    "ggplot(live_trees, aes(x = health)) + geom_bar()"
   ]
  },
  {
   "cell_type": "markdown",
   "metadata": {},
   "source": [
    "### Exercise 6 - Trees by borough\n",
    "- Use the documentation linked above, the `names()` function or the `str()` function to determine the name of the variable in the nyc_trees dataframe that records the borough that the tree is in. \n",
    "- Create a bar chart that shows the number of living trees in each borough.\n",
    "\n",
    "Hint: There are multiple columns with information about the borough. Choose the one that is most human readable."
   ]
  },
  {
   "cell_type": "markdown",
   "metadata": {},
   "source": [
    "The `boroname` variable indicates in which borough the tree is located."
   ]
  },
  {
   "cell_type": "code",
   "execution_count": 16,
   "metadata": {},
   "outputs": [],
   "source": [
    "live_trees <- ungroup(live_trees)\n",
    "live_trees <- mutate(live_trees, boroname = factor(boroname, levels=c(\"Manhattan\", \"Brooklyn\", \"Bronx\", \"Queens\", \"Staten Island\")))"
   ]
  },
  {
   "cell_type": "code",
   "execution_count": 17,
   "metadata": {
    "scrolled": true
   },
   "outputs": [
    {
     "data": {
      "image/png": "[encoded data removed]",
      "text/plain": [
       "plot without title"
      ]
     },
     "metadata": {},
     "output_type": "display_data"
    }
   ],
   "source": [
    "ggplot(live_trees, aes(x = boroname)) + geom_bar()"
   ]
  },
  {
   "cell_type": "markdown",
   "metadata": {},
   "source": [
    "## Part 3 - Histograms"
   ]
  },
  {
   "cell_type": "markdown",
   "metadata": {},
   "source": [
    "### Exercise 7 - Tree diameters\n",
    "- Replace the words in all caps in the command below so that it produce a histogram of the diameters of the living trees broken into four bins. You can think of these groups as small medem, large and extra large.\n",
    "- In a new code cell, generate a second histogram with the diameters of the living trees broken into 20 bins. "
   ]
  },
  {
   "cell_type": "code",
   "execution_count": 18,
   "metadata": {},
   "outputs": [
    {
     "data": {
      "image/png": "[encoded data removed]",
      "text/plain": [
       "plot without title"
      ]
     },
     "metadata": {},
     "output_type": "display_data"
    }
   ],
   "source": [
    "ggplot(live_trees, aes(x = tree_dbh)) + geom_histogram(bins= 4)"
   ]
  },
  {
   "cell_type": "code",
   "execution_count": 37,
   "metadata": {},
   "outputs": [
    {
     "data": {
      "image/png": "[encoded data removed]",
      "text/plain": [
       "plot without title"
      ]
     },
     "metadata": {
      "image/png": {
       "height": 240,
       "width": 300
      }
     },
     "output_type": "display_data"
    }
   ],
   "source": [
    "ggplot(live_trees, aes(x = tree_dbh)) + geom_histogram(bins= 20)"
   ]
  },
  {
   "cell_type": "markdown",
   "metadata": {},
   "source": [
    "### Exercise 8 - Stump diameters\n",
    "The `stump_diam` variable contains the diameters of the stumpts rouned to the nearest inch. \n",
    "\n",
    "- Create a histogram of the tree diameters of the stumps broken into 20 bins.\n",
    "- How does this distribuition compare to that for the living trees?"
   ]
  },
  {
   "cell_type": "code",
   "execution_count": 19,
   "metadata": {},
   "outputs": [
    {
     "data": {
      "image/png": "[encoded data removed]",
      "text/plain": [
       "plot without title"
      ]
     },
     "metadata": {},
     "output_type": "display_data"
    }
   ],
   "source": [
    "stumps <- filter(nyc_trees, status==\"Stump\")\n",
    "ggplot(stumps, aes(x = stump_diam)) + geom_histogram(bins= 20)"
   ]
  },
  {
   "cell_type": "markdown",
   "metadata": {},
   "source": [
    "A higher proportion of the stumpts have larger diameters. This makes sense and stumps are more likely to come from older thicker trees. "
   ]
  },
  {
   "cell_type": "markdown",
   "metadata": {},
   "source": [
    "## Examples from notes"
   ]
  },
  {
   "cell_type": "code",
   "execution_count": 42,
   "metadata": {},
   "outputs": [
    {
     "data": {
      "text/html": [
       "<table>\n",
       "<caption>A data.frame: 3 × 12</caption>\n",
       "<thead>\n",
       "\t<tr><th></th><th scope=col>X</th><th scope=col>RowNumber</th><th scope=col>AnimalName</th><th scope=col>AnimalGender</th><th scope=col>AnimalBirthYear</th><th scope=col>BreedName</th><th scope=col>Borough</th><th scope=col>ZipCode</th><th scope=col>LicenseIssuedDate</th><th scope=col>LicenseExpiredDate</th><th scope=col>Extract.Year</th><th scope=col>Age</th></tr>\n",
       "\t<tr><th></th><th scope=col>&lt;int&gt;</th><th scope=col>&lt;int&gt;</th><th scope=col>&lt;fct&gt;</th><th scope=col>&lt;fct&gt;</th><th scope=col>&lt;int&gt;</th><th scope=col>&lt;fct&gt;</th><th scope=col>&lt;lgl&gt;</th><th scope=col>&lt;int&gt;</th><th scope=col>&lt;fct&gt;</th><th scope=col>&lt;fct&gt;</th><th scope=col>&lt;int&gt;</th><th scope=col>&lt;dbl&gt;</th></tr>\n",
       "</thead>\n",
       "<tbody>\n",
       "\t<tr><th scope=row>1</th><td>1</td><td>34510</td><td>ESCO</td><td>F</td><td>2015</td><td>Pekingese           </td><td>NA</td><td>10012</td><td>12/15/2015</td><td>2021-12-12</td><td>2016</td><td> 6</td></tr>\n",
       "\t<tr><th scope=row>2</th><td>2</td><td>37953</td><td>FLAX</td><td>M</td><td>2011</td><td>Portuguese Water Dog</td><td>NA</td><td>10012</td><td>01/13/2016</td><td>2021-03-05</td><td>2016</td><td>10</td></tr>\n",
       "\t<tr><th scope=row>3</th><td>3</td><td>43865</td><td>ZOE </td><td>F</td><td>2013</td><td>Maltese             </td><td>NA</td><td>10014</td><td>02/15/2016</td><td>2021-02-15</td><td>2016</td><td> 8</td></tr>\n",
       "</tbody>\n",
       "</table>\n"
      ],
      "text/latex": [
       "A data.frame: 3 × 12\n",
       "\\begin{tabular}{r|llllllllllll}\n",
       "  & X & RowNumber & AnimalName & AnimalGender & AnimalBirthYear & BreedName & Borough & ZipCode & LicenseIssuedDate & LicenseExpiredDate & Extract.Year & Age\\\\\n",
       "  & <int> & <int> & <fct> & <fct> & <int> & <fct> & <lgl> & <int> & <fct> & <fct> & <int> & <dbl>\\\\\n",
       "\\hline\n",
       "\t1 & 1 & 34510 & ESCO & F & 2015 & Pekingese            & NA & 10012 & 12/15/2015 & 2021-12-12 & 2016 &  6\\\\\n",
       "\t2 & 2 & 37953 & FLAX & M & 2011 & Portuguese Water Dog & NA & 10012 & 01/13/2016 & 2021-03-05 & 2016 & 10\\\\\n",
       "\t3 & 3 & 43865 & ZOE  & F & 2013 & Maltese              & NA & 10014 & 02/15/2016 & 2021-02-15 & 2016 &  8\\\\\n",
       "\\end{tabular}\n"
      ],
      "text/markdown": [
       "\n",
       "A data.frame: 3 × 12\n",
       "\n",
       "| <!--/--> | X &lt;int&gt; | RowNumber &lt;int&gt; | AnimalName &lt;fct&gt; | AnimalGender &lt;fct&gt; | AnimalBirthYear &lt;int&gt; | BreedName &lt;fct&gt; | Borough &lt;lgl&gt; | ZipCode &lt;int&gt; | LicenseIssuedDate &lt;fct&gt; | LicenseExpiredDate &lt;fct&gt; | Extract.Year &lt;int&gt; | Age &lt;dbl&gt; |\n",
       "|---|---|---|---|---|---|---|---|---|---|---|---|---|\n",
       "| 1 | 1 | 34510 | ESCO | F | 2015 | Pekingese            | NA | 10012 | 12/15/2015 | 2021-12-12 | 2016 |  6 |\n",
       "| 2 | 2 | 37953 | FLAX | M | 2011 | Portuguese Water Dog | NA | 10012 | 01/13/2016 | 2021-03-05 | 2016 | 10 |\n",
       "| 3 | 3 | 43865 | ZOE  | F | 2013 | Maltese              | NA | 10014 | 02/15/2016 | 2021-02-15 | 2016 |  8 |\n",
       "\n"
      ],
      "text/plain": [
       "  X RowNumber AnimalName AnimalGender AnimalBirthYear BreedName           \n",
       "1 1 34510     ESCO       F            2015            Pekingese           \n",
       "2 2 37953     FLAX       M            2011            Portuguese Water Dog\n",
       "3 3 43865     ZOE        F            2013            Maltese             \n",
       "  Borough ZipCode LicenseIssuedDate LicenseExpiredDate Extract.Year Age\n",
       "1 NA      10012   12/15/2015        2021-12-12         2016          6 \n",
       "2 NA      10012   01/13/2016        2021-03-05         2016         10 \n",
       "3 NA      10014   02/15/2016        2021-02-15         2016          8 "
      ]
     },
     "metadata": {},
     "output_type": "display_data"
    }
   ],
   "source": [
    "nyc_dogs <- read.csv('../shared/data/NYC_Dog_Licensing.csv') \n",
    "nyc_dogs <- mutate(nyc_dogs, Age = 2021-AnimalBirthYear)\n",
    "head(nyc_dogs, 3)"
   ]
  },
  {
   "cell_type": "code",
   "execution_count": 43,
   "metadata": {},
   "outputs": [
    {
     "data": {
      "image/png": "[encoded data removed]",
      "text/plain": [
       "plot without title"
      ]
     },
     "metadata": {
      "image/png": {
       "height": 240,
       "width": 300
      }
     },
     "output_type": "display_data"
    }
   ],
   "source": [
    "ggplot(nyc_dogs, aes(x=AnimalGender)) + geom_bar()"
   ]
  },
  {
   "cell_type": "code",
   "execution_count": 44,
   "metadata": {
    "scrolled": true
   },
   "outputs": [
    {
     "data": {
      "image/png": "[encoded data removed]",
      "text/plain": [
       "plot without title"
      ]
     },
     "metadata": {
      "image/png": {
       "height": 240,
       "width": 300
      }
     },
     "output_type": "display_data"
    }
   ],
   "source": [
    "ggplot(nyc_dogs, aes(x=Age)) + geom_histogram(bins=10)"
   ]
  }
 ],
 "metadata": {
  "kernelspec": {
   "display_name": "R [conda env:FDTD]",
   "language": "R",
   "name": "conda-env-FDTD-r"
  },
  "language_info": {
   "codemirror_mode": "r",
   "file_extension": ".r",
   "mimetype": "text/x-r-source",
   "name": "R",
   "pygments_lexer": "r",
   "version": "4.0.3"
  }
 },
 "nbformat": 4,
 "nbformat_minor": 4
}
