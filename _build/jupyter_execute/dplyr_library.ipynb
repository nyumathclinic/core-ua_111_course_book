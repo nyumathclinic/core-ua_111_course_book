{
 "cells": [
  {
   "cell_type": "markdown",
   "metadata": {},
   "source": [
    "# dplyr Library\n",
    "\n",
    "The dplyr library is part of a family of R packages called the [tidyverse](https://www.tidyverse.org/). \n",
    "\n",
    "See the [Data Transformations](https://r4ds.had.co.nz/transform.html) chapter of *R for Data Science* for more explanation. \n",
    "\n",
    "[R documentation page for dplyr](https://www.rdocumentation.org/packages/dplyr)."
   ]
  },
  {
   "cell_type": "code",
   "execution_count": 1,
   "metadata": {},
   "outputs": [
    {
     "name": "stderr",
     "output_type": "stream",
     "text": [
      "\n",
      "Attaching package: ‘dplyr’\n",
      "\n",
      "\n"
     ]
    },
    {
     "name": "stderr",
     "output_type": "stream",
     "text": [
      "The following objects are masked from ‘package:stats’:\n",
      "\n",
      "    filter, lag\n",
      "\n",
      "\n"
     ]
    },
    {
     "name": "stderr",
     "output_type": "stream",
     "text": [
      "The following objects are masked from ‘package:base’:\n",
      "\n",
      "    intersect, setdiff, setequal, union\n",
      "\n",
      "\n"
     ]
    }
   ],
   "source": [
    "# You can ignore the warning about objects from other libraries being masked.\n",
    "library(dplyr)"
   ]
  },
  {
   "cell_type": "code",
   "execution_count": 2,
   "metadata": {},
   "outputs": [
    {
     "ename": "ERROR",
     "evalue": "Error in parse(text = x, srcfile = src): <text>:2:38: unexpected ')'\n1: # The warn.conflicts=FALSE option supressess the warning about objects from other libraries being masked.\n2: library(dplyr, warn.conflicts=FALSE) )\n                                        ^\n",
     "output_type": "error",
     "traceback": [
      "Error in parse(text = x, srcfile = src): <text>:2:38: unexpected ')'\n1: # The warn.conflicts=FALSE option supressess the warning about objects from other libraries being masked.\n2: library(dplyr, warn.conflicts=FALSE) )\n                                        ^\nTraceback:\n"
     ]
    }
   ],
   "source": [
    "# The warn.conflicts=FALSE option supressess the warning about objects from other libraries being masked.\n",
    "library(dplyr, warn.conflicts=FALSE) )"
   ]
  },
  {
   "cell_type": "markdown",
   "metadata": {},
   "source": [
    "<div class=\"admonition note\" name=\"html-admonition\">\n",
    "<div class=\"title\" style=\"background: lightblue; padding: 10px\">Note</div>\n",
    "<p>If you try to execute a dplyr function before loading the library, you will get an error messages stating that R could not find the function.</p>\n",
    "</div>"
   ]
  },
  {
   "cell_type": "markdown",
   "metadata": {},
   "source": [
    "## mutate"
   ]
  },
  {
   "cell_type": "markdown",
   "metadata": {},
   "source": [
    "<div class=\"admonition warning\" name=\"html-admonition\">\n",
    "<div class=\"title\" style=\"background: pink; padding: 10px\">Warning</div>\n",
    "    <p>If you want to keep the updated dataframe that you produced with a dplyr function, then you must <b>store the output in a variable</b>.</p>\n",
    "    <code>VARIABLE  &#60;- mutate(DATAFRAME, NEW_COLUMN = FORMULA)</code>\n",
    "</div>"
   ]
  },
  {
   "cell_type": "code",
   "execution_count": null,
   "metadata": {},
   "outputs": [],
   "source": []
  },
  {
   "cell_type": "markdown",
   "metadata": {},
   "source": [
    "## arange"
   ]
  },
  {
   "cell_type": "code",
   "execution_count": null,
   "metadata": {},
   "outputs": [],
   "source": []
  },
  {
   "cell_type": "markdown",
   "metadata": {},
   "source": [
    "## filter"
   ]
  },
  {
   "cell_type": "code",
   "execution_count": null,
   "metadata": {},
   "outputs": [],
   "source": []
  },
  {
   "cell_type": "markdown",
   "metadata": {},
   "source": [
    "## group_by and summarize"
   ]
  },
  {
   "cell_type": "code",
   "execution_count": null,
   "metadata": {},
   "outputs": [],
   "source": []
  }
 ],
 "metadata": {
  "kernelspec": {
   "display_name": "R",
   "language": "R",
   "name": "ir"
  },
  "language_info": {
   "codemirror_mode": "r",
   "file_extension": ".r",
   "mimetype": "text/x-r-source",
   "name": "R",
   "pygments_lexer": "r",
   "version": "3.6.3"
  }
 },
 "nbformat": 4,
 "nbformat_minor": 4
}